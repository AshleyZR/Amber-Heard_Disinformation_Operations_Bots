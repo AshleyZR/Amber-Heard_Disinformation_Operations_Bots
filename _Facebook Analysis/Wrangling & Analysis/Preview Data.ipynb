{
 "cells": [
  {
   "cell_type": "markdown",
   "id": "539d1cac",
   "metadata": {},
   "source": [
    "Facebook data just has text, usernames, post its on, review it's on etc. We didn't get the timings or ids, or the total texts but tried to"
   ]
  },
  {
   "cell_type": "code",
   "execution_count": 1,
   "id": "6e928de5",
   "metadata": {},
   "outputs": [
    {
     "data": {
      "text/plain": [
       "<module 'helpers' from '/Users/mnagy99/jupyter/AH/Facebook/SNA-AH-Case-Facebook/Wrangling & Analysis/helpers.py'>"
      ]
     },
     "execution_count": 1,
     "metadata": {},
     "output_type": "execute_result"
    }
   ],
   "source": [
    "import pandas as pd\n",
    "import numpy as np\n",
    "import os\n",
    "\n",
    "import helpers\n",
    "\n",
    "# To Apply helpers updates without resarting the kernel\n",
    "import importlib\n",
    "importlib.reload(helpers)"
   ]
  },
  {
   "cell_type": "code",
   "execution_count": 2,
   "id": "439355c9",
   "metadata": {},
   "outputs": [
    {
     "name": "stdout",
     "output_type": "stream",
     "text": [
      "/Users/mnagy99/jupyter/AH/Facebook/SNA-AH-Case-Facebook/data\n"
     ]
    }
   ],
   "source": [
    "cd ../data"
   ]
  },
  {
   "cell_type": "code",
   "execution_count": 3,
   "id": "c8a159dd",
   "metadata": {},
   "outputs": [],
   "source": [
    "# data_files = [f for f in sorted(os.listdir()) if not f.startswith('.')]"
   ]
  },
  {
   "cell_type": "code",
   "execution_count": 4,
   "id": "904f8546",
   "metadata": {},
   "outputs": [],
   "source": [
    "csv_files = []\n",
    "for file in sorted(os.listdir()):\n",
    "    if file.split(\".\")[-1] == \"csv\":\n",
    "        csv_files.append(file)"
   ]
  },
  {
   "cell_type": "code",
   "execution_count": 5,
   "id": "cabf74c8",
   "metadata": {},
   "outputs": [
    {
     "data": {
      "text/plain": [
       "['From_Facebook_post_0.csv',\n",
       " 'From_Facebook_post_1.csv',\n",
       " 'From_Facebook_post_2.csv',\n",
       " 'From_Facebook_post_3.csv',\n",
       " 'From_Facebook_post_4.csv',\n",
       " 'From_Facebook_post_5.csv',\n",
       " 'From_Facebook_profile_review.csv',\n",
       " 'From_Facebook_searchurl_0.csv',\n",
       " '_all_data - NLU labeled train 12.4K.csv']"
      ]
     },
     "execution_count": 5,
     "metadata": {},
     "output_type": "execute_result"
    }
   ],
   "source": [
    "csv_files"
   ]
  },
  {
   "cell_type": "code",
   "execution_count": 6,
   "id": "33642242",
   "metadata": {},
   "outputs": [
    {
     "data": {
      "text/plain": [
       "9"
      ]
     },
     "execution_count": 6,
     "metadata": {},
     "output_type": "execute_result"
    }
   ],
   "source": [
    "len(csv_files)"
   ]
  },
  {
   "cell_type": "markdown",
   "id": "f3fc53df",
   "metadata": {},
   "source": [
    "<br>"
   ]
  },
  {
   "cell_type": "code",
   "execution_count": 7,
   "id": "82165020",
   "metadata": {},
   "outputs": [
    {
     "name": "stdout",
     "output_type": "stream",
     "text": [
      "(2386, 2)\n"
     ]
    },
    {
     "data": {
      "text/html": [
       "<div>\n",
       "<style scoped>\n",
       "    .dataframe tbody tr th:only-of-type {\n",
       "        vertical-align: middle;\n",
       "    }\n",
       "\n",
       "    .dataframe tbody tr th {\n",
       "        vertical-align: top;\n",
       "    }\n",
       "\n",
       "    .dataframe thead th {\n",
       "        text-align: right;\n",
       "    }\n",
       "</style>\n",
       "<table border=\"1\" class=\"dataframe\">\n",
       "  <thead>\n",
       "    <tr style=\"text-align: right;\">\n",
       "      <th></th>\n",
       "      <th>userName</th>\n",
       "      <th>comment</th>\n",
       "    </tr>\n",
       "  </thead>\n",
       "  <tbody>\n",
       "    <tr>\n",
       "      <th>0</th>\n",
       "      <td>Raychel RayRay</td>\n",
       "      <td>Skank</td>\n",
       "    </tr>\n",
       "    <tr>\n",
       "      <th>1</th>\n",
       "      <td>Rich Lawson</td>\n",
       "      <td>Not only are you a pretty rubbish actress you ...</td>\n",
       "    </tr>\n",
       "    <tr>\n",
       "      <th>2</th>\n",
       "      <td>Zeyneb Yusein</td>\n",
       "      <td>You're a shame and disgrace for your family, I...</td>\n",
       "    </tr>\n",
       "    <tr>\n",
       "      <th>3</th>\n",
       "      <td>William Mcneillie</td>\n",
       "      <td>😂 what's next in your game plan? Blame Arthur ...</td>\n",
       "    </tr>\n",
       "    <tr>\n",
       "      <th>4</th>\n",
       "      <td>Flash Garot</td>\n",
       "      <td>No one cares, you suck</td>\n",
       "    </tr>\n",
       "  </tbody>\n",
       "</table>\n",
       "</div>"
      ],
      "text/plain": [
       "            userName                                            comment\n",
       "0     Raychel RayRay                                              Skank\n",
       "1        Rich Lawson  Not only are you a pretty rubbish actress you ...\n",
       "2      Zeyneb Yusein  You're a shame and disgrace for your family, I...\n",
       "3  William Mcneillie  😂 what's next in your game plan? Blame Arthur ...\n",
       "4        Flash Garot                             No one cares, you suck"
      ]
     },
     "execution_count": 7,
     "metadata": {},
     "output_type": "execute_result"
    }
   ],
   "source": [
    "df_post0 = pd.read_csv(csv_files[0])\n",
    "print(df_post0.shape)\n",
    "df_post0.head()"
   ]
  },
  {
   "cell_type": "code",
   "execution_count": 8,
   "id": "8c857a6d",
   "metadata": {},
   "outputs": [
    {
     "data": {
      "text/plain": [
       "0"
      ]
     },
     "execution_count": 8,
     "metadata": {},
     "output_type": "execute_result"
    }
   ],
   "source": [
    "df_post0.duplicated().sum()"
   ]
  },
  {
   "cell_type": "code",
   "execution_count": 9,
   "id": "0b77d7a9",
   "metadata": {},
   "outputs": [
    {
     "name": "stdout",
     "output_type": "stream",
     "text": [
      "(452, 2)\n"
     ]
    },
    {
     "data": {
      "text/html": [
       "<div>\n",
       "<style scoped>\n",
       "    .dataframe tbody tr th:only-of-type {\n",
       "        vertical-align: middle;\n",
       "    }\n",
       "\n",
       "    .dataframe tbody tr th {\n",
       "        vertical-align: top;\n",
       "    }\n",
       "\n",
       "    .dataframe thead th {\n",
       "        text-align: right;\n",
       "    }\n",
       "</style>\n",
       "<table border=\"1\" class=\"dataframe\">\n",
       "  <thead>\n",
       "    <tr style=\"text-align: right;\">\n",
       "      <th></th>\n",
       "      <th>userName</th>\n",
       "      <th>comment</th>\n",
       "    </tr>\n",
       "  </thead>\n",
       "  <tbody>\n",
       "    <tr>\n",
       "      <th>0</th>\n",
       "      <td>Michelle Olmos</td>\n",
       "      <td>Shame on you for what you've done! Hate to be ...</td>\n",
       "    </tr>\n",
       "    <tr>\n",
       "      <th>1</th>\n",
       "      <td>Princess Cobain Hendrix</td>\n",
       "      <td>NOBODYEEE LIKES YOU!!!!!!</td>\n",
       "    </tr>\n",
       "    <tr>\n",
       "      <th>2</th>\n",
       "      <td>Eric Harms</td>\n",
       "      <td>Beats her husband. Faked a virtual signaling b...</td>\n",
       "    </tr>\n",
       "    <tr>\n",
       "      <th>3</th>\n",
       "      <td>Kathy Ann</td>\n",
       "      <td>Wow, just happened to come her thou A. says sh...</td>\n",
       "    </tr>\n",
       "    <tr>\n",
       "      <th>4</th>\n",
       "      <td>Makayla Montgomery</td>\n",
       "      <td>Every time I see her face I literally am disgu...</td>\n",
       "    </tr>\n",
       "  </tbody>\n",
       "</table>\n",
       "</div>"
      ],
      "text/plain": [
       "                  userName                                            comment\n",
       "0           Michelle Olmos  Shame on you for what you've done! Hate to be ...\n",
       "1  Princess Cobain Hendrix                          NOBODYEEE LIKES YOU!!!!!!\n",
       "2               Eric Harms  Beats her husband. Faked a virtual signaling b...\n",
       "3                Kathy Ann  Wow, just happened to come her thou A. says sh...\n",
       "4       Makayla Montgomery  Every time I see her face I literally am disgu..."
      ]
     },
     "execution_count": 9,
     "metadata": {},
     "output_type": "execute_result"
    }
   ],
   "source": [
    "df_post1 = pd.read_csv(csv_files[1])\n",
    "print(df_post1.shape)\n",
    "df_post1.head()"
   ]
  },
  {
   "cell_type": "code",
   "execution_count": 10,
   "id": "0f2e261a",
   "metadata": {},
   "outputs": [
    {
     "data": {
      "text/plain": [
       "0"
      ]
     },
     "execution_count": 10,
     "metadata": {},
     "output_type": "execute_result"
    }
   ],
   "source": [
    "df_post1.duplicated().sum()"
   ]
  },
  {
   "cell_type": "code",
   "execution_count": 11,
   "id": "c6861273",
   "metadata": {},
   "outputs": [
    {
     "name": "stdout",
     "output_type": "stream",
     "text": [
      "(440, 2)\n"
     ]
    },
    {
     "data": {
      "text/html": [
       "<div>\n",
       "<style scoped>\n",
       "    .dataframe tbody tr th:only-of-type {\n",
       "        vertical-align: middle;\n",
       "    }\n",
       "\n",
       "    .dataframe tbody tr th {\n",
       "        vertical-align: top;\n",
       "    }\n",
       "\n",
       "    .dataframe thead th {\n",
       "        text-align: right;\n",
       "    }\n",
       "</style>\n",
       "<table border=\"1\" class=\"dataframe\">\n",
       "  <thead>\n",
       "    <tr style=\"text-align: right;\">\n",
       "      <th></th>\n",
       "      <th>userName</th>\n",
       "      <th>comment</th>\n",
       "    </tr>\n",
       "  </thead>\n",
       "  <tbody>\n",
       "    <tr>\n",
       "      <th>0</th>\n",
       "      <td>Hannah Perez-hope</td>\n",
       "      <td>My favorite part is looking for men that say n...</td>\n",
       "    </tr>\n",
       "    <tr>\n",
       "      <th>1</th>\n",
       "      <td>Gokulnath Puthiyidath</td>\n",
       "      <td>Why is the comment box shut in insta... Fearin...</td>\n",
       "    </tr>\n",
       "    <tr>\n",
       "      <th>2</th>\n",
       "      <td>Tailor Gokey</td>\n",
       "      <td>If I wanted to go look at trash I’d look in my...</td>\n",
       "    </tr>\n",
       "    <tr>\n",
       "      <th>3</th>\n",
       "      <td>Andrea Grethey Campbell</td>\n",
       "      <td>From someone who actually is a survivor you ar...</td>\n",
       "    </tr>\n",
       "    <tr>\n",
       "      <th>4</th>\n",
       "      <td>Janiss CM</td>\n",
       "      <td>#JusticeForJohnnyDepp</td>\n",
       "    </tr>\n",
       "  </tbody>\n",
       "</table>\n",
       "</div>"
      ],
      "text/plain": [
       "                  userName                                            comment\n",
       "0        Hannah Perez-hope  My favorite part is looking for men that say n...\n",
       "1    Gokulnath Puthiyidath  Why is the comment box shut in insta... Fearin...\n",
       "2             Tailor Gokey  If I wanted to go look at trash I’d look in my...\n",
       "3  Andrea Grethey Campbell  From someone who actually is a survivor you ar...\n",
       "4                Janiss CM                              #JusticeForJohnnyDepp"
      ]
     },
     "execution_count": 11,
     "metadata": {},
     "output_type": "execute_result"
    }
   ],
   "source": [
    "df_post2 = pd.read_csv(csv_files[2])\n",
    "print(df_post2.shape)\n",
    "df_post2.head()"
   ]
  },
  {
   "cell_type": "code",
   "execution_count": 12,
   "id": "33e5bc4f",
   "metadata": {},
   "outputs": [
    {
     "data": {
      "text/plain": [
       "0"
      ]
     },
     "execution_count": 12,
     "metadata": {},
     "output_type": "execute_result"
    }
   ],
   "source": [
    "df_post2.duplicated().sum()"
   ]
  },
  {
   "cell_type": "code",
   "execution_count": 13,
   "id": "6651e94f",
   "metadata": {},
   "outputs": [
    {
     "name": "stdout",
     "output_type": "stream",
     "text": [
      "(382, 2)\n"
     ]
    },
    {
     "data": {
      "text/html": [
       "<div>\n",
       "<style scoped>\n",
       "    .dataframe tbody tr th:only-of-type {\n",
       "        vertical-align: middle;\n",
       "    }\n",
       "\n",
       "    .dataframe tbody tr th {\n",
       "        vertical-align: top;\n",
       "    }\n",
       "\n",
       "    .dataframe thead th {\n",
       "        text-align: right;\n",
       "    }\n",
       "</style>\n",
       "<table border=\"1\" class=\"dataframe\">\n",
       "  <thead>\n",
       "    <tr style=\"text-align: right;\">\n",
       "      <th></th>\n",
       "      <th>userName</th>\n",
       "      <th>comment</th>\n",
       "    </tr>\n",
       "  </thead>\n",
       "  <tbody>\n",
       "    <tr>\n",
       "      <th>0</th>\n",
       "      <td>Trent Wayne</td>\n",
       "      <td>I’m kinda wishing depp did put the paws on you...</td>\n",
       "    </tr>\n",
       "    <tr>\n",
       "      <th>1</th>\n",
       "      <td>Marcus Pagan</td>\n",
       "      <td>I love how you don’t have any real fans lol yo...</td>\n",
       "    </tr>\n",
       "    <tr>\n",
       "      <th>2</th>\n",
       "      <td>Amy Rossetti</td>\n",
       "      <td>Hopefully from now on EVERY article written ab...</td>\n",
       "    </tr>\n",
       "    <tr>\n",
       "      <th>3</th>\n",
       "      <td>Rubí Nabile</td>\n",
       "      <td>Excelente, aquí te puedo escribir que no te qu...</td>\n",
       "    </tr>\n",
       "    <tr>\n",
       "      <th>4</th>\n",
       "      <td>Patrick Hoffman</td>\n",
       "      <td>And here we se a natural born predator in her ...</td>\n",
       "    </tr>\n",
       "  </tbody>\n",
       "</table>\n",
       "</div>"
      ],
      "text/plain": [
       "          userName                                            comment\n",
       "0      Trent Wayne  I’m kinda wishing depp did put the paws on you...\n",
       "1     Marcus Pagan  I love how you don’t have any real fans lol yo...\n",
       "2     Amy Rossetti  Hopefully from now on EVERY article written ab...\n",
       "3      Rubí Nabile  Excelente, aquí te puedo escribir que no te qu...\n",
       "4  Patrick Hoffman  And here we se a natural born predator in her ..."
      ]
     },
     "execution_count": 13,
     "metadata": {},
     "output_type": "execute_result"
    }
   ],
   "source": [
    "df_post3 = pd.read_csv(csv_files[3])\n",
    "print(df_post3.shape)\n",
    "df_post3.head()"
   ]
  },
  {
   "cell_type": "code",
   "execution_count": 14,
   "id": "77c53b58",
   "metadata": {},
   "outputs": [
    {
     "data": {
      "text/plain": [
       "0"
      ]
     },
     "execution_count": 14,
     "metadata": {},
     "output_type": "execute_result"
    }
   ],
   "source": [
    "df_post3.duplicated().sum()"
   ]
  },
  {
   "cell_type": "code",
   "execution_count": 15,
   "id": "8ab8f30d",
   "metadata": {},
   "outputs": [
    {
     "name": "stdout",
     "output_type": "stream",
     "text": [
      "(642, 2)\n"
     ]
    },
    {
     "data": {
      "text/html": [
       "<div>\n",
       "<style scoped>\n",
       "    .dataframe tbody tr th:only-of-type {\n",
       "        vertical-align: middle;\n",
       "    }\n",
       "\n",
       "    .dataframe tbody tr th {\n",
       "        vertical-align: top;\n",
       "    }\n",
       "\n",
       "    .dataframe thead th {\n",
       "        text-align: right;\n",
       "    }\n",
       "</style>\n",
       "<table border=\"1\" class=\"dataframe\">\n",
       "  <thead>\n",
       "    <tr style=\"text-align: right;\">\n",
       "      <th></th>\n",
       "      <th>userName</th>\n",
       "      <th>comment</th>\n",
       "    </tr>\n",
       "  </thead>\n",
       "  <tbody>\n",
       "    <tr>\n",
       "      <th>0</th>\n",
       "      <td>Stive Rossi</td>\n",
       "      <td>Nice</td>\n",
       "    </tr>\n",
       "    <tr>\n",
       "      <th>1</th>\n",
       "      <td>Antonella Petrucci Alchemikiz</td>\n",
       "      <td>Scamber Turd lei non sa chi è Jonny .. nessuno...</td>\n",
       "    </tr>\n",
       "    <tr>\n",
       "      <th>2</th>\n",
       "      <td>Gwen Nelson</td>\n",
       "      <td>Bye Amber you drug addict and drunk.... go awa...</td>\n",
       "    </tr>\n",
       "    <tr>\n",
       "      <th>3</th>\n",
       "      <td>Kali Sudo</td>\n",
       "      <td>Skank</td>\n",
       "    </tr>\n",
       "    <tr>\n",
       "      <th>4</th>\n",
       "      <td>W'watt Fiona</td>\n",
       "      <td>Yes I understand you need time have fun lil Jo...</td>\n",
       "    </tr>\n",
       "  </tbody>\n",
       "</table>\n",
       "</div>"
      ],
      "text/plain": [
       "                        userName  \\\n",
       "0                    Stive Rossi   \n",
       "1  Antonella Petrucci Alchemikiz   \n",
       "2                    Gwen Nelson   \n",
       "3                      Kali Sudo   \n",
       "4                   W'watt Fiona   \n",
       "\n",
       "                                             comment  \n",
       "0                                               Nice  \n",
       "1  Scamber Turd lei non sa chi è Jonny .. nessuno...  \n",
       "2  Bye Amber you drug addict and drunk.... go awa...  \n",
       "3                                              Skank  \n",
       "4  Yes I understand you need time have fun lil Jo...  "
      ]
     },
     "execution_count": 15,
     "metadata": {},
     "output_type": "execute_result"
    }
   ],
   "source": [
    "df_post4 = pd.read_csv(csv_files[4])\n",
    "print(df_post4.shape)\n",
    "df_post4.head()"
   ]
  },
  {
   "cell_type": "code",
   "execution_count": 16,
   "id": "10491d9a",
   "metadata": {},
   "outputs": [
    {
     "data": {
      "text/plain": [
       "0"
      ]
     },
     "execution_count": 16,
     "metadata": {},
     "output_type": "execute_result"
    }
   ],
   "source": [
    "df_post4.duplicated().sum()"
   ]
  },
  {
   "cell_type": "code",
   "execution_count": 17,
   "id": "9158b6cb",
   "metadata": {},
   "outputs": [
    {
     "name": "stdout",
     "output_type": "stream",
     "text": [
      "(363, 2)\n"
     ]
    },
    {
     "data": {
      "text/html": [
       "<div>\n",
       "<style scoped>\n",
       "    .dataframe tbody tr th:only-of-type {\n",
       "        vertical-align: middle;\n",
       "    }\n",
       "\n",
       "    .dataframe tbody tr th {\n",
       "        vertical-align: top;\n",
       "    }\n",
       "\n",
       "    .dataframe thead th {\n",
       "        text-align: right;\n",
       "    }\n",
       "</style>\n",
       "<table border=\"1\" class=\"dataframe\">\n",
       "  <thead>\n",
       "    <tr style=\"text-align: right;\">\n",
       "      <th></th>\n",
       "      <th>userName</th>\n",
       "      <th>comment</th>\n",
       "    </tr>\n",
       "  </thead>\n",
       "  <tbody>\n",
       "    <tr>\n",
       "      <th>0</th>\n",
       "      <td>Amy Rossetti</td>\n",
       "      <td>Hopefully from now on EVERY article written ab...</td>\n",
       "    </tr>\n",
       "    <tr>\n",
       "      <th>1</th>\n",
       "      <td>Joseph Lowe-Drew</td>\n",
       "      <td>Aquaman was a disaster.....it would of been gr...</td>\n",
       "    </tr>\n",
       "    <tr>\n",
       "      <th>2</th>\n",
       "      <td>Marthita Sosa</td>\n",
       "      <td>#JusticeForJohnnyDepp #deathamberheard</td>\n",
       "    </tr>\n",
       "    <tr>\n",
       "      <th>3</th>\n",
       "      <td>Liadan Valeska</td>\n",
       "      <td>NaN</td>\n",
       "    </tr>\n",
       "    <tr>\n",
       "      <th>4</th>\n",
       "      <td>Usman Shaikh</td>\n",
       "      <td>You are very beautiful in Aquaman man movie</td>\n",
       "    </tr>\n",
       "  </tbody>\n",
       "</table>\n",
       "</div>"
      ],
      "text/plain": [
       "           userName                                            comment\n",
       "0      Amy Rossetti  Hopefully from now on EVERY article written ab...\n",
       "1  Joseph Lowe-Drew  Aquaman was a disaster.....it would of been gr...\n",
       "2     Marthita Sosa             #JusticeForJohnnyDepp #deathamberheard\n",
       "3    Liadan Valeska                                                NaN\n",
       "4      Usman Shaikh        You are very beautiful in Aquaman man movie"
      ]
     },
     "execution_count": 17,
     "metadata": {},
     "output_type": "execute_result"
    }
   ],
   "source": [
    "df_post5 = pd.read_csv(csv_files[5])\n",
    "print(df_post5.shape)\n",
    "df_post5.head()"
   ]
  },
  {
   "cell_type": "code",
   "execution_count": 18,
   "id": "be9eae82",
   "metadata": {},
   "outputs": [
    {
     "data": {
      "text/plain": [
       "0"
      ]
     },
     "execution_count": 18,
     "metadata": {},
     "output_type": "execute_result"
    }
   ],
   "source": [
    "df_post5.duplicated().sum()"
   ]
  },
  {
   "cell_type": "code",
   "execution_count": 19,
   "id": "6d39a538",
   "metadata": {},
   "outputs": [
    {
     "name": "stdout",
     "output_type": "stream",
     "text": [
      "(657, 3)\n"
     ]
    },
    {
     "data": {
      "text/html": [
       "<div>\n",
       "<style scoped>\n",
       "    .dataframe tbody tr th:only-of-type {\n",
       "        vertical-align: middle;\n",
       "    }\n",
       "\n",
       "    .dataframe tbody tr th {\n",
       "        vertical-align: top;\n",
       "    }\n",
       "\n",
       "    .dataframe thead th {\n",
       "        text-align: right;\n",
       "    }\n",
       "</style>\n",
       "<table border=\"1\" class=\"dataframe\">\n",
       "  <thead>\n",
       "    <tr style=\"text-align: right;\">\n",
       "      <th></th>\n",
       "      <th>userName</th>\n",
       "      <th>recommend</th>\n",
       "      <th>text</th>\n",
       "    </tr>\n",
       "  </thead>\n",
       "  <tbody>\n",
       "    <tr>\n",
       "      <th>0</th>\n",
       "      <td>Gianluca Carlesso</td>\n",
       "      <td>Gianluca Carlesso doesn't recommend Amber Heard.</td>\n",
       "      <td>horrible person, that's the best description</td>\n",
       "    </tr>\n",
       "    <tr>\n",
       "      <th>1</th>\n",
       "      <td>Danieru Tan</td>\n",
       "      <td>Danieru Tan doesn't recommend Amber Heard.</td>\n",
       "      <td>Poor acting. Bad character. Not recommended fo...</td>\n",
       "    </tr>\n",
       "    <tr>\n",
       "      <th>2</th>\n",
       "      <td>Parada LG</td>\n",
       "      <td>Parada LG doesn't recommend Amber Heard.</td>\n",
       "      <td>Tiene exceso de acusaciones falsas, no recomen...</td>\n",
       "    </tr>\n",
       "    <tr>\n",
       "      <th>3</th>\n",
       "      <td>Amanda Pulk</td>\n",
       "      <td>Amanda Pulk recommends Amber Heard.</td>\n",
       "      <td>No woman should have to worry about being fire...</td>\n",
       "    </tr>\n",
       "    <tr>\n",
       "      <th>4</th>\n",
       "      <td>Arelin Solórzano</td>\n",
       "      <td>Arelin Solórzano doesn't recommend Amber Heard.</td>\n",
       "      <td>Es una persona muy egoísta y debería de dejar ...</td>\n",
       "    </tr>\n",
       "  </tbody>\n",
       "</table>\n",
       "</div>"
      ],
      "text/plain": [
       "            userName                                         recommend  \\\n",
       "0  Gianluca Carlesso  Gianluca Carlesso doesn't recommend Amber Heard.   \n",
       "1        Danieru Tan        Danieru Tan doesn't recommend Amber Heard.   \n",
       "2          Parada LG          Parada LG doesn't recommend Amber Heard.   \n",
       "3        Amanda Pulk               Amanda Pulk recommends Amber Heard.   \n",
       "4   Arelin Solórzano   Arelin Solórzano doesn't recommend Amber Heard.   \n",
       "\n",
       "                                                text  \n",
       "0       horrible person, that's the best description  \n",
       "1  Poor acting. Bad character. Not recommended fo...  \n",
       "2  Tiene exceso de acusaciones falsas, no recomen...  \n",
       "3  No woman should have to worry about being fire...  \n",
       "4  Es una persona muy egoísta y debería de dejar ...  "
      ]
     },
     "execution_count": 19,
     "metadata": {},
     "output_type": "execute_result"
    }
   ],
   "source": [
    "df_profile_review = pd.read_csv(csv_files[6])\n",
    "print(df_profile_review.shape)\n",
    "df_profile_review.head()"
   ]
  },
  {
   "cell_type": "code",
   "execution_count": 20,
   "id": "9e69f60d",
   "metadata": {},
   "outputs": [
    {
     "name": "stdout",
     "output_type": "stream",
     "text": [
      "(657, 3)\n"
     ]
    },
    {
     "data": {
      "text/html": [
       "<div>\n",
       "<style scoped>\n",
       "    .dataframe tbody tr th:only-of-type {\n",
       "        vertical-align: middle;\n",
       "    }\n",
       "\n",
       "    .dataframe tbody tr th {\n",
       "        vertical-align: top;\n",
       "    }\n",
       "\n",
       "    .dataframe thead th {\n",
       "        text-align: right;\n",
       "    }\n",
       "</style>\n",
       "<table border=\"1\" class=\"dataframe\">\n",
       "  <thead>\n",
       "    <tr style=\"text-align: right;\">\n",
       "      <th></th>\n",
       "      <th>userName</th>\n",
       "      <th>recommend</th>\n",
       "      <th>text</th>\n",
       "    </tr>\n",
       "  </thead>\n",
       "  <tbody>\n",
       "    <tr>\n",
       "      <th>0</th>\n",
       "      <td>Gianluca Carlesso</td>\n",
       "      <td>Gianluca Carlesso doesn't recommend Amber Heard.</td>\n",
       "      <td>horrible person, that's the best description</td>\n",
       "    </tr>\n",
       "    <tr>\n",
       "      <th>1</th>\n",
       "      <td>Danieru Tan</td>\n",
       "      <td>Danieru Tan doesn't recommend Amber Heard.</td>\n",
       "      <td>Poor acting. Bad character. Not recommended fo...</td>\n",
       "    </tr>\n",
       "    <tr>\n",
       "      <th>2</th>\n",
       "      <td>Parada LG</td>\n",
       "      <td>Parada LG doesn't recommend Amber Heard.</td>\n",
       "      <td>Tiene exceso de acusaciones falsas, no recomen...</td>\n",
       "    </tr>\n",
       "    <tr>\n",
       "      <th>3</th>\n",
       "      <td>Amanda Pulk</td>\n",
       "      <td>Amanda Pulk recommends Amber Heard.</td>\n",
       "      <td>No woman should have to worry about being fire...</td>\n",
       "    </tr>\n",
       "    <tr>\n",
       "      <th>4</th>\n",
       "      <td>Arelin Solórzano</td>\n",
       "      <td>Arelin Solórzano doesn't recommend Amber Heard.</td>\n",
       "      <td>Es una persona muy egoísta y debería de dejar ...</td>\n",
       "    </tr>\n",
       "  </tbody>\n",
       "</table>\n",
       "</div>"
      ],
      "text/plain": [
       "            userName                                         recommend  \\\n",
       "0  Gianluca Carlesso  Gianluca Carlesso doesn't recommend Amber Heard.   \n",
       "1        Danieru Tan        Danieru Tan doesn't recommend Amber Heard.   \n",
       "2          Parada LG          Parada LG doesn't recommend Amber Heard.   \n",
       "3        Amanda Pulk               Amanda Pulk recommends Amber Heard.   \n",
       "4   Arelin Solórzano   Arelin Solórzano doesn't recommend Amber Heard.   \n",
       "\n",
       "                                                text  \n",
       "0       horrible person, that's the best description  \n",
       "1  Poor acting. Bad character. Not recommended fo...  \n",
       "2  Tiene exceso de acusaciones falsas, no recomen...  \n",
       "3  No woman should have to worry about being fire...  \n",
       "4  Es una persona muy egoísta y debería de dejar ...  "
      ]
     },
     "execution_count": 20,
     "metadata": {},
     "output_type": "execute_result"
    }
   ],
   "source": [
    "df_searchurl = pd.read_csv(csv_files[7])\n",
    "print(df_searchurl.shape)\n",
    "df_searchurl.head()"
   ]
  },
  {
   "cell_type": "code",
   "execution_count": 21,
   "id": "f22acb50",
   "metadata": {},
   "outputs": [
    {
     "data": {
      "text/plain": [
       "True"
      ]
     },
     "execution_count": 21,
     "metadata": {},
     "output_type": "execute_result"
    }
   ],
   "source": [
    "df_profile_review.equals(df_searchurl)"
   ]
  },
  {
   "cell_type": "code",
   "execution_count": 22,
   "id": "e0b1ca27",
   "metadata": {},
   "outputs": [
    {
     "name": "stdout",
     "output_type": "stream",
     "text": [
      "(12487, 6)\n"
     ]
    },
    {
     "data": {
      "text/html": [
       "<div>\n",
       "<style scoped>\n",
       "    .dataframe tbody tr th:only-of-type {\n",
       "        vertical-align: middle;\n",
       "    }\n",
       "\n",
       "    .dataframe tbody tr th {\n",
       "        vertical-align: top;\n",
       "    }\n",
       "\n",
       "    .dataframe thead th {\n",
       "        text-align: right;\n",
       "    }\n",
       "</style>\n",
       "<table border=\"1\" class=\"dataframe\">\n",
       "  <thead>\n",
       "    <tr style=\"text-align: right;\">\n",
       "      <th></th>\n",
       "      <th>id</th>\n",
       "      <th>comment_text</th>\n",
       "      <th>defense_AH</th>\n",
       "      <th>support_AH</th>\n",
       "      <th>offense_AH</th>\n",
       "      <th>defense_against_AH</th>\n",
       "    </tr>\n",
       "  </thead>\n",
       "  <tbody>\n",
       "    <tr>\n",
       "      <th>0</th>\n",
       "      <td>1</td>\n",
       "      <td>We love you Amber! Karen Ingala Smith, CEO of ...</td>\n",
       "      <td>0.0</td>\n",
       "      <td>1.0</td>\n",
       "      <td>0.0</td>\n",
       "      <td>0.0</td>\n",
       "    </tr>\n",
       "    <tr>\n",
       "      <th>1</th>\n",
       "      <td>2</td>\n",
       "      <td>She is a hero to domestic violence victims. Sh...</td>\n",
       "      <td>0.0</td>\n",
       "      <td>1.0</td>\n",
       "      <td>0.0</td>\n",
       "      <td>0.0</td>\n",
       "    </tr>\n",
       "    <tr>\n",
       "      <th>2</th>\n",
       "      <td>3</td>\n",
       "      <td>Amber Heard is a positive influence in the wor...</td>\n",
       "      <td>0.0</td>\n",
       "      <td>1.0</td>\n",
       "      <td>0.0</td>\n",
       "      <td>0.0</td>\n",
       "    </tr>\n",
       "    <tr>\n",
       "      <th>3</th>\n",
       "      <td>4</td>\n",
       "      <td>Amber Heard has been my role model for a long ...</td>\n",
       "      <td>0.0</td>\n",
       "      <td>1.0</td>\n",
       "      <td>0.0</td>\n",
       "      <td>0.0</td>\n",
       "    </tr>\n",
       "    <tr>\n",
       "      <th>4</th>\n",
       "      <td>5</td>\n",
       "      <td>Long live Queen Mera and Amber Heard! Folks, p...</td>\n",
       "      <td>0.0</td>\n",
       "      <td>1.0</td>\n",
       "      <td>0.0</td>\n",
       "      <td>0.0</td>\n",
       "    </tr>\n",
       "  </tbody>\n",
       "</table>\n",
       "</div>"
      ],
      "text/plain": [
       "   id                                       comment_text  defense_AH  \\\n",
       "0   1  We love you Amber! Karen Ingala Smith, CEO of ...         0.0   \n",
       "1   2  She is a hero to domestic violence victims. Sh...         0.0   \n",
       "2   3  Amber Heard is a positive influence in the wor...         0.0   \n",
       "3   4  Amber Heard has been my role model for a long ...         0.0   \n",
       "4   5  Long live Queen Mera and Amber Heard! Folks, p...         0.0   \n",
       "\n",
       "   support_AH  offense_AH  defense_against_AH  \n",
       "0         1.0         0.0                 0.0  \n",
       "1         1.0         0.0                 0.0  \n",
       "2         1.0         0.0                 0.0  \n",
       "3         1.0         0.0                 0.0  \n",
       "4         1.0         0.0                 0.0  "
      ]
     },
     "execution_count": 22,
     "metadata": {},
     "output_type": "execute_result"
    }
   ],
   "source": [
    "df_nlu = pd.read_csv(csv_files[8])\n",
    "print(df_nlu.shape)\n",
    "df_nlu.head()"
   ]
  },
  {
   "cell_type": "markdown",
   "id": "495893af",
   "metadata": {},
   "source": [
    "# Data InfoTracer - Facebook Link Shares Groups"
   ]
  },
  {
   "cell_type": "code",
   "execution_count": 24,
   "id": "79af5a4b",
   "metadata": {},
   "outputs": [],
   "source": [
    "csv_files = []\n",
    "for file in sorted(os.listdir('./Data InfoTracer - Facebook Link Shares Groups')):\n",
    "    if file.split(\".\")[-1] == \"csv\":\n",
    "        csv_files.append(file)"
   ]
  },
  {
   "cell_type": "code",
   "execution_count": 25,
   "id": "da1dc5d5",
   "metadata": {},
   "outputs": [
    {
     "data": {
      "text/plain": [
       "['Facebook Link Shares - Remove Amber Heard Aquaman 2 changeorg - facebook 5-21-21.csv',\n",
       " 'Facebook Link Shares - YouTube Adapt and Survive Amber Heard video - facebook.csv']"
      ]
     },
     "execution_count": 25,
     "metadata": {},
     "output_type": "execute_result"
    }
   ],
   "source": [
    "csv_files"
   ]
  },
  {
   "cell_type": "code",
   "execution_count": 28,
   "id": "0be2e1c1",
   "metadata": {},
   "outputs": [
    {
     "name": "stdout",
     "output_type": "stream",
     "text": [
      "(277, 116)\n"
     ]
    },
    {
     "data": {
      "text/html": [
       "<div>\n",
       "<style scoped>\n",
       "    .dataframe tbody tr th:only-of-type {\n",
       "        vertical-align: middle;\n",
       "    }\n",
       "\n",
       "    .dataframe tbody tr th {\n",
       "        vertical-align: top;\n",
       "    }\n",
       "\n",
       "    .dataframe thead th {\n",
       "        text-align: right;\n",
       "    }\n",
       "</style>\n",
       "<table border=\"1\" class=\"dataframe\">\n",
       "  <thead>\n",
       "    <tr style=\"text-align: right;\">\n",
       "      <th></th>\n",
       "      <th>id</th>\n",
       "      <th>group_id</th>\n",
       "      <th>external_id</th>\n",
       "      <th>post_external_id</th>\n",
       "      <th>unique_id</th>\n",
       "      <th>caption</th>\n",
       "      <th>created</th>\n",
       "      <th>by_page_owner</th>\n",
       "      <th>description</th>\n",
       "      <th>link</th>\n",
       "      <th>...</th>\n",
       "      <th>parent_producer_name</th>\n",
       "      <th>parent_producer_external_id</th>\n",
       "      <th>has_parent</th>\n",
       "      <th>video_source</th>\n",
       "      <th>video_asset_owner_external_id</th>\n",
       "      <th>video_external_id</th>\n",
       "      <th>video_asset_owner_id</th>\n",
       "      <th>video_asset_owner_name</th>\n",
       "      <th>has_video_asset_owner</th>\n",
       "      <th>is_post_producer_owner</th>\n",
       "    </tr>\n",
       "  </thead>\n",
       "  <tbody>\n",
       "    <tr>\n",
       "      <th>0</th>\n",
       "      <td>fDMyODk2fDIyNTg3NDEzNzQ0Nzk2N18zODI3NTI2NDkzOT...</td>\n",
       "      <td>32896</td>\n",
       "      <td>2.258741e+30</td>\n",
       "      <td>3827526493949362</td>\n",
       "      <td>3.289623e+35</td>\n",
       "      <td>NaN</td>\n",
       "      <td>2020-11-14 15:40:31</td>\n",
       "      <td>1</td>\n",
       "      <td>NaN</td>\n",
       "      <td>https://www.facebook.com/FilosoraptorPaginaOfi...</td>\n",
       "      <td>...</td>\n",
       "      <td>NaN</td>\n",
       "      <td>NaN</td>\n",
       "      <td>NaN</td>\n",
       "      <td>NaN</td>\n",
       "      <td>NaN</td>\n",
       "      <td>NaN</td>\n",
       "      <td>NaN</td>\n",
       "      <td>NaN</td>\n",
       "      <td>NaN</td>\n",
       "      <td>NaN</td>\n",
       "    </tr>\n",
       "    <tr>\n",
       "      <th>1</th>\n",
       "      <td>fDE0MTYwNzYwfDExODM1NzI0OTU2MDc5NF80MzI3MTA2Nj...</td>\n",
       "      <td>14160760</td>\n",
       "      <td>1.183572e+29</td>\n",
       "      <td>432710668125449</td>\n",
       "      <td>1.416076e+37</td>\n",
       "      <td>NaN</td>\n",
       "      <td>2020-11-12 19:43:50</td>\n",
       "      <td>1</td>\n",
       "      <td>NaN</td>\n",
       "      <td>https://www.facebook.com/valkirriso/photos/a.1...</td>\n",
       "      <td>...</td>\n",
       "      <td>NaN</td>\n",
       "      <td>NaN</td>\n",
       "      <td>NaN</td>\n",
       "      <td>NaN</td>\n",
       "      <td>NaN</td>\n",
       "      <td>NaN</td>\n",
       "      <td>NaN</td>\n",
       "      <td>NaN</td>\n",
       "      <td>NaN</td>\n",
       "      <td>NaN</td>\n",
       "    </tr>\n",
       "    <tr>\n",
       "      <th>2</th>\n",
       "      <td>fDE1MTg0NTl8MTc5MjEwODk5NDM1MjcxN18yMzk1MjY3OD...</td>\n",
       "      <td>1518459</td>\n",
       "      <td>1.792109e+31</td>\n",
       "      <td>2395267867370157</td>\n",
       "      <td>1.518459e+38</td>\n",
       "      <td>NaN</td>\n",
       "      <td>2019-03-23 11:09:49</td>\n",
       "      <td>1</td>\n",
       "      <td>NaN</td>\n",
       "      <td>https://www.facebook.com/khobsanung/photos/a.1...</td>\n",
       "      <td>...</td>\n",
       "      <td>NaN</td>\n",
       "      <td>NaN</td>\n",
       "      <td>NaN</td>\n",
       "      <td>NaN</td>\n",
       "      <td>NaN</td>\n",
       "      <td>NaN</td>\n",
       "      <td>NaN</td>\n",
       "      <td>NaN</td>\n",
       "      <td>NaN</td>\n",
       "      <td>NaN</td>\n",
       "    </tr>\n",
       "    <tr>\n",
       "      <th>3</th>\n",
       "      <td>fDQ3ODYwOHw2MjcwMjg3NjA2NzMyNTBfMzY2NDE1Mzg2Nj...</td>\n",
       "      <td>478608</td>\n",
       "      <td>6.270288e+30</td>\n",
       "      <td>3664153866960709</td>\n",
       "      <td>4.786086e+36</td>\n",
       "      <td>NaN</td>\n",
       "      <td>2020-11-13 03:30:40</td>\n",
       "      <td>1</td>\n",
       "      <td>NaN</td>\n",
       "      <td>https://www.facebook.com/CatDumbNews/photos/a....</td>\n",
       "      <td>...</td>\n",
       "      <td>NaN</td>\n",
       "      <td>NaN</td>\n",
       "      <td>NaN</td>\n",
       "      <td>NaN</td>\n",
       "      <td>NaN</td>\n",
       "      <td>NaN</td>\n",
       "      <td>NaN</td>\n",
       "      <td>NaN</td>\n",
       "      <td>NaN</td>\n",
       "      <td>NaN</td>\n",
       "    </tr>\n",
       "    <tr>\n",
       "      <th>4</th>\n",
       "      <td>fDg2Mzg4NzV8MjU4Mzk4MDY0NzI0OTkzXzgwODcxNTIzNj...</td>\n",
       "      <td>8638875</td>\n",
       "      <td>2.583981e+29</td>\n",
       "      <td>808715236359937</td>\n",
       "      <td>8.638875e+36</td>\n",
       "      <td>NaN</td>\n",
       "      <td>2020-11-10 02:30:04</td>\n",
       "      <td>1</td>\n",
       "      <td>NaN</td>\n",
       "      <td>https://www.facebook.com/thuyennhotroilenhdenh...</td>\n",
       "      <td>...</td>\n",
       "      <td>NaN</td>\n",
       "      <td>NaN</td>\n",
       "      <td>NaN</td>\n",
       "      <td>NaN</td>\n",
       "      <td>NaN</td>\n",
       "      <td>NaN</td>\n",
       "      <td>NaN</td>\n",
       "      <td>NaN</td>\n",
       "      <td>NaN</td>\n",
       "      <td>NaN</td>\n",
       "    </tr>\n",
       "  </tbody>\n",
       "</table>\n",
       "<p>5 rows × 116 columns</p>\n",
       "</div>"
      ],
      "text/plain": [
       "                                                  id  group_id   external_id  \\\n",
       "0  fDMyODk2fDIyNTg3NDEzNzQ0Nzk2N18zODI3NTI2NDkzOT...     32896  2.258741e+30   \n",
       "1  fDE0MTYwNzYwfDExODM1NzI0OTU2MDc5NF80MzI3MTA2Nj...  14160760  1.183572e+29   \n",
       "2  fDE1MTg0NTl8MTc5MjEwODk5NDM1MjcxN18yMzk1MjY3OD...   1518459  1.792109e+31   \n",
       "3  fDQ3ODYwOHw2MjcwMjg3NjA2NzMyNTBfMzY2NDE1Mzg2Nj...    478608  6.270288e+30   \n",
       "4  fDg2Mzg4NzV8MjU4Mzk4MDY0NzI0OTkzXzgwODcxNTIzNj...   8638875  2.583981e+29   \n",
       "\n",
       "   post_external_id     unique_id caption              created  by_page_owner  \\\n",
       "0  3827526493949362  3.289623e+35     NaN  2020-11-14 15:40:31              1   \n",
       "1   432710668125449  1.416076e+37     NaN  2020-11-12 19:43:50              1   \n",
       "2  2395267867370157  1.518459e+38     NaN  2019-03-23 11:09:49              1   \n",
       "3  3664153866960709  4.786086e+36     NaN  2020-11-13 03:30:40              1   \n",
       "4   808715236359937  8.638875e+36     NaN  2020-11-10 02:30:04              1   \n",
       "\n",
       "  description                                               link  ...  \\\n",
       "0         NaN  https://www.facebook.com/FilosoraptorPaginaOfi...  ...   \n",
       "1         NaN  https://www.facebook.com/valkirriso/photos/a.1...  ...   \n",
       "2         NaN  https://www.facebook.com/khobsanung/photos/a.1...  ...   \n",
       "3         NaN  https://www.facebook.com/CatDumbNews/photos/a....  ...   \n",
       "4         NaN  https://www.facebook.com/thuyennhotroilenhdenh...  ...   \n",
       "\n",
       "  parent_producer_name parent_producer_external_id  has_parent  video_source  \\\n",
       "0                  NaN                         NaN         NaN           NaN   \n",
       "1                  NaN                         NaN         NaN           NaN   \n",
       "2                  NaN                         NaN         NaN           NaN   \n",
       "3                  NaN                         NaN         NaN           NaN   \n",
       "4                  NaN                         NaN         NaN           NaN   \n",
       "\n",
       "  video_asset_owner_external_id  video_external_id video_asset_owner_id  \\\n",
       "0                           NaN                NaN                  NaN   \n",
       "1                           NaN                NaN                  NaN   \n",
       "2                           NaN                NaN                  NaN   \n",
       "3                           NaN                NaN                  NaN   \n",
       "4                           NaN                NaN                  NaN   \n",
       "\n",
       "  video_asset_owner_name  has_video_asset_owner  is_post_producer_owner  \n",
       "0                    NaN                    NaN                     NaN  \n",
       "1                    NaN                    NaN                     NaN  \n",
       "2                    NaN                    NaN                     NaN  \n",
       "3                    NaN                    NaN                     NaN  \n",
       "4                    NaN                    NaN                     NaN  \n",
       "\n",
       "[5 rows x 116 columns]"
      ]
     },
     "execution_count": 28,
     "metadata": {},
     "output_type": "execute_result"
    }
   ],
   "source": [
    "df_link_remove = pd.read_csv('./Data InfoTracer - Facebook Link Shares Groups/' + csv_files[0])\n",
    "print(df_link_remove.shape)\n",
    "df_link_remove.head()"
   ]
  },
  {
   "cell_type": "code",
   "execution_count": 29,
   "id": "ad9b0346",
   "metadata": {},
   "outputs": [
    {
     "name": "stdout",
     "output_type": "stream",
     "text": [
      "(3, 106)\n"
     ]
    },
    {
     "data": {
      "text/html": [
       "<div>\n",
       "<style scoped>\n",
       "    .dataframe tbody tr th:only-of-type {\n",
       "        vertical-align: middle;\n",
       "    }\n",
       "\n",
       "    .dataframe tbody tr th {\n",
       "        vertical-align: top;\n",
       "    }\n",
       "\n",
       "    .dataframe thead th {\n",
       "        text-align: right;\n",
       "    }\n",
       "</style>\n",
       "<table border=\"1\" class=\"dataframe\">\n",
       "  <thead>\n",
       "    <tr style=\"text-align: right;\">\n",
       "      <th></th>\n",
       "      <th>id</th>\n",
       "      <th>group_id</th>\n",
       "      <th>external_id</th>\n",
       "      <th>post_external_id</th>\n",
       "      <th>unique_id</th>\n",
       "      <th>caption</th>\n",
       "      <th>created</th>\n",
       "      <th>by_page_owner</th>\n",
       "      <th>description</th>\n",
       "      <th>link</th>\n",
       "      <th>...</th>\n",
       "      <th>zipcode</th>\n",
       "      <th>latitude</th>\n",
       "      <th>longitude</th>\n",
       "      <th>is_verified</th>\n",
       "      <th>get_reactions</th>\n",
       "      <th>is_igtv_previewed</th>\n",
       "      <th>like_and_view_counts_disabled</th>\n",
       "      <th>fb_id</th>\n",
       "      <th>group_fb_id</th>\n",
       "      <th>video_source</th>\n",
       "    </tr>\n",
       "  </thead>\n",
       "  <tbody>\n",
       "    <tr>\n",
       "      <th>0</th>\n",
       "      <td>fDE0MTYwNzYwfDExODM1NzI0OTU2MDc5NF80Njk0NTg5Nj...</td>\n",
       "      <td>14160760</td>\n",
       "      <td>1.183572e+29</td>\n",
       "      <td>469458967783952</td>\n",
       "      <td>1.416076e+37</td>\n",
       "      <td>NaN</td>\n",
       "      <td>2020-12-30 01:05:52</td>\n",
       "      <td>1</td>\n",
       "      <td>NaN</td>\n",
       "      <td>https://www.facebook.com/valkirriso/photos/a.1...</td>\n",
       "      <td>...</td>\n",
       "      <td>NaN</td>\n",
       "      <td>0</td>\n",
       "      <td>0</td>\n",
       "      <td>False</td>\n",
       "      <td>True</td>\n",
       "      <td>False</td>\n",
       "      <td>False</td>\n",
       "      <td>118357249560794</td>\n",
       "      <td>118357249560794</td>\n",
       "      <td>NaN</td>\n",
       "    </tr>\n",
       "    <tr>\n",
       "      <th>1</th>\n",
       "      <td>fDk5MTM5NzR8MTM1NTk0NzYzMjMwOTQzXzIyOTEwNTgyMj...</td>\n",
       "      <td>9913974</td>\n",
       "      <td>1.355948e+30</td>\n",
       "      <td>2291058224351242</td>\n",
       "      <td>9.913974e+37</td>\n",
       "      <td>youtube.com</td>\n",
       "      <td>2020-12-30 22:29:24</td>\n",
       "      <td>1</td>\n",
       "      <td>Amber Heard is reflecting on the lessons of 20...</td>\n",
       "      <td>https://www.youtube.com/watch?v=uretrfMA-Io&amp;fe...</td>\n",
       "      <td>...</td>\n",
       "      <td>NaN</td>\n",
       "      <td>0</td>\n",
       "      <td>0</td>\n",
       "      <td>False</td>\n",
       "      <td>True</td>\n",
       "      <td>False</td>\n",
       "      <td>False</td>\n",
       "      <td>135594763230943</td>\n",
       "      <td>135594763230943</td>\n",
       "      <td>https://www.youtube.com/embed/uretrfMA-Io?auto...</td>\n",
       "    </tr>\n",
       "    <tr>\n",
       "      <th>2</th>\n",
       "      <td>fDE0ODc2NjgzfDQ1MDk5NDczMDI0MTMzNzlfNDgwNzc0MT...</td>\n",
       "      <td>14876683</td>\n",
       "      <td>4.509947e+31</td>\n",
       "      <td>4807741279300645</td>\n",
       "      <td>1.487668e+39</td>\n",
       "      <td>upsocl.com</td>\n",
       "      <td>2020-12-30 06:31:26</td>\n",
       "      <td>1</td>\n",
       "      <td>La actriz hablaba en una entrevista sobre las ...</td>\n",
       "      <td>http://www.upsocl.com/muvi/fans-de-johnny-depp...</td>\n",
       "      <td>...</td>\n",
       "      <td>NaN</td>\n",
       "      <td>0</td>\n",
       "      <td>0</td>\n",
       "      <td>False</td>\n",
       "      <td>True</td>\n",
       "      <td>False</td>\n",
       "      <td>False</td>\n",
       "      <td>4509947302413379</td>\n",
       "      <td>4509947302413379</td>\n",
       "      <td>NaN</td>\n",
       "    </tr>\n",
       "  </tbody>\n",
       "</table>\n",
       "<p>3 rows × 106 columns</p>\n",
       "</div>"
      ],
      "text/plain": [
       "                                                  id  group_id   external_id  \\\n",
       "0  fDE0MTYwNzYwfDExODM1NzI0OTU2MDc5NF80Njk0NTg5Nj...  14160760  1.183572e+29   \n",
       "1  fDk5MTM5NzR8MTM1NTk0NzYzMjMwOTQzXzIyOTEwNTgyMj...   9913974  1.355948e+30   \n",
       "2  fDE0ODc2NjgzfDQ1MDk5NDczMDI0MTMzNzlfNDgwNzc0MT...  14876683  4.509947e+31   \n",
       "\n",
       "   post_external_id     unique_id      caption              created  \\\n",
       "0   469458967783952  1.416076e+37          NaN  2020-12-30 01:05:52   \n",
       "1  2291058224351242  9.913974e+37  youtube.com  2020-12-30 22:29:24   \n",
       "2  4807741279300645  1.487668e+39   upsocl.com  2020-12-30 06:31:26   \n",
       "\n",
       "   by_page_owner                                        description  \\\n",
       "0              1                                                NaN   \n",
       "1              1  Amber Heard is reflecting on the lessons of 20...   \n",
       "2              1  La actriz hablaba en una entrevista sobre las ...   \n",
       "\n",
       "                                                link  ... zipcode latitude  \\\n",
       "0  https://www.facebook.com/valkirriso/photos/a.1...  ...     NaN        0   \n",
       "1  https://www.youtube.com/watch?v=uretrfMA-Io&fe...  ...     NaN        0   \n",
       "2  http://www.upsocl.com/muvi/fans-de-johnny-depp...  ...     NaN        0   \n",
       "\n",
       "   longitude  is_verified get_reactions  is_igtv_previewed  \\\n",
       "0          0        False          True              False   \n",
       "1          0        False          True              False   \n",
       "2          0        False          True              False   \n",
       "\n",
       "   like_and_view_counts_disabled             fb_id       group_fb_id  \\\n",
       "0                          False   118357249560794   118357249560794   \n",
       "1                          False   135594763230943   135594763230943   \n",
       "2                          False  4509947302413379  4509947302413379   \n",
       "\n",
       "                                        video_source  \n",
       "0                                                NaN  \n",
       "1  https://www.youtube.com/embed/uretrfMA-Io?auto...  \n",
       "2                                                NaN  \n",
       "\n",
       "[3 rows x 106 columns]"
      ]
     },
     "execution_count": 29,
     "metadata": {},
     "output_type": "execute_result"
    }
   ],
   "source": [
    "df_link_adapt = pd.read_csv('./Data InfoTracer - Facebook Link Shares Groups/' + csv_files[1])\n",
    "print(df_link_adapt.shape)\n",
    "df_link_adapt.head()"
   ]
  },
  {
   "cell_type": "markdown",
   "id": "d346c841",
   "metadata": {},
   "source": [
    "# Preliminary"
   ]
  },
  {
   "cell_type": "code",
   "execution_count": 30,
   "id": "969fea08",
   "metadata": {},
   "outputs": [],
   "source": [
    "csv_files = []\n",
    "for file in sorted(os.listdir('./Preliminary')):\n",
    "    if file.split(\".\")[-1] == \"csv\":\n",
    "        csv_files.append(file)"
   ]
  },
  {
   "cell_type": "code",
   "execution_count": 31,
   "id": "ca1ecc23",
   "metadata": {},
   "outputs": [
    {
     "data": {
      "text/plain": [
       "['Shared Count Analysis - SEO Petitions Change Org - Amber Heard Johnny Depp - sharedCountExport.csv',\n",
       " 'sharedCountExport - Daily Mail SharedCount.com.csv']"
      ]
     },
     "execution_count": 31,
     "metadata": {},
     "output_type": "execute_result"
    }
   ],
   "source": [
    "csv_files"
   ]
  },
  {
   "cell_type": "code",
   "execution_count": 32,
   "id": "19c3a99f",
   "metadata": {},
   "outputs": [
    {
     "name": "stdout",
     "output_type": "stream",
     "text": [
      "(16, 9)\n"
     ]
    },
    {
     "data": {
      "text/html": [
       "<div>\n",
       "<style scoped>\n",
       "    .dataframe tbody tr th:only-of-type {\n",
       "        vertical-align: middle;\n",
       "    }\n",
       "\n",
       "    .dataframe tbody tr th {\n",
       "        vertical-align: top;\n",
       "    }\n",
       "\n",
       "    .dataframe thead th {\n",
       "        text-align: right;\n",
       "    }\n",
       "</style>\n",
       "<table border=\"1\" class=\"dataframe\">\n",
       "  <thead>\n",
       "    <tr style=\"text-align: right;\">\n",
       "      <th></th>\n",
       "      <th>№</th>\n",
       "      <th>URLs</th>\n",
       "      <th>Facebook shares</th>\n",
       "      <th>Facebook comments</th>\n",
       "      <th>Facebook comments plugin</th>\n",
       "      <th>Facebook reactions</th>\n",
       "      <th>Facebook total</th>\n",
       "      <th>Pins</th>\n",
       "      <th>Total</th>\n",
       "    </tr>\n",
       "  </thead>\n",
       "  <tbody>\n",
       "    <tr>\n",
       "      <th>0</th>\n",
       "      <td>1</td>\n",
       "      <td>https://www.change.org/p/justice-for-johnny-depp</td>\n",
       "      <td>260</td>\n",
       "      <td>94</td>\n",
       "      <td>0</td>\n",
       "      <td>217</td>\n",
       "      <td>571</td>\n",
       "      <td>3</td>\n",
       "      <td>574</td>\n",
       "    </tr>\n",
       "    <tr>\n",
       "      <th>1</th>\n",
       "      <td>2</td>\n",
       "      <td>https://www.change.org/p/warner-brothers-keep-...</td>\n",
       "      <td>474</td>\n",
       "      <td>410</td>\n",
       "      <td>0</td>\n",
       "      <td>1739</td>\n",
       "      <td>2623</td>\n",
       "      <td>0</td>\n",
       "      <td>2623</td>\n",
       "    </tr>\n",
       "    <tr>\n",
       "      <th>2</th>\n",
       "      <td>3</td>\n",
       "      <td>https://www.change.org/p/the-walt-disney-compa...</td>\n",
       "      <td>1044</td>\n",
       "      <td>891</td>\n",
       "      <td>0</td>\n",
       "      <td>6485</td>\n",
       "      <td>8420</td>\n",
       "      <td>4</td>\n",
       "      <td>8424</td>\n",
       "    </tr>\n",
       "    <tr>\n",
       "      <th>3</th>\n",
       "      <td>4</td>\n",
       "      <td>https://www.change.org/p/warner-brothers-do-no...</td>\n",
       "      <td>4</td>\n",
       "      <td>2</td>\n",
       "      <td>0</td>\n",
       "      <td>4</td>\n",
       "      <td>10</td>\n",
       "      <td>0</td>\n",
       "      <td>10</td>\n",
       "    </tr>\n",
       "    <tr>\n",
       "      <th>4</th>\n",
       "      <td>5</td>\n",
       "      <td>https://www.change.org/p/warner-brothers-dc-en...</td>\n",
       "      <td>0</td>\n",
       "      <td>0</td>\n",
       "      <td>0</td>\n",
       "      <td>0</td>\n",
       "      <td>0</td>\n",
       "      <td>0</td>\n",
       "      <td>0</td>\n",
       "    </tr>\n",
       "  </tbody>\n",
       "</table>\n",
       "</div>"
      ],
      "text/plain": [
       "   №                                               URLs  Facebook shares  \\\n",
       "0  1   https://www.change.org/p/justice-for-johnny-depp              260   \n",
       "1  2  https://www.change.org/p/warner-brothers-keep-...              474   \n",
       "2  3  https://www.change.org/p/the-walt-disney-compa...             1044   \n",
       "3  4  https://www.change.org/p/warner-brothers-do-no...                4   \n",
       "4  5  https://www.change.org/p/warner-brothers-dc-en...                0   \n",
       "\n",
       "   Facebook comments  Facebook comments plugin  Facebook reactions  \\\n",
       "0                 94                         0                 217   \n",
       "1                410                         0                1739   \n",
       "2                891                         0                6485   \n",
       "3                  2                         0                   4   \n",
       "4                  0                         0                   0   \n",
       "\n",
       "   Facebook total  Pins  Total  \n",
       "0             571     3    574  \n",
       "1            2623     0   2623  \n",
       "2            8420     4   8424  \n",
       "3              10     0     10  \n",
       "4               0     0      0  "
      ]
     },
     "execution_count": 32,
     "metadata": {},
     "output_type": "execute_result"
    }
   ],
   "source": [
    "df_shared_count0 = pd.read_csv('./Preliminary/' + csv_files[0])\n",
    "print(df_shared_count0.shape)\n",
    "df_shared_count0.head()"
   ]
  },
  {
   "cell_type": "code",
   "execution_count": 33,
   "id": "f6e47ca1",
   "metadata": {},
   "outputs": [
    {
     "name": "stdout",
     "output_type": "stream",
     "text": [
      "(1, 9)\n"
     ]
    },
    {
     "data": {
      "text/html": [
       "<div>\n",
       "<style scoped>\n",
       "    .dataframe tbody tr th:only-of-type {\n",
       "        vertical-align: middle;\n",
       "    }\n",
       "\n",
       "    .dataframe tbody tr th {\n",
       "        vertical-align: top;\n",
       "    }\n",
       "\n",
       "    .dataframe thead th {\n",
       "        text-align: right;\n",
       "    }\n",
       "</style>\n",
       "<table border=\"1\" class=\"dataframe\">\n",
       "  <thead>\n",
       "    <tr style=\"text-align: right;\">\n",
       "      <th></th>\n",
       "      <th>№</th>\n",
       "      <th>URLs</th>\n",
       "      <th>Facebook shares</th>\n",
       "      <th>Facebook comments</th>\n",
       "      <th>Facebook comments plugin</th>\n",
       "      <th>Facebook reactions</th>\n",
       "      <th>Facebook total</th>\n",
       "      <th>Pins</th>\n",
       "      <th>Total</th>\n",
       "    </tr>\n",
       "  </thead>\n",
       "  <tbody>\n",
       "    <tr>\n",
       "      <th>0</th>\n",
       "      <td>1</td>\n",
       "      <td>https://www.dailymail.co.uk/news/article-79477...</td>\n",
       "      <td>32876</td>\n",
       "      <td>34694</td>\n",
       "      <td>9</td>\n",
       "      <td>111794</td>\n",
       "      <td>179373</td>\n",
       "      <td>18</td>\n",
       "      <td>179391</td>\n",
       "    </tr>\n",
       "  </tbody>\n",
       "</table>\n",
       "</div>"
      ],
      "text/plain": [
       "   №                                               URLs  Facebook shares  \\\n",
       "0  1  https://www.dailymail.co.uk/news/article-79477...            32876   \n",
       "\n",
       "   Facebook comments  Facebook comments plugin  Facebook reactions  \\\n",
       "0              34694                         9              111794   \n",
       "\n",
       "   Facebook total  Pins   Total  \n",
       "0          179373    18  179391  "
      ]
     },
     "execution_count": 33,
     "metadata": {},
     "output_type": "execute_result"
    }
   ],
   "source": [
    "df_shared_count1 = pd.read_csv('./Preliminary/' + csv_files[1])\n",
    "print(df_shared_count1.shape)\n",
    "df_shared_count1.head()"
   ]
  },
  {
   "cell_type": "markdown",
   "id": "bf64f252",
   "metadata": {},
   "source": [
    "<br>"
   ]
  }
 ],
 "metadata": {
  "kernelspec": {
   "display_name": "Python 3 (ipykernel)",
   "language": "python",
   "name": "python3"
  },
  "language_info": {
   "codemirror_mode": {
    "name": "ipython",
    "version": 3
   },
   "file_extension": ".py",
   "mimetype": "text/x-python",
   "name": "python",
   "nbconvert_exporter": "python",
   "pygments_lexer": "ipython3",
   "version": "3.8.12"
  }
 },
 "nbformat": 4,
 "nbformat_minor": 5
}
