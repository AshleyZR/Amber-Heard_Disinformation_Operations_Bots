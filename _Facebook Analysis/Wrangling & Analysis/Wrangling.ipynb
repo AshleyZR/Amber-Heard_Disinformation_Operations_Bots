{
 "cells": [
  {
   "cell_type": "markdown",
   "id": "c8b60f7a",
   "metadata": {},
   "source": [
    "# Social Network Analysis - Amber Heard Case - Facebook\n",
    "MAHMOUD NAGY - FEB 2022"
   ]
  },
  {
   "cell_type": "markdown",
   "id": "a909de82",
   "metadata": {},
   "source": [
    "## Table of Contents\n",
    "<ul>\n",
    "<li><a href=\"#intro\"><b>Introduction</b></a></li>\n",
    "<li><a href=\"#wrangling\">Data Wrangling</a></li>\n",
    "<li><a href=\"#end\">End of Notebook</a></li>  \n",
    "</ul>"
   ]
  },
  {
   "cell_type": "markdown",
   "id": "183fa9e1",
   "metadata": {},
   "source": [
    "<a id='intro'></a>\n",
    "## Introduction\n",
    "\n",
    "> Facebook - Social Network Analysis on Amber Heard's Case Example.<br>\n",
    "Threat Analysis on commments, reviews of her Facebook Page."
   ]
  },
  {
   "cell_type": "code",
   "execution_count": 13,
   "id": "2e738da2",
   "metadata": {},
   "outputs": [
    {
     "data": {
      "text/plain": [
       "<module 'helpers' from '/Users/mnagy99/jupyter/AH/Facebook/SNA-AH-Case-Facebook/Wrangling & Analysis/helpers.py'>"
      ]
     },
     "execution_count": 13,
     "metadata": {},
     "output_type": "execute_result"
    }
   ],
   "source": [
    "import pandas as pd\n",
    "import numpy as np\n",
    "import os\n",
    "import time\n",
    "\n",
    "import helpers\n",
    "\n",
    "# To Apply helpers update\\s without resarting the kernel\n",
    "import importlib\n",
    "importlib.reload(helpers)"
   ]
  },
  {
   "cell_type": "code",
   "execution_count": 14,
   "id": "3111ddb4",
   "metadata": {},
   "outputs": [
    {
     "name": "stdout",
     "output_type": "stream",
     "text": [
      "/Users/mnagy99/jupyter/AH/Facebook/SNA-AH-Case-Facebook/data\n"
     ]
    }
   ],
   "source": [
    "cd ../data"
   ]
  },
  {
   "cell_type": "code",
   "execution_count": 3,
   "id": "bf4523a9",
   "metadata": {},
   "outputs": [],
   "source": [
    "csv_files = []\n",
    "for file in sorted(os.listdir()):\n",
    "    if file.split(\".\")[-1] == \"csv\":\n",
    "        csv_files.append(file)"
   ]
  },
  {
   "cell_type": "code",
   "execution_count": 4,
   "id": "a8367ecd",
   "metadata": {},
   "outputs": [
    {
     "data": {
      "text/plain": [
       "['From_Facebook_post_0.csv',\n",
       " 'From_Facebook_post_1.csv',\n",
       " 'From_Facebook_post_2.csv',\n",
       " 'From_Facebook_post_3.csv',\n",
       " 'From_Facebook_post_4.csv',\n",
       " 'From_Facebook_post_5.csv',\n",
       " 'From_Facebook_profile_review.csv',\n",
       " 'From_Facebook_searchurl_0.csv',\n",
       " '_all_data - NLU labeled train 12.4K.csv']"
      ]
     },
     "execution_count": 4,
     "metadata": {},
     "output_type": "execute_result"
    }
   ],
   "source": [
    "csv_files"
   ]
  },
  {
   "cell_type": "code",
   "execution_count": 5,
   "id": "c989b26d",
   "metadata": {},
   "outputs": [
    {
     "data": {
      "text/plain": [
       "9"
      ]
     },
     "execution_count": 5,
     "metadata": {},
     "output_type": "execute_result"
    }
   ],
   "source": [
    "len(csv_files)"
   ]
  },
  {
   "cell_type": "markdown",
   "id": "390feddd",
   "metadata": {},
   "source": [
    "<br>"
   ]
  },
  {
   "cell_type": "markdown",
   "id": "460c84eb",
   "metadata": {},
   "source": [
    "<a id='wrangling'></a>\n",
    "# Data Wrangling\n",
    "\n",
    "<ul>\n",
    "<li><a href=\"#intro\">Introduction</a></li>\n",
    "<li><a href=\"#wrangling\"><b>Data Wrangling</b></a></li>\n",
    "<li><a href=\"#end\">End of Notebook</a></li>  \n",
    "</ul>"
   ]
  },
  {
   "cell_type": "markdown",
   "id": "c30c048d",
   "metadata": {},
   "source": [
    "<a id='comments'></a>\n",
    ">># Posts Comments\n",
    "> <ul>\n",
    " <li><a href=\"#comments\"><b>Posts Comments</b></a></li>  \n",
    " <li><a href=\"#reviews\">Profile Reviews</a></li>  \n",
    " <li><a href=\"#nlu\">NLU DATA</a></li>\n",
    " <li><a href=\"#merged\">Merged DATA</a></li>\n",
    " </ul>"
   ]
  },
  {
   "cell_type": "code",
   "execution_count": 6,
   "id": "4b1c4405",
   "metadata": {},
   "outputs": [],
   "source": [
    "df_post0 = pd.read_csv(csv_files[0])\n",
    "df_post1 = pd.read_csv(csv_files[1])\n",
    "df_post2 = pd.read_csv(csv_files[2])\n",
    "df_post3 = pd.read_csv(csv_files[3])\n",
    "df_post4 = pd.read_csv(csv_files[4])\n",
    "df_post5 = pd.read_csv(csv_files[5])\n",
    "df_profile_review = pd.read_csv(csv_files[6])\n",
    "df_nlu = pd.read_csv(csv_files[8])"
   ]
  },
  {
   "cell_type": "code",
   "execution_count": 7,
   "id": "20174cab",
   "metadata": {},
   "outputs": [],
   "source": [
    "dfs = [\n",
    "    df_post0,\n",
    "    df_post1,\n",
    "    df_post2,\n",
    "    df_post3,\n",
    "    df_post4,\n",
    "    df_post5,\n",
    "]"
   ]
  },
  {
   "cell_type": "markdown",
   "id": "4e89074d",
   "metadata": {},
   "source": [
    "### Create a column to classify the text type  (Comment / Recommend / Not Recommend)\n",
    "Preparing for further merge"
   ]
  },
  {
   "cell_type": "code",
   "execution_count": 8,
   "id": "77a44140",
   "metadata": {},
   "outputs": [],
   "source": [
    "df_post0['type'] = 'post0_comment'\n",
    "df_post1['type'] = 'post1_comment'\n",
    "df_post2['type'] = 'post2_comment'\n",
    "df_post3['type'] = 'post3_comment'\n",
    "df_post4['type'] = 'post4_comment'\n",
    "df_post5['type'] = 'post5_comment'"
   ]
  },
  {
   "cell_type": "markdown",
   "id": "570ba84e",
   "metadata": {},
   "source": [
    "# Comments"
   ]
  },
  {
   "cell_type": "code",
   "execution_count": 9,
   "id": "884d0e06",
   "metadata": {},
   "outputs": [
    {
     "name": "stdout",
     "output_type": "stream",
     "text": [
      "(4665, 3)\n"
     ]
    },
    {
     "data": {
      "text/html": [
       "<div>\n",
       "<style scoped>\n",
       "    .dataframe tbody tr th:only-of-type {\n",
       "        vertical-align: middle;\n",
       "    }\n",
       "\n",
       "    .dataframe tbody tr th {\n",
       "        vertical-align: top;\n",
       "    }\n",
       "\n",
       "    .dataframe thead th {\n",
       "        text-align: right;\n",
       "    }\n",
       "</style>\n",
       "<table border=\"1\" class=\"dataframe\">\n",
       "  <thead>\n",
       "    <tr style=\"text-align: right;\">\n",
       "      <th></th>\n",
       "      <th>userName</th>\n",
       "      <th>comment</th>\n",
       "      <th>type</th>\n",
       "    </tr>\n",
       "  </thead>\n",
       "  <tbody>\n",
       "    <tr>\n",
       "      <th>0</th>\n",
       "      <td>Raychel RayRay</td>\n",
       "      <td>Skank</td>\n",
       "      <td>post0_comment</td>\n",
       "    </tr>\n",
       "    <tr>\n",
       "      <th>1</th>\n",
       "      <td>Rich Lawson</td>\n",
       "      <td>Not only are you a pretty rubbish actress you ...</td>\n",
       "      <td>post0_comment</td>\n",
       "    </tr>\n",
       "  </tbody>\n",
       "</table>\n",
       "</div>"
      ],
      "text/plain": [
       "         userName                                            comment  \\\n",
       "0  Raychel RayRay                                              Skank   \n",
       "1     Rich Lawson  Not only are you a pretty rubbish actress you ...   \n",
       "\n",
       "            type  \n",
       "0  post0_comment  \n",
       "1  post0_comment  "
      ]
     },
     "execution_count": 9,
     "metadata": {},
     "output_type": "execute_result"
    }
   ],
   "source": [
    "df_comments = pd.concat(dfs)\n",
    "print(df_comments.shape)\n",
    "df_comments.head(2)"
   ]
  },
  {
   "cell_type": "markdown",
   "id": "a816e904",
   "metadata": {},
   "source": [
    "### Create a column to classify the text type  (Comment / Recommend / Not Recommend)\n",
    "Preparing for further merge"
   ]
  },
  {
   "cell_type": "markdown",
   "id": "308816f4",
   "metadata": {},
   "source": [
    "<br>"
   ]
  },
  {
   "cell_type": "markdown",
   "id": "eb729aed",
   "metadata": {},
   "source": [
    "### Rename Columns"
   ]
  },
  {
   "cell_type": "code",
   "execution_count": 10,
   "id": "6760eba4",
   "metadata": {},
   "outputs": [],
   "source": [
    "df_comments.rename(columns={'userName': 'username'}, inplace=True)"
   ]
  },
  {
   "cell_type": "markdown",
   "id": "4f3204df",
   "metadata": {},
   "source": [
    "<br>"
   ]
  },
  {
   "cell_type": "code",
   "execution_count": 11,
   "id": "235af4d1",
   "metadata": {},
   "outputs": [
    {
     "name": "stdout",
     "output_type": "stream",
     "text": [
      "(4665, 3)\n"
     ]
    },
    {
     "data": {
      "text/html": [
       "<div>\n",
       "<style scoped>\n",
       "    .dataframe tbody tr th:only-of-type {\n",
       "        vertical-align: middle;\n",
       "    }\n",
       "\n",
       "    .dataframe tbody tr th {\n",
       "        vertical-align: top;\n",
       "    }\n",
       "\n",
       "    .dataframe thead th {\n",
       "        text-align: right;\n",
       "    }\n",
       "</style>\n",
       "<table border=\"1\" class=\"dataframe\">\n",
       "  <thead>\n",
       "    <tr style=\"text-align: right;\">\n",
       "      <th></th>\n",
       "      <th>username</th>\n",
       "      <th>comment</th>\n",
       "      <th>type</th>\n",
       "    </tr>\n",
       "  </thead>\n",
       "  <tbody>\n",
       "    <tr>\n",
       "      <th>0</th>\n",
       "      <td>Raychel RayRay</td>\n",
       "      <td>Skank</td>\n",
       "      <td>post0_comment</td>\n",
       "    </tr>\n",
       "    <tr>\n",
       "      <th>1</th>\n",
       "      <td>Rich Lawson</td>\n",
       "      <td>Not only are you a pretty rubbish actress you ...</td>\n",
       "      <td>post0_comment</td>\n",
       "    </tr>\n",
       "  </tbody>\n",
       "</table>\n",
       "</div>"
      ],
      "text/plain": [
       "         username                                            comment  \\\n",
       "0  Raychel RayRay                                              Skank   \n",
       "1     Rich Lawson  Not only are you a pretty rubbish actress you ...   \n",
       "\n",
       "            type  \n",
       "0  post0_comment  \n",
       "1  post0_comment  "
      ]
     },
     "execution_count": 11,
     "metadata": {},
     "output_type": "execute_result"
    }
   ],
   "source": [
    "print(df_comments.shape)\n",
    "df_comments.head(2)"
   ]
  },
  {
   "cell_type": "markdown",
   "id": "5ac61fe6",
   "metadata": {},
   "source": [
    "<br>"
   ]
  },
  {
   "cell_type": "markdown",
   "id": "9f73fcfd",
   "metadata": {},
   "source": [
    "### The Number of Repeated Comments on Different Posts by the Same User"
   ]
  },
  {
   "cell_type": "code",
   "execution_count": 12,
   "id": "ee01df18",
   "metadata": {},
   "outputs": [
    {
     "name": "stdout",
     "output_type": "stream",
     "text": [
      "\n",
      "The Number of Repeated Comments on Different Posts by the Same User: 0\n",
      "\n"
     ]
    }
   ],
   "source": [
    "print(f'\\nThe Number of Repeated Comments on Different Posts by the Same User: {df_comments.duplicated().sum()}\\n')\n"
   ]
  },
  {
   "cell_type": "code",
   "execution_count": 13,
   "id": "e4273b1c",
   "metadata": {},
   "outputs": [
    {
     "name": "stdout",
     "output_type": "stream",
     "text": [
      "<class 'pandas.core.frame.DataFrame'>\n",
      "Int64Index: 4665 entries, 0 to 362\n",
      "Data columns (total 3 columns):\n",
      " #   Column    Non-Null Count  Dtype \n",
      "---  ------    --------------  ----- \n",
      " 0   username  4665 non-null   object\n",
      " 1   comment   4659 non-null   object\n",
      " 2   type      4665 non-null   object\n",
      "dtypes: object(3)\n",
      "memory usage: 145.8+ KB\n"
     ]
    }
   ],
   "source": [
    "df_comments.info()"
   ]
  },
  {
   "cell_type": "markdown",
   "id": "a7a45214",
   "metadata": {},
   "source": [
    "# Deleted Comments"
   ]
  },
  {
   "cell_type": "code",
   "execution_count": 14,
   "id": "f2f00518",
   "metadata": {},
   "outputs": [
    {
     "data": {
      "text/html": [
       "<div>\n",
       "<style scoped>\n",
       "    .dataframe tbody tr th:only-of-type {\n",
       "        vertical-align: middle;\n",
       "    }\n",
       "\n",
       "    .dataframe tbody tr th {\n",
       "        vertical-align: top;\n",
       "    }\n",
       "\n",
       "    .dataframe thead th {\n",
       "        text-align: right;\n",
       "    }\n",
       "</style>\n",
       "<table border=\"1\" class=\"dataframe\">\n",
       "  <thead>\n",
       "    <tr style=\"text-align: right;\">\n",
       "      <th></th>\n",
       "      <th>username</th>\n",
       "      <th>comment</th>\n",
       "      <th>type</th>\n",
       "    </tr>\n",
       "  </thead>\n",
       "  <tbody>\n",
       "    <tr>\n",
       "      <th>260</th>\n",
       "      <td>Abrar Qader</td>\n",
       "      <td>NaN</td>\n",
       "      <td>post0_comment</td>\n",
       "    </tr>\n",
       "    <tr>\n",
       "      <th>15</th>\n",
       "      <td>Dayse Alves</td>\n",
       "      <td>NaN</td>\n",
       "      <td>post1_comment</td>\n",
       "    </tr>\n",
       "    <tr>\n",
       "      <th>41</th>\n",
       "      <td>Manfried von Thun</td>\n",
       "      <td>NaN</td>\n",
       "      <td>post2_comment</td>\n",
       "    </tr>\n",
       "    <tr>\n",
       "      <th>100</th>\n",
       "      <td>Jodi Line</td>\n",
       "      <td>NaN</td>\n",
       "      <td>post3_comment</td>\n",
       "    </tr>\n",
       "    <tr>\n",
       "      <th>7</th>\n",
       "      <td>Arthur Goebbels</td>\n",
       "      <td>NaN</td>\n",
       "      <td>post4_comment</td>\n",
       "    </tr>\n",
       "    <tr>\n",
       "      <th>3</th>\n",
       "      <td>Liadan Valeska</td>\n",
       "      <td>NaN</td>\n",
       "      <td>post5_comment</td>\n",
       "    </tr>\n",
       "  </tbody>\n",
       "</table>\n",
       "</div>"
      ],
      "text/plain": [
       "              username comment           type\n",
       "260        Abrar Qader     NaN  post0_comment\n",
       "15         Dayse Alves     NaN  post1_comment\n",
       "41   Manfried von Thun     NaN  post2_comment\n",
       "100          Jodi Line     NaN  post3_comment\n",
       "7      Arthur Goebbels     NaN  post4_comment\n",
       "3       Liadan Valeska     NaN  post5_comment"
      ]
     },
     "execution_count": 14,
     "metadata": {},
     "output_type": "execute_result"
    }
   ],
   "source": [
    "df_deleted = df_comments[df_comments.comment.isnull()]\n",
    "df_deleted"
   ]
  },
  {
   "cell_type": "code",
   "execution_count": 15,
   "id": "edfa4044",
   "metadata": {},
   "outputs": [],
   "source": [
    "deleted_list = list(df_deleted.username)"
   ]
  },
  {
   "cell_type": "code",
   "execution_count": 16,
   "id": "e9a9e4a2",
   "metadata": {},
   "outputs": [
    {
     "data": {
      "text/html": [
       "<div>\n",
       "<style scoped>\n",
       "    .dataframe tbody tr th:only-of-type {\n",
       "        vertical-align: middle;\n",
       "    }\n",
       "\n",
       "    .dataframe tbody tr th {\n",
       "        vertical-align: top;\n",
       "    }\n",
       "\n",
       "    .dataframe thead th {\n",
       "        text-align: right;\n",
       "    }\n",
       "</style>\n",
       "<table border=\"1\" class=\"dataframe\">\n",
       "  <thead>\n",
       "    <tr style=\"text-align: right;\">\n",
       "      <th></th>\n",
       "      <th>username</th>\n",
       "      <th>comment</th>\n",
       "      <th>type</th>\n",
       "    </tr>\n",
       "  </thead>\n",
       "  <tbody>\n",
       "    <tr>\n",
       "      <th>260</th>\n",
       "      <td>Abrar Qader</td>\n",
       "      <td>NaN</td>\n",
       "      <td>post0_comment</td>\n",
       "    </tr>\n",
       "    <tr>\n",
       "      <th>15</th>\n",
       "      <td>Dayse Alves</td>\n",
       "      <td>NaN</td>\n",
       "      <td>post1_comment</td>\n",
       "    </tr>\n",
       "    <tr>\n",
       "      <th>41</th>\n",
       "      <td>Manfried von Thun</td>\n",
       "      <td>NaN</td>\n",
       "      <td>post2_comment</td>\n",
       "    </tr>\n",
       "    <tr>\n",
       "      <th>100</th>\n",
       "      <td>Jodi Line</td>\n",
       "      <td>NaN</td>\n",
       "      <td>post3_comment</td>\n",
       "    </tr>\n",
       "    <tr>\n",
       "      <th>7</th>\n",
       "      <td>Arthur Goebbels</td>\n",
       "      <td>NaN</td>\n",
       "      <td>post4_comment</td>\n",
       "    </tr>\n",
       "    <tr>\n",
       "      <th>3</th>\n",
       "      <td>Liadan Valeska</td>\n",
       "      <td>NaN</td>\n",
       "      <td>post5_comment</td>\n",
       "    </tr>\n",
       "  </tbody>\n",
       "</table>\n",
       "</div>"
      ],
      "text/plain": [
       "              username comment           type\n",
       "260        Abrar Qader     NaN  post0_comment\n",
       "15         Dayse Alves     NaN  post1_comment\n",
       "41   Manfried von Thun     NaN  post2_comment\n",
       "100          Jodi Line     NaN  post3_comment\n",
       "7      Arthur Goebbels     NaN  post4_comment\n",
       "3       Liadan Valeska     NaN  post5_comment"
      ]
     },
     "execution_count": 16,
     "metadata": {},
     "output_type": "execute_result"
    }
   ],
   "source": [
    "df_comments[df_comments.username.isin(deleted_list)]"
   ]
  },
  {
   "cell_type": "markdown",
   "id": "22a0565c",
   "metadata": {},
   "source": [
    "<br>"
   ]
  },
  {
   "cell_type": "markdown",
   "id": "430f0e08",
   "metadata": {},
   "source": [
    "<a id='reviews'></a>\n",
    ">># Profile Reviews\n",
    "> <ul>\n",
    " <li><a href=\"#comments\">Posts Comments</a></li>  \n",
    " <li><a href=\"#reviews\"><b>Profile Reviews</b></a></li>  \n",
    " <li><a href=\"#nlu\">NLU DATA</a></li>\n",
    " <li><a href=\"#merged\">Merged DATA</a></li>\n",
    " </ul>"
   ]
  },
  {
   "cell_type": "markdown",
   "id": "3a22587c",
   "metadata": {},
   "source": [
    "# Profile Review Data"
   ]
  },
  {
   "cell_type": "code",
   "execution_count": 17,
   "id": "ce47389f",
   "metadata": {},
   "outputs": [
    {
     "name": "stdout",
     "output_type": "stream",
     "text": [
      "(657, 3)\n"
     ]
    },
    {
     "data": {
      "text/html": [
       "<div>\n",
       "<style scoped>\n",
       "    .dataframe tbody tr th:only-of-type {\n",
       "        vertical-align: middle;\n",
       "    }\n",
       "\n",
       "    .dataframe tbody tr th {\n",
       "        vertical-align: top;\n",
       "    }\n",
       "\n",
       "    .dataframe thead th {\n",
       "        text-align: right;\n",
       "    }\n",
       "</style>\n",
       "<table border=\"1\" class=\"dataframe\">\n",
       "  <thead>\n",
       "    <tr style=\"text-align: right;\">\n",
       "      <th></th>\n",
       "      <th>userName</th>\n",
       "      <th>recommend</th>\n",
       "      <th>text</th>\n",
       "    </tr>\n",
       "  </thead>\n",
       "  <tbody>\n",
       "    <tr>\n",
       "      <th>0</th>\n",
       "      <td>Gianluca Carlesso</td>\n",
       "      <td>Gianluca Carlesso doesn't recommend Amber Heard.</td>\n",
       "      <td>horrible person, that's the best description</td>\n",
       "    </tr>\n",
       "    <tr>\n",
       "      <th>1</th>\n",
       "      <td>Danieru Tan</td>\n",
       "      <td>Danieru Tan doesn't recommend Amber Heard.</td>\n",
       "      <td>Poor acting. Bad character. Not recommended fo...</td>\n",
       "    </tr>\n",
       "  </tbody>\n",
       "</table>\n",
       "</div>"
      ],
      "text/plain": [
       "            userName                                         recommend  \\\n",
       "0  Gianluca Carlesso  Gianluca Carlesso doesn't recommend Amber Heard.   \n",
       "1        Danieru Tan        Danieru Tan doesn't recommend Amber Heard.   \n",
       "\n",
       "                                                text  \n",
       "0       horrible person, that's the best description  \n",
       "1  Poor acting. Bad character. Not recommended fo...  "
      ]
     },
     "execution_count": 17,
     "metadata": {},
     "output_type": "execute_result"
    }
   ],
   "source": [
    "df_profile_review = pd.read_csv(csv_files[6])\n",
    "print(df_profile_review.shape)\n",
    "df_profile_review.head(2)"
   ]
  },
  {
   "cell_type": "code",
   "execution_count": 18,
   "id": "e1f1150c",
   "metadata": {},
   "outputs": [
    {
     "name": "stdout",
     "output_type": "stream",
     "text": [
      "<class 'pandas.core.frame.DataFrame'>\n",
      "RangeIndex: 657 entries, 0 to 656\n",
      "Data columns (total 3 columns):\n",
      " #   Column     Non-Null Count  Dtype \n",
      "---  ------     --------------  ----- \n",
      " 0   userName   657 non-null    object\n",
      " 1   recommend  657 non-null    object\n",
      " 2   text       657 non-null    object\n",
      "dtypes: object(3)\n",
      "memory usage: 15.5+ KB\n"
     ]
    }
   ],
   "source": [
    "df_profile_review.info()"
   ]
  },
  {
   "cell_type": "markdown",
   "id": "01d8f8fe",
   "metadata": {},
   "source": [
    "<br>"
   ]
  },
  {
   "cell_type": "markdown",
   "id": "61424e76",
   "metadata": {},
   "source": [
    "### Create a column to classify the text type  (Comment / Recommend / Not Recommend)"
   ]
  },
  {
   "cell_type": "code",
   "execution_count": 19,
   "id": "8d23a106",
   "metadata": {},
   "outputs": [],
   "source": [
    "conditions  = [df_profile_review['recommend'].str.contains(\"doesn't recommend\"),\n",
    "               df_profile_review['recommend'].str.contains('recommends')]\n",
    "\n",
    "choices     = ['Not Recommend', 'Recommend']\n",
    "    \n",
    "df_profile_review[\"type\"] = np.select(conditions, choices, default='...')"
   ]
  },
  {
   "cell_type": "code",
   "execution_count": 20,
   "id": "79467706",
   "metadata": {},
   "outputs": [
    {
     "data": {
      "text/plain": [
       "Not Recommend    615\n",
       "Recommend         42\n",
       "Name: type, dtype: int64"
      ]
     },
     "execution_count": 20,
     "metadata": {},
     "output_type": "execute_result"
    }
   ],
   "source": [
    "df_profile_review.type.value_counts()  "
   ]
  },
  {
   "cell_type": "markdown",
   "id": "3c9cd773",
   "metadata": {},
   "source": [
    "<br>"
   ]
  },
  {
   "cell_type": "markdown",
   "id": "1daf8306",
   "metadata": {},
   "source": [
    "### Drop Extraneous columns"
   ]
  },
  {
   "cell_type": "code",
   "execution_count": 21,
   "id": "f3e4a766",
   "metadata": {},
   "outputs": [],
   "source": [
    "df_profile_review.drop(columns='recommend', inplace=True)"
   ]
  },
  {
   "cell_type": "markdown",
   "id": "0a99ce9e",
   "metadata": {},
   "source": [
    "<br>"
   ]
  },
  {
   "cell_type": "markdown",
   "id": "4403416b",
   "metadata": {},
   "source": [
    "### Rename Columns"
   ]
  },
  {
   "cell_type": "code",
   "execution_count": 22,
   "id": "d4d5814f",
   "metadata": {},
   "outputs": [],
   "source": [
    "df_profile_review.rename(columns={'text': 'comment', 'userName': 'username'}, inplace=True)"
   ]
  },
  {
   "cell_type": "markdown",
   "id": "2d06ae01",
   "metadata": {},
   "source": [
    "<br>"
   ]
  },
  {
   "cell_type": "code",
   "execution_count": 23,
   "id": "f3774ec4",
   "metadata": {},
   "outputs": [
    {
     "name": "stdout",
     "output_type": "stream",
     "text": [
      "(657, 3)\n"
     ]
    },
    {
     "data": {
      "text/html": [
       "<div>\n",
       "<style scoped>\n",
       "    .dataframe tbody tr th:only-of-type {\n",
       "        vertical-align: middle;\n",
       "    }\n",
       "\n",
       "    .dataframe tbody tr th {\n",
       "        vertical-align: top;\n",
       "    }\n",
       "\n",
       "    .dataframe thead th {\n",
       "        text-align: right;\n",
       "    }\n",
       "</style>\n",
       "<table border=\"1\" class=\"dataframe\">\n",
       "  <thead>\n",
       "    <tr style=\"text-align: right;\">\n",
       "      <th></th>\n",
       "      <th>username</th>\n",
       "      <th>comment</th>\n",
       "      <th>type</th>\n",
       "    </tr>\n",
       "  </thead>\n",
       "  <tbody>\n",
       "    <tr>\n",
       "      <th>0</th>\n",
       "      <td>Gianluca Carlesso</td>\n",
       "      <td>horrible person, that's the best description</td>\n",
       "      <td>Not Recommend</td>\n",
       "    </tr>\n",
       "    <tr>\n",
       "      <th>1</th>\n",
       "      <td>Danieru Tan</td>\n",
       "      <td>Poor acting. Bad character. Not recommended fo...</td>\n",
       "      <td>Not Recommend</td>\n",
       "    </tr>\n",
       "  </tbody>\n",
       "</table>\n",
       "</div>"
      ],
      "text/plain": [
       "            username                                            comment  \\\n",
       "0  Gianluca Carlesso       horrible person, that's the best description   \n",
       "1        Danieru Tan  Poor acting. Bad character. Not recommended fo...   \n",
       "\n",
       "            type  \n",
       "0  Not Recommend  \n",
       "1  Not Recommend  "
      ]
     },
     "execution_count": 23,
     "metadata": {},
     "output_type": "execute_result"
    }
   ],
   "source": [
    "print(df_profile_review.shape)\n",
    "df_profile_review.head(2)"
   ]
  },
  {
   "cell_type": "markdown",
   "id": "ba9cdf0c",
   "metadata": {},
   "source": [
    "<br>"
   ]
  },
  {
   "cell_type": "markdown",
   "id": "4a9767c5",
   "metadata": {},
   "source": [
    "<a id='nlu'></a>\n",
    ">># NLU DATA\n",
    "> <ul>\n",
    " <li><a href=\"#comments\">Posts Comments</a></li>  \n",
    " <li><a href=\"#reviews\">Profile Reviews</a></li>  \n",
    " <li><a href=\"#nlu\"><b>NLU DATA</b></a></li>\n",
    " <li><a href=\"#merged\">Merged DATA</a></li>\n",
    " </ul>"
   ]
  },
  {
   "cell_type": "markdown",
   "id": "873deb58",
   "metadata": {},
   "source": [
    "# NLU"
   ]
  },
  {
   "cell_type": "code",
   "execution_count": 24,
   "id": "ccc5aa18",
   "metadata": {},
   "outputs": [
    {
     "name": "stdout",
     "output_type": "stream",
     "text": [
      "(12487, 5)\n"
     ]
    },
    {
     "data": {
      "text/html": [
       "<div>\n",
       "<style scoped>\n",
       "    .dataframe tbody tr th:only-of-type {\n",
       "        vertical-align: middle;\n",
       "    }\n",
       "\n",
       "    .dataframe tbody tr th {\n",
       "        vertical-align: top;\n",
       "    }\n",
       "\n",
       "    .dataframe thead th {\n",
       "        text-align: right;\n",
       "    }\n",
       "</style>\n",
       "<table border=\"1\" class=\"dataframe\">\n",
       "  <thead>\n",
       "    <tr style=\"text-align: right;\">\n",
       "      <th></th>\n",
       "      <th>comment_text</th>\n",
       "      <th>defense_AH</th>\n",
       "      <th>support_AH</th>\n",
       "      <th>offense_AH</th>\n",
       "      <th>defense_against_AH</th>\n",
       "    </tr>\n",
       "  </thead>\n",
       "  <tbody>\n",
       "    <tr>\n",
       "      <th>0</th>\n",
       "      <td>We love you Amber! Karen Ingala Smith, CEO of ...</td>\n",
       "      <td>0.0</td>\n",
       "      <td>1.0</td>\n",
       "      <td>0.0</td>\n",
       "      <td>0.0</td>\n",
       "    </tr>\n",
       "    <tr>\n",
       "      <th>1</th>\n",
       "      <td>She is a hero to domestic violence victims. Sh...</td>\n",
       "      <td>0.0</td>\n",
       "      <td>1.0</td>\n",
       "      <td>0.0</td>\n",
       "      <td>0.0</td>\n",
       "    </tr>\n",
       "  </tbody>\n",
       "</table>\n",
       "</div>"
      ],
      "text/plain": [
       "                                        comment_text  defense_AH  support_AH  \\\n",
       "0  We love you Amber! Karen Ingala Smith, CEO of ...         0.0         1.0   \n",
       "1  She is a hero to domestic violence victims. Sh...         0.0         1.0   \n",
       "\n",
       "   offense_AH  defense_against_AH  \n",
       "0         0.0                 0.0  \n",
       "1         0.0                 0.0  "
      ]
     },
     "execution_count": 24,
     "metadata": {},
     "output_type": "execute_result"
    }
   ],
   "source": [
    "df_nlu = pd.read_csv(csv_files[8])\n",
    "df_nlu.drop(columns='id', inplace=True)\n",
    "print(df_nlu.shape)\n",
    "df_nlu.head(2)"
   ]
  },
  {
   "cell_type": "markdown",
   "id": "909a9501",
   "metadata": {},
   "source": [
    "### Change Data Types"
   ]
  },
  {
   "cell_type": "code",
   "execution_count": 25,
   "id": "5b0ed0f3",
   "metadata": {},
   "outputs": [],
   "source": [
    "# change the type of the rounded values to boolean\n",
    "df_nlu['defense_AH'] = df_nlu['defense_AH'].astype('bool')\n",
    "df_nlu['support_AH'] = df_nlu['support_AH'].astype('bool')\n",
    "df_nlu['offense_AH'] = df_nlu['offense_AH'].astype('bool')\n",
    "df_nlu['defense_against_AH'] = df_nlu['defense_against_AH'].astype('bool')"
   ]
  },
  {
   "cell_type": "markdown",
   "id": "bce691e7",
   "metadata": {},
   "source": [
    "### Rename Columns"
   ]
  },
  {
   "cell_type": "code",
   "execution_count": 26,
   "id": "35a5d3f2",
   "metadata": {},
   "outputs": [],
   "source": [
    "df_nlu.rename(columns={'comment_text': 'comment'}, inplace=True)"
   ]
  },
  {
   "cell_type": "markdown",
   "id": "defcfb2e",
   "metadata": {},
   "source": [
    "<br>"
   ]
  },
  {
   "cell_type": "code",
   "execution_count": 27,
   "id": "8e347cfc",
   "metadata": {},
   "outputs": [
    {
     "name": "stdout",
     "output_type": "stream",
     "text": [
      "(12487, 5)\n"
     ]
    },
    {
     "data": {
      "text/html": [
       "<div>\n",
       "<style scoped>\n",
       "    .dataframe tbody tr th:only-of-type {\n",
       "        vertical-align: middle;\n",
       "    }\n",
       "\n",
       "    .dataframe tbody tr th {\n",
       "        vertical-align: top;\n",
       "    }\n",
       "\n",
       "    .dataframe thead th {\n",
       "        text-align: right;\n",
       "    }\n",
       "</style>\n",
       "<table border=\"1\" class=\"dataframe\">\n",
       "  <thead>\n",
       "    <tr style=\"text-align: right;\">\n",
       "      <th></th>\n",
       "      <th>comment</th>\n",
       "      <th>defense_AH</th>\n",
       "      <th>support_AH</th>\n",
       "      <th>offense_AH</th>\n",
       "      <th>defense_against_AH</th>\n",
       "    </tr>\n",
       "  </thead>\n",
       "  <tbody>\n",
       "    <tr>\n",
       "      <th>0</th>\n",
       "      <td>We love you Amber! Karen Ingala Smith, CEO of ...</td>\n",
       "      <td>False</td>\n",
       "      <td>True</td>\n",
       "      <td>False</td>\n",
       "      <td>False</td>\n",
       "    </tr>\n",
       "    <tr>\n",
       "      <th>1</th>\n",
       "      <td>She is a hero to domestic violence victims. Sh...</td>\n",
       "      <td>False</td>\n",
       "      <td>True</td>\n",
       "      <td>False</td>\n",
       "      <td>False</td>\n",
       "    </tr>\n",
       "  </tbody>\n",
       "</table>\n",
       "</div>"
      ],
      "text/plain": [
       "                                             comment  defense_AH  support_AH  \\\n",
       "0  We love you Amber! Karen Ingala Smith, CEO of ...       False        True   \n",
       "1  She is a hero to domestic violence victims. Sh...       False        True   \n",
       "\n",
       "   offense_AH  defense_against_AH  \n",
       "0       False               False  \n",
       "1       False               False  "
      ]
     },
     "execution_count": 27,
     "metadata": {},
     "output_type": "execute_result"
    }
   ],
   "source": [
    "print(df_nlu.shape)\n",
    "df_nlu.head(2)"
   ]
  },
  {
   "cell_type": "code",
   "execution_count": 28,
   "id": "eee01651",
   "metadata": {},
   "outputs": [
    {
     "name": "stdout",
     "output_type": "stream",
     "text": [
      "<class 'pandas.core.frame.DataFrame'>\n",
      "RangeIndex: 12487 entries, 0 to 12486\n",
      "Data columns (total 5 columns):\n",
      " #   Column              Non-Null Count  Dtype \n",
      "---  ------              --------------  ----- \n",
      " 0   comment             12487 non-null  object\n",
      " 1   defense_AH          12487 non-null  bool  \n",
      " 2   support_AH          12487 non-null  bool  \n",
      " 3   offense_AH          12487 non-null  bool  \n",
      " 4   defense_against_AH  12487 non-null  bool  \n",
      "dtypes: bool(4), object(1)\n",
      "memory usage: 146.5+ KB\n"
     ]
    }
   ],
   "source": [
    "df_nlu.info()"
   ]
  },
  {
   "cell_type": "markdown",
   "id": "2b81bfa7",
   "metadata": {},
   "source": [
    "<br>"
   ]
  },
  {
   "cell_type": "markdown",
   "id": "59142706",
   "metadata": {},
   "source": [
    "<a id='merged'></a>\n",
    ">># Merged DATA\n",
    "> <ul>\n",
    " <li><a href=\"#comments\">Posts Comments</a></li>  \n",
    " <li><a href=\"#reviews\">Profile Reviews</a></li>  \n",
    " <li><a href=\"#nlu\">NLU DATA</a></li>\n",
    " <li><a href=\"#merged\"><b>Merged DATA</b></a></li>\n",
    " </ul>"
   ]
  },
  {
   "cell_type": "code",
   "execution_count": 29,
   "id": "40c707ba",
   "metadata": {},
   "outputs": [
    {
     "name": "stdout",
     "output_type": "stream",
     "text": [
      "(5322, 3)\n"
     ]
    },
    {
     "data": {
      "text/html": [
       "<div>\n",
       "<style scoped>\n",
       "    .dataframe tbody tr th:only-of-type {\n",
       "        vertical-align: middle;\n",
       "    }\n",
       "\n",
       "    .dataframe tbody tr th {\n",
       "        vertical-align: top;\n",
       "    }\n",
       "\n",
       "    .dataframe thead th {\n",
       "        text-align: right;\n",
       "    }\n",
       "</style>\n",
       "<table border=\"1\" class=\"dataframe\">\n",
       "  <thead>\n",
       "    <tr style=\"text-align: right;\">\n",
       "      <th></th>\n",
       "      <th>username</th>\n",
       "      <th>comment</th>\n",
       "      <th>type</th>\n",
       "    </tr>\n",
       "  </thead>\n",
       "  <tbody>\n",
       "    <tr>\n",
       "      <th>0</th>\n",
       "      <td>Raychel RayRay</td>\n",
       "      <td>Skank</td>\n",
       "      <td>post0_comment</td>\n",
       "    </tr>\n",
       "    <tr>\n",
       "      <th>1</th>\n",
       "      <td>Rich Lawson</td>\n",
       "      <td>Not only are you a pretty rubbish actress you ...</td>\n",
       "      <td>post0_comment</td>\n",
       "    </tr>\n",
       "    <tr>\n",
       "      <th>2</th>\n",
       "      <td>Zeyneb Yusein</td>\n",
       "      <td>You're a shame and disgrace for your family, I...</td>\n",
       "      <td>post0_comment</td>\n",
       "    </tr>\n",
       "    <tr>\n",
       "      <th>3</th>\n",
       "      <td>William Mcneillie</td>\n",
       "      <td>😂 what's next in your game plan? Blame Arthur ...</td>\n",
       "      <td>post0_comment</td>\n",
       "    </tr>\n",
       "    <tr>\n",
       "      <th>4</th>\n",
       "      <td>Flash Garot</td>\n",
       "      <td>No one cares, you suck</td>\n",
       "      <td>post0_comment</td>\n",
       "    </tr>\n",
       "  </tbody>\n",
       "</table>\n",
       "</div>"
      ],
      "text/plain": [
       "            username                                            comment  \\\n",
       "0     Raychel RayRay                                              Skank   \n",
       "1        Rich Lawson  Not only are you a pretty rubbish actress you ...   \n",
       "2      Zeyneb Yusein  You're a shame and disgrace for your family, I...   \n",
       "3  William Mcneillie  😂 what's next in your game plan? Blame Arthur ...   \n",
       "4        Flash Garot                             No one cares, you suck   \n",
       "\n",
       "            type  \n",
       "0  post0_comment  \n",
       "1  post0_comment  \n",
       "2  post0_comment  \n",
       "3  post0_comment  \n",
       "4  post0_comment  "
      ]
     },
     "execution_count": 29,
     "metadata": {},
     "output_type": "execute_result"
    }
   ],
   "source": [
    "# First Merge the Comments and Reviews data\n",
    "df_merged = pd.concat([df_comments, df_profile_review])\n",
    "print(df_merged.shape)\n",
    "df_merged.head()"
   ]
  },
  {
   "cell_type": "code",
   "execution_count": 30,
   "id": "bee73204",
   "metadata": {},
   "outputs": [
    {
     "name": "stdout",
     "output_type": "stream",
     "text": [
      "(5322, 7)\n"
     ]
    },
    {
     "data": {
      "text/html": [
       "<div>\n",
       "<style scoped>\n",
       "    .dataframe tbody tr th:only-of-type {\n",
       "        vertical-align: middle;\n",
       "    }\n",
       "\n",
       "    .dataframe tbody tr th {\n",
       "        vertical-align: top;\n",
       "    }\n",
       "\n",
       "    .dataframe thead th {\n",
       "        text-align: right;\n",
       "    }\n",
       "</style>\n",
       "<table border=\"1\" class=\"dataframe\">\n",
       "  <thead>\n",
       "    <tr style=\"text-align: right;\">\n",
       "      <th></th>\n",
       "      <th>username</th>\n",
       "      <th>comment</th>\n",
       "      <th>type</th>\n",
       "      <th>defense_AH</th>\n",
       "      <th>support_AH</th>\n",
       "      <th>offense_AH</th>\n",
       "      <th>defense_against_AH</th>\n",
       "    </tr>\n",
       "  </thead>\n",
       "  <tbody>\n",
       "    <tr>\n",
       "      <th>0</th>\n",
       "      <td>Raychel RayRay</td>\n",
       "      <td>Skank</td>\n",
       "      <td>post0_comment</td>\n",
       "      <td>NaN</td>\n",
       "      <td>NaN</td>\n",
       "      <td>NaN</td>\n",
       "      <td>NaN</td>\n",
       "    </tr>\n",
       "    <tr>\n",
       "      <th>1</th>\n",
       "      <td>Rich Lawson</td>\n",
       "      <td>Not only are you a pretty rubbish actress you ...</td>\n",
       "      <td>post0_comment</td>\n",
       "      <td>NaN</td>\n",
       "      <td>NaN</td>\n",
       "      <td>NaN</td>\n",
       "      <td>NaN</td>\n",
       "    </tr>\n",
       "    <tr>\n",
       "      <th>2</th>\n",
       "      <td>Zeyneb Yusein</td>\n",
       "      <td>You're a shame and disgrace for your family, I...</td>\n",
       "      <td>post0_comment</td>\n",
       "      <td>NaN</td>\n",
       "      <td>NaN</td>\n",
       "      <td>NaN</td>\n",
       "      <td>NaN</td>\n",
       "    </tr>\n",
       "    <tr>\n",
       "      <th>3</th>\n",
       "      <td>William Mcneillie</td>\n",
       "      <td>😂 what's next in your game plan? Blame Arthur ...</td>\n",
       "      <td>post0_comment</td>\n",
       "      <td>NaN</td>\n",
       "      <td>NaN</td>\n",
       "      <td>NaN</td>\n",
       "      <td>NaN</td>\n",
       "    </tr>\n",
       "    <tr>\n",
       "      <th>4</th>\n",
       "      <td>Flash Garot</td>\n",
       "      <td>No one cares, you suck</td>\n",
       "      <td>post0_comment</td>\n",
       "      <td>NaN</td>\n",
       "      <td>NaN</td>\n",
       "      <td>NaN</td>\n",
       "      <td>NaN</td>\n",
       "    </tr>\n",
       "  </tbody>\n",
       "</table>\n",
       "</div>"
      ],
      "text/plain": [
       "            username                                            comment  \\\n",
       "0     Raychel RayRay                                              Skank   \n",
       "1        Rich Lawson  Not only are you a pretty rubbish actress you ...   \n",
       "2      Zeyneb Yusein  You're a shame and disgrace for your family, I...   \n",
       "3  William Mcneillie  😂 what's next in your game plan? Blame Arthur ...   \n",
       "4        Flash Garot                             No one cares, you suck   \n",
       "\n",
       "            type defense_AH support_AH offense_AH defense_against_AH  \n",
       "0  post0_comment        NaN        NaN        NaN                NaN  \n",
       "1  post0_comment        NaN        NaN        NaN                NaN  \n",
       "2  post0_comment        NaN        NaN        NaN                NaN  \n",
       "3  post0_comment        NaN        NaN        NaN                NaN  \n",
       "4  post0_comment        NaN        NaN        NaN                NaN  "
      ]
     },
     "execution_count": 30,
     "metadata": {},
     "output_type": "execute_result"
    }
   ],
   "source": [
    "# Then Add the NLU to the merged data\n",
    "df_merged_final = df_merged.merge(df_nlu, on='comment', how='left')\n",
    "print(df_merged_final.shape)\n",
    "df_merged_final.head()"
   ]
  },
  {
   "cell_type": "markdown",
   "id": "39250cf9",
   "metadata": {},
   "source": [
    "# Normalizing Text"
   ]
  },
  {
   "cell_type": "code",
   "execution_count": 31,
   "id": "d832fe9d",
   "metadata": {},
   "outputs": [],
   "source": [
    "df_merged_final.comment = df_merged_final.comment.str.lower()"
   ]
  },
  {
   "cell_type": "code",
   "execution_count": 32,
   "id": "d1cc7389",
   "metadata": {},
   "outputs": [
    {
     "name": "stdout",
     "output_type": "stream",
     "text": [
      "(1467, 7)\n"
     ]
    },
    {
     "data": {
      "text/html": [
       "<div>\n",
       "<style scoped>\n",
       "    .dataframe tbody tr th:only-of-type {\n",
       "        vertical-align: middle;\n",
       "    }\n",
       "\n",
       "    .dataframe tbody tr th {\n",
       "        vertical-align: top;\n",
       "    }\n",
       "\n",
       "    .dataframe thead th {\n",
       "        text-align: right;\n",
       "    }\n",
       "</style>\n",
       "<table border=\"1\" class=\"dataframe\">\n",
       "  <thead>\n",
       "    <tr style=\"text-align: right;\">\n",
       "      <th></th>\n",
       "      <th>username</th>\n",
       "      <th>comment</th>\n",
       "      <th>type</th>\n",
       "      <th>defense_AH</th>\n",
       "      <th>support_AH</th>\n",
       "      <th>offense_AH</th>\n",
       "      <th>defense_against_AH</th>\n",
       "    </tr>\n",
       "  </thead>\n",
       "  <tbody>\n",
       "    <tr>\n",
       "      <th>158</th>\n",
       "      <td>Melvs Grao</td>\n",
       "      <td>ive watch your aqua man movie and in amaze...i...</td>\n",
       "      <td>post0_comment</td>\n",
       "      <td>False</td>\n",
       "      <td>True</td>\n",
       "      <td>True</td>\n",
       "      <td>False</td>\n",
       "    </tr>\n",
       "    <tr>\n",
       "      <th>217</th>\n",
       "      <td>Kaly Quesada</td>\n",
       "      <td>you are a horrible human. i hope you never get...</td>\n",
       "      <td>post0_comment</td>\n",
       "      <td>False</td>\n",
       "      <td>False</td>\n",
       "      <td>True</td>\n",
       "      <td>False</td>\n",
       "    </tr>\n",
       "    <tr>\n",
       "      <th>238</th>\n",
       "      <td>Juju Foulk</td>\n",
       "      <td>if 2020 were a person it’d be amber heard.</td>\n",
       "      <td>post0_comment</td>\n",
       "      <td>False</td>\n",
       "      <td>False</td>\n",
       "      <td>True</td>\n",
       "      <td>False</td>\n",
       "    </tr>\n",
       "    <tr>\n",
       "      <th>493</th>\n",
       "      <td>Haily Abram</td>\n",
       "      <td>sign and share to get biased justice nicol fir...</td>\n",
       "      <td>post0_comment</td>\n",
       "      <td>False</td>\n",
       "      <td>False</td>\n",
       "      <td>True</td>\n",
       "      <td>False</td>\n",
       "    </tr>\n",
       "    <tr>\n",
       "      <th>569</th>\n",
       "      <td>Devon Acosta</td>\n",
       "      <td>actual garage &gt;&gt;&gt; amber heard</td>\n",
       "      <td>post0_comment</td>\n",
       "      <td>False</td>\n",
       "      <td>False</td>\n",
       "      <td>True</td>\n",
       "      <td>False</td>\n",
       "    </tr>\n",
       "  </tbody>\n",
       "</table>\n",
       "</div>"
      ],
      "text/plain": [
       "         username                                            comment  \\\n",
       "158    Melvs Grao  ive watch your aqua man movie and in amaze...i...   \n",
       "217  Kaly Quesada  you are a horrible human. i hope you never get...   \n",
       "238    Juju Foulk         if 2020 were a person it’d be amber heard.   \n",
       "493   Haily Abram  sign and share to get biased justice nicol fir...   \n",
       "569  Devon Acosta                      actual garage >>> amber heard   \n",
       "\n",
       "              type defense_AH support_AH offense_AH defense_against_AH  \n",
       "158  post0_comment      False       True       True              False  \n",
       "217  post0_comment      False      False       True              False  \n",
       "238  post0_comment      False      False       True              False  \n",
       "493  post0_comment      False      False       True              False  \n",
       "569  post0_comment      False      False       True              False  "
      ]
     },
     "execution_count": 32,
     "metadata": {},
     "output_type": "execute_result"
    }
   ],
   "source": [
    "df_offense = df_merged_final[df_merged_final.offense_AH == True]\n",
    "print(df_offense.shape)\n",
    "df_offense.head()"
   ]
  },
  {
   "cell_type": "markdown",
   "id": "27d56520",
   "metadata": {},
   "source": [
    "# Add A contains_alpha Column"
   ]
  },
  {
   "cell_type": "code",
   "execution_count": 112,
   "id": "76ec5aa3",
   "metadata": {},
   "outputs": [],
   "source": [
    "df_merged_final['comment'] = df_merged_final['comment'].fillna('isnan')"
   ]
  },
  {
   "cell_type": "code",
   "execution_count": 113,
   "id": "84789e50",
   "metadata": {},
   "outputs": [
    {
     "data": {
      "text/plain": [
       "0"
      ]
     },
     "execution_count": 113,
     "metadata": {},
     "output_type": "execute_result"
    }
   ],
   "source": [
    "df_merged_final['comment'].isnull().sum()"
   ]
  },
  {
   "cell_type": "code",
   "execution_count": 130,
   "id": "0c5f6f7b",
   "metadata": {},
   "outputs": [],
   "source": [
    "# def replace_nan(x):\n",
    "#     if x == 'nan':\n",
    "#         x = x.replace('nan', 'isnan')\n",
    "#     return x"
   ]
  },
  {
   "cell_type": "code",
   "execution_count": 127,
   "id": "fd6054f9",
   "metadata": {},
   "outputs": [],
   "source": [
    "# df_merged_final['comment'] = df_merged_final['comment'].apply(lambda x: replace_nan(x))"
   ]
  },
  {
   "cell_type": "code",
   "execution_count": 129,
   "id": "6034f3a0",
   "metadata": {},
   "outputs": [],
   "source": [
    "# df_merged_final[df_merged_final.comment == 'isnan']"
   ]
  },
  {
   "cell_type": "code",
   "execution_count": 115,
   "id": "401118d3",
   "metadata": {},
   "outputs": [
    {
     "data": {
      "text/html": [
       "<div>\n",
       "<style scoped>\n",
       "    .dataframe tbody tr th:only-of-type {\n",
       "        vertical-align: middle;\n",
       "    }\n",
       "\n",
       "    .dataframe tbody tr th {\n",
       "        vertical-align: top;\n",
       "    }\n",
       "\n",
       "    .dataframe thead th {\n",
       "        text-align: right;\n",
       "    }\n",
       "</style>\n",
       "<table border=\"1\" class=\"dataframe\">\n",
       "  <thead>\n",
       "    <tr style=\"text-align: right;\">\n",
       "      <th></th>\n",
       "      <th>username</th>\n",
       "      <th>comment</th>\n",
       "      <th>type</th>\n",
       "      <th>defense_AH</th>\n",
       "      <th>support_AH</th>\n",
       "      <th>offense_AH</th>\n",
       "      <th>defense_against_AH</th>\n",
       "      <th>contains_alpha</th>\n",
       "      <th>clean_text</th>\n",
       "      <th>language</th>\n",
       "      <th>translated</th>\n",
       "    </tr>\n",
       "  </thead>\n",
       "  <tbody>\n",
       "  </tbody>\n",
       "</table>\n",
       "</div>"
      ],
      "text/plain": [
       "Empty DataFrame\n",
       "Columns: [username, comment, type, defense_AH, support_AH, offense_AH, defense_against_AH, contains_alpha, clean_text, language, translated]\n",
       "Index: []"
      ]
     },
     "execution_count": 115,
     "metadata": {},
     "output_type": "execute_result"
    }
   ],
   "source": [
    "df_merged_final[df_merged_final.comment.isnull()]"
   ]
  },
  {
   "cell_type": "code",
   "execution_count": 34,
   "id": "3b4100c8",
   "metadata": {},
   "outputs": [],
   "source": [
    "import re\n",
    "df_merged_final['contains_alpha'] = df_merged_final.comment.apply(lambda x: bool(re.match('^(?=.*[a-zA-Z])', x))) "
   ]
  },
  {
   "cell_type": "code",
   "execution_count": 35,
   "id": "21f1524e",
   "metadata": {},
   "outputs": [
    {
     "data": {
      "text/plain": [
       "True     5175\n",
       "False     147\n",
       "Name: contains_alpha, dtype: int64"
      ]
     },
     "execution_count": 35,
     "metadata": {},
     "output_type": "execute_result"
    }
   ],
   "source": [
    "df_merged_final.contains_alpha.value_counts()"
   ]
  },
  {
   "cell_type": "code",
   "execution_count": 36,
   "id": "9423a109",
   "metadata": {},
   "outputs": [],
   "source": [
    "# df_merged_final.contains_alpha.sum()"
   ]
  },
  {
   "cell_type": "code",
   "execution_count": 37,
   "id": "d9195a6a",
   "metadata": {},
   "outputs": [],
   "source": [
    "# print(df_merged_final[~df_merged_final.contains_alpha].shape)\n",
    "# df_merged_final[~df_merged_final.contains_alpha]"
   ]
  },
  {
   "cell_type": "markdown",
   "id": "9a1cf8e4",
   "metadata": {},
   "source": [
    "<br>"
   ]
  },
  {
   "cell_type": "markdown",
   "id": "a2eb258e",
   "metadata": {},
   "source": [
    "Sinhala, is an Indo-Aryan language primarily spoken by the Sinhalese people of Sri Lanka, who make up the largest ethnic group on the island, numbering about 16 million. Sinhala is also spoken as the first language by other ethnic groups in Sri Lanka, totaling about 4 million people as of 2001. Wikipedia"
   ]
  },
  {
   "cell_type": "markdown",
   "id": "33b47f7b",
   "metadata": {},
   "source": [
    "- muerte --> (Spanish) Death\n",
    "- 死ね --> (Japanese) Die\n",
    "- muerete --> (Spanish) Die\n",
    "- morire --> (Italian) Die\n",
    "- morir --> (Spanish) To die\n",
    "- muere --> (Spanish) go dead\n",
    "- matar --> (Portuguese) to kill"
   ]
  },
  {
   "cell_type": "markdown",
   "id": "6fcc0790",
   "metadata": {},
   "source": [
    "地獄で死ね --> Die in hell <br>\n",
    "死ね --> Die <br>\n",
    "死 --> Die <br>"
   ]
  },
  {
   "cell_type": "markdown",
   "id": "25c7484a",
   "metadata": {},
   "source": [
    "- くたばれ この野郎。地獄で死ね！！！！<br>\n",
    "(Japanese) Kutabare This bastard. Die in hell! !! !!\n",
    "- ගොන් හුත්ති... තොට කෙලවෙලාම පල වේස බැල්ලි... <br>\n",
    "(Sinhala) Bullshit ... bitch at the end of the mouth ...\n",
    "- මේ පට්ටෞ ත්.ති.ගෙ දුව මැරිලාවත් යන් නෑනෙ <br>\n",
    "(Sinhala) The daughter of this Pattau Ththi is not even dead\n",
    "- පින්න බැල්ලි ද්ද්න් සතුටුද <br>\n",
    "(Sinhala) Are the deer bitches happy?"
   ]
  },
  {
   "cell_type": "code",
   "execution_count": 38,
   "id": "5500ad6e",
   "metadata": {},
   "outputs": [
    {
     "data": {
      "text/plain": [
       "💩                                                                                                4\n",
       "🤮🤮🤮🤮🤮                                                                                            4\n",
       "🐍 🐍 🐍                                                                                            3\n",
       "𝗗𝗶𝘀𝗹𝗶𝗸𝗲/𝗨𝗻𝗳𝗼𝗹𝗹𝗼𝘄 𝗔𝗺𝗯𝗲𝗿 𝗛𝗲𝗮𝗿𝗱 𝗼𝗻 𝗮𝗹𝗹 𝘀𝗼𝗰𝗶𝗮𝗹 𝗺𝗲𝗱𝗶𝗮. 𝗟𝗶𝗸𝗲 𝘁𝗵𝗶𝘀 𝗰𝗼𝗺𝗺𝗲𝗻𝘁 𝗮𝗻𝗱 𝘁𝗮𝗸𝗲 𝗶𝘁 𝘁𝗼 𝘁𝗵𝗲 𝘁𝗼𝗽.      2\n",
       ".                                                                                                2\n",
       "✨💓💪🏻🥰✨\\r\\n#deppcember\\r\\n#justiceforjohnnydeep\\r\\n…see more                                      2\n",
       "🤮🤮🤮🤮🤮🤮🤮                                                                                          2\n",
       "💩💩💩💩💩💩💩💩                                                                                         2\n",
       "𝗗𝗶𝘀𝗹𝗶𝗸𝗲/𝗨𝗻𝗳𝗼𝗹𝗹𝗼𝘄 𝗔𝗺𝗯𝗲𝗿 𝗛𝗲𝗮𝗿𝗱 𝗳𝗿𝗼𝗺 𝗮𝗹𝗹 𝘀𝗼𝗰𝗶𝗮𝗹 𝗺𝗲𝗱𝗶𝗮. 𝗟𝗶𝗸𝗲 𝘁𝗵𝗶𝘀 𝗰𝗼𝗺𝗺𝗲𝗻𝘁 𝗮𝗻𝗱 𝘁𝗮𝗸𝗲 𝗶𝘁 𝘁𝗼 𝘁𝗵𝗲 𝘁𝗼𝗽.    2\n",
       "✨ 😍💓🥰💪🏻😘✨\\r\\n#justiceforjohnnydeep\\r\\n#johnnydeppisinnocent\\r\\n…see more                         2\n",
       "💩💩💩💩💩💩💩💩💩                                                                                        2\n",
       "💩 💩 💩 🤮 🤮 🤮                                                                                      2\n",
       "🖕🖕🖕🖕🖕🖕🖕🖕🖕🖕                                                                                       1\n",
       "😭😭😭😭                                                                                             1\n",
       "ගොන් හුත්ති... තොට කෙලවෙලාම පල වේස බැල්ලි...                                                     1\n",
       "👎👎💩💩🖕🖕🤮🤮🤮🤢🤮                                                                                      1\n",
       "🤮                                                                                                1\n",
       "🤢🤢🤢🤮🤮🤢                                                                                           1\n",
       "🖕🖕🖕🐍                                                                                             1\n",
       "මේ පට්ටෞ ත්.ති.ගෙ දුව මැරිලාවත් යන් නෑනෙ 😪                                                       1\n",
       "🤢🤢🤢🤢🤢🤢🤢🤢🤢🤢🤢🤢🤢🤢🤢🤢🤮🤮🤮🤮🤮🤢🤢🤢🤢🤢🤢🤢🤢🤢🤢                                                                  1\n",
       "а грин . \"бегущая по волнам\"                                                                     1\n",
       "🤮🤮🤮🤮🤮🤮🤮🤮🤮                                                                                        1\n",
       "🖕🖕🖕🖕🖕🖕🖕                                                                                          1\n",
       "ආදරෙයි පන😍                                                                                       1\n",
       "😡😡😡😡😡😡😡😡😡😡😡😡😡😡😡😡😡😡😡😡😡😡😡😡😡😡😡😡😡😡😡😡😡😡😡😡😡😡😡😡😡😡😡😡😡                                                    1\n",
       "ඒස බැ**                                                                                          1\n",
       "පින්න බැල්ලි ද්ද්න් සතුටුද                                                                       1\n",
       "වයි බම්ග් එම කරේ😒😒😒                                                                              1\n",
       "ඒසාවි                                                                                            1\n",
       "шаболда!!!                                                                                       1\n",
       "🖕🏻🖕🏻🖕🏻🖕🏻                                                                                         1\n",
       "🤢🤢🤢🤢🤢🤢🤢🤢🤢🤢🤢🤢🤢🤢🤢🤢🤢                                                                                1\n",
       "🤢🤢🤢🤮                                                                                             1\n",
       "🐀 🐀🐀🐀🐀🐀🐀🐀🐀🐀                                                                                      1\n",
       "💩💩💩💩                                                                                             1\n",
       "වටේ යනවා නෙ 😏                                                                                    1\n",
       "🤮🤮🤮🤮                                                                                             1\n",
       "когда насрала джонни в постель и улыбаешься 😂😂🤜🤛                                                 1\n",
       "😡😠😡😠😡😠😡😠😡😠😡😠😡😠😡😠😡😠😡😠😡😠😡😠😡😠                                                                       1\n",
       ".........................                                                                        1\n",
       "🤮🤮🤮🤮🤮🤮🤮🤮🤮🤮🤮🤮🤮🤮🤮🤮🤮🤮🤮🤮🤮🤮🤮🤮🤮                                                                        1\n",
       "くたばれ この野郎。地獄で死ね！！！！🤬🤬🤬🤬🤬🖕                                                                        1\n",
       "😡😡😡😡😡😡😡😡😡😡😡😡😡😡😡😡😡😡😡😡😡😡😡😡😡😡                                                                       1\n",
       "🤬😡🤬😡🤬😡🤬😡🤬😡🤬😡🤬😡🤬😡🤬😡🤬😡🤬😡🤬😡🤬😡                                                                       1\n",
       "плохая актриса и лживый человек...!                                                              1\n",
       "🤮🤮🤮🤮🤮🤮🤮🤮🤮🤮🤮🤮🤮🤮🤮🤮🤮🤮🤮🤮🤮🤮🤮🤮🤮🤮                                                                       1\n",
       "🤬🤬🤬🤬🤬🤬🤬🤬🤬🤬🤬🤬🤬                                                                                    1\n",
       "🤬🤬🤬🤬🤬🤬🤬🤬🤬🤬🤬🤬🤬🤬🤬🤬🤬🤬🤬🤬🤬🤬🤬🤬🤬🤬                                                                       1\n",
       "🙄🙄🙄🙄🙄🙄😶😶😶😶😶😶😶😤😤😤😤😤😤😡😡😡😡😡😡                                                                        1\n",
       "💀💀💀👹👹👹🤏🏻🤏🏻🤏🏻🤏🏻🤏🏻🤏🏻👎🏻👎🏻👎🏻👎🏻👎🏻👎🏻👎🏻                                                                 1\n",
       "👎👎👎👎👎👎👎👎👎👎👎👎👎👎👎👎🖕🖕🖕🖕🖕🖕🖕🖕🖕🖕                                                                       1\n",
       "🖕🏿🖕🏿🖕🏿🖕🏿🖕🏿🖕🏿🖕🏿🖕🏿🖕🏿🖕🏿🖕🏿🖕🏿🖕🏿😤                                                                      1\n",
       "🤮 🤮🤮🤮🤮🤮🤮🤮🤮🤮🤮🤮🤮🤮🤮🤮🤮🤮🤮🤮🤮🤮🤮🤮🤮🤮🤮🤮🤮🤮🤮🤮🤮🤮🤮🤮🤮🤮🤮🤮                                                        1\n",
       "ဖေလိုးမ ဖာသယ်မ                                                                                   1\n",
       "-.- ......................... -.-                                                                1\n",
       "😡😡😡,🤬🤬🤬🤬😡😡🤬🤬🤬😡😡😡🤬😡😡😡😡😡😡🤬🤬🤬                                                                       1\n",
       "🖕🖕🖕😠 😠 😠 😠 😠 😠 😠 😠 😠 😠😠😠🖕🖕🖕🖕🖕🖕                                                                   1\n",
       "🤢🤢🤢🤢                                                                                             1\n",
       "💚 💚 💚                                                                                            1\n",
       "Name: comment, dtype: int64"
      ]
     },
     "execution_count": 38,
     "metadata": {},
     "output_type": "execute_result"
    }
   ],
   "source": [
    "df_merged_final[~df_merged_final.contains_alpha].comment.value_counts().head(60)"
   ]
  },
  {
   "cell_type": "code",
   "execution_count": 39,
   "id": "7124e89a",
   "metadata": {},
   "outputs": [
    {
     "data": {
      "text/plain": [
       "4602    False\n",
       "Name: contains_alpha, dtype: bool"
      ]
     },
     "execution_count": 39,
     "metadata": {},
     "output_type": "execute_result"
    }
   ],
   "source": [
    "df_merged_final.loc[df_merged_final['comment'] == '💚 💚 💚', 'contains_alpha']"
   ]
  },
  {
   "cell_type": "code",
   "execution_count": 40,
   "id": "b3c98fbb",
   "metadata": {},
   "outputs": [
    {
     "data": {
      "text/plain": [
       "False"
      ]
     },
     "execution_count": 40,
     "metadata": {},
     "output_type": "execute_result"
    }
   ],
   "source": [
    "df_merged_final.loc[df_merged_final['comment'] == '💚 💚 💚', 'contains_alpha'].values[0]"
   ]
  },
  {
   "cell_type": "code",
   "execution_count": 41,
   "id": "8b94a0d0",
   "metadata": {},
   "outputs": [
    {
     "data": {
      "text/plain": [
       "[False]"
      ]
     },
     "execution_count": 41,
     "metadata": {},
     "output_type": "execute_result"
    }
   ],
   "source": [
    "df_merged_final.loc[df_merged_final['comment'] == '💚 💚 💚', 'contains_alpha'].tolist()"
   ]
  },
  {
   "cell_type": "code",
   "execution_count": 42,
   "id": "27b65c05",
   "metadata": {},
   "outputs": [
    {
     "data": {
      "text/plain": [
       "False"
      ]
     },
     "execution_count": 42,
     "metadata": {},
     "output_type": "execute_result"
    }
   ],
   "source": [
    "df_merged_final.loc[df_merged_final['comment'] == '💚 💚 💚', 'contains_alpha'].item()"
   ]
  },
  {
   "cell_type": "markdown",
   "id": "f285ab3a",
   "metadata": {},
   "source": [
    "# Remove Emojis"
   ]
  },
  {
   "cell_type": "code",
   "execution_count": 43,
   "id": "015776a7",
   "metadata": {},
   "outputs": [],
   "source": [
    "def remove_emojis(text):\n",
    "    emoji_pattern = re.compile(\"[\"\n",
    "                               \"❤️\"\n",
    "                               \"🥰\"\n",
    "                               \"🤮\"\n",
    "                               \"🤢\"\n",
    "                               \"🤬\"\n",
    "                               \"🤏\"\n",
    "                               \"🤡\"\n",
    "                               \"🥴\"\n",
    "                               \"✨\"\n",
    "                               \"🤜\"\n",
    "                               \"🤛\"\n",
    "            u\"\\U0001F600-\\U0001F64F\" \n",
    "            u\"\\U0001F300-\\U0001F5FF\"  \n",
    "            u\"\\U0001F680-\\U0001F6FF\"  \n",
    "            u\"\\U0001F1E0-\\U0001F1FF\"  \n",
    "                               \"]+\", flags=re.UNICODE)\n",
    "    return emoji_pattern.sub(r'', text)"
   ]
  },
  {
   "cell_type": "code",
   "execution_count": 44,
   "id": "0a5559b3",
   "metadata": {},
   "outputs": [],
   "source": [
    "# normaliztion\n",
    "df_merged_final['clean_text'] = df_merged_final.comment.apply(lambda x: remove_emojis(x))"
   ]
  },
  {
   "cell_type": "code",
   "execution_count": 45,
   "id": "27b77558",
   "metadata": {},
   "outputs": [],
   "source": [
    "df_merged_final.clean_text = df_merged_final.clean_text.apply(\n",
    "    lambda x: x.replace('\"', '').replace('\\\\', '').replace('/', '').replace('.', '').replace('-', '').replace('…', '').replace('(', '').replace(')', '').replace('¯', '').replace('\\t', ' ').replace('\\n', ' ').replace('\\r', '').replace('       ',' ').replace('      ',' ').replace('     ',' ').replace('   ',' ').replace('  ',' '))"
   ]
  },
  {
   "cell_type": "code",
   "execution_count": 46,
   "id": "caa4b88a",
   "metadata": {},
   "outputs": [
    {
     "data": {
      "text/plain": [
       "                                                                                                                                         90\n",
       "                                                                                                                                         11\n",
       " #deppcember #justiceforjohnnydeep see more                                                                                               2\n",
       "𝗗𝗶𝘀𝗹𝗶𝗸𝗲𝗨𝗻𝗳𝗼𝗹𝗹𝗼𝘄 𝗔𝗺𝗯𝗲𝗿 𝗛𝗲𝗮𝗿𝗱 𝗼𝗻 𝗮𝗹𝗹 𝘀𝗼𝗰𝗶𝗮𝗹 𝗺𝗲𝗱𝗶𝗮 𝗟𝗶𝗸𝗲 𝘁𝗵𝗶𝘀 𝗰𝗼𝗺𝗺𝗲𝗻𝘁 𝗮𝗻𝗱 𝘁𝗮𝗸𝗲 𝗶𝘁 𝘁𝗼 𝘁𝗵𝗲 𝘁𝗼𝗽                                                  2\n",
       " #justiceforjohnnydeep #johnnydeppisinnocent see more                                                                                     2\n",
       "𝗗𝗶𝘀𝗹𝗶𝗸𝗲𝗨𝗻𝗳𝗼𝗹𝗹𝗼𝘄 𝗔𝗺𝗯𝗲𝗿 𝗛𝗲𝗮𝗿𝗱 𝗳𝗿𝗼𝗺 𝗮𝗹𝗹 𝘀𝗼𝗰𝗶𝗮𝗹 𝗺𝗲𝗱𝗶𝗮 𝗟𝗶𝗸𝗲 𝘁𝗵𝗶𝘀 𝗰𝗼𝗺𝗺𝗲𝗻𝘁 𝗮𝗻𝗱 𝘁𝗮𝗸𝗲 𝗶𝘁 𝘁𝗼 𝘁𝗵𝗲 𝘁𝗼𝗽                                                2\n",
       "гори в аду ембер блядддь                                                                                                                  1\n",
       "а грин бегущая по волнам                                                                                                                  1\n",
       "වයි බම්ග් එම කරේ                                                                                                                          1\n",
       "පින්න බැල්ලි ද්ද්න් සතුටුද                                                                                                                1\n",
       "ඒස බැ**                                                                                                                                   1\n",
       "ආදරෙයි පන                                                                                                                                 1\n",
       "ගොන් හුත්ති තොට කෙලවෙලාම පල වේස බැල්ලි                                                                                                    1\n",
       "මේ පට්ටෞ ත්තිගෙ දුව මැරිලාවත් යන් නෑනෙ                                                                                                    1\n",
       "шаболда!!!                                                                                                                                1\n",
       "වටේ යනවා නෙ                                                                                                                               1\n",
       "когда насрала джонни в постель и улыбаешься                                                                                               1\n",
       "ဖေလိုးမ ဖာသယ်မ                                                                                                                            1\n",
       "✌✌✌                                                                                                                                       1\n",
       "ပေလိုးမ                                                                                                                                   1\n",
       "සාම්පයක්                                                                                                                                  1\n",
       ",                                                                                                                                         1\n",
       "плохая актриса и лживый человек!                                                                                                          1\n",
       "ඒසාවි                                                                                                                                     1\n",
       "!!!!                                                                                                                                      1\n",
       "පට්ටේසි                                                                                                                                   1\n",
       "ජොනී අයියට මොනව හරි කරල තිබ්බොත් ටෞකෝනවා පට්ට බැල්ලි                                                                                      1\n",
       "210                                                                                                                                       1\n",
       "»:3                                                                                                                                       1\n",
       "බැල්ලි                                                                                                                                    1\n",
       "පලයන් යන්ඩ පට්ට හුත්ති                                                                                                                    1\n",
       "මැරියං                                                                                                                                    1\n",
       "වේසාවි                                                                                                                                    1\n",
       "എണിറ്റു പോ തള്ളേ                                                                                                                          1\n",
       "只想说 你妈死了，你纯粹是个妓女。                                                                                                                         1\n",
       "പോടി പുണ്ടച്ചി                                                                                                                            1\n",
       "ခ်စ္တယ္ အမ္ဘာရယ္ အမ္ဘာၾကားႏိုင္ပါေစ ရန္သူတစ္ေထာင္ စီးခ်င္းထိုးႏိုင္တယ္ အမ္ဘာအတြက္ဆို အကြာမန္း ဆိုတဲ့ေကာင္ကို ေ႐ွာ့႐ိုက္ပစ္မွာsee more     1\n",
       "婊子                                                                                                                                        1\n",
       "你拍的電影，遠在亞洲的我們都拒絕支持，如果與你合作的商家，覺得亞洲市場太小的話，我們知道妳怎麼對待你的前夫強尼戴普                                                                                 1\n",
       "如果这个女人出现在 任何一场 荧幕里 我都会 打1 星，除非她演妓女。                                                                                                       1\n",
       "джонни д самый таланливый актёр во всём мире и его любят все                                                                              1\n",
       "ª                                                                                                                                         1\n",
       "´ ` see more                                                                                                                              1\n",
       "くたばれ この野郎。地獄で死ね！！！！                                                                                                                       1\n",
       "Name: clean_text, dtype: int64"
      ]
     },
     "execution_count": 46,
     "metadata": {},
     "output_type": "execute_result"
    }
   ],
   "source": [
    "df_merged_final[~df_merged_final.contains_alpha].clean_text.value_counts().head(60)"
   ]
  },
  {
   "cell_type": "markdown",
   "id": "488c42d7",
   "metadata": {},
   "source": [
    "# Add A Language-Detection Column"
   ]
  },
  {
   "cell_type": "markdown",
   "id": "d5f9c283",
   "metadata": {},
   "source": [
    "https://stackoverflow.com/questions/39142778/python-how-to-determine-the-language"
   ]
  },
  {
   "cell_type": "markdown",
   "id": "d4af37a8",
   "metadata": {},
   "source": [
    "## langdetect\n",
    "inaccurate"
   ]
  },
  {
   "cell_type": "code",
   "execution_count": 47,
   "id": "91403646",
   "metadata": {},
   "outputs": [
    {
     "data": {
      "text/plain": [
       "'es'"
      ]
     },
     "execution_count": 47,
     "metadata": {},
     "output_type": "execute_result"
    }
   ],
   "source": [
    "from langdetect import detect\n",
    "detect('no one cares, you suck')"
   ]
  },
  {
   "cell_type": "code",
   "execution_count": 48,
   "id": "86cf2fd2",
   "metadata": {},
   "outputs": [],
   "source": [
    "# def lang_detect(x):\n",
    "#     if df_merged_final.loc[df_merged_final['clean_text'] == x, 'contains_alpha'].values[0]:\n",
    "#         language = detect(x)\n",
    "#     else:\n",
    "#         language = 'Other'\n",
    "#     return language"
   ]
  },
  {
   "cell_type": "code",
   "execution_count": 49,
   "id": "9f1f23f9",
   "metadata": {},
   "outputs": [],
   "source": [
    "# def det(x):\n",
    "#     try:\n",
    "#         lang = detect(x)\n",
    "#     except:\n",
    "#         lang = 'Other'\n",
    "#     return lang"
   ]
  },
  {
   "cell_type": "code",
   "execution_count": 50,
   "id": "c918f6a8",
   "metadata": {},
   "outputs": [],
   "source": [
    "# df_merged_final['language'] = df_merged_final.clean_text.apply(lambda x: det(x)) "
   ]
  },
  {
   "cell_type": "code",
   "execution_count": 51,
   "id": "c52053bf",
   "metadata": {},
   "outputs": [],
   "source": [
    "# df_merged_final['language'] = df_merged_final.comment.apply(\n",
    "#     lambda x: 'none' if len(x)<= 5 else lang_detect(x)) "
   ]
  },
  {
   "cell_type": "code",
   "execution_count": 52,
   "id": "3d0d5b91",
   "metadata": {},
   "outputs": [],
   "source": [
    "# df_merged_final['language'] = df_merged_final.comment.apply(\n",
    "#     lambda x: 'none' if not df_merged_final.loc[df_merged_final['comment'] == x, 'contains_alpha'].item() else detect(x)) \n",
    "\n"
   ]
  },
  {
   "cell_type": "code",
   "execution_count": 53,
   "id": "2555e947",
   "metadata": {},
   "outputs": [],
   "source": [
    "# df_merged_final.language.value_counts()"
   ]
  },
  {
   "cell_type": "markdown",
   "id": "2a56ce4d",
   "metadata": {},
   "source": [
    "## TextBlob \n",
    "HTTPError: HTTP Error 429: Too Many Requests"
   ]
  },
  {
   "cell_type": "code",
   "execution_count": 54,
   "id": "e48f2cea",
   "metadata": {},
   "outputs": [],
   "source": [
    "# from textblob import TextBlob\n",
    "# b = TextBlob(\"bonjour\")\n",
    "# b.detect_language()"
   ]
  },
  {
   "cell_type": "code",
   "execution_count": 55,
   "id": "b97b2c56",
   "metadata": {},
   "outputs": [],
   "source": [
    "# def det(x):\n",
    "#     try:\n",
    "#         b = TextBlob(x)\n",
    "#         lang = b.detect_language()\n",
    "#     except:\n",
    "#         lang = 'Other'\n",
    "#     return lang"
   ]
  },
  {
   "cell_type": "code",
   "execution_count": 56,
   "id": "094ab10a",
   "metadata": {},
   "outputs": [],
   "source": [
    "# t0 = time.time()\n",
    "# df_merged_final['language'] = df_merged_final.clean_text.apply(lambda x: det(x)) \n",
    "# (time.time() - t0)/60"
   ]
  },
  {
   "cell_type": "code",
   "execution_count": 57,
   "id": "a8189226",
   "metadata": {},
   "outputs": [],
   "source": [
    "# df_merged_final.language.value_counts()"
   ]
  },
  {
   "cell_type": "markdown",
   "id": "003f0d28",
   "metadata": {},
   "source": [
    "## googletrans\n",
    "AttributeError: 'Translator' object has no attribute 'raise_Exception'"
   ]
  },
  {
   "cell_type": "code",
   "execution_count": 58,
   "id": "db54a33c",
   "metadata": {},
   "outputs": [],
   "source": [
    "# from googletrans import Translator\n",
    "# t = Translator().detect(\"hello world!\")\n",
    "# t.lang "
   ]
  },
  {
   "cell_type": "code",
   "execution_count": 59,
   "id": "2f744097",
   "metadata": {},
   "outputs": [],
   "source": [
    "# def det(x):\n",
    "#     try:\n",
    "#         t = Translator().detect(x)\n",
    "#         lang = t.lang \n",
    "#     except:\n",
    "#         lang = 'Other'\n",
    "#     return lang"
   ]
  },
  {
   "cell_type": "code",
   "execution_count": 60,
   "id": "6eb4975b",
   "metadata": {},
   "outputs": [],
   "source": [
    "# t0 = time.time()\n",
    "# df_merged_final['language'] = df_merged_final.clean_text.apply(lambda x: det(x)) \n",
    "# (time.time() - t0)/60"
   ]
  },
  {
   "cell_type": "code",
   "execution_count": 61,
   "id": "4cdb127b",
   "metadata": {},
   "outputs": [],
   "source": [
    "# df_merged_final.language.value_counts()"
   ]
  },
  {
   "cell_type": "markdown",
   "id": "16db671d",
   "metadata": {},
   "source": [
    "## langid\n",
    "Inaccurate"
   ]
  },
  {
   "cell_type": "code",
   "execution_count": 62,
   "id": "cbc89ae5",
   "metadata": {},
   "outputs": [
    {
     "data": {
      "text/plain": [
       "'en'"
      ]
     },
     "execution_count": 62,
     "metadata": {},
     "output_type": "execute_result"
    }
   ],
   "source": [
    "import langid\n",
    "langid.classify(\"This is a test\")[0]"
   ]
  },
  {
   "cell_type": "code",
   "execution_count": 63,
   "id": "8f5e4b26",
   "metadata": {},
   "outputs": [
    {
     "data": {
      "text/plain": [
       "'it'"
      ]
     },
     "execution_count": 63,
     "metadata": {},
     "output_type": "execute_result"
    }
   ],
   "source": [
    "langid.classify(\"no one cares, you suck\")[0]"
   ]
  },
  {
   "cell_type": "code",
   "execution_count": 64,
   "id": "13b274bc",
   "metadata": {},
   "outputs": [],
   "source": [
    "# def det(x):\n",
    "#     try:\n",
    "#         lang = langid.classify(x)[0]\n",
    "#     except:\n",
    "#         lang = 'Other'\n",
    "#     return lang"
   ]
  },
  {
   "cell_type": "code",
   "execution_count": 65,
   "id": "bdeb4bc1",
   "metadata": {},
   "outputs": [],
   "source": [
    "# t0 = time.time()\n",
    "# df_merged_final['language'] = df_merged_final.clean_text.apply(lambda x: det(x)) \n",
    "# (time.time() - t0)/60"
   ]
  },
  {
   "cell_type": "code",
   "execution_count": 66,
   "id": "a445bf9f",
   "metadata": {},
   "outputs": [],
   "source": [
    "# df_merged_final.language.value_counts()"
   ]
  },
  {
   "cell_type": "markdown",
   "id": "5a652d20",
   "metadata": {},
   "source": [
    "## chardet\n",
    "Chardet has also a feature of detecting languages if there are character bytes in range (127-255]:"
   ]
  },
  {
   "cell_type": "code",
   "execution_count": 67,
   "id": "1c2480d1",
   "metadata": {},
   "outputs": [
    {
     "data": {
      "text/plain": [
       "'Russian'"
      ]
     },
     "execution_count": 67,
     "metadata": {},
     "output_type": "execute_result"
    }
   ],
   "source": [
    "import chardet\n",
    "chardet.detect(\"Я люблю вкусные пампушки\".encode('cp1251'))['language']"
   ]
  },
  {
   "cell_type": "code",
   "execution_count": 68,
   "id": "9d700088",
   "metadata": {},
   "outputs": [
    {
     "data": {
      "text/plain": [
       "''"
      ]
     },
     "execution_count": 68,
     "metadata": {},
     "output_type": "execute_result"
    }
   ],
   "source": [
    "chardet.detect(\"no one cares, you suck\".encode('cp1251'))['language']"
   ]
  },
  {
   "cell_type": "code",
   "execution_count": 69,
   "id": "2c51d999",
   "metadata": {},
   "outputs": [],
   "source": [
    "def det(x):\n",
    "    try:\n",
    "        lang = chardet.detect(x.encode('cp1251'))['language']\n",
    "    except:\n",
    "        lang = 'Other'\n",
    "    return lang"
   ]
  },
  {
   "cell_type": "code",
   "execution_count": 70,
   "id": "720b2a66",
   "metadata": {},
   "outputs": [],
   "source": [
    "# t0 = time.time()\n",
    "# df_merged_final['language'] = df_merged_final.clean_text.apply(lambda x: det(x)) \n",
    "# (time.time() - t0)/60"
   ]
  },
  {
   "cell_type": "code",
   "execution_count": 71,
   "id": "e98b7858",
   "metadata": {},
   "outputs": [],
   "source": [
    "# df_merged_final.language.value_counts()"
   ]
  },
  {
   "cell_type": "markdown",
   "id": "9dc23366",
   "metadata": {},
   "source": [
    "## guess_language\n",
    "Can detect very short samples by using this spell checker with dictionaries."
   ]
  },
  {
   "cell_type": "code",
   "execution_count": 72,
   "id": "4e11cae5",
   "metadata": {},
   "outputs": [
    {
     "data": {
      "text/plain": [
       "'ja'"
      ]
     },
     "execution_count": 72,
     "metadata": {},
     "output_type": "execute_result"
    }
   ],
   "source": [
    "from guess_language import guessLanguage\n",
    "guessLanguage('ボウリング・フォー・コロンバイン(字幕版)')"
   ]
  },
  {
   "cell_type": "code",
   "execution_count": 73,
   "id": "8bee3b66",
   "metadata": {},
   "outputs": [
    {
     "data": {
      "text/plain": [
       "'it'"
      ]
     },
     "execution_count": 73,
     "metadata": {},
     "output_type": "execute_result"
    }
   ],
   "source": [
    "guessLanguage('no one cares, you suck')"
   ]
  },
  {
   "cell_type": "code",
   "execution_count": 74,
   "id": "8c656375",
   "metadata": {},
   "outputs": [],
   "source": [
    "# def det(x):\n",
    "#     try:\n",
    "#         lang = chardet.detect(x.encode('cp1251'))['language']\n",
    "#     except:\n",
    "#         lang = 'Other'\n",
    "#     return lang"
   ]
  },
  {
   "cell_type": "code",
   "execution_count": 75,
   "id": "c7544052",
   "metadata": {},
   "outputs": [],
   "source": [
    "# t0 = time.time()\n",
    "# df_merged_final['language'] = df_merged_final.clean_text.apply(lambda x: det(x)) \n",
    "# (time.time() - t0)/60"
   ]
  },
  {
   "cell_type": "code",
   "execution_count": 76,
   "id": "6fc85895",
   "metadata": {},
   "outputs": [],
   "source": [
    "# df_merged_final.language.value_counts()"
   ]
  },
  {
   "cell_type": "markdown",
   "id": "0170778b",
   "metadata": {},
   "source": [
    "## pycld3\n",
    "pycld3 is a neural network model for language identification. This package contains the inference code and a trained model. <br>\n",
    "Inaccurate"
   ]
  },
  {
   "cell_type": "code",
   "execution_count": 77,
   "id": "5ffaf419",
   "metadata": {},
   "outputs": [
    {
     "name": "stdout",
     "output_type": "stream",
     "text": [
      "LanguagePrediction(language='zh', probability=0.999969482421875, is_reliable=True, proportion=1.0)\n"
     ]
    },
    {
     "data": {
      "text/plain": [
       "'zh'"
      ]
     },
     "execution_count": 77,
     "metadata": {},
     "output_type": "execute_result"
    }
   ],
   "source": [
    "import cld3\n",
    "c = cld3.get_language(\"影響包含對氣候的變化以及自然資源的枯竭程度\")\n",
    "print(c)\n",
    "c[0]"
   ]
  },
  {
   "cell_type": "code",
   "execution_count": 78,
   "id": "35f73287",
   "metadata": {},
   "outputs": [
    {
     "data": {
      "text/plain": [
       "'pt'"
      ]
     },
     "execution_count": 78,
     "metadata": {},
     "output_type": "execute_result"
    }
   ],
   "source": [
    "cld3.get_language(\"no one cares, you suck\")[0]"
   ]
  },
  {
   "cell_type": "code",
   "execution_count": 79,
   "id": "65243f84",
   "metadata": {},
   "outputs": [],
   "source": [
    "# cld3.get_language(\"影響包含對氣候的變化以及自然資源的枯竭程度\")[0]"
   ]
  },
  {
   "cell_type": "code",
   "execution_count": 80,
   "id": "bc29b973",
   "metadata": {},
   "outputs": [],
   "source": [
    "# def det(x):\n",
    "#     try:\n",
    "#         lang = cld3.get_language(x)[0]\n",
    "#     except:\n",
    "#         lang = 'Other'\n",
    "#     return lang"
   ]
  },
  {
   "cell_type": "code",
   "execution_count": 81,
   "id": "09d3d14f",
   "metadata": {},
   "outputs": [],
   "source": [
    "# t0 = time.time()\n",
    "# df_merged_final['language'] = df_merged_final.clean_text.apply(lambda x: det(x)) \n",
    "# (time.time() - t0)/60"
   ]
  },
  {
   "cell_type": "code",
   "execution_count": 82,
   "id": "714de3f2",
   "metadata": {},
   "outputs": [],
   "source": [
    "# df_merged_final.language.value_counts()"
   ]
  },
  {
   "cell_type": "markdown",
   "id": "4d377d8e",
   "metadata": {},
   "source": [
    "## polyglot\n",
    "Able to detect texts with mixed languages."
   ]
  },
  {
   "cell_type": "markdown",
   "id": "1c83ca03",
   "metadata": {},
   "source": [
    "- install icu in anaconda"
   ]
  },
  {
   "cell_type": "code",
   "execution_count": 83,
   "id": "8a7ed701",
   "metadata": {},
   "outputs": [
    {
     "name": "stdout",
     "output_type": "stream",
     "text": [
      "name: English     code: en       confidence:  87.0 read bytes:  1154\n",
      "name: Chinese     code: zh_Hant  confidence:   5.0 read bytes:  1755\n",
      "name: un          code: un       confidence:   0.0 read bytes:     0\n"
     ]
    }
   ],
   "source": [
    "from polyglot.detect import Detector\n",
    "\n",
    "mixed_text = u\"\"\"\n",
    "China (simplified Chinese: 中国; traditional Chinese: 中國),\n",
    "officially the People's Republic of China (PRC), is a sovereign state\n",
    "located in East Asia.\n",
    "\"\"\"\n",
    "for language in Detector(mixed_text).languages:\n",
    "    print(language)"
   ]
  },
  {
   "cell_type": "code",
   "execution_count": 84,
   "id": "dca99219",
   "metadata": {},
   "outputs": [
    {
     "name": "stdout",
     "output_type": "stream",
     "text": [
      "name: English     code: en       confidence:  95.0 read bytes:  1349\n",
      "name: un          code: un       confidence:   0.0 read bytes:     0\n",
      "name: un          code: un       confidence:   0.0 read bytes:     0\n"
     ]
    }
   ],
   "source": [
    "for language in Detector('no one cares, you suck').languages:\n",
    "    print(language)"
   ]
  },
  {
   "cell_type": "code",
   "execution_count": 85,
   "id": "2ea33662",
   "metadata": {},
   "outputs": [],
   "source": [
    "# def det(x):\n",
    "#     try:\n",
    "#         lang = cld3.get_language(x)[0]\n",
    "#     except:\n",
    "#         lang = 'Other'\n",
    "#     return lang"
   ]
  },
  {
   "cell_type": "code",
   "execution_count": 86,
   "id": "fd79c855",
   "metadata": {},
   "outputs": [],
   "source": [
    "# t0 = time.time()\n",
    "# df_merged_final['language'] = df_merged_final.clean_text.apply(lambda x: det(x)) \n",
    "# (time.time() - t0)/60"
   ]
  },
  {
   "cell_type": "code",
   "execution_count": 87,
   "id": "cb3d8a92",
   "metadata": {},
   "outputs": [],
   "source": [
    "# df_merged_final.language.value_counts()"
   ]
  },
  {
   "cell_type": "markdown",
   "id": "e1755314",
   "metadata": {},
   "source": [
    "# pycld2\n",
    "First, if you only need polyglot for language detection, you'd better use pycld2 directly, that is what used behind the scenes. It has much cleaner API."
   ]
  },
  {
   "cell_type": "markdown",
   "id": "5cb78618",
   "metadata": {},
   "source": [
    "https://stackoverflow.com/questions/51503199/how-to-apply-polyglot-detector-function-to-dataframe"
   ]
  },
  {
   "cell_type": "code",
   "execution_count": 88,
   "id": "5d704e7e",
   "metadata": {},
   "outputs": [
    {
     "data": {
      "text/plain": [
       "'English'"
      ]
     },
     "execution_count": 88,
     "metadata": {},
     "output_type": "execute_result"
    }
   ],
   "source": [
    "import icu\n",
    "poly_obj = Detector('no one cares, you suck', quiet=True)\n",
    "icu.Locale.getDisplayName(poly_obj.language.locale)"
   ]
  },
  {
   "cell_type": "code",
   "execution_count": 89,
   "id": "5a551a53",
   "metadata": {},
   "outputs": [],
   "source": [
    "def det(x):\n",
    "    try:\n",
    "        poly_obj = Detector(x, quiet=True)\n",
    "        lang = icu.Locale.getDisplayName(poly_obj.language.locale)\n",
    "    except:\n",
    "        lang = 'Other'\n",
    "    return lang"
   ]
  },
  {
   "cell_type": "markdown",
   "id": "4fda81de",
   "metadata": {},
   "source": [
    "https://github.com/aboSamoor/polyglot/issues/223"
   ]
  },
  {
   "cell_type": "code",
   "execution_count": 90,
   "id": "e9f1bafc",
   "metadata": {},
   "outputs": [],
   "source": [
    "from polyglot.detect.base import logger as polyglot_logger\n",
    "polyglot_logger.setLevel(\"ERROR\")"
   ]
  },
  {
   "cell_type": "code",
   "execution_count": 91,
   "id": "a47e5044",
   "metadata": {},
   "outputs": [
    {
     "data": {
      "text/plain": [
       "0.004033565521240234"
      ]
     },
     "execution_count": 91,
     "metadata": {},
     "output_type": "execute_result"
    }
   ],
   "source": [
    "t0 = time.time()\n",
    "df_merged_final['language'] = df_merged_final.clean_text.apply(lambda x: det(x)) \n",
    "(time.time() - t0)/60"
   ]
  },
  {
   "cell_type": "markdown",
   "id": "62996ead",
   "metadata": {},
   "source": [
    "un --> unknown language"
   ]
  },
  {
   "cell_type": "code",
   "execution_count": 92,
   "id": "136a3c59",
   "metadata": {},
   "outputs": [
    {
     "data": {
      "text/plain": [
       "English        3861\n",
       "Spanish         549\n",
       "un              193\n",
       "Manx             80\n",
       "Danish           76\n",
       "Portuguese       41\n",
       "Indonesian       28\n",
       "Scots            25\n",
       "Norwegian        25\n",
       "German           22\n",
       "Tagalog          18\n",
       "Welsh            18\n",
       "Sinhala          17\n",
       "Maori            16\n",
       "Afrikaans        14\n",
       "Maltese          12\n",
       "Interlingue      11\n",
       "Quechua          11\n",
       "Latin            10\n",
       "Italian          10\n",
       "Name: language, dtype: int64"
      ]
     },
     "execution_count": 92,
     "metadata": {},
     "output_type": "execute_result"
    }
   ],
   "source": [
    "df_merged_final.language.value_counts().head(20)"
   ]
  },
  {
   "cell_type": "markdown",
   "id": "a1504ee5",
   "metadata": {},
   "source": [
    "# Add A Translation Column"
   ]
  },
  {
   "cell_type": "code",
   "execution_count": 93,
   "id": "38bc9eb7",
   "metadata": {},
   "outputs": [],
   "source": [
    "# from deep_translator import GoogleTranslator\n",
    "\n",
    "# translated = GoogleTranslator(source='auto', target='en').translate_batch(['ဖေလိုးမ ဖာသယ်မ'])\n",
    "# translated"
   ]
  },
  {
   "cell_type": "markdown",
   "id": "21138298",
   "metadata": {},
   "source": [
    "https://stackoverflow.com/questions/70673172/how-to-solve-text-must-be-a-valid-text-with-maximum-5000-character-otherwise-it"
   ]
  },
  {
   "cell_type": "markdown",
   "id": "92f78d14",
   "metadata": {},
   "source": [
    "### Better Approach "
   ]
  },
  {
   "cell_type": "code",
   "execution_count": 94,
   "id": "57eef3bb",
   "metadata": {},
   "outputs": [],
   "source": [
    "# def translate(x):\n",
    "#     try:\n",
    "#         translated = GoogleTranslator(source='auto', target='en').translate_batch(x)\n",
    "#     except:\n",
    "#         translated = 'not_translated'\n",
    "#     return translated"
   ]
  },
  {
   "cell_type": "code",
   "execution_count": 95,
   "id": "5994a2f7",
   "metadata": {},
   "outputs": [],
   "source": [
    "# import time \n",
    "# t0 = time.time()"
   ]
  },
  {
   "cell_type": "code",
   "execution_count": 96,
   "id": "b2b6e82c",
   "metadata": {},
   "outputs": [],
   "source": [
    "# df_merged_final['translated'] = df_merged_final.comment.apply(\n",
    "#     lambda x: x if df_merged_final.loc[df_merged_final['comment'] == x,\n",
    "#                                        'language'].values[0] == 'en' else translate(x)) "
   ]
  },
  {
   "cell_type": "code",
   "execution_count": 97,
   "id": "214ab83a",
   "metadata": {},
   "outputs": [],
   "source": [
    "# time.time() - t0"
   ]
  },
  {
   "cell_type": "code",
   "execution_count": 98,
   "id": "caaf2e31",
   "metadata": {},
   "outputs": [],
   "source": [
    "# df_merged_final[df_merged_final.language != 'en'].head()"
   ]
  },
  {
   "cell_type": "code",
   "execution_count": 99,
   "id": "e1a50da1",
   "metadata": {},
   "outputs": [],
   "source": [
    "# print((df_merged_final.translated == 'not_translated').sum())\n",
    "# df_merged_final[df_merged_final.translated == 'not_translated'].head()"
   ]
  },
  {
   "cell_type": "code",
   "execution_count": 100,
   "id": "4d15d36e",
   "metadata": {},
   "outputs": [],
   "source": [
    "# df_merged_final.comment[4]"
   ]
  },
  {
   "cell_type": "code",
   "execution_count": 101,
   "id": "d11af42b",
   "metadata": {},
   "outputs": [],
   "source": [
    "# translated = GoogleTranslator(source='auto', target='en').translate_batch(['no one cares, you suck'])\n",
    "# translated"
   ]
  },
  {
   "cell_type": "markdown",
   "id": "ebf7f107",
   "metadata": {},
   "source": [
    "# Google Translate API \n",
    "Paid"
   ]
  },
  {
   "cell_type": "markdown",
   "id": "83c1defd",
   "metadata": {},
   "source": [
    "https://cloud.google.com/translate/docs/basic/translating-text?hl=it"
   ]
  },
  {
   "cell_type": "markdown",
   "id": "4fa67fba",
   "metadata": {},
   "source": [
    "# googletrans"
   ]
  },
  {
   "cell_type": "markdown",
   "id": "68839673",
   "metadata": {},
   "source": [
    "https://stackoverflow.com/questions/52455774/googletrans-stopped-working-with-error-nonetype-object-has-no-attribute-group"
   ]
  },
  {
   "cell_type": "code",
   "execution_count": 102,
   "id": "094599dd",
   "metadata": {},
   "outputs": [],
   "source": [
    "# text = 'This site is awesome'\n",
    "# from googletrans import Translator\n",
    "# translator = Translator()\n",
    "# translator.translate(text , dest ='sw').text"
   ]
  },
  {
   "cell_type": "markdown",
   "id": "8bb82276",
   "metadata": {},
   "source": [
    "# mtranslate"
   ]
  },
  {
   "cell_type": "markdown",
   "id": "0b2d4a64",
   "metadata": {},
   "source": [
    "https://github.com/mouuff/mtranslate"
   ]
  },
  {
   "cell_type": "code",
   "execution_count": 103,
   "id": "3427558c",
   "metadata": {},
   "outputs": [
    {
     "data": {
      "text/plain": [
       "'Hello'"
      ]
     },
     "execution_count": 103,
     "metadata": {},
     "output_type": "execute_result"
    }
   ],
   "source": [
    "import mtranslate\n",
    "mtranslate.translate(\"Bonjour\",\"en\",\"auto\")"
   ]
  },
  {
   "cell_type": "code",
   "execution_count": 104,
   "id": "9efd4aa7",
   "metadata": {},
   "outputs": [],
   "source": [
    "def translate(x):\n",
    "    try:\n",
    "        translated = mtranslate.translate(x,\"en\",\"auto\")\n",
    "    except:\n",
    "        translated = 'not_translated'\n",
    "    return translated"
   ]
  },
  {
   "cell_type": "code",
   "execution_count": 105,
   "id": "2239c436",
   "metadata": {},
   "outputs": [
    {
     "data": {
      "text/plain": [
       "9.836498113473256"
      ]
     },
     "execution_count": 105,
     "metadata": {},
     "output_type": "execute_result"
    }
   ],
   "source": [
    "t0 = time.time()\n",
    "df_merged_final['translated'] = df_merged_final.clean_text.apply(\n",
    "    lambda x: x if df_merged_final.loc[df_merged_final['clean_text'] == x,\n",
    "                                       'language'].values[0] == 'English' else translate(x)) \n",
    "(time.time() - t0)/60"
   ]
  },
  {
   "cell_type": "code",
   "execution_count": 106,
   "id": "d5c0a546",
   "metadata": {},
   "outputs": [
    {
     "data": {
      "text/html": [
       "<div>\n",
       "<style scoped>\n",
       "    .dataframe tbody tr th:only-of-type {\n",
       "        vertical-align: middle;\n",
       "    }\n",
       "\n",
       "    .dataframe tbody tr th {\n",
       "        vertical-align: top;\n",
       "    }\n",
       "\n",
       "    .dataframe thead th {\n",
       "        text-align: right;\n",
       "    }\n",
       "</style>\n",
       "<table border=\"1\" class=\"dataframe\">\n",
       "  <thead>\n",
       "    <tr style=\"text-align: right;\">\n",
       "      <th></th>\n",
       "      <th>username</th>\n",
       "      <th>comment</th>\n",
       "      <th>type</th>\n",
       "      <th>defense_AH</th>\n",
       "      <th>support_AH</th>\n",
       "      <th>offense_AH</th>\n",
       "      <th>defense_against_AH</th>\n",
       "      <th>contains_alpha</th>\n",
       "      <th>clean_text</th>\n",
       "      <th>language</th>\n",
       "      <th>translated</th>\n",
       "    </tr>\n",
       "  </thead>\n",
       "  <tbody>\n",
       "    <tr>\n",
       "      <th>0</th>\n",
       "      <td>Raychel RayRay</td>\n",
       "      <td>skank</td>\n",
       "      <td>post0_comment</td>\n",
       "      <td>NaN</td>\n",
       "      <td>NaN</td>\n",
       "      <td>NaN</td>\n",
       "      <td>NaN</td>\n",
       "      <td>True</td>\n",
       "      <td>skank</td>\n",
       "      <td>English</td>\n",
       "      <td>skank</td>\n",
       "    </tr>\n",
       "    <tr>\n",
       "      <th>1</th>\n",
       "      <td>Rich Lawson</td>\n",
       "      <td>not only are you a pretty rubbish actress you ...</td>\n",
       "      <td>post0_comment</td>\n",
       "      <td>NaN</td>\n",
       "      <td>NaN</td>\n",
       "      <td>NaN</td>\n",
       "      <td>NaN</td>\n",
       "      <td>True</td>\n",
       "      <td>not only are you a pretty rubbish actress you ...</td>\n",
       "      <td>English</td>\n",
       "      <td>not only are you a pretty rubbish actress you ...</td>\n",
       "    </tr>\n",
       "    <tr>\n",
       "      <th>2</th>\n",
       "      <td>Zeyneb Yusein</td>\n",
       "      <td>you're a shame and disgrace for your family, i...</td>\n",
       "      <td>post0_comment</td>\n",
       "      <td>NaN</td>\n",
       "      <td>NaN</td>\n",
       "      <td>NaN</td>\n",
       "      <td>NaN</td>\n",
       "      <td>True</td>\n",
       "      <td>you're a shame and disgrace for your family, i...</td>\n",
       "      <td>English</td>\n",
       "      <td>you're a shame and disgrace for your family, i...</td>\n",
       "    </tr>\n",
       "    <tr>\n",
       "      <th>3</th>\n",
       "      <td>William Mcneillie</td>\n",
       "      <td>😂 what's next in your game plan? blame arthur ...</td>\n",
       "      <td>post0_comment</td>\n",
       "      <td>NaN</td>\n",
       "      <td>NaN</td>\n",
       "      <td>NaN</td>\n",
       "      <td>NaN</td>\n",
       "      <td>True</td>\n",
       "      <td>what's next in your game plan? blame arthur c...</td>\n",
       "      <td>English</td>\n",
       "      <td>what's next in your game plan? blame arthur c...</td>\n",
       "    </tr>\n",
       "    <tr>\n",
       "      <th>4</th>\n",
       "      <td>Flash Garot</td>\n",
       "      <td>no one cares, you suck</td>\n",
       "      <td>post0_comment</td>\n",
       "      <td>NaN</td>\n",
       "      <td>NaN</td>\n",
       "      <td>NaN</td>\n",
       "      <td>NaN</td>\n",
       "      <td>True</td>\n",
       "      <td>no one cares, you suck</td>\n",
       "      <td>English</td>\n",
       "      <td>no one cares, you suck</td>\n",
       "    </tr>\n",
       "    <tr>\n",
       "      <th>5</th>\n",
       "      <td>Joy Bonassoli</td>\n",
       "      <td>i think you should apologize!\\r\\nyou tried to ...</td>\n",
       "      <td>post0_comment</td>\n",
       "      <td>NaN</td>\n",
       "      <td>NaN</td>\n",
       "      <td>NaN</td>\n",
       "      <td>NaN</td>\n",
       "      <td>True</td>\n",
       "      <td>i think you should apologize! you tried to des...</td>\n",
       "      <td>English</td>\n",
       "      <td>i think you should apologize! you tried to des...</td>\n",
       "    </tr>\n",
       "    <tr>\n",
       "      <th>6</th>\n",
       "      <td>Therese Stellato</td>\n",
       "      <td>its time to face the truth! you cant keep pain...</td>\n",
       "      <td>post0_comment</td>\n",
       "      <td>NaN</td>\n",
       "      <td>NaN</td>\n",
       "      <td>NaN</td>\n",
       "      <td>NaN</td>\n",
       "      <td>True</td>\n",
       "      <td>its time to face the truth! you cant keep pain...</td>\n",
       "      <td>English</td>\n",
       "      <td>its time to face the truth! you cant keep pain...</td>\n",
       "    </tr>\n",
       "    <tr>\n",
       "      <th>7</th>\n",
       "      <td>Camron Jonson</td>\n",
       "      <td>how did johnny dep lost his position as jack s...</td>\n",
       "      <td>post0_comment</td>\n",
       "      <td>NaN</td>\n",
       "      <td>NaN</td>\n",
       "      <td>NaN</td>\n",
       "      <td>NaN</td>\n",
       "      <td>True</td>\n",
       "      <td>how did johnny dep lost his position as jack s...</td>\n",
       "      <td>English</td>\n",
       "      <td>how did johnny dep lost his position as jack s...</td>\n",
       "    </tr>\n",
       "    <tr>\n",
       "      <th>8</th>\n",
       "      <td>Debra Ann Ray</td>\n",
       "      <td>you would show class if you leave johnny alone...</td>\n",
       "      <td>post0_comment</td>\n",
       "      <td>NaN</td>\n",
       "      <td>NaN</td>\n",
       "      <td>NaN</td>\n",
       "      <td>NaN</td>\n",
       "      <td>True</td>\n",
       "      <td>you would show class if you leave johnny alone...</td>\n",
       "      <td>English</td>\n",
       "      <td>you would show class if you leave johnny alone...</td>\n",
       "    </tr>\n",
       "    <tr>\n",
       "      <th>9</th>\n",
       "      <td>Cesca Emilia</td>\n",
       "      <td>it's hard enough for an abused person to come ...</td>\n",
       "      <td>post0_comment</td>\n",
       "      <td>NaN</td>\n",
       "      <td>NaN</td>\n",
       "      <td>NaN</td>\n",
       "      <td>NaN</td>\n",
       "      <td>True</td>\n",
       "      <td>it's hard enough for an abused person to come ...</td>\n",
       "      <td>English</td>\n",
       "      <td>it's hard enough for an abused person to come ...</td>\n",
       "    </tr>\n",
       "    <tr>\n",
       "      <th>10</th>\n",
       "      <td>Michealie McDowell</td>\n",
       "      <td>my son's father beat me so badly while i was p...</td>\n",
       "      <td>post0_comment</td>\n",
       "      <td>NaN</td>\n",
       "      <td>NaN</td>\n",
       "      <td>NaN</td>\n",
       "      <td>NaN</td>\n",
       "      <td>True</td>\n",
       "      <td>my son's father beat me so badly while i was p...</td>\n",
       "      <td>English</td>\n",
       "      <td>my son's father beat me so badly while i was p...</td>\n",
       "    </tr>\n",
       "    <tr>\n",
       "      <th>11</th>\n",
       "      <td>Andrew VerLee</td>\n",
       "      <td>yup we got it</td>\n",
       "      <td>post0_comment</td>\n",
       "      <td>NaN</td>\n",
       "      <td>NaN</td>\n",
       "      <td>NaN</td>\n",
       "      <td>NaN</td>\n",
       "      <td>True</td>\n",
       "      <td>yup we got it</td>\n",
       "      <td>English</td>\n",
       "      <td>yup we got it</td>\n",
       "    </tr>\n",
       "    <tr>\n",
       "      <th>12</th>\n",
       "      <td>Natasha Marie C</td>\n",
       "      <td>try honesty in your life and maybe apologise t...</td>\n",
       "      <td>post0_comment</td>\n",
       "      <td>NaN</td>\n",
       "      <td>NaN</td>\n",
       "      <td>NaN</td>\n",
       "      <td>NaN</td>\n",
       "      <td>True</td>\n",
       "      <td>try honesty in your life and maybe apologise t...</td>\n",
       "      <td>English</td>\n",
       "      <td>try honesty in your life and maybe apologise t...</td>\n",
       "    </tr>\n",
       "    <tr>\n",
       "      <th>13</th>\n",
       "      <td>Vanessa Monge</td>\n",
       "      <td>johnny depp is the best actor ever</td>\n",
       "      <td>post0_comment</td>\n",
       "      <td>NaN</td>\n",
       "      <td>NaN</td>\n",
       "      <td>NaN</td>\n",
       "      <td>NaN</td>\n",
       "      <td>True</td>\n",
       "      <td>johnny depp is the best actor ever</td>\n",
       "      <td>English</td>\n",
       "      <td>johnny depp is the best actor ever</td>\n",
       "    </tr>\n",
       "    <tr>\n",
       "      <th>14</th>\n",
       "      <td>Andrea Hernandez</td>\n",
       "      <td>you are the most trifling thing in 2020 now. n...</td>\n",
       "      <td>post0_comment</td>\n",
       "      <td>NaN</td>\n",
       "      <td>NaN</td>\n",
       "      <td>NaN</td>\n",
       "      <td>NaN</td>\n",
       "      <td>True</td>\n",
       "      <td>you are the most trifling thing in 2020 now no...</td>\n",
       "      <td>English</td>\n",
       "      <td>you are the most trifling thing in 2020 now no...</td>\n",
       "    </tr>\n",
       "    <tr>\n",
       "      <th>15</th>\n",
       "      <td>Jacky Ortiz</td>\n",
       "      <td>i hope nothing but the worst for you johnny de...</td>\n",
       "      <td>post0_comment</td>\n",
       "      <td>NaN</td>\n",
       "      <td>NaN</td>\n",
       "      <td>NaN</td>\n",
       "      <td>NaN</td>\n",
       "      <td>True</td>\n",
       "      <td>i hope nothing but the worst for you johnny de...</td>\n",
       "      <td>English</td>\n",
       "      <td>i hope nothing but the worst for you johnny de...</td>\n",
       "    </tr>\n",
       "    <tr>\n",
       "      <th>16</th>\n",
       "      <td>Alexis Conley</td>\n",
       "      <td>she owes the #metoo movement an apology. she p...</td>\n",
       "      <td>post0_comment</td>\n",
       "      <td>NaN</td>\n",
       "      <td>NaN</td>\n",
       "      <td>NaN</td>\n",
       "      <td>NaN</td>\n",
       "      <td>True</td>\n",
       "      <td>she owes the #metoo movement an apology she pu...</td>\n",
       "      <td>English</td>\n",
       "      <td>she owes the #metoo movement an apology she pu...</td>\n",
       "    </tr>\n",
       "    <tr>\n",
       "      <th>17</th>\n",
       "      <td>Michael Ottaka</td>\n",
       "      <td>so for all of you who are defending amber hear...</td>\n",
       "      <td>post0_comment</td>\n",
       "      <td>NaN</td>\n",
       "      <td>NaN</td>\n",
       "      <td>NaN</td>\n",
       "      <td>NaN</td>\n",
       "      <td>True</td>\n",
       "      <td>so for all of you who are defending amber hear...</td>\n",
       "      <td>English</td>\n",
       "      <td>so for all of you who are defending amber hear...</td>\n",
       "    </tr>\n",
       "    <tr>\n",
       "      <th>18</th>\n",
       "      <td>Liam Heatley</td>\n",
       "      <td>jonny depp was labeled as a woman abuser. he w...</td>\n",
       "      <td>post0_comment</td>\n",
       "      <td>NaN</td>\n",
       "      <td>NaN</td>\n",
       "      <td>NaN</td>\n",
       "      <td>NaN</td>\n",
       "      <td>True</td>\n",
       "      <td>jonny depp was labeled as a woman abuser he wa...</td>\n",
       "      <td>English</td>\n",
       "      <td>jonny depp was labeled as a woman abuser he wa...</td>\n",
       "    </tr>\n",
       "    <tr>\n",
       "      <th>19</th>\n",
       "      <td>Lisa Clark</td>\n",
       "      <td>loving these new recordings. truth about you c...</td>\n",
       "      <td>post0_comment</td>\n",
       "      <td>NaN</td>\n",
       "      <td>NaN</td>\n",
       "      <td>NaN</td>\n",
       "      <td>NaN</td>\n",
       "      <td>True</td>\n",
       "      <td>loving these new recordings truth about you co...</td>\n",
       "      <td>English</td>\n",
       "      <td>loving these new recordings truth about you co...</td>\n",
       "    </tr>\n",
       "    <tr>\n",
       "      <th>20</th>\n",
       "      <td>Kailey Farrell</td>\n",
       "      <td>serial domestic abuser warning!!!!!</td>\n",
       "      <td>post0_comment</td>\n",
       "      <td>NaN</td>\n",
       "      <td>NaN</td>\n",
       "      <td>NaN</td>\n",
       "      <td>NaN</td>\n",
       "      <td>True</td>\n",
       "      <td>serial domestic abuser warning!!!!!</td>\n",
       "      <td>English</td>\n",
       "      <td>serial domestic abuser warning!!!!!</td>\n",
       "    </tr>\n",
       "    <tr>\n",
       "      <th>21</th>\n",
       "      <td>Steph Walker</td>\n",
       "      <td>racist tweets not cool....stay off twitter!</td>\n",
       "      <td>post0_comment</td>\n",
       "      <td>NaN</td>\n",
       "      <td>NaN</td>\n",
       "      <td>NaN</td>\n",
       "      <td>NaN</td>\n",
       "      <td>True</td>\n",
       "      <td>racist tweets not coolstay off twitter!</td>\n",
       "      <td>English</td>\n",
       "      <td>racist tweets not coolstay off twitter!</td>\n",
       "    </tr>\n",
       "    <tr>\n",
       "      <th>22</th>\n",
       "      <td>Katie Richmond</td>\n",
       "      <td>i have said for years that the unfortunate cir...</td>\n",
       "      <td>post0_comment</td>\n",
       "      <td>NaN</td>\n",
       "      <td>NaN</td>\n",
       "      <td>NaN</td>\n",
       "      <td>NaN</td>\n",
       "      <td>True</td>\n",
       "      <td>i have said for years that the unfortunate cir...</td>\n",
       "      <td>English</td>\n",
       "      <td>i have said for years that the unfortunate cir...</td>\n",
       "    </tr>\n",
       "    <tr>\n",
       "      <th>23</th>\n",
       "      <td>Michelle Reynolds-Golda</td>\n",
       "      <td>have always been a fan of johnny depp despite ...</td>\n",
       "      <td>post0_comment</td>\n",
       "      <td>NaN</td>\n",
       "      <td>NaN</td>\n",
       "      <td>NaN</td>\n",
       "      <td>NaN</td>\n",
       "      <td>True</td>\n",
       "      <td>have always been a fan of johnny depp despite ...</td>\n",
       "      <td>English</td>\n",
       "      <td>have always been a fan of johnny depp despite ...</td>\n",
       "    </tr>\n",
       "    <tr>\n",
       "      <th>24</th>\n",
       "      <td>Laura Lee Jane Krasinski</td>\n",
       "      <td>back off satan! johnny depp is an innocent angel.</td>\n",
       "      <td>post0_comment</td>\n",
       "      <td>NaN</td>\n",
       "      <td>NaN</td>\n",
       "      <td>NaN</td>\n",
       "      <td>NaN</td>\n",
       "      <td>True</td>\n",
       "      <td>back off satan! johnny depp is an innocent angel</td>\n",
       "      <td>English</td>\n",
       "      <td>back off satan! johnny depp is an innocent angel</td>\n",
       "    </tr>\n",
       "    <tr>\n",
       "      <th>25</th>\n",
       "      <td>Mary Mckenna</td>\n",
       "      <td>amber, please get yourself back into high scho...</td>\n",
       "      <td>post0_comment</td>\n",
       "      <td>NaN</td>\n",
       "      <td>NaN</td>\n",
       "      <td>NaN</td>\n",
       "      <td>NaN</td>\n",
       "      <td>True</td>\n",
       "      <td>amber, please get yourself back into high scho...</td>\n",
       "      <td>English</td>\n",
       "      <td>amber, please get yourself back into high scho...</td>\n",
       "    </tr>\n",
       "    <tr>\n",
       "      <th>26</th>\n",
       "      <td>Pilar Narvaez</td>\n",
       "      <td>appaling the level of trolling this woman has ...</td>\n",
       "      <td>post0_comment</td>\n",
       "      <td>NaN</td>\n",
       "      <td>NaN</td>\n",
       "      <td>NaN</td>\n",
       "      <td>NaN</td>\n",
       "      <td>True</td>\n",
       "      <td>appaling the level of trolling this woman has ...</td>\n",
       "      <td>English</td>\n",
       "      <td>appaling the level of trolling this woman has ...</td>\n",
       "    </tr>\n",
       "    <tr>\n",
       "      <th>27</th>\n",
       "      <td>Amy Rossetti</td>\n",
       "      <td>i find it maddening that a woman can accuse a ...</td>\n",
       "      <td>post0_comment</td>\n",
       "      <td>NaN</td>\n",
       "      <td>NaN</td>\n",
       "      <td>NaN</td>\n",
       "      <td>NaN</td>\n",
       "      <td>True</td>\n",
       "      <td>i find it maddening that a woman can accuse a ...</td>\n",
       "      <td>English</td>\n",
       "      <td>i find it maddening that a woman can accuse a ...</td>\n",
       "    </tr>\n",
       "    <tr>\n",
       "      <th>29</th>\n",
       "      <td>Heather Lee</td>\n",
       "      <td>depp is a fantastic actor...why are you ruinin...</td>\n",
       "      <td>post0_comment</td>\n",
       "      <td>NaN</td>\n",
       "      <td>NaN</td>\n",
       "      <td>NaN</td>\n",
       "      <td>NaN</td>\n",
       "      <td>True</td>\n",
       "      <td>depp is a fantastic actorwhy are you ruining t...</td>\n",
       "      <td>English</td>\n",
       "      <td>depp is a fantastic actorwhy are you ruining t...</td>\n",
       "    </tr>\n",
       "    <tr>\n",
       "      <th>30</th>\n",
       "      <td>Kate Vernile</td>\n",
       "      <td>amber heard name will be known forever as a di...</td>\n",
       "      <td>post0_comment</td>\n",
       "      <td>NaN</td>\n",
       "      <td>NaN</td>\n",
       "      <td>NaN</td>\n",
       "      <td>NaN</td>\n",
       "      <td>True</td>\n",
       "      <td>amber heard name will be known forever as a di...</td>\n",
       "      <td>English</td>\n",
       "      <td>amber heard name will be known forever as a di...</td>\n",
       "    </tr>\n",
       "    <tr>\n",
       "      <th>31</th>\n",
       "      <td>Azeez Edo-Omozuwa</td>\n",
       "      <td>new evidence has come out showing she hurt joh...</td>\n",
       "      <td>post0_comment</td>\n",
       "      <td>NaN</td>\n",
       "      <td>NaN</td>\n",
       "      <td>NaN</td>\n",
       "      <td>NaN</td>\n",
       "      <td>True</td>\n",
       "      <td>new evidence has come out showing she hurt joh...</td>\n",
       "      <td>English</td>\n",
       "      <td>new evidence has come out showing she hurt joh...</td>\n",
       "    </tr>\n",
       "    <tr>\n",
       "      <th>32</th>\n",
       "      <td>Nico Dizon</td>\n",
       "      <td>listen here amber\\r\\nyou better apologize to j...</td>\n",
       "      <td>post0_comment</td>\n",
       "      <td>NaN</td>\n",
       "      <td>NaN</td>\n",
       "      <td>NaN</td>\n",
       "      <td>NaN</td>\n",
       "      <td>True</td>\n",
       "      <td>listen here amber you better apologize to john...</td>\n",
       "      <td>English</td>\n",
       "      <td>listen here amber you better apologize to john...</td>\n",
       "    </tr>\n",
       "    <tr>\n",
       "      <th>33</th>\n",
       "      <td>Emma Sheldon</td>\n",
       "      <td>no one cares if you’re live on twitter. coz no...</td>\n",
       "      <td>post0_comment</td>\n",
       "      <td>NaN</td>\n",
       "      <td>NaN</td>\n",
       "      <td>NaN</td>\n",
       "      <td>NaN</td>\n",
       "      <td>True</td>\n",
       "      <td>no one cares if you’re live on twitter coz no ...</td>\n",
       "      <td>English</td>\n",
       "      <td>no one cares if you’re live on twitter coz no ...</td>\n",
       "    </tr>\n",
       "    <tr>\n",
       "      <th>34</th>\n",
       "      <td>Carlos Texasville Rodriguez</td>\n",
       "      <td>the new amber heard is stu’s wife😂😂😂</td>\n",
       "      <td>post0_comment</td>\n",
       "      <td>NaN</td>\n",
       "      <td>NaN</td>\n",
       "      <td>NaN</td>\n",
       "      <td>NaN</td>\n",
       "      <td>True</td>\n",
       "      <td>the new amber heard is stu’s wife</td>\n",
       "      <td>English</td>\n",
       "      <td>the new amber heard is stu’s wife</td>\n",
       "    </tr>\n",
       "    <tr>\n",
       "      <th>35</th>\n",
       "      <td>Rhiannon Gallimore</td>\n",
       "      <td>fuck you amber heard</td>\n",
       "      <td>post0_comment</td>\n",
       "      <td>NaN</td>\n",
       "      <td>NaN</td>\n",
       "      <td>NaN</td>\n",
       "      <td>NaN</td>\n",
       "      <td>True</td>\n",
       "      <td>fuck you amber heard</td>\n",
       "      <td>English</td>\n",
       "      <td>fuck you amber heard</td>\n",
       "    </tr>\n",
       "    <tr>\n",
       "      <th>36</th>\n",
       "      <td>Barry Ryan</td>\n",
       "      <td>hope you got the $50 mill for jonny</td>\n",
       "      <td>post0_comment</td>\n",
       "      <td>NaN</td>\n",
       "      <td>NaN</td>\n",
       "      <td>NaN</td>\n",
       "      <td>NaN</td>\n",
       "      <td>True</td>\n",
       "      <td>hope you got the $50 mill for jonny</td>\n",
       "      <td>English</td>\n",
       "      <td>hope you got the $50 mill for jonny</td>\n",
       "    </tr>\n",
       "    <tr>\n",
       "      <th>37</th>\n",
       "      <td>Joanne Straka</td>\n",
       "      <td>boycott amber heard!!!!!!!!</td>\n",
       "      <td>post0_comment</td>\n",
       "      <td>NaN</td>\n",
       "      <td>NaN</td>\n",
       "      <td>NaN</td>\n",
       "      <td>NaN</td>\n",
       "      <td>True</td>\n",
       "      <td>boycott amber heard!!!!!!!!</td>\n",
       "      <td>English</td>\n",
       "      <td>boycott amber heard!!!!!!!!</td>\n",
       "    </tr>\n",
       "    <tr>\n",
       "      <th>38</th>\n",
       "      <td>Megan Gallo</td>\n",
       "      <td>it’s really sad that you’ve hijacked the platf...</td>\n",
       "      <td>post0_comment</td>\n",
       "      <td>NaN</td>\n",
       "      <td>NaN</td>\n",
       "      <td>NaN</td>\n",
       "      <td>NaN</td>\n",
       "      <td>True</td>\n",
       "      <td>it’s really sad that you’ve hijacked the platf...</td>\n",
       "      <td>English</td>\n",
       "      <td>it’s really sad that you’ve hijacked the platf...</td>\n",
       "    </tr>\n",
       "    <tr>\n",
       "      <th>39</th>\n",
       "      <td>Sareena Sky</td>\n",
       "      <td>oh amber heard...u just wanted attention. you ...</td>\n",
       "      <td>post0_comment</td>\n",
       "      <td>NaN</td>\n",
       "      <td>NaN</td>\n",
       "      <td>NaN</td>\n",
       "      <td>NaN</td>\n",
       "      <td>True</td>\n",
       "      <td>oh amber heardu just wanted attention you lied...</td>\n",
       "      <td>English</td>\n",
       "      <td>oh amber heardu just wanted attention you lied...</td>\n",
       "    </tr>\n",
       "    <tr>\n",
       "      <th>40</th>\n",
       "      <td>Tom Patrick</td>\n",
       "      <td>you’re a man-hater, do you hate jason momoa</td>\n",
       "      <td>post0_comment</td>\n",
       "      <td>NaN</td>\n",
       "      <td>NaN</td>\n",
       "      <td>NaN</td>\n",
       "      <td>NaN</td>\n",
       "      <td>True</td>\n",
       "      <td>you’re a manhater, do you hate jason momoa</td>\n",
       "      <td>English</td>\n",
       "      <td>you’re a manhater, do you hate jason momoa</td>\n",
       "    </tr>\n",
       "    <tr>\n",
       "      <th>41</th>\n",
       "      <td>Michelle Fieldhouse</td>\n",
       "      <td>who would want to follow an evil person who ab...</td>\n",
       "      <td>post0_comment</td>\n",
       "      <td>NaN</td>\n",
       "      <td>NaN</td>\n",
       "      <td>NaN</td>\n",
       "      <td>NaN</td>\n",
       "      <td>True</td>\n",
       "      <td>who would want to follow an evil person who ab...</td>\n",
       "      <td>English</td>\n",
       "      <td>who would want to follow an evil person who ab...</td>\n",
       "    </tr>\n",
       "    <tr>\n",
       "      <th>42</th>\n",
       "      <td>Kata Reyes</td>\n",
       "      <td>hey you! why cant you keep your story straight...</td>\n",
       "      <td>post0_comment</td>\n",
       "      <td>NaN</td>\n",
       "      <td>NaN</td>\n",
       "      <td>NaN</td>\n",
       "      <td>NaN</td>\n",
       "      <td>True</td>\n",
       "      <td>hey you! why cant you keep your story straight...</td>\n",
       "      <td>English</td>\n",
       "      <td>hey you! why cant you keep your story straight...</td>\n",
       "    </tr>\n",
       "    <tr>\n",
       "      <th>43</th>\n",
       "      <td>Cody Blythe</td>\n",
       "      <td>will i have my finger mutilated if i don’t</td>\n",
       "      <td>post0_comment</td>\n",
       "      <td>NaN</td>\n",
       "      <td>NaN</td>\n",
       "      <td>NaN</td>\n",
       "      <td>NaN</td>\n",
       "      <td>True</td>\n",
       "      <td>will i have my finger mutilated if i don’t</td>\n",
       "      <td>English</td>\n",
       "      <td>will i have my finger mutilated if i don’t</td>\n",
       "    </tr>\n",
       "    <tr>\n",
       "      <th>44</th>\n",
       "      <td>Laura Samantha</td>\n",
       "      <td>as a domestic violent victim, can see through ...</td>\n",
       "      <td>post0_comment</td>\n",
       "      <td>NaN</td>\n",
       "      <td>NaN</td>\n",
       "      <td>NaN</td>\n",
       "      <td>NaN</td>\n",
       "      <td>True</td>\n",
       "      <td>as a domestic violent victim, can see through ...</td>\n",
       "      <td>English</td>\n",
       "      <td>as a domestic violent victim, can see through ...</td>\n",
       "    </tr>\n",
       "    <tr>\n",
       "      <th>45</th>\n",
       "      <td>Samuel A Varghese</td>\n",
       "      <td>i am always live in instagram, twitter and fac...</td>\n",
       "      <td>post0_comment</td>\n",
       "      <td>NaN</td>\n",
       "      <td>NaN</td>\n",
       "      <td>NaN</td>\n",
       "      <td>NaN</td>\n",
       "      <td>True</td>\n",
       "      <td>i am always live in instagram, twitter and fac...</td>\n",
       "      <td>English</td>\n",
       "      <td>i am always live in instagram, twitter and fac...</td>\n",
       "    </tr>\n",
       "    <tr>\n",
       "      <th>46</th>\n",
       "      <td>John Jeffries</td>\n",
       "      <td>stupid bitch fuck u and your twitter</td>\n",
       "      <td>post0_comment</td>\n",
       "      <td>NaN</td>\n",
       "      <td>NaN</td>\n",
       "      <td>NaN</td>\n",
       "      <td>NaN</td>\n",
       "      <td>True</td>\n",
       "      <td>stupid bitch fuck u and your twitter</td>\n",
       "      <td>English</td>\n",
       "      <td>stupid bitch fuck u and your twitter</td>\n",
       "    </tr>\n",
       "    <tr>\n",
       "      <th>47</th>\n",
       "      <td>BeDi J Lina</td>\n",
       "      <td>you should be ashamed of yourself! bad actress...</td>\n",
       "      <td>post0_comment</td>\n",
       "      <td>NaN</td>\n",
       "      <td>NaN</td>\n",
       "      <td>NaN</td>\n",
       "      <td>NaN</td>\n",
       "      <td>True</td>\n",
       "      <td>you should be ashamed of yourself! bad actress...</td>\n",
       "      <td>English</td>\n",
       "      <td>you should be ashamed of yourself! bad actress...</td>\n",
       "    </tr>\n",
       "    <tr>\n",
       "      <th>48</th>\n",
       "      <td>Bokhara Burnes</td>\n",
       "      <td>dear amber, i am seriously worried for you; yo...</td>\n",
       "      <td>post0_comment</td>\n",
       "      <td>NaN</td>\n",
       "      <td>NaN</td>\n",
       "      <td>NaN</td>\n",
       "      <td>NaN</td>\n",
       "      <td>True</td>\n",
       "      <td>dear amber, i am seriously worried for you; yo...</td>\n",
       "      <td>English</td>\n",
       "      <td>dear amber, i am seriously worried for you; yo...</td>\n",
       "    </tr>\n",
       "    <tr>\n",
       "      <th>49</th>\n",
       "      <td>Radulescu Carmen</td>\n",
       "      <td>i kept my mouth shut untill now,amber you marr...</td>\n",
       "      <td>post0_comment</td>\n",
       "      <td>NaN</td>\n",
       "      <td>NaN</td>\n",
       "      <td>NaN</td>\n",
       "      <td>NaN</td>\n",
       "      <td>True</td>\n",
       "      <td>i kept my mouth shut untill now,amber you marr...</td>\n",
       "      <td>English</td>\n",
       "      <td>i kept my mouth shut untill now,amber you marr...</td>\n",
       "    </tr>\n",
       "    <tr>\n",
       "      <th>50</th>\n",
       "      <td>Katrina Longoria</td>\n",
       "      <td>instead of trying to justify your actions, poo...</td>\n",
       "      <td>post0_comment</td>\n",
       "      <td>NaN</td>\n",
       "      <td>NaN</td>\n",
       "      <td>NaN</td>\n",
       "      <td>NaN</td>\n",
       "      <td>True</td>\n",
       "      <td>instead of trying to justify your actions, poo...</td>\n",
       "      <td>English</td>\n",
       "      <td>instead of trying to justify your actions, poo...</td>\n",
       "    </tr>\n",
       "    <tr>\n",
       "      <th>51</th>\n",
       "      <td>Alessandro Campaiola</td>\n",
       "      <td>i swear that you will not do any film or serie...</td>\n",
       "      <td>post0_comment</td>\n",
       "      <td>NaN</td>\n",
       "      <td>NaN</td>\n",
       "      <td>NaN</td>\n",
       "      <td>NaN</td>\n",
       "      <td>True</td>\n",
       "      <td>i swear that you will not do any film or serie...</td>\n",
       "      <td>English</td>\n",
       "      <td>i swear that you will not do any film or serie...</td>\n",
       "    </tr>\n",
       "    <tr>\n",
       "      <th>52</th>\n",
       "      <td>Alex Robertson</td>\n",
       "      <td>since i know neither you or mr. depp personall...</td>\n",
       "      <td>post0_comment</td>\n",
       "      <td>NaN</td>\n",
       "      <td>NaN</td>\n",
       "      <td>NaN</td>\n",
       "      <td>NaN</td>\n",
       "      <td>True</td>\n",
       "      <td>since i know neither you or mr depp personally...</td>\n",
       "      <td>English</td>\n",
       "      <td>since i know neither you or mr depp personally...</td>\n",
       "    </tr>\n",
       "    <tr>\n",
       "      <th>53</th>\n",
       "      <td>Sam Roberts</td>\n",
       "      <td>the truth always comes out in the end every do...</td>\n",
       "      <td>post0_comment</td>\n",
       "      <td>NaN</td>\n",
       "      <td>NaN</td>\n",
       "      <td>NaN</td>\n",
       "      <td>NaN</td>\n",
       "      <td>True</td>\n",
       "      <td>the truth always comes out in the end every do...</td>\n",
       "      <td>English</td>\n",
       "      <td>the truth always comes out in the end every do...</td>\n",
       "    </tr>\n",
       "    <tr>\n",
       "      <th>54</th>\n",
       "      <td>Seth-Elizabeth Irwin</td>\n",
       "      <td>this woman abused her spouse and lied about it...</td>\n",
       "      <td>post0_comment</td>\n",
       "      <td>NaN</td>\n",
       "      <td>NaN</td>\n",
       "      <td>NaN</td>\n",
       "      <td>NaN</td>\n",
       "      <td>True</td>\n",
       "      <td>this woman abused her spouse and lied about it...</td>\n",
       "      <td>English</td>\n",
       "      <td>this woman abused her spouse and lied about it...</td>\n",
       "    </tr>\n",
       "    <tr>\n",
       "      <th>55</th>\n",
       "      <td>Lana Linette Rayphole</td>\n",
       "      <td>with all that's going on in the world, hate do...</td>\n",
       "      <td>post0_comment</td>\n",
       "      <td>NaN</td>\n",
       "      <td>NaN</td>\n",
       "      <td>NaN</td>\n",
       "      <td>NaN</td>\n",
       "      <td>True</td>\n",
       "      <td>with all that's going on in the world, hate do...</td>\n",
       "      <td>English</td>\n",
       "      <td>with all that's going on in the world, hate do...</td>\n",
       "    </tr>\n",
       "    <tr>\n",
       "      <th>56</th>\n",
       "      <td>Andrea Ramos Aldana</td>\n",
       "      <td>if i don’t follow you are you gonna cut my fin...</td>\n",
       "      <td>post0_comment</td>\n",
       "      <td>NaN</td>\n",
       "      <td>NaN</td>\n",
       "      <td>NaN</td>\n",
       "      <td>NaN</td>\n",
       "      <td>True</td>\n",
       "      <td>if i don’t follow you are you gonna cut my fin...</td>\n",
       "      <td>English</td>\n",
       "      <td>if i don’t follow you are you gonna cut my fin...</td>\n",
       "    </tr>\n",
       "    <tr>\n",
       "      <th>57</th>\n",
       "      <td>Scryndi Bux</td>\n",
       "      <td>so all these people are bots? we've all looked...</td>\n",
       "      <td>post0_comment</td>\n",
       "      <td>NaN</td>\n",
       "      <td>NaN</td>\n",
       "      <td>NaN</td>\n",
       "      <td>NaN</td>\n",
       "      <td>True</td>\n",
       "      <td>so all these people are bots? we've all looked...</td>\n",
       "      <td>English</td>\n",
       "      <td>so all these people are bots? we've all looked...</td>\n",
       "    </tr>\n",
       "    <tr>\n",
       "      <th>58</th>\n",
       "      <td>Deane Henry</td>\n",
       "      <td>you cost johnny depp his role in pirates of th...</td>\n",
       "      <td>post0_comment</td>\n",
       "      <td>NaN</td>\n",
       "      <td>NaN</td>\n",
       "      <td>NaN</td>\n",
       "      <td>NaN</td>\n",
       "      <td>True</td>\n",
       "      <td>you cost johnny depp his role in pirates of th...</td>\n",
       "      <td>English</td>\n",
       "      <td>you cost johnny depp his role in pirates of th...</td>\n",
       "    </tr>\n",
       "    <tr>\n",
       "      <th>59</th>\n",
       "      <td>Rhonda West</td>\n",
       "      <td>i signed the petitions to remove you from aqua...</td>\n",
       "      <td>post0_comment</td>\n",
       "      <td>NaN</td>\n",
       "      <td>NaN</td>\n",
       "      <td>NaN</td>\n",
       "      <td>NaN</td>\n",
       "      <td>True</td>\n",
       "      <td>i signed the petitions to remove you from aqua...</td>\n",
       "      <td>English</td>\n",
       "      <td>i signed the petitions to remove you from aqua...</td>\n",
       "    </tr>\n",
       "    <tr>\n",
       "      <th>60</th>\n",
       "      <td>Myla Kathleen</td>\n",
       "      <td>honestly, the moment i see your name pop up as...</td>\n",
       "      <td>post0_comment</td>\n",
       "      <td>NaN</td>\n",
       "      <td>NaN</td>\n",
       "      <td>NaN</td>\n",
       "      <td>NaN</td>\n",
       "      <td>True</td>\n",
       "      <td>honestly, the moment i see your name pop up as...</td>\n",
       "      <td>English</td>\n",
       "      <td>honestly, the moment i see your name pop up as...</td>\n",
       "    </tr>\n",
       "  </tbody>\n",
       "</table>\n",
       "</div>"
      ],
      "text/plain": [
       "                       username  \\\n",
       "0                Raychel RayRay   \n",
       "1                   Rich Lawson   \n",
       "2                 Zeyneb Yusein   \n",
       "3             William Mcneillie   \n",
       "4                   Flash Garot   \n",
       "5                 Joy Bonassoli   \n",
       "6              Therese Stellato   \n",
       "7                 Camron Jonson   \n",
       "8                 Debra Ann Ray   \n",
       "9                  Cesca Emilia   \n",
       "10           Michealie McDowell   \n",
       "11                Andrew VerLee   \n",
       "12              Natasha Marie C   \n",
       "13                Vanessa Monge   \n",
       "14             Andrea Hernandez   \n",
       "15                  Jacky Ortiz   \n",
       "16                Alexis Conley   \n",
       "17               Michael Ottaka   \n",
       "18                 Liam Heatley   \n",
       "19                   Lisa Clark   \n",
       "20               Kailey Farrell   \n",
       "21                 Steph Walker   \n",
       "22               Katie Richmond   \n",
       "23      Michelle Reynolds-Golda   \n",
       "24     Laura Lee Jane Krasinski   \n",
       "25                 Mary Mckenna   \n",
       "26                Pilar Narvaez   \n",
       "27                 Amy Rossetti   \n",
       "29                  Heather Lee   \n",
       "30                 Kate Vernile   \n",
       "31            Azeez Edo-Omozuwa   \n",
       "32                   Nico Dizon   \n",
       "33                 Emma Sheldon   \n",
       "34  Carlos Texasville Rodriguez   \n",
       "35           Rhiannon Gallimore   \n",
       "36                   Barry Ryan   \n",
       "37                Joanne Straka   \n",
       "38                  Megan Gallo   \n",
       "39                  Sareena Sky   \n",
       "40                  Tom Patrick   \n",
       "41          Michelle Fieldhouse   \n",
       "42                   Kata Reyes   \n",
       "43                  Cody Blythe   \n",
       "44               Laura Samantha   \n",
       "45            Samuel A Varghese   \n",
       "46                John Jeffries   \n",
       "47                  BeDi J Lina   \n",
       "48               Bokhara Burnes   \n",
       "49             Radulescu Carmen   \n",
       "50             Katrina Longoria   \n",
       "51         Alessandro Campaiola   \n",
       "52               Alex Robertson   \n",
       "53                  Sam Roberts   \n",
       "54         Seth-Elizabeth Irwin   \n",
       "55        Lana Linette Rayphole   \n",
       "56          Andrea Ramos Aldana   \n",
       "57                  Scryndi Bux   \n",
       "58                  Deane Henry   \n",
       "59                  Rhonda West   \n",
       "60                Myla Kathleen   \n",
       "\n",
       "                                              comment           type  \\\n",
       "0                                               skank  post0_comment   \n",
       "1   not only are you a pretty rubbish actress you ...  post0_comment   \n",
       "2   you're a shame and disgrace for your family, i...  post0_comment   \n",
       "3   😂 what's next in your game plan? blame arthur ...  post0_comment   \n",
       "4                              no one cares, you suck  post0_comment   \n",
       "5   i think you should apologize!\\r\\nyou tried to ...  post0_comment   \n",
       "6   its time to face the truth! you cant keep pain...  post0_comment   \n",
       "7   how did johnny dep lost his position as jack s...  post0_comment   \n",
       "8   you would show class if you leave johnny alone...  post0_comment   \n",
       "9   it's hard enough for an abused person to come ...  post0_comment   \n",
       "10  my son's father beat me so badly while i was p...  post0_comment   \n",
       "11                                      yup we got it  post0_comment   \n",
       "12  try honesty in your life and maybe apologise t...  post0_comment   \n",
       "13                 johnny depp is the best actor ever  post0_comment   \n",
       "14  you are the most trifling thing in 2020 now. n...  post0_comment   \n",
       "15  i hope nothing but the worst for you johnny de...  post0_comment   \n",
       "16  she owes the #metoo movement an apology. she p...  post0_comment   \n",
       "17  so for all of you who are defending amber hear...  post0_comment   \n",
       "18  jonny depp was labeled as a woman abuser. he w...  post0_comment   \n",
       "19  loving these new recordings. truth about you c...  post0_comment   \n",
       "20                serial domestic abuser warning!!!!!  post0_comment   \n",
       "21        racist tweets not cool....stay off twitter!  post0_comment   \n",
       "22  i have said for years that the unfortunate cir...  post0_comment   \n",
       "23  have always been a fan of johnny depp despite ...  post0_comment   \n",
       "24  back off satan! johnny depp is an innocent angel.  post0_comment   \n",
       "25  amber, please get yourself back into high scho...  post0_comment   \n",
       "26  appaling the level of trolling this woman has ...  post0_comment   \n",
       "27  i find it maddening that a woman can accuse a ...  post0_comment   \n",
       "29  depp is a fantastic actor...why are you ruinin...  post0_comment   \n",
       "30  amber heard name will be known forever as a di...  post0_comment   \n",
       "31  new evidence has come out showing she hurt joh...  post0_comment   \n",
       "32  listen here amber\\r\\nyou better apologize to j...  post0_comment   \n",
       "33  no one cares if you’re live on twitter. coz no...  post0_comment   \n",
       "34               the new amber heard is stu’s wife😂😂😂  post0_comment   \n",
       "35                               fuck you amber heard  post0_comment   \n",
       "36                hope you got the $50 mill for jonny  post0_comment   \n",
       "37                        boycott amber heard!!!!!!!!  post0_comment   \n",
       "38  it’s really sad that you’ve hijacked the platf...  post0_comment   \n",
       "39  oh amber heard...u just wanted attention. you ...  post0_comment   \n",
       "40        you’re a man-hater, do you hate jason momoa  post0_comment   \n",
       "41  who would want to follow an evil person who ab...  post0_comment   \n",
       "42  hey you! why cant you keep your story straight...  post0_comment   \n",
       "43         will i have my finger mutilated if i don’t  post0_comment   \n",
       "44  as a domestic violent victim, can see through ...  post0_comment   \n",
       "45  i am always live in instagram, twitter and fac...  post0_comment   \n",
       "46               stupid bitch fuck u and your twitter  post0_comment   \n",
       "47  you should be ashamed of yourself! bad actress...  post0_comment   \n",
       "48  dear amber, i am seriously worried for you; yo...  post0_comment   \n",
       "49  i kept my mouth shut untill now,amber you marr...  post0_comment   \n",
       "50  instead of trying to justify your actions, poo...  post0_comment   \n",
       "51  i swear that you will not do any film or serie...  post0_comment   \n",
       "52  since i know neither you or mr. depp personall...  post0_comment   \n",
       "53  the truth always comes out in the end every do...  post0_comment   \n",
       "54  this woman abused her spouse and lied about it...  post0_comment   \n",
       "55  with all that's going on in the world, hate do...  post0_comment   \n",
       "56  if i don’t follow you are you gonna cut my fin...  post0_comment   \n",
       "57  so all these people are bots? we've all looked...  post0_comment   \n",
       "58  you cost johnny depp his role in pirates of th...  post0_comment   \n",
       "59  i signed the petitions to remove you from aqua...  post0_comment   \n",
       "60  honestly, the moment i see your name pop up as...  post0_comment   \n",
       "\n",
       "   defense_AH support_AH offense_AH defense_against_AH  contains_alpha  \\\n",
       "0         NaN        NaN        NaN                NaN            True   \n",
       "1         NaN        NaN        NaN                NaN            True   \n",
       "2         NaN        NaN        NaN                NaN            True   \n",
       "3         NaN        NaN        NaN                NaN            True   \n",
       "4         NaN        NaN        NaN                NaN            True   \n",
       "5         NaN        NaN        NaN                NaN            True   \n",
       "6         NaN        NaN        NaN                NaN            True   \n",
       "7         NaN        NaN        NaN                NaN            True   \n",
       "8         NaN        NaN        NaN                NaN            True   \n",
       "9         NaN        NaN        NaN                NaN            True   \n",
       "10        NaN        NaN        NaN                NaN            True   \n",
       "11        NaN        NaN        NaN                NaN            True   \n",
       "12        NaN        NaN        NaN                NaN            True   \n",
       "13        NaN        NaN        NaN                NaN            True   \n",
       "14        NaN        NaN        NaN                NaN            True   \n",
       "15        NaN        NaN        NaN                NaN            True   \n",
       "16        NaN        NaN        NaN                NaN            True   \n",
       "17        NaN        NaN        NaN                NaN            True   \n",
       "18        NaN        NaN        NaN                NaN            True   \n",
       "19        NaN        NaN        NaN                NaN            True   \n",
       "20        NaN        NaN        NaN                NaN            True   \n",
       "21        NaN        NaN        NaN                NaN            True   \n",
       "22        NaN        NaN        NaN                NaN            True   \n",
       "23        NaN        NaN        NaN                NaN            True   \n",
       "24        NaN        NaN        NaN                NaN            True   \n",
       "25        NaN        NaN        NaN                NaN            True   \n",
       "26        NaN        NaN        NaN                NaN            True   \n",
       "27        NaN        NaN        NaN                NaN            True   \n",
       "29        NaN        NaN        NaN                NaN            True   \n",
       "30        NaN        NaN        NaN                NaN            True   \n",
       "31        NaN        NaN        NaN                NaN            True   \n",
       "32        NaN        NaN        NaN                NaN            True   \n",
       "33        NaN        NaN        NaN                NaN            True   \n",
       "34        NaN        NaN        NaN                NaN            True   \n",
       "35        NaN        NaN        NaN                NaN            True   \n",
       "36        NaN        NaN        NaN                NaN            True   \n",
       "37        NaN        NaN        NaN                NaN            True   \n",
       "38        NaN        NaN        NaN                NaN            True   \n",
       "39        NaN        NaN        NaN                NaN            True   \n",
       "40        NaN        NaN        NaN                NaN            True   \n",
       "41        NaN        NaN        NaN                NaN            True   \n",
       "42        NaN        NaN        NaN                NaN            True   \n",
       "43        NaN        NaN        NaN                NaN            True   \n",
       "44        NaN        NaN        NaN                NaN            True   \n",
       "45        NaN        NaN        NaN                NaN            True   \n",
       "46        NaN        NaN        NaN                NaN            True   \n",
       "47        NaN        NaN        NaN                NaN            True   \n",
       "48        NaN        NaN        NaN                NaN            True   \n",
       "49        NaN        NaN        NaN                NaN            True   \n",
       "50        NaN        NaN        NaN                NaN            True   \n",
       "51        NaN        NaN        NaN                NaN            True   \n",
       "52        NaN        NaN        NaN                NaN            True   \n",
       "53        NaN        NaN        NaN                NaN            True   \n",
       "54        NaN        NaN        NaN                NaN            True   \n",
       "55        NaN        NaN        NaN                NaN            True   \n",
       "56        NaN        NaN        NaN                NaN            True   \n",
       "57        NaN        NaN        NaN                NaN            True   \n",
       "58        NaN        NaN        NaN                NaN            True   \n",
       "59        NaN        NaN        NaN                NaN            True   \n",
       "60        NaN        NaN        NaN                NaN            True   \n",
       "\n",
       "                                           clean_text language  \\\n",
       "0                                               skank  English   \n",
       "1   not only are you a pretty rubbish actress you ...  English   \n",
       "2   you're a shame and disgrace for your family, i...  English   \n",
       "3    what's next in your game plan? blame arthur c...  English   \n",
       "4                              no one cares, you suck  English   \n",
       "5   i think you should apologize! you tried to des...  English   \n",
       "6   its time to face the truth! you cant keep pain...  English   \n",
       "7   how did johnny dep lost his position as jack s...  English   \n",
       "8   you would show class if you leave johnny alone...  English   \n",
       "9   it's hard enough for an abused person to come ...  English   \n",
       "10  my son's father beat me so badly while i was p...  English   \n",
       "11                                      yup we got it  English   \n",
       "12  try honesty in your life and maybe apologise t...  English   \n",
       "13                 johnny depp is the best actor ever  English   \n",
       "14  you are the most trifling thing in 2020 now no...  English   \n",
       "15  i hope nothing but the worst for you johnny de...  English   \n",
       "16  she owes the #metoo movement an apology she pu...  English   \n",
       "17  so for all of you who are defending amber hear...  English   \n",
       "18  jonny depp was labeled as a woman abuser he wa...  English   \n",
       "19  loving these new recordings truth about you co...  English   \n",
       "20                serial domestic abuser warning!!!!!  English   \n",
       "21            racist tweets not coolstay off twitter!  English   \n",
       "22  i have said for years that the unfortunate cir...  English   \n",
       "23  have always been a fan of johnny depp despite ...  English   \n",
       "24   back off satan! johnny depp is an innocent angel  English   \n",
       "25  amber, please get yourself back into high scho...  English   \n",
       "26  appaling the level of trolling this woman has ...  English   \n",
       "27  i find it maddening that a woman can accuse a ...  English   \n",
       "29  depp is a fantastic actorwhy are you ruining t...  English   \n",
       "30  amber heard name will be known forever as a di...  English   \n",
       "31  new evidence has come out showing she hurt joh...  English   \n",
       "32  listen here amber you better apologize to john...  English   \n",
       "33  no one cares if you’re live on twitter coz no ...  English   \n",
       "34                  the new amber heard is stu’s wife  English   \n",
       "35                               fuck you amber heard  English   \n",
       "36                hope you got the $50 mill for jonny  English   \n",
       "37                        boycott amber heard!!!!!!!!  English   \n",
       "38  it’s really sad that you’ve hijacked the platf...  English   \n",
       "39  oh amber heardu just wanted attention you lied...  English   \n",
       "40         you’re a manhater, do you hate jason momoa  English   \n",
       "41  who would want to follow an evil person who ab...  English   \n",
       "42  hey you! why cant you keep your story straight...  English   \n",
       "43         will i have my finger mutilated if i don’t  English   \n",
       "44  as a domestic violent victim, can see through ...  English   \n",
       "45  i am always live in instagram, twitter and fac...  English   \n",
       "46               stupid bitch fuck u and your twitter  English   \n",
       "47  you should be ashamed of yourself! bad actress...  English   \n",
       "48  dear amber, i am seriously worried for you; yo...  English   \n",
       "49  i kept my mouth shut untill now,amber you marr...  English   \n",
       "50  instead of trying to justify your actions, poo...  English   \n",
       "51  i swear that you will not do any film or serie...  English   \n",
       "52  since i know neither you or mr depp personally...  English   \n",
       "53  the truth always comes out in the end every do...  English   \n",
       "54  this woman abused her spouse and lied about it...  English   \n",
       "55  with all that's going on in the world, hate do...  English   \n",
       "56  if i don’t follow you are you gonna cut my fin...  English   \n",
       "57  so all these people are bots? we've all looked...  English   \n",
       "58  you cost johnny depp his role in pirates of th...  English   \n",
       "59  i signed the petitions to remove you from aqua...  English   \n",
       "60  honestly, the moment i see your name pop up as...  English   \n",
       "\n",
       "                                           translated  \n",
       "0                                               skank  \n",
       "1   not only are you a pretty rubbish actress you ...  \n",
       "2   you're a shame and disgrace for your family, i...  \n",
       "3    what's next in your game plan? blame arthur c...  \n",
       "4                              no one cares, you suck  \n",
       "5   i think you should apologize! you tried to des...  \n",
       "6   its time to face the truth! you cant keep pain...  \n",
       "7   how did johnny dep lost his position as jack s...  \n",
       "8   you would show class if you leave johnny alone...  \n",
       "9   it's hard enough for an abused person to come ...  \n",
       "10  my son's father beat me so badly while i was p...  \n",
       "11                                      yup we got it  \n",
       "12  try honesty in your life and maybe apologise t...  \n",
       "13                 johnny depp is the best actor ever  \n",
       "14  you are the most trifling thing in 2020 now no...  \n",
       "15  i hope nothing but the worst for you johnny de...  \n",
       "16  she owes the #metoo movement an apology she pu...  \n",
       "17  so for all of you who are defending amber hear...  \n",
       "18  jonny depp was labeled as a woman abuser he wa...  \n",
       "19  loving these new recordings truth about you co...  \n",
       "20                serial domestic abuser warning!!!!!  \n",
       "21            racist tweets not coolstay off twitter!  \n",
       "22  i have said for years that the unfortunate cir...  \n",
       "23  have always been a fan of johnny depp despite ...  \n",
       "24   back off satan! johnny depp is an innocent angel  \n",
       "25  amber, please get yourself back into high scho...  \n",
       "26  appaling the level of trolling this woman has ...  \n",
       "27  i find it maddening that a woman can accuse a ...  \n",
       "29  depp is a fantastic actorwhy are you ruining t...  \n",
       "30  amber heard name will be known forever as a di...  \n",
       "31  new evidence has come out showing she hurt joh...  \n",
       "32  listen here amber you better apologize to john...  \n",
       "33  no one cares if you’re live on twitter coz no ...  \n",
       "34                  the new amber heard is stu’s wife  \n",
       "35                               fuck you amber heard  \n",
       "36                hope you got the $50 mill for jonny  \n",
       "37                        boycott amber heard!!!!!!!!  \n",
       "38  it’s really sad that you’ve hijacked the platf...  \n",
       "39  oh amber heardu just wanted attention you lied...  \n",
       "40         you’re a manhater, do you hate jason momoa  \n",
       "41  who would want to follow an evil person who ab...  \n",
       "42  hey you! why cant you keep your story straight...  \n",
       "43         will i have my finger mutilated if i don’t  \n",
       "44  as a domestic violent victim, can see through ...  \n",
       "45  i am always live in instagram, twitter and fac...  \n",
       "46               stupid bitch fuck u and your twitter  \n",
       "47  you should be ashamed of yourself! bad actress...  \n",
       "48  dear amber, i am seriously worried for you; yo...  \n",
       "49  i kept my mouth shut untill now,amber you marr...  \n",
       "50  instead of trying to justify your actions, poo...  \n",
       "51  i swear that you will not do any film or serie...  \n",
       "52  since i know neither you or mr depp personally...  \n",
       "53  the truth always comes out in the end every do...  \n",
       "54  this woman abused her spouse and lied about it...  \n",
       "55  with all that's going on in the world, hate do...  \n",
       "56  if i don’t follow you are you gonna cut my fin...  \n",
       "57  so all these people are bots? we've all looked...  \n",
       "58  you cost johnny depp his role in pirates of th...  \n",
       "59  i signed the petitions to remove you from aqua...  \n",
       "60  honestly, the moment i see your name pop up as...  "
      ]
     },
     "execution_count": 106,
     "metadata": {},
     "output_type": "execute_result"
    }
   ],
   "source": [
    "df_merged_final[df_merged_final.language == 'English'].head(60)"
   ]
  },
  {
   "cell_type": "code",
   "execution_count": 107,
   "id": "79365217",
   "metadata": {},
   "outputs": [
    {
     "data": {
      "text/html": [
       "<div>\n",
       "<style scoped>\n",
       "    .dataframe tbody tr th:only-of-type {\n",
       "        vertical-align: middle;\n",
       "    }\n",
       "\n",
       "    .dataframe tbody tr th {\n",
       "        vertical-align: top;\n",
       "    }\n",
       "\n",
       "    .dataframe thead th {\n",
       "        text-align: right;\n",
       "    }\n",
       "</style>\n",
       "<table border=\"1\" class=\"dataframe\">\n",
       "  <thead>\n",
       "    <tr style=\"text-align: right;\">\n",
       "      <th></th>\n",
       "      <th>username</th>\n",
       "      <th>comment</th>\n",
       "      <th>type</th>\n",
       "      <th>defense_AH</th>\n",
       "      <th>support_AH</th>\n",
       "      <th>offense_AH</th>\n",
       "      <th>defense_against_AH</th>\n",
       "      <th>contains_alpha</th>\n",
       "      <th>clean_text</th>\n",
       "      <th>language</th>\n",
       "      <th>translated</th>\n",
       "    </tr>\n",
       "  </thead>\n",
       "  <tbody>\n",
       "    <tr>\n",
       "      <th>28</th>\n",
       "      <td>Fiorella Guerrero</td>\n",
       "      <td>amber heard hizo añicos dos años de vida de un...</td>\n",
       "      <td>post0_comment</td>\n",
       "      <td>NaN</td>\n",
       "      <td>NaN</td>\n",
       "      <td>NaN</td>\n",
       "      <td>NaN</td>\n",
       "      <td>True</td>\n",
       "      <td>amber heard hizo añicos dos años de vida de un...</td>\n",
       "      <td>Spanish</td>\n",
       "      <td>amber heard shattered two years of the life of...</td>\n",
       "    </tr>\n",
       "    <tr>\n",
       "      <th>120</th>\n",
       "      <td>Mishel Judit Quisocala Condori</td>\n",
       "      <td>aquí desde perú nadie te quiere volver a ver, ...</td>\n",
       "      <td>post0_comment</td>\n",
       "      <td>NaN</td>\n",
       "      <td>NaN</td>\n",
       "      <td>NaN</td>\n",
       "      <td>NaN</td>\n",
       "      <td>True</td>\n",
       "      <td>aquí desde perú nadie te quiere volver a ver, ...</td>\n",
       "      <td>Spanish</td>\n",
       "      <td>here from peru no one wants to see you again, ...</td>\n",
       "    </tr>\n",
       "    <tr>\n",
       "      <th>156</th>\n",
       "      <td>Nayd Tania Blanco Quispe</td>\n",
       "      <td>tarde o temprano llegará la hora de pagar todo...</td>\n",
       "      <td>post0_comment</td>\n",
       "      <td>NaN</td>\n",
       "      <td>NaN</td>\n",
       "      <td>NaN</td>\n",
       "      <td>NaN</td>\n",
       "      <td>True</td>\n",
       "      <td>tarde o temprano llegará la hora de pagar todo...</td>\n",
       "      <td>Spanish</td>\n",
       "      <td>Sooner or later the time will come to pay for ...</td>\n",
       "    </tr>\n",
       "    <tr>\n",
       "      <th>204</th>\n",
       "      <td>Miriam Núñez Hurtado</td>\n",
       "      <td>que triste que puedas vivir con tu consciencia...</td>\n",
       "      <td>post0_comment</td>\n",
       "      <td>NaN</td>\n",
       "      <td>NaN</td>\n",
       "      <td>NaN</td>\n",
       "      <td>NaN</td>\n",
       "      <td>True</td>\n",
       "      <td>que triste que puedas vivir con tu consciencia...</td>\n",
       "      <td>Spanish</td>\n",
       "      <td>How sad that you can live with your conscience...</td>\n",
       "    </tr>\n",
       "    <tr>\n",
       "      <th>206</th>\n",
       "      <td>Ramon Diaz</td>\n",
       "      <td>que impotencia\\r\\neres una mujer con baja cali...</td>\n",
       "      <td>post0_comment</td>\n",
       "      <td>NaN</td>\n",
       "      <td>NaN</td>\n",
       "      <td>NaN</td>\n",
       "      <td>NaN</td>\n",
       "      <td>True</td>\n",
       "      <td>que impotencia eres una mujer con baja calidad...</td>\n",
       "      <td>Spanish</td>\n",
       "      <td>how helpless you are a woman with low human qu...</td>\n",
       "    </tr>\n",
       "    <tr>\n",
       "      <th>208</th>\n",
       "      <td>Luis Oscar Torres Garcia</td>\n",
       "      <td>la señorita heard deberia disculparse publicam...</td>\n",
       "      <td>post0_comment</td>\n",
       "      <td>NaN</td>\n",
       "      <td>NaN</td>\n",
       "      <td>NaN</td>\n",
       "      <td>NaN</td>\n",
       "      <td>True</td>\n",
       "      <td>la señorita heard deberia disculparse publicam...</td>\n",
       "      <td>Spanish</td>\n",
       "      <td>miss heard should publicly apologize and recei...</td>\n",
       "    </tr>\n",
       "    <tr>\n",
       "      <th>240</th>\n",
       "      <td>Yulieth Neita Alvarez</td>\n",
       "      <td>amber heard ojala y no te arrepientas de todo ...</td>\n",
       "      <td>post0_comment</td>\n",
       "      <td>NaN</td>\n",
       "      <td>NaN</td>\n",
       "      <td>NaN</td>\n",
       "      <td>NaN</td>\n",
       "      <td>True</td>\n",
       "      <td>amber heard ojala y no te arrepientas de todo ...</td>\n",
       "      <td>Spanish</td>\n",
       "      <td>amber heard hopefully and you don't regret all...</td>\n",
       "    </tr>\n",
       "    <tr>\n",
       "      <th>245</th>\n",
       "      <td>Gustavo Brrz</td>\n",
       "      <td>vuelve a la escuela de actuación, horrible la ...</td>\n",
       "      <td>post0_comment</td>\n",
       "      <td>NaN</td>\n",
       "      <td>NaN</td>\n",
       "      <td>NaN</td>\n",
       "      <td>NaN</td>\n",
       "      <td>True</td>\n",
       "      <td>vuelve a la escuela de actuación, horrible la ...</td>\n",
       "      <td>Spanish</td>\n",
       "      <td>go back to acting school, horrible aquama movi...</td>\n",
       "    </tr>\n",
       "    <tr>\n",
       "      <th>260</th>\n",
       "      <td>Abrar Qader</td>\n",
       "      <td>nan</td>\n",
       "      <td>post0_comment</td>\n",
       "      <td>NaN</td>\n",
       "      <td>NaN</td>\n",
       "      <td>NaN</td>\n",
       "      <td>NaN</td>\n",
       "      <td>True</td>\n",
       "      <td>nan</td>\n",
       "      <td>Haitian Creole</td>\n",
       "      <td>in</td>\n",
       "    </tr>\n",
       "    <tr>\n",
       "      <th>268</th>\n",
       "      <td>Mayra Montesinos</td>\n",
       "      <td>como te sientes ahora que todo el mundo te da ...</td>\n",
       "      <td>post0_comment</td>\n",
       "      <td>NaN</td>\n",
       "      <td>NaN</td>\n",
       "      <td>NaN</td>\n",
       "      <td>NaN</td>\n",
       "      <td>True</td>\n",
       "      <td>como te sientes ahora que todo el mundo te da ...</td>\n",
       "      <td>Spanish</td>\n",
       "      <td>How do you feel now that everyone turns their ...</td>\n",
       "    </tr>\n",
       "    <tr>\n",
       "      <th>278</th>\n",
       "      <td>Katharina Schäfer</td>\n",
       "      <td>das angebliche beweisfoto ist einfach lächerli...</td>\n",
       "      <td>post0_comment</td>\n",
       "      <td>NaN</td>\n",
       "      <td>NaN</td>\n",
       "      <td>NaN</td>\n",
       "      <td>NaN</td>\n",
       "      <td>True</td>\n",
       "      <td>das angebliche beweisfoto ist einfach lächerli...</td>\n",
       "      <td>German</td>\n",
       "      <td>the alleged proof photo is just ridiculous! an...</td>\n",
       "    </tr>\n",
       "    <tr>\n",
       "      <th>284</th>\n",
       "      <td>Abissai Miguell Seguraia</td>\n",
       "      <td>cuando vi que jhony deep salía en animales fan...</td>\n",
       "      <td>post0_comment</td>\n",
       "      <td>NaN</td>\n",
       "      <td>NaN</td>\n",
       "      <td>NaN</td>\n",
       "      <td>NaN</td>\n",
       "      <td>True</td>\n",
       "      <td>cuando vi que jhony deep salía en animales fan...</td>\n",
       "      <td>Spanish</td>\n",
       "      <td>when I saw that jhony deep appeared in fantast...</td>\n",
       "    </tr>\n",
       "    <tr>\n",
       "      <th>286</th>\n",
       "      <td>Moni Gabri</td>\n",
       "      <td>hamber recuerda que la vida da muchas vueltas,...</td>\n",
       "      <td>post0_comment</td>\n",
       "      <td>NaN</td>\n",
       "      <td>NaN</td>\n",
       "      <td>NaN</td>\n",
       "      <td>NaN</td>\n",
       "      <td>True</td>\n",
       "      <td>hamber recuerda que la vida da muchas vueltas,...</td>\n",
       "      <td>Spanish</td>\n",
       "      <td>hamber remembers that life takes many turns, y...</td>\n",
       "    </tr>\n",
       "    <tr>\n",
       "      <th>303</th>\n",
       "      <td>Gladys Pacchioni</td>\n",
       "      <td>si un poco de dignidad tienes (que lo dudo) pi...</td>\n",
       "      <td>post0_comment</td>\n",
       "      <td>NaN</td>\n",
       "      <td>NaN</td>\n",
       "      <td>NaN</td>\n",
       "      <td>NaN</td>\n",
       "      <td>True</td>\n",
       "      <td>si un poco de dignidad tienes que lo dudo pide...</td>\n",
       "      <td>Spanish</td>\n",
       "      <td>if you have a little dignity I doubt it apolog...</td>\n",
       "    </tr>\n",
       "    <tr>\n",
       "      <th>304</th>\n",
       "      <td>Kryztina Martinez</td>\n",
       "      <td>#justiceforjohnnydepp\\r\\nno a la violencia hac...</td>\n",
       "      <td>post0_comment</td>\n",
       "      <td>NaN</td>\n",
       "      <td>NaN</td>\n",
       "      <td>NaN</td>\n",
       "      <td>NaN</td>\n",
       "      <td>True</td>\n",
       "      <td>#justiceforjohnnydepp no a la violencia hacia ...</td>\n",
       "      <td>Spanish</td>\n",
       "      <td>#justiceforjohnnydepp no ​​to violence towards...</td>\n",
       "    </tr>\n",
       "    <tr>\n",
       "      <th>318</th>\n",
       "      <td>Engel Friedrich</td>\n",
       "      <td>i film che ho visto in cui compari sono presso...</td>\n",
       "      <td>post0_comment</td>\n",
       "      <td>NaN</td>\n",
       "      <td>NaN</td>\n",
       "      <td>NaN</td>\n",
       "      <td>NaN</td>\n",
       "      <td>True</td>\n",
       "      <td>i film che ho visto in cui compari sono presso...</td>\n",
       "      <td>Italian</td>\n",
       "      <td>the films I have seen in which you appear are ...</td>\n",
       "    </tr>\n",
       "    <tr>\n",
       "      <th>319</th>\n",
       "      <td>Lizeth Villarruel</td>\n",
       "      <td>no se como decirlo en ingles pero chinga tu ma...</td>\n",
       "      <td>post0_comment</td>\n",
       "      <td>NaN</td>\n",
       "      <td>NaN</td>\n",
       "      <td>NaN</td>\n",
       "      <td>NaN</td>\n",
       "      <td>True</td>\n",
       "      <td>no se como decirlo en ingles pero chinga tu ma...</td>\n",
       "      <td>Spanish</td>\n",
       "      <td>I don't know how to say it in English but fuck...</td>\n",
       "    </tr>\n",
       "    <tr>\n",
       "      <th>322</th>\n",
       "      <td>Ruth Ballestero Garcia</td>\n",
       "      <td>deberían también despedirla de la película acu...</td>\n",
       "      <td>post0_comment</td>\n",
       "      <td>NaN</td>\n",
       "      <td>NaN</td>\n",
       "      <td>NaN</td>\n",
       "      <td>NaN</td>\n",
       "      <td>True</td>\n",
       "      <td>deberían también despedirla de la película acu...</td>\n",
       "      <td>Spanish</td>\n",
       "      <td>they should also fire her from the movie acuaman</td>\n",
       "    </tr>\n",
       "    <tr>\n",
       "      <th>327</th>\n",
       "      <td>Nicol Alania Sumarán</td>\n",
       "      <td>johnny depp saldrá victorioso ya veras esta ve...</td>\n",
       "      <td>post0_comment</td>\n",
       "      <td>NaN</td>\n",
       "      <td>NaN</td>\n",
       "      <td>NaN</td>\n",
       "      <td>NaN</td>\n",
       "      <td>True</td>\n",
       "      <td>johnny depp saldrá victorioso ya veras esta ve...</td>\n",
       "      <td>Spanish</td>\n",
       "      <td>johnny depp will be victorious you will see th...</td>\n",
       "    </tr>\n",
       "    <tr>\n",
       "      <th>328</th>\n",
       "      <td>Jany CN</td>\n",
       "      <td>yo no soy fan de johnny depp pero, no estoy de...</td>\n",
       "      <td>post0_comment</td>\n",
       "      <td>NaN</td>\n",
       "      <td>NaN</td>\n",
       "      <td>NaN</td>\n",
       "      <td>NaN</td>\n",
       "      <td>True</td>\n",
       "      <td>yo no soy fan de johnny depp pero, no estoy de...</td>\n",
       "      <td>Spanish</td>\n",
       "      <td>I am not a fan of johnny depp but, I do not ag...</td>\n",
       "    </tr>\n",
       "    <tr>\n",
       "      <th>332</th>\n",
       "      <td>Luz Sanchez</td>\n",
       "      <td>miro tantos comentarios negativos y ningún con...</td>\n",
       "      <td>post0_comment</td>\n",
       "      <td>NaN</td>\n",
       "      <td>NaN</td>\n",
       "      <td>NaN</td>\n",
       "      <td>NaN</td>\n",
       "      <td>True</td>\n",
       "      <td>miro tantos comentarios negativos y ningún con...</td>\n",
       "      <td>Spanish</td>\n",
       "      <td>I see so many negative comments and no advice ...</td>\n",
       "    </tr>\n",
       "    <tr>\n",
       "      <th>342</th>\n",
       "      <td>Işmaęł Břiţo</td>\n",
       "      <td>alguien aqui que hable español y que porfavor ...</td>\n",
       "      <td>post0_comment</td>\n",
       "      <td>NaN</td>\n",
       "      <td>NaN</td>\n",
       "      <td>NaN</td>\n",
       "      <td>NaN</td>\n",
       "      <td>True</td>\n",
       "      <td>alguien aqui que hable español y que porfavor ...</td>\n",
       "      <td>Spanish</td>\n",
       "      <td>someone here who speaks spanish and please exp...</td>\n",
       "    </tr>\n",
       "    <tr>\n",
       "      <th>344</th>\n",
       "      <td>Kc Anderson</td>\n",
       "      <td>es en serio q hay gente tan estupida para segu...</td>\n",
       "      <td>post0_comment</td>\n",
       "      <td>NaN</td>\n",
       "      <td>NaN</td>\n",
       "      <td>NaN</td>\n",
       "      <td>NaN</td>\n",
       "      <td>True</td>\n",
       "      <td>es en serio q hay gente tan estupida para segu...</td>\n",
       "      <td>Spanish</td>\n",
       "      <td>it's serious that there are people so stupid t...</td>\n",
       "    </tr>\n",
       "    <tr>\n",
       "      <th>346</th>\n",
       "      <td>Madeleinne Palacios</td>\n",
       "      <td>aunque no te gusta y no quieras johnny depp va...</td>\n",
       "      <td>post0_comment</td>\n",
       "      <td>NaN</td>\n",
       "      <td>NaN</td>\n",
       "      <td>NaN</td>\n",
       "      <td>NaN</td>\n",
       "      <td>True</td>\n",
       "      <td>aunque no te gusta y no quieras johnny depp va...</td>\n",
       "      <td>Spanish</td>\n",
       "      <td>even if you don't like it and don't want to jo...</td>\n",
       "    </tr>\n",
       "    <tr>\n",
       "      <th>355</th>\n",
       "      <td>Eliza Snchz Fnsca</td>\n",
       "      <td>wen soad camargo mira aquí está la desgraciada...</td>\n",
       "      <td>post0_comment</td>\n",
       "      <td>NaN</td>\n",
       "      <td>NaN</td>\n",
       "      <td>NaN</td>\n",
       "      <td>NaN</td>\n",
       "      <td>True</td>\n",
       "      <td>wen soad camargo mira aquí está la desgraciada...</td>\n",
       "      <td>Spanish</td>\n",
       "      <td>wen soad camargo look here is the wretch has n...</td>\n",
       "    </tr>\n",
       "    <tr>\n",
       "      <th>356</th>\n",
       "      <td>Maria Jaime Perez</td>\n",
       "      <td>no hay palabras que mejor te describan que dob...</td>\n",
       "      <td>post0_comment</td>\n",
       "      <td>NaN</td>\n",
       "      <td>NaN</td>\n",
       "      <td>NaN</td>\n",
       "      <td>NaN</td>\n",
       "      <td>True</td>\n",
       "      <td>no hay palabras que mejor te describan que dob...</td>\n",
       "      <td>Spanish</td>\n",
       "      <td>there are no words that best describe you that...</td>\n",
       "    </tr>\n",
       "    <tr>\n",
       "      <th>359</th>\n",
       "      <td>Martinez Nana</td>\n",
       "      <td>a mí nadie me ha pagado para firmar por su des...</td>\n",
       "      <td>post0_comment</td>\n",
       "      <td>NaN</td>\n",
       "      <td>NaN</td>\n",
       "      <td>NaN</td>\n",
       "      <td>NaN</td>\n",
       "      <td>True</td>\n",
       "      <td>a mí nadie me ha pagado para firmar por su des...</td>\n",
       "      <td>Spanish</td>\n",
       "      <td>nobody has paid me to sign for their dismissal...</td>\n",
       "    </tr>\n",
       "    <tr>\n",
       "      <th>360</th>\n",
       "      <td>Huzaifah Ch</td>\n",
       "      <td>randi ki bachi case wapis le nai to maa chod d...</td>\n",
       "      <td>post0_comment</td>\n",
       "      <td>NaN</td>\n",
       "      <td>NaN</td>\n",
       "      <td>NaN</td>\n",
       "      <td>NaN</td>\n",
       "      <td>True</td>\n",
       "      <td>randi ki bachi case wapis le nai to maa chod d...</td>\n",
       "      <td>Galician</td>\n",
       "      <td>randi ki bachi case wapis le nai to maa chod d...</td>\n",
       "    </tr>\n",
       "    <tr>\n",
       "      <th>375</th>\n",
       "      <td>Denny Ortiz</td>\n",
       "      <td>que vergüenza que seas una mujer agresiva y go...</td>\n",
       "      <td>post0_comment</td>\n",
       "      <td>NaN</td>\n",
       "      <td>NaN</td>\n",
       "      <td>NaN</td>\n",
       "      <td>NaN</td>\n",
       "      <td>True</td>\n",
       "      <td>que vergüenza que seas una mujer agresiva y go...</td>\n",
       "      <td>Spanish</td>\n",
       "      <td>What a shame that you are an aggressive and go...</td>\n",
       "    </tr>\n",
       "    <tr>\n",
       "      <th>380</th>\n",
       "      <td>Abby's Burgers</td>\n",
       "      <td>tu y la panini deben de irse agarraditas dela ...</td>\n",
       "      <td>post0_comment</td>\n",
       "      <td>NaN</td>\n",
       "      <td>NaN</td>\n",
       "      <td>NaN</td>\n",
       "      <td>NaN</td>\n",
       "      <td>True</td>\n",
       "      <td>tu y la panini deben de irse agarraditas dela ...</td>\n",
       "      <td>Spanish</td>\n",
       "      <td>you and the panini must go hand in hand to hel...</td>\n",
       "    </tr>\n",
       "    <tr>\n",
       "      <th>381</th>\n",
       "      <td>Ar An Melgar</td>\n",
       "      <td>nadie mire sus películas, nadie mire aquaman</td>\n",
       "      <td>post0_comment</td>\n",
       "      <td>NaN</td>\n",
       "      <td>NaN</td>\n",
       "      <td>NaN</td>\n",
       "      <td>NaN</td>\n",
       "      <td>True</td>\n",
       "      <td>nadie mire sus películas, nadie mire aquaman</td>\n",
       "      <td>Spanish</td>\n",
       "      <td>nobody watch his movies, nobody watch aquaman</td>\n",
       "    </tr>\n",
       "    <tr>\n",
       "      <th>390</th>\n",
       "      <td>Anderson Ferreras</td>\n",
       "      <td>desde cuando la contaminación y basura hacen d...</td>\n",
       "      <td>post0_comment</td>\n",
       "      <td>NaN</td>\n",
       "      <td>NaN</td>\n",
       "      <td>NaN</td>\n",
       "      <td>NaN</td>\n",
       "      <td>True</td>\n",
       "      <td>desde cuando la contaminación y basura hacen d...</td>\n",
       "      <td>Spanish</td>\n",
       "      <td>since when pollution and garbage do direct?</td>\n",
       "    </tr>\n",
       "    <tr>\n",
       "      <th>410</th>\n",
       "      <td>Indira De La Primelles</td>\n",
       "      <td>por favor alguien que hable español me puede d...</td>\n",
       "      <td>post0_comment</td>\n",
       "      <td>NaN</td>\n",
       "      <td>NaN</td>\n",
       "      <td>NaN</td>\n",
       "      <td>NaN</td>\n",
       "      <td>True</td>\n",
       "      <td>por favor alguien que hable español me puede d...</td>\n",
       "      <td>Spanish</td>\n",
       "      <td>Please can someone who speaks Spanish tell me ...</td>\n",
       "    </tr>\n",
       "    <tr>\n",
       "      <th>419</th>\n",
       "      <td>Gerta Koroveshi</td>\n",
       "      <td>sei una lurida bastarda!!!!!</td>\n",
       "      <td>post0_comment</td>\n",
       "      <td>NaN</td>\n",
       "      <td>NaN</td>\n",
       "      <td>NaN</td>\n",
       "      <td>NaN</td>\n",
       "      <td>True</td>\n",
       "      <td>sei una lurida bastarda!!!!!</td>\n",
       "      <td>Norwegian Nynorsk</td>\n",
       "      <td>you are a filthy bastard !!!!!</td>\n",
       "    </tr>\n",
       "    <tr>\n",
       "      <th>438</th>\n",
       "      <td>Edu Morozco</td>\n",
       "      <td>que josh peck ni que nada ahora tu serás la du...</td>\n",
       "      <td>post0_comment</td>\n",
       "      <td>NaN</td>\n",
       "      <td>NaN</td>\n",
       "      <td>NaN</td>\n",
       "      <td>NaN</td>\n",
       "      <td>True</td>\n",
       "      <td>que josh peck ni que nada ahora tu serás la du...</td>\n",
       "      <td>Spanish</td>\n",
       "      <td>that josh peck or anything now you will be the...</td>\n",
       "    </tr>\n",
       "    <tr>\n",
       "      <th>471</th>\n",
       "      <td>Steff Limonade</td>\n",
       "      <td>je pense que quand le filme sortira il y en n ...</td>\n",
       "      <td>post0_comment</td>\n",
       "      <td>NaN</td>\n",
       "      <td>NaN</td>\n",
       "      <td>NaN</td>\n",
       "      <td>NaN</td>\n",
       "      <td>True</td>\n",
       "      <td>je pense que quand le filme sortira il y en n ...</td>\n",
       "      <td>French</td>\n",
       "      <td>I think that when the film comes out there are...</td>\n",
       "    </tr>\n",
       "    <tr>\n",
       "      <th>474</th>\n",
       "      <td>Karen Vanessa</td>\n",
       "      <td>solo llegué aqui a decir que las verdades son ...</td>\n",
       "      <td>post0_comment</td>\n",
       "      <td>NaN</td>\n",
       "      <td>NaN</td>\n",
       "      <td>NaN</td>\n",
       "      <td>NaN</td>\n",
       "      <td>True</td>\n",
       "      <td>solo llegué aqui a decir que las verdades son ...</td>\n",
       "      <td>Spanish</td>\n",
       "      <td>I only got here to say that the truths are str...</td>\n",
       "    </tr>\n",
       "    <tr>\n",
       "      <th>484</th>\n",
       "      <td>K̶e̶v̶i̶n̶ Tomas Martinez Barra</td>\n",
       "      <td>tú eres la razón por la cual un hombre puede a...</td>\n",
       "      <td>post0_comment</td>\n",
       "      <td>NaN</td>\n",
       "      <td>NaN</td>\n",
       "      <td>NaN</td>\n",
       "      <td>NaN</td>\n",
       "      <td>True</td>\n",
       "      <td>tú eres la razón por la cual un hombre puede a...</td>\n",
       "      <td>Spanish</td>\n",
       "      <td>you are the reason a man can help kill a woman...</td>\n",
       "    </tr>\n",
       "    <tr>\n",
       "      <th>496</th>\n",
       "      <td>Thiago Rhaegar</td>\n",
       "      <td>mais mentiras será contadas lá? rsrs</td>\n",
       "      <td>post0_comment</td>\n",
       "      <td>NaN</td>\n",
       "      <td>NaN</td>\n",
       "      <td>NaN</td>\n",
       "      <td>NaN</td>\n",
       "      <td>True</td>\n",
       "      <td>mais mentiras será contadas lá? rsrs</td>\n",
       "      <td>Portuguese</td>\n",
       "      <td>Will more lies be told there? haha</td>\n",
       "    </tr>\n",
       "    <tr>\n",
       "      <th>504</th>\n",
       "      <td>Martin Camargo Largo</td>\n",
       "      <td>qur mal gusto tiene aquaman o sera la actriz q...</td>\n",
       "      <td>post0_comment</td>\n",
       "      <td>NaN</td>\n",
       "      <td>NaN</td>\n",
       "      <td>NaN</td>\n",
       "      <td>NaN</td>\n",
       "      <td>True</td>\n",
       "      <td>qur mal gusto tiene aquaman o sera la actriz q...</td>\n",
       "      <td>Spanish</td>\n",
       "      <td>What bad taste does Aquaman have or would it b...</td>\n",
       "    </tr>\n",
       "    <tr>\n",
       "      <th>511</th>\n",
       "      <td>Alexa Paredes Rodríguez</td>\n",
       "      <td>from bolivia:\\r\\n#justiceforjhonnydepp</td>\n",
       "      <td>post0_comment</td>\n",
       "      <td>NaN</td>\n",
       "      <td>NaN</td>\n",
       "      <td>NaN</td>\n",
       "      <td>NaN</td>\n",
       "      <td>True</td>\n",
       "      <td>from bolivia: #justiceforjhonnydepp</td>\n",
       "      <td>Norwegian</td>\n",
       "      <td>from bolivia: #justiceforjhonnydepp</td>\n",
       "    </tr>\n",
       "    <tr>\n",
       "      <th>513</th>\n",
       "      <td>Ashley Felizar</td>\n",
       "      <td>punta lang ako twitter, hanapin ko pake ko.</td>\n",
       "      <td>post0_comment</td>\n",
       "      <td>NaN</td>\n",
       "      <td>NaN</td>\n",
       "      <td>NaN</td>\n",
       "      <td>NaN</td>\n",
       "      <td>True</td>\n",
       "      <td>punta lang ako twitter, hanapin ko pake ko</td>\n",
       "      <td>Tagalog</td>\n",
       "      <td>I just go to twitter, I'll find my pake</td>\n",
       "    </tr>\n",
       "    <tr>\n",
       "      <th>531</th>\n",
       "      <td>Lupita Solis</td>\n",
       "      <td>vas a pagar tarde o temprano el daño que estás...</td>\n",
       "      <td>post0_comment</td>\n",
       "      <td>NaN</td>\n",
       "      <td>NaN</td>\n",
       "      <td>NaN</td>\n",
       "      <td>NaN</td>\n",
       "      <td>True</td>\n",
       "      <td>vas a pagar tarde o temprano el daño que estás...</td>\n",
       "      <td>Spanish</td>\n",
       "      <td>sooner or later you are going to pay for the d...</td>\n",
       "    </tr>\n",
       "    <tr>\n",
       "      <th>533</th>\n",
       "      <td>García Sandra</td>\n",
       "      <td>no podría ver una película de ella sin imagina...</td>\n",
       "      <td>post0_comment</td>\n",
       "      <td>NaN</td>\n",
       "      <td>NaN</td>\n",
       "      <td>NaN</td>\n",
       "      <td>NaN</td>\n",
       "      <td>True</td>\n",
       "      <td>no podría ver una película de ella sin imagina...</td>\n",
       "      <td>Spanish</td>\n",
       "      <td>I couldn't see a movie of her without imaginin...</td>\n",
       "    </tr>\n",
       "    <tr>\n",
       "      <th>544</th>\n",
       "      <td>Citlaa Ga</td>\n",
       "      <td>violencia es violencia. sea el género que sea....</td>\n",
       "      <td>post0_comment</td>\n",
       "      <td>NaN</td>\n",
       "      <td>NaN</td>\n",
       "      <td>NaN</td>\n",
       "      <td>NaN</td>\n",
       "      <td>True</td>\n",
       "      <td>violencia es violencia sea el género que sea y...</td>\n",
       "      <td>Spanish</td>\n",
       "      <td>violence is violence regardless of gender and ...</td>\n",
       "    </tr>\n",
       "    <tr>\n",
       "      <th>549</th>\n",
       "      <td>Sonya García</td>\n",
       "      <td>espero que fracases, que el mundo te de la esp...</td>\n",
       "      <td>post0_comment</td>\n",
       "      <td>NaN</td>\n",
       "      <td>NaN</td>\n",
       "      <td>NaN</td>\n",
       "      <td>NaN</td>\n",
       "      <td>True</td>\n",
       "      <td>espero que fracases, que el mundo te de la esp...</td>\n",
       "      <td>Spanish</td>\n",
       "      <td>I hope you fail, that the world turns its back...</td>\n",
       "    </tr>\n",
       "    <tr>\n",
       "      <th>559</th>\n",
       "      <td>Diita Solecito</td>\n",
       "      <td>espero se te devuelva todo el daño que estas h...</td>\n",
       "      <td>post0_comment</td>\n",
       "      <td>NaN</td>\n",
       "      <td>NaN</td>\n",
       "      <td>NaN</td>\n",
       "      <td>NaN</td>\n",
       "      <td>True</td>\n",
       "      <td>espero se te devuelva todo el daño que estas h...</td>\n",
       "      <td>Spanish</td>\n",
       "      <td>I hope all the damage you are doing to an inno...</td>\n",
       "    </tr>\n",
       "    <tr>\n",
       "      <th>560</th>\n",
       "      <td>Danétt Morales</td>\n",
       "      <td>nadie te apoya, todos estamos a tu contra y ap...</td>\n",
       "      <td>post0_comment</td>\n",
       "      <td>NaN</td>\n",
       "      <td>NaN</td>\n",
       "      <td>NaN</td>\n",
       "      <td>NaN</td>\n",
       "      <td>True</td>\n",
       "      <td>nadie te apoya, todos estamos a tu contra y ap...</td>\n",
       "      <td>Spanish</td>\n",
       "      <td>nobody supports you, we are all against you an...</td>\n",
       "    </tr>\n",
       "    <tr>\n",
       "      <th>568</th>\n",
       "      <td>Ronald Mercado</td>\n",
       "      <td>esacto, cagadora de camas, todo es tu culpa, n...</td>\n",
       "      <td>post0_comment</td>\n",
       "      <td>NaN</td>\n",
       "      <td>NaN</td>\n",
       "      <td>NaN</td>\n",
       "      <td>NaN</td>\n",
       "      <td>True</td>\n",
       "      <td>esacto, cagadora de camas, todo es tu culpa, n...</td>\n",
       "      <td>Spanish</td>\n",
       "      <td>that's right, bed shitter, it's all your fault...</td>\n",
       "    </tr>\n",
       "    <tr>\n",
       "      <th>570</th>\n",
       "      <td>Sandy Castrejon</td>\n",
       "      <td>yo se que no me van a entender pero me vale ma...</td>\n",
       "      <td>post0_comment</td>\n",
       "      <td>NaN</td>\n",
       "      <td>NaN</td>\n",
       "      <td>NaN</td>\n",
       "      <td>NaN</td>\n",
       "      <td>True</td>\n",
       "      <td>yo se que no me van a entender pero me vale ma...</td>\n",
       "      <td>Spanish</td>\n",
       "      <td>I know you're not going to understand me, but ...</td>\n",
       "    </tr>\n",
       "    <tr>\n",
       "      <th>571</th>\n",
       "      <td>Luis David Rojas Azuaje</td>\n",
       "      <td>apoyo a jhonny depp, no es posible que tengas ...</td>\n",
       "      <td>post0_comment</td>\n",
       "      <td>NaN</td>\n",
       "      <td>NaN</td>\n",
       "      <td>NaN</td>\n",
       "      <td>NaN</td>\n",
       "      <td>True</td>\n",
       "      <td>apoyo a jhonny depp, no es posible que tengas ...</td>\n",
       "      <td>Spanish</td>\n",
       "      <td>I support jhonny depp, it is not possible that...</td>\n",
       "    </tr>\n",
       "    <tr>\n",
       "      <th>572</th>\n",
       "      <td>Azu Fernandez</td>\n",
       "      <td>dejar de seguirla, así acabará su carrera, qui...</td>\n",
       "      <td>post0_comment</td>\n",
       "      <td>NaN</td>\n",
       "      <td>NaN</td>\n",
       "      <td>NaN</td>\n",
       "      <td>NaN</td>\n",
       "      <td>True</td>\n",
       "      <td>dejar de seguirla, así acabará su carrera, qui...</td>\n",
       "      <td>Spanish</td>\n",
       "      <td>stop following her, that's how her career will...</td>\n",
       "    </tr>\n",
       "    <tr>\n",
       "      <th>581</th>\n",
       "      <td>Sandra Luna</td>\n",
       "      <td>disculpe soy boliviana y apoyo a johnny depp, ...</td>\n",
       "      <td>post0_comment</td>\n",
       "      <td>NaN</td>\n",
       "      <td>NaN</td>\n",
       "      <td>NaN</td>\n",
       "      <td>NaN</td>\n",
       "      <td>True</td>\n",
       "      <td>disculpe soy boliviana y apoyo a johnny depp, ...</td>\n",
       "      <td>Spanish</td>\n",
       "      <td>Excuse me, I am Bolivian and I support Johnny ...</td>\n",
       "    </tr>\n",
       "    <tr>\n",
       "      <th>584</th>\n",
       "      <td>Victoria CU</td>\n",
       "      <td>fuera amber!\\r\\n#justiceforjohnnydeep</td>\n",
       "      <td>post0_comment</td>\n",
       "      <td>NaN</td>\n",
       "      <td>NaN</td>\n",
       "      <td>NaN</td>\n",
       "      <td>NaN</td>\n",
       "      <td>True</td>\n",
       "      <td>fuera amber! #justiceforjohnnydeep</td>\n",
       "      <td>Spanish</td>\n",
       "      <td>out amber! #justiceforjohnnydeep</td>\n",
       "    </tr>\n",
       "    <tr>\n",
       "      <th>589</th>\n",
       "      <td>Mar Cristel</td>\n",
       "      <td>espero que los seguidores que tiene en sus cue...</td>\n",
       "      <td>post0_comment</td>\n",
       "      <td>NaN</td>\n",
       "      <td>NaN</td>\n",
       "      <td>NaN</td>\n",
       "      <td>NaN</td>\n",
       "      <td>True</td>\n",
       "      <td>espero que los seguidores que tiene en sus cue...</td>\n",
       "      <td>Spanish</td>\n",
       "      <td>I hope that the followers that she has in her ...</td>\n",
       "    </tr>\n",
       "    <tr>\n",
       "      <th>599</th>\n",
       "      <td>Karinita Davila</td>\n",
       "      <td>tu crees que existirías si johnny no te hubies...</td>\n",
       "      <td>post0_comment</td>\n",
       "      <td>NaN</td>\n",
       "      <td>NaN</td>\n",
       "      <td>NaN</td>\n",
       "      <td>NaN</td>\n",
       "      <td>True</td>\n",
       "      <td>tu crees que existirías si johnny no te hubies...</td>\n",
       "      <td>Spanish</td>\n",
       "      <td>do you think you would exist if johnny had not...</td>\n",
       "    </tr>\n",
       "    <tr>\n",
       "      <th>603</th>\n",
       "      <td>May Vil</td>\n",
       "      <td>#deppcember\\r\\njusticia para johnny depp</td>\n",
       "      <td>post0_comment</td>\n",
       "      <td>NaN</td>\n",
       "      <td>NaN</td>\n",
       "      <td>NaN</td>\n",
       "      <td>NaN</td>\n",
       "      <td>True</td>\n",
       "      <td>#deppcember justicia para johnny depp</td>\n",
       "      <td>Indonesian</td>\n",
       "      <td>#deppcember justice for johnny depp</td>\n",
       "    </tr>\n",
       "    <tr>\n",
       "      <th>607</th>\n",
       "      <td>Lesly Ortiz Cuadros</td>\n",
       "      <td>la repudio tanto como a merino!!! simple ... n...</td>\n",
       "      <td>post0_comment</td>\n",
       "      <td>NaN</td>\n",
       "      <td>NaN</td>\n",
       "      <td>NaN</td>\n",
       "      <td>NaN</td>\n",
       "      <td>True</td>\n",
       "      <td>la repudio tanto como a merino!!! simple no se...</td>\n",
       "      <td>Spanish</td>\n",
       "      <td>I repudiate her as much as merino!!! You simpl...</td>\n",
       "    </tr>\n",
       "    <tr>\n",
       "      <th>610</th>\n",
       "      <td>Emma Jgh</td>\n",
       "      <td>deberían cancelar todos tus contratos al igual...</td>\n",
       "      <td>post0_comment</td>\n",
       "      <td>NaN</td>\n",
       "      <td>NaN</td>\n",
       "      <td>NaN</td>\n",
       "      <td>NaN</td>\n",
       "      <td>True</td>\n",
       "      <td>deberían cancelar todos tus contratos al igual...</td>\n",
       "      <td>Spanish</td>\n",
       "      <td>they should cancel all your contracts just lik...</td>\n",
       "    </tr>\n",
       "    <tr>\n",
       "      <th>612</th>\n",
       "      <td>Sonia Ascencio</td>\n",
       "      <td>nadie ha pagado una campaña contra ti amber, s...</td>\n",
       "      <td>post0_comment</td>\n",
       "      <td>NaN</td>\n",
       "      <td>NaN</td>\n",
       "      <td>NaN</td>\n",
       "      <td>NaN</td>\n",
       "      <td>True</td>\n",
       "      <td>nadie ha pagado una campaña contra ti amber, s...</td>\n",
       "      <td>Spanish</td>\n",
       "      <td>no one has paid for a campaign against you amb...</td>\n",
       "    </tr>\n",
       "  </tbody>\n",
       "</table>\n",
       "</div>"
      ],
      "text/plain": [
       "                            username  \\\n",
       "28                 Fiorella Guerrero   \n",
       "120   Mishel Judit Quisocala Condori   \n",
       "156         Nayd Tania Blanco Quispe   \n",
       "204             Miriam Núñez Hurtado   \n",
       "206                       Ramon Diaz   \n",
       "208         Luis Oscar Torres Garcia   \n",
       "240            Yulieth Neita Alvarez   \n",
       "245                     Gustavo Brrz   \n",
       "260                      Abrar Qader   \n",
       "268                 Mayra Montesinos   \n",
       "278                Katharina Schäfer   \n",
       "284         Abissai Miguell Seguraia   \n",
       "286                       Moni Gabri   \n",
       "303                 Gladys Pacchioni   \n",
       "304                Kryztina Martinez   \n",
       "318                  Engel Friedrich   \n",
       "319                Lizeth Villarruel   \n",
       "322           Ruth Ballestero Garcia   \n",
       "327             Nicol Alania Sumarán   \n",
       "328                          Jany CN   \n",
       "332                      Luz Sanchez   \n",
       "342                     Işmaęł Břiţo   \n",
       "344                      Kc Anderson   \n",
       "346              Madeleinne Palacios   \n",
       "355                Eliza Snchz Fnsca   \n",
       "356                Maria Jaime Perez   \n",
       "359                    Martinez Nana   \n",
       "360                      Huzaifah Ch   \n",
       "375                      Denny Ortiz   \n",
       "380                   Abby's Burgers   \n",
       "381                     Ar An Melgar   \n",
       "390                Anderson Ferreras   \n",
       "410           Indira De La Primelles   \n",
       "419                  Gerta Koroveshi   \n",
       "438                      Edu Morozco   \n",
       "471                   Steff Limonade   \n",
       "474                    Karen Vanessa   \n",
       "484  K̶e̶v̶i̶n̶ Tomas Martinez Barra   \n",
       "496                   Thiago Rhaegar   \n",
       "504             Martin Camargo Largo   \n",
       "511          Alexa Paredes Rodríguez   \n",
       "513                   Ashley Felizar   \n",
       "531                     Lupita Solis   \n",
       "533                    García Sandra   \n",
       "544                        Citlaa Ga   \n",
       "549                     Sonya García   \n",
       "559                   Diita Solecito   \n",
       "560                   Danétt Morales   \n",
       "568                   Ronald Mercado   \n",
       "570                  Sandy Castrejon   \n",
       "571          Luis David Rojas Azuaje   \n",
       "572                    Azu Fernandez   \n",
       "581                      Sandra Luna   \n",
       "584                      Victoria CU   \n",
       "589                      Mar Cristel   \n",
       "599                  Karinita Davila   \n",
       "603                          May Vil   \n",
       "607              Lesly Ortiz Cuadros   \n",
       "610                         Emma Jgh   \n",
       "612                   Sonia Ascencio   \n",
       "\n",
       "                                               comment           type  \\\n",
       "28   amber heard hizo añicos dos años de vida de un...  post0_comment   \n",
       "120  aquí desde perú nadie te quiere volver a ver, ...  post0_comment   \n",
       "156  tarde o temprano llegará la hora de pagar todo...  post0_comment   \n",
       "204  que triste que puedas vivir con tu consciencia...  post0_comment   \n",
       "206  que impotencia\\r\\neres una mujer con baja cali...  post0_comment   \n",
       "208  la señorita heard deberia disculparse publicam...  post0_comment   \n",
       "240  amber heard ojala y no te arrepientas de todo ...  post0_comment   \n",
       "245  vuelve a la escuela de actuación, horrible la ...  post0_comment   \n",
       "260                                                nan  post0_comment   \n",
       "268  como te sientes ahora que todo el mundo te da ...  post0_comment   \n",
       "278  das angebliche beweisfoto ist einfach lächerli...  post0_comment   \n",
       "284  cuando vi que jhony deep salía en animales fan...  post0_comment   \n",
       "286  hamber recuerda que la vida da muchas vueltas,...  post0_comment   \n",
       "303  si un poco de dignidad tienes (que lo dudo) pi...  post0_comment   \n",
       "304  #justiceforjohnnydepp\\r\\nno a la violencia hac...  post0_comment   \n",
       "318  i film che ho visto in cui compari sono presso...  post0_comment   \n",
       "319  no se como decirlo en ingles pero chinga tu ma...  post0_comment   \n",
       "322  deberían también despedirla de la película acu...  post0_comment   \n",
       "327  johnny depp saldrá victorioso ya veras esta ve...  post0_comment   \n",
       "328  yo no soy fan de johnny depp pero, no estoy de...  post0_comment   \n",
       "332  miro tantos comentarios negativos y ningún con...  post0_comment   \n",
       "342  alguien aqui que hable español y que porfavor ...  post0_comment   \n",
       "344  es en serio q hay gente tan estupida para segu...  post0_comment   \n",
       "346  aunque no te gusta y no quieras johnny depp va...  post0_comment   \n",
       "355  wen soad camargo mira aquí está la desgraciada...  post0_comment   \n",
       "356  no hay palabras que mejor te describan que dob...  post0_comment   \n",
       "359  a mí nadie me ha pagado para firmar por su des...  post0_comment   \n",
       "360  randi ki bachi case wapis le nai to maa chod d...  post0_comment   \n",
       "375  que vergüenza que seas una mujer agresiva y go...  post0_comment   \n",
       "380  tu y la panini deben de irse agarraditas dela ...  post0_comment   \n",
       "381       nadie mire sus películas, nadie mire aquaman  post0_comment   \n",
       "390  desde cuando la contaminación y basura hacen d...  post0_comment   \n",
       "410  por favor alguien que hable español me puede d...  post0_comment   \n",
       "419                       sei una lurida bastarda!!!!!  post0_comment   \n",
       "438  que josh peck ni que nada ahora tu serás la du...  post0_comment   \n",
       "471  je pense que quand le filme sortira il y en n ...  post0_comment   \n",
       "474  solo llegué aqui a decir que las verdades son ...  post0_comment   \n",
       "484  tú eres la razón por la cual un hombre puede a...  post0_comment   \n",
       "496               mais mentiras será contadas lá? rsrs  post0_comment   \n",
       "504  qur mal gusto tiene aquaman o sera la actriz q...  post0_comment   \n",
       "511             from bolivia:\\r\\n#justiceforjhonnydepp  post0_comment   \n",
       "513        punta lang ako twitter, hanapin ko pake ko.  post0_comment   \n",
       "531  vas a pagar tarde o temprano el daño que estás...  post0_comment   \n",
       "533  no podría ver una película de ella sin imagina...  post0_comment   \n",
       "544  violencia es violencia. sea el género que sea....  post0_comment   \n",
       "549  espero que fracases, que el mundo te de la esp...  post0_comment   \n",
       "559  espero se te devuelva todo el daño que estas h...  post0_comment   \n",
       "560  nadie te apoya, todos estamos a tu contra y ap...  post0_comment   \n",
       "568  esacto, cagadora de camas, todo es tu culpa, n...  post0_comment   \n",
       "570  yo se que no me van a entender pero me vale ma...  post0_comment   \n",
       "571  apoyo a jhonny depp, no es posible que tengas ...  post0_comment   \n",
       "572  dejar de seguirla, así acabará su carrera, qui...  post0_comment   \n",
       "581  disculpe soy boliviana y apoyo a johnny depp, ...  post0_comment   \n",
       "584              fuera amber!\\r\\n#justiceforjohnnydeep  post0_comment   \n",
       "589  espero que los seguidores que tiene en sus cue...  post0_comment   \n",
       "599  tu crees que existirías si johnny no te hubies...  post0_comment   \n",
       "603           #deppcember\\r\\njusticia para johnny depp  post0_comment   \n",
       "607  la repudio tanto como a merino!!! simple ... n...  post0_comment   \n",
       "610  deberían cancelar todos tus contratos al igual...  post0_comment   \n",
       "612  nadie ha pagado una campaña contra ti amber, s...  post0_comment   \n",
       "\n",
       "    defense_AH support_AH offense_AH defense_against_AH  contains_alpha  \\\n",
       "28         NaN        NaN        NaN                NaN            True   \n",
       "120        NaN        NaN        NaN                NaN            True   \n",
       "156        NaN        NaN        NaN                NaN            True   \n",
       "204        NaN        NaN        NaN                NaN            True   \n",
       "206        NaN        NaN        NaN                NaN            True   \n",
       "208        NaN        NaN        NaN                NaN            True   \n",
       "240        NaN        NaN        NaN                NaN            True   \n",
       "245        NaN        NaN        NaN                NaN            True   \n",
       "260        NaN        NaN        NaN                NaN            True   \n",
       "268        NaN        NaN        NaN                NaN            True   \n",
       "278        NaN        NaN        NaN                NaN            True   \n",
       "284        NaN        NaN        NaN                NaN            True   \n",
       "286        NaN        NaN        NaN                NaN            True   \n",
       "303        NaN        NaN        NaN                NaN            True   \n",
       "304        NaN        NaN        NaN                NaN            True   \n",
       "318        NaN        NaN        NaN                NaN            True   \n",
       "319        NaN        NaN        NaN                NaN            True   \n",
       "322        NaN        NaN        NaN                NaN            True   \n",
       "327        NaN        NaN        NaN                NaN            True   \n",
       "328        NaN        NaN        NaN                NaN            True   \n",
       "332        NaN        NaN        NaN                NaN            True   \n",
       "342        NaN        NaN        NaN                NaN            True   \n",
       "344        NaN        NaN        NaN                NaN            True   \n",
       "346        NaN        NaN        NaN                NaN            True   \n",
       "355        NaN        NaN        NaN                NaN            True   \n",
       "356        NaN        NaN        NaN                NaN            True   \n",
       "359        NaN        NaN        NaN                NaN            True   \n",
       "360        NaN        NaN        NaN                NaN            True   \n",
       "375        NaN        NaN        NaN                NaN            True   \n",
       "380        NaN        NaN        NaN                NaN            True   \n",
       "381        NaN        NaN        NaN                NaN            True   \n",
       "390        NaN        NaN        NaN                NaN            True   \n",
       "410        NaN        NaN        NaN                NaN            True   \n",
       "419        NaN        NaN        NaN                NaN            True   \n",
       "438        NaN        NaN        NaN                NaN            True   \n",
       "471        NaN        NaN        NaN                NaN            True   \n",
       "474        NaN        NaN        NaN                NaN            True   \n",
       "484        NaN        NaN        NaN                NaN            True   \n",
       "496        NaN        NaN        NaN                NaN            True   \n",
       "504        NaN        NaN        NaN                NaN            True   \n",
       "511        NaN        NaN        NaN                NaN            True   \n",
       "513        NaN        NaN        NaN                NaN            True   \n",
       "531        NaN        NaN        NaN                NaN            True   \n",
       "533        NaN        NaN        NaN                NaN            True   \n",
       "544        NaN        NaN        NaN                NaN            True   \n",
       "549        NaN        NaN        NaN                NaN            True   \n",
       "559        NaN        NaN        NaN                NaN            True   \n",
       "560        NaN        NaN        NaN                NaN            True   \n",
       "568        NaN        NaN        NaN                NaN            True   \n",
       "570        NaN        NaN        NaN                NaN            True   \n",
       "571        NaN        NaN        NaN                NaN            True   \n",
       "572        NaN        NaN        NaN                NaN            True   \n",
       "581        NaN        NaN        NaN                NaN            True   \n",
       "584        NaN        NaN        NaN                NaN            True   \n",
       "589        NaN        NaN        NaN                NaN            True   \n",
       "599        NaN        NaN        NaN                NaN            True   \n",
       "603        NaN        NaN        NaN                NaN            True   \n",
       "607        NaN        NaN        NaN                NaN            True   \n",
       "610        NaN        NaN        NaN                NaN            True   \n",
       "612        NaN        NaN        NaN                NaN            True   \n",
       "\n",
       "                                            clean_text           language  \\\n",
       "28   amber heard hizo añicos dos años de vida de un...            Spanish   \n",
       "120  aquí desde perú nadie te quiere volver a ver, ...            Spanish   \n",
       "156  tarde o temprano llegará la hora de pagar todo...            Spanish   \n",
       "204  que triste que puedas vivir con tu consciencia...            Spanish   \n",
       "206  que impotencia eres una mujer con baja calidad...            Spanish   \n",
       "208  la señorita heard deberia disculparse publicam...            Spanish   \n",
       "240  amber heard ojala y no te arrepientas de todo ...            Spanish   \n",
       "245  vuelve a la escuela de actuación, horrible la ...            Spanish   \n",
       "260                                                nan     Haitian Creole   \n",
       "268  como te sientes ahora que todo el mundo te da ...            Spanish   \n",
       "278  das angebliche beweisfoto ist einfach lächerli...             German   \n",
       "284  cuando vi que jhony deep salía en animales fan...            Spanish   \n",
       "286  hamber recuerda que la vida da muchas vueltas,...            Spanish   \n",
       "303  si un poco de dignidad tienes que lo dudo pide...            Spanish   \n",
       "304  #justiceforjohnnydepp no a la violencia hacia ...            Spanish   \n",
       "318  i film che ho visto in cui compari sono presso...            Italian   \n",
       "319  no se como decirlo en ingles pero chinga tu ma...            Spanish   \n",
       "322  deberían también despedirla de la película acu...            Spanish   \n",
       "327  johnny depp saldrá victorioso ya veras esta ve...            Spanish   \n",
       "328  yo no soy fan de johnny depp pero, no estoy de...            Spanish   \n",
       "332  miro tantos comentarios negativos y ningún con...            Spanish   \n",
       "342  alguien aqui que hable español y que porfavor ...            Spanish   \n",
       "344  es en serio q hay gente tan estupida para segu...            Spanish   \n",
       "346  aunque no te gusta y no quieras johnny depp va...            Spanish   \n",
       "355  wen soad camargo mira aquí está la desgraciada...            Spanish   \n",
       "356  no hay palabras que mejor te describan que dob...            Spanish   \n",
       "359  a mí nadie me ha pagado para firmar por su des...            Spanish   \n",
       "360  randi ki bachi case wapis le nai to maa chod d...           Galician   \n",
       "375  que vergüenza que seas una mujer agresiva y go...            Spanish   \n",
       "380  tu y la panini deben de irse agarraditas dela ...            Spanish   \n",
       "381       nadie mire sus películas, nadie mire aquaman            Spanish   \n",
       "390  desde cuando la contaminación y basura hacen d...            Spanish   \n",
       "410  por favor alguien que hable español me puede d...            Spanish   \n",
       "419                       sei una lurida bastarda!!!!!  Norwegian Nynorsk   \n",
       "438  que josh peck ni que nada ahora tu serás la du...            Spanish   \n",
       "471  je pense que quand le filme sortira il y en n ...             French   \n",
       "474  solo llegué aqui a decir que las verdades son ...            Spanish   \n",
       "484  tú eres la razón por la cual un hombre puede a...            Spanish   \n",
       "496               mais mentiras será contadas lá? rsrs         Portuguese   \n",
       "504  qur mal gusto tiene aquaman o sera la actriz q...            Spanish   \n",
       "511                from bolivia: #justiceforjhonnydepp          Norwegian   \n",
       "513         punta lang ako twitter, hanapin ko pake ko            Tagalog   \n",
       "531  vas a pagar tarde o temprano el daño que estás...            Spanish   \n",
       "533  no podría ver una película de ella sin imagina...            Spanish   \n",
       "544  violencia es violencia sea el género que sea y...            Spanish   \n",
       "549  espero que fracases, que el mundo te de la esp...            Spanish   \n",
       "559  espero se te devuelva todo el daño que estas h...            Spanish   \n",
       "560  nadie te apoya, todos estamos a tu contra y ap...            Spanish   \n",
       "568  esacto, cagadora de camas, todo es tu culpa, n...            Spanish   \n",
       "570  yo se que no me van a entender pero me vale ma...            Spanish   \n",
       "571  apoyo a jhonny depp, no es posible que tengas ...            Spanish   \n",
       "572  dejar de seguirla, así acabará su carrera, qui...            Spanish   \n",
       "581  disculpe soy boliviana y apoyo a johnny depp, ...            Spanish   \n",
       "584                 fuera amber! #justiceforjohnnydeep            Spanish   \n",
       "589  espero que los seguidores que tiene en sus cue...            Spanish   \n",
       "599  tu crees que existirías si johnny no te hubies...            Spanish   \n",
       "603              #deppcember justicia para johnny depp         Indonesian   \n",
       "607  la repudio tanto como a merino!!! simple no se...            Spanish   \n",
       "610  deberían cancelar todos tus contratos al igual...            Spanish   \n",
       "612  nadie ha pagado una campaña contra ti amber, s...            Spanish   \n",
       "\n",
       "                                            translated  \n",
       "28   amber heard shattered two years of the life of...  \n",
       "120  here from peru no one wants to see you again, ...  \n",
       "156  Sooner or later the time will come to pay for ...  \n",
       "204  How sad that you can live with your conscience...  \n",
       "206  how helpless you are a woman with low human qu...  \n",
       "208  miss heard should publicly apologize and recei...  \n",
       "240  amber heard hopefully and you don't regret all...  \n",
       "245  go back to acting school, horrible aquama movi...  \n",
       "260                                                 in  \n",
       "268  How do you feel now that everyone turns their ...  \n",
       "278  the alleged proof photo is just ridiculous! an...  \n",
       "284  when I saw that jhony deep appeared in fantast...  \n",
       "286  hamber remembers that life takes many turns, y...  \n",
       "303  if you have a little dignity I doubt it apolog...  \n",
       "304  #justiceforjohnnydepp no ​​to violence towards...  \n",
       "318  the films I have seen in which you appear are ...  \n",
       "319  I don't know how to say it in English but fuck...  \n",
       "322   they should also fire her from the movie acuaman  \n",
       "327  johnny depp will be victorious you will see th...  \n",
       "328  I am not a fan of johnny depp but, I do not ag...  \n",
       "332  I see so many negative comments and no advice ...  \n",
       "342  someone here who speaks spanish and please exp...  \n",
       "344  it's serious that there are people so stupid t...  \n",
       "346  even if you don't like it and don't want to jo...  \n",
       "355  wen soad camargo look here is the wretch has n...  \n",
       "356  there are no words that best describe you that...  \n",
       "359  nobody has paid me to sign for their dismissal...  \n",
       "360  randi ki bachi case wapis le nai to maa chod d...  \n",
       "375  What a shame that you are an aggressive and go...  \n",
       "380  you and the panini must go hand in hand to hel...  \n",
       "381      nobody watch his movies, nobody watch aquaman  \n",
       "390        since when pollution and garbage do direct?  \n",
       "410  Please can someone who speaks Spanish tell me ...  \n",
       "419                     you are a filthy bastard !!!!!  \n",
       "438  that josh peck or anything now you will be the...  \n",
       "471  I think that when the film comes out there are...  \n",
       "474  I only got here to say that the truths are str...  \n",
       "484  you are the reason a man can help kill a woman...  \n",
       "496                 Will more lies be told there? haha  \n",
       "504  What bad taste does Aquaman have or would it b...  \n",
       "511                from bolivia: #justiceforjhonnydepp  \n",
       "513            I just go to twitter, I'll find my pake  \n",
       "531  sooner or later you are going to pay for the d...  \n",
       "533  I couldn't see a movie of her without imaginin...  \n",
       "544  violence is violence regardless of gender and ...  \n",
       "549  I hope you fail, that the world turns its back...  \n",
       "559  I hope all the damage you are doing to an inno...  \n",
       "560  nobody supports you, we are all against you an...  \n",
       "568  that's right, bed shitter, it's all your fault...  \n",
       "570  I know you're not going to understand me, but ...  \n",
       "571  I support jhonny depp, it is not possible that...  \n",
       "572  stop following her, that's how her career will...  \n",
       "581  Excuse me, I am Bolivian and I support Johnny ...  \n",
       "584                   out amber! #justiceforjohnnydeep  \n",
       "589  I hope that the followers that she has in her ...  \n",
       "599  do you think you would exist if johnny had not...  \n",
       "603                #deppcember justice for johnny depp  \n",
       "607  I repudiate her as much as merino!!! You simpl...  \n",
       "610  they should cancel all your contracts just lik...  \n",
       "612  no one has paid for a campaign against you amb...  "
      ]
     },
     "execution_count": 107,
     "metadata": {},
     "output_type": "execute_result"
    }
   ],
   "source": [
    "df_merged_final[df_merged_final.language != 'English'].head(60)"
   ]
  },
  {
   "cell_type": "code",
   "execution_count": 108,
   "id": "7582975a",
   "metadata": {},
   "outputs": [
    {
     "name": "stdout",
     "output_type": "stream",
     "text": [
      "0\n"
     ]
    },
    {
     "data": {
      "text/html": [
       "<div>\n",
       "<style scoped>\n",
       "    .dataframe tbody tr th:only-of-type {\n",
       "        vertical-align: middle;\n",
       "    }\n",
       "\n",
       "    .dataframe tbody tr th {\n",
       "        vertical-align: top;\n",
       "    }\n",
       "\n",
       "    .dataframe thead th {\n",
       "        text-align: right;\n",
       "    }\n",
       "</style>\n",
       "<table border=\"1\" class=\"dataframe\">\n",
       "  <thead>\n",
       "    <tr style=\"text-align: right;\">\n",
       "      <th></th>\n",
       "      <th>username</th>\n",
       "      <th>comment</th>\n",
       "      <th>type</th>\n",
       "      <th>defense_AH</th>\n",
       "      <th>support_AH</th>\n",
       "      <th>offense_AH</th>\n",
       "      <th>defense_against_AH</th>\n",
       "      <th>contains_alpha</th>\n",
       "      <th>clean_text</th>\n",
       "      <th>language</th>\n",
       "      <th>translated</th>\n",
       "    </tr>\n",
       "  </thead>\n",
       "  <tbody>\n",
       "  </tbody>\n",
       "</table>\n",
       "</div>"
      ],
      "text/plain": [
       "Empty DataFrame\n",
       "Columns: [username, comment, type, defense_AH, support_AH, offense_AH, defense_against_AH, contains_alpha, clean_text, language, translated]\n",
       "Index: []"
      ]
     },
     "execution_count": 108,
     "metadata": {},
     "output_type": "execute_result"
    }
   ],
   "source": [
    "print((df_merged_final.translated == 'not_translated').sum())\n",
    "df_merged_final[df_merged_final.translated == 'not_translated'].head()"
   ]
  },
  {
   "cell_type": "code",
   "execution_count": 131,
   "id": "307d58b3",
   "metadata": {},
   "outputs": [],
   "source": [
    "# df_merged_final.to_csv('./cleaned_data/facebook_cleaned.csv', index = False)"
   ]
  },
  {
   "cell_type": "markdown",
   "id": "71e625a1",
   "metadata": {},
   "source": [
    "<br>"
   ]
  },
  {
   "cell_type": "markdown",
   "id": "48d1a724",
   "metadata": {},
   "source": [
    "# More Cleaning"
   ]
  },
  {
   "cell_type": "code",
   "execution_count": 15,
   "id": "3845d948",
   "metadata": {},
   "outputs": [
    {
     "name": "stdout",
     "output_type": "stream",
     "text": [
      "(5263, 11)\n"
     ]
    },
    {
     "data": {
      "text/html": [
       "<div>\n",
       "<style scoped>\n",
       "    .dataframe tbody tr th:only-of-type {\n",
       "        vertical-align: middle;\n",
       "    }\n",
       "\n",
       "    .dataframe tbody tr th {\n",
       "        vertical-align: top;\n",
       "    }\n",
       "\n",
       "    .dataframe thead th {\n",
       "        text-align: right;\n",
       "    }\n",
       "</style>\n",
       "<table border=\"1\" class=\"dataframe\">\n",
       "  <thead>\n",
       "    <tr style=\"text-align: right;\">\n",
       "      <th></th>\n",
       "      <th>username</th>\n",
       "      <th>comment</th>\n",
       "      <th>type</th>\n",
       "      <th>defense_AH</th>\n",
       "      <th>support_AH</th>\n",
       "      <th>offense_AH</th>\n",
       "      <th>defense_against_AH</th>\n",
       "      <th>contains_alpha</th>\n",
       "      <th>clean_text</th>\n",
       "      <th>language</th>\n",
       "      <th>translated</th>\n",
       "    </tr>\n",
       "  </thead>\n",
       "  <tbody>\n",
       "    <tr>\n",
       "      <th>0</th>\n",
       "      <td>Raychel RayRay</td>\n",
       "      <td>skank</td>\n",
       "      <td>post0_comment</td>\n",
       "      <td>NaN</td>\n",
       "      <td>NaN</td>\n",
       "      <td>NaN</td>\n",
       "      <td>NaN</td>\n",
       "      <td>True</td>\n",
       "      <td>skank</td>\n",
       "      <td>English</td>\n",
       "      <td>skank</td>\n",
       "    </tr>\n",
       "  </tbody>\n",
       "</table>\n",
       "</div>"
      ],
      "text/plain": [
       "         username comment           type defense_AH support_AH offense_AH  \\\n",
       "0  Raychel RayRay   skank  post0_comment        NaN        NaN        NaN   \n",
       "\n",
       "  defense_against_AH  contains_alpha clean_text language translated  \n",
       "0                NaN            True      skank  English      skank  "
      ]
     },
     "execution_count": 15,
     "metadata": {},
     "output_type": "execute_result"
    }
   ],
   "source": [
    "df_comments = pd.read_csv(\"./cleaned_data/facebook_cleaned.csv\")\n",
    "print(df_comments.shape)\n",
    "df_comments.head(1)"
   ]
  },
  {
   "cell_type": "code",
   "execution_count": 4,
   "id": "a4201a0e",
   "metadata": {},
   "outputs": [
    {
     "name": "stdout",
     "output_type": "stream",
     "text": [
      "(16, 11)\n"
     ]
    }
   ],
   "source": [
    "pos_text = {'love amber', 'stand with amber', 'standwithamber', 'support amber', 'supportamber', 'justiceforamber', \n",
    "            'johnnydeppisawifebeater', 'boycottwomenbeaters', 'wearewithamber','justice for amber','gorgeous amber',\n",
    "            'istandwithamber','wearewithyouamber', 'amber heard is innocent', 'amber is innocent','support her'}\n",
    "df_pos = df_comments[df_comments.comment.str.contains('|'.join(pos_text))]\n",
    "print(df_pos.shape)"
   ]
  },
  {
   "cell_type": "code",
   "execution_count": 5,
   "id": "38687538",
   "metadata": {},
   "outputs": [
    {
     "name": "stdout",
     "output_type": "stream",
     "text": [
      "(42, 11)\n"
     ]
    }
   ],
   "source": [
    "df_recommend = df_comments[df_comments.type == 'Recommend']\n",
    "print(df_recommend.shape)"
   ]
  },
  {
   "cell_type": "code",
   "execution_count": 6,
   "id": "ee8db67d",
   "metadata": {},
   "outputs": [],
   "source": [
    "remove_users = set(df_pos.username) | set(df_recommend.username) | {'Melvs Grao'}"
   ]
  },
  {
   "cell_type": "code",
   "execution_count": 7,
   "id": "21c2bd66",
   "metadata": {},
   "outputs": [],
   "source": [
    "# exclude all the users with positive comments\n",
    "df_comments = df_comments[~df_comments.username.isin(remove_users)]"
   ]
  },
  {
   "cell_type": "markdown",
   "id": "8f3ebf07",
   "metadata": {},
   "source": [
    "### Fill NaNs with the string 'isnan'"
   ]
  },
  {
   "cell_type": "code",
   "execution_count": 8,
   "id": "e5739024",
   "metadata": {},
   "outputs": [
    {
     "data": {
      "text/plain": [
       "96"
      ]
     },
     "execution_count": 8,
     "metadata": {},
     "output_type": "execute_result"
    }
   ],
   "source": [
    "df_comments['clean_text'].isnull().sum()"
   ]
  },
  {
   "cell_type": "code",
   "execution_count": 9,
   "id": "062d3f7b",
   "metadata": {},
   "outputs": [],
   "source": [
    "df_comments['clean_text'] = df_comments['clean_text'].fillna('isnan')"
   ]
  },
  {
   "cell_type": "code",
   "execution_count": 10,
   "id": "046f15a5",
   "metadata": {},
   "outputs": [
    {
     "data": {
      "text/plain": [
       "101"
      ]
     },
     "execution_count": 10,
     "metadata": {},
     "output_type": "execute_result"
    }
   ],
   "source": [
    "df_comments['translated'].isnull().sum()"
   ]
  },
  {
   "cell_type": "code",
   "execution_count": 11,
   "id": "aeb047ca",
   "metadata": {},
   "outputs": [],
   "source": [
    "df_comments['translated'] = df_comments['translated'].fillna('isnan')"
   ]
  },
  {
   "cell_type": "code",
   "execution_count": 12,
   "id": "99d9ab04",
   "metadata": {},
   "outputs": [],
   "source": [
    "# df_comments.to_csv('./cleaned_data/facebook_cleaned.csv', index = False)"
   ]
  },
  {
   "cell_type": "markdown",
   "id": "a4404aab",
   "metadata": {},
   "source": [
    "# Comments Classified offense_AH"
   ]
  },
  {
   "cell_type": "code",
   "execution_count": 16,
   "id": "45d518dd",
   "metadata": {},
   "outputs": [
    {
     "name": "stdout",
     "output_type": "stream",
     "text": [
      "(1458, 11)\n"
     ]
    },
    {
     "data": {
      "text/html": [
       "<div>\n",
       "<style scoped>\n",
       "    .dataframe tbody tr th:only-of-type {\n",
       "        vertical-align: middle;\n",
       "    }\n",
       "\n",
       "    .dataframe tbody tr th {\n",
       "        vertical-align: top;\n",
       "    }\n",
       "\n",
       "    .dataframe thead th {\n",
       "        text-align: right;\n",
       "    }\n",
       "</style>\n",
       "<table border=\"1\" class=\"dataframe\">\n",
       "  <thead>\n",
       "    <tr style=\"text-align: right;\">\n",
       "      <th></th>\n",
       "      <th>username</th>\n",
       "      <th>comment</th>\n",
       "      <th>type</th>\n",
       "      <th>defense_AH</th>\n",
       "      <th>support_AH</th>\n",
       "      <th>offense_AH</th>\n",
       "      <th>defense_against_AH</th>\n",
       "      <th>contains_alpha</th>\n",
       "      <th>clean_text</th>\n",
       "      <th>language</th>\n",
       "      <th>translated</th>\n",
       "    </tr>\n",
       "  </thead>\n",
       "  <tbody>\n",
       "    <tr>\n",
       "      <th>216</th>\n",
       "      <td>Kaly Quesada</td>\n",
       "      <td>you are a horrible human. i hope you never get...</td>\n",
       "      <td>post0_comment</td>\n",
       "      <td>False</td>\n",
       "      <td>False</td>\n",
       "      <td>True</td>\n",
       "      <td>False</td>\n",
       "      <td>True</td>\n",
       "      <td>you are a horrible human i hope you never get ...</td>\n",
       "      <td>English</td>\n",
       "      <td>you are a horrible human i hope you never get ...</td>\n",
       "    </tr>\n",
       "  </tbody>\n",
       "</table>\n",
       "</div>"
      ],
      "text/plain": [
       "         username                                            comment  \\\n",
       "216  Kaly Quesada  you are a horrible human. i hope you never get...   \n",
       "\n",
       "              type defense_AH support_AH offense_AH defense_against_AH  \\\n",
       "216  post0_comment      False      False       True              False   \n",
       "\n",
       "     contains_alpha                                         clean_text  \\\n",
       "216            True  you are a horrible human i hope you never get ...   \n",
       "\n",
       "    language                                         translated  \n",
       "216  English  you are a horrible human i hope you never get ...  "
      ]
     },
     "execution_count": 16,
     "metadata": {},
     "output_type": "execute_result"
    }
   ],
   "source": [
    "df_offense = df_comments[df_comments.offense_AH == True]\n",
    "print(df_offense.shape)\n",
    "df_offense.head(1)"
   ]
  },
  {
   "cell_type": "markdown",
   "id": "06b9fccf",
   "metadata": {},
   "source": [
    "# Comments Classified defense_against_AH"
   ]
  },
  {
   "cell_type": "code",
   "execution_count": 17,
   "id": "e1a8a2ba",
   "metadata": {},
   "outputs": [
    {
     "name": "stdout",
     "output_type": "stream",
     "text": [
      "(8, 11)\n"
     ]
    },
    {
     "data": {
      "text/html": [
       "<div>\n",
       "<style scoped>\n",
       "    .dataframe tbody tr th:only-of-type {\n",
       "        vertical-align: middle;\n",
       "    }\n",
       "\n",
       "    .dataframe tbody tr th {\n",
       "        vertical-align: top;\n",
       "    }\n",
       "\n",
       "    .dataframe thead th {\n",
       "        text-align: right;\n",
       "    }\n",
       "</style>\n",
       "<table border=\"1\" class=\"dataframe\">\n",
       "  <thead>\n",
       "    <tr style=\"text-align: right;\">\n",
       "      <th></th>\n",
       "      <th>username</th>\n",
       "      <th>comment</th>\n",
       "      <th>type</th>\n",
       "      <th>defense_AH</th>\n",
       "      <th>support_AH</th>\n",
       "      <th>offense_AH</th>\n",
       "      <th>defense_against_AH</th>\n",
       "      <th>contains_alpha</th>\n",
       "      <th>clean_text</th>\n",
       "      <th>language</th>\n",
       "      <th>translated</th>\n",
       "    </tr>\n",
       "  </thead>\n",
       "  <tbody>\n",
       "    <tr>\n",
       "      <th>2426</th>\n",
       "      <td>Jessica Hoskins</td>\n",
       "      <td>i used to be a fan but after what you did to j...</td>\n",
       "      <td>post1_comment</td>\n",
       "      <td>False</td>\n",
       "      <td>False</td>\n",
       "      <td>True</td>\n",
       "      <td>True</td>\n",
       "      <td>True</td>\n",
       "      <td>i used to be a fan but after what you did to j...</td>\n",
       "      <td>English</td>\n",
       "      <td>i used to be a fan but after what you did to j...</td>\n",
       "    </tr>\n",
       "  </tbody>\n",
       "</table>\n",
       "</div>"
      ],
      "text/plain": [
       "             username                                            comment  \\\n",
       "2426  Jessica Hoskins  i used to be a fan but after what you did to j...   \n",
       "\n",
       "               type defense_AH support_AH offense_AH defense_against_AH  \\\n",
       "2426  post1_comment      False      False       True               True   \n",
       "\n",
       "      contains_alpha                                         clean_text  \\\n",
       "2426            True  i used to be a fan but after what you did to j...   \n",
       "\n",
       "     language                                         translated  \n",
       "2426  English  i used to be a fan but after what you did to j...  "
      ]
     },
     "execution_count": 17,
     "metadata": {},
     "output_type": "execute_result"
    }
   ],
   "source": [
    "df_defense_against = df_comments[df_comments.defense_against_AH == True]\n",
    "print(df_defense_against.shape)\n",
    "df_defense_against.head(1)"
   ]
  },
  {
   "cell_type": "markdown",
   "id": "275be399",
   "metadata": {},
   "source": [
    "# Profile Reviews that don't recommend"
   ]
  },
  {
   "cell_type": "code",
   "execution_count": 18,
   "id": "e16914c5",
   "metadata": {},
   "outputs": [
    {
     "name": "stdout",
     "output_type": "stream",
     "text": [
      "(612, 11)\n"
     ]
    },
    {
     "data": {
      "text/html": [
       "<div>\n",
       "<style scoped>\n",
       "    .dataframe tbody tr th:only-of-type {\n",
       "        vertical-align: middle;\n",
       "    }\n",
       "\n",
       "    .dataframe tbody tr th {\n",
       "        vertical-align: top;\n",
       "    }\n",
       "\n",
       "    .dataframe thead th {\n",
       "        text-align: right;\n",
       "    }\n",
       "</style>\n",
       "<table border=\"1\" class=\"dataframe\">\n",
       "  <thead>\n",
       "    <tr style=\"text-align: right;\">\n",
       "      <th></th>\n",
       "      <th>username</th>\n",
       "      <th>comment</th>\n",
       "      <th>type</th>\n",
       "      <th>defense_AH</th>\n",
       "      <th>support_AH</th>\n",
       "      <th>offense_AH</th>\n",
       "      <th>defense_against_AH</th>\n",
       "      <th>contains_alpha</th>\n",
       "      <th>clean_text</th>\n",
       "      <th>language</th>\n",
       "      <th>translated</th>\n",
       "    </tr>\n",
       "  </thead>\n",
       "  <tbody>\n",
       "    <tr>\n",
       "      <th>4651</th>\n",
       "      <td>Gianluca Carlesso</td>\n",
       "      <td>horrible person, that's the best description</td>\n",
       "      <td>Not Recommend</td>\n",
       "      <td>False</td>\n",
       "      <td>False</td>\n",
       "      <td>True</td>\n",
       "      <td>False</td>\n",
       "      <td>True</td>\n",
       "      <td>horrible person, that's the best description</td>\n",
       "      <td>English</td>\n",
       "      <td>horrible person, that's the best description</td>\n",
       "    </tr>\n",
       "  </tbody>\n",
       "</table>\n",
       "</div>"
      ],
      "text/plain": [
       "               username                                       comment  \\\n",
       "4651  Gianluca Carlesso  horrible person, that's the best description   \n",
       "\n",
       "               type defense_AH support_AH offense_AH defense_against_AH  \\\n",
       "4651  Not Recommend      False      False       True              False   \n",
       "\n",
       "      contains_alpha                                    clean_text language  \\\n",
       "4651            True  horrible person, that's the best description  English   \n",
       "\n",
       "                                        translated  \n",
       "4651  horrible person, that's the best description  "
      ]
     },
     "execution_count": 18,
     "metadata": {},
     "output_type": "execute_result"
    }
   ],
   "source": [
    "df_not_recommend = df_comments[df_comments.type == 'Not Recommend']\n",
    "print(df_not_recommend.shape)\n",
    "df_not_recommend.head(1)"
   ]
  },
  {
   "cell_type": "code",
   "execution_count": null,
   "id": "63309628",
   "metadata": {},
   "outputs": [],
   "source": [
    "# helpers.isnull(df_comments)"
   ]
  },
  {
   "cell_type": "markdown",
   "id": "699dd7f2",
   "metadata": {},
   "source": [
    "# Deleted Comments"
   ]
  },
  {
   "cell_type": "code",
   "execution_count": 19,
   "id": "78279293",
   "metadata": {},
   "outputs": [
    {
     "data": {
      "text/html": [
       "<div>\n",
       "<style scoped>\n",
       "    .dataframe tbody tr th:only-of-type {\n",
       "        vertical-align: middle;\n",
       "    }\n",
       "\n",
       "    .dataframe tbody tr th {\n",
       "        vertical-align: top;\n",
       "    }\n",
       "\n",
       "    .dataframe thead th {\n",
       "        text-align: right;\n",
       "    }\n",
       "</style>\n",
       "<table border=\"1\" class=\"dataframe\">\n",
       "  <thead>\n",
       "    <tr style=\"text-align: right;\">\n",
       "      <th></th>\n",
       "      <th>username</th>\n",
       "      <th>comment</th>\n",
       "      <th>type</th>\n",
       "      <th>defense_AH</th>\n",
       "      <th>support_AH</th>\n",
       "      <th>offense_AH</th>\n",
       "      <th>defense_against_AH</th>\n",
       "      <th>contains_alpha</th>\n",
       "      <th>clean_text</th>\n",
       "      <th>language</th>\n",
       "      <th>translated</th>\n",
       "    </tr>\n",
       "  </thead>\n",
       "  <tbody>\n",
       "    <tr>\n",
       "      <th>259</th>\n",
       "      <td>Abrar Qader</td>\n",
       "      <td>isnan</td>\n",
       "      <td>post0_comment</td>\n",
       "      <td>NaN</td>\n",
       "      <td>NaN</td>\n",
       "      <td>NaN</td>\n",
       "      <td>NaN</td>\n",
       "      <td>True</td>\n",
       "      <td>isnan</td>\n",
       "      <td>Haitian Creole</td>\n",
       "      <td>in</td>\n",
       "    </tr>\n",
       "    <tr>\n",
       "      <th>2395</th>\n",
       "      <td>Dayse Alves</td>\n",
       "      <td>isnan</td>\n",
       "      <td>post1_comment</td>\n",
       "      <td>NaN</td>\n",
       "      <td>NaN</td>\n",
       "      <td>NaN</td>\n",
       "      <td>NaN</td>\n",
       "      <td>True</td>\n",
       "      <td>isnan</td>\n",
       "      <td>Haitian Creole</td>\n",
       "      <td>in</td>\n",
       "    </tr>\n",
       "    <tr>\n",
       "      <th>2872</th>\n",
       "      <td>Manfried von Thun</td>\n",
       "      <td>isnan</td>\n",
       "      <td>post2_comment</td>\n",
       "      <td>NaN</td>\n",
       "      <td>NaN</td>\n",
       "      <td>NaN</td>\n",
       "      <td>NaN</td>\n",
       "      <td>True</td>\n",
       "      <td>isnan</td>\n",
       "      <td>Haitian Creole</td>\n",
       "      <td>in</td>\n",
       "    </tr>\n",
       "    <tr>\n",
       "      <th>3370</th>\n",
       "      <td>Jodi Line</td>\n",
       "      <td>isnan</td>\n",
       "      <td>post3_comment</td>\n",
       "      <td>NaN</td>\n",
       "      <td>NaN</td>\n",
       "      <td>NaN</td>\n",
       "      <td>NaN</td>\n",
       "      <td>True</td>\n",
       "      <td>isnan</td>\n",
       "      <td>Haitian Creole</td>\n",
       "      <td>in</td>\n",
       "    </tr>\n",
       "    <tr>\n",
       "      <th>3658</th>\n",
       "      <td>Arthur Goebbels</td>\n",
       "      <td>isnan</td>\n",
       "      <td>post4_comment</td>\n",
       "      <td>NaN</td>\n",
       "      <td>NaN</td>\n",
       "      <td>NaN</td>\n",
       "      <td>NaN</td>\n",
       "      <td>True</td>\n",
       "      <td>isnan</td>\n",
       "      <td>Haitian Creole</td>\n",
       "      <td>in</td>\n",
       "    </tr>\n",
       "    <tr>\n",
       "      <th>4294</th>\n",
       "      <td>Liadan Valeska</td>\n",
       "      <td>isnan</td>\n",
       "      <td>post5_comment</td>\n",
       "      <td>NaN</td>\n",
       "      <td>NaN</td>\n",
       "      <td>NaN</td>\n",
       "      <td>NaN</td>\n",
       "      <td>True</td>\n",
       "      <td>isnan</td>\n",
       "      <td>Haitian Creole</td>\n",
       "      <td>in</td>\n",
       "    </tr>\n",
       "  </tbody>\n",
       "</table>\n",
       "</div>"
      ],
      "text/plain": [
       "               username comment           type defense_AH support_AH  \\\n",
       "259         Abrar Qader   isnan  post0_comment        NaN        NaN   \n",
       "2395        Dayse Alves   isnan  post1_comment        NaN        NaN   \n",
       "2872  Manfried von Thun   isnan  post2_comment        NaN        NaN   \n",
       "3370          Jodi Line   isnan  post3_comment        NaN        NaN   \n",
       "3658    Arthur Goebbels   isnan  post4_comment        NaN        NaN   \n",
       "4294     Liadan Valeska   isnan  post5_comment        NaN        NaN   \n",
       "\n",
       "     offense_AH defense_against_AH  contains_alpha clean_text        language  \\\n",
       "259         NaN                NaN            True      isnan  Haitian Creole   \n",
       "2395        NaN                NaN            True      isnan  Haitian Creole   \n",
       "2872        NaN                NaN            True      isnan  Haitian Creole   \n",
       "3370        NaN                NaN            True      isnan  Haitian Creole   \n",
       "3658        NaN                NaN            True      isnan  Haitian Creole   \n",
       "4294        NaN                NaN            True      isnan  Haitian Creole   \n",
       "\n",
       "     translated  \n",
       "259          in  \n",
       "2395         in  \n",
       "2872         in  \n",
       "3370         in  \n",
       "3658         in  \n",
       "4294         in  "
      ]
     },
     "execution_count": 19,
     "metadata": {},
     "output_type": "execute_result"
    }
   ],
   "source": [
    "df_deleted = df_comments[df_comments.comment == 'isnan']\n",
    "df_deleted"
   ]
  },
  {
   "cell_type": "code",
   "execution_count": 20,
   "id": "5b14afbd",
   "metadata": {},
   "outputs": [],
   "source": [
    "# deleted_list = list(df_deleted.username)\n",
    "# df_comments[df_comments.username.isin(deleted_list)]"
   ]
  },
  {
   "cell_type": "code",
   "execution_count": 21,
   "id": "7ae24f3a",
   "metadata": {},
   "outputs": [],
   "source": [
    "## Use Fillna Instead of Dropna\n",
    "# df_comments.dropna(subset=['comment'], inplace=True)"
   ]
  },
  {
   "cell_type": "markdown",
   "id": "6fef5590",
   "metadata": {},
   "source": [
    "<br>"
   ]
  },
  {
   "cell_type": "markdown",
   "id": "952dbbd1",
   "metadata": {},
   "source": [
    "<ul>\n",
    "<li><a href=\"#intro\">Introduction</a></li>\n",
    "<li><a href=\"#wrangling\">Data Wrangling</a></li>\n",
    "<li><a href=\"#end\"><b>End of Notebook</b></a></li>  \n",
    "</ul>\n",
    "\n",
    "<a id = 'end'><a/>\n",
    "# END OF NOTEBOOK"
   ]
  },
  {
   "cell_type": "markdown",
   "id": "e22e5b94",
   "metadata": {},
   "source": [
    "<br>"
   ]
  }
 ],
 "metadata": {
  "kernelspec": {
   "display_name": "Python [conda env:nlp]",
   "language": "python",
   "name": "conda-env-nlp-py"
  },
  "language_info": {
   "codemirror_mode": {
    "name": "ipython",
    "version": 3
   },
   "file_extension": ".py",
   "mimetype": "text/x-python",
   "name": "python",
   "nbconvert_exporter": "python",
   "pygments_lexer": "ipython3",
   "version": "3.8.12"
  }
 },
 "nbformat": 4,
 "nbformat_minor": 5
}
