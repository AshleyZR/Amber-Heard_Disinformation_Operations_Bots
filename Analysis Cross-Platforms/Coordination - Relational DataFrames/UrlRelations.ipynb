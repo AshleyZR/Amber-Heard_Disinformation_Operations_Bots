{
  "cells": [
    {
      "cell_type": "code",
      "execution_count": null,
      "metadata": {
        "id": "FWKtMxlmCHrA"
      },
      "outputs": [],
      "source": [
        "## import library\n",
        "import numpy as np\n",
        "import pandas as pd\n",
        "import matplotlib.pyplot as plt"
      ]
    },
    {
      "cell_type": "code",
      "execution_count": null,
      "metadata": {
        "colab": {
          "base_uri": "https://localhost:8080/",
          "height": 377
        },
        "id": "niudUN2jDj40",
        "outputId": "945a64df-cb40-467a-d2c1-8204ebba266c"
      },
      "outputs": [
        {
          "output_type": "stream",
          "name": "stderr",
          "text": [
            "/usr/local/lib/python3.7/dist-packages/IPython/core/interactiveshell.py:2882: DtypeWarning: Columns (0,4,5,38) have mixed types.Specify dtype option on import or set low_memory=False.\n",
            "  exec(code_obj, self.user_global_ns, self.user_ns)\n"
          ]
        },
        {
          "output_type": "execute_result",
          "data": {
            "text/plain": [
              "                id_str                 created_at  \\\n",
              "0  1345359931550134272  2021-01-02 13:22:57+00:00   \n",
              "1  1345359929507459075  2021-01-02 13:22:57+00:00   \n",
              "2  1345359711101624321  2021-01-02 13:22:05+00:00   \n",
              "\n",
              "                                           full_text lang  \\\n",
              "0  So ready ✨ for the next #DeppMovieNight\\n\\nFil...   en   \n",
              "1  #Johnuary #DeppMovieNight #JusticeForJohnnyDep...  und   \n",
              "2  That’s today🎊#DeppMovieNight #Johnuary #Justic...   en   \n",
              "\n",
              "  in_reply_to_status_id_str in_reply_to_user_id  \\\n",
              "0                       NaN                 NaN   \n",
              "1                       NaN                 NaN   \n",
              "2                       NaN                 NaN   \n",
              "\n",
              "                                   entities.hashtags entities.media  \\\n",
              "0  [{'indices': [24, 39], 'text': 'DeppMovieNight...            NaN   \n",
              "1  [{'indices': [0, 9], 'text': 'Johnuary'}, {'in...            NaN   \n",
              "2  [{'indices': [13, 28], 'text': 'DeppMovieNight...            NaN   \n",
              "\n",
              "  entities.symbols entities.urls  ... user.friends_count user.lang  \\\n",
              "0               []            []  ...              544.0       NaN   \n",
              "1               []            []  ...               52.0       NaN   \n",
              "2               []            []  ...              432.0       NaN   \n",
              "\n",
              "         user.location               user.name user.screen_name  \\\n",
              "0  South West, England  🏴‍☠️ Tongo Bozzie 🏴‍☠️  Noneofthemknew1   \n",
              "1               France                Nor33 🇫🇷       Angiex0101   \n",
              "2                  NaN             Vive Harris       viverachel   \n",
              "\n",
              "                             user.profile_banner_url  \\\n",
              "0  https://pbs.twimg.com/profile_banners/13190075...   \n",
              "1                                                NaN   \n",
              "2                                                NaN   \n",
              "\n",
              "                              user.profile_image_url  user.statuses_count  \\\n",
              "0  http://pbs.twimg.com/profile_images/1384638730...              20334.0   \n",
              "1  http://pbs.twimg.com/profile_images/1384567498...              13101.0   \n",
              "2  http://abs.twimg.com/sticky/default_profile_im...               7703.0   \n",
              "\n",
              "  user.url user.verified  \n",
              "0      NaN         False  \n",
              "1      NaN         False  \n",
              "2      NaN         False  \n",
              "\n",
              "[3 rows x 39 columns]"
            ],
            "text/html": [
              "\n",
              "  <div id=\"df-53fb278c-50c8-4b5b-b61c-2eebbfca68a8\">\n",
              "    <div class=\"colab-df-container\">\n",
              "      <div>\n",
              "<style scoped>\n",
              "    .dataframe tbody tr th:only-of-type {\n",
              "        vertical-align: middle;\n",
              "    }\n",
              "\n",
              "    .dataframe tbody tr th {\n",
              "        vertical-align: top;\n",
              "    }\n",
              "\n",
              "    .dataframe thead th {\n",
              "        text-align: right;\n",
              "    }\n",
              "</style>\n",
              "<table border=\"1\" class=\"dataframe\">\n",
              "  <thead>\n",
              "    <tr style=\"text-align: right;\">\n",
              "      <th></th>\n",
              "      <th>id_str</th>\n",
              "      <th>created_at</th>\n",
              "      <th>full_text</th>\n",
              "      <th>lang</th>\n",
              "      <th>in_reply_to_status_id_str</th>\n",
              "      <th>in_reply_to_user_id</th>\n",
              "      <th>entities.hashtags</th>\n",
              "      <th>entities.media</th>\n",
              "      <th>entities.symbols</th>\n",
              "      <th>entities.urls</th>\n",
              "      <th>...</th>\n",
              "      <th>user.friends_count</th>\n",
              "      <th>user.lang</th>\n",
              "      <th>user.location</th>\n",
              "      <th>user.name</th>\n",
              "      <th>user.screen_name</th>\n",
              "      <th>user.profile_banner_url</th>\n",
              "      <th>user.profile_image_url</th>\n",
              "      <th>user.statuses_count</th>\n",
              "      <th>user.url</th>\n",
              "      <th>user.verified</th>\n",
              "    </tr>\n",
              "  </thead>\n",
              "  <tbody>\n",
              "    <tr>\n",
              "      <th>0</th>\n",
              "      <td>1345359931550134272</td>\n",
              "      <td>2021-01-02 13:22:57+00:00</td>\n",
              "      <td>So ready ✨ for the next #DeppMovieNight\\n\\nFil...</td>\n",
              "      <td>en</td>\n",
              "      <td>NaN</td>\n",
              "      <td>NaN</td>\n",
              "      <td>[{'indices': [24, 39], 'text': 'DeppMovieNight...</td>\n",
              "      <td>NaN</td>\n",
              "      <td>[]</td>\n",
              "      <td>[]</td>\n",
              "      <td>...</td>\n",
              "      <td>544.0</td>\n",
              "      <td>NaN</td>\n",
              "      <td>South West, England</td>\n",
              "      <td>🏴‍☠️ Tongo Bozzie 🏴‍☠️</td>\n",
              "      <td>Noneofthemknew1</td>\n",
              "      <td>https://pbs.twimg.com/profile_banners/13190075...</td>\n",
              "      <td>http://pbs.twimg.com/profile_images/1384638730...</td>\n",
              "      <td>20334.0</td>\n",
              "      <td>NaN</td>\n",
              "      <td>False</td>\n",
              "    </tr>\n",
              "    <tr>\n",
              "      <th>1</th>\n",
              "      <td>1345359929507459075</td>\n",
              "      <td>2021-01-02 13:22:57+00:00</td>\n",
              "      <td>#Johnuary #DeppMovieNight #JusticeForJohnnyDep...</td>\n",
              "      <td>und</td>\n",
              "      <td>NaN</td>\n",
              "      <td>NaN</td>\n",
              "      <td>[{'indices': [0, 9], 'text': 'Johnuary'}, {'in...</td>\n",
              "      <td>NaN</td>\n",
              "      <td>[]</td>\n",
              "      <td>[]</td>\n",
              "      <td>...</td>\n",
              "      <td>52.0</td>\n",
              "      <td>NaN</td>\n",
              "      <td>France</td>\n",
              "      <td>Nor33 🇫🇷</td>\n",
              "      <td>Angiex0101</td>\n",
              "      <td>NaN</td>\n",
              "      <td>http://pbs.twimg.com/profile_images/1384567498...</td>\n",
              "      <td>13101.0</td>\n",
              "      <td>NaN</td>\n",
              "      <td>False</td>\n",
              "    </tr>\n",
              "    <tr>\n",
              "      <th>2</th>\n",
              "      <td>1345359711101624321</td>\n",
              "      <td>2021-01-02 13:22:05+00:00</td>\n",
              "      <td>That’s today🎊#DeppMovieNight #Johnuary #Justic...</td>\n",
              "      <td>en</td>\n",
              "      <td>NaN</td>\n",
              "      <td>NaN</td>\n",
              "      <td>[{'indices': [13, 28], 'text': 'DeppMovieNight...</td>\n",
              "      <td>NaN</td>\n",
              "      <td>[]</td>\n",
              "      <td>[]</td>\n",
              "      <td>...</td>\n",
              "      <td>432.0</td>\n",
              "      <td>NaN</td>\n",
              "      <td>NaN</td>\n",
              "      <td>Vive Harris</td>\n",
              "      <td>viverachel</td>\n",
              "      <td>NaN</td>\n",
              "      <td>http://abs.twimg.com/sticky/default_profile_im...</td>\n",
              "      <td>7703.0</td>\n",
              "      <td>NaN</td>\n",
              "      <td>False</td>\n",
              "    </tr>\n",
              "  </tbody>\n",
              "</table>\n",
              "<p>3 rows × 39 columns</p>\n",
              "</div>\n",
              "      <button class=\"colab-df-convert\" onclick=\"convertToInteractive('df-53fb278c-50c8-4b5b-b61c-2eebbfca68a8')\"\n",
              "              title=\"Convert this dataframe to an interactive table.\"\n",
              "              style=\"display:none;\">\n",
              "        \n",
              "  <svg xmlns=\"http://www.w3.org/2000/svg\" height=\"24px\"viewBox=\"0 0 24 24\"\n",
              "       width=\"24px\">\n",
              "    <path d=\"M0 0h24v24H0V0z\" fill=\"none\"/>\n",
              "    <path d=\"M18.56 5.44l.94 2.06.94-2.06 2.06-.94-2.06-.94-.94-2.06-.94 2.06-2.06.94zm-11 1L8.5 8.5l.94-2.06 2.06-.94-2.06-.94L8.5 2.5l-.94 2.06-2.06.94zm10 10l.94 2.06.94-2.06 2.06-.94-2.06-.94-.94-2.06-.94 2.06-2.06.94z\"/><path d=\"M17.41 7.96l-1.37-1.37c-.4-.4-.92-.59-1.43-.59-.52 0-1.04.2-1.43.59L10.3 9.45l-7.72 7.72c-.78.78-.78 2.05 0 2.83L4 21.41c.39.39.9.59 1.41.59.51 0 1.02-.2 1.41-.59l7.78-7.78 2.81-2.81c.8-.78.8-2.07 0-2.86zM5.41 20L4 18.59l7.72-7.72 1.47 1.35L5.41 20z\"/>\n",
              "  </svg>\n",
              "      </button>\n",
              "      \n",
              "  <style>\n",
              "    .colab-df-container {\n",
              "      display:flex;\n",
              "      flex-wrap:wrap;\n",
              "      gap: 12px;\n",
              "    }\n",
              "\n",
              "    .colab-df-convert {\n",
              "      background-color: #E8F0FE;\n",
              "      border: none;\n",
              "      border-radius: 50%;\n",
              "      cursor: pointer;\n",
              "      display: none;\n",
              "      fill: #1967D2;\n",
              "      height: 32px;\n",
              "      padding: 0 0 0 0;\n",
              "      width: 32px;\n",
              "    }\n",
              "\n",
              "    .colab-df-convert:hover {\n",
              "      background-color: #E2EBFA;\n",
              "      box-shadow: 0px 1px 2px rgba(60, 64, 67, 0.3), 0px 1px 3px 1px rgba(60, 64, 67, 0.15);\n",
              "      fill: #174EA6;\n",
              "    }\n",
              "\n",
              "    [theme=dark] .colab-df-convert {\n",
              "      background-color: #3B4455;\n",
              "      fill: #D2E3FC;\n",
              "    }\n",
              "\n",
              "    [theme=dark] .colab-df-convert:hover {\n",
              "      background-color: #434B5C;\n",
              "      box-shadow: 0px 1px 3px 1px rgba(0, 0, 0, 0.15);\n",
              "      filter: drop-shadow(0px 1px 2px rgba(0, 0, 0, 0.3));\n",
              "      fill: #FFFFFF;\n",
              "    }\n",
              "  </style>\n",
              "\n",
              "      <script>\n",
              "        const buttonEl =\n",
              "          document.querySelector('#df-53fb278c-50c8-4b5b-b61c-2eebbfca68a8 button.colab-df-convert');\n",
              "        buttonEl.style.display =\n",
              "          google.colab.kernel.accessAllowed ? 'block' : 'none';\n",
              "\n",
              "        async function convertToInteractive(key) {\n",
              "          const element = document.querySelector('#df-53fb278c-50c8-4b5b-b61c-2eebbfca68a8');\n",
              "          const dataTable =\n",
              "            await google.colab.kernel.invokeFunction('convertToInteractive',\n",
              "                                                     [key], {});\n",
              "          if (!dataTable) return;\n",
              "\n",
              "          const docLinkHtml = 'Like what you see? Visit the ' +\n",
              "            '<a target=\"_blank\" href=https://colab.research.google.com/notebooks/data_table.ipynb>data table notebook</a>'\n",
              "            + ' to learn more about interactive tables.';\n",
              "          element.innerHTML = '';\n",
              "          dataTable['output_type'] = 'display_data';\n",
              "          await google.colab.output.renderOutput(dataTable, element);\n",
              "          const docLink = document.createElement('div');\n",
              "          docLink.innerHTML = docLinkHtml;\n",
              "          element.appendChild(docLink);\n",
              "        }\n",
              "      </script>\n",
              "    </div>\n",
              "  </div>\n",
              "  "
            ]
          },
          "metadata": {},
          "execution_count": 2
        }
      ],
      "source": [
        "## read csv data \n",
        "df = pd.read_csv('/content/drive/MyDrive/twitter_dataset/tweets_2021.csv')\n",
        "df.head(3)"
      ]
    },
    {
      "cell_type": "code",
      "execution_count": null,
      "metadata": {
        "id": "Rj58no2Qe6pB"
      },
      "outputs": [],
      "source": [
        "## extract only main info for extract relation in url\n",
        "urlRelation = df[['entities.urls' , 'user.name']]"
      ]
    },
    {
      "cell_type": "code",
      "execution_count": null,
      "metadata": {
        "colab": {
          "base_uri": "https://localhost:8080/"
        },
        "id": "d3pYhXhxHnSf",
        "outputId": "eac6a749-fc47-4236-f9af-bf15e6b19b63"
      },
      "outputs": [
        {
          "output_type": "execute_result",
          "data": {
            "text/plain": [
              "(228687, 2)"
            ]
          },
          "metadata": {},
          "execution_count": 6
        }
      ],
      "source": [
        "## shape of this data \n",
        "urlRelation.shape"
      ]
    },
    {
      "cell_type": "code",
      "execution_count": null,
      "metadata": {
        "colab": {
          "base_uri": "https://localhost:8080/"
        },
        "id": "uSBrPAcIfdo8",
        "outputId": "915040cd-fab6-4bcf-a285-db0536eca8be"
      },
      "outputs": [
        {
          "output_type": "execute_result",
          "data": {
            "text/plain": [
              "Teri Carson ☠️ 🇮🇪 💀 🇨🇮 ☠️               2535\n",
              "Libby ♿️🏴‍☠️🇺🇸 #JusticeForJohnnyDepp    2379\n",
              "Ciang385                                1770\n",
              "Sam Cooke ☢😎🙏🇬🇧                         1674\n",
              "JusticeForJohnny                        1667\n",
              "                                        ... \n",
              "mariah 🎬                                   1\n",
              "Citra Yusuf                                1\n",
              "Kevin Kunze                                1\n",
              "draQlah                                    1\n",
              "Nitin Kapoor                               1\n",
              "Name: user.name, Length: 45824, dtype: int64"
            ]
          },
          "metadata": {},
          "execution_count": 8
        }
      ],
      "source": [
        "urlRelation['user.name'].value_counts()"
      ]
    },
    {
      "cell_type": "code",
      "execution_count": null,
      "metadata": {
        "colab": {
          "base_uri": "https://localhost:8080/"
        },
        "id": "u9Aws6vnhRev",
        "outputId": "d5859485-fca4-47d7-e02a-c7a2ada00a4b"
      },
      "outputs": [
        {
          "output_type": "execute_result",
          "data": {
            "text/plain": [
              "entities.urls     0\n",
              "user.name        14\n",
              "dtype: int64"
            ]
          },
          "metadata": {},
          "execution_count": 9
        }
      ],
      "source": [
        "urlRelation.isnull().sum()"
      ]
    },
    {
      "cell_type": "code",
      "execution_count": null,
      "metadata": {
        "colab": {
          "base_uri": "https://localhost:8080/",
          "height": 175
        },
        "id": "8MQK5t2ThfsQ",
        "outputId": "34400b39-8d6e-4e19-a30f-a4d17a67b661"
      },
      "outputs": [
        {
          "output_type": "execute_result",
          "data": {
            "text/plain": [
              "  entities.urls                         user.name\n",
              "0            []            🏴‍☠️ Tongo Bozzie 🏴‍☠️\n",
              "1            []                          Nor33 🇫🇷\n",
              "2            []                       Vive Harris\n",
              "3            []  pirate🏴‍☠️ #justiceforjohnnydepp"
            ],
            "text/html": [
              "\n",
              "  <div id=\"df-c3e55c8b-66bb-486e-ac25-ad1f910d30c1\">\n",
              "    <div class=\"colab-df-container\">\n",
              "      <div>\n",
              "<style scoped>\n",
              "    .dataframe tbody tr th:only-of-type {\n",
              "        vertical-align: middle;\n",
              "    }\n",
              "\n",
              "    .dataframe tbody tr th {\n",
              "        vertical-align: top;\n",
              "    }\n",
              "\n",
              "    .dataframe thead th {\n",
              "        text-align: right;\n",
              "    }\n",
              "</style>\n",
              "<table border=\"1\" class=\"dataframe\">\n",
              "  <thead>\n",
              "    <tr style=\"text-align: right;\">\n",
              "      <th></th>\n",
              "      <th>entities.urls</th>\n",
              "      <th>user.name</th>\n",
              "    </tr>\n",
              "  </thead>\n",
              "  <tbody>\n",
              "    <tr>\n",
              "      <th>0</th>\n",
              "      <td>[]</td>\n",
              "      <td>🏴‍☠️ Tongo Bozzie 🏴‍☠️</td>\n",
              "    </tr>\n",
              "    <tr>\n",
              "      <th>1</th>\n",
              "      <td>[]</td>\n",
              "      <td>Nor33 🇫🇷</td>\n",
              "    </tr>\n",
              "    <tr>\n",
              "      <th>2</th>\n",
              "      <td>[]</td>\n",
              "      <td>Vive Harris</td>\n",
              "    </tr>\n",
              "    <tr>\n",
              "      <th>3</th>\n",
              "      <td>[]</td>\n",
              "      <td>pirate🏴‍☠️ #justiceforjohnnydepp</td>\n",
              "    </tr>\n",
              "  </tbody>\n",
              "</table>\n",
              "</div>\n",
              "      <button class=\"colab-df-convert\" onclick=\"convertToInteractive('df-c3e55c8b-66bb-486e-ac25-ad1f910d30c1')\"\n",
              "              title=\"Convert this dataframe to an interactive table.\"\n",
              "              style=\"display:none;\">\n",
              "        \n",
              "  <svg xmlns=\"http://www.w3.org/2000/svg\" height=\"24px\"viewBox=\"0 0 24 24\"\n",
              "       width=\"24px\">\n",
              "    <path d=\"M0 0h24v24H0V0z\" fill=\"none\"/>\n",
              "    <path d=\"M18.56 5.44l.94 2.06.94-2.06 2.06-.94-2.06-.94-.94-2.06-.94 2.06-2.06.94zm-11 1L8.5 8.5l.94-2.06 2.06-.94-2.06-.94L8.5 2.5l-.94 2.06-2.06.94zm10 10l.94 2.06.94-2.06 2.06-.94-2.06-.94-.94-2.06-.94 2.06-2.06.94z\"/><path d=\"M17.41 7.96l-1.37-1.37c-.4-.4-.92-.59-1.43-.59-.52 0-1.04.2-1.43.59L10.3 9.45l-7.72 7.72c-.78.78-.78 2.05 0 2.83L4 21.41c.39.39.9.59 1.41.59.51 0 1.02-.2 1.41-.59l7.78-7.78 2.81-2.81c.8-.78.8-2.07 0-2.86zM5.41 20L4 18.59l7.72-7.72 1.47 1.35L5.41 20z\"/>\n",
              "  </svg>\n",
              "      </button>\n",
              "      \n",
              "  <style>\n",
              "    .colab-df-container {\n",
              "      display:flex;\n",
              "      flex-wrap:wrap;\n",
              "      gap: 12px;\n",
              "    }\n",
              "\n",
              "    .colab-df-convert {\n",
              "      background-color: #E8F0FE;\n",
              "      border: none;\n",
              "      border-radius: 50%;\n",
              "      cursor: pointer;\n",
              "      display: none;\n",
              "      fill: #1967D2;\n",
              "      height: 32px;\n",
              "      padding: 0 0 0 0;\n",
              "      width: 32px;\n",
              "    }\n",
              "\n",
              "    .colab-df-convert:hover {\n",
              "      background-color: #E2EBFA;\n",
              "      box-shadow: 0px 1px 2px rgba(60, 64, 67, 0.3), 0px 1px 3px 1px rgba(60, 64, 67, 0.15);\n",
              "      fill: #174EA6;\n",
              "    }\n",
              "\n",
              "    [theme=dark] .colab-df-convert {\n",
              "      background-color: #3B4455;\n",
              "      fill: #D2E3FC;\n",
              "    }\n",
              "\n",
              "    [theme=dark] .colab-df-convert:hover {\n",
              "      background-color: #434B5C;\n",
              "      box-shadow: 0px 1px 3px 1px rgba(0, 0, 0, 0.15);\n",
              "      filter: drop-shadow(0px 1px 2px rgba(0, 0, 0, 0.3));\n",
              "      fill: #FFFFFF;\n",
              "    }\n",
              "  </style>\n",
              "\n",
              "      <script>\n",
              "        const buttonEl =\n",
              "          document.querySelector('#df-c3e55c8b-66bb-486e-ac25-ad1f910d30c1 button.colab-df-convert');\n",
              "        buttonEl.style.display =\n",
              "          google.colab.kernel.accessAllowed ? 'block' : 'none';\n",
              "\n",
              "        async function convertToInteractive(key) {\n",
              "          const element = document.querySelector('#df-c3e55c8b-66bb-486e-ac25-ad1f910d30c1');\n",
              "          const dataTable =\n",
              "            await google.colab.kernel.invokeFunction('convertToInteractive',\n",
              "                                                     [key], {});\n",
              "          if (!dataTable) return;\n",
              "\n",
              "          const docLinkHtml = 'Like what you see? Visit the ' +\n",
              "            '<a target=\"_blank\" href=https://colab.research.google.com/notebooks/data_table.ipynb>data table notebook</a>'\n",
              "            + ' to learn more about interactive tables.';\n",
              "          element.innerHTML = '';\n",
              "          dataTable['output_type'] = 'display_data';\n",
              "          await google.colab.output.renderOutput(dataTable, element);\n",
              "          const docLink = document.createElement('div');\n",
              "          docLink.innerHTML = docLinkHtml;\n",
              "          element.appendChild(docLink);\n",
              "        }\n",
              "      </script>\n",
              "    </div>\n",
              "  </div>\n",
              "  "
            ]
          },
          "metadata": {},
          "execution_count": 10
        }
      ],
      "source": [
        "## print first 4 rows\n",
        "urlRelation.head(4)"
      ]
    },
    {
      "cell_type": "code",
      "execution_count": null,
      "metadata": {
        "colab": {
          "base_uri": "https://localhost:8080/"
        },
        "id": "3Hs75EOZkFsy",
        "outputId": "9cab26e2-d1a6-41de-e1e0-d13844a7395d"
      },
      "outputs": [
        {
          "output_type": "stream",
          "name": "stdout",
          "text": [
            "2\n"
          ]
        }
      ],
      "source": [
        "## print length of first url\n",
        "print(len(urlRelation['entities.urls'][0]))"
      ]
    },
    {
      "cell_type": "code",
      "execution_count": null,
      "metadata": {
        "id": "hymeFCYqje0d"
      },
      "outputs": [],
      "source": [
        "## ignore empty list\n",
        "urlRelation = urlRelation[urlRelation['entities.urls'].map(lambda d: len(d)) > 2]\n"
      ]
    },
    {
      "cell_type": "code",
      "execution_count": null,
      "metadata": {
        "colab": {
          "base_uri": "https://localhost:8080/"
        },
        "id": "qSFMFGOchy0Z",
        "outputId": "e2d6fede-0c12-4f70-f475-40878f01e8c6"
      },
      "outputs": [
        {
          "output_type": "stream",
          "name": "stdout",
          "text": [
            "<class 'pandas.core.frame.DataFrame'>\n",
            "Int64Index: 22994 entries, 34 to 228682\n",
            "Data columns (total 2 columns):\n",
            " #   Column         Non-Null Count  Dtype \n",
            "---  ------         --------------  ----- \n",
            " 0   entities.urls  22994 non-null  object\n",
            " 1   user.name      22985 non-null  object\n",
            "dtypes: object(2)\n",
            "memory usage: 538.9+ KB\n"
          ]
        }
      ],
      "source": [
        "## describe data info\n",
        "urlRelation.info()"
      ]
    },
    {
      "cell_type": "code",
      "execution_count": null,
      "metadata": {
        "id": "MbhduJ14idFe",
        "colab": {
          "base_uri": "https://localhost:8080/"
        },
        "outputId": "ec62969c-6f61-43b7-82fe-2ec576d3e507"
      },
      "outputs": [
        {
          "output_type": "stream",
          "name": "stderr",
          "text": [
            "/usr/local/lib/python3.7/dist-packages/ipykernel_launcher.py:2: SettingWithCopyWarning: \n",
            "A value is trying to be set on a copy of a slice from a DataFrame.\n",
            "Try using .loc[row_indexer,col_indexer] = value instead\n",
            "\n",
            "See the caveats in the documentation: https://pandas.pydata.org/pandas-docs/stable/user_guide/indexing.html#returning-a-view-versus-a-copy\n",
            "  \n"
          ]
        }
      ],
      "source": [
        "## urls\n",
        "urlRelation['url'] = 0"
      ]
    },
    {
      "cell_type": "code",
      "execution_count": null,
      "metadata": {
        "colab": {
          "base_uri": "https://localhost:8080/"
        },
        "id": "9iPI0m08kr2q",
        "outputId": "391aec5c-278f-4ad3-8723-18fe8e909014"
      },
      "outputs": [
        {
          "output_type": "execute_result",
          "data": {
            "text/plain": [
              "entities.urls    0\n",
              "user.name        9\n",
              "url              0\n",
              "dtype: int64"
            ]
          },
          "metadata": {},
          "execution_count": 15
        }
      ],
      "source": [
        "urlRelation.isnull().sum()"
      ]
    },
    {
      "cell_type": "code",
      "execution_count": null,
      "metadata": {
        "colab": {
          "base_uri": "https://localhost:8080/"
        },
        "id": "Sgo0drddjCVC",
        "outputId": "a5d3df25-1dba-4f8f-cf0e-61adf64b0972"
      },
      "outputs": [
        {
          "output_type": "execute_result",
          "data": {
            "text/plain": [
              "34        [{'display_url': 'chng.it/T5bNhhJ74Z', 'indice...\n",
              "47        [{'display_url': 'youtu.be/hQFFm_X2lps', 'indi...\n",
              "75        [{'display_url': 'hollywoodreporter.com/thr-es...\n",
              "104       [{'display_url': 'youtu.be/WzeENH6s3L4', 'indi...\n",
              "106       [{'display_url': 'youtu.be/WzeENH6s3L4', 'indi...\n",
              "                                ...                        \n",
              "228629    [{'display_url': 'youtu.be/4bm-kTi-3go', 'indi...\n",
              "228667    [{'display_url': 'sneakpeek.ca/2019/12/catwom…...\n",
              "228672    [{'display_url': 'change.org', 'indices': [53,...\n",
              "228677    [{'display_url': 'youtu.be/waXKykBTrQI', 'indi...\n",
              "228682    [{'display_url': 'twitter.com/Astartiel/stat…'...\n",
              "Name: entities.urls, Length: 22994, dtype: object"
            ]
          },
          "metadata": {},
          "execution_count": 16
        }
      ],
      "source": [
        "##\n",
        "urlRelation['entities.urls']"
      ]
    },
    {
      "cell_type": "code",
      "execution_count": null,
      "metadata": {
        "colab": {
          "base_uri": "https://localhost:8080/",
          "height": 144
        },
        "id": "wP32-Jrdl--x",
        "outputId": "1bf718da-5b12-4f94-e274-42f8e7fecb22"
      },
      "outputs": [
        {
          "output_type": "execute_result",
          "data": {
            "text/plain": [
              "   index                                      entities.urls      user.name  \\\n",
              "0     34  [{'display_url': 'chng.it/T5bNhhJ74Z', 'indice...    Pussygalore   \n",
              "1     47  [{'display_url': 'youtu.be/hQFFm_X2lps', 'indi...  cookie grouch   \n",
              "2     75  [{'display_url': 'hollywoodreporter.com/thr-es...     Priyanka 🍉   \n",
              "\n",
              "  user.screen_name  url  \n",
              "0  Pussyga96828631    0  \n",
              "1      cazprescott    0  \n",
              "2   PinkyPie_9912_    0  "
            ],
            "text/html": [
              "\n",
              "  <div id=\"df-72339080-ea8e-4406-be55-e8b11648b8cf\">\n",
              "    <div class=\"colab-df-container\">\n",
              "      <div>\n",
              "<style scoped>\n",
              "    .dataframe tbody tr th:only-of-type {\n",
              "        vertical-align: middle;\n",
              "    }\n",
              "\n",
              "    .dataframe tbody tr th {\n",
              "        vertical-align: top;\n",
              "    }\n",
              "\n",
              "    .dataframe thead th {\n",
              "        text-align: right;\n",
              "    }\n",
              "</style>\n",
              "<table border=\"1\" class=\"dataframe\">\n",
              "  <thead>\n",
              "    <tr style=\"text-align: right;\">\n",
              "      <th></th>\n",
              "      <th>index</th>\n",
              "      <th>entities.urls</th>\n",
              "      <th>user.name</th>\n",
              "      <th>user.screen_name</th>\n",
              "      <th>url</th>\n",
              "    </tr>\n",
              "  </thead>\n",
              "  <tbody>\n",
              "    <tr>\n",
              "      <th>0</th>\n",
              "      <td>34</td>\n",
              "      <td>[{'display_url': 'chng.it/T5bNhhJ74Z', 'indice...</td>\n",
              "      <td>Pussygalore</td>\n",
              "      <td>Pussyga96828631</td>\n",
              "      <td>0</td>\n",
              "    </tr>\n",
              "    <tr>\n",
              "      <th>1</th>\n",
              "      <td>47</td>\n",
              "      <td>[{'display_url': 'youtu.be/hQFFm_X2lps', 'indi...</td>\n",
              "      <td>cookie grouch</td>\n",
              "      <td>cazprescott</td>\n",
              "      <td>0</td>\n",
              "    </tr>\n",
              "    <tr>\n",
              "      <th>2</th>\n",
              "      <td>75</td>\n",
              "      <td>[{'display_url': 'hollywoodreporter.com/thr-es...</td>\n",
              "      <td>Priyanka 🍉</td>\n",
              "      <td>PinkyPie_9912_</td>\n",
              "      <td>0</td>\n",
              "    </tr>\n",
              "  </tbody>\n",
              "</table>\n",
              "</div>\n",
              "      <button class=\"colab-df-convert\" onclick=\"convertToInteractive('df-72339080-ea8e-4406-be55-e8b11648b8cf')\"\n",
              "              title=\"Convert this dataframe to an interactive table.\"\n",
              "              style=\"display:none;\">\n",
              "        \n",
              "  <svg xmlns=\"http://www.w3.org/2000/svg\" height=\"24px\"viewBox=\"0 0 24 24\"\n",
              "       width=\"24px\">\n",
              "    <path d=\"M0 0h24v24H0V0z\" fill=\"none\"/>\n",
              "    <path d=\"M18.56 5.44l.94 2.06.94-2.06 2.06-.94-2.06-.94-.94-2.06-.94 2.06-2.06.94zm-11 1L8.5 8.5l.94-2.06 2.06-.94-2.06-.94L8.5 2.5l-.94 2.06-2.06.94zm10 10l.94 2.06.94-2.06 2.06-.94-2.06-.94-.94-2.06-.94 2.06-2.06.94z\"/><path d=\"M17.41 7.96l-1.37-1.37c-.4-.4-.92-.59-1.43-.59-.52 0-1.04.2-1.43.59L10.3 9.45l-7.72 7.72c-.78.78-.78 2.05 0 2.83L4 21.41c.39.39.9.59 1.41.59.51 0 1.02-.2 1.41-.59l7.78-7.78 2.81-2.81c.8-.78.8-2.07 0-2.86zM5.41 20L4 18.59l7.72-7.72 1.47 1.35L5.41 20z\"/>\n",
              "  </svg>\n",
              "      </button>\n",
              "      \n",
              "  <style>\n",
              "    .colab-df-container {\n",
              "      display:flex;\n",
              "      flex-wrap:wrap;\n",
              "      gap: 12px;\n",
              "    }\n",
              "\n",
              "    .colab-df-convert {\n",
              "      background-color: #E8F0FE;\n",
              "      border: none;\n",
              "      border-radius: 50%;\n",
              "      cursor: pointer;\n",
              "      display: none;\n",
              "      fill: #1967D2;\n",
              "      height: 32px;\n",
              "      padding: 0 0 0 0;\n",
              "      width: 32px;\n",
              "    }\n",
              "\n",
              "    .colab-df-convert:hover {\n",
              "      background-color: #E2EBFA;\n",
              "      box-shadow: 0px 1px 2px rgba(60, 64, 67, 0.3), 0px 1px 3px 1px rgba(60, 64, 67, 0.15);\n",
              "      fill: #174EA6;\n",
              "    }\n",
              "\n",
              "    [theme=dark] .colab-df-convert {\n",
              "      background-color: #3B4455;\n",
              "      fill: #D2E3FC;\n",
              "    }\n",
              "\n",
              "    [theme=dark] .colab-df-convert:hover {\n",
              "      background-color: #434B5C;\n",
              "      box-shadow: 0px 1px 3px 1px rgba(0, 0, 0, 0.15);\n",
              "      filter: drop-shadow(0px 1px 2px rgba(0, 0, 0, 0.3));\n",
              "      fill: #FFFFFF;\n",
              "    }\n",
              "  </style>\n",
              "\n",
              "      <script>\n",
              "        const buttonEl =\n",
              "          document.querySelector('#df-72339080-ea8e-4406-be55-e8b11648b8cf button.colab-df-convert');\n",
              "        buttonEl.style.display =\n",
              "          google.colab.kernel.accessAllowed ? 'block' : 'none';\n",
              "\n",
              "        async function convertToInteractive(key) {\n",
              "          const element = document.querySelector('#df-72339080-ea8e-4406-be55-e8b11648b8cf');\n",
              "          const dataTable =\n",
              "            await google.colab.kernel.invokeFunction('convertToInteractive',\n",
              "                                                     [key], {});\n",
              "          if (!dataTable) return;\n",
              "\n",
              "          const docLinkHtml = 'Like what you see? Visit the ' +\n",
              "            '<a target=\"_blank\" href=https://colab.research.google.com/notebooks/data_table.ipynb>data table notebook</a>'\n",
              "            + ' to learn more about interactive tables.';\n",
              "          element.innerHTML = '';\n",
              "          dataTable['output_type'] = 'display_data';\n",
              "          await google.colab.output.renderOutput(dataTable, element);\n",
              "          const docLink = document.createElement('div');\n",
              "          docLink.innerHTML = docLinkHtml;\n",
              "          element.appendChild(docLink);\n",
              "        }\n",
              "      </script>\n",
              "    </div>\n",
              "  </div>\n",
              "  "
            ]
          },
          "metadata": {},
          "execution_count": 15
        }
      ],
      "source": [
        "urlRelation = urlRelation.reset_index()\n",
        "urlRelation.head(3)"
      ]
    },
    {
      "cell_type": "code",
      "execution_count": null,
      "metadata": {
        "colab": {
          "base_uri": "https://localhost:8080/"
        },
        "id": "JTUU-kZ5mQps",
        "outputId": "b246a579-f9e4-4463-db04-82e4c82845e8"
      },
      "outputs": [
        {
          "output_type": "execute_result",
          "data": {
            "text/plain": [
              "Index(['index', 'entities.urls', 'user.name', 'user.screen_name', 'url'], dtype='object')"
            ]
          },
          "metadata": {},
          "execution_count": 16
        }
      ],
      "source": [
        "## print columns name \n",
        "urlRelation.columns"
      ]
    },
    {
      "cell_type": "code",
      "execution_count": null,
      "metadata": {
        "colab": {
          "base_uri": "https://localhost:8080/",
          "height": 144
        },
        "id": "vJrX2jp2nDXH",
        "outputId": "d5479f14-cd0e-4c91-bcd3-1f24c6b6f864"
      },
      "outputs": [
        {
          "output_type": "execute_result",
          "data": {
            "text/plain": [
              "                                       entities.urls      user.name  \\\n",
              "0  [{'display_url': 'chng.it/T5bNhhJ74Z', 'indice...    Pussygalore   \n",
              "1  [{'display_url': 'youtu.be/hQFFm_X2lps', 'indi...  cookie grouch   \n",
              "2  [{'display_url': 'hollywoodreporter.com/thr-es...     Priyanka 🍉   \n",
              "\n",
              "  user.screen_name  url  \n",
              "0  Pussyga96828631    0  \n",
              "1      cazprescott    0  \n",
              "2   PinkyPie_9912_    0  "
            ],
            "text/html": [
              "\n",
              "  <div id=\"df-7001b972-2971-4417-a5d8-7edf62189b08\">\n",
              "    <div class=\"colab-df-container\">\n",
              "      <div>\n",
              "<style scoped>\n",
              "    .dataframe tbody tr th:only-of-type {\n",
              "        vertical-align: middle;\n",
              "    }\n",
              "\n",
              "    .dataframe tbody tr th {\n",
              "        vertical-align: top;\n",
              "    }\n",
              "\n",
              "    .dataframe thead th {\n",
              "        text-align: right;\n",
              "    }\n",
              "</style>\n",
              "<table border=\"1\" class=\"dataframe\">\n",
              "  <thead>\n",
              "    <tr style=\"text-align: right;\">\n",
              "      <th></th>\n",
              "      <th>entities.urls</th>\n",
              "      <th>user.name</th>\n",
              "      <th>user.screen_name</th>\n",
              "      <th>url</th>\n",
              "    </tr>\n",
              "  </thead>\n",
              "  <tbody>\n",
              "    <tr>\n",
              "      <th>0</th>\n",
              "      <td>[{'display_url': 'chng.it/T5bNhhJ74Z', 'indice...</td>\n",
              "      <td>Pussygalore</td>\n",
              "      <td>Pussyga96828631</td>\n",
              "      <td>0</td>\n",
              "    </tr>\n",
              "    <tr>\n",
              "      <th>1</th>\n",
              "      <td>[{'display_url': 'youtu.be/hQFFm_X2lps', 'indi...</td>\n",
              "      <td>cookie grouch</td>\n",
              "      <td>cazprescott</td>\n",
              "      <td>0</td>\n",
              "    </tr>\n",
              "    <tr>\n",
              "      <th>2</th>\n",
              "      <td>[{'display_url': 'hollywoodreporter.com/thr-es...</td>\n",
              "      <td>Priyanka 🍉</td>\n",
              "      <td>PinkyPie_9912_</td>\n",
              "      <td>0</td>\n",
              "    </tr>\n",
              "  </tbody>\n",
              "</table>\n",
              "</div>\n",
              "      <button class=\"colab-df-convert\" onclick=\"convertToInteractive('df-7001b972-2971-4417-a5d8-7edf62189b08')\"\n",
              "              title=\"Convert this dataframe to an interactive table.\"\n",
              "              style=\"display:none;\">\n",
              "        \n",
              "  <svg xmlns=\"http://www.w3.org/2000/svg\" height=\"24px\"viewBox=\"0 0 24 24\"\n",
              "       width=\"24px\">\n",
              "    <path d=\"M0 0h24v24H0V0z\" fill=\"none\"/>\n",
              "    <path d=\"M18.56 5.44l.94 2.06.94-2.06 2.06-.94-2.06-.94-.94-2.06-.94 2.06-2.06.94zm-11 1L8.5 8.5l.94-2.06 2.06-.94-2.06-.94L8.5 2.5l-.94 2.06-2.06.94zm10 10l.94 2.06.94-2.06 2.06-.94-2.06-.94-.94-2.06-.94 2.06-2.06.94z\"/><path d=\"M17.41 7.96l-1.37-1.37c-.4-.4-.92-.59-1.43-.59-.52 0-1.04.2-1.43.59L10.3 9.45l-7.72 7.72c-.78.78-.78 2.05 0 2.83L4 21.41c.39.39.9.59 1.41.59.51 0 1.02-.2 1.41-.59l7.78-7.78 2.81-2.81c.8-.78.8-2.07 0-2.86zM5.41 20L4 18.59l7.72-7.72 1.47 1.35L5.41 20z\"/>\n",
              "  </svg>\n",
              "      </button>\n",
              "      \n",
              "  <style>\n",
              "    .colab-df-container {\n",
              "      display:flex;\n",
              "      flex-wrap:wrap;\n",
              "      gap: 12px;\n",
              "    }\n",
              "\n",
              "    .colab-df-convert {\n",
              "      background-color: #E8F0FE;\n",
              "      border: none;\n",
              "      border-radius: 50%;\n",
              "      cursor: pointer;\n",
              "      display: none;\n",
              "      fill: #1967D2;\n",
              "      height: 32px;\n",
              "      padding: 0 0 0 0;\n",
              "      width: 32px;\n",
              "    }\n",
              "\n",
              "    .colab-df-convert:hover {\n",
              "      background-color: #E2EBFA;\n",
              "      box-shadow: 0px 1px 2px rgba(60, 64, 67, 0.3), 0px 1px 3px 1px rgba(60, 64, 67, 0.15);\n",
              "      fill: #174EA6;\n",
              "    }\n",
              "\n",
              "    [theme=dark] .colab-df-convert {\n",
              "      background-color: #3B4455;\n",
              "      fill: #D2E3FC;\n",
              "    }\n",
              "\n",
              "    [theme=dark] .colab-df-convert:hover {\n",
              "      background-color: #434B5C;\n",
              "      box-shadow: 0px 1px 3px 1px rgba(0, 0, 0, 0.15);\n",
              "      filter: drop-shadow(0px 1px 2px rgba(0, 0, 0, 0.3));\n",
              "      fill: #FFFFFF;\n",
              "    }\n",
              "  </style>\n",
              "\n",
              "      <script>\n",
              "        const buttonEl =\n",
              "          document.querySelector('#df-7001b972-2971-4417-a5d8-7edf62189b08 button.colab-df-convert');\n",
              "        buttonEl.style.display =\n",
              "          google.colab.kernel.accessAllowed ? 'block' : 'none';\n",
              "\n",
              "        async function convertToInteractive(key) {\n",
              "          const element = document.querySelector('#df-7001b972-2971-4417-a5d8-7edf62189b08');\n",
              "          const dataTable =\n",
              "            await google.colab.kernel.invokeFunction('convertToInteractive',\n",
              "                                                     [key], {});\n",
              "          if (!dataTable) return;\n",
              "\n",
              "          const docLinkHtml = 'Like what you see? Visit the ' +\n",
              "            '<a target=\"_blank\" href=https://colab.research.google.com/notebooks/data_table.ipynb>data table notebook</a>'\n",
              "            + ' to learn more about interactive tables.';\n",
              "          element.innerHTML = '';\n",
              "          dataTable['output_type'] = 'display_data';\n",
              "          await google.colab.output.renderOutput(dataTable, element);\n",
              "          const docLink = document.createElement('div');\n",
              "          docLink.innerHTML = docLinkHtml;\n",
              "          element.appendChild(docLink);\n",
              "        }\n",
              "      </script>\n",
              "    </div>\n",
              "  </div>\n",
              "  "
            ]
          },
          "metadata": {},
          "execution_count": 17
        }
      ],
      "source": [
        "## drop index and rename level_0 with index\n",
        "urlRelation.drop(['index'] , axis = 1 , inplace =True)\n",
        "urlRelation.rename({\"level_0\" : \"index\"} , axis =0 , inplace =True)\n",
        "urlRelation.head(3)"
      ]
    },
    {
      "cell_type": "code",
      "execution_count": null,
      "metadata": {
        "colab": {
          "base_uri": "https://localhost:8080/"
        },
        "id": "XkC5wm9sntVT",
        "outputId": "23ee6955-1a5a-4497-8f29-e317ea379110"
      },
      "outputs": [
        {
          "output_type": "execute_result",
          "data": {
            "text/plain": [
              "Index(['entities.urls', 'user.name', 'user.screen_name', 'url', 'display_url',\n",
              "       'expanded_url'],\n",
              "      dtype='object')"
            ]
          },
          "metadata": {},
          "execution_count": 18
        }
      ],
      "source": [
        "## increase alot of column to extract main info inside url\n",
        "urlRelation['display_url'] = 0\n",
        "urlRelation['expanded_url'] = 0\n",
        "\n",
        "urlRelation.columns"
      ]
    },
    {
      "cell_type": "code",
      "execution_count": null,
      "metadata": {
        "colab": {
          "base_uri": "https://localhost:8080/",
          "height": 54
        },
        "id": "jLOvpBVqmtun",
        "outputId": "c47170f4-0f5c-438d-cd7f-e7e353a0ec98"
      },
      "outputs": [
        {
          "output_type": "execute_result",
          "data": {
            "text/plain": [
              "\"[{'display_url': 'chng.it/T5bNhhJ74Z', 'indices': [0, 23], 'expanded_url': 'http://chng.it/T5bNhhJ74Z', 'url': 'https://t.co/zxs2zBKWTZ'}]\""
            ],
            "application/vnd.google.colaboratory.intrinsic+json": {
              "type": "string"
            }
          },
          "metadata": {},
          "execution_count": 19
        }
      ],
      "source": [
        "## print the first row \n",
        "urlRelation['entities.urls'][0]"
      ]
    },
    {
      "cell_type": "code",
      "execution_count": null,
      "metadata": {
        "colab": {
          "base_uri": "https://localhost:8080/",
          "height": 187
        },
        "id": "KlauLJMQooMu",
        "outputId": "65fae88f-1be8-4e21-c7f6-5aa3333f68ae"
      },
      "outputs": [
        {
          "output_type": "execute_result",
          "data": {
            "text/plain": [
              "                                       entities.urls      user.name  \\\n",
              "0  [{'display_url': 'chng.it/T5bNhhJ74Z', 'indice...    Pussygalore   \n",
              "1  [{'display_url': 'youtu.be/hQFFm_X2lps', 'indi...  cookie grouch   \n",
              "2  [{'display_url': 'hollywoodreporter.com/thr-es...     Priyanka 🍉   \n",
              "\n",
              "  user.screen_name  url  display_url  expanded_url  \n",
              "0  Pussyga96828631    0            0             0  \n",
              "1      cazprescott    0            0             0  \n",
              "2   PinkyPie_9912_    0            0             0  "
            ],
            "text/html": [
              "\n",
              "  <div id=\"df-4d57ffdc-3a33-4006-8135-ba2219658781\">\n",
              "    <div class=\"colab-df-container\">\n",
              "      <div>\n",
              "<style scoped>\n",
              "    .dataframe tbody tr th:only-of-type {\n",
              "        vertical-align: middle;\n",
              "    }\n",
              "\n",
              "    .dataframe tbody tr th {\n",
              "        vertical-align: top;\n",
              "    }\n",
              "\n",
              "    .dataframe thead th {\n",
              "        text-align: right;\n",
              "    }\n",
              "</style>\n",
              "<table border=\"1\" class=\"dataframe\">\n",
              "  <thead>\n",
              "    <tr style=\"text-align: right;\">\n",
              "      <th></th>\n",
              "      <th>entities.urls</th>\n",
              "      <th>user.name</th>\n",
              "      <th>user.screen_name</th>\n",
              "      <th>url</th>\n",
              "      <th>display_url</th>\n",
              "      <th>expanded_url</th>\n",
              "    </tr>\n",
              "  </thead>\n",
              "  <tbody>\n",
              "    <tr>\n",
              "      <th>0</th>\n",
              "      <td>[{'display_url': 'chng.it/T5bNhhJ74Z', 'indice...</td>\n",
              "      <td>Pussygalore</td>\n",
              "      <td>Pussyga96828631</td>\n",
              "      <td>0</td>\n",
              "      <td>0</td>\n",
              "      <td>0</td>\n",
              "    </tr>\n",
              "    <tr>\n",
              "      <th>1</th>\n",
              "      <td>[{'display_url': 'youtu.be/hQFFm_X2lps', 'indi...</td>\n",
              "      <td>cookie grouch</td>\n",
              "      <td>cazprescott</td>\n",
              "      <td>0</td>\n",
              "      <td>0</td>\n",
              "      <td>0</td>\n",
              "    </tr>\n",
              "    <tr>\n",
              "      <th>2</th>\n",
              "      <td>[{'display_url': 'hollywoodreporter.com/thr-es...</td>\n",
              "      <td>Priyanka 🍉</td>\n",
              "      <td>PinkyPie_9912_</td>\n",
              "      <td>0</td>\n",
              "      <td>0</td>\n",
              "      <td>0</td>\n",
              "    </tr>\n",
              "  </tbody>\n",
              "</table>\n",
              "</div>\n",
              "      <button class=\"colab-df-convert\" onclick=\"convertToInteractive('df-4d57ffdc-3a33-4006-8135-ba2219658781')\"\n",
              "              title=\"Convert this dataframe to an interactive table.\"\n",
              "              style=\"display:none;\">\n",
              "        \n",
              "  <svg xmlns=\"http://www.w3.org/2000/svg\" height=\"24px\"viewBox=\"0 0 24 24\"\n",
              "       width=\"24px\">\n",
              "    <path d=\"M0 0h24v24H0V0z\" fill=\"none\"/>\n",
              "    <path d=\"M18.56 5.44l.94 2.06.94-2.06 2.06-.94-2.06-.94-.94-2.06-.94 2.06-2.06.94zm-11 1L8.5 8.5l.94-2.06 2.06-.94-2.06-.94L8.5 2.5l-.94 2.06-2.06.94zm10 10l.94 2.06.94-2.06 2.06-.94-2.06-.94-.94-2.06-.94 2.06-2.06.94z\"/><path d=\"M17.41 7.96l-1.37-1.37c-.4-.4-.92-.59-1.43-.59-.52 0-1.04.2-1.43.59L10.3 9.45l-7.72 7.72c-.78.78-.78 2.05 0 2.83L4 21.41c.39.39.9.59 1.41.59.51 0 1.02-.2 1.41-.59l7.78-7.78 2.81-2.81c.8-.78.8-2.07 0-2.86zM5.41 20L4 18.59l7.72-7.72 1.47 1.35L5.41 20z\"/>\n",
              "  </svg>\n",
              "      </button>\n",
              "      \n",
              "  <style>\n",
              "    .colab-df-container {\n",
              "      display:flex;\n",
              "      flex-wrap:wrap;\n",
              "      gap: 12px;\n",
              "    }\n",
              "\n",
              "    .colab-df-convert {\n",
              "      background-color: #E8F0FE;\n",
              "      border: none;\n",
              "      border-radius: 50%;\n",
              "      cursor: pointer;\n",
              "      display: none;\n",
              "      fill: #1967D2;\n",
              "      height: 32px;\n",
              "      padding: 0 0 0 0;\n",
              "      width: 32px;\n",
              "    }\n",
              "\n",
              "    .colab-df-convert:hover {\n",
              "      background-color: #E2EBFA;\n",
              "      box-shadow: 0px 1px 2px rgba(60, 64, 67, 0.3), 0px 1px 3px 1px rgba(60, 64, 67, 0.15);\n",
              "      fill: #174EA6;\n",
              "    }\n",
              "\n",
              "    [theme=dark] .colab-df-convert {\n",
              "      background-color: #3B4455;\n",
              "      fill: #D2E3FC;\n",
              "    }\n",
              "\n",
              "    [theme=dark] .colab-df-convert:hover {\n",
              "      background-color: #434B5C;\n",
              "      box-shadow: 0px 1px 3px 1px rgba(0, 0, 0, 0.15);\n",
              "      filter: drop-shadow(0px 1px 2px rgba(0, 0, 0, 0.3));\n",
              "      fill: #FFFFFF;\n",
              "    }\n",
              "  </style>\n",
              "\n",
              "      <script>\n",
              "        const buttonEl =\n",
              "          document.querySelector('#df-4d57ffdc-3a33-4006-8135-ba2219658781 button.colab-df-convert');\n",
              "        buttonEl.style.display =\n",
              "          google.colab.kernel.accessAllowed ? 'block' : 'none';\n",
              "\n",
              "        async function convertToInteractive(key) {\n",
              "          const element = document.querySelector('#df-4d57ffdc-3a33-4006-8135-ba2219658781');\n",
              "          const dataTable =\n",
              "            await google.colab.kernel.invokeFunction('convertToInteractive',\n",
              "                                                     [key], {});\n",
              "          if (!dataTable) return;\n",
              "\n",
              "          const docLinkHtml = 'Like what you see? Visit the ' +\n",
              "            '<a target=\"_blank\" href=https://colab.research.google.com/notebooks/data_table.ipynb>data table notebook</a>'\n",
              "            + ' to learn more about interactive tables.';\n",
              "          element.innerHTML = '';\n",
              "          dataTable['output_type'] = 'display_data';\n",
              "          await google.colab.output.renderOutput(dataTable, element);\n",
              "          const docLink = document.createElement('div');\n",
              "          docLink.innerHTML = docLinkHtml;\n",
              "          element.appendChild(docLink);\n",
              "        }\n",
              "      </script>\n",
              "    </div>\n",
              "  </div>\n",
              "  "
            ]
          },
          "metadata": {},
          "execution_count": 20
        }
      ],
      "source": [
        "## print the first 5 row\n",
        "urlRelation.head(3)"
      ]
    },
    {
      "cell_type": "code",
      "execution_count": null,
      "metadata": {
        "colab": {
          "base_uri": "https://localhost:8080/",
          "height": 54
        },
        "id": "VfcAxiQvcECx",
        "outputId": "e7e20e60-ee51-403e-9c75-394a0026a18c"
      },
      "outputs": [
        {
          "output_type": "execute_result",
          "data": {
            "text/plain": [
              "\"[{'display_url': 'chng.it/T5bNhhJ74Z', 'indices': [0, 23], 'expanded_url': 'http://chng.it/T5bNhhJ74Z', 'url': 'https://t.co/zxs2zBKWTZ'}]\""
            ],
            "application/vnd.google.colaboratory.intrinsic+json": {
              "type": "string"
            }
          },
          "metadata": {},
          "execution_count": 21
        }
      ],
      "source": [
        "urlRelation['entities.urls'][0]"
      ]
    },
    {
      "cell_type": "code",
      "execution_count": null,
      "metadata": {
        "colab": {
          "base_uri": "https://localhost:8080/",
          "height": 54
        },
        "id": "GNp8ZGidcSSS",
        "outputId": "3b4f7d02-8653-4951-bbd1-2e3688643da3"
      },
      "outputs": [
        {
          "output_type": "execute_result",
          "data": {
            "text/plain": [
              "\"[{'display_url': 'instagram.com/p/CLrk2fgIay5/…', 'indices': [148, 171], 'expanded_url': 'https://www.instagram.com/p/CLrk2fgIay5/?igshid=w09luaruttap', 'url': 'https://t.co/vcE5SYH5ZH'}]\""
            ],
            "application/vnd.google.colaboratory.intrinsic+json": {
              "type": "string"
            }
          },
          "metadata": {},
          "execution_count": 22
        }
      ],
      "source": [
        "urlRelation['entities.urls'][7177]"
      ]
    },
    {
      "cell_type": "code",
      "execution_count": null,
      "metadata": {
        "colab": {
          "base_uri": "https://localhost:8080/"
        },
        "id": "au16gFjtf1Oa",
        "outputId": "9ec02cb9-7ab8-4c9c-e15b-c194c30cb7c9"
      },
      "outputs": [
        {
          "output_type": "stream",
          "name": "stderr",
          "text": [
            "/usr/local/lib/python3.7/dist-packages/ipykernel_launcher.py:4: SettingWithCopyWarning: \n",
            "A value is trying to be set on a copy of a slice from a DataFrame\n",
            "\n",
            "See the caveats in the documentation: https://pandas.pydata.org/pandas-docs/stable/user_guide/indexing.html#returning-a-view-versus-a-copy\n",
            "  after removing the cwd from sys.path.\n"
          ]
        }
      ],
      "source": [
        "## convert json data in url into dictionary\n",
        "import json\n",
        "for i in range(len(urlRelation)):\n",
        "    urlRelation['entities.urls'][i] = urlRelation['entities.urls'][i].replace(\"\\'\" , \"\\\"\")\n",
        "      "
      ]
    },
    {
      "cell_type": "code",
      "execution_count": null,
      "metadata": {
        "colab": {
          "base_uri": "https://localhost:8080/",
          "height": 54
        },
        "id": "vxGoIMzWztoR",
        "outputId": "6b03ca64-835d-4504-dddb-c4d99c9de100"
      },
      "outputs": [
        {
          "output_type": "execute_result",
          "data": {
            "text/plain": [
              "'[{\"display_url\": \"instagram.com/p/CLrk2fgIay5/…\", \"indices\": [148, 171], \"expanded_url\": \"https://www.instagram.com/p/CLrk2fgIay5/?igshid=w09luaruttap\", \"url\": \"https://t.co/vcE5SYH5ZH\"}]'"
            ],
            "application/vnd.google.colaboratory.intrinsic+json": {
              "type": "string"
            }
          },
          "metadata": {},
          "execution_count": 24
        }
      ],
      "source": [
        "urlRelation['entities.urls'][7177]"
      ]
    },
    {
      "cell_type": "code",
      "execution_count": null,
      "metadata": {
        "colab": {
          "base_uri": "https://localhost:8080/",
          "height": 54
        },
        "id": "8282rwN-cnpq",
        "outputId": "3ef839d4-53e7-49ac-c965-e5e1c8f70543"
      },
      "outputs": [
        {
          "output_type": "execute_result",
          "data": {
            "text/plain": [
              "'[{\"display_url\": \"chng.it/T5bNhhJ74Z\", \"indices\": [0, 23], \"expanded_url\": \"http://chng.it/T5bNhhJ74Z\", \"url\": \"https://t.co/zxs2zBKWTZ\"}]'"
            ],
            "application/vnd.google.colaboratory.intrinsic+json": {
              "type": "string"
            }
          },
          "metadata": {},
          "execution_count": 25
        }
      ],
      "source": [
        "urlRelation['entities.urls'][0]"
      ]
    },
    {
      "cell_type": "code",
      "execution_count": null,
      "metadata": {
        "colab": {
          "base_uri": "https://localhost:8080/",
          "height": 72
        },
        "id": "5_4phJk7b2Ps",
        "outputId": "2a343517-8342-48ba-98f2-bd9a099ce10f"
      },
      "outputs": [
        {
          "output_type": "execute_result",
          "data": {
            "text/plain": [
              "'[{\"display_url\": \"hollywoodreporter.com/thr-esq/amber-…\", \"indices\": [259, 282], \"expanded_url\": \"https://www.hollywoodreporter.com/thr-esq/amber-heard-donates-7m-divorce-920796\", \"url\": \"https://t.co/0tB7kr0xNS\"}]'"
            ],
            "application/vnd.google.colaboratory.intrinsic+json": {
              "type": "string"
            }
          },
          "metadata": {},
          "execution_count": 26
        }
      ],
      "source": [
        "urlRelation['entities.urls'][2]"
      ]
    },
    {
      "cell_type": "code",
      "execution_count": null,
      "metadata": {
        "id": "DEo67bpYmY7A"
      },
      "outputs": [],
      "source": [
        "df = urlRelation"
      ]
    },
    {
      "cell_type": "code",
      "execution_count": null,
      "metadata": {
        "colab": {
          "base_uri": "https://localhost:8080/"
        },
        "id": "mMnxnr-femNe",
        "outputId": "ff2578b8-1ff6-4c6e-bf6f-e5f3a9608ee3"
      },
      "outputs": [
        {
          "output_type": "execute_result",
          "data": {
            "text/plain": [
              "(22994, 6)"
            ]
          },
          "metadata": {},
          "execution_count": 28
        }
      ],
      "source": [
        "df.shape"
      ]
    },
    {
      "cell_type": "code",
      "execution_count": null,
      "metadata": {
        "colab": {
          "base_uri": "https://localhost:8080/",
          "height": 90
        },
        "id": "8JoanwfOga2D",
        "outputId": "f767860d-d1b4-4518-b103-7a815d152993"
      },
      "outputs": [
        {
          "output_type": "execute_result",
          "data": {
            "text/plain": [
              "'[{\"display_url\": \"theguardian.com/film/2020/jul/…\", \"indices\": [186, 209], \"expanded_url\": \"https://www.theguardian.com/film/2020/jul/15/amber-heard-antagoniser-rows-with-johnny-depp-court-told#:~:text=Amber%20Heard\"s%20former%20personal%20assistant,it%20into%20a%20different%20story.&text=Depp%20denies%20ever%20hitting%20Heard,she%20claims%20he%20assaulted%20her\", \"url\": \"https://t.co/9THtw24gTu\"}]'"
            ],
            "application/vnd.google.colaboratory.intrinsic+json": {
              "type": "string"
            }
          },
          "metadata": {},
          "execution_count": 29
        }
      ],
      "source": [
        "df['entities.urls'][9252]"
      ]
    },
    {
      "cell_type": "code",
      "execution_count": null,
      "metadata": {
        "colab": {
          "base_uri": "https://localhost:8080/",
          "height": 678
        },
        "id": "encE4mMihBPs",
        "outputId": "e5f8c22e-6ebd-41c3-a3cd-be7123cc1df4"
      },
      "outputs": [
        {
          "output_type": "execute_result",
          "data": {
            "text/plain": [
              "       index                                      entities.urls  \\\n",
              "0          0  [{\"display_url\": \"chng.it/T5bNhhJ74Z\", \"indice...   \n",
              "1          1  [{\"display_url\": \"youtu.be/hQFFm_X2lps\", \"indi...   \n",
              "2          2  [{\"display_url\": \"hollywoodreporter.com/thr-es...   \n",
              "3          3  [{\"display_url\": \"youtu.be/WzeENH6s3L4\", \"indi...   \n",
              "4          4  [{\"display_url\": \"youtu.be/WzeENH6s3L4\", \"indi...   \n",
              "...      ...                                                ...   \n",
              "22988  22989  [{\"display_url\": \"youtu.be/4bm-kTi-3go\", \"indi...   \n",
              "22989  22990  [{\"display_url\": \"sneakpeek.ca/2019/12/catwom…...   \n",
              "22990  22991  [{\"display_url\": \"change.org\", \"indices\": [53,...   \n",
              "22991  22992  [{\"display_url\": \"youtu.be/waXKykBTrQI\", \"indi...   \n",
              "22992  22993  [{\"display_url\": \"twitter.com/Astartiel/stat…\"...   \n",
              "\n",
              "                                               user.name user.screen_name  \\\n",
              "0                                            Pussygalore  Pussyga96828631   \n",
              "1                                          cookie grouch      cazprescott   \n",
              "2                                             Priyanka 🍉   PinkyPie_9912_   \n",
              "3                                              depp_fana         FanaDepp   \n",
              "4                                   theearthisamiracle71  theearthisamir1   \n",
              "...                                                  ...              ...   \n",
              "22988               Libby ♿️🏴‍☠️🇺🇸 #JusticeForJohnnyDepp   DeppSoldier_22   \n",
              "22989                                          SneakPeek      SNEAKPEEKCA   \n",
              "22990                                    Stephanie Brown  Stephan76215148   \n",
              "22991                                           DoubleR3       DoubleR310   \n",
              "22992  Jᴇɴɴɪᴇ Asᴛᴀʀᴛɪᴇʟ Isʜᴛᴀʀ Asᴇᴛ Iɴᴀɴɴᴀ Mᴏʀɴɪɴɢsᴛᴀʀ 🎶        Astartiel   \n",
              "\n",
              "       url  display_url  expanded_url  \n",
              "0        0            0             0  \n",
              "1        0            0             0  \n",
              "2        0            0             0  \n",
              "3        0            0             0  \n",
              "4        0            0             0  \n",
              "...    ...          ...           ...  \n",
              "22988    0            0             0  \n",
              "22989    0            0             0  \n",
              "22990    0            0             0  \n",
              "22991    0            0             0  \n",
              "22992    0            0             0  \n",
              "\n",
              "[22993 rows x 7 columns]"
            ],
            "text/html": [
              "\n",
              "  <div id=\"df-23d6cd88-4b64-4926-b084-0c313c525aab\">\n",
              "    <div class=\"colab-df-container\">\n",
              "      <div>\n",
              "<style scoped>\n",
              "    .dataframe tbody tr th:only-of-type {\n",
              "        vertical-align: middle;\n",
              "    }\n",
              "\n",
              "    .dataframe tbody tr th {\n",
              "        vertical-align: top;\n",
              "    }\n",
              "\n",
              "    .dataframe thead th {\n",
              "        text-align: right;\n",
              "    }\n",
              "</style>\n",
              "<table border=\"1\" class=\"dataframe\">\n",
              "  <thead>\n",
              "    <tr style=\"text-align: right;\">\n",
              "      <th></th>\n",
              "      <th>index</th>\n",
              "      <th>entities.urls</th>\n",
              "      <th>user.name</th>\n",
              "      <th>user.screen_name</th>\n",
              "      <th>url</th>\n",
              "      <th>display_url</th>\n",
              "      <th>expanded_url</th>\n",
              "    </tr>\n",
              "  </thead>\n",
              "  <tbody>\n",
              "    <tr>\n",
              "      <th>0</th>\n",
              "      <td>0</td>\n",
              "      <td>[{\"display_url\": \"chng.it/T5bNhhJ74Z\", \"indice...</td>\n",
              "      <td>Pussygalore</td>\n",
              "      <td>Pussyga96828631</td>\n",
              "      <td>0</td>\n",
              "      <td>0</td>\n",
              "      <td>0</td>\n",
              "    </tr>\n",
              "    <tr>\n",
              "      <th>1</th>\n",
              "      <td>1</td>\n",
              "      <td>[{\"display_url\": \"youtu.be/hQFFm_X2lps\", \"indi...</td>\n",
              "      <td>cookie grouch</td>\n",
              "      <td>cazprescott</td>\n",
              "      <td>0</td>\n",
              "      <td>0</td>\n",
              "      <td>0</td>\n",
              "    </tr>\n",
              "    <tr>\n",
              "      <th>2</th>\n",
              "      <td>2</td>\n",
              "      <td>[{\"display_url\": \"hollywoodreporter.com/thr-es...</td>\n",
              "      <td>Priyanka 🍉</td>\n",
              "      <td>PinkyPie_9912_</td>\n",
              "      <td>0</td>\n",
              "      <td>0</td>\n",
              "      <td>0</td>\n",
              "    </tr>\n",
              "    <tr>\n",
              "      <th>3</th>\n",
              "      <td>3</td>\n",
              "      <td>[{\"display_url\": \"youtu.be/WzeENH6s3L4\", \"indi...</td>\n",
              "      <td>depp_fana</td>\n",
              "      <td>FanaDepp</td>\n",
              "      <td>0</td>\n",
              "      <td>0</td>\n",
              "      <td>0</td>\n",
              "    </tr>\n",
              "    <tr>\n",
              "      <th>4</th>\n",
              "      <td>4</td>\n",
              "      <td>[{\"display_url\": \"youtu.be/WzeENH6s3L4\", \"indi...</td>\n",
              "      <td>theearthisamiracle71</td>\n",
              "      <td>theearthisamir1</td>\n",
              "      <td>0</td>\n",
              "      <td>0</td>\n",
              "      <td>0</td>\n",
              "    </tr>\n",
              "    <tr>\n",
              "      <th>...</th>\n",
              "      <td>...</td>\n",
              "      <td>...</td>\n",
              "      <td>...</td>\n",
              "      <td>...</td>\n",
              "      <td>...</td>\n",
              "      <td>...</td>\n",
              "      <td>...</td>\n",
              "    </tr>\n",
              "    <tr>\n",
              "      <th>22988</th>\n",
              "      <td>22989</td>\n",
              "      <td>[{\"display_url\": \"youtu.be/4bm-kTi-3go\", \"indi...</td>\n",
              "      <td>Libby ♿️🏴‍☠️🇺🇸 #JusticeForJohnnyDepp</td>\n",
              "      <td>DeppSoldier_22</td>\n",
              "      <td>0</td>\n",
              "      <td>0</td>\n",
              "      <td>0</td>\n",
              "    </tr>\n",
              "    <tr>\n",
              "      <th>22989</th>\n",
              "      <td>22990</td>\n",
              "      <td>[{\"display_url\": \"sneakpeek.ca/2019/12/catwom…...</td>\n",
              "      <td>SneakPeek</td>\n",
              "      <td>SNEAKPEEKCA</td>\n",
              "      <td>0</td>\n",
              "      <td>0</td>\n",
              "      <td>0</td>\n",
              "    </tr>\n",
              "    <tr>\n",
              "      <th>22990</th>\n",
              "      <td>22991</td>\n",
              "      <td>[{\"display_url\": \"change.org\", \"indices\": [53,...</td>\n",
              "      <td>Stephanie Brown</td>\n",
              "      <td>Stephan76215148</td>\n",
              "      <td>0</td>\n",
              "      <td>0</td>\n",
              "      <td>0</td>\n",
              "    </tr>\n",
              "    <tr>\n",
              "      <th>22991</th>\n",
              "      <td>22992</td>\n",
              "      <td>[{\"display_url\": \"youtu.be/waXKykBTrQI\", \"indi...</td>\n",
              "      <td>DoubleR3</td>\n",
              "      <td>DoubleR310</td>\n",
              "      <td>0</td>\n",
              "      <td>0</td>\n",
              "      <td>0</td>\n",
              "    </tr>\n",
              "    <tr>\n",
              "      <th>22992</th>\n",
              "      <td>22993</td>\n",
              "      <td>[{\"display_url\": \"twitter.com/Astartiel/stat…\"...</td>\n",
              "      <td>Jᴇɴɴɪᴇ Asᴛᴀʀᴛɪᴇʟ Isʜᴛᴀʀ Asᴇᴛ Iɴᴀɴɴᴀ Mᴏʀɴɪɴɢsᴛᴀʀ 🎶</td>\n",
              "      <td>Astartiel</td>\n",
              "      <td>0</td>\n",
              "      <td>0</td>\n",
              "      <td>0</td>\n",
              "    </tr>\n",
              "  </tbody>\n",
              "</table>\n",
              "<p>22993 rows × 7 columns</p>\n",
              "</div>\n",
              "      <button class=\"colab-df-convert\" onclick=\"convertToInteractive('df-23d6cd88-4b64-4926-b084-0c313c525aab')\"\n",
              "              title=\"Convert this dataframe to an interactive table.\"\n",
              "              style=\"display:none;\">\n",
              "        \n",
              "  <svg xmlns=\"http://www.w3.org/2000/svg\" height=\"24px\"viewBox=\"0 0 24 24\"\n",
              "       width=\"24px\">\n",
              "    <path d=\"M0 0h24v24H0V0z\" fill=\"none\"/>\n",
              "    <path d=\"M18.56 5.44l.94 2.06.94-2.06 2.06-.94-2.06-.94-.94-2.06-.94 2.06-2.06.94zm-11 1L8.5 8.5l.94-2.06 2.06-.94-2.06-.94L8.5 2.5l-.94 2.06-2.06.94zm10 10l.94 2.06.94-2.06 2.06-.94-2.06-.94-.94-2.06-.94 2.06-2.06.94z\"/><path d=\"M17.41 7.96l-1.37-1.37c-.4-.4-.92-.59-1.43-.59-.52 0-1.04.2-1.43.59L10.3 9.45l-7.72 7.72c-.78.78-.78 2.05 0 2.83L4 21.41c.39.39.9.59 1.41.59.51 0 1.02-.2 1.41-.59l7.78-7.78 2.81-2.81c.8-.78.8-2.07 0-2.86zM5.41 20L4 18.59l7.72-7.72 1.47 1.35L5.41 20z\"/>\n",
              "  </svg>\n",
              "      </button>\n",
              "      \n",
              "  <style>\n",
              "    .colab-df-container {\n",
              "      display:flex;\n",
              "      flex-wrap:wrap;\n",
              "      gap: 12px;\n",
              "    }\n",
              "\n",
              "    .colab-df-convert {\n",
              "      background-color: #E8F0FE;\n",
              "      border: none;\n",
              "      border-radius: 50%;\n",
              "      cursor: pointer;\n",
              "      display: none;\n",
              "      fill: #1967D2;\n",
              "      height: 32px;\n",
              "      padding: 0 0 0 0;\n",
              "      width: 32px;\n",
              "    }\n",
              "\n",
              "    .colab-df-convert:hover {\n",
              "      background-color: #E2EBFA;\n",
              "      box-shadow: 0px 1px 2px rgba(60, 64, 67, 0.3), 0px 1px 3px 1px rgba(60, 64, 67, 0.15);\n",
              "      fill: #174EA6;\n",
              "    }\n",
              "\n",
              "    [theme=dark] .colab-df-convert {\n",
              "      background-color: #3B4455;\n",
              "      fill: #D2E3FC;\n",
              "    }\n",
              "\n",
              "    [theme=dark] .colab-df-convert:hover {\n",
              "      background-color: #434B5C;\n",
              "      box-shadow: 0px 1px 3px 1px rgba(0, 0, 0, 0.15);\n",
              "      filter: drop-shadow(0px 1px 2px rgba(0, 0, 0, 0.3));\n",
              "      fill: #FFFFFF;\n",
              "    }\n",
              "  </style>\n",
              "\n",
              "      <script>\n",
              "        const buttonEl =\n",
              "          document.querySelector('#df-23d6cd88-4b64-4926-b084-0c313c525aab button.colab-df-convert');\n",
              "        buttonEl.style.display =\n",
              "          google.colab.kernel.accessAllowed ? 'block' : 'none';\n",
              "\n",
              "        async function convertToInteractive(key) {\n",
              "          const element = document.querySelector('#df-23d6cd88-4b64-4926-b084-0c313c525aab');\n",
              "          const dataTable =\n",
              "            await google.colab.kernel.invokeFunction('convertToInteractive',\n",
              "                                                     [key], {});\n",
              "          if (!dataTable) return;\n",
              "\n",
              "          const docLinkHtml = 'Like what you see? Visit the ' +\n",
              "            '<a target=\"_blank\" href=https://colab.research.google.com/notebooks/data_table.ipynb>data table notebook</a>'\n",
              "            + ' to learn more about interactive tables.';\n",
              "          element.innerHTML = '';\n",
              "          dataTable['output_type'] = 'display_data';\n",
              "          await google.colab.output.renderOutput(dataTable, element);\n",
              "          const docLink = document.createElement('div');\n",
              "          docLink.innerHTML = docLinkHtml;\n",
              "          element.appendChild(docLink);\n",
              "        }\n",
              "      </script>\n",
              "    </div>\n",
              "  </div>\n",
              "  "
            ]
          },
          "metadata": {},
          "execution_count": 30
        }
      ],
      "source": [
        "df.drop([2074] , inplace=True)\n",
        "df.reset_index()\n"
      ]
    },
    {
      "cell_type": "code",
      "execution_count": null,
      "metadata": {
        "colab": {
          "base_uri": "https://localhost:8080/"
        },
        "id": "LsBf9MInt6Ul",
        "outputId": "05eac033-5d9a-4aad-c45d-910e2592a3ae"
      },
      "outputs": [
        {
          "output_type": "execute_result",
          "data": {
            "text/plain": [
              "(22993, 6)"
            ]
          },
          "metadata": {},
          "execution_count": 31
        }
      ],
      "source": [
        "df.shape"
      ]
    },
    {
      "cell_type": "code",
      "execution_count": null,
      "metadata": {
        "colab": {
          "base_uri": "https://localhost:8080/"
        },
        "id": "05O7-fzkmlXe",
        "outputId": "3bb0d72f-0ca4-46d9-ca4b-f8ba90c66c73"
      },
      "outputs": [
        {
          "output_type": "execute_result",
          "data": {
            "text/plain": [
              "Index(['entities.urls', 'user.name', 'user.screen_name', 'url', 'display_url',\n",
              "       'expanded_url'],\n",
              "      dtype='object')"
            ]
          },
          "metadata": {},
          "execution_count": 32
        }
      ],
      "source": [
        "df.columns"
      ]
    },
    {
      "cell_type": "code",
      "execution_count": null,
      "metadata": {
        "colab": {
          "base_uri": "https://localhost:8080/"
        },
        "id": "ua2CCNqlgz6W",
        "outputId": "98e22cd8-84a3-4a38-8397-d79e506bac1e"
      },
      "outputs": [
        {
          "output_type": "stream",
          "name": "stderr",
          "text": [
            "/usr/local/lib/python3.7/dist-packages/ipykernel_launcher.py:8: SettingWithCopyWarning: \n",
            "A value is trying to be set on a copy of a slice from a DataFrame\n",
            "\n",
            "See the caveats in the documentation: https://pandas.pydata.org/pandas-docs/stable/user_guide/indexing.html#returning-a-view-versus-a-copy\n",
            "  \n"
          ]
        }
      ],
      "source": [
        "## convert json to object in url\n",
        "import json\n",
        "for index , row in df.iterrows():\n",
        "    if index in [9252 ,9668 , 18389]:\n",
        "        continue;\n",
        "    allData = row['entities.urls']\n",
        "    aDict = json.loads(allData)\n",
        "    df['entities.urls'][index] = aDict"
      ]
    },
    {
      "cell_type": "code",
      "execution_count": null,
      "metadata": {
        "id": "fItXviiirzY6"
      },
      "outputs": [],
      "source": [
        "df.drop([9252 ,9668 , 18389 ] , inplace = True)"
      ]
    },
    {
      "cell_type": "code",
      "execution_count": null,
      "metadata": {
        "colab": {
          "base_uri": "https://localhost:8080/",
          "height": 678
        },
        "id": "UeTUMZfmsel_",
        "outputId": "f6c69d65-f040-40e0-fad3-eba13eeca9b5"
      },
      "outputs": [
        {
          "output_type": "execute_result",
          "data": {
            "text/plain": [
              "       index                                      entities.urls  \\\n",
              "0          0  [{'display_url': 'chng.it/T5bNhhJ74Z', 'indice...   \n",
              "1          1  [{'display_url': 'youtu.be/hQFFm_X2lps', 'indi...   \n",
              "2          2  [{'display_url': 'hollywoodreporter.com/thr-es...   \n",
              "3          3  [{'display_url': 'youtu.be/WzeENH6s3L4', 'indi...   \n",
              "4          4  [{'display_url': 'youtu.be/WzeENH6s3L4', 'indi...   \n",
              "...      ...                                                ...   \n",
              "22985  22989  [{'display_url': 'youtu.be/4bm-kTi-3go', 'indi...   \n",
              "22986  22990  [{'display_url': 'sneakpeek.ca/2019/12/catwom…...   \n",
              "22987  22991  [{'display_url': 'change.org', 'indices': [53,...   \n",
              "22988  22992  [{'display_url': 'youtu.be/waXKykBTrQI', 'indi...   \n",
              "22989  22993  [{'display_url': 'twitter.com/Astartiel/stat…'...   \n",
              "\n",
              "                                               user.name user.screen_name  \\\n",
              "0                                            Pussygalore  Pussyga96828631   \n",
              "1                                          cookie grouch      cazprescott   \n",
              "2                                             Priyanka 🍉   PinkyPie_9912_   \n",
              "3                                              depp_fana         FanaDepp   \n",
              "4                                   theearthisamiracle71  theearthisamir1   \n",
              "...                                                  ...              ...   \n",
              "22985               Libby ♿️🏴‍☠️🇺🇸 #JusticeForJohnnyDepp   DeppSoldier_22   \n",
              "22986                                          SneakPeek      SNEAKPEEKCA   \n",
              "22987                                    Stephanie Brown  Stephan76215148   \n",
              "22988                                           DoubleR3       DoubleR310   \n",
              "22989  Jᴇɴɴɪᴇ Asᴛᴀʀᴛɪᴇʟ Isʜᴛᴀʀ Asᴇᴛ Iɴᴀɴɴᴀ Mᴏʀɴɪɴɢsᴛᴀʀ 🎶        Astartiel   \n",
              "\n",
              "       url  display_url  expanded_url  \n",
              "0        0            0             0  \n",
              "1        0            0             0  \n",
              "2        0            0             0  \n",
              "3        0            0             0  \n",
              "4        0            0             0  \n",
              "...    ...          ...           ...  \n",
              "22985    0            0             0  \n",
              "22986    0            0             0  \n",
              "22987    0            0             0  \n",
              "22988    0            0             0  \n",
              "22989    0            0             0  \n",
              "\n",
              "[22990 rows x 7 columns]"
            ],
            "text/html": [
              "\n",
              "  <div id=\"df-af2eb1f4-fb0b-47e3-a292-3274fd43ae3e\">\n",
              "    <div class=\"colab-df-container\">\n",
              "      <div>\n",
              "<style scoped>\n",
              "    .dataframe tbody tr th:only-of-type {\n",
              "        vertical-align: middle;\n",
              "    }\n",
              "\n",
              "    .dataframe tbody tr th {\n",
              "        vertical-align: top;\n",
              "    }\n",
              "\n",
              "    .dataframe thead th {\n",
              "        text-align: right;\n",
              "    }\n",
              "</style>\n",
              "<table border=\"1\" class=\"dataframe\">\n",
              "  <thead>\n",
              "    <tr style=\"text-align: right;\">\n",
              "      <th></th>\n",
              "      <th>index</th>\n",
              "      <th>entities.urls</th>\n",
              "      <th>user.name</th>\n",
              "      <th>user.screen_name</th>\n",
              "      <th>url</th>\n",
              "      <th>display_url</th>\n",
              "      <th>expanded_url</th>\n",
              "    </tr>\n",
              "  </thead>\n",
              "  <tbody>\n",
              "    <tr>\n",
              "      <th>0</th>\n",
              "      <td>0</td>\n",
              "      <td>[{'display_url': 'chng.it/T5bNhhJ74Z', 'indice...</td>\n",
              "      <td>Pussygalore</td>\n",
              "      <td>Pussyga96828631</td>\n",
              "      <td>0</td>\n",
              "      <td>0</td>\n",
              "      <td>0</td>\n",
              "    </tr>\n",
              "    <tr>\n",
              "      <th>1</th>\n",
              "      <td>1</td>\n",
              "      <td>[{'display_url': 'youtu.be/hQFFm_X2lps', 'indi...</td>\n",
              "      <td>cookie grouch</td>\n",
              "      <td>cazprescott</td>\n",
              "      <td>0</td>\n",
              "      <td>0</td>\n",
              "      <td>0</td>\n",
              "    </tr>\n",
              "    <tr>\n",
              "      <th>2</th>\n",
              "      <td>2</td>\n",
              "      <td>[{'display_url': 'hollywoodreporter.com/thr-es...</td>\n",
              "      <td>Priyanka 🍉</td>\n",
              "      <td>PinkyPie_9912_</td>\n",
              "      <td>0</td>\n",
              "      <td>0</td>\n",
              "      <td>0</td>\n",
              "    </tr>\n",
              "    <tr>\n",
              "      <th>3</th>\n",
              "      <td>3</td>\n",
              "      <td>[{'display_url': 'youtu.be/WzeENH6s3L4', 'indi...</td>\n",
              "      <td>depp_fana</td>\n",
              "      <td>FanaDepp</td>\n",
              "      <td>0</td>\n",
              "      <td>0</td>\n",
              "      <td>0</td>\n",
              "    </tr>\n",
              "    <tr>\n",
              "      <th>4</th>\n",
              "      <td>4</td>\n",
              "      <td>[{'display_url': 'youtu.be/WzeENH6s3L4', 'indi...</td>\n",
              "      <td>theearthisamiracle71</td>\n",
              "      <td>theearthisamir1</td>\n",
              "      <td>0</td>\n",
              "      <td>0</td>\n",
              "      <td>0</td>\n",
              "    </tr>\n",
              "    <tr>\n",
              "      <th>...</th>\n",
              "      <td>...</td>\n",
              "      <td>...</td>\n",
              "      <td>...</td>\n",
              "      <td>...</td>\n",
              "      <td>...</td>\n",
              "      <td>...</td>\n",
              "      <td>...</td>\n",
              "    </tr>\n",
              "    <tr>\n",
              "      <th>22985</th>\n",
              "      <td>22989</td>\n",
              "      <td>[{'display_url': 'youtu.be/4bm-kTi-3go', 'indi...</td>\n",
              "      <td>Libby ♿️🏴‍☠️🇺🇸 #JusticeForJohnnyDepp</td>\n",
              "      <td>DeppSoldier_22</td>\n",
              "      <td>0</td>\n",
              "      <td>0</td>\n",
              "      <td>0</td>\n",
              "    </tr>\n",
              "    <tr>\n",
              "      <th>22986</th>\n",
              "      <td>22990</td>\n",
              "      <td>[{'display_url': 'sneakpeek.ca/2019/12/catwom…...</td>\n",
              "      <td>SneakPeek</td>\n",
              "      <td>SNEAKPEEKCA</td>\n",
              "      <td>0</td>\n",
              "      <td>0</td>\n",
              "      <td>0</td>\n",
              "    </tr>\n",
              "    <tr>\n",
              "      <th>22987</th>\n",
              "      <td>22991</td>\n",
              "      <td>[{'display_url': 'change.org', 'indices': [53,...</td>\n",
              "      <td>Stephanie Brown</td>\n",
              "      <td>Stephan76215148</td>\n",
              "      <td>0</td>\n",
              "      <td>0</td>\n",
              "      <td>0</td>\n",
              "    </tr>\n",
              "    <tr>\n",
              "      <th>22988</th>\n",
              "      <td>22992</td>\n",
              "      <td>[{'display_url': 'youtu.be/waXKykBTrQI', 'indi...</td>\n",
              "      <td>DoubleR3</td>\n",
              "      <td>DoubleR310</td>\n",
              "      <td>0</td>\n",
              "      <td>0</td>\n",
              "      <td>0</td>\n",
              "    </tr>\n",
              "    <tr>\n",
              "      <th>22989</th>\n",
              "      <td>22993</td>\n",
              "      <td>[{'display_url': 'twitter.com/Astartiel/stat…'...</td>\n",
              "      <td>Jᴇɴɴɪᴇ Asᴛᴀʀᴛɪᴇʟ Isʜᴛᴀʀ Asᴇᴛ Iɴᴀɴɴᴀ Mᴏʀɴɪɴɢsᴛᴀʀ 🎶</td>\n",
              "      <td>Astartiel</td>\n",
              "      <td>0</td>\n",
              "      <td>0</td>\n",
              "      <td>0</td>\n",
              "    </tr>\n",
              "  </tbody>\n",
              "</table>\n",
              "<p>22990 rows × 7 columns</p>\n",
              "</div>\n",
              "      <button class=\"colab-df-convert\" onclick=\"convertToInteractive('df-af2eb1f4-fb0b-47e3-a292-3274fd43ae3e')\"\n",
              "              title=\"Convert this dataframe to an interactive table.\"\n",
              "              style=\"display:none;\">\n",
              "        \n",
              "  <svg xmlns=\"http://www.w3.org/2000/svg\" height=\"24px\"viewBox=\"0 0 24 24\"\n",
              "       width=\"24px\">\n",
              "    <path d=\"M0 0h24v24H0V0z\" fill=\"none\"/>\n",
              "    <path d=\"M18.56 5.44l.94 2.06.94-2.06 2.06-.94-2.06-.94-.94-2.06-.94 2.06-2.06.94zm-11 1L8.5 8.5l.94-2.06 2.06-.94-2.06-.94L8.5 2.5l-.94 2.06-2.06.94zm10 10l.94 2.06.94-2.06 2.06-.94-2.06-.94-.94-2.06-.94 2.06-2.06.94z\"/><path d=\"M17.41 7.96l-1.37-1.37c-.4-.4-.92-.59-1.43-.59-.52 0-1.04.2-1.43.59L10.3 9.45l-7.72 7.72c-.78.78-.78 2.05 0 2.83L4 21.41c.39.39.9.59 1.41.59.51 0 1.02-.2 1.41-.59l7.78-7.78 2.81-2.81c.8-.78.8-2.07 0-2.86zM5.41 20L4 18.59l7.72-7.72 1.47 1.35L5.41 20z\"/>\n",
              "  </svg>\n",
              "      </button>\n",
              "      \n",
              "  <style>\n",
              "    .colab-df-container {\n",
              "      display:flex;\n",
              "      flex-wrap:wrap;\n",
              "      gap: 12px;\n",
              "    }\n",
              "\n",
              "    .colab-df-convert {\n",
              "      background-color: #E8F0FE;\n",
              "      border: none;\n",
              "      border-radius: 50%;\n",
              "      cursor: pointer;\n",
              "      display: none;\n",
              "      fill: #1967D2;\n",
              "      height: 32px;\n",
              "      padding: 0 0 0 0;\n",
              "      width: 32px;\n",
              "    }\n",
              "\n",
              "    .colab-df-convert:hover {\n",
              "      background-color: #E2EBFA;\n",
              "      box-shadow: 0px 1px 2px rgba(60, 64, 67, 0.3), 0px 1px 3px 1px rgba(60, 64, 67, 0.15);\n",
              "      fill: #174EA6;\n",
              "    }\n",
              "\n",
              "    [theme=dark] .colab-df-convert {\n",
              "      background-color: #3B4455;\n",
              "      fill: #D2E3FC;\n",
              "    }\n",
              "\n",
              "    [theme=dark] .colab-df-convert:hover {\n",
              "      background-color: #434B5C;\n",
              "      box-shadow: 0px 1px 3px 1px rgba(0, 0, 0, 0.15);\n",
              "      filter: drop-shadow(0px 1px 2px rgba(0, 0, 0, 0.3));\n",
              "      fill: #FFFFFF;\n",
              "    }\n",
              "  </style>\n",
              "\n",
              "      <script>\n",
              "        const buttonEl =\n",
              "          document.querySelector('#df-af2eb1f4-fb0b-47e3-a292-3274fd43ae3e button.colab-df-convert');\n",
              "        buttonEl.style.display =\n",
              "          google.colab.kernel.accessAllowed ? 'block' : 'none';\n",
              "\n",
              "        async function convertToInteractive(key) {\n",
              "          const element = document.querySelector('#df-af2eb1f4-fb0b-47e3-a292-3274fd43ae3e');\n",
              "          const dataTable =\n",
              "            await google.colab.kernel.invokeFunction('convertToInteractive',\n",
              "                                                     [key], {});\n",
              "          if (!dataTable) return;\n",
              "\n",
              "          const docLinkHtml = 'Like what you see? Visit the ' +\n",
              "            '<a target=\"_blank\" href=https://colab.research.google.com/notebooks/data_table.ipynb>data table notebook</a>'\n",
              "            + ' to learn more about interactive tables.';\n",
              "          element.innerHTML = '';\n",
              "          dataTable['output_type'] = 'display_data';\n",
              "          await google.colab.output.renderOutput(dataTable, element);\n",
              "          const docLink = document.createElement('div');\n",
              "          docLink.innerHTML = docLinkHtml;\n",
              "          element.appendChild(docLink);\n",
              "        }\n",
              "      </script>\n",
              "    </div>\n",
              "  </div>\n",
              "  "
            ]
          },
          "metadata": {},
          "execution_count": 35
        }
      ],
      "source": [
        "df.reset_index()"
      ]
    },
    {
      "cell_type": "code",
      "execution_count": null,
      "metadata": {
        "colab": {
          "base_uri": "https://localhost:8080/"
        },
        "id": "4qW5y9Zm1M7J",
        "outputId": "0ab87492-a87f-4084-cb36-dba384ddd911"
      },
      "outputs": [
        {
          "output_type": "execute_result",
          "data": {
            "text/plain": [
              "Index(['entities.urls', 'user.name', 'user.screen_name', 'url', 'display_url',\n",
              "       'expanded_url'],\n",
              "      dtype='object')"
            ]
          },
          "metadata": {},
          "execution_count": 36
        }
      ],
      "source": [
        "## print columns \n",
        "df.columns"
      ]
    },
    {
      "cell_type": "code",
      "execution_count": null,
      "metadata": {
        "colab": {
          "base_uri": "https://localhost:8080/"
        },
        "id": "5omDDTEGqmhW",
        "outputId": "61ac577b-3806-4a9d-ff3b-437d13bc4162"
      },
      "outputs": [
        {
          "output_type": "execute_result",
          "data": {
            "text/plain": [
              "{'display_url': 'my24group.com/johnny-depp-am…',\n",
              " 'expanded_url': 'https://my24group.com/johnny-depp-amber-heard-vor-gericht-johnny-depp-macht-ex-amber-heard-neue-schwere-vorwurfe/',\n",
              " 'indices': [145, 168],\n",
              " 'url': 'https://t.co/xMNrdojKFY'}"
            ]
          },
          "metadata": {},
          "execution_count": 37
        }
      ],
      "source": [
        "df['entities.urls'][16200][1]"
      ]
    },
    {
      "cell_type": "code",
      "execution_count": null,
      "metadata": {
        "colab": {
          "base_uri": "https://localhost:8080/"
        },
        "id": "1c4sfvO4rG_B",
        "outputId": "da1530c1-f8e0-402b-d703-9783aacf18e8"
      },
      "outputs": [
        {
          "output_type": "execute_result",
          "data": {
            "text/plain": [
              "Index(['entities.urls', 'user.name', 'user.screen_name', 'url', 'display_url',\n",
              "       'expanded_url'],\n",
              "      dtype='object')"
            ]
          },
          "metadata": {},
          "execution_count": 38
        }
      ],
      "source": [
        "df.columns"
      ]
    },
    {
      "cell_type": "code",
      "execution_count": null,
      "metadata": {
        "colab": {
          "base_uri": "https://localhost:8080/"
        },
        "id": "Q1ZI212k1InS",
        "outputId": "59f739fd-e29e-4b4d-e79e-4da2f2a2383c"
      },
      "outputs": [
        {
          "output_type": "stream",
          "name": "stderr",
          "text": [
            "/usr/local/lib/python3.7/dist-packages/ipykernel_launcher.py:6: SettingWithCopyWarning: \n",
            "A value is trying to be set on a copy of a slice from a DataFrame\n",
            "\n",
            "See the caveats in the documentation: https://pandas.pydata.org/pandas-docs/stable/user_guide/indexing.html#returning-a-view-versus-a-copy\n",
            "  \n",
            "/usr/local/lib/python3.7/dist-packages/pandas/core/indexing.py:1732: SettingWithCopyWarning: \n",
            "A value is trying to be set on a copy of a slice from a DataFrame\n",
            "\n",
            "See the caveats in the documentation: https://pandas.pydata.org/pandas-docs/stable/user_guide/indexing.html#returning-a-view-versus-a-copy\n",
            "  self._setitem_single_block(indexer, value, name)\n",
            "/usr/local/lib/python3.7/dist-packages/ipykernel_launcher.py:7: SettingWithCopyWarning: \n",
            "A value is trying to be set on a copy of a slice from a DataFrame\n",
            "\n",
            "See the caveats in the documentation: https://pandas.pydata.org/pandas-docs/stable/user_guide/indexing.html#returning-a-view-versus-a-copy\n",
            "  import sys\n",
            "/usr/local/lib/python3.7/dist-packages/ipykernel_launcher.py:8: SettingWithCopyWarning: \n",
            "A value is trying to be set on a copy of a slice from a DataFrame\n",
            "\n",
            "See the caveats in the documentation: https://pandas.pydata.org/pandas-docs/stable/user_guide/indexing.html#returning-a-view-versus-a-copy\n",
            "  \n"
          ]
        }
      ],
      "source": [
        "## extract All info inside url\n",
        "for index , row in df.iterrows():\n",
        "    if index in [16200 , 16236]:\n",
        "        continue;\n",
        "    allInfo = row['entities.urls'][0]\n",
        "    df['display_url'][index] = allInfo['display_url']\n",
        "    df['expanded_url'][index] = allInfo['expanded_url']\n",
        "    df['url'][index] = allInfo['url']\n"
      ]
    },
    {
      "cell_type": "code",
      "execution_count": null,
      "metadata": {
        "colab": {
          "base_uri": "https://localhost:8080/",
          "height": 678
        },
        "id": "obEX-VwEtNHO",
        "outputId": "6793c27b-14d9-44f3-aee3-e0946ad39dd1"
      },
      "outputs": [
        {
          "output_type": "execute_result",
          "data": {
            "text/plain": [
              "       index                                      entities.urls  \\\n",
              "0          0  [{'display_url': 'chng.it/T5bNhhJ74Z', 'indice...   \n",
              "1          1  [{'display_url': 'youtu.be/hQFFm_X2lps', 'indi...   \n",
              "2          2  [{'display_url': 'hollywoodreporter.com/thr-es...   \n",
              "3          3  [{'display_url': 'youtu.be/WzeENH6s3L4', 'indi...   \n",
              "4          4  [{'display_url': 'youtu.be/WzeENH6s3L4', 'indi...   \n",
              "...      ...                                                ...   \n",
              "22983  22989  [{'display_url': 'youtu.be/4bm-kTi-3go', 'indi...   \n",
              "22984  22990  [{'display_url': 'sneakpeek.ca/2019/12/catwom…...   \n",
              "22985  22991  [{'display_url': 'change.org', 'indices': [53,...   \n",
              "22986  22992  [{'display_url': 'youtu.be/waXKykBTrQI', 'indi...   \n",
              "22987  22993  [{'display_url': 'twitter.com/Astartiel/stat…'...   \n",
              "\n",
              "                                               user.name user.screen_name  \\\n",
              "0                                            Pussygalore  Pussyga96828631   \n",
              "1                                          cookie grouch      cazprescott   \n",
              "2                                             Priyanka 🍉   PinkyPie_9912_   \n",
              "3                                              depp_fana         FanaDepp   \n",
              "4                                   theearthisamiracle71  theearthisamir1   \n",
              "...                                                  ...              ...   \n",
              "22983               Libby ♿️🏴‍☠️🇺🇸 #JusticeForJohnnyDepp   DeppSoldier_22   \n",
              "22984                                          SneakPeek      SNEAKPEEKCA   \n",
              "22985                                    Stephanie Brown  Stephan76215148   \n",
              "22986                                           DoubleR3       DoubleR310   \n",
              "22987  Jᴇɴɴɪᴇ Asᴛᴀʀᴛɪᴇʟ Isʜᴛᴀʀ Asᴇᴛ Iɴᴀɴɴᴀ Mᴏʀɴɪɴɢsᴛᴀʀ 🎶        Astartiel   \n",
              "\n",
              "                           url                            display_url  \\\n",
              "0      https://t.co/zxs2zBKWTZ                     chng.it/T5bNhhJ74Z   \n",
              "1      https://t.co/cCDsAIVGUi                   youtu.be/hQFFm_X2lps   \n",
              "2      https://t.co/0tB7kr0xNS  hollywoodreporter.com/thr-esq/amber-…   \n",
              "3      https://t.co/ECDzX1d9JP                   youtu.be/WzeENH6s3L4   \n",
              "4      https://t.co/vgl8sZuc4w                   youtu.be/WzeENH6s3L4   \n",
              "...                        ...                                    ...   \n",
              "22983  https://t.co/yH0qerURVd                   youtu.be/4bm-kTi-3go   \n",
              "22984  https://t.co/JE53QYmR3r           sneakpeek.ca/2019/12/catwom…   \n",
              "22985  https://t.co/zjz4qyO30Y                             change.org   \n",
              "22986  https://t.co/UIDQw7a4c2                   youtu.be/waXKykBTrQI   \n",
              "22987  https://t.co/GOOQGL79GP            twitter.com/Astartiel/stat…   \n",
              "\n",
              "                                            expanded_url  \n",
              "0                              http://chng.it/T5bNhhJ74Z  \n",
              "1                           https://youtu.be/hQFFm_X2lps  \n",
              "2      https://www.hollywoodreporter.com/thr-esq/ambe...  \n",
              "3                           https://youtu.be/WzeENH6s3L4  \n",
              "4                           https://youtu.be/WzeENH6s3L4  \n",
              "...                                                  ...  \n",
              "22983                       https://youtu.be/4bm-kTi-3go  \n",
              "22984  http://www.sneakpeek.ca/2019/12/catwoman-masks...  \n",
              "22985                                  http://change.org  \n",
              "22986                       https://youtu.be/waXKykBTrQI  \n",
              "22987  https://twitter.com/Astartiel/status/137989817...  \n",
              "\n",
              "[22988 rows x 7 columns]"
            ],
            "text/html": [
              "\n",
              "  <div id=\"df-25e443f8-6010-49ae-a3ac-b897fbbae098\">\n",
              "    <div class=\"colab-df-container\">\n",
              "      <div>\n",
              "<style scoped>\n",
              "    .dataframe tbody tr th:only-of-type {\n",
              "        vertical-align: middle;\n",
              "    }\n",
              "\n",
              "    .dataframe tbody tr th {\n",
              "        vertical-align: top;\n",
              "    }\n",
              "\n",
              "    .dataframe thead th {\n",
              "        text-align: right;\n",
              "    }\n",
              "</style>\n",
              "<table border=\"1\" class=\"dataframe\">\n",
              "  <thead>\n",
              "    <tr style=\"text-align: right;\">\n",
              "      <th></th>\n",
              "      <th>index</th>\n",
              "      <th>entities.urls</th>\n",
              "      <th>user.name</th>\n",
              "      <th>user.screen_name</th>\n",
              "      <th>url</th>\n",
              "      <th>display_url</th>\n",
              "      <th>expanded_url</th>\n",
              "    </tr>\n",
              "  </thead>\n",
              "  <tbody>\n",
              "    <tr>\n",
              "      <th>0</th>\n",
              "      <td>0</td>\n",
              "      <td>[{'display_url': 'chng.it/T5bNhhJ74Z', 'indice...</td>\n",
              "      <td>Pussygalore</td>\n",
              "      <td>Pussyga96828631</td>\n",
              "      <td>https://t.co/zxs2zBKWTZ</td>\n",
              "      <td>chng.it/T5bNhhJ74Z</td>\n",
              "      <td>http://chng.it/T5bNhhJ74Z</td>\n",
              "    </tr>\n",
              "    <tr>\n",
              "      <th>1</th>\n",
              "      <td>1</td>\n",
              "      <td>[{'display_url': 'youtu.be/hQFFm_X2lps', 'indi...</td>\n",
              "      <td>cookie grouch</td>\n",
              "      <td>cazprescott</td>\n",
              "      <td>https://t.co/cCDsAIVGUi</td>\n",
              "      <td>youtu.be/hQFFm_X2lps</td>\n",
              "      <td>https://youtu.be/hQFFm_X2lps</td>\n",
              "    </tr>\n",
              "    <tr>\n",
              "      <th>2</th>\n",
              "      <td>2</td>\n",
              "      <td>[{'display_url': 'hollywoodreporter.com/thr-es...</td>\n",
              "      <td>Priyanka 🍉</td>\n",
              "      <td>PinkyPie_9912_</td>\n",
              "      <td>https://t.co/0tB7kr0xNS</td>\n",
              "      <td>hollywoodreporter.com/thr-esq/amber-…</td>\n",
              "      <td>https://www.hollywoodreporter.com/thr-esq/ambe...</td>\n",
              "    </tr>\n",
              "    <tr>\n",
              "      <th>3</th>\n",
              "      <td>3</td>\n",
              "      <td>[{'display_url': 'youtu.be/WzeENH6s3L4', 'indi...</td>\n",
              "      <td>depp_fana</td>\n",
              "      <td>FanaDepp</td>\n",
              "      <td>https://t.co/ECDzX1d9JP</td>\n",
              "      <td>youtu.be/WzeENH6s3L4</td>\n",
              "      <td>https://youtu.be/WzeENH6s3L4</td>\n",
              "    </tr>\n",
              "    <tr>\n",
              "      <th>4</th>\n",
              "      <td>4</td>\n",
              "      <td>[{'display_url': 'youtu.be/WzeENH6s3L4', 'indi...</td>\n",
              "      <td>theearthisamiracle71</td>\n",
              "      <td>theearthisamir1</td>\n",
              "      <td>https://t.co/vgl8sZuc4w</td>\n",
              "      <td>youtu.be/WzeENH6s3L4</td>\n",
              "      <td>https://youtu.be/WzeENH6s3L4</td>\n",
              "    </tr>\n",
              "    <tr>\n",
              "      <th>...</th>\n",
              "      <td>...</td>\n",
              "      <td>...</td>\n",
              "      <td>...</td>\n",
              "      <td>...</td>\n",
              "      <td>...</td>\n",
              "      <td>...</td>\n",
              "      <td>...</td>\n",
              "    </tr>\n",
              "    <tr>\n",
              "      <th>22983</th>\n",
              "      <td>22989</td>\n",
              "      <td>[{'display_url': 'youtu.be/4bm-kTi-3go', 'indi...</td>\n",
              "      <td>Libby ♿️🏴‍☠️🇺🇸 #JusticeForJohnnyDepp</td>\n",
              "      <td>DeppSoldier_22</td>\n",
              "      <td>https://t.co/yH0qerURVd</td>\n",
              "      <td>youtu.be/4bm-kTi-3go</td>\n",
              "      <td>https://youtu.be/4bm-kTi-3go</td>\n",
              "    </tr>\n",
              "    <tr>\n",
              "      <th>22984</th>\n",
              "      <td>22990</td>\n",
              "      <td>[{'display_url': 'sneakpeek.ca/2019/12/catwom…...</td>\n",
              "      <td>SneakPeek</td>\n",
              "      <td>SNEAKPEEKCA</td>\n",
              "      <td>https://t.co/JE53QYmR3r</td>\n",
              "      <td>sneakpeek.ca/2019/12/catwom…</td>\n",
              "      <td>http://www.sneakpeek.ca/2019/12/catwoman-masks...</td>\n",
              "    </tr>\n",
              "    <tr>\n",
              "      <th>22985</th>\n",
              "      <td>22991</td>\n",
              "      <td>[{'display_url': 'change.org', 'indices': [53,...</td>\n",
              "      <td>Stephanie Brown</td>\n",
              "      <td>Stephan76215148</td>\n",
              "      <td>https://t.co/zjz4qyO30Y</td>\n",
              "      <td>change.org</td>\n",
              "      <td>http://change.org</td>\n",
              "    </tr>\n",
              "    <tr>\n",
              "      <th>22986</th>\n",
              "      <td>22992</td>\n",
              "      <td>[{'display_url': 'youtu.be/waXKykBTrQI', 'indi...</td>\n",
              "      <td>DoubleR3</td>\n",
              "      <td>DoubleR310</td>\n",
              "      <td>https://t.co/UIDQw7a4c2</td>\n",
              "      <td>youtu.be/waXKykBTrQI</td>\n",
              "      <td>https://youtu.be/waXKykBTrQI</td>\n",
              "    </tr>\n",
              "    <tr>\n",
              "      <th>22987</th>\n",
              "      <td>22993</td>\n",
              "      <td>[{'display_url': 'twitter.com/Astartiel/stat…'...</td>\n",
              "      <td>Jᴇɴɴɪᴇ Asᴛᴀʀᴛɪᴇʟ Isʜᴛᴀʀ Asᴇᴛ Iɴᴀɴɴᴀ Mᴏʀɴɪɴɢsᴛᴀʀ 🎶</td>\n",
              "      <td>Astartiel</td>\n",
              "      <td>https://t.co/GOOQGL79GP</td>\n",
              "      <td>twitter.com/Astartiel/stat…</td>\n",
              "      <td>https://twitter.com/Astartiel/status/137989817...</td>\n",
              "    </tr>\n",
              "  </tbody>\n",
              "</table>\n",
              "<p>22988 rows × 7 columns</p>\n",
              "</div>\n",
              "      <button class=\"colab-df-convert\" onclick=\"convertToInteractive('df-25e443f8-6010-49ae-a3ac-b897fbbae098')\"\n",
              "              title=\"Convert this dataframe to an interactive table.\"\n",
              "              style=\"display:none;\">\n",
              "        \n",
              "  <svg xmlns=\"http://www.w3.org/2000/svg\" height=\"24px\"viewBox=\"0 0 24 24\"\n",
              "       width=\"24px\">\n",
              "    <path d=\"M0 0h24v24H0V0z\" fill=\"none\"/>\n",
              "    <path d=\"M18.56 5.44l.94 2.06.94-2.06 2.06-.94-2.06-.94-.94-2.06-.94 2.06-2.06.94zm-11 1L8.5 8.5l.94-2.06 2.06-.94-2.06-.94L8.5 2.5l-.94 2.06-2.06.94zm10 10l.94 2.06.94-2.06 2.06-.94-2.06-.94-.94-2.06-.94 2.06-2.06.94z\"/><path d=\"M17.41 7.96l-1.37-1.37c-.4-.4-.92-.59-1.43-.59-.52 0-1.04.2-1.43.59L10.3 9.45l-7.72 7.72c-.78.78-.78 2.05 0 2.83L4 21.41c.39.39.9.59 1.41.59.51 0 1.02-.2 1.41-.59l7.78-7.78 2.81-2.81c.8-.78.8-2.07 0-2.86zM5.41 20L4 18.59l7.72-7.72 1.47 1.35L5.41 20z\"/>\n",
              "  </svg>\n",
              "      </button>\n",
              "      \n",
              "  <style>\n",
              "    .colab-df-container {\n",
              "      display:flex;\n",
              "      flex-wrap:wrap;\n",
              "      gap: 12px;\n",
              "    }\n",
              "\n",
              "    .colab-df-convert {\n",
              "      background-color: #E8F0FE;\n",
              "      border: none;\n",
              "      border-radius: 50%;\n",
              "      cursor: pointer;\n",
              "      display: none;\n",
              "      fill: #1967D2;\n",
              "      height: 32px;\n",
              "      padding: 0 0 0 0;\n",
              "      width: 32px;\n",
              "    }\n",
              "\n",
              "    .colab-df-convert:hover {\n",
              "      background-color: #E2EBFA;\n",
              "      box-shadow: 0px 1px 2px rgba(60, 64, 67, 0.3), 0px 1px 3px 1px rgba(60, 64, 67, 0.15);\n",
              "      fill: #174EA6;\n",
              "    }\n",
              "\n",
              "    [theme=dark] .colab-df-convert {\n",
              "      background-color: #3B4455;\n",
              "      fill: #D2E3FC;\n",
              "    }\n",
              "\n",
              "    [theme=dark] .colab-df-convert:hover {\n",
              "      background-color: #434B5C;\n",
              "      box-shadow: 0px 1px 3px 1px rgba(0, 0, 0, 0.15);\n",
              "      filter: drop-shadow(0px 1px 2px rgba(0, 0, 0, 0.3));\n",
              "      fill: #FFFFFF;\n",
              "    }\n",
              "  </style>\n",
              "\n",
              "      <script>\n",
              "        const buttonEl =\n",
              "          document.querySelector('#df-25e443f8-6010-49ae-a3ac-b897fbbae098 button.colab-df-convert');\n",
              "        buttonEl.style.display =\n",
              "          google.colab.kernel.accessAllowed ? 'block' : 'none';\n",
              "\n",
              "        async function convertToInteractive(key) {\n",
              "          const element = document.querySelector('#df-25e443f8-6010-49ae-a3ac-b897fbbae098');\n",
              "          const dataTable =\n",
              "            await google.colab.kernel.invokeFunction('convertToInteractive',\n",
              "                                                     [key], {});\n",
              "          if (!dataTable) return;\n",
              "\n",
              "          const docLinkHtml = 'Like what you see? Visit the ' +\n",
              "            '<a target=\"_blank\" href=https://colab.research.google.com/notebooks/data_table.ipynb>data table notebook</a>'\n",
              "            + ' to learn more about interactive tables.';\n",
              "          element.innerHTML = '';\n",
              "          dataTable['output_type'] = 'display_data';\n",
              "          await google.colab.output.renderOutput(dataTable, element);\n",
              "          const docLink = document.createElement('div');\n",
              "          docLink.innerHTML = docLinkHtml;\n",
              "          element.appendChild(docLink);\n",
              "        }\n",
              "      </script>\n",
              "    </div>\n",
              "  </div>\n",
              "  "
            ]
          },
          "metadata": {},
          "execution_count": 40
        }
      ],
      "source": [
        "df.drop([16200 , 16236] , inplace = True)\n",
        "df.reset_index()"
      ]
    },
    {
      "cell_type": "code",
      "source": [
        "22988-19491"
      ],
      "metadata": {
        "colab": {
          "base_uri": "https://localhost:8080/"
        },
        "id": "qaDUCtYzRE2L",
        "outputId": "916e83c1-d916-48f0-9a15-344642b9e9d2"
      },
      "execution_count": null,
      "outputs": [
        {
          "output_type": "execute_result",
          "data": {
            "text/plain": [
              "3497"
            ]
          },
          "metadata": {},
          "execution_count": 43
        }
      ]
    },
    {
      "cell_type": "code",
      "execution_count": null,
      "metadata": {
        "colab": {
          "base_uri": "https://localhost:8080/"
        },
        "id": "zD9v8xCbtf02",
        "outputId": "eb27941d-6d61-4ea8-8d58-2a75315f5934"
      },
      "outputs": [
        {
          "output_type": "execute_result",
          "data": {
            "text/plain": [
              "https://t.co/3m7bqXgJVe    300\n",
              "https://t.co/zDMeMo8aX3     82\n",
              "https://t.co/IGIYBEirli     73\n",
              "https://t.co/RnNbphsHbR     70\n",
              "https://t.co/mg45ojxsvb     64\n",
              "                          ... \n",
              "https://t.co/LBisObJ253      1\n",
              "https://t.co/RSt1CjWtK0      1\n",
              "https://t.co/pWLVrf7cTu      1\n",
              "https://t.co/i91wVUggBI      1\n",
              "https://t.co/GOOQGL79GP      1\n",
              "Name: url, Length: 19491, dtype: int64"
            ]
          },
          "metadata": {},
          "execution_count": 42
        }
      ],
      "source": [
        "df['url'].value_counts()"
      ]
    },
    {
      "cell_type": "code",
      "source": [
        "df1 = df['url'].value_counts().rename_axis('url').reset_index(name='counts')"
      ],
      "metadata": {
        "id": "pvZufFHeRtB6"
      },
      "execution_count": null,
      "outputs": []
    },
    {
      "cell_type": "code",
      "source": [
        "df1.head(30)"
      ],
      "metadata": {
        "colab": {
          "base_uri": "https://localhost:8080/",
          "height": 989
        },
        "id": "rpvUS6ZbR1Q-",
        "outputId": "a4225d66-7818-45e4-b364-3f66148515d7"
      },
      "execution_count": null,
      "outputs": [
        {
          "output_type": "execute_result",
          "data": {
            "text/plain": [
              "                        url  counts\n",
              "0   https://t.co/3m7bqXgJVe     300\n",
              "1   https://t.co/zDMeMo8aX3      82\n",
              "2   https://t.co/IGIYBEirli      73\n",
              "3   https://t.co/RnNbphsHbR      70\n",
              "4   https://t.co/mg45ojxsvb      64\n",
              "5   https://t.co/zDMeMopLOB      64\n",
              "6   https://t.co/AmWRH4Ihr2      54\n",
              "7   https://t.co/JMEZT7JXbI      52\n",
              "8   https://t.co/OBWT4CmmrR      48\n",
              "9   https://t.co/9F7LmBoFQW      47\n",
              "10  https://t.co/GykYt3NSt7      45\n",
              "11  https://t.co/H0PUzEU2HO      42\n",
              "12  https://t.co/7cO9m29GvM      41\n",
              "13  https://t.co/N4oYifJxoZ      35\n",
              "14  https://t.co/wIor3oTubv      35\n",
              "15  https://t.co/xgpreOVsyv      32\n",
              "16  https://t.co/9Bvr4bRfh2      31\n",
              "17  https://t.co/tzDkLMHXli      29\n",
              "18  https://t.co/p7SBtTMNbI      28\n",
              "19  https://t.co/3m7bqWZ93G      28\n",
              "20  https://t.co/SyldfWbJyD      28\n",
              "21  https://t.co/liqq60FXPm      27\n",
              "22  https://t.co/a1nhN84vI5      26\n",
              "23  https://t.co/AhiHk7poi7      24\n",
              "24  https://t.co/7WW4t4nLOs      24\n",
              "25  https://t.co/CUXxoGFqbO      23\n",
              "26  https://t.co/29dQ3gePZ2      22\n",
              "27  https://t.co/J7prWWls2M      20\n",
              "28  https://t.co/9xw1B4zpvW      19\n",
              "29  https://t.co/7rJAP2l7mb      19"
            ],
            "text/html": [
              "\n",
              "  <div id=\"df-b638bcc0-c678-4e75-a6cd-442bc0fe8083\">\n",
              "    <div class=\"colab-df-container\">\n",
              "      <div>\n",
              "<style scoped>\n",
              "    .dataframe tbody tr th:only-of-type {\n",
              "        vertical-align: middle;\n",
              "    }\n",
              "\n",
              "    .dataframe tbody tr th {\n",
              "        vertical-align: top;\n",
              "    }\n",
              "\n",
              "    .dataframe thead th {\n",
              "        text-align: right;\n",
              "    }\n",
              "</style>\n",
              "<table border=\"1\" class=\"dataframe\">\n",
              "  <thead>\n",
              "    <tr style=\"text-align: right;\">\n",
              "      <th></th>\n",
              "      <th>url</th>\n",
              "      <th>counts</th>\n",
              "    </tr>\n",
              "  </thead>\n",
              "  <tbody>\n",
              "    <tr>\n",
              "      <th>0</th>\n",
              "      <td>https://t.co/3m7bqXgJVe</td>\n",
              "      <td>300</td>\n",
              "    </tr>\n",
              "    <tr>\n",
              "      <th>1</th>\n",
              "      <td>https://t.co/zDMeMo8aX3</td>\n",
              "      <td>82</td>\n",
              "    </tr>\n",
              "    <tr>\n",
              "      <th>2</th>\n",
              "      <td>https://t.co/IGIYBEirli</td>\n",
              "      <td>73</td>\n",
              "    </tr>\n",
              "    <tr>\n",
              "      <th>3</th>\n",
              "      <td>https://t.co/RnNbphsHbR</td>\n",
              "      <td>70</td>\n",
              "    </tr>\n",
              "    <tr>\n",
              "      <th>4</th>\n",
              "      <td>https://t.co/mg45ojxsvb</td>\n",
              "      <td>64</td>\n",
              "    </tr>\n",
              "    <tr>\n",
              "      <th>5</th>\n",
              "      <td>https://t.co/zDMeMopLOB</td>\n",
              "      <td>64</td>\n",
              "    </tr>\n",
              "    <tr>\n",
              "      <th>6</th>\n",
              "      <td>https://t.co/AmWRH4Ihr2</td>\n",
              "      <td>54</td>\n",
              "    </tr>\n",
              "    <tr>\n",
              "      <th>7</th>\n",
              "      <td>https://t.co/JMEZT7JXbI</td>\n",
              "      <td>52</td>\n",
              "    </tr>\n",
              "    <tr>\n",
              "      <th>8</th>\n",
              "      <td>https://t.co/OBWT4CmmrR</td>\n",
              "      <td>48</td>\n",
              "    </tr>\n",
              "    <tr>\n",
              "      <th>9</th>\n",
              "      <td>https://t.co/9F7LmBoFQW</td>\n",
              "      <td>47</td>\n",
              "    </tr>\n",
              "    <tr>\n",
              "      <th>10</th>\n",
              "      <td>https://t.co/GykYt3NSt7</td>\n",
              "      <td>45</td>\n",
              "    </tr>\n",
              "    <tr>\n",
              "      <th>11</th>\n",
              "      <td>https://t.co/H0PUzEU2HO</td>\n",
              "      <td>42</td>\n",
              "    </tr>\n",
              "    <tr>\n",
              "      <th>12</th>\n",
              "      <td>https://t.co/7cO9m29GvM</td>\n",
              "      <td>41</td>\n",
              "    </tr>\n",
              "    <tr>\n",
              "      <th>13</th>\n",
              "      <td>https://t.co/N4oYifJxoZ</td>\n",
              "      <td>35</td>\n",
              "    </tr>\n",
              "    <tr>\n",
              "      <th>14</th>\n",
              "      <td>https://t.co/wIor3oTubv</td>\n",
              "      <td>35</td>\n",
              "    </tr>\n",
              "    <tr>\n",
              "      <th>15</th>\n",
              "      <td>https://t.co/xgpreOVsyv</td>\n",
              "      <td>32</td>\n",
              "    </tr>\n",
              "    <tr>\n",
              "      <th>16</th>\n",
              "      <td>https://t.co/9Bvr4bRfh2</td>\n",
              "      <td>31</td>\n",
              "    </tr>\n",
              "    <tr>\n",
              "      <th>17</th>\n",
              "      <td>https://t.co/tzDkLMHXli</td>\n",
              "      <td>29</td>\n",
              "    </tr>\n",
              "    <tr>\n",
              "      <th>18</th>\n",
              "      <td>https://t.co/p7SBtTMNbI</td>\n",
              "      <td>28</td>\n",
              "    </tr>\n",
              "    <tr>\n",
              "      <th>19</th>\n",
              "      <td>https://t.co/3m7bqWZ93G</td>\n",
              "      <td>28</td>\n",
              "    </tr>\n",
              "    <tr>\n",
              "      <th>20</th>\n",
              "      <td>https://t.co/SyldfWbJyD</td>\n",
              "      <td>28</td>\n",
              "    </tr>\n",
              "    <tr>\n",
              "      <th>21</th>\n",
              "      <td>https://t.co/liqq60FXPm</td>\n",
              "      <td>27</td>\n",
              "    </tr>\n",
              "    <tr>\n",
              "      <th>22</th>\n",
              "      <td>https://t.co/a1nhN84vI5</td>\n",
              "      <td>26</td>\n",
              "    </tr>\n",
              "    <tr>\n",
              "      <th>23</th>\n",
              "      <td>https://t.co/AhiHk7poi7</td>\n",
              "      <td>24</td>\n",
              "    </tr>\n",
              "    <tr>\n",
              "      <th>24</th>\n",
              "      <td>https://t.co/7WW4t4nLOs</td>\n",
              "      <td>24</td>\n",
              "    </tr>\n",
              "    <tr>\n",
              "      <th>25</th>\n",
              "      <td>https://t.co/CUXxoGFqbO</td>\n",
              "      <td>23</td>\n",
              "    </tr>\n",
              "    <tr>\n",
              "      <th>26</th>\n",
              "      <td>https://t.co/29dQ3gePZ2</td>\n",
              "      <td>22</td>\n",
              "    </tr>\n",
              "    <tr>\n",
              "      <th>27</th>\n",
              "      <td>https://t.co/J7prWWls2M</td>\n",
              "      <td>20</td>\n",
              "    </tr>\n",
              "    <tr>\n",
              "      <th>28</th>\n",
              "      <td>https://t.co/9xw1B4zpvW</td>\n",
              "      <td>19</td>\n",
              "    </tr>\n",
              "    <tr>\n",
              "      <th>29</th>\n",
              "      <td>https://t.co/7rJAP2l7mb</td>\n",
              "      <td>19</td>\n",
              "    </tr>\n",
              "  </tbody>\n",
              "</table>\n",
              "</div>\n",
              "      <button class=\"colab-df-convert\" onclick=\"convertToInteractive('df-b638bcc0-c678-4e75-a6cd-442bc0fe8083')\"\n",
              "              title=\"Convert this dataframe to an interactive table.\"\n",
              "              style=\"display:none;\">\n",
              "        \n",
              "  <svg xmlns=\"http://www.w3.org/2000/svg\" height=\"24px\"viewBox=\"0 0 24 24\"\n",
              "       width=\"24px\">\n",
              "    <path d=\"M0 0h24v24H0V0z\" fill=\"none\"/>\n",
              "    <path d=\"M18.56 5.44l.94 2.06.94-2.06 2.06-.94-2.06-.94-.94-2.06-.94 2.06-2.06.94zm-11 1L8.5 8.5l.94-2.06 2.06-.94-2.06-.94L8.5 2.5l-.94 2.06-2.06.94zm10 10l.94 2.06.94-2.06 2.06-.94-2.06-.94-.94-2.06-.94 2.06-2.06.94z\"/><path d=\"M17.41 7.96l-1.37-1.37c-.4-.4-.92-.59-1.43-.59-.52 0-1.04.2-1.43.59L10.3 9.45l-7.72 7.72c-.78.78-.78 2.05 0 2.83L4 21.41c.39.39.9.59 1.41.59.51 0 1.02-.2 1.41-.59l7.78-7.78 2.81-2.81c.8-.78.8-2.07 0-2.86zM5.41 20L4 18.59l7.72-7.72 1.47 1.35L5.41 20z\"/>\n",
              "  </svg>\n",
              "      </button>\n",
              "      \n",
              "  <style>\n",
              "    .colab-df-container {\n",
              "      display:flex;\n",
              "      flex-wrap:wrap;\n",
              "      gap: 12px;\n",
              "    }\n",
              "\n",
              "    .colab-df-convert {\n",
              "      background-color: #E8F0FE;\n",
              "      border: none;\n",
              "      border-radius: 50%;\n",
              "      cursor: pointer;\n",
              "      display: none;\n",
              "      fill: #1967D2;\n",
              "      height: 32px;\n",
              "      padding: 0 0 0 0;\n",
              "      width: 32px;\n",
              "    }\n",
              "\n",
              "    .colab-df-convert:hover {\n",
              "      background-color: #E2EBFA;\n",
              "      box-shadow: 0px 1px 2px rgba(60, 64, 67, 0.3), 0px 1px 3px 1px rgba(60, 64, 67, 0.15);\n",
              "      fill: #174EA6;\n",
              "    }\n",
              "\n",
              "    [theme=dark] .colab-df-convert {\n",
              "      background-color: #3B4455;\n",
              "      fill: #D2E3FC;\n",
              "    }\n",
              "\n",
              "    [theme=dark] .colab-df-convert:hover {\n",
              "      background-color: #434B5C;\n",
              "      box-shadow: 0px 1px 3px 1px rgba(0, 0, 0, 0.15);\n",
              "      filter: drop-shadow(0px 1px 2px rgba(0, 0, 0, 0.3));\n",
              "      fill: #FFFFFF;\n",
              "    }\n",
              "  </style>\n",
              "\n",
              "      <script>\n",
              "        const buttonEl =\n",
              "          document.querySelector('#df-b638bcc0-c678-4e75-a6cd-442bc0fe8083 button.colab-df-convert');\n",
              "        buttonEl.style.display =\n",
              "          google.colab.kernel.accessAllowed ? 'block' : 'none';\n",
              "\n",
              "        async function convertToInteractive(key) {\n",
              "          const element = document.querySelector('#df-b638bcc0-c678-4e75-a6cd-442bc0fe8083');\n",
              "          const dataTable =\n",
              "            await google.colab.kernel.invokeFunction('convertToInteractive',\n",
              "                                                     [key], {});\n",
              "          if (!dataTable) return;\n",
              "\n",
              "          const docLinkHtml = 'Like what you see? Visit the ' +\n",
              "            '<a target=\"_blank\" href=https://colab.research.google.com/notebooks/data_table.ipynb>data table notebook</a>'\n",
              "            + ' to learn more about interactive tables.';\n",
              "          element.innerHTML = '';\n",
              "          dataTable['output_type'] = 'display_data';\n",
              "          await google.colab.output.renderOutput(dataTable, element);\n",
              "          const docLink = document.createElement('div');\n",
              "          docLink.innerHTML = docLinkHtml;\n",
              "          element.appendChild(docLink);\n",
              "        }\n",
              "      </script>\n",
              "    </div>\n",
              "  </div>\n",
              "  "
            ]
          },
          "metadata": {},
          "execution_count": 48
        }
      ]
    },
    {
      "cell_type": "code",
      "source": [
        "df1.to_csv(\"urlsharingcounts.csv\" , index = False)"
      ],
      "metadata": {
        "id": "4LhCh7M7R_0Q"
      },
      "execution_count": null,
      "outputs": []
    },
    {
      "cell_type": "code",
      "execution_count": null,
      "metadata": {
        "colab": {
          "base_uri": "https://localhost:8080/"
        },
        "id": "avbjbkafttmu",
        "outputId": "caa8fada-f9c2-4e8e-e6e1-8baa90f0b204"
      },
      "outputs": [
        {
          "output_type": "execute_result",
          "data": {
            "text/plain": [
              "Index(['entities.urls', 'user.name', 'user.screen_name', 'url', 'display_url',\n",
              "       'expanded_url'],\n",
              "      dtype='object')"
            ]
          },
          "metadata": {},
          "execution_count": 44
        }
      ],
      "source": [
        "df.columns"
      ]
    },
    {
      "cell_type": "code",
      "execution_count": null,
      "metadata": {
        "colab": {
          "base_uri": "https://localhost:8080/"
        },
        "id": "6wWtVxy2uF6m",
        "outputId": "6d0732ca-5f5e-4ed0-e938-22b17b29c484"
      },
      "outputs": [
        {
          "output_type": "execute_result",
          "data": {
            "text/plain": [
              "(22988, 6)"
            ]
          },
          "metadata": {},
          "execution_count": 45
        }
      ],
      "source": [
        "df.shape"
      ]
    },
    {
      "cell_type": "code",
      "execution_count": null,
      "metadata": {
        "colab": {
          "base_uri": "https://localhost:8080/"
        },
        "id": "h_IcjGDTvnlY",
        "outputId": "97bd152a-12f4-45ca-f442-f13d31ed1a46"
      },
      "outputs": [
        {
          "output_type": "execute_result",
          "data": {
            "text/plain": [
              "entities.urls       0\n",
              "user.name           8\n",
              "user.screen_name    0\n",
              "url                 0\n",
              "display_url         0\n",
              "expanded_url        0\n",
              "dtype: int64"
            ]
          },
          "metadata": {},
          "execution_count": 46
        }
      ],
      "source": [
        "df.isnull().sum()"
      ]
    },
    {
      "cell_type": "code",
      "execution_count": null,
      "metadata": {
        "colab": {
          "base_uri": "https://localhost:8080/",
          "height": 678
        },
        "id": "hG2ya08lvp49",
        "outputId": "20b03102-b866-414a-d7a2-4dc28bd2c5a9"
      },
      "outputs": [
        {
          "output_type": "execute_result",
          "data": {
            "text/plain": [
              "                                           entities.urls  \\\n",
              "0      [{'display_url': 'chng.it/T5bNhhJ74Z', 'indice...   \n",
              "1      [{'display_url': 'youtu.be/hQFFm_X2lps', 'indi...   \n",
              "2      [{'display_url': 'hollywoodreporter.com/thr-es...   \n",
              "3      [{'display_url': 'youtu.be/WzeENH6s3L4', 'indi...   \n",
              "4      [{'display_url': 'youtu.be/WzeENH6s3L4', 'indi...   \n",
              "...                                                  ...   \n",
              "22989  [{'display_url': 'youtu.be/4bm-kTi-3go', 'indi...   \n",
              "22990  [{'display_url': 'sneakpeek.ca/2019/12/catwom…...   \n",
              "22991  [{'display_url': 'change.org', 'indices': [53,...   \n",
              "22992  [{'display_url': 'youtu.be/waXKykBTrQI', 'indi...   \n",
              "22993  [{'display_url': 'twitter.com/Astartiel/stat…'...   \n",
              "\n",
              "                                               user.name user.screen_name  \\\n",
              "0                                            Pussygalore  Pussyga96828631   \n",
              "1                                          cookie grouch      cazprescott   \n",
              "2                                             Priyanka 🍉   PinkyPie_9912_   \n",
              "3                                              depp_fana         FanaDepp   \n",
              "4                                   theearthisamiracle71  theearthisamir1   \n",
              "...                                                  ...              ...   \n",
              "22989               Libby ♿️🏴‍☠️🇺🇸 #JusticeForJohnnyDepp   DeppSoldier_22   \n",
              "22990                                          SneakPeek      SNEAKPEEKCA   \n",
              "22991                                    Stephanie Brown  Stephan76215148   \n",
              "22992                                           DoubleR3       DoubleR310   \n",
              "22993  Jᴇɴɴɪᴇ Asᴛᴀʀᴛɪᴇʟ Isʜᴛᴀʀ Asᴇᴛ Iɴᴀɴɴᴀ Mᴏʀɴɪɴɢsᴛᴀʀ 🎶        Astartiel   \n",
              "\n",
              "                           url                            display_url  \\\n",
              "0      https://t.co/zxs2zBKWTZ                     chng.it/T5bNhhJ74Z   \n",
              "1      https://t.co/cCDsAIVGUi                   youtu.be/hQFFm_X2lps   \n",
              "2      https://t.co/0tB7kr0xNS  hollywoodreporter.com/thr-esq/amber-…   \n",
              "3      https://t.co/ECDzX1d9JP                   youtu.be/WzeENH6s3L4   \n",
              "4      https://t.co/vgl8sZuc4w                   youtu.be/WzeENH6s3L4   \n",
              "...                        ...                                    ...   \n",
              "22989  https://t.co/yH0qerURVd                   youtu.be/4bm-kTi-3go   \n",
              "22990  https://t.co/JE53QYmR3r           sneakpeek.ca/2019/12/catwom…   \n",
              "22991  https://t.co/zjz4qyO30Y                             change.org   \n",
              "22992  https://t.co/UIDQw7a4c2                   youtu.be/waXKykBTrQI   \n",
              "22993  https://t.co/GOOQGL79GP            twitter.com/Astartiel/stat…   \n",
              "\n",
              "                                            expanded_url  \n",
              "0                              http://chng.it/T5bNhhJ74Z  \n",
              "1                           https://youtu.be/hQFFm_X2lps  \n",
              "2      https://www.hollywoodreporter.com/thr-esq/ambe...  \n",
              "3                           https://youtu.be/WzeENH6s3L4  \n",
              "4                           https://youtu.be/WzeENH6s3L4  \n",
              "...                                                  ...  \n",
              "22989                       https://youtu.be/4bm-kTi-3go  \n",
              "22990  http://www.sneakpeek.ca/2019/12/catwoman-masks...  \n",
              "22991                                  http://change.org  \n",
              "22992                       https://youtu.be/waXKykBTrQI  \n",
              "22993  https://twitter.com/Astartiel/status/137989817...  \n",
              "\n",
              "[20956 rows x 6 columns]"
            ],
            "text/html": [
              "\n",
              "  <div id=\"df-7445623f-6994-4e91-a628-2a2033f94f41\">\n",
              "    <div class=\"colab-df-container\">\n",
              "      <div>\n",
              "<style scoped>\n",
              "    .dataframe tbody tr th:only-of-type {\n",
              "        vertical-align: middle;\n",
              "    }\n",
              "\n",
              "    .dataframe tbody tr th {\n",
              "        vertical-align: top;\n",
              "    }\n",
              "\n",
              "    .dataframe thead th {\n",
              "        text-align: right;\n",
              "    }\n",
              "</style>\n",
              "<table border=\"1\" class=\"dataframe\">\n",
              "  <thead>\n",
              "    <tr style=\"text-align: right;\">\n",
              "      <th></th>\n",
              "      <th>entities.urls</th>\n",
              "      <th>user.name</th>\n",
              "      <th>user.screen_name</th>\n",
              "      <th>url</th>\n",
              "      <th>display_url</th>\n",
              "      <th>expanded_url</th>\n",
              "    </tr>\n",
              "  </thead>\n",
              "  <tbody>\n",
              "    <tr>\n",
              "      <th>0</th>\n",
              "      <td>[{'display_url': 'chng.it/T5bNhhJ74Z', 'indice...</td>\n",
              "      <td>Pussygalore</td>\n",
              "      <td>Pussyga96828631</td>\n",
              "      <td>https://t.co/zxs2zBKWTZ</td>\n",
              "      <td>chng.it/T5bNhhJ74Z</td>\n",
              "      <td>http://chng.it/T5bNhhJ74Z</td>\n",
              "    </tr>\n",
              "    <tr>\n",
              "      <th>1</th>\n",
              "      <td>[{'display_url': 'youtu.be/hQFFm_X2lps', 'indi...</td>\n",
              "      <td>cookie grouch</td>\n",
              "      <td>cazprescott</td>\n",
              "      <td>https://t.co/cCDsAIVGUi</td>\n",
              "      <td>youtu.be/hQFFm_X2lps</td>\n",
              "      <td>https://youtu.be/hQFFm_X2lps</td>\n",
              "    </tr>\n",
              "    <tr>\n",
              "      <th>2</th>\n",
              "      <td>[{'display_url': 'hollywoodreporter.com/thr-es...</td>\n",
              "      <td>Priyanka 🍉</td>\n",
              "      <td>PinkyPie_9912_</td>\n",
              "      <td>https://t.co/0tB7kr0xNS</td>\n",
              "      <td>hollywoodreporter.com/thr-esq/amber-…</td>\n",
              "      <td>https://www.hollywoodreporter.com/thr-esq/ambe...</td>\n",
              "    </tr>\n",
              "    <tr>\n",
              "      <th>3</th>\n",
              "      <td>[{'display_url': 'youtu.be/WzeENH6s3L4', 'indi...</td>\n",
              "      <td>depp_fana</td>\n",
              "      <td>FanaDepp</td>\n",
              "      <td>https://t.co/ECDzX1d9JP</td>\n",
              "      <td>youtu.be/WzeENH6s3L4</td>\n",
              "      <td>https://youtu.be/WzeENH6s3L4</td>\n",
              "    </tr>\n",
              "    <tr>\n",
              "      <th>4</th>\n",
              "      <td>[{'display_url': 'youtu.be/WzeENH6s3L4', 'indi...</td>\n",
              "      <td>theearthisamiracle71</td>\n",
              "      <td>theearthisamir1</td>\n",
              "      <td>https://t.co/vgl8sZuc4w</td>\n",
              "      <td>youtu.be/WzeENH6s3L4</td>\n",
              "      <td>https://youtu.be/WzeENH6s3L4</td>\n",
              "    </tr>\n",
              "    <tr>\n",
              "      <th>...</th>\n",
              "      <td>...</td>\n",
              "      <td>...</td>\n",
              "      <td>...</td>\n",
              "      <td>...</td>\n",
              "      <td>...</td>\n",
              "      <td>...</td>\n",
              "    </tr>\n",
              "    <tr>\n",
              "      <th>22989</th>\n",
              "      <td>[{'display_url': 'youtu.be/4bm-kTi-3go', 'indi...</td>\n",
              "      <td>Libby ♿️🏴‍☠️🇺🇸 #JusticeForJohnnyDepp</td>\n",
              "      <td>DeppSoldier_22</td>\n",
              "      <td>https://t.co/yH0qerURVd</td>\n",
              "      <td>youtu.be/4bm-kTi-3go</td>\n",
              "      <td>https://youtu.be/4bm-kTi-3go</td>\n",
              "    </tr>\n",
              "    <tr>\n",
              "      <th>22990</th>\n",
              "      <td>[{'display_url': 'sneakpeek.ca/2019/12/catwom…...</td>\n",
              "      <td>SneakPeek</td>\n",
              "      <td>SNEAKPEEKCA</td>\n",
              "      <td>https://t.co/JE53QYmR3r</td>\n",
              "      <td>sneakpeek.ca/2019/12/catwom…</td>\n",
              "      <td>http://www.sneakpeek.ca/2019/12/catwoman-masks...</td>\n",
              "    </tr>\n",
              "    <tr>\n",
              "      <th>22991</th>\n",
              "      <td>[{'display_url': 'change.org', 'indices': [53,...</td>\n",
              "      <td>Stephanie Brown</td>\n",
              "      <td>Stephan76215148</td>\n",
              "      <td>https://t.co/zjz4qyO30Y</td>\n",
              "      <td>change.org</td>\n",
              "      <td>http://change.org</td>\n",
              "    </tr>\n",
              "    <tr>\n",
              "      <th>22992</th>\n",
              "      <td>[{'display_url': 'youtu.be/waXKykBTrQI', 'indi...</td>\n",
              "      <td>DoubleR3</td>\n",
              "      <td>DoubleR310</td>\n",
              "      <td>https://t.co/UIDQw7a4c2</td>\n",
              "      <td>youtu.be/waXKykBTrQI</td>\n",
              "      <td>https://youtu.be/waXKykBTrQI</td>\n",
              "    </tr>\n",
              "    <tr>\n",
              "      <th>22993</th>\n",
              "      <td>[{'display_url': 'twitter.com/Astartiel/stat…'...</td>\n",
              "      <td>Jᴇɴɴɪᴇ Asᴛᴀʀᴛɪᴇʟ Isʜᴛᴀʀ Asᴇᴛ Iɴᴀɴɴᴀ Mᴏʀɴɪɴɢsᴛᴀʀ 🎶</td>\n",
              "      <td>Astartiel</td>\n",
              "      <td>https://t.co/GOOQGL79GP</td>\n",
              "      <td>twitter.com/Astartiel/stat…</td>\n",
              "      <td>https://twitter.com/Astartiel/status/137989817...</td>\n",
              "    </tr>\n",
              "  </tbody>\n",
              "</table>\n",
              "<p>20956 rows × 6 columns</p>\n",
              "</div>\n",
              "      <button class=\"colab-df-convert\" onclick=\"convertToInteractive('df-7445623f-6994-4e91-a628-2a2033f94f41')\"\n",
              "              title=\"Convert this dataframe to an interactive table.\"\n",
              "              style=\"display:none;\">\n",
              "        \n",
              "  <svg xmlns=\"http://www.w3.org/2000/svg\" height=\"24px\"viewBox=\"0 0 24 24\"\n",
              "       width=\"24px\">\n",
              "    <path d=\"M0 0h24v24H0V0z\" fill=\"none\"/>\n",
              "    <path d=\"M18.56 5.44l.94 2.06.94-2.06 2.06-.94-2.06-.94-.94-2.06-.94 2.06-2.06.94zm-11 1L8.5 8.5l.94-2.06 2.06-.94-2.06-.94L8.5 2.5l-.94 2.06-2.06.94zm10 10l.94 2.06.94-2.06 2.06-.94-2.06-.94-.94-2.06-.94 2.06-2.06.94z\"/><path d=\"M17.41 7.96l-1.37-1.37c-.4-.4-.92-.59-1.43-.59-.52 0-1.04.2-1.43.59L10.3 9.45l-7.72 7.72c-.78.78-.78 2.05 0 2.83L4 21.41c.39.39.9.59 1.41.59.51 0 1.02-.2 1.41-.59l7.78-7.78 2.81-2.81c.8-.78.8-2.07 0-2.86zM5.41 20L4 18.59l7.72-7.72 1.47 1.35L5.41 20z\"/>\n",
              "  </svg>\n",
              "      </button>\n",
              "      \n",
              "  <style>\n",
              "    .colab-df-container {\n",
              "      display:flex;\n",
              "      flex-wrap:wrap;\n",
              "      gap: 12px;\n",
              "    }\n",
              "\n",
              "    .colab-df-convert {\n",
              "      background-color: #E8F0FE;\n",
              "      border: none;\n",
              "      border-radius: 50%;\n",
              "      cursor: pointer;\n",
              "      display: none;\n",
              "      fill: #1967D2;\n",
              "      height: 32px;\n",
              "      padding: 0 0 0 0;\n",
              "      width: 32px;\n",
              "    }\n",
              "\n",
              "    .colab-df-convert:hover {\n",
              "      background-color: #E2EBFA;\n",
              "      box-shadow: 0px 1px 2px rgba(60, 64, 67, 0.3), 0px 1px 3px 1px rgba(60, 64, 67, 0.15);\n",
              "      fill: #174EA6;\n",
              "    }\n",
              "\n",
              "    [theme=dark] .colab-df-convert {\n",
              "      background-color: #3B4455;\n",
              "      fill: #D2E3FC;\n",
              "    }\n",
              "\n",
              "    [theme=dark] .colab-df-convert:hover {\n",
              "      background-color: #434B5C;\n",
              "      box-shadow: 0px 1px 3px 1px rgba(0, 0, 0, 0.15);\n",
              "      filter: drop-shadow(0px 1px 2px rgba(0, 0, 0, 0.3));\n",
              "      fill: #FFFFFF;\n",
              "    }\n",
              "  </style>\n",
              "\n",
              "      <script>\n",
              "        const buttonEl =\n",
              "          document.querySelector('#df-7445623f-6994-4e91-a628-2a2033f94f41 button.colab-df-convert');\n",
              "        buttonEl.style.display =\n",
              "          google.colab.kernel.accessAllowed ? 'block' : 'none';\n",
              "\n",
              "        async function convertToInteractive(key) {\n",
              "          const element = document.querySelector('#df-7445623f-6994-4e91-a628-2a2033f94f41');\n",
              "          const dataTable =\n",
              "            await google.colab.kernel.invokeFunction('convertToInteractive',\n",
              "                                                     [key], {});\n",
              "          if (!dataTable) return;\n",
              "\n",
              "          const docLinkHtml = 'Like what you see? Visit the ' +\n",
              "            '<a target=\"_blank\" href=https://colab.research.google.com/notebooks/data_table.ipynb>data table notebook</a>'\n",
              "            + ' to learn more about interactive tables.';\n",
              "          element.innerHTML = '';\n",
              "          dataTable['output_type'] = 'display_data';\n",
              "          await google.colab.output.renderOutput(dataTable, element);\n",
              "          const docLink = document.createElement('div');\n",
              "          docLink.innerHTML = docLinkHtml;\n",
              "          element.appendChild(docLink);\n",
              "        }\n",
              "      </script>\n",
              "    </div>\n",
              "  </div>\n",
              "  "
            ]
          },
          "metadata": {},
          "execution_count": 47
        }
      ],
      "source": [
        "## list all unique url \n",
        "op1 = df.groupby(['url'])\n",
        "op1.head(3)\n"
      ]
    },
    {
      "cell_type": "code",
      "execution_count": null,
      "metadata": {
        "colab": {
          "base_uri": "https://localhost:8080/"
        },
        "id": "fQXSgUfkfwqv",
        "outputId": "a96ccbfe-25e9-4c6e-bcc3-d3485ac4ebfd"
      },
      "outputs": [
        {
          "output_type": "execute_result",
          "data": {
            "text/plain": [
              "Index(['entities.urls', 'user.name', 'user.screen_name', 'url', 'display_url',\n",
              "       'expanded_url'],\n",
              "      dtype='object')"
            ]
          },
          "metadata": {},
          "execution_count": 48
        }
      ],
      "source": [
        "df.columns\n"
      ]
    },
    {
      "cell_type": "code",
      "execution_count": null,
      "metadata": {
        "id": "eI_BZXXhfofz"
      },
      "outputs": [],
      "source": [
        "grouped_df = df.groupby([\"url\"])\n",
        "grouped_lists = grouped_df[\"user.screen_name\"].apply(list)\n",
        "grouped_lists = grouped_lists.reset_index()"
      ]
    },
    {
      "cell_type": "code",
      "execution_count": null,
      "metadata": {
        "id": "O8GfHl8zZ5Fx"
      },
      "outputs": [],
      "source": [
        "# grouped_lists.to_csv('sameUrl.csv' , index =False)\n",
        "df = pd.DataFrame(grouped_lists)"
      ]
    },
    {
      "cell_type": "code",
      "execution_count": null,
      "metadata": {
        "colab": {
          "base_uri": "https://localhost:8080/"
        },
        "id": "7mw6jkQJpYby",
        "outputId": "a3f41fea-2632-4e44-a2a3-31023e3724e4"
      },
      "outputs": [
        {
          "output_type": "execute_result",
          "data": {
            "text/plain": [
              "(19491, 2)"
            ]
          },
          "metadata": {},
          "execution_count": 52
        }
      ],
      "source": [
        "df.shape"
      ]
    },
    {
      "cell_type": "code",
      "execution_count": null,
      "metadata": {
        "colab": {
          "base_uri": "https://localhost:8080/"
        },
        "id": "Ixl4-fyniChb",
        "outputId": "4ae1868e-4dea-4c5f-bff6-aeda61450c24"
      },
      "outputs": [
        {
          "output_type": "execute_result",
          "data": {
            "text/plain": [
              "Index(['url', 'user.screen_name'], dtype='object')"
            ]
          },
          "metadata": {},
          "execution_count": 54
        }
      ],
      "source": [
        "df.columns"
      ]
    },
    {
      "cell_type": "code",
      "execution_count": null,
      "metadata": {
        "id": "JWvqqEr6gOw-"
      },
      "outputs": [],
      "source": [
        "df['NumberOfUsersShareSameUrl'] = 0"
      ]
    },
    {
      "cell_type": "code",
      "execution_count": null,
      "metadata": {
        "colab": {
          "base_uri": "https://localhost:8080/",
          "height": 205
        },
        "id": "H35_R-R3h4gd",
        "outputId": "7387aa79-39bb-4fda-c54c-e4c53fde6311"
      },
      "outputs": [
        {
          "output_type": "execute_result",
          "data": {
            "text/plain": [
              "                                             url  \\\n",
              "0  https://support.twitter.com/articles/20169199   \n",
              "1                        https://t.co/008uEAJnId   \n",
              "2                        https://t.co/00D3q4f9Yx   \n",
              "\n",
              "                                    user.screen_name  \\\n",
              "0  [JasonIsGone_, AadiK36769152, JasonIsGone_, El...   \n",
              "1                 [CherylD59995761, CherylD59995761]   \n",
              "2                                       [Om39472295]   \n",
              "\n",
              "   NumberOfUsersShareSameUrl  \n",
              "0                          0  \n",
              "1                          0  \n",
              "2                          0  "
            ],
            "text/html": [
              "\n",
              "  <div id=\"df-3cd8ce6f-46a4-4eb7-acb5-3c1e812b9aac\">\n",
              "    <div class=\"colab-df-container\">\n",
              "      <div>\n",
              "<style scoped>\n",
              "    .dataframe tbody tr th:only-of-type {\n",
              "        vertical-align: middle;\n",
              "    }\n",
              "\n",
              "    .dataframe tbody tr th {\n",
              "        vertical-align: top;\n",
              "    }\n",
              "\n",
              "    .dataframe thead th {\n",
              "        text-align: right;\n",
              "    }\n",
              "</style>\n",
              "<table border=\"1\" class=\"dataframe\">\n",
              "  <thead>\n",
              "    <tr style=\"text-align: right;\">\n",
              "      <th></th>\n",
              "      <th>url</th>\n",
              "      <th>user.screen_name</th>\n",
              "      <th>NumberOfUsersShareSameUrl</th>\n",
              "    </tr>\n",
              "  </thead>\n",
              "  <tbody>\n",
              "    <tr>\n",
              "      <th>0</th>\n",
              "      <td>https://support.twitter.com/articles/20169199</td>\n",
              "      <td>[JasonIsGone_, AadiK36769152, JasonIsGone_, El...</td>\n",
              "      <td>0</td>\n",
              "    </tr>\n",
              "    <tr>\n",
              "      <th>1</th>\n",
              "      <td>https://t.co/008uEAJnId</td>\n",
              "      <td>[CherylD59995761, CherylD59995761]</td>\n",
              "      <td>0</td>\n",
              "    </tr>\n",
              "    <tr>\n",
              "      <th>2</th>\n",
              "      <td>https://t.co/00D3q4f9Yx</td>\n",
              "      <td>[Om39472295]</td>\n",
              "      <td>0</td>\n",
              "    </tr>\n",
              "  </tbody>\n",
              "</table>\n",
              "</div>\n",
              "      <button class=\"colab-df-convert\" onclick=\"convertToInteractive('df-3cd8ce6f-46a4-4eb7-acb5-3c1e812b9aac')\"\n",
              "              title=\"Convert this dataframe to an interactive table.\"\n",
              "              style=\"display:none;\">\n",
              "        \n",
              "  <svg xmlns=\"http://www.w3.org/2000/svg\" height=\"24px\"viewBox=\"0 0 24 24\"\n",
              "       width=\"24px\">\n",
              "    <path d=\"M0 0h24v24H0V0z\" fill=\"none\"/>\n",
              "    <path d=\"M18.56 5.44l.94 2.06.94-2.06 2.06-.94-2.06-.94-.94-2.06-.94 2.06-2.06.94zm-11 1L8.5 8.5l.94-2.06 2.06-.94-2.06-.94L8.5 2.5l-.94 2.06-2.06.94zm10 10l.94 2.06.94-2.06 2.06-.94-2.06-.94-.94-2.06-.94 2.06-2.06.94z\"/><path d=\"M17.41 7.96l-1.37-1.37c-.4-.4-.92-.59-1.43-.59-.52 0-1.04.2-1.43.59L10.3 9.45l-7.72 7.72c-.78.78-.78 2.05 0 2.83L4 21.41c.39.39.9.59 1.41.59.51 0 1.02-.2 1.41-.59l7.78-7.78 2.81-2.81c.8-.78.8-2.07 0-2.86zM5.41 20L4 18.59l7.72-7.72 1.47 1.35L5.41 20z\"/>\n",
              "  </svg>\n",
              "      </button>\n",
              "      \n",
              "  <style>\n",
              "    .colab-df-container {\n",
              "      display:flex;\n",
              "      flex-wrap:wrap;\n",
              "      gap: 12px;\n",
              "    }\n",
              "\n",
              "    .colab-df-convert {\n",
              "      background-color: #E8F0FE;\n",
              "      border: none;\n",
              "      border-radius: 50%;\n",
              "      cursor: pointer;\n",
              "      display: none;\n",
              "      fill: #1967D2;\n",
              "      height: 32px;\n",
              "      padding: 0 0 0 0;\n",
              "      width: 32px;\n",
              "    }\n",
              "\n",
              "    .colab-df-convert:hover {\n",
              "      background-color: #E2EBFA;\n",
              "      box-shadow: 0px 1px 2px rgba(60, 64, 67, 0.3), 0px 1px 3px 1px rgba(60, 64, 67, 0.15);\n",
              "      fill: #174EA6;\n",
              "    }\n",
              "\n",
              "    [theme=dark] .colab-df-convert {\n",
              "      background-color: #3B4455;\n",
              "      fill: #D2E3FC;\n",
              "    }\n",
              "\n",
              "    [theme=dark] .colab-df-convert:hover {\n",
              "      background-color: #434B5C;\n",
              "      box-shadow: 0px 1px 3px 1px rgba(0, 0, 0, 0.15);\n",
              "      filter: drop-shadow(0px 1px 2px rgba(0, 0, 0, 0.3));\n",
              "      fill: #FFFFFF;\n",
              "    }\n",
              "  </style>\n",
              "\n",
              "      <script>\n",
              "        const buttonEl =\n",
              "          document.querySelector('#df-3cd8ce6f-46a4-4eb7-acb5-3c1e812b9aac button.colab-df-convert');\n",
              "        buttonEl.style.display =\n",
              "          google.colab.kernel.accessAllowed ? 'block' : 'none';\n",
              "\n",
              "        async function convertToInteractive(key) {\n",
              "          const element = document.querySelector('#df-3cd8ce6f-46a4-4eb7-acb5-3c1e812b9aac');\n",
              "          const dataTable =\n",
              "            await google.colab.kernel.invokeFunction('convertToInteractive',\n",
              "                                                     [key], {});\n",
              "          if (!dataTable) return;\n",
              "\n",
              "          const docLinkHtml = 'Like what you see? Visit the ' +\n",
              "            '<a target=\"_blank\" href=https://colab.research.google.com/notebooks/data_table.ipynb>data table notebook</a>'\n",
              "            + ' to learn more about interactive tables.';\n",
              "          element.innerHTML = '';\n",
              "          dataTable['output_type'] = 'display_data';\n",
              "          await google.colab.output.renderOutput(dataTable, element);\n",
              "          const docLink = document.createElement('div');\n",
              "          docLink.innerHTML = docLinkHtml;\n",
              "          element.appendChild(docLink);\n",
              "        }\n",
              "      </script>\n",
              "    </div>\n",
              "  </div>\n",
              "  "
            ]
          },
          "metadata": {},
          "execution_count": 56
        }
      ],
      "source": [
        "df.head(3)"
      ]
    },
    {
      "cell_type": "code",
      "execution_count": null,
      "metadata": {
        "colab": {
          "base_uri": "https://localhost:8080/"
        },
        "id": "PgHXRfcDjsBD",
        "outputId": "adc39679-87d4-45fb-e546-19231aa8adf4"
      },
      "outputs": [
        {
          "output_type": "execute_result",
          "data": {
            "text/plain": [
              "['Om39472295']"
            ]
          },
          "metadata": {},
          "execution_count": 57
        }
      ],
      "source": [
        "df['user.screen_name'][2]"
      ]
    },
    {
      "cell_type": "code",
      "execution_count": null,
      "metadata": {
        "colab": {
          "base_uri": "https://localhost:8080/"
        },
        "id": "UrEhRh-4W-hg",
        "outputId": "43e69f39-4233-4652-e571-b066a38997f4"
      },
      "outputs": [
        {
          "output_type": "stream",
          "name": "stderr",
          "text": [
            "/usr/local/lib/python3.7/dist-packages/ipykernel_launcher.py:2: SettingWithCopyWarning: \n",
            "A value is trying to be set on a copy of a slice from a DataFrame\n",
            "\n",
            "See the caveats in the documentation: https://pandas.pydata.org/pandas-docs/stable/user_guide/indexing.html#returning-a-view-versus-a-copy\n",
            "  \n"
          ]
        }
      ],
      "source": [
        "for i in range(len(df)):\n",
        "    df['NumberOfSharedUrl'][i] = len(df['user.screen_name'][i])"
      ]
    },
    {
      "cell_type": "code",
      "execution_count": null,
      "metadata": {
        "colab": {
          "base_uri": "https://localhost:8080/"
        },
        "id": "uLWftRq-lqQQ",
        "outputId": "ec56199a-c68a-4af3-b945-71f908192cf8"
      },
      "outputs": [
        {
          "output_type": "stream",
          "name": "stderr",
          "text": [
            "/usr/local/lib/python3.7/dist-packages/ipykernel_launcher.py:3: SettingWithCopyWarning: \n",
            "A value is trying to be set on a copy of a slice from a DataFrame\n",
            "\n",
            "See the caveats in the documentation: https://pandas.pydata.org/pandas-docs/stable/user_guide/indexing.html#returning-a-view-versus-a-copy\n",
            "  This is separate from the ipykernel package so we can avoid doing imports until\n",
            "/usr/local/lib/python3.7/dist-packages/pandas/core/indexing.py:1732: SettingWithCopyWarning: \n",
            "A value is trying to be set on a copy of a slice from a DataFrame\n",
            "\n",
            "See the caveats in the documentation: https://pandas.pydata.org/pandas-docs/stable/user_guide/indexing.html#returning-a-view-versus-a-copy\n",
            "  self._setitem_single_block(indexer, value, name)\n"
          ]
        }
      ],
      "source": [
        "df['uniqueUserNameShareSameUrl'] = 0\n",
        "for i in range(len(df)):\n",
        "    df['uniqueUserNameShareSameUrl'][i] =list(set(df['user.screen_name'][i]))"
      ]
    },
    {
      "cell_type": "code",
      "execution_count": null,
      "metadata": {
        "colab": {
          "base_uri": "https://localhost:8080/",
          "height": 1000
        },
        "id": "3sJSsaj2l5fC",
        "outputId": "b3f75e99-cd5c-4a05-c017-0196d422df8d"
      },
      "outputs": [
        {
          "output_type": "execute_result",
          "data": {
            "text/plain": [
              "                                              url  \\\n",
              "0   https://support.twitter.com/articles/20169199   \n",
              "1                         https://t.co/008uEAJnId   \n",
              "2                         https://t.co/00D3q4f9Yx   \n",
              "3                         https://t.co/00Vfekd0aP   \n",
              "4                         https://t.co/00jDf9wcWW   \n",
              "5                         https://t.co/00nXG9EAkq   \n",
              "6                         https://t.co/00sfRPkU1i   \n",
              "7                         https://t.co/00te9RfG2v   \n",
              "8                         https://t.co/018uIVC9aN   \n",
              "9                         https://t.co/01N0vPjFuT   \n",
              "10                        https://t.co/01ZrU88YIT   \n",
              "11                        https://t.co/01rcIaQPal   \n",
              "12                        https://t.co/02GUTkofOy   \n",
              "13                        https://t.co/02ngnw10qk   \n",
              "14                        https://t.co/02q7J9Wfbu   \n",
              "15                        https://t.co/034lZpUPnW   \n",
              "16                        https://t.co/038QMPhg3g   \n",
              "17                        https://t.co/03NBubwLRX   \n",
              "18                        https://t.co/03Zr79QRtV   \n",
              "19                        https://t.co/044fxrf5C4   \n",
              "20                        https://t.co/045fNvfPVo   \n",
              "21                        https://t.co/048RIjLkOh   \n",
              "22                        https://t.co/049Rd4eeBS   \n",
              "23                        https://t.co/04AzV6ar3E   \n",
              "24                        https://t.co/04LVVTnBLW   \n",
              "25                        https://t.co/04RSP0oOKf   \n",
              "26                        https://t.co/051DfTbAgc   \n",
              "27                        https://t.co/05CthhgXdp   \n",
              "28                        https://t.co/05INUmxY2q   \n",
              "29                        https://t.co/05IeCkH5D8   \n",
              "\n",
              "                                     user.screen_name  \\\n",
              "0   [JasonIsGone_, AadiK36769152, JasonIsGone_, El...   \n",
              "1                  [CherylD59995761, CherylD59995761]   \n",
              "2                                        [Om39472295]   \n",
              "3                                       [TriereGorum]   \n",
              "4                                   [donaldherring11]   \n",
              "5                                       [Sparrowette]   \n",
              "6                                        [Chris_1791]   \n",
              "7                                       [BNP_forever]   \n",
              "8                                           [julz011]   \n",
              "9   [ProJohnnyDepp, ProJohnnyDepp, ProJohnnyDepp, ...   \n",
              "10                                   [jayneb68910675]   \n",
              "11                                       [99odnalloh]   \n",
              "12                                     [TheBlastNews]   \n",
              "13                                    [FonMananchaya]   \n",
              "14                                     [the1tigirius]   \n",
              "15                                   [DailyMailCeleb]   \n",
              "16                                  [spirituallyemp1]   \n",
              "17                                  [cantholdthedram]   \n",
              "18                                      [BIGDaddio29]   \n",
              "19                                       [filmtotaal]   \n",
              "20                                  [VictoriaBreakw1]   \n",
              "21                                       [EwaStanska]   \n",
              "22                        [doctuir, doctuir, doctuir]   \n",
              "23                                    [WCmeshfighter]   \n",
              "24                                     [zzuzanna_kow]   \n",
              "25                                   [HothOffPodcast]   \n",
              "26                                       [Htj0115Joy]   \n",
              "27                                       [GPennyshot]   \n",
              "28                                      [SkellyHelly]   \n",
              "29                                   [cinemaniaco_fb]   \n",
              "\n",
              "    NumberOfUsersShareSameUrl  NumberOfSharedUrl  \\\n",
              "0                           0                  8   \n",
              "1                           0                  2   \n",
              "2                           0                  1   \n",
              "3                           0                  1   \n",
              "4                           0                  1   \n",
              "5                           0                  1   \n",
              "6                           0                  1   \n",
              "7                           0                  1   \n",
              "8                           0                  1   \n",
              "9                           0                 13   \n",
              "10                          0                  1   \n",
              "11                          0                  1   \n",
              "12                          0                  1   \n",
              "13                          0                  1   \n",
              "14                          0                  1   \n",
              "15                          0                  1   \n",
              "16                          0                  1   \n",
              "17                          0                  1   \n",
              "18                          0                  1   \n",
              "19                          0                  1   \n",
              "20                          0                  1   \n",
              "21                          0                  1   \n",
              "22                          0                  3   \n",
              "23                          0                  1   \n",
              "24                          0                  1   \n",
              "25                          0                  1   \n",
              "26                          0                  1   \n",
              "27                          0                  1   \n",
              "28                          0                  1   \n",
              "29                          0                  1   \n",
              "\n",
              "                           uniqueUserNameShareSameUrl  \n",
              "0   [Elfunadoreturns, AadiK36769152, tribecadreams...  \n",
              "1                                   [CherylD59995761]  \n",
              "2                                        [Om39472295]  \n",
              "3                                       [TriereGorum]  \n",
              "4                                   [donaldherring11]  \n",
              "5                                       [Sparrowette]  \n",
              "6                                        [Chris_1791]  \n",
              "7                                       [BNP_forever]  \n",
              "8                                           [julz011]  \n",
              "9                                     [ProJohnnyDepp]  \n",
              "10                                   [jayneb68910675]  \n",
              "11                                       [99odnalloh]  \n",
              "12                                     [TheBlastNews]  \n",
              "13                                    [FonMananchaya]  \n",
              "14                                     [the1tigirius]  \n",
              "15                                   [DailyMailCeleb]  \n",
              "16                                  [spirituallyemp1]  \n",
              "17                                  [cantholdthedram]  \n",
              "18                                      [BIGDaddio29]  \n",
              "19                                       [filmtotaal]  \n",
              "20                                  [VictoriaBreakw1]  \n",
              "21                                       [EwaStanska]  \n",
              "22                                          [doctuir]  \n",
              "23                                    [WCmeshfighter]  \n",
              "24                                     [zzuzanna_kow]  \n",
              "25                                   [HothOffPodcast]  \n",
              "26                                       [Htj0115Joy]  \n",
              "27                                       [GPennyshot]  \n",
              "28                                      [SkellyHelly]  \n",
              "29                                   [cinemaniaco_fb]  "
            ],
            "text/html": [
              "\n",
              "  <div id=\"df-57bad3f6-1571-461c-935a-0148864ef7b2\">\n",
              "    <div class=\"colab-df-container\">\n",
              "      <div>\n",
              "<style scoped>\n",
              "    .dataframe tbody tr th:only-of-type {\n",
              "        vertical-align: middle;\n",
              "    }\n",
              "\n",
              "    .dataframe tbody tr th {\n",
              "        vertical-align: top;\n",
              "    }\n",
              "\n",
              "    .dataframe thead th {\n",
              "        text-align: right;\n",
              "    }\n",
              "</style>\n",
              "<table border=\"1\" class=\"dataframe\">\n",
              "  <thead>\n",
              "    <tr style=\"text-align: right;\">\n",
              "      <th></th>\n",
              "      <th>url</th>\n",
              "      <th>user.screen_name</th>\n",
              "      <th>NumberOfUsersShareSameUrl</th>\n",
              "      <th>NumberOfSharedUrl</th>\n",
              "      <th>uniqueUserNameShareSameUrl</th>\n",
              "    </tr>\n",
              "  </thead>\n",
              "  <tbody>\n",
              "    <tr>\n",
              "      <th>0</th>\n",
              "      <td>https://support.twitter.com/articles/20169199</td>\n",
              "      <td>[JasonIsGone_, AadiK36769152, JasonIsGone_, El...</td>\n",
              "      <td>0</td>\n",
              "      <td>8</td>\n",
              "      <td>[Elfunadoreturns, AadiK36769152, tribecadreams...</td>\n",
              "    </tr>\n",
              "    <tr>\n",
              "      <th>1</th>\n",
              "      <td>https://t.co/008uEAJnId</td>\n",
              "      <td>[CherylD59995761, CherylD59995761]</td>\n",
              "      <td>0</td>\n",
              "      <td>2</td>\n",
              "      <td>[CherylD59995761]</td>\n",
              "    </tr>\n",
              "    <tr>\n",
              "      <th>2</th>\n",
              "      <td>https://t.co/00D3q4f9Yx</td>\n",
              "      <td>[Om39472295]</td>\n",
              "      <td>0</td>\n",
              "      <td>1</td>\n",
              "      <td>[Om39472295]</td>\n",
              "    </tr>\n",
              "    <tr>\n",
              "      <th>3</th>\n",
              "      <td>https://t.co/00Vfekd0aP</td>\n",
              "      <td>[TriereGorum]</td>\n",
              "      <td>0</td>\n",
              "      <td>1</td>\n",
              "      <td>[TriereGorum]</td>\n",
              "    </tr>\n",
              "    <tr>\n",
              "      <th>4</th>\n",
              "      <td>https://t.co/00jDf9wcWW</td>\n",
              "      <td>[donaldherring11]</td>\n",
              "      <td>0</td>\n",
              "      <td>1</td>\n",
              "      <td>[donaldherring11]</td>\n",
              "    </tr>\n",
              "    <tr>\n",
              "      <th>5</th>\n",
              "      <td>https://t.co/00nXG9EAkq</td>\n",
              "      <td>[Sparrowette]</td>\n",
              "      <td>0</td>\n",
              "      <td>1</td>\n",
              "      <td>[Sparrowette]</td>\n",
              "    </tr>\n",
              "    <tr>\n",
              "      <th>6</th>\n",
              "      <td>https://t.co/00sfRPkU1i</td>\n",
              "      <td>[Chris_1791]</td>\n",
              "      <td>0</td>\n",
              "      <td>1</td>\n",
              "      <td>[Chris_1791]</td>\n",
              "    </tr>\n",
              "    <tr>\n",
              "      <th>7</th>\n",
              "      <td>https://t.co/00te9RfG2v</td>\n",
              "      <td>[BNP_forever]</td>\n",
              "      <td>0</td>\n",
              "      <td>1</td>\n",
              "      <td>[BNP_forever]</td>\n",
              "    </tr>\n",
              "    <tr>\n",
              "      <th>8</th>\n",
              "      <td>https://t.co/018uIVC9aN</td>\n",
              "      <td>[julz011]</td>\n",
              "      <td>0</td>\n",
              "      <td>1</td>\n",
              "      <td>[julz011]</td>\n",
              "    </tr>\n",
              "    <tr>\n",
              "      <th>9</th>\n",
              "      <td>https://t.co/01N0vPjFuT</td>\n",
              "      <td>[ProJohnnyDepp, ProJohnnyDepp, ProJohnnyDepp, ...</td>\n",
              "      <td>0</td>\n",
              "      <td>13</td>\n",
              "      <td>[ProJohnnyDepp]</td>\n",
              "    </tr>\n",
              "    <tr>\n",
              "      <th>10</th>\n",
              "      <td>https://t.co/01ZrU88YIT</td>\n",
              "      <td>[jayneb68910675]</td>\n",
              "      <td>0</td>\n",
              "      <td>1</td>\n",
              "      <td>[jayneb68910675]</td>\n",
              "    </tr>\n",
              "    <tr>\n",
              "      <th>11</th>\n",
              "      <td>https://t.co/01rcIaQPal</td>\n",
              "      <td>[99odnalloh]</td>\n",
              "      <td>0</td>\n",
              "      <td>1</td>\n",
              "      <td>[99odnalloh]</td>\n",
              "    </tr>\n",
              "    <tr>\n",
              "      <th>12</th>\n",
              "      <td>https://t.co/02GUTkofOy</td>\n",
              "      <td>[TheBlastNews]</td>\n",
              "      <td>0</td>\n",
              "      <td>1</td>\n",
              "      <td>[TheBlastNews]</td>\n",
              "    </tr>\n",
              "    <tr>\n",
              "      <th>13</th>\n",
              "      <td>https://t.co/02ngnw10qk</td>\n",
              "      <td>[FonMananchaya]</td>\n",
              "      <td>0</td>\n",
              "      <td>1</td>\n",
              "      <td>[FonMananchaya]</td>\n",
              "    </tr>\n",
              "    <tr>\n",
              "      <th>14</th>\n",
              "      <td>https://t.co/02q7J9Wfbu</td>\n",
              "      <td>[the1tigirius]</td>\n",
              "      <td>0</td>\n",
              "      <td>1</td>\n",
              "      <td>[the1tigirius]</td>\n",
              "    </tr>\n",
              "    <tr>\n",
              "      <th>15</th>\n",
              "      <td>https://t.co/034lZpUPnW</td>\n",
              "      <td>[DailyMailCeleb]</td>\n",
              "      <td>0</td>\n",
              "      <td>1</td>\n",
              "      <td>[DailyMailCeleb]</td>\n",
              "    </tr>\n",
              "    <tr>\n",
              "      <th>16</th>\n",
              "      <td>https://t.co/038QMPhg3g</td>\n",
              "      <td>[spirituallyemp1]</td>\n",
              "      <td>0</td>\n",
              "      <td>1</td>\n",
              "      <td>[spirituallyemp1]</td>\n",
              "    </tr>\n",
              "    <tr>\n",
              "      <th>17</th>\n",
              "      <td>https://t.co/03NBubwLRX</td>\n",
              "      <td>[cantholdthedram]</td>\n",
              "      <td>0</td>\n",
              "      <td>1</td>\n",
              "      <td>[cantholdthedram]</td>\n",
              "    </tr>\n",
              "    <tr>\n",
              "      <th>18</th>\n",
              "      <td>https://t.co/03Zr79QRtV</td>\n",
              "      <td>[BIGDaddio29]</td>\n",
              "      <td>0</td>\n",
              "      <td>1</td>\n",
              "      <td>[BIGDaddio29]</td>\n",
              "    </tr>\n",
              "    <tr>\n",
              "      <th>19</th>\n",
              "      <td>https://t.co/044fxrf5C4</td>\n",
              "      <td>[filmtotaal]</td>\n",
              "      <td>0</td>\n",
              "      <td>1</td>\n",
              "      <td>[filmtotaal]</td>\n",
              "    </tr>\n",
              "    <tr>\n",
              "      <th>20</th>\n",
              "      <td>https://t.co/045fNvfPVo</td>\n",
              "      <td>[VictoriaBreakw1]</td>\n",
              "      <td>0</td>\n",
              "      <td>1</td>\n",
              "      <td>[VictoriaBreakw1]</td>\n",
              "    </tr>\n",
              "    <tr>\n",
              "      <th>21</th>\n",
              "      <td>https://t.co/048RIjLkOh</td>\n",
              "      <td>[EwaStanska]</td>\n",
              "      <td>0</td>\n",
              "      <td>1</td>\n",
              "      <td>[EwaStanska]</td>\n",
              "    </tr>\n",
              "    <tr>\n",
              "      <th>22</th>\n",
              "      <td>https://t.co/049Rd4eeBS</td>\n",
              "      <td>[doctuir, doctuir, doctuir]</td>\n",
              "      <td>0</td>\n",
              "      <td>3</td>\n",
              "      <td>[doctuir]</td>\n",
              "    </tr>\n",
              "    <tr>\n",
              "      <th>23</th>\n",
              "      <td>https://t.co/04AzV6ar3E</td>\n",
              "      <td>[WCmeshfighter]</td>\n",
              "      <td>0</td>\n",
              "      <td>1</td>\n",
              "      <td>[WCmeshfighter]</td>\n",
              "    </tr>\n",
              "    <tr>\n",
              "      <th>24</th>\n",
              "      <td>https://t.co/04LVVTnBLW</td>\n",
              "      <td>[zzuzanna_kow]</td>\n",
              "      <td>0</td>\n",
              "      <td>1</td>\n",
              "      <td>[zzuzanna_kow]</td>\n",
              "    </tr>\n",
              "    <tr>\n",
              "      <th>25</th>\n",
              "      <td>https://t.co/04RSP0oOKf</td>\n",
              "      <td>[HothOffPodcast]</td>\n",
              "      <td>0</td>\n",
              "      <td>1</td>\n",
              "      <td>[HothOffPodcast]</td>\n",
              "    </tr>\n",
              "    <tr>\n",
              "      <th>26</th>\n",
              "      <td>https://t.co/051DfTbAgc</td>\n",
              "      <td>[Htj0115Joy]</td>\n",
              "      <td>0</td>\n",
              "      <td>1</td>\n",
              "      <td>[Htj0115Joy]</td>\n",
              "    </tr>\n",
              "    <tr>\n",
              "      <th>27</th>\n",
              "      <td>https://t.co/05CthhgXdp</td>\n",
              "      <td>[GPennyshot]</td>\n",
              "      <td>0</td>\n",
              "      <td>1</td>\n",
              "      <td>[GPennyshot]</td>\n",
              "    </tr>\n",
              "    <tr>\n",
              "      <th>28</th>\n",
              "      <td>https://t.co/05INUmxY2q</td>\n",
              "      <td>[SkellyHelly]</td>\n",
              "      <td>0</td>\n",
              "      <td>1</td>\n",
              "      <td>[SkellyHelly]</td>\n",
              "    </tr>\n",
              "    <tr>\n",
              "      <th>29</th>\n",
              "      <td>https://t.co/05IeCkH5D8</td>\n",
              "      <td>[cinemaniaco_fb]</td>\n",
              "      <td>0</td>\n",
              "      <td>1</td>\n",
              "      <td>[cinemaniaco_fb]</td>\n",
              "    </tr>\n",
              "  </tbody>\n",
              "</table>\n",
              "</div>\n",
              "      <button class=\"colab-df-convert\" onclick=\"convertToInteractive('df-57bad3f6-1571-461c-935a-0148864ef7b2')\"\n",
              "              title=\"Convert this dataframe to an interactive table.\"\n",
              "              style=\"display:none;\">\n",
              "        \n",
              "  <svg xmlns=\"http://www.w3.org/2000/svg\" height=\"24px\"viewBox=\"0 0 24 24\"\n",
              "       width=\"24px\">\n",
              "    <path d=\"M0 0h24v24H0V0z\" fill=\"none\"/>\n",
              "    <path d=\"M18.56 5.44l.94 2.06.94-2.06 2.06-.94-2.06-.94-.94-2.06-.94 2.06-2.06.94zm-11 1L8.5 8.5l.94-2.06 2.06-.94-2.06-.94L8.5 2.5l-.94 2.06-2.06.94zm10 10l.94 2.06.94-2.06 2.06-.94-2.06-.94-.94-2.06-.94 2.06-2.06.94z\"/><path d=\"M17.41 7.96l-1.37-1.37c-.4-.4-.92-.59-1.43-.59-.52 0-1.04.2-1.43.59L10.3 9.45l-7.72 7.72c-.78.78-.78 2.05 0 2.83L4 21.41c.39.39.9.59 1.41.59.51 0 1.02-.2 1.41-.59l7.78-7.78 2.81-2.81c.8-.78.8-2.07 0-2.86zM5.41 20L4 18.59l7.72-7.72 1.47 1.35L5.41 20z\"/>\n",
              "  </svg>\n",
              "      </button>\n",
              "      \n",
              "  <style>\n",
              "    .colab-df-container {\n",
              "      display:flex;\n",
              "      flex-wrap:wrap;\n",
              "      gap: 12px;\n",
              "    }\n",
              "\n",
              "    .colab-df-convert {\n",
              "      background-color: #E8F0FE;\n",
              "      border: none;\n",
              "      border-radius: 50%;\n",
              "      cursor: pointer;\n",
              "      display: none;\n",
              "      fill: #1967D2;\n",
              "      height: 32px;\n",
              "      padding: 0 0 0 0;\n",
              "      width: 32px;\n",
              "    }\n",
              "\n",
              "    .colab-df-convert:hover {\n",
              "      background-color: #E2EBFA;\n",
              "      box-shadow: 0px 1px 2px rgba(60, 64, 67, 0.3), 0px 1px 3px 1px rgba(60, 64, 67, 0.15);\n",
              "      fill: #174EA6;\n",
              "    }\n",
              "\n",
              "    [theme=dark] .colab-df-convert {\n",
              "      background-color: #3B4455;\n",
              "      fill: #D2E3FC;\n",
              "    }\n",
              "\n",
              "    [theme=dark] .colab-df-convert:hover {\n",
              "      background-color: #434B5C;\n",
              "      box-shadow: 0px 1px 3px 1px rgba(0, 0, 0, 0.15);\n",
              "      filter: drop-shadow(0px 1px 2px rgba(0, 0, 0, 0.3));\n",
              "      fill: #FFFFFF;\n",
              "    }\n",
              "  </style>\n",
              "\n",
              "      <script>\n",
              "        const buttonEl =\n",
              "          document.querySelector('#df-57bad3f6-1571-461c-935a-0148864ef7b2 button.colab-df-convert');\n",
              "        buttonEl.style.display =\n",
              "          google.colab.kernel.accessAllowed ? 'block' : 'none';\n",
              "\n",
              "        async function convertToInteractive(key) {\n",
              "          const element = document.querySelector('#df-57bad3f6-1571-461c-935a-0148864ef7b2');\n",
              "          const dataTable =\n",
              "            await google.colab.kernel.invokeFunction('convertToInteractive',\n",
              "                                                     [key], {});\n",
              "          if (!dataTable) return;\n",
              "\n",
              "          const docLinkHtml = 'Like what you see? Visit the ' +\n",
              "            '<a target=\"_blank\" href=https://colab.research.google.com/notebooks/data_table.ipynb>data table notebook</a>'\n",
              "            + ' to learn more about interactive tables.';\n",
              "          element.innerHTML = '';\n",
              "          dataTable['output_type'] = 'display_data';\n",
              "          await google.colab.output.renderOutput(dataTable, element);\n",
              "          const docLink = document.createElement('div');\n",
              "          docLink.innerHTML = docLinkHtml;\n",
              "          element.appendChild(docLink);\n",
              "        }\n",
              "      </script>\n",
              "    </div>\n",
              "  </div>\n",
              "  "
            ]
          },
          "metadata": {},
          "execution_count": 62
        }
      ],
      "source": [
        "df.head(30)"
      ]
    },
    {
      "cell_type": "code",
      "source": [
        "df['unshorten_urls'] = 0\n"
      ],
      "metadata": {
        "id": "nvxGAqztesB2"
      },
      "execution_count": null,
      "outputs": []
    },
    {
      "cell_type": "code",
      "source": [
        ""
      ],
      "metadata": {
        "id": "oZuIcbshfZwC"
      },
      "execution_count": null,
      "outputs": []
    },
    {
      "cell_type": "code",
      "source": [
        "import requests\n",
        "\n",
        "session = requests.Session()  # so connections are recycled\n",
        "resp = session.head('https://t.co/5djnLz36zv', allow_redirects=True)\n",
        "print(resp.url)"
      ],
      "metadata": {
        "id": "s5ReTCfce9jb"
      },
      "execution_count": null,
      "outputs": []
    },
    {
      "cell_type": "code",
      "execution_count": null,
      "metadata": {
        "id": "ZyDxiO4dneMo"
      },
      "outputs": [],
      "source": [
        "df.to_csv('urlsharing.csv' , index = False)"
      ]
    }
  ],
  "metadata": {
    "colab": {
      "collapsed_sections": [],
      "name": "UrlRelations.ipynb",
      "provenance": []
    },
    "kernelspec": {
      "display_name": "Python 3",
      "name": "python3"
    },
    "language_info": {
      "name": "python"
    }
  },
  "nbformat": 4,
  "nbformat_minor": 0
}