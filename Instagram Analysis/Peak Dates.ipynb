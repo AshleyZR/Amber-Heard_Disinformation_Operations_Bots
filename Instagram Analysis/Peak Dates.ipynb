{
 "cells": [
  {
   "cell_type": "markdown",
   "id": "89432a10",
   "metadata": {},
   "source": [
    "# Social Network Analysis - Amber Heard Case - Instagram\n",
    "Adel Abu Hashim & Mahmoud Nagy - November 2021"
   ]
  },
  {
   "cell_type": "markdown",
   "id": "33280af7",
   "metadata": {},
   "source": [
    "## Table of Contents\n",
    "<ul>\n",
    "<li><a href=\"#intro\"><b>Introduction</b></a></li>\n",
    "<li><a href=\"#eda\">Exploratory Data Analysis</a></li>\n",
    "<li><a href=\"#conclusions\">Conclusions</a></li>\n",
    "</ul>"
   ]
  },
  {
   "cell_type": "markdown",
   "id": "11a40e3c",
   "metadata": {},
   "source": [
    "<a id='intro'></a>\n",
    "## Introduction\n",
    "\n",
    ">This case study aims to help **Amber Heard** <br>\n",
    "> \n",
    "> By analyzing new accounts posting/ commenting against a victim of a Social Bot Disinformation/Influence Operation. \n",
    "> \n",
    "> **We have two main datasets**: <br>\n",
    ">(The datasets screaped from **Instagram**).\n",
    "> - 1- A dataset with posts data.\n",
    "> - 2- A dataset with comments data."
   ]
  },
  {
   "cell_type": "code",
   "execution_count": 1,
   "id": "5dafd797",
   "metadata": {},
   "outputs": [],
   "source": [
    "import pandas as pd\n",
    "import os\n",
    "from datetime import datetime\n",
    "import numpy as np\n",
    "import matplotlib.pyplot as plt\n",
    "import seaborn as sb\n",
    "import plotly.express as px\n",
    "import plotly.graph_objects as go\n",
    "import warnings\n",
    "import re\n",
    "import seaborn as sb\n",
    "import re\n",
    "\n",
    "warnings.filterwarnings(\"ignore\")\n",
    "\n",
    "import plotly.io as pio\n",
    "from helpers import barh, pie, get_top, handler, isnull, bar, bar_peaks, facet_days\n",
    "\n",
    "pio.renderers\n",
    "# pio.renderers.default = \"svg\"\n",
    "svg_renderer = pio.renderers[\"svg\"]\n",
    "svg_renderer.width = 950\n",
    "svg_renderer.height = 550\n",
    "\n",
    "%matplotlib inline"
   ]
  },
  {
   "cell_type": "code",
   "execution_count": 2,
   "id": "de8479a6",
   "metadata": {},
   "outputs": [],
   "source": [
    "os.chdir(\"../Data\")"
   ]
  },
  {
   "cell_type": "code",
   "execution_count": 3,
   "id": "f85a27c5",
   "metadata": {},
   "outputs": [
    {
     "name": "stdout",
     "output_type": "stream",
     "text": [
      "1Mil Instagram AH SNA comments.zip\r\n",
      "Instagram Posts - AH 2018-2021 study 193K.zip\r\n",
      "Instagram SNA AH comments.zip\r\n",
      "comments.csv\r\n",
      "comments_cleaned.csv\r\n",
      "comments_text.csv\r\n",
      "posts.csv\r\n",
      "posts_cleaned.csv\r\n"
     ]
    }
   ],
   "source": [
    "ls"
   ]
  },
  {
   "cell_type": "code",
   "execution_count": 4,
   "id": "d20b23e8",
   "metadata": {},
   "outputs": [],
   "source": [
    "original_comments = pd.read_csv('comments.csv')"
   ]
  },
  {
   "cell_type": "code",
   "execution_count": 5,
   "id": "b5553755",
   "metadata": {},
   "outputs": [
    {
     "data": {
      "text/html": [
       "<div>\n",
       "<style scoped>\n",
       "    .dataframe tbody tr th:only-of-type {\n",
       "        vertical-align: middle;\n",
       "    }\n",
       "\n",
       "    .dataframe tbody tr th {\n",
       "        vertical-align: top;\n",
       "    }\n",
       "\n",
       "    .dataframe thead th {\n",
       "        text-align: right;\n",
       "    }\n",
       "</style>\n",
       "<table border=\"1\" class=\"dataframe\">\n",
       "  <thead>\n",
       "    <tr style=\"text-align: right;\">\n",
       "      <th></th>\n",
       "      <th>message</th>\n",
       "      <th>timestamp</th>\n",
       "      <th>id</th>\n",
       "      <th>n_replies</th>\n",
       "      <th>n_likes</th>\n",
       "      <th>media_id</th>\n",
       "      <th>in_reply_to</th>\n",
       "      <th>from.id</th>\n",
       "      <th>from.username</th>\n",
       "      <th>from.is_verified</th>\n",
       "      <th>from.url</th>\n",
       "      <th>from.profile_pic</th>\n",
       "    </tr>\n",
       "  </thead>\n",
       "  <tbody>\n",
       "    <tr>\n",
       "      <th>0</th>\n",
       "      <td>#scarlettjohansson #alexandradaddario #emiliac...</td>\n",
       "      <td>1.592888e+09</td>\n",
       "      <td>1.791523e+16</td>\n",
       "      <td>0.0</td>\n",
       "      <td>0.0</td>\n",
       "      <td>2.337635e+18</td>\n",
       "      <td>NaN</td>\n",
       "      <td>3.988264e+09</td>\n",
       "      <td>scarlettjohansonoffcial</td>\n",
       "      <td>False</td>\n",
       "      <td>https://www.instagram.com/scarlettjohansonoffcial</td>\n",
       "      <td>NaN</td>\n",
       "    </tr>\n",
       "    <tr>\n",
       "      <th>1</th>\n",
       "      <td>🔥🔥❤️</td>\n",
       "      <td>1.592888e+09</td>\n",
       "      <td>1.784587e+16</td>\n",
       "      <td>0.0</td>\n",
       "      <td>0.0</td>\n",
       "      <td>2.337635e+18</td>\n",
       "      <td>NaN</td>\n",
       "      <td>3.988264e+09</td>\n",
       "      <td>scarlettjohansonoffcial</td>\n",
       "      <td>False</td>\n",
       "      <td>https://www.instagram.com/scarlettjohansonoffcial</td>\n",
       "      <td>NaN</td>\n",
       "    </tr>\n",
       "    <tr>\n",
       "      <th>2</th>\n",
       "      <td>Very beautiful 😘❤️❤️❤️i love you very much 😍💘💘...</td>\n",
       "      <td>1.592888e+09</td>\n",
       "      <td>1.788947e+16</td>\n",
       "      <td>0.0</td>\n",
       "      <td>0.0</td>\n",
       "      <td>2.337635e+18</td>\n",
       "      <td>NaN</td>\n",
       "      <td>1.230201e+10</td>\n",
       "      <td>fr.ederic2368</td>\n",
       "      <td>False</td>\n",
       "      <td>https://www.instagram.com/fr.ederic2368</td>\n",
       "      <td>NaN</td>\n",
       "    </tr>\n",
       "    <tr>\n",
       "      <th>3</th>\n",
       "      <td>❤️❤️❤️❤️❤️❤️</td>\n",
       "      <td>1.592889e+09</td>\n",
       "      <td>1.786950e+16</td>\n",
       "      <td>0.0</td>\n",
       "      <td>0.0</td>\n",
       "      <td>2.337635e+18</td>\n",
       "      <td>NaN</td>\n",
       "      <td>2.490417e+09</td>\n",
       "      <td>muataz_87</td>\n",
       "      <td>False</td>\n",
       "      <td>https://www.instagram.com/muataz_87</td>\n",
       "      <td>NaN</td>\n",
       "    </tr>\n",
       "    <tr>\n",
       "      <th>4</th>\n",
       "      <td>Bombón bello 💖💖💖💖💖</td>\n",
       "      <td>1.592889e+09</td>\n",
       "      <td>1.806608e+16</td>\n",
       "      <td>0.0</td>\n",
       "      <td>0.0</td>\n",
       "      <td>2.337635e+18</td>\n",
       "      <td>NaN</td>\n",
       "      <td>1.521544e+09</td>\n",
       "      <td>jorgero122129</td>\n",
       "      <td>False</td>\n",
       "      <td>https://www.instagram.com/jorgero122129</td>\n",
       "      <td>NaN</td>\n",
       "    </tr>\n",
       "  </tbody>\n",
       "</table>\n",
       "</div>"
      ],
      "text/plain": [
       "                                             message     timestamp  \\\n",
       "0  #scarlettjohansson #alexandradaddario #emiliac...  1.592888e+09   \n",
       "1                                               🔥🔥❤️  1.592888e+09   \n",
       "2  Very beautiful 😘❤️❤️❤️i love you very much 😍💘💘...  1.592888e+09   \n",
       "3                                       ❤️❤️❤️❤️❤️❤️  1.592889e+09   \n",
       "4                                 Bombón bello 💖💖💖💖💖  1.592889e+09   \n",
       "\n",
       "             id  n_replies  n_likes      media_id  in_reply_to       from.id  \\\n",
       "0  1.791523e+16        0.0      0.0  2.337635e+18          NaN  3.988264e+09   \n",
       "1  1.784587e+16        0.0      0.0  2.337635e+18          NaN  3.988264e+09   \n",
       "2  1.788947e+16        0.0      0.0  2.337635e+18          NaN  1.230201e+10   \n",
       "3  1.786950e+16        0.0      0.0  2.337635e+18          NaN  2.490417e+09   \n",
       "4  1.806608e+16        0.0      0.0  2.337635e+18          NaN  1.521544e+09   \n",
       "\n",
       "             from.username from.is_verified  \\\n",
       "0  scarlettjohansonoffcial            False   \n",
       "1  scarlettjohansonoffcial            False   \n",
       "2            fr.ederic2368            False   \n",
       "3                muataz_87            False   \n",
       "4            jorgero122129            False   \n",
       "\n",
       "                                            from.url from.profile_pic  \n",
       "0  https://www.instagram.com/scarlettjohansonoffcial              NaN  \n",
       "1  https://www.instagram.com/scarlettjohansonoffcial              NaN  \n",
       "2            https://www.instagram.com/fr.ederic2368              NaN  \n",
       "3                https://www.instagram.com/muataz_87              NaN  \n",
       "4            https://www.instagram.com/jorgero122129              NaN  "
      ]
     },
     "execution_count": 5,
     "metadata": {},
     "output_type": "execute_result"
    }
   ],
   "source": [
    "original_comments.head()"
   ]
  },
  {
   "cell_type": "markdown",
   "id": "7c766b4e",
   "metadata": {},
   "source": [
    "<a id='eda'></a>\n",
    "## Exploratory Data Analysis\n",
    "<ul>\n",
    "<li><a href=\"#intro\">Introduction</a></li>\n",
    "<li><a href=\"#eda\"><b>Exploratory Data Analysis</b></a></li>\n",
    "<li><a href=\"#conclusions\">Conclusions</a></li>\n",
    "</ul>"
   ]
  },
  {
   "cell_type": "markdown",
   "id": "2160983c",
   "metadata": {},
   "source": [
    "<a id='comments'></a>\n",
    "## Comments\n",
    "> <ul>\n",
    " <li><a href=\"#over_time\">Comments Created OVER TIME</a></li>\n",
    " <li><a href=\"#peaks\">Investigate Peaks</a></li>\n",
    " <li><a href=\"#top_peaks\">Comments on Peak Days</a></li>\n",
    " <li><a href=\"#top_hours\">Comments on Peak Hours</a></li>\n",
    " <li><a href=\"#top_times\">Comments on Peak Times</a></li> \n",
    " </ul>"
   ]
  },
  {
   "cell_type": "code",
   "execution_count": 39,
   "id": "340d9a05",
   "metadata": {},
   "outputs": [
    {
     "name": "stdout",
     "output_type": "stream",
     "text": [
      "(1751113, 16)\n"
     ]
    },
    {
     "data": {
      "text/html": [
       "<div>\n",
       "<style scoped>\n",
       "    .dataframe tbody tr th:only-of-type {\n",
       "        vertical-align: middle;\n",
       "    }\n",
       "\n",
       "    .dataframe tbody tr th {\n",
       "        vertical-align: top;\n",
       "    }\n",
       "\n",
       "    .dataframe thead th {\n",
       "        text-align: right;\n",
       "    }\n",
       "</style>\n",
       "<table border=\"1\" class=\"dataframe\">\n",
       "  <thead>\n",
       "    <tr style=\"text-align: right;\">\n",
       "      <th></th>\n",
       "      <th>message</th>\n",
       "      <th>datetime</th>\n",
       "      <th>id</th>\n",
       "      <th>n_replies</th>\n",
       "      <th>n_likes</th>\n",
       "      <th>media_id</th>\n",
       "      <th>parent_id</th>\n",
       "      <th>user_id</th>\n",
       "      <th>username</th>\n",
       "      <th>is_verified</th>\n",
       "      <th>account_url</th>\n",
       "      <th>year</th>\n",
       "      <th>month</th>\n",
       "      <th>dayofmonth</th>\n",
       "      <th>date</th>\n",
       "      <th>hour</th>\n",
       "    </tr>\n",
       "  </thead>\n",
       "  <tbody>\n",
       "    <tr>\n",
       "      <th>0</th>\n",
       "      <td>#scarlettjohansson #alexandradaddario #emiliac...</td>\n",
       "      <td>2020-06-23 06:50:19</td>\n",
       "      <td>17915232430430980</td>\n",
       "      <td>0.0</td>\n",
       "      <td>0.0</td>\n",
       "      <td>2337634847974873088</td>\n",
       "      <td>n</td>\n",
       "      <td>3988263563</td>\n",
       "      <td>scarlettjohansonoffcial</td>\n",
       "      <td>False</td>\n",
       "      <td>https://www.instagram.com/scarlettjohansonoffcial</td>\n",
       "      <td>2020</td>\n",
       "      <td>Jun</td>\n",
       "      <td>23</td>\n",
       "      <td>2020-06-23</td>\n",
       "      <td>6</td>\n",
       "    </tr>\n",
       "    <tr>\n",
       "      <th>1</th>\n",
       "      <td>🔥🔥❤️</td>\n",
       "      <td>2020-06-23 06:50:20</td>\n",
       "      <td>17845867817208020</td>\n",
       "      <td>0.0</td>\n",
       "      <td>0.0</td>\n",
       "      <td>2337634847974873088</td>\n",
       "      <td>n</td>\n",
       "      <td>3988263563</td>\n",
       "      <td>scarlettjohansonoffcial</td>\n",
       "      <td>False</td>\n",
       "      <td>https://www.instagram.com/scarlettjohansonoffcial</td>\n",
       "      <td>2020</td>\n",
       "      <td>Jun</td>\n",
       "      <td>23</td>\n",
       "      <td>2020-06-23</td>\n",
       "      <td>6</td>\n",
       "    </tr>\n",
       "    <tr>\n",
       "      <th>2</th>\n",
       "      <td>very beautiful 😘❤️❤️❤️i love you very much 😍💘💘...</td>\n",
       "      <td>2020-06-23 06:54:04</td>\n",
       "      <td>17889474637566402</td>\n",
       "      <td>0.0</td>\n",
       "      <td>0.0</td>\n",
       "      <td>2337634847974873088</td>\n",
       "      <td>n</td>\n",
       "      <td>12302008022</td>\n",
       "      <td>fr.ederic2368</td>\n",
       "      <td>False</td>\n",
       "      <td>https://www.instagram.com/fr.ederic2368</td>\n",
       "      <td>2020</td>\n",
       "      <td>Jun</td>\n",
       "      <td>23</td>\n",
       "      <td>2020-06-23</td>\n",
       "      <td>6</td>\n",
       "    </tr>\n",
       "    <tr>\n",
       "      <th>3</th>\n",
       "      <td>❤️❤️❤️❤️❤️❤️</td>\n",
       "      <td>2020-06-23 07:12:28</td>\n",
       "      <td>17869498675832482</td>\n",
       "      <td>0.0</td>\n",
       "      <td>0.0</td>\n",
       "      <td>2337634847974873088</td>\n",
       "      <td>n</td>\n",
       "      <td>2490417195</td>\n",
       "      <td>muataz_87</td>\n",
       "      <td>False</td>\n",
       "      <td>https://www.instagram.com/muataz_87</td>\n",
       "      <td>2020</td>\n",
       "      <td>Jun</td>\n",
       "      <td>23</td>\n",
       "      <td>2020-06-23</td>\n",
       "      <td>7</td>\n",
       "    </tr>\n",
       "    <tr>\n",
       "      <th>4</th>\n",
       "      <td>bombón bello 💖💖💖💖💖</td>\n",
       "      <td>2020-06-23 07:14:40</td>\n",
       "      <td>18066076495222844</td>\n",
       "      <td>0.0</td>\n",
       "      <td>0.0</td>\n",
       "      <td>2337634847974873088</td>\n",
       "      <td>n</td>\n",
       "      <td>1521544054</td>\n",
       "      <td>jorgero122129</td>\n",
       "      <td>False</td>\n",
       "      <td>https://www.instagram.com/jorgero122129</td>\n",
       "      <td>2020</td>\n",
       "      <td>Jun</td>\n",
       "      <td>23</td>\n",
       "      <td>2020-06-23</td>\n",
       "      <td>7</td>\n",
       "    </tr>\n",
       "  </tbody>\n",
       "</table>\n",
       "</div>"
      ],
      "text/plain": [
       "                                             message             datetime  \\\n",
       "0  #scarlettjohansson #alexandradaddario #emiliac...  2020-06-23 06:50:19   \n",
       "1                                               🔥🔥❤️  2020-06-23 06:50:20   \n",
       "2  very beautiful 😘❤️❤️❤️i love you very much 😍💘💘...  2020-06-23 06:54:04   \n",
       "3                                       ❤️❤️❤️❤️❤️❤️  2020-06-23 07:12:28   \n",
       "4                                 bombón bello 💖💖💖💖💖  2020-06-23 07:14:40   \n",
       "\n",
       "                  id  n_replies  n_likes             media_id parent_id  \\\n",
       "0  17915232430430980        0.0      0.0  2337634847974873088         n   \n",
       "1  17845867817208020        0.0      0.0  2337634847974873088         n   \n",
       "2  17889474637566402        0.0      0.0  2337634847974873088         n   \n",
       "3  17869498675832482        0.0      0.0  2337634847974873088         n   \n",
       "4  18066076495222844        0.0      0.0  2337634847974873088         n   \n",
       "\n",
       "       user_id                 username  is_verified  \\\n",
       "0   3988263563  scarlettjohansonoffcial        False   \n",
       "1   3988263563  scarlettjohansonoffcial        False   \n",
       "2  12302008022            fr.ederic2368        False   \n",
       "3   2490417195                muataz_87        False   \n",
       "4   1521544054            jorgero122129        False   \n",
       "\n",
       "                                         account_url  year month  dayofmonth  \\\n",
       "0  https://www.instagram.com/scarlettjohansonoffcial  2020   Jun          23   \n",
       "1  https://www.instagram.com/scarlettjohansonoffcial  2020   Jun          23   \n",
       "2            https://www.instagram.com/fr.ederic2368  2020   Jun          23   \n",
       "3                https://www.instagram.com/muataz_87  2020   Jun          23   \n",
       "4            https://www.instagram.com/jorgero122129  2020   Jun          23   \n",
       "\n",
       "         date  hour  \n",
       "0  2020-06-23     6  \n",
       "1  2020-06-23     6  \n",
       "2  2020-06-23     6  \n",
       "3  2020-06-23     7  \n",
       "4  2020-06-23     7  "
      ]
     },
     "execution_count": 39,
     "metadata": {},
     "output_type": "execute_result"
    }
   ],
   "source": [
    "df_comments = pd.read_csv(\"comments_cleaned.csv\")\n",
    "print(df_comments.shape)\n",
    "df_comments.head()"
   ]
  },
  {
   "cell_type": "code",
   "execution_count": 40,
   "id": "7ed77354",
   "metadata": {},
   "outputs": [
    {
     "name": "stdout",
     "output_type": "stream",
     "text": [
      "<class 'pandas.core.frame.DataFrame'>\n",
      "RangeIndex: 1751113 entries, 0 to 1751112\n",
      "Data columns (total 16 columns):\n",
      " #   Column       Dtype         \n",
      "---  ------       -----         \n",
      " 0   message      object        \n",
      " 1   datetime     datetime64[ns]\n",
      " 2   id           int64         \n",
      " 3   n_replies    float64       \n",
      " 4   n_likes      float64       \n",
      " 5   media_id     int64         \n",
      " 6   parent_id    object        \n",
      " 7   user_id      int64         \n",
      " 8   username     object        \n",
      " 9   is_verified  bool          \n",
      " 10  account_url  object        \n",
      " 11  year         int64         \n",
      " 12  month        object        \n",
      " 13  dayofmonth   int64         \n",
      " 14  date         object        \n",
      " 15  hour         int64         \n",
      "dtypes: bool(1), datetime64[ns](1), float64(2), int64(6), object(6)\n",
      "memory usage: 202.1+ MB\n"
     ]
    }
   ],
   "source": [
    "df_comments[\"datetime\"] = pd.to_datetime(df_comments[\"datetime\"])\n",
    "df_comments.info()"
   ]
  },
  {
   "cell_type": "code",
   "execution_count": 41,
   "id": "a6dca9f7",
   "metadata": {},
   "outputs": [
    {
     "name": "stdout",
     "output_type": "stream",
     "text": [
      "The number of NaNs in message: 0\n",
      "The number of NaNs in datetime: 0\n",
      "The number of NaNs in id: 0\n",
      "The number of NaNs in n_replies: 335514\n",
      "The number of NaNs in n_likes: 0\n",
      "The number of NaNs in media_id: 0\n",
      "The number of NaNs in parent_id: 0\n",
      "The number of NaNs in user_id: 0\n",
      "The number of NaNs in username: 0\n",
      "The number of NaNs in is_verified: 0\n",
      "The number of NaNs in account_url: 0\n",
      "The number of NaNs in year: 0\n",
      "The number of NaNs in month: 0\n",
      "The number of NaNs in dayofmonth: 0\n",
      "The number of NaNs in date: 0\n",
      "The number of NaNs in hour: 0\n"
     ]
    }
   ],
   "source": [
    "isnull(df_comments)"
   ]
  },
  {
   "cell_type": "markdown",
   "id": "b8b5100c",
   "metadata": {},
   "source": [
    "   "
   ]
  },
  {
   "cell_type": "markdown",
   "id": "464ad30a",
   "metadata": {},
   "source": [
    "<a id='over_time'></a>\n",
    "> ## Exploring Comments Created OVER TIME\n",
    "> <ul>\n",
    " <li><a href=\"#over_time\"><b>Comments Created OVER TIME</b></a></li>\n",
    " <li><a href=\"#peaks\">Investigate Peaks</a></li>\n",
    " <li><a href=\"#top_peaks\">Comments on Peak Days</a></li>\n",
    " <li><a href=\"#top_hours\">Comments on Peak Hours</a></li>\n",
    " <li><a href=\"#top_times\">Comments on Peak Times</a></li> \n",
    " </ul>"
   ]
  },
  {
   "cell_type": "markdown",
   "id": "916bbd6f",
   "metadata": {},
   "source": [
    "<a id='all_years'></a>\n",
    ">>### Comments Created in Each Year\n",
    "> <ul>\n",
    " <li><a href=\"#all_years\"><b>Comments Created in Each Year</b></a></li>\n",
    " <li><a href=\"#all_months\">Comments Created in Each Month</a></li>\n",
    " <li><a href=\"#all_days\">Comments Created in Each Day</a></li>\n",
    " <li><a href=\"#2018_days\">Comments Created in Each Day of 2018</a></li>\n",
    " <li><a href=\"#2019_days\">Comments Created in Each Day of 2019</a></li>\n",
    " <li><a href=\"#2020_days\">Comments Created in Each Day of 2020</a></li>\n",
    " <li><a href=\"#2021_days\">Comments Created in Each Day of 2021</a></li>\n",
    " </ul>"
   ]
  },
  {
   "cell_type": "code",
   "execution_count": 42,
   "id": "14464fbe",
   "metadata": {},
   "outputs": [
    {
     "data": {
      "text/html": [
       "<div>\n",
       "<style scoped>\n",
       "    .dataframe tbody tr th:only-of-type {\n",
       "        vertical-align: middle;\n",
       "    }\n",
       "\n",
       "    .dataframe tbody tr th {\n",
       "        vertical-align: top;\n",
       "    }\n",
       "\n",
       "    .dataframe thead th {\n",
       "        text-align: right;\n",
       "    }\n",
       "</style>\n",
       "<table border=\"1\" class=\"dataframe\">\n",
       "  <thead>\n",
       "    <tr style=\"text-align: right;\">\n",
       "      <th></th>\n",
       "      <th>year</th>\n",
       "      <th>n_comments</th>\n",
       "    </tr>\n",
       "  </thead>\n",
       "  <tbody>\n",
       "    <tr>\n",
       "      <th>0</th>\n",
       "      <td>2014</td>\n",
       "      <td>4</td>\n",
       "    </tr>\n",
       "    <tr>\n",
       "      <th>1</th>\n",
       "      <td>2015</td>\n",
       "      <td>1</td>\n",
       "    </tr>\n",
       "    <tr>\n",
       "      <th>2</th>\n",
       "      <td>2016</td>\n",
       "      <td>15</td>\n",
       "    </tr>\n",
       "    <tr>\n",
       "      <th>3</th>\n",
       "      <td>2017</td>\n",
       "      <td>116</td>\n",
       "    </tr>\n",
       "    <tr>\n",
       "      <th>4</th>\n",
       "      <td>2018</td>\n",
       "      <td>227847</td>\n",
       "    </tr>\n",
       "    <tr>\n",
       "      <th>5</th>\n",
       "      <td>2019</td>\n",
       "      <td>333197</td>\n",
       "    </tr>\n",
       "    <tr>\n",
       "      <th>6</th>\n",
       "      <td>2020</td>\n",
       "      <td>711339</td>\n",
       "    </tr>\n",
       "    <tr>\n",
       "      <th>7</th>\n",
       "      <td>2021</td>\n",
       "      <td>478594</td>\n",
       "    </tr>\n",
       "  </tbody>\n",
       "</table>\n",
       "</div>"
      ],
      "text/plain": [
       "   year  n_comments\n",
       "0  2014           4\n",
       "1  2015           1\n",
       "2  2016          15\n",
       "3  2017         116\n",
       "4  2018      227847\n",
       "5  2019      333197\n",
       "6  2020      711339\n",
       "7  2021      478594"
      ]
     },
     "execution_count": 42,
     "metadata": {},
     "output_type": "execute_result"
    }
   ],
   "source": [
    "df_years = (\n",
    "    df_comments.groupby(df_comments[\"year\"])[\"message\"]\n",
    "    .count()\n",
    "    .reset_index(name=\"n_comments\")\n",
    ")\n",
    "df_years"
   ]
  },
  {
   "cell_type": "code",
   "execution_count": 43,
   "id": "e9916ffb",
   "metadata": {},
   "outputs": [
    {
     "data": {
      "image/svg+xml": [
       "<svg class=\"main-svg\" xmlns=\"http://www.w3.org/2000/svg\" xmlns:xlink=\"http://www.w3.org/1999/xlink\" width=\"950\" height=\"550\" style=\"\" viewBox=\"0 0 950 550\"><rect x=\"0\" y=\"0\" width=\"950\" height=\"550\" style=\"fill: rgb(255, 255, 255); fill-opacity: 1;\"/><defs id=\"defs-99755b\"><g class=\"clips\"/><g class=\"gradients\"/><g class=\"patterns\"/></defs><g class=\"bglayer\"/><g class=\"layer-below\"><g class=\"imagelayer\"/><g class=\"shapelayer\"/></g><g class=\"cartesianlayer\"/><g class=\"polarlayer\"/><g class=\"ternarylayer\"/><g class=\"geolayer\"/><g class=\"funnelarealayer\"/><g class=\"pielayer\"><g class=\"trace\" stroke-linejoin=\"round\" style=\"opacity: 1;\"><g class=\"slice\"><path class=\"surface\" d=\"M465,285l0,-185a185,185 0 0 1 102.80845010225387,338.80319433474835Z\" style=\"pointer-events: all; stroke-width: 0; fill: rgb(76, 120, 168); fill-opacity: 1; stroke: rgb(68, 68, 68); stroke-opacity: 1;\"/><g class=\"slicetext\"><text data-notex=\"1\" class=\"slicetext\" transform=\"translate(555.4633956003136,246.69768836843724)\" text-anchor=\"middle\" x=\"0\" y=\"0\" style=\"font-family: 'Open Sans', verdana, arial, sans-serif; font-size: 12px; fill: rgb(255, 255, 255); fill-opacity: 1; white-space: pre;\"><tspan class=\"line\" dy=\"0em\" x=\"0\" y=\"0\">2020</tspan><tspan class=\"line\" dy=\"1.3em\" x=\"0\" y=\"0\">711,339</tspan><tspan class=\"line\" dy=\"2.6em\" x=\"0\" y=\"0\">40.6%</tspan></text></g></g><g class=\"slice\"><path class=\"surface\" d=\"M465,285l-183.01960272809094,26.99675938426248a185,185 0 0 1 183.01960272809094,-211.99675938426248Z\" style=\"pointer-events: all; stroke-width: 0; fill: rgb(245, 133, 24); fill-opacity: 1; stroke: rgb(68, 68, 68); stroke-opacity: 1;\"/><g class=\"slicetext\"><text data-notex=\"1\" class=\"slicetext\" transform=\"translate(385.29646950547647,205.3393267876366)\" text-anchor=\"middle\" x=\"0\" y=\"0\" style=\"font-family: 'Open Sans', verdana, arial, sans-serif; font-size: 12px; fill: rgb(255, 255, 255); fill-opacity: 1; white-space: pre;\"><tspan class=\"line\" dy=\"0em\" x=\"0\" y=\"0\">2021</tspan><tspan class=\"line\" dy=\"1.3em\" x=\"0\" y=\"0\">478,594</tspan><tspan class=\"line\" dy=\"2.6em\" x=\"0\" y=\"0\">27.3%</tspan></text></g></g><g class=\"slice\"><path class=\"surface\" d=\"M465,285l-41.95922527087867,180.17886506099336a185,185 0 0 1 -141.06037745721227,-153.18210567673088Z\" style=\"pointer-events: all; stroke-width: 0; fill: rgb(228, 87, 86); fill-opacity: 1; stroke: rgb(68, 68, 68); stroke-opacity: 1;\"/><g class=\"slicetext\"><text data-notex=\"1\" class=\"slicetext\" transform=\"translate(377.92033253397824,354.3372474614463)\" text-anchor=\"middle\" x=\"0\" y=\"0\" style=\"font-family: 'Open Sans', verdana, arial, sans-serif; font-size: 12px; fill: rgb(255, 255, 255); fill-opacity: 1; white-space: pre;\"><tspan class=\"line\" dy=\"0em\" x=\"0\" y=\"0\">2019</tspan><tspan class=\"line\" dy=\"1.3em\" x=\"0\" y=\"0\">333,197</tspan><tspan class=\"line\" dy=\"2.6em\" x=\"0\" y=\"0\">19%</tspan></text></g></g><g class=\"slice\"><path class=\"surface\" d=\"M465,285l102.73338453552331,153.85334478611864a185,185 0 0 1 -144.69260980640198,26.32552027487472Z\" style=\"pointer-events: all; stroke-width: 0; fill: rgb(114, 183, 178); fill-opacity: 1; stroke: rgb(68, 68, 68); stroke-opacity: 1;\"/><g class=\"slicetext\"><text data-notex=\"1\" class=\"slicetext\" transform=\"translate(488.69652843185037,404.3913541206612)\" text-anchor=\"middle\" x=\"0\" y=\"0\" style=\"font-family: 'Open Sans', verdana, arial, sans-serif; font-size: 12px; fill: rgb(255, 255, 255); fill-opacity: 1; white-space: pre;\"><tspan class=\"line\" dy=\"0em\" x=\"0\" y=\"0\">2018</tspan><tspan class=\"line\" dy=\"1.3em\" x=\"0\" y=\"0\">227,847</tspan><tspan class=\"line\" dy=\"2.6em\" x=\"0\" y=\"0\">13%</tspan></text></g></g><g class=\"slice\"><path class=\"surface\" d=\"M465,285l102.79741258328245,153.8105716983797a185,185 0 0 1 -0.06402804775913751,0.04277308773893651Z\" style=\"pointer-events: all; stroke-width: 0; fill: rgb(84, 162, 75); fill-opacity: 1; stroke: rgb(68, 68, 68); stroke-opacity: 1;\"/><g class=\"slicetext\"><text data-notex=\"1\" class=\"slicetext\" transform=\"translate(567.7551745147663,438.78615772844006)scale(0.0015610771290168418)rotate(56.255621424773835)\" text-anchor=\"middle\" x=\"0\" y=\"0\" style=\"font-family: 'Open Sans', verdana, arial, sans-serif; font-size: 12px; fill: rgb(255, 255, 255); fill-opacity: 1; white-space: pre;\"><tspan class=\"line\" dy=\"0em\" x=\"0\" y=\"0\">2017</tspan><tspan class=\"line\" dy=\"1.3em\" x=\"0\" y=\"0\">116</tspan><tspan class=\"line\" dy=\"2.6em\" x=\"0\" y=\"0\">0.00662%</tspan></text></g></g><g class=\"slice\"><path class=\"surface\" d=\"M465,285l102.80569077214423,153.80503874991308a185,185 0 0 1 -0.008278188861780222,0.005532948466623111Z\" style=\"pointer-events: all; stroke-width: 0; fill: rgb(238, 202, 59); fill-opacity: 1; stroke: rgb(68, 68, 68); stroke-opacity: 1;\"/><g class=\"slicetext\"><text data-notex=\"1\" class=\"slicetext\" transform=\"translate(567.7998289974249,438.80128417233993)scale(0.00020194504691611878)rotate(56.24215570325845)\" text-anchor=\"middle\" x=\"0\" y=\"0\" style=\"font-family: 'Open Sans', verdana, arial, sans-serif; font-size: 12px; fill: rgb(255, 255, 255); fill-opacity: 1; white-space: pre;\"><tspan class=\"line\" dy=\"0em\" x=\"0\" y=\"0\">2016</tspan><tspan class=\"line\" dy=\"1.3em\" x=\"0\" y=\"0\">15</tspan><tspan class=\"line\" dy=\"2.6em\" x=\"0\" y=\"0\">0.000857%</tspan></text></g></g><g class=\"slice\"><path class=\"surface\" d=\"M465,285l102.8078982388791,153.80356322174163a185,185 0 0 1 -0.0022074667348732646,0.0014755281714542434Z\" style=\"pointer-events: all; stroke-width: 0; fill: rgb(178, 121, 162); fill-opacity: 1; stroke: rgb(68, 68, 68); stroke-opacity: 1;\"/><g class=\"slicetext\"><text data-notex=\"1\" class=\"slicetext\" transform=\"translate(567.8063350415893,438.80256196639306)scale(0.00005385473599815454)rotate(56.24020265967988)\" text-anchor=\"middle\" x=\"0\" y=\"0\" style=\"font-family: 'Open Sans', verdana, arial, sans-serif; font-size: 12px; fill: rgb(255, 255, 255); fill-opacity: 1; white-space: pre;\"><tspan class=\"line\" dy=\"0em\" x=\"0\" y=\"0\">2014</tspan><tspan class=\"line\" dy=\"1.3em\" x=\"0\" y=\"0\">4</tspan><tspan class=\"line\" dy=\"2.6em\" x=\"0\" y=\"0\">0.000228%</tspan></text></g></g><g class=\"slice\"><path class=\"surface\" d=\"M465,285l102.80845010225391,153.80319433474835a185,185 0 0 1 -0.0005518633748096136,0.0003688869932716443Z\" style=\"pointer-events: all; stroke-width: 0; fill: rgb(255, 157, 166); fill-opacity: 1; stroke: rgb(68, 68, 68); stroke-opacity: 1;\"/><g class=\"slicetext\"><text data-notex=\"1\" class=\"slicetext\" transform=\"translate(567.808032838028,438.8029044321845)scale(0.000013463862772739092)rotate(56.23968870084343)\" text-anchor=\"middle\" x=\"0\" y=\"0\" style=\"font-family: 'Open Sans', verdana, arial, sans-serif; font-size: 12px; fill: rgb(255, 255, 255); fill-opacity: 1; white-space: pre;\"><tspan class=\"line\" dy=\"0em\" x=\"0\" y=\"0\">2015</tspan><tspan class=\"line\" dy=\"1.3em\" x=\"0\" y=\"0\">1</tspan><tspan class=\"line\" dy=\"2.6em\" x=\"0\" y=\"0\">0.0000571%</tspan></text></g></g></g></g><g class=\"iciclelayer\"/><g class=\"treemaplayer\"/><g class=\"sunburstlayer\"/><g class=\"glimages\"/><defs id=\"topdefs-99755b\"><g class=\"clips\"/><clipPath id=\"legend99755b\"><rect width=\"73\" height=\"162\" x=\"0\" y=\"0\"/></clipPath></defs><g class=\"layer-above\"><g class=\"imagelayer\"/><g class=\"shapelayer\"/></g><g class=\"infolayer\"><g class=\"legend\" pointer-events=\"all\" transform=\"translate(865.4,100)\"><rect class=\"bg\" shape-rendering=\"crispEdges\" style=\"stroke: rgb(68, 68, 68); stroke-opacity: 1; fill: rgb(255, 255, 255); fill-opacity: 1; stroke-width: 0px;\" width=\"73\" height=\"162\" x=\"0\" y=\"0\"/><g class=\"scrollbox\" transform=\"\" clip-path=\"url(#legend99755b)\"><g class=\"groups\"><g class=\"traces\" transform=\"translate(0,14.5)\" style=\"opacity: 1;\"><text class=\"legendtext\" text-anchor=\"start\" x=\"40\" y=\"4.680000000000001\" style=\"font-family: 'Open Sans', verdana, arial, sans-serif; font-size: 12px; fill: rgb(42, 63, 95); fill-opacity: 1; white-space: pre;\">2020</text><g class=\"layers\" style=\"opacity: 1;\"><g class=\"legendfill\"/><g class=\"legendlines\"/><g class=\"legendsymbols\"><g class=\"legendpoints\"><path class=\"legendpie\" d=\"M6,6H-6V-6H6Z\" transform=\"translate(20,0)\" style=\"stroke-width: 0; fill: rgb(76, 120, 168); fill-opacity: 1; stroke: rgb(68, 68, 68); stroke-opacity: 1;\"/></g></g></g><rect class=\"legendtoggle\" x=\"0\" y=\"-9.5\" width=\"67.453125\" height=\"19\" style=\"fill: rgb(0, 0, 0); fill-opacity: 0;\"/></g><g class=\"traces\" transform=\"translate(0,33.5)\" style=\"opacity: 1;\"><text class=\"legendtext\" text-anchor=\"start\" x=\"40\" y=\"4.680000000000001\" style=\"font-family: 'Open Sans', verdana, arial, sans-serif; font-size: 12px; fill: rgb(42, 63, 95); fill-opacity: 1; white-space: pre;\">2021</text><g class=\"layers\" style=\"opacity: 1;\"><g class=\"legendfill\"/><g class=\"legendlines\"/><g class=\"legendsymbols\"><g class=\"legendpoints\"><path class=\"legendpie\" d=\"M6,6H-6V-6H6Z\" transform=\"translate(20,0)\" style=\"stroke-width: 0; fill: rgb(245, 133, 24); fill-opacity: 1; stroke: rgb(68, 68, 68); stroke-opacity: 1;\"/></g></g></g><rect class=\"legendtoggle\" x=\"0\" y=\"-9.5\" width=\"67.453125\" height=\"19\" style=\"fill: rgb(0, 0, 0); fill-opacity: 0;\"/></g><g class=\"traces\" transform=\"translate(0,52.5)\" style=\"opacity: 1;\"><text class=\"legendtext\" text-anchor=\"start\" x=\"40\" y=\"4.680000000000001\" style=\"font-family: 'Open Sans', verdana, arial, sans-serif; font-size: 12px; fill: rgb(42, 63, 95); fill-opacity: 1; white-space: pre;\">2019</text><g class=\"layers\" style=\"opacity: 1;\"><g class=\"legendfill\"/><g class=\"legendlines\"/><g class=\"legendsymbols\"><g class=\"legendpoints\"><path class=\"legendpie\" d=\"M6,6H-6V-6H6Z\" transform=\"translate(20,0)\" style=\"stroke-width: 0; fill: rgb(228, 87, 86); fill-opacity: 1; stroke: rgb(68, 68, 68); stroke-opacity: 1;\"/></g></g></g><rect class=\"legendtoggle\" x=\"0\" y=\"-9.5\" width=\"67.453125\" height=\"19\" style=\"fill: rgb(0, 0, 0); fill-opacity: 0;\"/></g><g class=\"traces\" transform=\"translate(0,71.5)\" style=\"opacity: 1;\"><text class=\"legendtext\" text-anchor=\"start\" x=\"40\" y=\"4.680000000000001\" style=\"font-family: 'Open Sans', verdana, arial, sans-serif; font-size: 12px; fill: rgb(42, 63, 95); fill-opacity: 1; white-space: pre;\">2018</text><g class=\"layers\" style=\"opacity: 1;\"><g class=\"legendfill\"/><g class=\"legendlines\"/><g class=\"legendsymbols\"><g class=\"legendpoints\"><path class=\"legendpie\" d=\"M6,6H-6V-6H6Z\" transform=\"translate(20,0)\" style=\"stroke-width: 0; fill: rgb(114, 183, 178); fill-opacity: 1; stroke: rgb(68, 68, 68); stroke-opacity: 1;\"/></g></g></g><rect class=\"legendtoggle\" x=\"0\" y=\"-9.5\" width=\"67.453125\" height=\"19\" style=\"fill: rgb(0, 0, 0); fill-opacity: 0;\"/></g><g class=\"traces\" transform=\"translate(0,90.5)\" style=\"opacity: 1;\"><text class=\"legendtext\" text-anchor=\"start\" x=\"40\" y=\"4.680000000000001\" style=\"font-family: 'Open Sans', verdana, arial, sans-serif; font-size: 12px; fill: rgb(42, 63, 95); fill-opacity: 1; white-space: pre;\">2017</text><g class=\"layers\" style=\"opacity: 1;\"><g class=\"legendfill\"/><g class=\"legendlines\"/><g class=\"legendsymbols\"><g class=\"legendpoints\"><path class=\"legendpie\" d=\"M6,6H-6V-6H6Z\" transform=\"translate(20,0)\" style=\"stroke-width: 0; fill: rgb(84, 162, 75); fill-opacity: 1; stroke: rgb(68, 68, 68); stroke-opacity: 1;\"/></g></g></g><rect class=\"legendtoggle\" x=\"0\" y=\"-9.5\" width=\"67.453125\" height=\"19\" style=\"fill: rgb(0, 0, 0); fill-opacity: 0;\"/></g><g class=\"traces\" transform=\"translate(0,109.5)\" style=\"opacity: 1;\"><text class=\"legendtext\" text-anchor=\"start\" x=\"40\" y=\"4.680000000000001\" style=\"font-family: 'Open Sans', verdana, arial, sans-serif; font-size: 12px; fill: rgb(42, 63, 95); fill-opacity: 1; white-space: pre;\">2016</text><g class=\"layers\" style=\"opacity: 1;\"><g class=\"legendfill\"/><g class=\"legendlines\"/><g class=\"legendsymbols\"><g class=\"legendpoints\"><path class=\"legendpie\" d=\"M6,6H-6V-6H6Z\" transform=\"translate(20,0)\" style=\"stroke-width: 0; fill: rgb(238, 202, 59); fill-opacity: 1; stroke: rgb(68, 68, 68); stroke-opacity: 1;\"/></g></g></g><rect class=\"legendtoggle\" x=\"0\" y=\"-9.5\" width=\"67.453125\" height=\"19\" style=\"fill: rgb(0, 0, 0); fill-opacity: 0;\"/></g><g class=\"traces\" transform=\"translate(0,128.5)\" style=\"opacity: 1;\"><text class=\"legendtext\" text-anchor=\"start\" x=\"40\" y=\"4.680000000000001\" style=\"font-family: 'Open Sans', verdana, arial, sans-serif; font-size: 12px; fill: rgb(42, 63, 95); fill-opacity: 1; white-space: pre;\">2014</text><g class=\"layers\" style=\"opacity: 1;\"><g class=\"legendfill\"/><g class=\"legendlines\"/><g class=\"legendsymbols\"><g class=\"legendpoints\"><path class=\"legendpie\" d=\"M6,6H-6V-6H6Z\" transform=\"translate(20,0)\" style=\"stroke-width: 0; fill: rgb(178, 121, 162); fill-opacity: 1; stroke: rgb(68, 68, 68); stroke-opacity: 1;\"/></g></g></g><rect class=\"legendtoggle\" x=\"0\" y=\"-9.5\" width=\"67.453125\" height=\"19\" style=\"fill: rgb(0, 0, 0); fill-opacity: 0;\"/></g><g class=\"traces\" transform=\"translate(0,147.5)\" style=\"opacity: 1;\"><text class=\"legendtext\" text-anchor=\"start\" x=\"40\" y=\"4.680000000000001\" style=\"font-family: 'Open Sans', verdana, arial, sans-serif; font-size: 12px; fill: rgb(42, 63, 95); fill-opacity: 1; white-space: pre;\">2015</text><g class=\"layers\" style=\"opacity: 1;\"><g class=\"legendfill\"/><g class=\"legendlines\"/><g class=\"legendsymbols\"><g class=\"legendpoints\"><path class=\"legendpie\" d=\"M6,6H-6V-6H6Z\" transform=\"translate(20,0)\" style=\"stroke-width: 0; fill: rgb(255, 157, 166); fill-opacity: 1; stroke: rgb(68, 68, 68); stroke-opacity: 1;\"/></g></g></g><rect class=\"legendtoggle\" x=\"0\" y=\"-9.5\" width=\"67.453125\" height=\"19\" style=\"fill: rgb(0, 0, 0); fill-opacity: 0;\"/></g></g></g><rect class=\"scrollbar\" rx=\"20\" ry=\"3\" width=\"0\" height=\"0\" style=\"fill: rgb(128, 139, 164); fill-opacity: 1;\" x=\"0\" y=\"0\"/></g><g class=\"g-gtitle\"><text class=\"gtitle\" x=\"47.5\" y=\"50\" text-anchor=\"start\" dy=\"0em\" style=\"font-family: 'Open Sans', verdana, arial, sans-serif; font-size: 17px; fill: rgb(42, 63, 95); opacity: 1; font-weight: normal; white-space: pre;\">Comments Created in Each Year</text></g></g></svg>"
      ]
     },
     "metadata": {},
     "output_type": "display_data"
    }
   ],
   "source": [
    "pie(df_years, \"Comments Created in Each Year\")"
   ]
  },
  {
   "cell_type": "code",
   "execution_count": 44,
   "id": "9a5db5bc",
   "metadata": {},
   "outputs": [
    {
     "data": {
      "image/svg+xml": [
       "<svg class=\"main-svg\" xmlns=\"http://www.w3.org/2000/svg\" xmlns:xlink=\"http://www.w3.org/1999/xlink\" width=\"950\" height=\"550\" style=\"\" viewBox=\"0 0 950 550\"><rect x=\"0\" y=\"0\" width=\"950\" height=\"550\" style=\"fill: rgb(255, 255, 255); fill-opacity: 1;\"/><defs id=\"defs-50c30b\"><g class=\"clips\"><clipPath id=\"clip50c30bxyplot\" class=\"plotclip\"><rect width=\"790\" height=\"410\"/></clipPath><clipPath class=\"axesclip\" id=\"clip50c30bx\"><rect x=\"80\" y=\"0\" width=\"790\" height=\"550\"/></clipPath><clipPath class=\"axesclip\" id=\"clip50c30by\"><rect x=\"0\" y=\"60\" width=\"950\" height=\"410\"/></clipPath><clipPath class=\"axesclip\" id=\"clip50c30bxy\"><rect x=\"80\" y=\"60\" width=\"790\" height=\"410\"/></clipPath></g><g class=\"gradients\"/><g class=\"patterns\"/></defs><g class=\"bglayer\"><rect class=\"bg\" x=\"80\" y=\"60\" width=\"790\" height=\"410\" style=\"fill: rgb(229, 236, 246); fill-opacity: 1; stroke-width: 0;\"/></g><g class=\"layer-below\"><g class=\"imagelayer\"/><g class=\"shapelayer\"/></g><g class=\"cartesianlayer\"><g class=\"subplot xy\"><g class=\"layer-subplot\"><g class=\"shapelayer\"/><g class=\"imagelayer\"/></g><g class=\"gridlayer\"><g class=\"x\"/><g class=\"y\"><path class=\"ygrid crisp\" transform=\"translate(0,415.24)\" d=\"M80,0h790\" style=\"stroke: rgb(255, 255, 255); stroke-opacity: 1; stroke-width: 1px;\"/><path class=\"ygrid crisp\" transform=\"translate(0,360.49)\" d=\"M80,0h790\" style=\"stroke: rgb(255, 255, 255); stroke-opacity: 1; stroke-width: 1px;\"/><path class=\"ygrid crisp\" transform=\"translate(0,305.73)\" d=\"M80,0h790\" style=\"stroke: rgb(255, 255, 255); stroke-opacity: 1; stroke-width: 1px;\"/><path class=\"ygrid crisp\" transform=\"translate(0,250.98)\" d=\"M80,0h790\" style=\"stroke: rgb(255, 255, 255); stroke-opacity: 1; stroke-width: 1px;\"/><path class=\"ygrid crisp\" transform=\"translate(0,196.22)\" d=\"M80,0h790\" style=\"stroke: rgb(255, 255, 255); stroke-opacity: 1; stroke-width: 1px;\"/><path class=\"ygrid crisp\" transform=\"translate(0,141.45999999999998)\" d=\"M80,0h790\" style=\"stroke: rgb(255, 255, 255); stroke-opacity: 1; stroke-width: 1px;\"/><path class=\"ygrid crisp\" transform=\"translate(0,86.71000000000001)\" d=\"M80,0h790\" style=\"stroke: rgb(255, 255, 255); stroke-opacity: 1; stroke-width: 1px;\"/></g></g><g class=\"zerolinelayer\"><path class=\"yzl zl crisp\" transform=\"translate(0,470)\" d=\"M80,0h790\" style=\"stroke: rgb(255, 255, 255); stroke-opacity: 1; stroke-width: 2px;\"/></g><path class=\"xlines-below\"/><path class=\"ylines-below\"/><g class=\"overlines-below\"/><g class=\"xaxislayer-below\"/><g class=\"yaxislayer-below\"/><g class=\"overaxes-below\"/><g class=\"plot\" transform=\"translate(80,60)\" clip-path=\"url(#clip50c30bxyplot)\"><g class=\"barlayer mlayer\"><g class=\"trace bars\" style=\"opacity: 1;\"><g class=\"points\"><g class=\"point\"><path d=\"M9.88,410V410H88.88V410Z\" style=\"vector-effect: non-scaling-stroke; opacity: 1; stroke-width: 1.5px; fill: rgb(82, 150, 221); fill-opacity: 1; stroke: rgb(229, 236, 246); stroke-opacity: 1;\"/></g><g class=\"point\"><path d=\"M108.63,410V410H187.63V410Z\" style=\"vector-effect: non-scaling-stroke; opacity: 1; stroke-width: 1.5px; fill: rgb(82, 150, 221); fill-opacity: 1; stroke: rgb(229, 236, 246); stroke-opacity: 1;\"/></g><g class=\"point\"><path d=\"M207.38,410V409.99H286.38V410Z\" style=\"vector-effect: non-scaling-stroke; opacity: 1; stroke-width: 1.5px; fill: rgb(82, 150, 221); fill-opacity: 1; stroke: rgb(229, 236, 246); stroke-opacity: 1;\"/><text class=\"bartext bartext-outside\" text-anchor=\"middle\" data-notex=\"1\" x=\"0\" y=\"0\" style=\"font-family: 'Open Sans', verdana, arial, sans-serif; font-size: 12px; fill: rgb(42, 63, 95); fill-opacity: 1; white-space: pre;\" transform=\"translate(246.88,403.49)\">15</text></g><g class=\"point\"><path d=\"M306.13,410V409.94H385.13V410Z\" style=\"vector-effect: non-scaling-stroke; opacity: 1; stroke-width: 1.5px; fill: rgb(82, 150, 221); fill-opacity: 1; stroke: rgb(229, 236, 246); stroke-opacity: 1;\"/><text class=\"bartext bartext-outside\" text-anchor=\"middle\" data-notex=\"1\" x=\"0\" y=\"0\" style=\"font-family: 'Open Sans', verdana, arial, sans-serif; font-size: 12px; fill: rgb(42, 63, 95); fill-opacity: 1; white-space: pre;\" transform=\"translate(345.63,403.44)\">116</text></g><g class=\"point\"><path d=\"M404.88,410V285.24H483.88V410Z\" style=\"vector-effect: non-scaling-stroke; opacity: 1; stroke-width: 1.5px; fill: rgb(82, 150, 221); fill-opacity: 1; stroke: rgb(229, 236, 246); stroke-opacity: 1;\"/><text class=\"bartext bartext-inside\" text-anchor=\"middle\" data-notex=\"1\" x=\"0\" y=\"0\" style=\"font-family: 'Open Sans', verdana, arial, sans-serif; font-size: 12px; fill: rgb(68, 68, 68); fill-opacity: 1; white-space: pre;\" transform=\"translate(444.38,301.24)\">227847</text></g><g class=\"point\"><path d=\"M503.63,410V227.56H582.63V410Z\" style=\"vector-effect: non-scaling-stroke; opacity: 1; stroke-width: 1.5px; fill: rgb(82, 150, 221); fill-opacity: 1; stroke: rgb(229, 236, 246); stroke-opacity: 1;\"/><text class=\"bartext bartext-inside\" text-anchor=\"middle\" data-notex=\"1\" x=\"0\" y=\"0\" style=\"font-family: 'Open Sans', verdana, arial, sans-serif; font-size: 12px; fill: rgb(68, 68, 68); fill-opacity: 1; white-space: pre;\" transform=\"translate(543.13,243.56)\">333197</text></g><g class=\"point\"><path d=\"M602.38,410V20.5H681.38V410Z\" style=\"vector-effect: non-scaling-stroke; opacity: 1; stroke-width: 1.5px; fill: rgb(255, 0, 0); fill-opacity: 1; stroke: rgb(229, 236, 246); stroke-opacity: 1;\"/><text class=\"bartext bartext-inside\" text-anchor=\"middle\" data-notex=\"1\" x=\"0\" y=\"0\" style=\"font-family: 'Open Sans', verdana, arial, sans-serif; font-size: 12px; fill: rgb(255, 255, 255); fill-opacity: 1; white-space: pre;\" transform=\"translate(641.88,36.5)\">711339</text></g><g class=\"point\"><path d=\"M701.13,410V147.94H780.13V410Z\" style=\"vector-effect: non-scaling-stroke; opacity: 1; stroke-width: 1.5px; fill: rgb(82, 150, 221); fill-opacity: 1; stroke: rgb(229, 236, 246); stroke-opacity: 1;\"/><text class=\"bartext bartext-inside\" text-anchor=\"middle\" data-notex=\"1\" x=\"0\" y=\"0\" style=\"font-family: 'Open Sans', verdana, arial, sans-serif; font-size: 12px; fill: rgb(68, 68, 68); fill-opacity: 1; white-space: pre;\" transform=\"translate(740.63,163.94)\">478594</text></g></g></g></g></g><g class=\"overplot\"/><path class=\"xlines-above crisp\" d=\"M0,0\" style=\"fill: none;\"/><path class=\"ylines-above crisp\" d=\"M0,0\" style=\"fill: none;\"/><g class=\"overlines-above\"/><g class=\"xaxislayer-above\"><g class=\"xtick\"><text text-anchor=\"middle\" x=\"0\" y=\"483\" transform=\"translate(129.38,0)\" style=\"font-family: 'Open Sans', verdana, arial, sans-serif; font-size: 12px; fill: rgb(42, 63, 95); fill-opacity: 1; white-space: pre; opacity: 1;\">2014</text></g><g class=\"xtick\"><text text-anchor=\"middle\" x=\"0\" y=\"483\" style=\"font-family: 'Open Sans', verdana, arial, sans-serif; font-size: 12px; fill: rgb(42, 63, 95); fill-opacity: 1; white-space: pre; opacity: 1;\" transform=\"translate(228.13,0)\">2015</text></g><g class=\"xtick\"><text text-anchor=\"middle\" x=\"0\" y=\"483\" style=\"font-family: 'Open Sans', verdana, arial, sans-serif; font-size: 12px; fill: rgb(42, 63, 95); fill-opacity: 1; white-space: pre; opacity: 1;\" transform=\"translate(326.88,0)\">2016</text></g><g class=\"xtick\"><text text-anchor=\"middle\" x=\"0\" y=\"483\" style=\"font-family: 'Open Sans', verdana, arial, sans-serif; font-size: 12px; fill: rgb(42, 63, 95); fill-opacity: 1; white-space: pre; opacity: 1;\" transform=\"translate(425.63,0)\">2017</text></g><g class=\"xtick\"><text text-anchor=\"middle\" x=\"0\" y=\"483\" style=\"font-family: 'Open Sans', verdana, arial, sans-serif; font-size: 12px; fill: rgb(42, 63, 95); fill-opacity: 1; white-space: pre; opacity: 1;\" transform=\"translate(524.38,0)\">2018</text></g><g class=\"xtick\"><text text-anchor=\"middle\" x=\"0\" y=\"483\" style=\"font-family: 'Open Sans', verdana, arial, sans-serif; font-size: 12px; fill: rgb(42, 63, 95); fill-opacity: 1; white-space: pre; opacity: 1;\" transform=\"translate(623.13,0)\">2019</text></g><g class=\"xtick\"><text text-anchor=\"middle\" x=\"0\" y=\"483\" style=\"font-family: 'Open Sans', verdana, arial, sans-serif; font-size: 12px; fill: rgb(42, 63, 95); fill-opacity: 1; white-space: pre; opacity: 1;\" transform=\"translate(721.88,0)\">2020</text></g><g class=\"xtick\"><text text-anchor=\"middle\" x=\"0\" y=\"483\" style=\"font-family: 'Open Sans', verdana, arial, sans-serif; font-size: 12px; fill: rgb(42, 63, 95); fill-opacity: 1; white-space: pre; opacity: 1;\" transform=\"translate(820.63,0)\">2021</text></g></g><g class=\"yaxislayer-above\"><g class=\"ytick\"><text text-anchor=\"end\" x=\"79\" y=\"4.199999999999999\" transform=\"translate(0,470)\" style=\"font-family: 'Open Sans', verdana, arial, sans-serif; font-size: 12px; fill: rgb(42, 63, 95); fill-opacity: 1; white-space: pre; opacity: 1;\">0</text></g><g class=\"ytick\"><text text-anchor=\"end\" x=\"79\" y=\"4.199999999999999\" style=\"font-family: 'Open Sans', verdana, arial, sans-serif; font-size: 12px; fill: rgb(42, 63, 95); fill-opacity: 1; white-space: pre; opacity: 1;\" transform=\"translate(0,415.24)\">100k</text></g><g class=\"ytick\"><text text-anchor=\"end\" x=\"79\" y=\"4.199999999999999\" style=\"font-family: 'Open Sans', verdana, arial, sans-serif; font-size: 12px; fill: rgb(42, 63, 95); fill-opacity: 1; white-space: pre; opacity: 1;\" transform=\"translate(0,360.49)\">200k</text></g><g class=\"ytick\"><text text-anchor=\"end\" x=\"79\" y=\"4.199999999999999\" style=\"font-family: 'Open Sans', verdana, arial, sans-serif; font-size: 12px; fill: rgb(42, 63, 95); fill-opacity: 1; white-space: pre; opacity: 1;\" transform=\"translate(0,305.73)\">300k</text></g><g class=\"ytick\"><text text-anchor=\"end\" x=\"79\" y=\"4.199999999999999\" style=\"font-family: 'Open Sans', verdana, arial, sans-serif; font-size: 12px; fill: rgb(42, 63, 95); fill-opacity: 1; white-space: pre; opacity: 1;\" transform=\"translate(0,250.98)\">400k</text></g><g class=\"ytick\"><text text-anchor=\"end\" x=\"79\" y=\"4.199999999999999\" style=\"font-family: 'Open Sans', verdana, arial, sans-serif; font-size: 12px; fill: rgb(42, 63, 95); fill-opacity: 1; white-space: pre; opacity: 1;\" transform=\"translate(0,196.22)\">500k</text></g><g class=\"ytick\"><text text-anchor=\"end\" x=\"79\" y=\"4.199999999999999\" style=\"font-family: 'Open Sans', verdana, arial, sans-serif; font-size: 12px; fill: rgb(42, 63, 95); fill-opacity: 1; white-space: pre; opacity: 1;\" transform=\"translate(0,141.45999999999998)\">600k</text></g><g class=\"ytick\"><text text-anchor=\"end\" x=\"79\" y=\"4.199999999999999\" style=\"font-family: 'Open Sans', verdana, arial, sans-serif; font-size: 12px; fill: rgb(42, 63, 95); fill-opacity: 1; white-space: pre; opacity: 1;\" transform=\"translate(0,86.71000000000001)\">700k</text></g></g><g class=\"overaxes-above\"/></g></g><g class=\"polarlayer\"/><g class=\"ternarylayer\"/><g class=\"geolayer\"/><g class=\"funnelarealayer\"/><g class=\"pielayer\"/><g class=\"iciclelayer\"/><g class=\"treemaplayer\"/><g class=\"sunburstlayer\"/><g class=\"glimages\"/><defs id=\"topdefs-50c30b\"><g class=\"clips\"/></defs><g class=\"layer-above\"><g class=\"imagelayer\"/><g class=\"shapelayer\"/></g><g class=\"infolayer\"><g class=\"g-gtitle\"/><g class=\"g-xtitle\"><text class=\"xtitle\" x=\"475\" y=\"511.3\" text-anchor=\"middle\" style=\"font-family: 'Open Sans', verdana, arial, sans-serif; font-size: 14px; fill: rgb(42, 63, 95); opacity: 1; font-weight: normal; white-space: pre;\">year</text></g><g class=\"g-ytitle\"><text class=\"ytitle\" transform=\"rotate(-90,27.309375000000003,265)\" x=\"27.309375000000003\" y=\"265\" text-anchor=\"middle\" style=\"font-family: 'Open Sans', verdana, arial, sans-serif; font-size: 14px; fill: rgb(42, 63, 95); opacity: 1; font-weight: normal; white-space: pre;\">n_comments</text></g></g></svg>"
      ]
     },
     "metadata": {},
     "output_type": "display_data"
    }
   ],
   "source": [
    "bar(df_years, \"year\", \"n_comments\", \"Comments Created in Each Year\", margin=700000)"
   ]
  },
  {
   "cell_type": "markdown",
   "id": "6e84a75c",
   "metadata": {},
   "source": [
    "Instagram/ Initial release date: October 2010"
   ]
  },
  {
   "cell_type": "markdown",
   "id": "909ea15a",
   "metadata": {},
   "source": [
    "<a id='all_months'></a>\n",
    ">>### Comments Created in Each Month\n",
    "> <ul>\n",
    " <li><a href=\"#all_years\">Comments Created in Each Year</a></li>\n",
    " <li><a href=\"#all_months\"><b>Comments Created in Each Month</b></a></li>\n",
    " <li><a href=\"#all_days\">Comments Created in Each Day</a></li>\n",
    " <li><a href=\"#2018_days\">Comments Created in Each Day of 2018</a></li>\n",
    " <li><a href=\"#2019_days\">Comments Created in Each Day of 2019</a></li>\n",
    " <li><a href=\"#2020_days\">Comments Created in Each Day of 2020</a></li>\n",
    " <li><a href=\"#2021_days\">Comments Created in Each Day of 2021</a></li>\n",
    " </ul>"
   ]
  },
  {
   "cell_type": "code",
   "execution_count": 45,
   "id": "b1a7b7f0",
   "metadata": {},
   "outputs": [],
   "source": [
    "# df_monthly_counts = df_comments.groupby(['year', 'month']).count()['message']\\\n",
    "# .reset_index(name='n_comments').rename(columns={'index': 'date'})\n",
    "\n",
    "# Convert month into an ordered categorical type\n",
    "# months = ['Jan', 'Feb', 'Mar', 'Apr', 'May', 'Jun', 'Jul', 'Aug', 'Sep', 'Oct', 'Nov', 'Dec']\n",
    "# mord = pd.api.types.CategoricalDtype(ordered=True, categories=months)  # mord --> months ordered\n",
    "# df_monthly_counts['month'] = df_monthly_counts['month'].astype(mord)\n",
    "\n",
    "# df_monthly_counts.sort_values(['year','month'], inplace=True)\n",
    "# df_monthly_counts"
   ]
  },
  {
   "cell_type": "code",
   "execution_count": 46,
   "id": "98d8fba9",
   "metadata": {},
   "outputs": [
    {
     "data": {
      "text/plain": [
       "2020    711339\n",
       "2021    478594\n",
       "2019    333197\n",
       "2018    227847\n",
       "2017       116\n",
       "2016        15\n",
       "2014         4\n",
       "2015         1\n",
       "Name: year, dtype: int64"
      ]
     },
     "execution_count": 46,
     "metadata": {},
     "output_type": "execute_result"
    }
   ],
   "source": [
    "# total comments over years\n",
    "df_comments.year.value_counts()"
   ]
  },
  {
   "cell_type": "code",
   "execution_count": 47,
   "id": "c49c03c7",
   "metadata": {},
   "outputs": [
    {
     "data": {
      "image/png": "[encoded data removed]",
      "text/plain": [
       "<Figure size 864x432 with 8 Axes>"
      ]
     },
     "metadata": {
      "needs_background": "light"
     },
     "output_type": "display_data"
    }
   ],
   "source": [
    "month_ord = [\n",
    "    \"Jan\",\n",
    "    \"Feb\",\n",
    "    \"Mar\",\n",
    "    \"Apr\",\n",
    "    \"May\",\n",
    "    \"Jun\",\n",
    "    \"Jul\",\n",
    "    \"Aug\",\n",
    "    \"Sep\",\n",
    "    \"Oct\",\n",
    "    \"Nov\",\n",
    "    \"Dec\",\n",
    "]\n",
    "g = sb.FacetGrid(data=df_comments, col=\"year\", col_wrap=4)\n",
    "g.map(sb.countplot, \"month\", order=month_ord, palette=[\"#5296dd\"])\n",
    "\n",
    "g.set_xticklabels(rotation=90)\n",
    "g.set_titles(\"{col_name}\", size=14, y=-0.28)\n",
    "g.fig.suptitle(\"Comments Created in Each Month\", fontsize=18, y=1.06)\n",
    "\n",
    "g.fig.subplots_adjust(wspace=0.1, hspace=0.3)\n",
    "g.set_xlabels(\"\")\n",
    "for axis in g.axes.flat:\n",
    "    axis.tick_params(labelbottom=True)"
   ]
  },
  {
   "cell_type": "markdown",
   "id": "3d808567",
   "metadata": {},
   "source": [
    "**NOTE:**\n",
    "- 2018 Peaks --> Dec\n",
    "- 2019 Peaks --> Jan\n",
    "- 2020 Peaks --> Nov, Jul\n",
    "- 2021 Peaks --> Jun"
   ]
  },
  {
   "cell_type": "markdown",
   "id": "723f39fe",
   "metadata": {},
   "source": [
    "   "
   ]
  },
  {
   "cell_type": "markdown",
   "id": "e36a043b",
   "metadata": {},
   "source": [
    "<a id='all_days'></a>\n",
    ">>### Comments Created in Each Day\n",
    "> <ul>\n",
    " <li><a href=\"#all_years\">Comments Created in Each Year</a></li>\n",
    " <li><a href=\"#all_months\">Comments Created in Each Month</a></li>\n",
    " <li><a href=\"#all_days\"><b>Comments Created in Each Day</b></a></li>\n",
    " <li><a href=\"#2018_days\">Comments Created in Each Day of 2018</a></li>\n",
    " <li><a href=\"#2019_days\">Comments Created in Each Day of 2019</a></li>\n",
    " <li><a href=\"#2020_days\">Comments Created in Each Day of 2020</a></li>\n",
    " <li><a href=\"#2021_days\">Comments Created in Each Day of 2021</a></li>\n",
    " </ul>"
   ]
  },
  {
   "cell_type": "code",
   "execution_count": 48,
   "id": "334c0fb9",
   "metadata": {},
   "outputs": [
    {
     "data": {
      "image/png": "[encoded data removed]",
      "text/plain": [
       "<Figure size 972x972 with 16 Axes>"
      ]
     },
     "metadata": {
      "needs_background": "light"
     },
     "output_type": "display_data"
    }
   ],
   "source": [
    "daily_counts = df_comments.groupby(['year', 'dayofmonth', 'month']).size().reset_index(name='count')\n",
    "months = ['Jan', 'Feb', 'Mar', 'Apr', 'May', 'Jun', 'Jul', 'Aug', 'Sep', 'Oct', 'Nov', 'Dec']\n",
    "\n",
    "def draw_heatmap(*args, **kwargs):\n",
    "    data = kwargs.pop('data')\n",
    "    d = data.pivot(index=args[1], columns=args[0], values=args[2])\n",
    "    d = d.reindex(index=months[::-1])\n",
    "    sb.heatmap(d, **kwargs)\n",
    "\n",
    "g = sb.FacetGrid(daily_counts, col='year', col_wrap=3, height=4.5)\n",
    "g.map_dataframe(draw_heatmap, 'dayofmonth', 'month', 'count', cmap='rocket_r', vmin=0, vmax=5000);\n",
    "\n",
    "g.fig.subplots_adjust(wspace=0.15, hspace=0.2)\n",
    "for axis in g.axes.flat:\n",
    "    axis.tick_params(labelbottom=True, labelleft=True)"
   ]
  },
  {
   "cell_type": "code",
   "execution_count": 49,
   "id": "54232b3b",
   "metadata": {},
   "outputs": [],
   "source": [
    "# d = daily_counts[daily_counts.year==2020].pivot(index='month', columns='dayofmonth', values='count')\n",
    "# d"
   ]
  },
  {
   "cell_type": "code",
   "execution_count": 50,
   "id": "0875e3fe",
   "metadata": {},
   "outputs": [],
   "source": [
    "# d = d.reindex(index=months[::-1])\n",
    "# d"
   ]
  },
  {
   "cell_type": "markdown",
   "id": "d7104548",
   "metadata": {},
   "source": [
    "   "
   ]
  },
  {
   "cell_type": "code",
   "execution_count": 51,
   "id": "d268c62a",
   "metadata": {},
   "outputs": [],
   "source": [
    "df_comments_18 = df_comments[df_comments[\"year\"] == 2018]\n",
    "df_comments_19 = df_comments[df_comments[\"year\"] == 2019]\n",
    "df_comments_20 = df_comments[df_comments[\"year\"] == 2020]\n",
    "df_comments_21 = df_comments[df_comments[\"year\"] == 2021]"
   ]
  },
  {
   "cell_type": "markdown",
   "id": "1583137f",
   "metadata": {},
   "source": [
    "<a id='2018_days'></a>\n",
    ">>### Comments Created in Each Day of 2018\n",
    "> <ul>\n",
    " <li><a href=\"#all_years\">Comments Created in Each Year</a></li>\n",
    " <li><a href=\"#all_months\">Comments Created in Each Month</a></li>\n",
    " <li><a href=\"#all_days\">Comments Created in Each Day</a></li>\n",
    " <li><a href=\"#2018_days\"><b>Comments Created in Each Day of 2018</b></a></li>\n",
    " <li><a href=\"#2019_days\">Comments Created in Each Day of 2019</a></li>\n",
    " <li><a href=\"#2020_days\">Comments Created in Each Day of 2020</a></li>\n",
    " <li><a href=\"#2021_days\">Comments Created in Each Day of 2021</a></li>\n",
    " </ul>"
   ]
  },
  {
   "cell_type": "code",
   "execution_count": 52,
   "id": "ac06a667",
   "metadata": {},
   "outputs": [
    {
     "data": {
      "image/png": "[encoded data removed]",
      "text/plain": [
       "<Figure size 864x648 with 12 Axes>"
      ]
     },
     "metadata": {
      "needs_background": "light"
     },
     "output_type": "display_data"
    }
   ],
   "source": [
    "facet_days(df_comments_18, \"2018\")"
   ]
  },
  {
   "cell_type": "markdown",
   "id": "b5a5745c",
   "metadata": {},
   "source": [
    "**NOTE:** \n",
    "- The peak on Jun 15, 2018\n",
    "- The peaks in Jul 2018\n",
    "- The peak on Nov 27, 2018\n",
    "- The peaks in Dec 2018"
   ]
  },
  {
   "cell_type": "markdown",
   "id": "291a9f74",
   "metadata": {},
   "source": [
    "<a id='2019_days'></a>\n",
    ">>### Comments Created in Each Day of 2019\n",
    "> <ul>\n",
    " <li><a href=\"#all_years\">Comments Created in Each Year</a></li>\n",
    " <li><a href=\"#all_months\">Comments Created in Each Month</a></li>\n",
    " <li><a href=\"#all_days\">Comments Created in Each Day</a></li>\n",
    " <li><a href=\"#2018_days\">Comments Created in Each Day of 2018</a></li>\n",
    " <li><a href=\"#2019_days\"><b>Comments Created in Each Day of 2019</b></a></li>\n",
    " <li><a href=\"#2020_days\">Comments Created in Each Day of 2020</a></li>\n",
    " <li><a href=\"#2021_days\">Comments Created in Each Day of 2021</a></li>\n",
    " </ul>"
   ]
  },
  {
   "cell_type": "code",
   "execution_count": 53,
   "id": "40c51d7b",
   "metadata": {},
   "outputs": [
    {
     "data": {
      "image/png": "[encoded data removed]",
      "text/plain": [
       "<Figure size 864x648 with 12 Axes>"
      ]
     },
     "metadata": {
      "needs_background": "light"
     },
     "output_type": "display_data"
    }
   ],
   "source": [
    "facet_days(df_comments_19, \"2019\")"
   ]
  },
  {
   "cell_type": "markdown",
   "id": "a4db1340",
   "metadata": {},
   "source": [
    "**NOTE:** \n",
    "- The peaks on Jan 2019\n",
    "- The peak on Oct 17, 2019"
   ]
  },
  {
   "cell_type": "markdown",
   "id": "c664284d",
   "metadata": {},
   "source": [
    "<a id='2020_days'></a>\n",
    ">>### Comments Created in Each Day of 2020\n",
    "> <ul>\n",
    " <li><a href=\"#all_years\">Comments Created in Each Year</a></li>\n",
    " <li><a href=\"#all_months\">Comments Created in Each Month</a></li>\n",
    " <li><a href=\"#all_days\">Comments Created in Each Day</a></li>\n",
    " <li><a href=\"#2018_days\">Comments Created in Each Day of 2018</a></li>\n",
    " <li><a href=\"#2019_days\">Comments Created in Each Day of 2019</a></li>\n",
    " <li><a href=\"#2020_days\"><b>Comments Created in Each Day of 2020</b></a></li>\n",
    " <li><a href=\"#2021_days\">Comments Created in Each Day of 2021</a></li>\n",
    " </ul>"
   ]
  },
  {
   "cell_type": "code",
   "execution_count": 54,
   "id": "535a5797",
   "metadata": {},
   "outputs": [
    {
     "data": {
      "image/png": "[encoded data removed]",
      "text/plain": [
       "<Figure size 864x648 with 12 Axes>"
      ]
     },
     "metadata": {
      "needs_background": "light"
     },
     "output_type": "display_data"
    }
   ],
   "source": [
    "facet_days(df_comments_20, \"2020\")"
   ]
  },
  {
   "cell_type": "markdown",
   "id": "f15a5213",
   "metadata": {},
   "source": [
    "**NOTE:** \n",
    "- 13 November is a peak in 2020"
   ]
  },
  {
   "cell_type": "markdown",
   "id": "9704924e",
   "metadata": {},
   "source": [
    "<a id='2021_days'></a>\n",
    ">>### Comments Created in Each Day of 2021\n",
    "> <ul>\n",
    " <li><a href=\"#all_years\">Comments Created in Each Year</a></li>\n",
    " <li><a href=\"#all_months\">Comments Created in Each Month</a></li>\n",
    " <li><a href=\"#all_days\">Comments Created in Each Day</a></li>\n",
    " <li><a href=\"#2018_days\">Comments Created in Each Day of 2018</a></li>\n",
    " <li><a href=\"#2019_days\">Comments Created in Each Day of 2019</a></li>\n",
    " <li><a href=\"#2020_days\">Comments Created in Each Day of 2020</a></li>\n",
    " <li><a href=\"#2021_days\"><b>Comments Created in Each Day of 2021</b></a></li>\n",
    " </ul>"
   ]
  },
  {
   "cell_type": "code",
   "execution_count": 55,
   "id": "075880db",
   "metadata": {},
   "outputs": [
    {
     "data": {
      "image/png": "[encoded data removed]",
      "text/plain": [
       "<Figure size 864x648 with 12 Axes>"
      ]
     },
     "metadata": {
      "needs_background": "light"
     },
     "output_type": "display_data"
    }
   ],
   "source": [
    "facet_days(df_comments_21, \"2021\")"
   ]
  },
  {
   "cell_type": "markdown",
   "id": "4bae1a96",
   "metadata": {},
   "source": [
    "**NOTE:** \n",
    "- The peak on Jan 9, 2021"
   ]
  },
  {
   "cell_type": "markdown",
   "id": "ad3be715",
   "metadata": {},
   "source": [
    "   "
   ]
  },
  {
   "cell_type": "markdown",
   "id": "bf3e457f",
   "metadata": {},
   "source": [
    "<a id='peaks'></a>\n",
    ">## Investigate Peaks\n",
    "> <ul>\n",
    " <li><a href=\"#over_time\">Comments Created OVER TIME</a></li>\n",
    " <li><a href=\"#peaks\"><b>Investigate Peaks</b></a></li>\n",
    " <li><a href=\"#top_peaks\">Comments on Peak Days</a></li>\n",
    " <li><a href=\"#top_hours\">Comments on Peak Hours</a></li>\n",
    " <li><a href=\"#top_times\">Comments on Peak Times</a></li> \n",
    " </ul>"
   ]
  },
  {
   "cell_type": "code",
   "execution_count": 56,
   "id": "6e95215b",
   "metadata": {},
   "outputs": [
    {
     "data": {
      "text/html": [
       "<div>\n",
       "<style scoped>\n",
       "    .dataframe tbody tr th:only-of-type {\n",
       "        vertical-align: middle;\n",
       "    }\n",
       "\n",
       "    .dataframe tbody tr th {\n",
       "        vertical-align: top;\n",
       "    }\n",
       "\n",
       "    .dataframe thead th {\n",
       "        text-align: right;\n",
       "    }\n",
       "</style>\n",
       "<table border=\"1\" class=\"dataframe\">\n",
       "  <thead>\n",
       "    <tr style=\"text-align: right;\">\n",
       "      <th></th>\n",
       "      <th>date</th>\n",
       "      <th>n_comments</th>\n",
       "      <th>n_replies</th>\n",
       "      <th>n_likes</th>\n",
       "    </tr>\n",
       "  </thead>\n",
       "  <tbody>\n",
       "    <tr>\n",
       "      <th>1047</th>\n",
       "      <td>2020-11-13</td>\n",
       "      <td>10407</td>\n",
       "      <td>5020.0</td>\n",
       "      <td>155110.0</td>\n",
       "    </tr>\n",
       "    <tr>\n",
       "      <th>1036</th>\n",
       "      <td>2020-11-02</td>\n",
       "      <td>8659</td>\n",
       "      <td>4083.0</td>\n",
       "      <td>83069.0</td>\n",
       "    </tr>\n",
       "    <tr>\n",
       "      <th>1041</th>\n",
       "      <td>2020-11-07</td>\n",
       "      <td>8123</td>\n",
       "      <td>2890.0</td>\n",
       "      <td>82691.0</td>\n",
       "    </tr>\n",
       "    <tr>\n",
       "      <th>1048</th>\n",
       "      <td>2020-11-14</td>\n",
       "      <td>6086</td>\n",
       "      <td>1138.0</td>\n",
       "      <td>51965.0</td>\n",
       "    </tr>\n",
       "    <tr>\n",
       "      <th>919</th>\n",
       "      <td>2020-07-08</td>\n",
       "      <td>6068</td>\n",
       "      <td>2263.0</td>\n",
       "      <td>74994.0</td>\n",
       "    </tr>\n",
       "    <tr>\n",
       "      <th>1278</th>\n",
       "      <td>2021-07-02</td>\n",
       "      <td>5767</td>\n",
       "      <td>1764.0</td>\n",
       "      <td>85995.0</td>\n",
       "    </tr>\n",
       "    <tr>\n",
       "      <th>1049</th>\n",
       "      <td>2020-11-15</td>\n",
       "      <td>5551</td>\n",
       "      <td>1254.0</td>\n",
       "      <td>54036.0</td>\n",
       "    </tr>\n",
       "    <tr>\n",
       "      <th>1037</th>\n",
       "      <td>2020-11-03</td>\n",
       "      <td>5303</td>\n",
       "      <td>1324.0</td>\n",
       "      <td>55976.0</td>\n",
       "    </tr>\n",
       "    <tr>\n",
       "      <th>1042</th>\n",
       "      <td>2020-11-08</td>\n",
       "      <td>5130</td>\n",
       "      <td>960.0</td>\n",
       "      <td>28951.0</td>\n",
       "    </tr>\n",
       "    <tr>\n",
       "      <th>1043</th>\n",
       "      <td>2020-11-09</td>\n",
       "      <td>5101</td>\n",
       "      <td>1263.0</td>\n",
       "      <td>37681.0</td>\n",
       "    </tr>\n",
       "    <tr>\n",
       "      <th>1040</th>\n",
       "      <td>2020-11-06</td>\n",
       "      <td>5012</td>\n",
       "      <td>1410.0</td>\n",
       "      <td>41605.0</td>\n",
       "    </tr>\n",
       "    <tr>\n",
       "      <th>921</th>\n",
       "      <td>2020-07-10</td>\n",
       "      <td>4938</td>\n",
       "      <td>1747.0</td>\n",
       "      <td>58890.0</td>\n",
       "    </tr>\n",
       "    <tr>\n",
       "      <th>1045</th>\n",
       "      <td>2020-11-11</td>\n",
       "      <td>4907</td>\n",
       "      <td>1037.0</td>\n",
       "      <td>41643.0</td>\n",
       "    </tr>\n",
       "    <tr>\n",
       "      <th>1046</th>\n",
       "      <td>2020-11-12</td>\n",
       "      <td>4841</td>\n",
       "      <td>1302.0</td>\n",
       "      <td>41759.0</td>\n",
       "    </tr>\n",
       "    <tr>\n",
       "      <th>1044</th>\n",
       "      <td>2020-11-10</td>\n",
       "      <td>4829</td>\n",
       "      <td>1034.0</td>\n",
       "      <td>40325.0</td>\n",
       "    </tr>\n",
       "  </tbody>\n",
       "</table>\n",
       "</div>"
      ],
      "text/plain": [
       "           date  n_comments  n_replies   n_likes\n",
       "1047 2020-11-13       10407     5020.0  155110.0\n",
       "1036 2020-11-02        8659     4083.0   83069.0\n",
       "1041 2020-11-07        8123     2890.0   82691.0\n",
       "1048 2020-11-14        6086     1138.0   51965.0\n",
       "919  2020-07-08        6068     2263.0   74994.0\n",
       "1278 2021-07-02        5767     1764.0   85995.0\n",
       "1049 2020-11-15        5551     1254.0   54036.0\n",
       "1037 2020-11-03        5303     1324.0   55976.0\n",
       "1042 2020-11-08        5130      960.0   28951.0\n",
       "1043 2020-11-09        5101     1263.0   37681.0\n",
       "1040 2020-11-06        5012     1410.0   41605.0\n",
       "921  2020-07-10        4938     1747.0   58890.0\n",
       "1045 2020-11-11        4907     1037.0   41643.0\n",
       "1046 2020-11-12        4841     1302.0   41759.0\n",
       "1044 2020-11-10        4829     1034.0   40325.0"
      ]
     },
     "execution_count": 56,
     "metadata": {},
     "output_type": "execute_result"
    }
   ],
   "source": [
    "# Create a data frame with the number of comments in each date\n",
    "df_ncomments = df_comments.groupby(['date']).agg({'message':'count', 'n_replies': 'sum', 'n_likes': 'sum'}).reset_index(\n",
    ").rename(columns={'message':'n_comments'}).sort_values('n_comments', ascending=False)\n",
    "\n",
    "df_ncomments[\"date\"] = pd.to_datetime(df_ncomments[\"date\"])\n",
    "df_ncomments.head(15)\n"
   ]
  },
  {
   "cell_type": "markdown",
   "id": "dcad4647",
   "metadata": {},
   "source": [
    "<a id='all'></a>\n",
    ">>### Peaks in All Years\n",
    "> <ul>\n",
    " <li><a href=\"#all\"><b>All Years</b></a></li>\n",
    " <li><a href=\"#2018\">2018</a></li>\n",
    " <li><a href=\"#2019\">2019</a></li>\n",
    " <li><a href=\"#2020\">2020</a></li>\n",
    " <li><a href=\"#2021\">2021</a></li>\n",
    " </ul>"
   ]
  },
  {
   "cell_type": "code",
   "execution_count": 57,
   "id": "461fa8c8",
   "metadata": {},
   "outputs": [],
   "source": [
    "# filter on dates with peaks\n",
    "df_peaks = df_ncomments[['date', 'n_comments']]\n",
    "df_peaks_18 = df_peaks[df_peaks.date.dt.year == 2018]\n",
    "df_peaks_19 = df_peaks[df_peaks.date.dt.year == 2019]\n",
    "df_peaks_20 = df_peaks[df_peaks.date.dt.year == 2020]\n",
    "df_peaks_21 = df_peaks[df_peaks.date.dt.year == 2021]"
   ]
  },
  {
   "cell_type": "code",
   "execution_count": 58,
   "id": "b2285e20",
   "metadata": {},
   "outputs": [
    {
     "data": {
      "image/svg+xml": [
       "<svg class=\"main-svg\" xmlns=\"http://www.w3.org/2000/svg\" xmlns:xlink=\"http://www.w3.org/1999/xlink\" width=\"950\" height=\"550\" style=\"\" viewBox=\"0 0 950 550\"><rect x=\"0\" y=\"0\" width=\"950\" height=\"550\" style=\"fill: rgb(255, 255, 255); fill-opacity: 1;\"/><defs id=\"defs-05f235\"><g class=\"clips\"><clipPath id=\"clip05f235xyplot\" class=\"plotclip\"><rect width=\"790\" height=\"348\"/></clipPath><clipPath class=\"axesclip\" id=\"clip05f235x\"><rect x=\"80\" y=\"0\" width=\"790\" height=\"550\"/></clipPath><clipPath class=\"axesclip\" id=\"clip05f235y\"><rect x=\"0\" y=\"100\" width=\"950\" height=\"348\"/></clipPath><clipPath class=\"axesclip\" id=\"clip05f235xy\"><rect x=\"80\" y=\"100\" width=\"790\" height=\"348\"/></clipPath></g><g class=\"gradients\"/><g class=\"patterns\"/></defs><g class=\"bglayer\"><rect class=\"bg\" x=\"80\" y=\"100\" width=\"790\" height=\"348\" style=\"fill: rgb(229, 236, 246); fill-opacity: 1; stroke-width: 0;\"/></g><g class=\"layer-below\"><g class=\"imagelayer\"/><g class=\"shapelayer\"/></g><g class=\"cartesianlayer\"><g class=\"subplot xy\"><g class=\"layer-subplot\"><g class=\"shapelayer\"/><g class=\"imagelayer\"/></g><g class=\"gridlayer\"><g class=\"x\"/><g class=\"y\"><path class=\"ygrid crisp\" transform=\"translate(0,384.47)\" d=\"M80,0h790\" style=\"stroke: rgb(255, 255, 255); stroke-opacity: 1; stroke-width: 1px;\"/><path class=\"ygrid crisp\" transform=\"translate(0,320.93)\" d=\"M80,0h790\" style=\"stroke: rgb(255, 255, 255); stroke-opacity: 1; stroke-width: 1px;\"/><path class=\"ygrid crisp\" transform=\"translate(0,257.4)\" d=\"M80,0h790\" style=\"stroke: rgb(255, 255, 255); stroke-opacity: 1; stroke-width: 1px;\"/><path class=\"ygrid crisp\" transform=\"translate(0,193.86)\" d=\"M80,0h790\" style=\"stroke: rgb(255, 255, 255); stroke-opacity: 1; stroke-width: 1px;\"/><path class=\"ygrid crisp\" transform=\"translate(0,130.32999999999998)\" d=\"M80,0h790\" style=\"stroke: rgb(255, 255, 255); stroke-opacity: 1; stroke-width: 1px;\"/></g></g><g class=\"zerolinelayer\"><path class=\"yzl zl crisp\" transform=\"translate(0,448)\" d=\"M80,0h790\" style=\"stroke: rgb(255, 255, 255); stroke-opacity: 1; stroke-width: 2px;\"/></g><path class=\"xlines-below\"/><path class=\"ylines-below\"/><g class=\"overlines-below\"/><g class=\"xaxislayer-below\"/><g class=\"yaxislayer-below\"/><g class=\"overaxes-below\"/><g class=\"plot\" transform=\"translate(80,100)\" clip-path=\"url(#clip05f235xyplot)\"><g class=\"barlayer mlayer\"><g class=\"trace bars\" style=\"opacity: 1;\"><g class=\"points\"><g class=\"point\"><path d=\"M674.54,348V17.4H723.15V348Z\" style=\"vector-effect: non-scaling-stroke; opacity: 1; stroke-width: 0.5px; fill: rgb(255, 0, 0); fill-opacity: 1; stroke: rgb(229, 236, 246); stroke-opacity: 1;\"/><text class=\"bartext bartext-inside\" text-anchor=\"middle\" data-notex=\"1\" x=\"0\" y=\"0\" style=\"font-family: 'Open Sans', verdana, arial, sans-serif; font-size: 12px; fill: rgb(255, 255, 255); fill-opacity: 1; white-space: pre;\" transform=\"translate(698.845,33.4)\">10407</text></g><g class=\"point\"><path d=\"M6.08,348V72.93H54.69V348Z\" style=\"vector-effect: non-scaling-stroke; opacity: 1; stroke-width: 0.5px; fill: rgb(255, 0, 0); fill-opacity: 1; stroke: rgb(229, 236, 246); stroke-opacity: 1;\"/><text class=\"bartext bartext-inside\" text-anchor=\"middle\" data-notex=\"1\" x=\"0\" y=\"0\" style=\"font-family: 'Open Sans', verdana, arial, sans-serif; font-size: 12px; fill: rgb(255, 255, 255); fill-opacity: 1; white-space: pre;\" transform=\"translate(30.384999999999998,88.93)\">8659</text></g><g class=\"point\"><path d=\"M309.92,348V89.96H358.54V348Z\" style=\"vector-effect: non-scaling-stroke; opacity: 1; stroke-width: 0.5px; fill: rgb(255, 0, 0); fill-opacity: 1; stroke: rgb(229, 236, 246); stroke-opacity: 1;\"/><text class=\"bartext bartext-inside\" text-anchor=\"middle\" data-notex=\"1\" x=\"0\" y=\"0\" style=\"font-family: 'Open Sans', verdana, arial, sans-serif; font-size: 12px; fill: rgb(255, 255, 255); fill-opacity: 1; white-space: pre;\" transform=\"translate(334.23,105.96)\">8123</text></g><g class=\"point\"><path d=\"M735.31,348V154.67H783.92V348Z\" style=\"vector-effect: non-scaling-stroke; opacity: 1; stroke-width: 0.5px; fill: rgb(255, 0, 0); fill-opacity: 1; stroke: rgb(229, 236, 246); stroke-opacity: 1;\"/><text class=\"bartext bartext-inside\" text-anchor=\"middle\" data-notex=\"1\" x=\"0\" y=\"0\" style=\"font-family: 'Open Sans', verdana, arial, sans-serif; font-size: 12px; fill: rgb(255, 255, 255); fill-opacity: 1; white-space: pre;\" transform=\"translate(759.615,170.67)\">6086</text></g></g></g></g></g><g class=\"overplot\"/><path class=\"xlines-above crisp\" d=\"M0,0\" style=\"fill: none;\"/><path class=\"ylines-above crisp\" d=\"M0,0\" style=\"fill: none;\"/><g class=\"overlines-above\"/><g class=\"xaxislayer-above\"><g class=\"xtick\"><text text-anchor=\"start\" x=\"0\" y=\"461\" transform=\"translate(778.85,0) rotate(45,0,455)\" style=\"font-family: 'Open Sans', verdana, arial, sans-serif; font-size: 12px; fill: rgb(42, 63, 95); fill-opacity: 1; white-space: pre; opacity: 1;\">Nov 13, 2020</text></g><g class=\"xtick\"><text text-anchor=\"start\" x=\"0\" y=\"461\" style=\"font-family: 'Open Sans', verdana, arial, sans-serif; font-size: 12px; fill: rgb(42, 63, 95); fill-opacity: 1; white-space: pre; opacity: 1;\" transform=\"translate(110.38,0) rotate(45,0,455)\">Nov 2, 2020</text></g><g class=\"xtick\"><text text-anchor=\"start\" x=\"0\" y=\"461\" style=\"font-family: 'Open Sans', verdana, arial, sans-serif; font-size: 12px; fill: rgb(42, 63, 95); fill-opacity: 1; white-space: pre; opacity: 1;\" transform=\"translate(414.23,0) rotate(45,0,455)\">Nov 7, 2020</text></g><g class=\"xtick\"><text text-anchor=\"start\" x=\"0\" y=\"461\" style=\"font-family: 'Open Sans', verdana, arial, sans-serif; font-size: 12px; fill: rgb(42, 63, 95); fill-opacity: 1; white-space: pre; opacity: 1;\" transform=\"translate(839.62,0) rotate(45,0,455)\">Nov 14, 2020</text></g></g><g class=\"yaxislayer-above\"><g class=\"ytick\"><text text-anchor=\"end\" x=\"79\" y=\"4.199999999999999\" transform=\"translate(0,448)\" style=\"font-family: 'Open Sans', verdana, arial, sans-serif; font-size: 12px; fill: rgb(42, 63, 95); fill-opacity: 1; white-space: pre; opacity: 1;\">0</text></g><g class=\"ytick\"><text text-anchor=\"end\" x=\"79\" y=\"4.199999999999999\" style=\"font-family: 'Open Sans', verdana, arial, sans-serif; font-size: 12px; fill: rgb(42, 63, 95); fill-opacity: 1; white-space: pre; opacity: 1;\" transform=\"translate(0,384.47)\">2k</text></g><g class=\"ytick\"><text text-anchor=\"end\" x=\"79\" y=\"4.199999999999999\" style=\"font-family: 'Open Sans', verdana, arial, sans-serif; font-size: 12px; fill: rgb(42, 63, 95); fill-opacity: 1; white-space: pre; opacity: 1;\" transform=\"translate(0,320.93)\">4k</text></g><g class=\"ytick\"><text text-anchor=\"end\" x=\"79\" y=\"4.199999999999999\" style=\"font-family: 'Open Sans', verdana, arial, sans-serif; font-size: 12px; fill: rgb(42, 63, 95); fill-opacity: 1; white-space: pre; opacity: 1;\" transform=\"translate(0,257.4)\">6k</text></g><g class=\"ytick\"><text text-anchor=\"end\" x=\"79\" y=\"4.199999999999999\" style=\"font-family: 'Open Sans', verdana, arial, sans-serif; font-size: 12px; fill: rgb(42, 63, 95); fill-opacity: 1; white-space: pre; opacity: 1;\" transform=\"translate(0,193.86)\">8k</text></g><g class=\"ytick\"><text text-anchor=\"end\" x=\"79\" y=\"4.199999999999999\" style=\"font-family: 'Open Sans', verdana, arial, sans-serif; font-size: 12px; fill: rgb(42, 63, 95); fill-opacity: 1; white-space: pre; opacity: 1;\" transform=\"translate(0,130.32999999999998)\">10k</text></g></g><g class=\"overaxes-above\"/></g></g><g class=\"polarlayer\"/><g class=\"ternarylayer\"/><g class=\"geolayer\"/><g class=\"funnelarealayer\"/><g class=\"pielayer\"/><g class=\"iciclelayer\"/><g class=\"treemaplayer\"/><g class=\"sunburstlayer\"/><g class=\"glimages\"/><defs id=\"topdefs-05f235\"><g class=\"clips\"/></defs><g class=\"layer-above\"><g class=\"imagelayer\"/><g class=\"shapelayer\"/></g><g class=\"infolayer\"><g class=\"g-gtitle\"><text class=\"gtitle\" x=\"47.5\" y=\"50\" text-anchor=\"start\" dy=\"0em\" style=\"font-family: 'Open Sans', verdana, arial, sans-serif; font-size: 17px; fill: rgb(42, 63, 95); opacity: 1; font-weight: normal; white-space: pre;\">Dates with the Highest Number of Comments in All Years</text></g><g class=\"g-xtitle\"><text class=\"xtitle\" x=\"475\" y=\"537.89375\" text-anchor=\"middle\" style=\"font-family: 'Open Sans', verdana, arial, sans-serif; font-size: 14px; fill: rgb(42, 63, 95); opacity: 1; font-weight: normal; white-space: pre;\">Comments Creation Date</text></g><g class=\"g-ytitle\"><text class=\"ytitle\" transform=\"rotate(-90,34.16875,274)\" x=\"34.16875\" y=\"274\" text-anchor=\"middle\" style=\"font-family: 'Open Sans', verdana, arial, sans-serif; font-size: 14px; fill: rgb(42, 63, 95); opacity: 1; font-weight: normal; white-space: pre;\">n_comments</text></g></g></svg>"
      ]
     },
     "metadata": {},
     "output_type": "display_data"
    }
   ],
   "source": [
    "bar_peaks(df_peaks.head(4), \"Dates with the Highest Number of Comments in All Years\")"
   ]
  },
  {
   "cell_type": "markdown",
   "id": "264034bf",
   "metadata": {},
   "source": [
    "**NOTE:**\n",
    "- 2018 Peaks --> Dec\n",
    "- 2019 Peaks --> Jan\n",
    "- 2020 Peaks --> Nov, Jul"
   ]
  },
  {
   "cell_type": "code",
   "execution_count": 59,
   "id": "e724410c",
   "metadata": {},
   "outputs": [],
   "source": [
    "df_dec_18 = df_ncomments[\n",
    "    (df_ncomments[\"date\"].dt.year == 2018) & (df_ncomments[\"date\"].dt.month == 12)\n",
    "]\n",
    "df_jan_19 = df_ncomments[\n",
    "    (df_ncomments[\"date\"].dt.year == 2019) & (df_ncomments[\"date\"].dt.month == 1)\n",
    "]\n",
    "df_nov_20 = df_ncomments[\n",
    "    (df_ncomments[\"date\"].dt.year == 2020) & (df_ncomments[\"date\"].dt.month == 11)\n",
    "]\n",
    "df_jul_20 = df_ncomments[\n",
    "    (df_ncomments[\"date\"].dt.year == 2020) & (df_ncomments[\"date\"].dt.month == 7)\n",
    "]"
   ]
  },
  {
   "cell_type": "markdown",
   "id": "c2c19d99",
   "metadata": {},
   "source": [
    "<a id='2018'></a>\n",
    ">>### 2018 Peaks\n",
    "> <ul>\n",
    " <li><a href=\"#all\">All Years</a></li>\n",
    " <li><a href=\"#2018\"><b>2018</b></a></li>\n",
    " <li><a href=\"#2019\">2019</a></li>\n",
    " <li><a href=\"#2020\">2020</a></li>\n",
    " <li><a href=\"#2021\">2021</a></li>\n",
    " </ul>"
   ]
  },
  {
   "cell_type": "code",
   "execution_count": 60,
   "id": "70837f5e",
   "metadata": {},
   "outputs": [
    {
     "data": {
      "image/svg+xml": [
       "<svg class=\"main-svg\" xmlns=\"http://www.w3.org/2000/svg\" xmlns:xlink=\"http://www.w3.org/1999/xlink\" width=\"950\" height=\"550\" style=\"\" viewBox=\"0 0 950 550\"><rect x=\"0\" y=\"0\" width=\"950\" height=\"550\" style=\"fill: rgb(255, 255, 255); fill-opacity: 1;\"/><defs id=\"defs-4a586e\"><g class=\"clips\"><clipPath id=\"clip4a586exyplot\" class=\"plotclip\"><rect width=\"790\" height=\"349\"/></clipPath><clipPath class=\"axesclip\" id=\"clip4a586ex\"><rect x=\"80\" y=\"0\" width=\"790\" height=\"550\"/></clipPath><clipPath class=\"axesclip\" id=\"clip4a586ey\"><rect x=\"0\" y=\"100\" width=\"950\" height=\"349\"/></clipPath><clipPath class=\"axesclip\" id=\"clip4a586exy\"><rect x=\"80\" y=\"100\" width=\"790\" height=\"349\"/></clipPath></g><g class=\"gradients\"/><g class=\"patterns\"/></defs><g class=\"bglayer\"><rect class=\"bg\" x=\"80\" y=\"100\" width=\"790\" height=\"349\" style=\"fill: rgb(229, 236, 246); fill-opacity: 1; stroke-width: 0;\"/></g><g class=\"layer-below\"><g class=\"imagelayer\"/><g class=\"shapelayer\"/></g><g class=\"cartesianlayer\"><g class=\"subplot xy\"><g class=\"layer-subplot\"><g class=\"shapelayer\"/><g class=\"imagelayer\"/></g><g class=\"gridlayer\"><g class=\"x\"/><g class=\"y\"><path class=\"ygrid crisp\" transform=\"translate(0,404.23)\" d=\"M80,0h790\" style=\"stroke: rgb(255, 255, 255); stroke-opacity: 1; stroke-width: 1px;\"/><path class=\"ygrid crisp\" transform=\"translate(0,359.46)\" d=\"M80,0h790\" style=\"stroke: rgb(255, 255, 255); stroke-opacity: 1; stroke-width: 1px;\"/><path class=\"ygrid crisp\" transform=\"translate(0,314.7)\" d=\"M80,0h790\" style=\"stroke: rgb(255, 255, 255); stroke-opacity: 1; stroke-width: 1px;\"/><path class=\"ygrid crisp\" transform=\"translate(0,269.93)\" d=\"M80,0h790\" style=\"stroke: rgb(255, 255, 255); stroke-opacity: 1; stroke-width: 1px;\"/><path class=\"ygrid crisp\" transform=\"translate(0,225.16)\" d=\"M80,0h790\" style=\"stroke: rgb(255, 255, 255); stroke-opacity: 1; stroke-width: 1px;\"/><path class=\"ygrid crisp\" transform=\"translate(0,180.39)\" d=\"M80,0h790\" style=\"stroke: rgb(255, 255, 255); stroke-opacity: 1; stroke-width: 1px;\"/><path class=\"ygrid crisp\" transform=\"translate(0,135.63)\" d=\"M80,0h790\" style=\"stroke: rgb(255, 255, 255); stroke-opacity: 1; stroke-width: 1px;\"/></g></g><g class=\"zerolinelayer\"><path class=\"yzl zl crisp\" transform=\"translate(0,449)\" d=\"M80,0h790\" style=\"stroke: rgb(255, 255, 255); stroke-opacity: 1; stroke-width: 2px;\"/></g><path class=\"xlines-below\"/><path class=\"ylines-below\"/><g class=\"overlines-below\"/><g class=\"xaxislayer-below\"/><g class=\"yaxislayer-below\"/><g class=\"overaxes-below\"/><g class=\"plot\" transform=\"translate(80,100)\" clip-path=\"url(#clip4a586exyplot)\"><g class=\"barlayer mlayer\"><g class=\"trace bars\" style=\"opacity: 1;\"><g class=\"points\"><g class=\"point\"><path d=\"M711,349V17.45H744.26V349Z\" style=\"vector-effect: non-scaling-stroke; opacity: 1; stroke-width: 0.5px; fill: rgb(255, 0, 0); fill-opacity: 1; stroke: rgb(229, 236, 246); stroke-opacity: 1;\"/><text class=\"bartext bartext-inside\" text-anchor=\"middle\" data-notex=\"1\" x=\"0\" y=\"0\" style=\"font-family: 'Open Sans', verdana, arial, sans-serif; font-size: 12px; fill: rgb(255, 255, 255); fill-opacity: 1; white-space: pre;\" transform=\"translate(727.63,38.934375)rotate(90 0 -4.75)\">3703</text></g><g class=\"point\"><path d=\"M752.58,349V32.49H785.84V349Z\" style=\"vector-effect: non-scaling-stroke; opacity: 1; stroke-width: 0.5px; fill: rgb(255, 0, 0); fill-opacity: 1; stroke: rgb(229, 236, 246); stroke-opacity: 1;\"/><text class=\"bartext bartext-inside\" text-anchor=\"middle\" data-notex=\"1\" x=\"0\" y=\"0\" style=\"font-family: 'Open Sans', verdana, arial, sans-serif; font-size: 12px; fill: rgb(255, 255, 255); fill-opacity: 1; white-space: pre;\" transform=\"translate(769.21,53.974375)rotate(90 0 -4.75)\">3535</text></g><g class=\"point\"><path d=\"M4.16,349V42.43H37.42V349Z\" style=\"vector-effect: non-scaling-stroke; opacity: 1; stroke-width: 0.5px; fill: rgb(255, 0, 0); fill-opacity: 1; stroke: rgb(229, 236, 246); stroke-opacity: 1;\"/><text class=\"bartext bartext-inside\" text-anchor=\"middle\" data-notex=\"1\" x=\"0\" y=\"0\" style=\"font-family: 'Open Sans', verdana, arial, sans-serif; font-size: 12px; fill: rgb(255, 255, 255); fill-opacity: 1; white-space: pre;\" transform=\"translate(20.79,63.914375)rotate(90 0 -4.75)\">3424</text></g></g></g></g></g><g class=\"overplot\"/><path class=\"xlines-above crisp\" d=\"M0,0\" style=\"fill: none;\"/><path class=\"ylines-above crisp\" d=\"M0,0\" style=\"fill: none;\"/><g class=\"overlines-above\"/><g class=\"xaxislayer-above\"><g class=\"xtick\"><text text-anchor=\"start\" x=\"0\" y=\"462\" transform=\"translate(807.63,0) rotate(45,0,456)\" style=\"font-family: 'Open Sans', verdana, arial, sans-serif; font-size: 12px; fill: rgb(42, 63, 95); fill-opacity: 1; white-space: pre; opacity: 1;\">Dec 30, 2018</text></g><g class=\"xtick\"><text text-anchor=\"start\" x=\"0\" y=\"462\" style=\"font-family: 'Open Sans', verdana, arial, sans-serif; font-size: 12px; fill: rgb(42, 63, 95); fill-opacity: 1; white-space: pre; opacity: 1;\" transform=\"translate(849.21,0) rotate(45,0,456)\">Dec 31, 2018</text></g><g class=\"xtick\"><text text-anchor=\"start\" x=\"0\" y=\"462\" style=\"font-family: 'Open Sans', verdana, arial, sans-serif; font-size: 12px; fill: rgb(42, 63, 95); fill-opacity: 1; white-space: pre; opacity: 1;\" transform=\"translate(100.78999999999999,0) rotate(45,0,456)\">Dec 13, 2018</text></g></g><g class=\"yaxislayer-above\"><g class=\"ytick\"><text text-anchor=\"end\" x=\"79\" y=\"4.199999999999999\" transform=\"translate(0,449)\" style=\"font-family: 'Open Sans', verdana, arial, sans-serif; font-size: 12px; fill: rgb(42, 63, 95); fill-opacity: 1; white-space: pre; opacity: 1;\">0</text></g><g class=\"ytick\"><text text-anchor=\"end\" x=\"79\" y=\"4.199999999999999\" style=\"font-family: 'Open Sans', verdana, arial, sans-serif; font-size: 12px; fill: rgb(42, 63, 95); fill-opacity: 1; white-space: pre; opacity: 1;\" transform=\"translate(0,404.23)\">500</text></g><g class=\"ytick\"><text text-anchor=\"end\" x=\"79\" y=\"4.199999999999999\" style=\"font-family: 'Open Sans', verdana, arial, sans-serif; font-size: 12px; fill: rgb(42, 63, 95); fill-opacity: 1; white-space: pre; opacity: 1;\" transform=\"translate(0,359.46)\">1000</text></g><g class=\"ytick\"><text text-anchor=\"end\" x=\"79\" y=\"4.199999999999999\" style=\"font-family: 'Open Sans', verdana, arial, sans-serif; font-size: 12px; fill: rgb(42, 63, 95); fill-opacity: 1; white-space: pre; opacity: 1;\" transform=\"translate(0,314.7)\">1500</text></g><g class=\"ytick\"><text text-anchor=\"end\" x=\"79\" y=\"4.199999999999999\" style=\"font-family: 'Open Sans', verdana, arial, sans-serif; font-size: 12px; fill: rgb(42, 63, 95); fill-opacity: 1; white-space: pre; opacity: 1;\" transform=\"translate(0,269.93)\">2000</text></g><g class=\"ytick\"><text text-anchor=\"end\" x=\"79\" y=\"4.199999999999999\" style=\"font-family: 'Open Sans', verdana, arial, sans-serif; font-size: 12px; fill: rgb(42, 63, 95); fill-opacity: 1; white-space: pre; opacity: 1;\" transform=\"translate(0,225.16)\">2500</text></g><g class=\"ytick\"><text text-anchor=\"end\" x=\"79\" y=\"4.199999999999999\" style=\"font-family: 'Open Sans', verdana, arial, sans-serif; font-size: 12px; fill: rgb(42, 63, 95); fill-opacity: 1; white-space: pre; opacity: 1;\" transform=\"translate(0,180.39)\">3000</text></g><g class=\"ytick\"><text text-anchor=\"end\" x=\"79\" y=\"4.199999999999999\" style=\"font-family: 'Open Sans', verdana, arial, sans-serif; font-size: 12px; fill: rgb(42, 63, 95); fill-opacity: 1; white-space: pre; opacity: 1;\" transform=\"translate(0,135.63)\">3500</text></g></g><g class=\"overaxes-above\"/></g></g><g class=\"polarlayer\"/><g class=\"ternarylayer\"/><g class=\"geolayer\"/><g class=\"funnelarealayer\"/><g class=\"pielayer\"/><g class=\"iciclelayer\"/><g class=\"treemaplayer\"/><g class=\"sunburstlayer\"/><g class=\"glimages\"/><defs id=\"topdefs-4a586e\"><g class=\"clips\"/></defs><g class=\"layer-above\"><g class=\"imagelayer\"/><g class=\"shapelayer\"/></g><g class=\"infolayer\"><g class=\"g-gtitle\"><text class=\"gtitle\" x=\"47.5\" y=\"50\" text-anchor=\"start\" dy=\"0em\" style=\"font-family: 'Open Sans', verdana, arial, sans-serif; font-size: 17px; fill: rgb(42, 63, 95); opacity: 1; font-weight: normal; white-space: pre;\">Dates with the Highest Number of Comments in 2018</text></g><g class=\"g-xtitle\"><text class=\"xtitle\" x=\"475\" y=\"538.10859375\" text-anchor=\"middle\" style=\"font-family: 'Open Sans', verdana, arial, sans-serif; font-size: 14px; fill: rgb(42, 63, 95); opacity: 1; font-weight: normal; white-space: pre;\">Comments Creation Date</text></g><g class=\"g-ytitle\"><text class=\"ytitle\" transform=\"rotate(-90,26.746875000000003,274.5)\" x=\"26.746875000000003\" y=\"274.5\" text-anchor=\"middle\" style=\"font-family: 'Open Sans', verdana, arial, sans-serif; font-size: 14px; fill: rgb(42, 63, 95); opacity: 1; font-weight: normal; white-space: pre;\">n_comments</text></g></g></svg>"
      ]
     },
     "metadata": {},
     "output_type": "display_data"
    }
   ],
   "source": [
    "bar_peaks(df_peaks_18.head(3), \"Dates with the Highest Number of Comments in 2018\")"
   ]
  },
  {
   "cell_type": "code",
   "execution_count": 61,
   "id": "935a924e",
   "metadata": {},
   "outputs": [],
   "source": [
    "def bar_dates(df, title, threshold=float(\"inf\")):\n",
    "    fig = px.bar(df, x=\"date\", y=\"n_comments\", text=\"n_comments\")\n",
    "\n",
    "    fig.update_layout(\n",
    "        title={\"text\": title, \"x\": 0.5, \"xanchor\": \"center\", \"yanchor\": \"top\"}\n",
    "    )\n",
    "    fig.update_layout(xaxis=dict(title=\"Comments Creation Date\", tickmode=\"linear\"))\n",
    "\n",
    "    clrs = [\"red\" if (y > threshold) else \"#5296dd\" for y in df[\"n_comments\"]]\n",
    "    fig.update_traces(\n",
    "        marker_color=clrs, marker_line_width=1.5, opacity=1, textposition=\"auto\"\n",
    "    )\n",
    "    fig.update_xaxes(tickangle=45)\n",
    "    fig.show(\"svg\")"
   ]
  },
  {
   "cell_type": "code",
   "execution_count": 62,
   "id": "ac5b2375",
   "metadata": {},
   "outputs": [
    {
     "data": {
      "image/svg+xml": [
       "<svg class=\"main-svg\" xmlns=\"http://www.w3.org/2000/svg\" xmlns:xlink=\"http://www.w3.org/1999/xlink\" width=\"950\" height=\"550\" style=\"\" viewBox=\"0 0 950 550\"><rect x=\"0\" y=\"0\" width=\"950\" height=\"550\" style=\"fill: rgb(255, 255, 255); fill-opacity: 1;\"/><defs id=\"defs-65a978\"><g class=\"clips\"><clipPath id=\"clip65a978xyplot\" class=\"plotclip\"><rect width=\"790\" height=\"406\"/></clipPath><clipPath class=\"axesclip\" id=\"clip65a978x\"><rect x=\"80\" y=\"0\" width=\"790\" height=\"550\"/></clipPath><clipPath class=\"axesclip\" id=\"clip65a978y\"><rect x=\"0\" y=\"60\" width=\"950\" height=\"406\"/></clipPath><clipPath class=\"axesclip\" id=\"clip65a978xy\"><rect x=\"80\" y=\"60\" width=\"790\" height=\"406\"/></clipPath></g><g class=\"gradients\"/><g class=\"patterns\"/></defs><g class=\"bglayer\"><rect class=\"bg\" x=\"80\" y=\"60\" width=\"790\" height=\"406\" style=\"fill: rgb(229, 236, 246); fill-opacity: 1; stroke-width: 0;\"/></g><g class=\"layer-below\"><g class=\"imagelayer\"/><g class=\"shapelayer\"/></g><g class=\"cartesianlayer\"><g class=\"subplot xy\"><g class=\"layer-subplot\"><g class=\"shapelayer\"/><g class=\"imagelayer\"/></g><g class=\"gridlayer\"><g class=\"x\"/><g class=\"y\"><path class=\"ygrid crisp\" transform=\"translate(0,413.92)\" d=\"M80,0h790\" style=\"stroke: rgb(255, 255, 255); stroke-opacity: 1; stroke-width: 1px;\"/><path class=\"ygrid crisp\" transform=\"translate(0,361.84)\" d=\"M80,0h790\" style=\"stroke: rgb(255, 255, 255); stroke-opacity: 1; stroke-width: 1px;\"/><path class=\"ygrid crisp\" transform=\"translate(0,309.76)\" d=\"M80,0h790\" style=\"stroke: rgb(255, 255, 255); stroke-opacity: 1; stroke-width: 1px;\"/><path class=\"ygrid crisp\" transform=\"translate(0,257.68)\" d=\"M80,0h790\" style=\"stroke: rgb(255, 255, 255); stroke-opacity: 1; stroke-width: 1px;\"/><path class=\"ygrid crisp\" transform=\"translate(0,205.6)\" d=\"M80,0h790\" style=\"stroke: rgb(255, 255, 255); stroke-opacity: 1; stroke-width: 1px;\"/><path class=\"ygrid crisp\" transform=\"translate(0,153.51999999999998)\" d=\"M80,0h790\" style=\"stroke: rgb(255, 255, 255); stroke-opacity: 1; stroke-width: 1px;\"/><path class=\"ygrid crisp\" transform=\"translate(0,101.44)\" d=\"M80,0h790\" style=\"stroke: rgb(255, 255, 255); stroke-opacity: 1; stroke-width: 1px;\"/></g></g><g class=\"zerolinelayer\"><path class=\"yzl zl crisp\" transform=\"translate(0,466)\" d=\"M80,0h790\" style=\"stroke: rgb(255, 255, 255); stroke-opacity: 1; stroke-width: 2px;\"/></g><path class=\"xlines-below\"/><path class=\"ylines-below\"/><g class=\"overlines-below\"/><g class=\"xaxislayer-below\"/><g class=\"yaxislayer-below\"/><g class=\"overaxes-below\"/><g class=\"plot\" transform=\"translate(80,60)\" clip-path=\"url(#clip65a978xyplot)\"><g class=\"barlayer mlayer\"><g class=\"trace bars\" style=\"opacity: 1;\"><g class=\"points\"><g class=\"point\"><path d=\"M741.58,406V20.3H761.97V406Z\" style=\"vector-effect: non-scaling-stroke; opacity: 1; stroke-width: 1.5px; fill: rgb(255, 0, 0); fill-opacity: 1; stroke: rgb(229, 236, 246); stroke-opacity: 1;\"/><text class=\"bartext bartext-inside\" text-anchor=\"middle\" data-notex=\"1\" x=\"0\" y=\"0\" style=\"font-family: 'Open Sans', verdana, arial, sans-serif; font-size: 12px; fill: rgb(255, 255, 255); fill-opacity: 1; white-space: pre;\" transform=\"translate(751.7750000000001,39.42061553030302)scale(0.8721212121212113)rotate(90 0 -4.75)\">3703</text></g><g class=\"point\"><path d=\"M767.06,406V37.8H787.45V406Z\" style=\"vector-effect: non-scaling-stroke; opacity: 1; stroke-width: 1.5px; fill: rgb(255, 0, 0); fill-opacity: 1; stroke: rgb(229, 236, 246); stroke-opacity: 1;\"/><text class=\"bartext bartext-inside\" text-anchor=\"middle\" data-notex=\"1\" x=\"0\" y=\"0\" style=\"font-family: 'Open Sans', verdana, arial, sans-serif; font-size: 12px; fill: rgb(255, 255, 255); fill-opacity: 1; white-space: pre;\" transform=\"translate(777.255,56.92061553030314)scale(0.8721212121212182)rotate(90 0 -4.75)\">3535</text></g><g class=\"point\"><path d=\"M308.35,406V49.36H328.74V406Z\" style=\"vector-effect: non-scaling-stroke; opacity: 1; stroke-width: 1.5px; fill: rgb(255, 0, 0); fill-opacity: 1; stroke: rgb(229, 236, 246); stroke-opacity: 1;\"/><text class=\"bartext bartext-inside\" text-anchor=\"middle\" data-notex=\"1\" x=\"0\" y=\"0\" style=\"font-family: 'Open Sans', verdana, arial, sans-serif; font-size: 12px; fill: rgb(255, 255, 255); fill-opacity: 1; white-space: pre;\" transform=\"translate(318.545,68.48061553030301)scale(0.8721212121212113)rotate(90 0 -4.75)\">3424</text></g><g class=\"point\"><path d=\"M716.1,406V53.63H736.48V406Z\" style=\"vector-effect: non-scaling-stroke; opacity: 1; stroke-width: 1.5px; fill: rgb(255, 0, 0); fill-opacity: 1; stroke: rgb(229, 236, 246); stroke-opacity: 1;\"/><text class=\"bartext bartext-inside\" text-anchor=\"middle\" data-notex=\"1\" x=\"0\" y=\"0\" style=\"font-family: 'Open Sans', verdana, arial, sans-serif; font-size: 12px; fill: rgb(255, 255, 255); fill-opacity: 1; white-space: pre;\" transform=\"translate(726.29,72.73941287878787)scale(0.8715151515151512)rotate(90 0 -4.75)\">3383</text></g><g class=\"point\"><path d=\"M486.74,406V59.26H507.13V406Z\" style=\"vector-effect: non-scaling-stroke; opacity: 1; stroke-width: 1.5px; fill: rgb(255, 0, 0); fill-opacity: 1; stroke: rgb(229, 236, 246); stroke-opacity: 1;\"/><text class=\"bartext bartext-inside\" text-anchor=\"middle\" data-notex=\"1\" x=\"0\" y=\"0\" style=\"font-family: 'Open Sans', verdana, arial, sans-serif; font-size: 12px; fill: rgb(255, 255, 255); fill-opacity: 1; white-space: pre;\" transform=\"translate(496.935,78.38061553030302)scale(0.8721212121212113)rotate(90 0 -4.75)\">3329</text></g><g class=\"point\"><path d=\"M461.26,406V59.57H481.65V406Z\" style=\"vector-effect: non-scaling-stroke; opacity: 1; stroke-width: 1.5px; fill: rgb(255, 0, 0); fill-opacity: 1; stroke: rgb(229, 236, 246); stroke-opacity: 1;\"/><text class=\"bartext bartext-inside\" text-anchor=\"middle\" data-notex=\"1\" x=\"0\" y=\"0\" style=\"font-family: 'Open Sans', verdana, arial, sans-serif; font-size: 12px; fill: rgb(255, 255, 255); fill-opacity: 1; white-space: pre;\" transform=\"translate(471.455,78.69061553030302)scale(0.8721212121212113)rotate(90 0 -4.75)\">3326</text></g><g class=\"point\"><path d=\"M512.23,406V62.38H532.61V406Z\" style=\"vector-effect: non-scaling-stroke; opacity: 1; stroke-width: 1.5px; fill: rgb(255, 0, 0); fill-opacity: 1; stroke: rgb(229, 236, 246); stroke-opacity: 1;\"/><text class=\"bartext bartext-inside\" text-anchor=\"middle\" data-notex=\"1\" x=\"0\" y=\"0\" style=\"font-family: 'Open Sans', verdana, arial, sans-serif; font-size: 12px; fill: rgb(255, 255, 255); fill-opacity: 1; white-space: pre;\" transform=\"translate(522.4200000000001,81.48941287878787)scale(0.8715151515151512)rotate(90 0 -4.75)\">3299</text></g><g class=\"point\"><path d=\"M588.68,406V74.05H609.06V406Z\" style=\"vector-effect: non-scaling-stroke; opacity: 1; stroke-width: 1.5px; fill: rgb(255, 0, 0); fill-opacity: 1; stroke: rgb(229, 236, 246); stroke-opacity: 1;\"/><text class=\"bartext bartext-inside\" text-anchor=\"middle\" data-notex=\"1\" x=\"0\" y=\"0\" style=\"font-family: 'Open Sans', verdana, arial, sans-serif; font-size: 12px; fill: rgb(255, 255, 255); fill-opacity: 1; white-space: pre;\" transform=\"translate(598.8699999999999,93.15941287878788)scale(0.8715151515151512)rotate(90 0 -4.75)\">3187</text></g><g class=\"point\"><path d=\"M690.61,406V81.34H711V406Z\" style=\"vector-effect: non-scaling-stroke; opacity: 1; stroke-width: 1.5px; fill: rgb(255, 0, 0); fill-opacity: 1; stroke: rgb(229, 236, 246); stroke-opacity: 1;\"/><text class=\"bartext bartext-inside\" text-anchor=\"middle\" data-notex=\"1\" x=\"0\" y=\"0\" style=\"font-family: 'Open Sans', verdana, arial, sans-serif; font-size: 12px; fill: rgb(255, 255, 255); fill-opacity: 1; white-space: pre;\" transform=\"translate(700.8050000000001,100.46061553030302)scale(0.8721212121212113)rotate(90 0 -4.75)\">3117</text></g><g class=\"point\"><path d=\"M333.84,406V95.82H354.23V406Z\" style=\"vector-effect: non-scaling-stroke; opacity: 1; stroke-width: 1.5px; fill: rgb(255, 0, 0); fill-opacity: 1; stroke: rgb(229, 236, 246); stroke-opacity: 1;\"/><text class=\"bartext bartext-inside\" text-anchor=\"middle\" data-notex=\"1\" x=\"0\" y=\"0\" style=\"font-family: 'Open Sans', verdana, arial, sans-serif; font-size: 12px; fill: rgb(255, 255, 255); fill-opacity: 1; white-space: pre;\" transform=\"translate(344.03499999999997,114.94061553030306)scale(0.8721212121212147)rotate(90 0 -4.75)\">2978</text></g><g class=\"point\"><path d=\"M384.81,406V97.17H405.19V406Z\" style=\"vector-effect: non-scaling-stroke; opacity: 1; stroke-width: 1.5px; fill: rgb(255, 0, 0); fill-opacity: 1; stroke: rgb(229, 236, 246); stroke-opacity: 1;\"/><text class=\"bartext bartext-inside\" text-anchor=\"middle\" data-notex=\"1\" x=\"0\" y=\"0\" style=\"font-family: 'Open Sans', verdana, arial, sans-serif; font-size: 12px; fill: rgb(255, 255, 255); fill-opacity: 1; white-space: pre;\" transform=\"translate(395,116.27941287878788)scale(0.8715151515151512)rotate(90 0 -4.75)\">2965</text></g><g class=\"point\"><path d=\"M563.19,406V99.04H583.58V406Z\" style=\"vector-effect: non-scaling-stroke; opacity: 1; stroke-width: 1.5px; fill: rgb(255, 0, 0); fill-opacity: 1; stroke: rgb(229, 236, 246); stroke-opacity: 1;\"/><text class=\"bartext bartext-inside\" text-anchor=\"middle\" data-notex=\"1\" x=\"0\" y=\"0\" style=\"font-family: 'Open Sans', verdana, arial, sans-serif; font-size: 12px; fill: rgb(255, 255, 255); fill-opacity: 1; white-space: pre;\" transform=\"translate(573.385,118.16061553030302)scale(0.8721212121212113)rotate(90 0 -4.75)\">2947</text></g><g class=\"point\"><path d=\"M665.13,406V128.42H685.52V406Z\" style=\"vector-effect: non-scaling-stroke; opacity: 1; stroke-width: 1.5px; fill: rgb(255, 0, 0); fill-opacity: 1; stroke: rgb(229, 236, 246); stroke-opacity: 1;\"/><text class=\"bartext bartext-inside\" text-anchor=\"middle\" data-notex=\"1\" x=\"0\" y=\"0\" style=\"font-family: 'Open Sans', verdana, arial, sans-serif; font-size: 12px; fill: rgb(255, 255, 255); fill-opacity: 1; white-space: pre;\" transform=\"translate(675.325,147.540615530303)scale(0.8721212121212113)rotate(90 0 -4.75)\">2665</text></g><g class=\"point\"><path d=\"M410.29,406V139.15H430.68V406Z\" style=\"vector-effect: non-scaling-stroke; opacity: 1; stroke-width: 1.5px; fill: rgb(82, 150, 221); fill-opacity: 1; stroke: rgb(229, 236, 246); stroke-opacity: 1;\"/><text class=\"bartext bartext-inside\" text-anchor=\"middle\" data-notex=\"1\" x=\"0\" y=\"0\" style=\"font-family: 'Open Sans', verdana, arial, sans-serif; font-size: 12px; fill: rgb(68, 68, 68); fill-opacity: 1; white-space: pre;\" transform=\"translate(420.485,158.27061553030302)scale(0.8721212121212113)rotate(90 0 -4.75)\">2562</text></g><g class=\"point\"><path d=\"M359.32,406V147.69H379.71V406Z\" style=\"vector-effect: non-scaling-stroke; opacity: 1; stroke-width: 1.5px; fill: rgb(82, 150, 221); fill-opacity: 1; stroke: rgb(229, 236, 246); stroke-opacity: 1;\"/><text class=\"bartext bartext-inside\" text-anchor=\"middle\" data-notex=\"1\" x=\"0\" y=\"0\" style=\"font-family: 'Open Sans', verdana, arial, sans-serif; font-size: 12px; fill: rgb(68, 68, 68); fill-opacity: 1; white-space: pre;\" transform=\"translate(369.515,166.810615530303)scale(0.8721212121212113)rotate(90 0 -4.75)\">2480</text></g><g class=\"point\"><path d=\"M435.77,406V150.5H456.16V406Z\" style=\"vector-effect: non-scaling-stroke; opacity: 1; stroke-width: 1.5px; fill: rgb(82, 150, 221); fill-opacity: 1; stroke: rgb(229, 236, 246); stroke-opacity: 1;\"/><text class=\"bartext bartext-inside\" text-anchor=\"middle\" data-notex=\"1\" x=\"0\" y=\"0\" style=\"font-family: 'Open Sans', verdana, arial, sans-serif; font-size: 12px; fill: rgb(68, 68, 68); fill-opacity: 1; white-space: pre;\" transform=\"translate(445.96500000000003,169.62061553030307)scale(0.8721212121212147)rotate(90 0 -4.75)\">2453</text></g><g class=\"point\"><path d=\"M537.71,406V158.31H558.1V406Z\" style=\"vector-effect: non-scaling-stroke; opacity: 1; stroke-width: 1.5px; fill: rgb(82, 150, 221); fill-opacity: 1; stroke: rgb(229, 236, 246); stroke-opacity: 1;\"/><text class=\"bartext bartext-inside\" text-anchor=\"middle\" data-notex=\"1\" x=\"0\" y=\"0\" style=\"font-family: 'Open Sans', verdana, arial, sans-serif; font-size: 12px; fill: rgb(68, 68, 68); fill-opacity: 1; white-space: pre;\" transform=\"translate(547.905,177.43061553030302)scale(0.8721212121212113)rotate(90 0 -4.75)\">2378</text></g><g class=\"point\"><path d=\"M639.65,406V163.73H660.03V406Z\" style=\"vector-effect: non-scaling-stroke; opacity: 1; stroke-width: 1.5px; fill: rgb(82, 150, 221); fill-opacity: 1; stroke: rgb(229, 236, 246); stroke-opacity: 1;\"/><text class=\"bartext bartext-inside\" text-anchor=\"middle\" data-notex=\"1\" x=\"0\" y=\"0\" style=\"font-family: 'Open Sans', verdana, arial, sans-serif; font-size: 12px; fill: rgb(68, 68, 68); fill-opacity: 1; white-space: pre;\" transform=\"translate(649.8399999999999,182.83941287878787)scale(0.8715151515151512)rotate(90 0 -4.75)\">2326</text></g><g class=\"point\"><path d=\"M282.87,406V183.52H303.26V406Z\" style=\"vector-effect: non-scaling-stroke; opacity: 1; stroke-width: 1.5px; fill: rgb(82, 150, 221); fill-opacity: 1; stroke: rgb(229, 236, 246); stroke-opacity: 1;\"/><text class=\"bartext bartext-inside\" text-anchor=\"middle\" data-notex=\"1\" x=\"0\" y=\"0\" style=\"font-family: 'Open Sans', verdana, arial, sans-serif; font-size: 12px; fill: rgb(68, 68, 68); fill-opacity: 1; white-space: pre;\" transform=\"translate(293.065,202.64061553030302)scale(0.8721212121212113)rotate(90 0 -4.75)\">2136</text></g><g class=\"point\"><path d=\"M614.16,406V189.97H634.55V406Z\" style=\"vector-effect: non-scaling-stroke; opacity: 1; stroke-width: 1.5px; fill: rgb(82, 150, 221); fill-opacity: 1; stroke: rgb(229, 236, 246); stroke-opacity: 1;\"/><text class=\"bartext bartext-inside\" text-anchor=\"middle\" data-notex=\"1\" x=\"0\" y=\"0\" style=\"font-family: 'Open Sans', verdana, arial, sans-serif; font-size: 12px; fill: rgb(68, 68, 68); fill-opacity: 1; white-space: pre;\" transform=\"translate(624.355,209.090615530303)scale(0.8721212121212113)rotate(90 0 -4.75)\">2074</text></g><g class=\"point\"><path d=\"M257.39,406V232.78H277.77V406Z\" style=\"vector-effect: non-scaling-stroke; opacity: 1; stroke-width: 1.5px; fill: rgb(82, 150, 221); fill-opacity: 1; stroke: rgb(229, 236, 246); stroke-opacity: 1;\"/><text class=\"bartext bartext-inside\" text-anchor=\"middle\" data-notex=\"1\" x=\"0\" y=\"0\" style=\"font-family: 'Open Sans', verdana, arial, sans-serif; font-size: 12px; fill: rgb(68, 68, 68); fill-opacity: 1; white-space: pre;\" transform=\"translate(267.58,251.88941287878788)scale(0.8715151515151512)rotate(90 0 -4.75)\">1663</text></g><g class=\"point\"><path d=\"M79,406V254.45H99.39V406Z\" style=\"vector-effect: non-scaling-stroke; opacity: 1; stroke-width: 1.5px; fill: rgb(82, 150, 221); fill-opacity: 1; stroke: rgb(229, 236, 246); stroke-opacity: 1;\"/><text class=\"bartext bartext-inside\" text-anchor=\"middle\" data-notex=\"1\" x=\"0\" y=\"0\" style=\"font-family: 'Open Sans', verdana, arial, sans-serif; font-size: 12px; fill: rgb(68, 68, 68); fill-opacity: 1; white-space: pre;\" transform=\"translate(89.195,273.57061553030303)scale(0.8721212121212122)rotate(90 0 -4.75)\">1455</text></g><g class=\"point\"><path d=\"M231.9,406V274.24H252.29V406Z\" style=\"vector-effect: non-scaling-stroke; opacity: 1; stroke-width: 1.5px; fill: rgb(82, 150, 221); fill-opacity: 1; stroke: rgb(229, 236, 246); stroke-opacity: 1;\"/><text class=\"bartext bartext-inside\" text-anchor=\"middle\" data-notex=\"1\" x=\"0\" y=\"0\" style=\"font-family: 'Open Sans', verdana, arial, sans-serif; font-size: 12px; fill: rgb(68, 68, 68); fill-opacity: 1; white-space: pre;\" transform=\"translate(242.095,293.36061553030305)scale(0.8721212121212113)rotate(90 0 -4.75)\">1265</text></g><g class=\"point\"><path d=\"M53.52,406V282.47H73.9V406Z\" style=\"vector-effect: non-scaling-stroke; opacity: 1; stroke-width: 1.5px; fill: rgb(82, 150, 221); fill-opacity: 1; stroke: rgb(229, 236, 246); stroke-opacity: 1;\"/><text class=\"bartext bartext-inside\" text-anchor=\"middle\" data-notex=\"1\" x=\"0\" y=\"0\" style=\"font-family: 'Open Sans', verdana, arial, sans-serif; font-size: 12px; fill: rgb(68, 68, 68); fill-opacity: 1; white-space: pre;\" transform=\"translate(63.71000000000001,301.57941287878793)scale(0.8715151515151517)rotate(90 0 -4.75)\">1186</text></g><g class=\"point\"><path d=\"M206.42,406V283.61H226.81V406Z\" style=\"vector-effect: non-scaling-stroke; opacity: 1; stroke-width: 1.5px; fill: rgb(82, 150, 221); fill-opacity: 1; stroke: rgb(229, 236, 246); stroke-opacity: 1;\"/><text class=\"bartext bartext-inside\" text-anchor=\"middle\" data-notex=\"1\" x=\"0\" y=\"0\" style=\"font-family: 'Open Sans', verdana, arial, sans-serif; font-size: 12px; fill: rgb(68, 68, 68); fill-opacity: 1; white-space: pre;\" transform=\"translate(216.615,302.73061553030306)scale(0.872121212121213)rotate(90 0 -4.75)\">1175</text></g><g class=\"point\"><path d=\"M155.45,406V290.28H175.84V406Z\" style=\"vector-effect: non-scaling-stroke; opacity: 1; stroke-width: 1.5px; fill: rgb(82, 150, 221); fill-opacity: 1; stroke: rgb(229, 236, 246); stroke-opacity: 1;\"/><text class=\"bartext bartext-inside\" text-anchor=\"middle\" data-notex=\"1\" x=\"0\" y=\"0\" style=\"font-family: 'Open Sans', verdana, arial, sans-serif; font-size: 12px; fill: rgb(68, 68, 68); fill-opacity: 1; white-space: pre;\" transform=\"translate(165.64499999999998,309.400615530303)scale(0.872121212121213)rotate(90 0 -4.75)\">1111</text></g><g class=\"point\"><path d=\"M129.97,406V303.09H150.35V406Z\" style=\"vector-effect: non-scaling-stroke; opacity: 1; stroke-width: 1.5px; fill: rgb(82, 150, 221); fill-opacity: 1; stroke: rgb(229, 236, 246); stroke-opacity: 1;\"/><text class=\"bartext bartext-inside\" text-anchor=\"middle\" data-notex=\"1\" x=\"0\" y=\"0\" style=\"font-family: 'Open Sans', verdana, arial, sans-serif; font-size: 12px; fill: rgb(68, 68, 68); fill-opacity: 1; white-space: pre;\" transform=\"translate(140.16,319.20357954545455)scale(0.8715151515151512)rotate(90 0 -4.75)\">988</text></g><g class=\"point\"><path d=\"M180.94,406V304.13H201.32V406Z\" style=\"vector-effect: non-scaling-stroke; opacity: 1; stroke-width: 1.5px; fill: rgb(82, 150, 221); fill-opacity: 1; stroke: rgb(229, 236, 246); stroke-opacity: 1;\"/><text class=\"bartext bartext-inside\" text-anchor=\"middle\" data-notex=\"1\" x=\"0\" y=\"0\" style=\"font-family: 'Open Sans', verdana, arial, sans-serif; font-size: 12px; fill: rgb(68, 68, 68); fill-opacity: 1; white-space: pre;\" transform=\"translate(191.13,320.2435795454545)scale(0.8715151515151512)rotate(90 0 -4.75)\">978</text></g><g class=\"point\"><path d=\"M28.03,406V305.8H48.42V406Z\" style=\"vector-effect: non-scaling-stroke; opacity: 1; stroke-width: 1.5px; fill: rgb(82, 150, 221); fill-opacity: 1; stroke: rgb(229, 236, 246); stroke-opacity: 1;\"/><text class=\"bartext bartext-inside\" text-anchor=\"middle\" data-notex=\"1\" x=\"0\" y=\"0\" style=\"font-family: 'Open Sans', verdana, arial, sans-serif; font-size: 12px; fill: rgb(68, 68, 68); fill-opacity: 1; white-space: pre;\" transform=\"translate(38.225,321.92269886363636)scale(0.8721212121212122)rotate(90 0 -4.75)\">962</text></g><g class=\"point\"><path d=\"M2.55,406V323.09H22.94V406Z\" style=\"vector-effect: non-scaling-stroke; opacity: 1; stroke-width: 1.5px; fill: rgb(82, 150, 221); fill-opacity: 1; stroke: rgb(229, 236, 246); stroke-opacity: 1;\"/><text class=\"bartext bartext-inside\" text-anchor=\"middle\" data-notex=\"1\" x=\"0\" y=\"0\" style=\"font-family: 'Open Sans', verdana, arial, sans-serif; font-size: 12px; fill: rgb(68, 68, 68); fill-opacity: 1; white-space: pre;\" transform=\"translate(12.745000000000001,339.2126988636363)scale(0.8721212121212122)rotate(90 0 -4.75)\">796</text></g><g class=\"point\"><path d=\"M104.48,406V325.49H124.87V406Z\" style=\"vector-effect: non-scaling-stroke; opacity: 1; stroke-width: 1.5px; fill: rgb(82, 150, 221); fill-opacity: 1; stroke: rgb(229, 236, 246); stroke-opacity: 1;\"/><text class=\"bartext bartext-inside\" text-anchor=\"middle\" data-notex=\"1\" x=\"0\" y=\"0\" style=\"font-family: 'Open Sans', verdana, arial, sans-serif; font-size: 12px; fill: rgb(68, 68, 68); fill-opacity: 1; white-space: pre;\" transform=\"translate(114.67500000000001,341.61269886363635)scale(0.8721212121212122)rotate(90 0 -4.75)\">773</text></g></g></g></g></g><g class=\"overplot\"/><path class=\"xlines-above crisp\" d=\"M0,0\" style=\"fill: none;\"/><path class=\"ylines-above crisp\" d=\"M0,0\" style=\"fill: none;\"/><g class=\"overlines-above\"/><g class=\"xaxislayer-above\"><g class=\"xtick\"><text text-anchor=\"start\" x=\"0\" y=\"479\" transform=\"translate(92.74,0) rotate(45,0,473)\" style=\"font-family: 'Open Sans', verdana, arial, sans-serif; font-size: 12px; fill: rgb(42, 63, 95); fill-opacity: 1; white-space: pre; opacity: 1;\"><tspan class=\"line\" dy=\"0em\" x=\"0\" y=\"479\">Dec 1</tspan><tspan class=\"line\" dy=\"1.3em\" x=\"0\" y=\"479\">2018</tspan></text></g><g class=\"xtick\"><text text-anchor=\"start\" x=\"0\" y=\"479\" style=\"font-family: 'Open Sans', verdana, arial, sans-serif; font-size: 12px; fill: rgb(42, 63, 95); fill-opacity: 1; white-space: pre; opacity: 1;\" transform=\"translate(118.22999999999999,0) rotate(45,0,473)\">Dec 2</text></g><g class=\"xtick\"><text text-anchor=\"start\" x=\"0\" y=\"479\" style=\"font-family: 'Open Sans', verdana, arial, sans-serif; font-size: 12px; fill: rgb(42, 63, 95); fill-opacity: 1; white-space: pre; opacity: 1;\" transform=\"translate(143.71,0) rotate(45,0,473)\">Dec 3</text></g><g class=\"xtick\"><text text-anchor=\"start\" x=\"0\" y=\"479\" style=\"font-family: 'Open Sans', verdana, arial, sans-serif; font-size: 12px; fill: rgb(42, 63, 95); fill-opacity: 1; white-space: pre; opacity: 1;\" transform=\"translate(169.19,0) rotate(45,0,473)\">Dec 4</text></g><g class=\"xtick\"><text text-anchor=\"start\" x=\"0\" y=\"479\" style=\"font-family: 'Open Sans', verdana, arial, sans-serif; font-size: 12px; fill: rgb(42, 63, 95); fill-opacity: 1; white-space: pre; opacity: 1;\" transform=\"translate(194.68,0) rotate(45,0,473)\">Dec 5</text></g><g class=\"xtick\"><text text-anchor=\"start\" x=\"0\" y=\"479\" style=\"font-family: 'Open Sans', verdana, arial, sans-serif; font-size: 12px; fill: rgb(42, 63, 95); fill-opacity: 1; white-space: pre; opacity: 1;\" transform=\"translate(220.16,0) rotate(45,0,473)\">Dec 6</text></g><g class=\"xtick\"><text text-anchor=\"start\" x=\"0\" y=\"479\" style=\"font-family: 'Open Sans', verdana, arial, sans-serif; font-size: 12px; fill: rgb(42, 63, 95); fill-opacity: 1; white-space: pre; opacity: 1;\" transform=\"translate(245.65,0) rotate(45,0,473)\">Dec 7</text></g><g class=\"xtick\"><text text-anchor=\"start\" x=\"0\" y=\"479\" style=\"font-family: 'Open Sans', verdana, arial, sans-serif; font-size: 12px; fill: rgb(42, 63, 95); fill-opacity: 1; white-space: pre; opacity: 1;\" transform=\"translate(271.13,0) rotate(45,0,473)\">Dec 8</text></g><g class=\"xtick\"><text text-anchor=\"start\" x=\"0\" y=\"479\" style=\"font-family: 'Open Sans', verdana, arial, sans-serif; font-size: 12px; fill: rgb(42, 63, 95); fill-opacity: 1; white-space: pre; opacity: 1;\" transform=\"translate(296.61,0) rotate(45,0,473)\">Dec 9</text></g><g class=\"xtick\"><text text-anchor=\"start\" x=\"0\" y=\"479\" style=\"font-family: 'Open Sans', verdana, arial, sans-serif; font-size: 12px; fill: rgb(42, 63, 95); fill-opacity: 1; white-space: pre; opacity: 1;\" transform=\"translate(322.1,0) rotate(45,0,473)\">Dec 10</text></g><g class=\"xtick\"><text text-anchor=\"start\" x=\"0\" y=\"479\" style=\"font-family: 'Open Sans', verdana, arial, sans-serif; font-size: 12px; fill: rgb(42, 63, 95); fill-opacity: 1; white-space: pre; opacity: 1;\" transform=\"translate(347.58,0) rotate(45,0,473)\">Dec 11</text></g><g class=\"xtick\"><text text-anchor=\"start\" x=\"0\" y=\"479\" style=\"font-family: 'Open Sans', verdana, arial, sans-serif; font-size: 12px; fill: rgb(42, 63, 95); fill-opacity: 1; white-space: pre; opacity: 1;\" transform=\"translate(373.06,0) rotate(45,0,473)\">Dec 12</text></g><g class=\"xtick\"><text text-anchor=\"start\" x=\"0\" y=\"479\" style=\"font-family: 'Open Sans', verdana, arial, sans-serif; font-size: 12px; fill: rgb(42, 63, 95); fill-opacity: 1; white-space: pre; opacity: 1;\" transform=\"translate(398.55,0) rotate(45,0,473)\">Dec 13</text></g><g class=\"xtick\"><text text-anchor=\"start\" x=\"0\" y=\"479\" style=\"font-family: 'Open Sans', verdana, arial, sans-serif; font-size: 12px; fill: rgb(42, 63, 95); fill-opacity: 1; white-space: pre; opacity: 1;\" transform=\"translate(424.03,0) rotate(45,0,473)\">Dec 14</text></g><g class=\"xtick\"><text text-anchor=\"start\" x=\"0\" y=\"479\" style=\"font-family: 'Open Sans', verdana, arial, sans-serif; font-size: 12px; fill: rgb(42, 63, 95); fill-opacity: 1; white-space: pre; opacity: 1;\" transform=\"translate(449.52,0) rotate(45,0,473)\">Dec 15</text></g><g class=\"xtick\"><text text-anchor=\"start\" x=\"0\" y=\"479\" style=\"font-family: 'Open Sans', verdana, arial, sans-serif; font-size: 12px; fill: rgb(42, 63, 95); fill-opacity: 1; white-space: pre; opacity: 1;\" transform=\"translate(475,0) rotate(45,0,473)\">Dec 16</text></g><g class=\"xtick\"><text text-anchor=\"start\" x=\"0\" y=\"479\" style=\"font-family: 'Open Sans', verdana, arial, sans-serif; font-size: 12px; fill: rgb(42, 63, 95); fill-opacity: 1; white-space: pre; opacity: 1;\" transform=\"translate(500.48,0) rotate(45,0,473)\">Dec 17</text></g><g class=\"xtick\"><text text-anchor=\"start\" x=\"0\" y=\"479\" style=\"font-family: 'Open Sans', verdana, arial, sans-serif; font-size: 12px; fill: rgb(42, 63, 95); fill-opacity: 1; white-space: pre; opacity: 1;\" transform=\"translate(525.97,0) rotate(45,0,473)\">Dec 18</text></g><g class=\"xtick\"><text text-anchor=\"start\" x=\"0\" y=\"479\" style=\"font-family: 'Open Sans', verdana, arial, sans-serif; font-size: 12px; fill: rgb(42, 63, 95); fill-opacity: 1; white-space: pre; opacity: 1;\" transform=\"translate(551.45,0) rotate(45,0,473)\">Dec 19</text></g><g class=\"xtick\"><text text-anchor=\"start\" x=\"0\" y=\"479\" style=\"font-family: 'Open Sans', verdana, arial, sans-serif; font-size: 12px; fill: rgb(42, 63, 95); fill-opacity: 1; white-space: pre; opacity: 1;\" transform=\"translate(576.94,0) rotate(45,0,473)\">Dec 20</text></g><g class=\"xtick\"><text text-anchor=\"start\" x=\"0\" y=\"479\" style=\"font-family: 'Open Sans', verdana, arial, sans-serif; font-size: 12px; fill: rgb(42, 63, 95); fill-opacity: 1; white-space: pre; opacity: 1;\" transform=\"translate(602.42,0) rotate(45,0,473)\">Dec 21</text></g><g class=\"xtick\"><text text-anchor=\"start\" x=\"0\" y=\"479\" style=\"font-family: 'Open Sans', verdana, arial, sans-serif; font-size: 12px; fill: rgb(42, 63, 95); fill-opacity: 1; white-space: pre; opacity: 1;\" transform=\"translate(627.9,0) rotate(45,0,473)\">Dec 22</text></g><g class=\"xtick\"><text text-anchor=\"start\" x=\"0\" y=\"479\" style=\"font-family: 'Open Sans', verdana, arial, sans-serif; font-size: 12px; fill: rgb(42, 63, 95); fill-opacity: 1; white-space: pre; opacity: 1;\" transform=\"translate(653.39,0) rotate(45,0,473)\">Dec 23</text></g><g class=\"xtick\"><text text-anchor=\"start\" x=\"0\" y=\"479\" style=\"font-family: 'Open Sans', verdana, arial, sans-serif; font-size: 12px; fill: rgb(42, 63, 95); fill-opacity: 1; white-space: pre; opacity: 1;\" transform=\"translate(678.87,0) rotate(45,0,473)\">Dec 24</text></g><g class=\"xtick\"><text text-anchor=\"start\" x=\"0\" y=\"479\" style=\"font-family: 'Open Sans', verdana, arial, sans-serif; font-size: 12px; fill: rgb(42, 63, 95); fill-opacity: 1; white-space: pre; opacity: 1;\" transform=\"translate(704.35,0) rotate(45,0,473)\">Dec 25</text></g><g class=\"xtick\"><text text-anchor=\"start\" x=\"0\" y=\"479\" style=\"font-family: 'Open Sans', verdana, arial, sans-serif; font-size: 12px; fill: rgb(42, 63, 95); fill-opacity: 1; white-space: pre; opacity: 1;\" transform=\"translate(729.84,0) rotate(45,0,473)\">Dec 26</text></g><g class=\"xtick\"><text text-anchor=\"start\" x=\"0\" y=\"479\" style=\"font-family: 'Open Sans', verdana, arial, sans-serif; font-size: 12px; fill: rgb(42, 63, 95); fill-opacity: 1; white-space: pre; opacity: 1;\" transform=\"translate(755.32,0) rotate(45,0,473)\">Dec 27</text></g><g class=\"xtick\"><text text-anchor=\"start\" x=\"0\" y=\"479\" style=\"font-family: 'Open Sans', verdana, arial, sans-serif; font-size: 12px; fill: rgb(42, 63, 95); fill-opacity: 1; white-space: pre; opacity: 1;\" transform=\"translate(780.81,0) rotate(45,0,473)\">Dec 28</text></g><g class=\"xtick\"><text text-anchor=\"start\" x=\"0\" y=\"479\" style=\"font-family: 'Open Sans', verdana, arial, sans-serif; font-size: 12px; fill: rgb(42, 63, 95); fill-opacity: 1; white-space: pre; opacity: 1;\" transform=\"translate(806.29,0) rotate(45,0,473)\">Dec 29</text></g><g class=\"xtick\"><text text-anchor=\"start\" x=\"0\" y=\"479\" style=\"font-family: 'Open Sans', verdana, arial, sans-serif; font-size: 12px; fill: rgb(42, 63, 95); fill-opacity: 1; white-space: pre; opacity: 1;\" transform=\"translate(831.77,0) rotate(45,0,473)\">Dec 30</text></g><g class=\"xtick\"><text text-anchor=\"start\" x=\"0\" y=\"479\" style=\"font-family: 'Open Sans', verdana, arial, sans-serif; font-size: 12px; fill: rgb(42, 63, 95); fill-opacity: 1; white-space: pre; opacity: 1;\" transform=\"translate(857.26,0) rotate(45,0,473)\">Dec 31</text></g></g><g class=\"yaxislayer-above\"><g class=\"ytick\"><text text-anchor=\"end\" x=\"79\" y=\"4.199999999999999\" transform=\"translate(0,466)\" style=\"font-family: 'Open Sans', verdana, arial, sans-serif; font-size: 12px; fill: rgb(42, 63, 95); fill-opacity: 1; white-space: pre; opacity: 1;\">0</text></g><g class=\"ytick\"><text text-anchor=\"end\" x=\"79\" y=\"4.199999999999999\" style=\"font-family: 'Open Sans', verdana, arial, sans-serif; font-size: 12px; fill: rgb(42, 63, 95); fill-opacity: 1; white-space: pre; opacity: 1;\" transform=\"translate(0,413.92)\">500</text></g><g class=\"ytick\"><text text-anchor=\"end\" x=\"79\" y=\"4.199999999999999\" style=\"font-family: 'Open Sans', verdana, arial, sans-serif; font-size: 12px; fill: rgb(42, 63, 95); fill-opacity: 1; white-space: pre; opacity: 1;\" transform=\"translate(0,361.84)\">1000</text></g><g class=\"ytick\"><text text-anchor=\"end\" x=\"79\" y=\"4.199999999999999\" style=\"font-family: 'Open Sans', verdana, arial, sans-serif; font-size: 12px; fill: rgb(42, 63, 95); fill-opacity: 1; white-space: pre; opacity: 1;\" transform=\"translate(0,309.76)\">1500</text></g><g class=\"ytick\"><text text-anchor=\"end\" x=\"79\" y=\"4.199999999999999\" style=\"font-family: 'Open Sans', verdana, arial, sans-serif; font-size: 12px; fill: rgb(42, 63, 95); fill-opacity: 1; white-space: pre; opacity: 1;\" transform=\"translate(0,257.68)\">2000</text></g><g class=\"ytick\"><text text-anchor=\"end\" x=\"79\" y=\"4.199999999999999\" style=\"font-family: 'Open Sans', verdana, arial, sans-serif; font-size: 12px; fill: rgb(42, 63, 95); fill-opacity: 1; white-space: pre; opacity: 1;\" transform=\"translate(0,205.6)\">2500</text></g><g class=\"ytick\"><text text-anchor=\"end\" x=\"79\" y=\"4.199999999999999\" style=\"font-family: 'Open Sans', verdana, arial, sans-serif; font-size: 12px; fill: rgb(42, 63, 95); fill-opacity: 1; white-space: pre; opacity: 1;\" transform=\"translate(0,153.51999999999998)\">3000</text></g><g class=\"ytick\"><text text-anchor=\"end\" x=\"79\" y=\"4.199999999999999\" style=\"font-family: 'Open Sans', verdana, arial, sans-serif; font-size: 12px; fill: rgb(42, 63, 95); fill-opacity: 1; white-space: pre; opacity: 1;\" transform=\"translate(0,101.44)\">3500</text></g></g><g class=\"overaxes-above\"/></g></g><g class=\"polarlayer\"/><g class=\"ternarylayer\"/><g class=\"geolayer\"/><g class=\"funnelarealayer\"/><g class=\"pielayer\"/><g class=\"iciclelayer\"/><g class=\"treemaplayer\"/><g class=\"sunburstlayer\"/><g class=\"glimages\"/><defs id=\"topdefs-65a978\"><g class=\"clips\"/></defs><g class=\"layer-above\"><g class=\"imagelayer\"/><g class=\"shapelayer\"/></g><g class=\"infolayer\"><g class=\"g-gtitle\"><text class=\"gtitle\" x=\"475\" y=\"30\" text-anchor=\"middle\" dy=\"0.7em\" style=\"font-family: 'Open Sans', verdana, arial, sans-serif; font-size: 17px; fill: rgb(42, 63, 95); opacity: 1; font-weight: normal; white-space: pre;\">Comments Created in Each Day of Dec 2018</text></g><g class=\"g-xtitle\"><text class=\"xtitle\" x=\"475\" y=\"537.596875\" text-anchor=\"middle\" style=\"font-family: 'Open Sans', verdana, arial, sans-serif; font-size: 14px; fill: rgb(42, 63, 95); opacity: 1; font-weight: normal; white-space: pre;\">Comments Creation Date</text></g><g class=\"g-ytitle\"><text class=\"ytitle\" transform=\"rotate(-90,26.746875000000003,263)\" x=\"26.746875000000003\" y=\"263\" text-anchor=\"middle\" style=\"font-family: 'Open Sans', verdana, arial, sans-serif; font-size: 14px; fill: rgb(42, 63, 95); opacity: 1; font-weight: normal; white-space: pre;\">n_comments</text></g></g></svg>"
      ]
     },
     "metadata": {},
     "output_type": "display_data"
    }
   ],
   "source": [
    "bar_dates(df_dec_18, \"Comments Created in Each Day of Dec 2018\", 2600)"
   ]
  },
  {
   "cell_type": "markdown",
   "id": "4346aaa3",
   "metadata": {},
   "source": [
    "<a id='2019'></a>\n",
    ">>### 2019 Peaks\n",
    "> <ul>\n",
    " <li><a href=\"#all\">All Years</a></li>\n",
    " <li><a href=\"#2018\">2018</a></li>\n",
    " <li><a href=\"#2019\"><b>2019</b></a></li>\n",
    " <li><a href=\"#2020\">2020</a></li>\n",
    " <li><a href=\"#2021\">2021</a></li>\n",
    " </ul>"
   ]
  },
  {
   "cell_type": "code",
   "execution_count": 63,
   "id": "0ced112c",
   "metadata": {},
   "outputs": [
    {
     "data": {
      "image/svg+xml": [
       "<svg class=\"main-svg\" xmlns=\"http://www.w3.org/2000/svg\" xmlns:xlink=\"http://www.w3.org/1999/xlink\" width=\"950\" height=\"550\" style=\"\" viewBox=\"0 0 950 550\"><rect x=\"0\" y=\"0\" width=\"950\" height=\"550\" style=\"fill: rgb(255, 255, 255); fill-opacity: 1;\"/><defs id=\"defs-e61e7b\"><g class=\"clips\"><clipPath id=\"clipe61e7bxyplot\" class=\"plotclip\"><rect width=\"790\" height=\"352\"/></clipPath><clipPath class=\"axesclip\" id=\"clipe61e7bx\"><rect x=\"80\" y=\"0\" width=\"790\" height=\"550\"/></clipPath><clipPath class=\"axesclip\" id=\"clipe61e7by\"><rect x=\"0\" y=\"100\" width=\"950\" height=\"352\"/></clipPath><clipPath class=\"axesclip\" id=\"clipe61e7bxy\"><rect x=\"80\" y=\"100\" width=\"790\" height=\"352\"/></clipPath></g><g class=\"gradients\"/><g class=\"patterns\"/></defs><g class=\"bglayer\"><rect class=\"bg\" x=\"80\" y=\"100\" width=\"790\" height=\"352\" style=\"fill: rgb(229, 236, 246); fill-opacity: 1; stroke-width: 0;\"/></g><g class=\"layer-below\"><g class=\"imagelayer\"/><g class=\"shapelayer\"/></g><g class=\"cartesianlayer\"><g class=\"subplot xy\"><g class=\"layer-subplot\"><g class=\"shapelayer\"/><g class=\"imagelayer\"/></g><g class=\"gridlayer\"><g class=\"x\"/><g class=\"y\"><path class=\"ygrid crisp\" transform=\"translate(0,411.1)\" d=\"M80,0h790\" style=\"stroke: rgb(255, 255, 255); stroke-opacity: 1; stroke-width: 1px;\"/><path class=\"ygrid crisp\" transform=\"translate(0,370.2)\" d=\"M80,0h790\" style=\"stroke: rgb(255, 255, 255); stroke-opacity: 1; stroke-width: 1px;\"/><path class=\"ygrid crisp\" transform=\"translate(0,329.3)\" d=\"M80,0h790\" style=\"stroke: rgb(255, 255, 255); stroke-opacity: 1; stroke-width: 1px;\"/><path class=\"ygrid crisp\" transform=\"translate(0,288.4)\" d=\"M80,0h790\" style=\"stroke: rgb(255, 255, 255); stroke-opacity: 1; stroke-width: 1px;\"/><path class=\"ygrid crisp\" transform=\"translate(0,247.5)\" d=\"M80,0h790\" style=\"stroke: rgb(255, 255, 255); stroke-opacity: 1; stroke-width: 1px;\"/><path class=\"ygrid crisp\" transform=\"translate(0,206.6)\" d=\"M80,0h790\" style=\"stroke: rgb(255, 255, 255); stroke-opacity: 1; stroke-width: 1px;\"/><path class=\"ygrid crisp\" transform=\"translate(0,165.7)\" d=\"M80,0h790\" style=\"stroke: rgb(255, 255, 255); stroke-opacity: 1; stroke-width: 1px;\"/><path class=\"ygrid crisp\" transform=\"translate(0,124.8)\" d=\"M80,0h790\" style=\"stroke: rgb(255, 255, 255); stroke-opacity: 1; stroke-width: 1px;\"/></g></g><g class=\"zerolinelayer\"><path class=\"yzl zl crisp\" transform=\"translate(0,452)\" d=\"M80,0h790\" style=\"stroke: rgb(255, 255, 255); stroke-opacity: 1; stroke-width: 2px;\"/></g><path class=\"xlines-below\"/><path class=\"ylines-below\"/><g class=\"overlines-below\"/><g class=\"xaxislayer-below\"/><g class=\"yaxislayer-below\"/><g class=\"overaxes-below\"/><g class=\"plot\" transform=\"translate(80,100)\" clip-path=\"url(#clipe61e7bxyplot)\"><g class=\"barlayer mlayer\"><g class=\"trace bars\" style=\"opacity: 1;\"><g class=\"points\"><g class=\"point\"><path d=\"M244.9,352V17.6H308.1V352Z\" style=\"vector-effect: non-scaling-stroke; opacity: 1; stroke-width: 0.5px; fill: rgb(255, 0, 0); fill-opacity: 1; stroke: rgb(229, 236, 246); stroke-opacity: 1;\"/><text class=\"bartext bartext-inside\" text-anchor=\"middle\" data-notex=\"1\" x=\"0\" y=\"0\" style=\"font-family: 'Open Sans', verdana, arial, sans-serif; font-size: 12px; fill: rgb(255, 255, 255); fill-opacity: 1; white-space: pre;\" transform=\"translate(276.5,33.6)\">4088</text></g><g class=\"point\"><path d=\"M323.9,352V85.17H387.1V352Z\" style=\"vector-effect: non-scaling-stroke; opacity: 1; stroke-width: 0.5px; fill: rgb(255, 0, 0); fill-opacity: 1; stroke: rgb(229, 236, 246); stroke-opacity: 1;\"/><text class=\"bartext bartext-inside\" text-anchor=\"middle\" data-notex=\"1\" x=\"0\" y=\"0\" style=\"font-family: 'Open Sans', verdana, arial, sans-serif; font-size: 12px; fill: rgb(255, 255, 255); fill-opacity: 1; white-space: pre;\" transform=\"translate(355.5,101.17)\">3262</text></g><g class=\"point\"><path d=\"M718.9,352V89.34H782.1V352Z\" style=\"vector-effect: non-scaling-stroke; opacity: 1; stroke-width: 0.5px; fill: rgb(255, 0, 0); fill-opacity: 1; stroke: rgb(229, 236, 246); stroke-opacity: 1;\"/><text class=\"bartext bartext-inside\" text-anchor=\"middle\" data-notex=\"1\" x=\"0\" y=\"0\" style=\"font-family: 'Open Sans', verdana, arial, sans-serif; font-size: 12px; fill: rgb(255, 255, 255); fill-opacity: 1; white-space: pre;\" transform=\"translate(750.5,105.34)\">3211</text></g><g class=\"point\"><path d=\"M165.9,352V92.45H229.1V352Z\" style=\"vector-effect: non-scaling-stroke; opacity: 1; stroke-width: 0.5px; fill: rgb(255, 0, 0); fill-opacity: 1; stroke: rgb(229, 236, 246); stroke-opacity: 1;\"/><text class=\"bartext bartext-inside\" text-anchor=\"middle\" data-notex=\"1\" x=\"0\" y=\"0\" style=\"font-family: 'Open Sans', verdana, arial, sans-serif; font-size: 12px; fill: rgb(255, 255, 255); fill-opacity: 1; white-space: pre;\" transform=\"translate(197.5,108.45)\">3173</text></g><g class=\"point\"><path d=\"M86.9,352V93.76H150.1V352Z\" style=\"vector-effect: non-scaling-stroke; opacity: 1; stroke-width: 0.5px; fill: rgb(255, 0, 0); fill-opacity: 1; stroke: rgb(229, 236, 246); stroke-opacity: 1;\"/><text class=\"bartext bartext-inside\" text-anchor=\"middle\" data-notex=\"1\" x=\"0\" y=\"0\" style=\"font-family: 'Open Sans', verdana, arial, sans-serif; font-size: 12px; fill: rgb(255, 255, 255); fill-opacity: 1; white-space: pre;\" transform=\"translate(118.5,109.76)\">3157</text></g><g class=\"point\"><path d=\"M7.9,352V94.66H71.1V352Z\" style=\"vector-effect: non-scaling-stroke; opacity: 1; stroke-width: 0.5px; fill: rgb(255, 0, 0); fill-opacity: 1; stroke: rgb(229, 236, 246); stroke-opacity: 1;\"/><text class=\"bartext bartext-inside\" text-anchor=\"middle\" data-notex=\"1\" x=\"0\" y=\"0\" style=\"font-family: 'Open Sans', verdana, arial, sans-serif; font-size: 12px; fill: rgb(255, 255, 255); fill-opacity: 1; white-space: pre;\" transform=\"translate(39.5,110.66)\">3146</text></g></g></g></g></g><g class=\"overplot\"/><path class=\"xlines-above crisp\" d=\"M0,0\" style=\"fill: none;\"/><path class=\"ylines-above crisp\" d=\"M0,0\" style=\"fill: none;\"/><g class=\"overlines-above\"/><g class=\"xaxislayer-above\"><g class=\"xtick\"><text text-anchor=\"start\" x=\"0\" y=\"465\" transform=\"translate(356.5,0) rotate(45,0,459)\" style=\"font-family: 'Open Sans', verdana, arial, sans-serif; font-size: 12px; fill: rgb(42, 63, 95); fill-opacity: 1; white-space: pre; opacity: 1;\">Jan 7, 2019</text></g><g class=\"xtick\"><text text-anchor=\"start\" x=\"0\" y=\"465\" style=\"font-family: 'Open Sans', verdana, arial, sans-serif; font-size: 12px; fill: rgb(42, 63, 95); fill-opacity: 1; white-space: pre; opacity: 1;\" transform=\"translate(435.5,0) rotate(45,0,459)\">Jan 8, 2019</text></g><g class=\"xtick\"><text text-anchor=\"start\" x=\"0\" y=\"465\" style=\"font-family: 'Open Sans', verdana, arial, sans-serif; font-size: 12px; fill: rgb(42, 63, 95); fill-opacity: 1; white-space: pre; opacity: 1;\" transform=\"translate(830.5,0) rotate(45,0,459)\">Jan 13, 2019</text></g><g class=\"xtick\"><text text-anchor=\"start\" x=\"0\" y=\"465\" style=\"font-family: 'Open Sans', verdana, arial, sans-serif; font-size: 12px; fill: rgb(42, 63, 95); fill-opacity: 1; white-space: pre; opacity: 1;\" transform=\"translate(277.5,0) rotate(45,0,459)\">Jan 6, 2019</text></g><g class=\"xtick\"><text text-anchor=\"start\" x=\"0\" y=\"465\" style=\"font-family: 'Open Sans', verdana, arial, sans-serif; font-size: 12px; fill: rgb(42, 63, 95); fill-opacity: 1; white-space: pre; opacity: 1;\" transform=\"translate(198.5,0) rotate(45,0,459)\">Jan 5, 2019</text></g><g class=\"xtick\"><text text-anchor=\"start\" x=\"0\" y=\"465\" style=\"font-family: 'Open Sans', verdana, arial, sans-serif; font-size: 12px; fill: rgb(42, 63, 95); fill-opacity: 1; white-space: pre; opacity: 1;\" transform=\"translate(119.5,0) rotate(45,0,459)\">Jan 4, 2019</text></g></g><g class=\"yaxislayer-above\"><g class=\"ytick\"><text text-anchor=\"end\" x=\"79\" y=\"4.199999999999999\" transform=\"translate(0,452)\" style=\"font-family: 'Open Sans', verdana, arial, sans-serif; font-size: 12px; fill: rgb(42, 63, 95); fill-opacity: 1; white-space: pre; opacity: 1;\">0</text></g><g class=\"ytick\"><text text-anchor=\"end\" x=\"79\" y=\"4.199999999999999\" style=\"font-family: 'Open Sans', verdana, arial, sans-serif; font-size: 12px; fill: rgb(42, 63, 95); fill-opacity: 1; white-space: pre; opacity: 1;\" transform=\"translate(0,411.1)\">500</text></g><g class=\"ytick\"><text text-anchor=\"end\" x=\"79\" y=\"4.199999999999999\" style=\"font-family: 'Open Sans', verdana, arial, sans-serif; font-size: 12px; fill: rgb(42, 63, 95); fill-opacity: 1; white-space: pre; opacity: 1;\" transform=\"translate(0,370.2)\">1000</text></g><g class=\"ytick\"><text text-anchor=\"end\" x=\"79\" y=\"4.199999999999999\" style=\"font-family: 'Open Sans', verdana, arial, sans-serif; font-size: 12px; fill: rgb(42, 63, 95); fill-opacity: 1; white-space: pre; opacity: 1;\" transform=\"translate(0,329.3)\">1500</text></g><g class=\"ytick\"><text text-anchor=\"end\" x=\"79\" y=\"4.199999999999999\" style=\"font-family: 'Open Sans', verdana, arial, sans-serif; font-size: 12px; fill: rgb(42, 63, 95); fill-opacity: 1; white-space: pre; opacity: 1;\" transform=\"translate(0,288.4)\">2000</text></g><g class=\"ytick\"><text text-anchor=\"end\" x=\"79\" y=\"4.199999999999999\" style=\"font-family: 'Open Sans', verdana, arial, sans-serif; font-size: 12px; fill: rgb(42, 63, 95); fill-opacity: 1; white-space: pre; opacity: 1;\" transform=\"translate(0,247.5)\">2500</text></g><g class=\"ytick\"><text text-anchor=\"end\" x=\"79\" y=\"4.199999999999999\" style=\"font-family: 'Open Sans', verdana, arial, sans-serif; font-size: 12px; fill: rgb(42, 63, 95); fill-opacity: 1; white-space: pre; opacity: 1;\" transform=\"translate(0,206.6)\">3000</text></g><g class=\"ytick\"><text text-anchor=\"end\" x=\"79\" y=\"4.199999999999999\" style=\"font-family: 'Open Sans', verdana, arial, sans-serif; font-size: 12px; fill: rgb(42, 63, 95); fill-opacity: 1; white-space: pre; opacity: 1;\" transform=\"translate(0,165.7)\">3500</text></g><g class=\"ytick\"><text text-anchor=\"end\" x=\"79\" y=\"4.199999999999999\" style=\"font-family: 'Open Sans', verdana, arial, sans-serif; font-size: 12px; fill: rgb(42, 63, 95); fill-opacity: 1; white-space: pre; opacity: 1;\" transform=\"translate(0,124.8)\">4000</text></g></g><g class=\"overaxes-above\"/></g></g><g class=\"polarlayer\"/><g class=\"ternarylayer\"/><g class=\"geolayer\"/><g class=\"funnelarealayer\"/><g class=\"pielayer\"/><g class=\"iciclelayer\"/><g class=\"treemaplayer\"/><g class=\"sunburstlayer\"/><g class=\"glimages\"/><defs id=\"topdefs-e61e7b\"><g class=\"clips\"/></defs><g class=\"layer-above\"><g class=\"imagelayer\"/><g class=\"shapelayer\"/></g><g class=\"infolayer\"><g class=\"g-gtitle\"><text class=\"gtitle\" x=\"47.5\" y=\"50\" text-anchor=\"start\" dy=\"0em\" style=\"font-family: 'Open Sans', verdana, arial, sans-serif; font-size: 17px; fill: rgb(42, 63, 95); opacity: 1; font-weight: normal; white-space: pre;\">Dates with the Highest Number of Comments in 2019</text></g><g class=\"g-xtitle\"><text class=\"xtitle\" x=\"475\" y=\"538.313671875\" text-anchor=\"middle\" style=\"font-family: 'Open Sans', verdana, arial, sans-serif; font-size: 14px; fill: rgb(42, 63, 95); opacity: 1; font-weight: normal; white-space: pre;\">Comments Creation Date</text></g><g class=\"g-ytitle\"><text class=\"ytitle\" transform=\"rotate(-90,26.746875000000003,276)\" x=\"26.746875000000003\" y=\"276\" text-anchor=\"middle\" style=\"font-family: 'Open Sans', verdana, arial, sans-serif; font-size: 14px; fill: rgb(42, 63, 95); opacity: 1; font-weight: normal; white-space: pre;\">n_comments</text></g></g></svg>"
      ]
     },
     "metadata": {},
     "output_type": "display_data"
    }
   ],
   "source": [
    "bar_peaks(df_peaks_19.head(6), \"Dates with the Highest Number of Comments in 2019\")"
   ]
  },
  {
   "cell_type": "code",
   "execution_count": 64,
   "id": "c8acd558",
   "metadata": {},
   "outputs": [
    {
     "data": {
      "image/svg+xml": [
       "<svg class=\"main-svg\" xmlns=\"http://www.w3.org/2000/svg\" xmlns:xlink=\"http://www.w3.org/1999/xlink\" width=\"950\" height=\"550\" style=\"\" viewBox=\"0 0 950 550\"><rect x=\"0\" y=\"0\" width=\"950\" height=\"550\" style=\"fill: rgb(255, 255, 255); fill-opacity: 1;\"/><defs id=\"defs-0d71c4\"><g class=\"clips\"><clipPath id=\"clip0d71c4xyplot\" class=\"plotclip\"><rect width=\"790\" height=\"410\"/></clipPath><clipPath class=\"axesclip\" id=\"clip0d71c4x\"><rect x=\"80\" y=\"0\" width=\"790\" height=\"550\"/></clipPath><clipPath class=\"axesclip\" id=\"clip0d71c4y\"><rect x=\"0\" y=\"60\" width=\"950\" height=\"410\"/></clipPath><clipPath class=\"axesclip\" id=\"clip0d71c4xy\"><rect x=\"80\" y=\"60\" width=\"790\" height=\"410\"/></clipPath></g><g class=\"gradients\"/><g class=\"patterns\"/></defs><g class=\"bglayer\"><rect class=\"bg\" x=\"80\" y=\"60\" width=\"790\" height=\"410\" style=\"fill: rgb(229, 236, 246); fill-opacity: 1; stroke-width: 0;\"/></g><g class=\"layer-below\"><g class=\"imagelayer\"/><g class=\"shapelayer\"/></g><g class=\"cartesianlayer\"><g class=\"subplot xy\"><g class=\"layer-subplot\"><g class=\"shapelayer\"/><g class=\"imagelayer\"/></g><g class=\"gridlayer\"><g class=\"x\"/><g class=\"y\"><path class=\"ygrid crisp\" transform=\"translate(0,422.36)\" d=\"M80,0h790\" style=\"stroke: rgb(255, 255, 255); stroke-opacity: 1; stroke-width: 1px;\"/><path class=\"ygrid crisp\" transform=\"translate(0,374.72)\" d=\"M80,0h790\" style=\"stroke: rgb(255, 255, 255); stroke-opacity: 1; stroke-width: 1px;\"/><path class=\"ygrid crisp\" transform=\"translate(0,327.08)\" d=\"M80,0h790\" style=\"stroke: rgb(255, 255, 255); stroke-opacity: 1; stroke-width: 1px;\"/><path class=\"ygrid crisp\" transform=\"translate(0,279.44)\" d=\"M80,0h790\" style=\"stroke: rgb(255, 255, 255); stroke-opacity: 1; stroke-width: 1px;\"/><path class=\"ygrid crisp\" transform=\"translate(0,231.8)\" d=\"M80,0h790\" style=\"stroke: rgb(255, 255, 255); stroke-opacity: 1; stroke-width: 1px;\"/><path class=\"ygrid crisp\" transform=\"translate(0,184.16)\" d=\"M80,0h790\" style=\"stroke: rgb(255, 255, 255); stroke-opacity: 1; stroke-width: 1px;\"/><path class=\"ygrid crisp\" transform=\"translate(0,136.51999999999998)\" d=\"M80,0h790\" style=\"stroke: rgb(255, 255, 255); stroke-opacity: 1; stroke-width: 1px;\"/><path class=\"ygrid crisp\" transform=\"translate(0,88.88)\" d=\"M80,0h790\" style=\"stroke: rgb(255, 255, 255); stroke-opacity: 1; stroke-width: 1px;\"/></g></g><g class=\"zerolinelayer\"><path class=\"yzl zl crisp\" transform=\"translate(0,470)\" d=\"M80,0h790\" style=\"stroke: rgb(255, 255, 255); stroke-opacity: 1; stroke-width: 2px;\"/></g><path class=\"xlines-below\"/><path class=\"ylines-below\"/><g class=\"overlines-below\"/><g class=\"xaxislayer-below\"/><g class=\"yaxislayer-below\"/><g class=\"overaxes-below\"/><g class=\"plot\" transform=\"translate(80,60)\" clip-path=\"url(#clip0d71c4xyplot)\"><g class=\"barlayer mlayer\"><g class=\"trace bars\" style=\"opacity: 1;\"><g class=\"points\"><g class=\"point\"><path d=\"M155.45,410V20.5H175.84V410Z\" style=\"vector-effect: non-scaling-stroke; opacity: 1; stroke-width: 1.5px; fill: rgb(255, 0, 0); fill-opacity: 1; stroke: rgb(229, 236, 246); stroke-opacity: 1;\"/><text class=\"bartext bartext-inside\" text-anchor=\"middle\" data-notex=\"1\" x=\"0\" y=\"0\" style=\"font-family: 'Open Sans', verdana, arial, sans-serif; font-size: 12px; fill: rgb(255, 255, 255); fill-opacity: 1; white-space: pre;\" transform=\"translate(165.64499999999998,39.62061553030304)scale(0.872121212121213)rotate(90 0 -4.75)\">4088</text></g><g class=\"point\"><path d=\"M180.94,410V99.2H201.32V410Z\" style=\"vector-effect: non-scaling-stroke; opacity: 1; stroke-width: 1.5px; fill: rgb(255, 0, 0); fill-opacity: 1; stroke: rgb(229, 236, 246); stroke-opacity: 1;\"/><text class=\"bartext bartext-inside\" text-anchor=\"middle\" data-notex=\"1\" x=\"0\" y=\"0\" style=\"font-family: 'Open Sans', verdana, arial, sans-serif; font-size: 12px; fill: rgb(255, 255, 255); fill-opacity: 1; white-space: pre;\" transform=\"translate(191.13,118.30941287878788)scale(0.8715151515151512)rotate(90 0 -4.75)\">3262</text></g><g class=\"point\"><path d=\"M308.35,410V104.06H328.74V410Z\" style=\"vector-effect: non-scaling-stroke; opacity: 1; stroke-width: 1.5px; fill: rgb(255, 0, 0); fill-opacity: 1; stroke: rgb(229, 236, 246); stroke-opacity: 1;\"/><text class=\"bartext bartext-inside\" text-anchor=\"middle\" data-notex=\"1\" x=\"0\" y=\"0\" style=\"font-family: 'Open Sans', verdana, arial, sans-serif; font-size: 12px; fill: rgb(255, 255, 255); fill-opacity: 1; white-space: pre;\" transform=\"translate(318.545,123.18061553030302)scale(0.8721212121212113)rotate(90 0 -4.75)\">3211</text></g><g class=\"point\"><path d=\"M129.97,410V107.68H150.35V410Z\" style=\"vector-effect: non-scaling-stroke; opacity: 1; stroke-width: 1.5px; fill: rgb(255, 0, 0); fill-opacity: 1; stroke: rgb(229, 236, 246); stroke-opacity: 1;\"/><text class=\"bartext bartext-inside\" text-anchor=\"middle\" data-notex=\"1\" x=\"0\" y=\"0\" style=\"font-family: 'Open Sans', verdana, arial, sans-serif; font-size: 12px; fill: rgb(255, 255, 255); fill-opacity: 1; white-space: pre;\" transform=\"translate(140.16,126.78941287878789)scale(0.8715151515151512)rotate(90 0 -4.75)\">3173</text></g><g class=\"point\"><path d=\"M104.48,410V109.2H124.87V410Z\" style=\"vector-effect: non-scaling-stroke; opacity: 1; stroke-width: 1.5px; fill: rgb(255, 0, 0); fill-opacity: 1; stroke: rgb(229, 236, 246); stroke-opacity: 1;\"/><text class=\"bartext bartext-inside\" text-anchor=\"middle\" data-notex=\"1\" x=\"0\" y=\"0\" style=\"font-family: 'Open Sans', verdana, arial, sans-serif; font-size: 12px; fill: rgb(255, 255, 255); fill-opacity: 1; white-space: pre;\" transform=\"translate(114.67500000000001,128.32061553030303)scale(0.8721212121212122)rotate(90 0 -4.75)\">3157</text></g><g class=\"point\"><path d=\"M79,410V110.25H99.39V410Z\" style=\"vector-effect: non-scaling-stroke; opacity: 1; stroke-width: 1.5px; fill: rgb(255, 0, 0); fill-opacity: 1; stroke: rgb(229, 236, 246); stroke-opacity: 1;\"/><text class=\"bartext bartext-inside\" text-anchor=\"middle\" data-notex=\"1\" x=\"0\" y=\"0\" style=\"font-family: 'Open Sans', verdana, arial, sans-serif; font-size: 12px; fill: rgb(255, 255, 255); fill-opacity: 1; white-space: pre;\" transform=\"translate(89.195,129.37061553030304)scale(0.8721212121212122)rotate(90 0 -4.75)\">3146</text></g><g class=\"point\"><path d=\"M333.84,410V128.26H354.23V410Z\" style=\"vector-effect: non-scaling-stroke; opacity: 1; stroke-width: 1.5px; fill: rgb(255, 0, 0); fill-opacity: 1; stroke: rgb(229, 236, 246); stroke-opacity: 1;\"/><text class=\"bartext bartext-inside\" text-anchor=\"middle\" data-notex=\"1\" x=\"0\" y=\"0\" style=\"font-family: 'Open Sans', verdana, arial, sans-serif; font-size: 12px; fill: rgb(255, 255, 255); fill-opacity: 1; white-space: pre;\" transform=\"translate(344.03499999999997,147.38061553030306)scale(0.8721212121212147)rotate(90 0 -4.75)\">2957</text></g><g class=\"point\"><path d=\"M2.55,410V157.61H22.94V410Z\" style=\"vector-effect: non-scaling-stroke; opacity: 1; stroke-width: 1.5px; fill: rgb(255, 0, 0); fill-opacity: 1; stroke: rgb(229, 236, 246); stroke-opacity: 1;\"/><text class=\"bartext bartext-inside\" text-anchor=\"middle\" data-notex=\"1\" x=\"0\" y=\"0\" style=\"font-family: 'Open Sans', verdana, arial, sans-serif; font-size: 12px; fill: rgb(255, 255, 255); fill-opacity: 1; white-space: pre;\" transform=\"translate(12.745000000000001,176.73061553030306)scale(0.8721212121212122)rotate(90 0 -4.75)\">2649</text></g><g class=\"point\"><path d=\"M206.42,410V157.7H226.81V410Z\" style=\"vector-effect: non-scaling-stroke; opacity: 1; stroke-width: 1.5px; fill: rgb(255, 0, 0); fill-opacity: 1; stroke: rgb(229, 236, 246); stroke-opacity: 1;\"/><text class=\"bartext bartext-inside\" text-anchor=\"middle\" data-notex=\"1\" x=\"0\" y=\"0\" style=\"font-family: 'Open Sans', verdana, arial, sans-serif; font-size: 12px; fill: rgb(255, 255, 255); fill-opacity: 1; white-space: pre;\" transform=\"translate(216.615,176.82061553030303)scale(0.872121212121213)rotate(90 0 -4.75)\">2648</text></g><g class=\"point\"><path d=\"M53.52,410V181.62H73.9V410Z\" style=\"vector-effect: non-scaling-stroke; opacity: 1; stroke-width: 1.5px; fill: rgb(82, 150, 221); fill-opacity: 1; stroke: rgb(229, 236, 246); stroke-opacity: 1;\"/><text class=\"bartext bartext-inside\" text-anchor=\"middle\" data-notex=\"1\" x=\"0\" y=\"0\" style=\"font-family: 'Open Sans', verdana, arial, sans-serif; font-size: 12px; fill: rgb(68, 68, 68); fill-opacity: 1; white-space: pre;\" transform=\"translate(63.71000000000001,200.72941287878788)scale(0.8715151515151517)rotate(90 0 -4.75)\">2397</text></g><g class=\"point\"><path d=\"M231.9,410V193.81H252.29V410Z\" style=\"vector-effect: non-scaling-stroke; opacity: 1; stroke-width: 1.5px; fill: rgb(82, 150, 221); fill-opacity: 1; stroke: rgb(229, 236, 246); stroke-opacity: 1;\"/><text class=\"bartext bartext-inside\" text-anchor=\"middle\" data-notex=\"1\" x=\"0\" y=\"0\" style=\"font-family: 'Open Sans', verdana, arial, sans-serif; font-size: 12px; fill: rgb(68, 68, 68); fill-opacity: 1; white-space: pre;\" transform=\"translate(242.095,212.93061553030302)scale(0.8721212121212113)rotate(90 0 -4.75)\">2269</text></g><g class=\"point\"><path d=\"M257.39,410V205.82H277.77V410Z\" style=\"vector-effect: non-scaling-stroke; opacity: 1; stroke-width: 1.5px; fill: rgb(82, 150, 221); fill-opacity: 1; stroke: rgb(229, 236, 246); stroke-opacity: 1;\"/><text class=\"bartext bartext-inside\" text-anchor=\"middle\" data-notex=\"1\" x=\"0\" y=\"0\" style=\"font-family: 'Open Sans', verdana, arial, sans-serif; font-size: 12px; fill: rgb(68, 68, 68); fill-opacity: 1; white-space: pre;\" transform=\"translate(267.58,224.92941287878787)scale(0.8715151515151512)rotate(90 0 -4.75)\">2143</text></g><g class=\"point\"><path d=\"M28.03,410V209.44H48.42V410Z\" style=\"vector-effect: non-scaling-stroke; opacity: 1; stroke-width: 1.5px; fill: rgb(82, 150, 221); fill-opacity: 1; stroke: rgb(229, 236, 246); stroke-opacity: 1;\"/><text class=\"bartext bartext-inside\" text-anchor=\"middle\" data-notex=\"1\" x=\"0\" y=\"0\" style=\"font-family: 'Open Sans', verdana, arial, sans-serif; font-size: 12px; fill: rgb(68, 68, 68); fill-opacity: 1; white-space: pre;\" transform=\"translate(38.225,228.56061553030304)scale(0.8721212121212122)rotate(90 0 -4.75)\">2105</text></g><g class=\"point\"><path d=\"M359.32,410V219.63H379.71V410Z\" style=\"vector-effect: non-scaling-stroke; opacity: 1; stroke-width: 1.5px; fill: rgb(82, 150, 221); fill-opacity: 1; stroke: rgb(229, 236, 246); stroke-opacity: 1;\"/><text class=\"bartext bartext-inside\" text-anchor=\"middle\" data-notex=\"1\" x=\"0\" y=\"0\" style=\"font-family: 'Open Sans', verdana, arial, sans-serif; font-size: 12px; fill: rgb(68, 68, 68); fill-opacity: 1; white-space: pre;\" transform=\"translate(369.515,238.750615530303)scale(0.8721212121212113)rotate(90 0 -4.75)\">1998</text></g><g class=\"point\"><path d=\"M767.06,410V225.44H787.45V410Z\" style=\"vector-effect: non-scaling-stroke; opacity: 1; stroke-width: 1.5px; fill: rgb(82, 150, 221); fill-opacity: 1; stroke: rgb(229, 236, 246); stroke-opacity: 1;\"/><text class=\"bartext bartext-inside\" text-anchor=\"middle\" data-notex=\"1\" x=\"0\" y=\"0\" style=\"font-family: 'Open Sans', verdana, arial, sans-serif; font-size: 12px; fill: rgb(68, 68, 68); fill-opacity: 1; white-space: pre;\" transform=\"translate(777.255,244.56061553030315)scale(0.8721212121212182)rotate(90 0 -4.75)\">1937</text></g><g class=\"point\"><path d=\"M563.19,410V225.83H583.58V410Z\" style=\"vector-effect: non-scaling-stroke; opacity: 1; stroke-width: 1.5px; fill: rgb(82, 150, 221); fill-opacity: 1; stroke: rgb(229, 236, 246); stroke-opacity: 1;\"/><text class=\"bartext bartext-inside\" text-anchor=\"middle\" data-notex=\"1\" x=\"0\" y=\"0\" style=\"font-family: 'Open Sans', verdana, arial, sans-serif; font-size: 12px; fill: rgb(68, 68, 68); fill-opacity: 1; white-space: pre;\" transform=\"translate(573.385,244.95061553030303)scale(0.8721212121212113)rotate(90 0 -4.75)\">1933</text></g><g class=\"point\"><path d=\"M690.61,410V228.3H711V410Z\" style=\"vector-effect: non-scaling-stroke; opacity: 1; stroke-width: 1.5px; fill: rgb(82, 150, 221); fill-opacity: 1; stroke: rgb(229, 236, 246); stroke-opacity: 1;\"/><text class=\"bartext bartext-inside\" text-anchor=\"middle\" data-notex=\"1\" x=\"0\" y=\"0\" style=\"font-family: 'Open Sans', verdana, arial, sans-serif; font-size: 12px; fill: rgb(68, 68, 68); fill-opacity: 1; white-space: pre;\" transform=\"translate(700.8050000000001,247.42061553030302)scale(0.8721212121212113)rotate(90 0 -4.75)\">1907</text></g><g class=\"point\"><path d=\"M282.87,410V240.31H303.26V410Z\" style=\"vector-effect: non-scaling-stroke; opacity: 1; stroke-width: 1.5px; fill: rgb(82, 150, 221); fill-opacity: 1; stroke: rgb(229, 236, 246); stroke-opacity: 1;\"/><text class=\"bartext bartext-inside\" text-anchor=\"middle\" data-notex=\"1\" x=\"0\" y=\"0\" style=\"font-family: 'Open Sans', verdana, arial, sans-serif; font-size: 12px; fill: rgb(68, 68, 68); fill-opacity: 1; white-space: pre;\" transform=\"translate(293.065,259.43061553030304)scale(0.8721212121212113)rotate(90 0 -4.75)\">1781</text></g><g class=\"point\"><path d=\"M614.16,410V244.21H634.55V410Z\" style=\"vector-effect: non-scaling-stroke; opacity: 1; stroke-width: 1.5px; fill: rgb(82, 150, 221); fill-opacity: 1; stroke: rgb(229, 236, 246); stroke-opacity: 1;\"/><text class=\"bartext bartext-inside\" text-anchor=\"middle\" data-notex=\"1\" x=\"0\" y=\"0\" style=\"font-family: 'Open Sans', verdana, arial, sans-serif; font-size: 12px; fill: rgb(68, 68, 68); fill-opacity: 1; white-space: pre;\" transform=\"translate(624.355,263.330615530303)scale(0.8721212121212113)rotate(90 0 -4.75)\">1740</text></g><g class=\"point\"><path d=\"M384.81,410V256.32H405.19V410Z\" style=\"vector-effect: non-scaling-stroke; opacity: 1; stroke-width: 1.5px; fill: rgb(82, 150, 221); fill-opacity: 1; stroke: rgb(229, 236, 246); stroke-opacity: 1;\"/><text class=\"bartext bartext-inside\" text-anchor=\"middle\" data-notex=\"1\" x=\"0\" y=\"0\" style=\"font-family: 'Open Sans', verdana, arial, sans-serif; font-size: 12px; fill: rgb(68, 68, 68); fill-opacity: 1; white-space: pre;\" transform=\"translate(395,275.42941287878784)scale(0.8715151515151512)rotate(90 0 -4.75)\">1613</text></g><g class=\"point\"><path d=\"M639.65,410V256.32H660.03V410Z\" style=\"vector-effect: non-scaling-stroke; opacity: 1; stroke-width: 1.5px; fill: rgb(82, 150, 221); fill-opacity: 1; stroke: rgb(229, 236, 246); stroke-opacity: 1;\"/><text class=\"bartext bartext-inside\" text-anchor=\"middle\" data-notex=\"1\" x=\"0\" y=\"0\" style=\"font-family: 'Open Sans', verdana, arial, sans-serif; font-size: 12px; fill: rgb(68, 68, 68); fill-opacity: 1; white-space: pre;\" transform=\"translate(649.8399999999999,275.42941287878784)scale(0.8715151515151512)rotate(90 0 -4.75)\">1613</text></g><g class=\"point\"><path d=\"M665.13,410V256.89H685.52V410Z\" style=\"vector-effect: non-scaling-stroke; opacity: 1; stroke-width: 1.5px; fill: rgb(82, 150, 221); fill-opacity: 1; stroke: rgb(229, 236, 246); stroke-opacity: 1;\"/><text class=\"bartext bartext-inside\" text-anchor=\"middle\" data-notex=\"1\" x=\"0\" y=\"0\" style=\"font-family: 'Open Sans', verdana, arial, sans-serif; font-size: 12px; fill: rgb(68, 68, 68); fill-opacity: 1; white-space: pre;\" transform=\"translate(675.325,276.010615530303)scale(0.8721212121212113)rotate(90 0 -4.75)\">1607</text></g><g class=\"point\"><path d=\"M716.1,410V260.89H736.48V410Z\" style=\"vector-effect: non-scaling-stroke; opacity: 1; stroke-width: 1.5px; fill: rgb(82, 150, 221); fill-opacity: 1; stroke: rgb(229, 236, 246); stroke-opacity: 1;\"/><text class=\"bartext bartext-inside\" text-anchor=\"middle\" data-notex=\"1\" x=\"0\" y=\"0\" style=\"font-family: 'Open Sans', verdana, arial, sans-serif; font-size: 12px; fill: rgb(68, 68, 68); fill-opacity: 1; white-space: pre;\" transform=\"translate(726.29,279.99941287878784)scale(0.8715151515151512)rotate(90 0 -4.75)\">1565</text></g><g class=\"point\"><path d=\"M741.58,410V265.75H761.97V410Z\" style=\"vector-effect: non-scaling-stroke; opacity: 1; stroke-width: 1.5px; fill: rgb(82, 150, 221); fill-opacity: 1; stroke: rgb(229, 236, 246); stroke-opacity: 1;\"/><text class=\"bartext bartext-inside\" text-anchor=\"middle\" data-notex=\"1\" x=\"0\" y=\"0\" style=\"font-family: 'Open Sans', verdana, arial, sans-serif; font-size: 12px; fill: rgb(68, 68, 68); fill-opacity: 1; white-space: pre;\" transform=\"translate(751.7750000000001,284.87061553030304)scale(0.8721212121212113)rotate(90 0 -4.75)\">1514</text></g><g class=\"point\"><path d=\"M435.77,410V266.41H456.16V410Z\" style=\"vector-effect: non-scaling-stroke; opacity: 1; stroke-width: 1.5px; fill: rgb(82, 150, 221); fill-opacity: 1; stroke: rgb(229, 236, 246); stroke-opacity: 1;\"/><text class=\"bartext bartext-inside\" text-anchor=\"middle\" data-notex=\"1\" x=\"0\" y=\"0\" style=\"font-family: 'Open Sans', verdana, arial, sans-serif; font-size: 12px; fill: rgb(68, 68, 68); fill-opacity: 1; white-space: pre;\" transform=\"translate(445.96500000000003,285.5306155303031)scale(0.8721212121212147)rotate(90 0 -4.75)\">1507</text></g><g class=\"point\"><path d=\"M537.71,410V266.51H558.1V410Z\" style=\"vector-effect: non-scaling-stroke; opacity: 1; stroke-width: 1.5px; fill: rgb(82, 150, 221); fill-opacity: 1; stroke: rgb(229, 236, 246); stroke-opacity: 1;\"/><text class=\"bartext bartext-inside\" text-anchor=\"middle\" data-notex=\"1\" x=\"0\" y=\"0\" style=\"font-family: 'Open Sans', verdana, arial, sans-serif; font-size: 12px; fill: rgb(68, 68, 68); fill-opacity: 1; white-space: pre;\" transform=\"translate(547.905,285.63061553030303)scale(0.8721212121212113)rotate(90 0 -4.75)\">1506</text></g><g class=\"point\"><path d=\"M461.26,410V270.89H481.65V410Z\" style=\"vector-effect: non-scaling-stroke; opacity: 1; stroke-width: 1.5px; fill: rgb(82, 150, 221); fill-opacity: 1; stroke: rgb(229, 236, 246); stroke-opacity: 1;\"/><text class=\"bartext bartext-inside\" text-anchor=\"middle\" data-notex=\"1\" x=\"0\" y=\"0\" style=\"font-family: 'Open Sans', verdana, arial, sans-serif; font-size: 12px; fill: rgb(68, 68, 68); fill-opacity: 1; white-space: pre;\" transform=\"translate(471.455,290.010615530303)scale(0.8721212121212113)rotate(90 0 -4.75)\">1460</text></g><g class=\"point\"><path d=\"M588.68,410V271.66H609.06V410Z\" style=\"vector-effect: non-scaling-stroke; opacity: 1; stroke-width: 1.5px; fill: rgb(82, 150, 221); fill-opacity: 1; stroke: rgb(229, 236, 246); stroke-opacity: 1;\"/><text class=\"bartext bartext-inside\" text-anchor=\"middle\" data-notex=\"1\" x=\"0\" y=\"0\" style=\"font-family: 'Open Sans', verdana, arial, sans-serif; font-size: 12px; fill: rgb(68, 68, 68); fill-opacity: 1; white-space: pre;\" transform=\"translate(598.8699999999999,290.7694128787879)scale(0.8715151515151512)rotate(90 0 -4.75)\">1452</text></g><g class=\"point\"><path d=\"M486.74,410V284.23H507.13V410Z\" style=\"vector-effect: non-scaling-stroke; opacity: 1; stroke-width: 1.5px; fill: rgb(82, 150, 221); fill-opacity: 1; stroke: rgb(229, 236, 246); stroke-opacity: 1;\"/><text class=\"bartext bartext-inside\" text-anchor=\"middle\" data-notex=\"1\" x=\"0\" y=\"0\" style=\"font-family: 'Open Sans', verdana, arial, sans-serif; font-size: 12px; fill: rgb(68, 68, 68); fill-opacity: 1; white-space: pre;\" transform=\"translate(496.935,303.35061553030306)scale(0.8721212121212113)rotate(90 0 -4.75)\">1320</text></g><g class=\"point\"><path d=\"M512.23,410V293.76H532.61V410Z\" style=\"vector-effect: non-scaling-stroke; opacity: 1; stroke-width: 1.5px; fill: rgb(82, 150, 221); fill-opacity: 1; stroke: rgb(229, 236, 246); stroke-opacity: 1;\"/><text class=\"bartext bartext-inside\" text-anchor=\"middle\" data-notex=\"1\" x=\"0\" y=\"0\" style=\"font-family: 'Open Sans', verdana, arial, sans-serif; font-size: 12px; fill: rgb(68, 68, 68); fill-opacity: 1; white-space: pre;\" transform=\"translate(522.4200000000001,312.86941287878784)scale(0.8715151515151512)rotate(90 0 -4.75)\">1220</text></g><g class=\"point\"><path d=\"M410.29,410V304.62H430.68V410Z\" style=\"vector-effect: non-scaling-stroke; opacity: 1; stroke-width: 1.5px; fill: rgb(82, 150, 221); fill-opacity: 1; stroke: rgb(229, 236, 246); stroke-opacity: 1;\"/><text class=\"bartext bartext-inside\" text-anchor=\"middle\" data-notex=\"1\" x=\"0\" y=\"0\" style=\"font-family: 'Open Sans', verdana, arial, sans-serif; font-size: 12px; fill: rgb(68, 68, 68); fill-opacity: 1; white-space: pre;\" transform=\"translate(420.485,323.74061553030305)scale(0.8721212121212113)rotate(90 0 -4.75)\">1106</text></g></g></g></g></g><g class=\"overplot\"/><path class=\"xlines-above crisp\" d=\"M0,0\" style=\"fill: none;\"/><path class=\"ylines-above crisp\" d=\"M0,0\" style=\"fill: none;\"/><g class=\"overlines-above\"/><g class=\"xaxislayer-above\"><g class=\"xtick\"><text text-anchor=\"start\" x=\"0\" y=\"483\" transform=\"translate(92.74,0) rotate(45,0,477)\" style=\"font-family: 'Open Sans', verdana, arial, sans-serif; font-size: 12px; fill: rgb(42, 63, 95); fill-opacity: 1; white-space: pre; opacity: 1;\"><tspan class=\"line\" dy=\"0em\" x=\"0\" y=\"483\">Jan 1</tspan><tspan class=\"line\" dy=\"1.3em\" x=\"0\" y=\"483\">2019</tspan></text></g><g class=\"xtick\"><text text-anchor=\"start\" x=\"0\" y=\"483\" style=\"font-family: 'Open Sans', verdana, arial, sans-serif; font-size: 12px; fill: rgb(42, 63, 95); fill-opacity: 1; white-space: pre; opacity: 1;\" transform=\"translate(118.22999999999999,0) rotate(45,0,477)\">Jan 2</text></g><g class=\"xtick\"><text text-anchor=\"start\" x=\"0\" y=\"483\" style=\"font-family: 'Open Sans', verdana, arial, sans-serif; font-size: 12px; fill: rgb(42, 63, 95); fill-opacity: 1; white-space: pre; opacity: 1;\" transform=\"translate(143.71,0) rotate(45,0,477)\">Jan 3</text></g><g class=\"xtick\"><text text-anchor=\"start\" x=\"0\" y=\"483\" style=\"font-family: 'Open Sans', verdana, arial, sans-serif; font-size: 12px; fill: rgb(42, 63, 95); fill-opacity: 1; white-space: pre; opacity: 1;\" transform=\"translate(169.19,0) rotate(45,0,477)\">Jan 4</text></g><g class=\"xtick\"><text text-anchor=\"start\" x=\"0\" y=\"483\" style=\"font-family: 'Open Sans', verdana, arial, sans-serif; font-size: 12px; fill: rgb(42, 63, 95); fill-opacity: 1; white-space: pre; opacity: 1;\" transform=\"translate(194.68,0) rotate(45,0,477)\">Jan 5</text></g><g class=\"xtick\"><text text-anchor=\"start\" x=\"0\" y=\"483\" style=\"font-family: 'Open Sans', verdana, arial, sans-serif; font-size: 12px; fill: rgb(42, 63, 95); fill-opacity: 1; white-space: pre; opacity: 1;\" transform=\"translate(220.16,0) rotate(45,0,477)\">Jan 6</text></g><g class=\"xtick\"><text text-anchor=\"start\" x=\"0\" y=\"483\" style=\"font-family: 'Open Sans', verdana, arial, sans-serif; font-size: 12px; fill: rgb(42, 63, 95); fill-opacity: 1; white-space: pre; opacity: 1;\" transform=\"translate(245.65,0) rotate(45,0,477)\">Jan 7</text></g><g class=\"xtick\"><text text-anchor=\"start\" x=\"0\" y=\"483\" style=\"font-family: 'Open Sans', verdana, arial, sans-serif; font-size: 12px; fill: rgb(42, 63, 95); fill-opacity: 1; white-space: pre; opacity: 1;\" transform=\"translate(271.13,0) rotate(45,0,477)\">Jan 8</text></g><g class=\"xtick\"><text text-anchor=\"start\" x=\"0\" y=\"483\" style=\"font-family: 'Open Sans', verdana, arial, sans-serif; font-size: 12px; fill: rgb(42, 63, 95); fill-opacity: 1; white-space: pre; opacity: 1;\" transform=\"translate(296.61,0) rotate(45,0,477)\">Jan 9</text></g><g class=\"xtick\"><text text-anchor=\"start\" x=\"0\" y=\"483\" style=\"font-family: 'Open Sans', verdana, arial, sans-serif; font-size: 12px; fill: rgb(42, 63, 95); fill-opacity: 1; white-space: pre; opacity: 1;\" transform=\"translate(322.1,0) rotate(45,0,477)\">Jan 10</text></g><g class=\"xtick\"><text text-anchor=\"start\" x=\"0\" y=\"483\" style=\"font-family: 'Open Sans', verdana, arial, sans-serif; font-size: 12px; fill: rgb(42, 63, 95); fill-opacity: 1; white-space: pre; opacity: 1;\" transform=\"translate(347.58,0) rotate(45,0,477)\">Jan 11</text></g><g class=\"xtick\"><text text-anchor=\"start\" x=\"0\" y=\"483\" style=\"font-family: 'Open Sans', verdana, arial, sans-serif; font-size: 12px; fill: rgb(42, 63, 95); fill-opacity: 1; white-space: pre; opacity: 1;\" transform=\"translate(373.06,0) rotate(45,0,477)\">Jan 12</text></g><g class=\"xtick\"><text text-anchor=\"start\" x=\"0\" y=\"483\" style=\"font-family: 'Open Sans', verdana, arial, sans-serif; font-size: 12px; fill: rgb(42, 63, 95); fill-opacity: 1; white-space: pre; opacity: 1;\" transform=\"translate(398.55,0) rotate(45,0,477)\">Jan 13</text></g><g class=\"xtick\"><text text-anchor=\"start\" x=\"0\" y=\"483\" style=\"font-family: 'Open Sans', verdana, arial, sans-serif; font-size: 12px; fill: rgb(42, 63, 95); fill-opacity: 1; white-space: pre; opacity: 1;\" transform=\"translate(424.03,0) rotate(45,0,477)\">Jan 14</text></g><g class=\"xtick\"><text text-anchor=\"start\" x=\"0\" y=\"483\" style=\"font-family: 'Open Sans', verdana, arial, sans-serif; font-size: 12px; fill: rgb(42, 63, 95); fill-opacity: 1; white-space: pre; opacity: 1;\" transform=\"translate(449.52,0) rotate(45,0,477)\">Jan 15</text></g><g class=\"xtick\"><text text-anchor=\"start\" x=\"0\" y=\"483\" style=\"font-family: 'Open Sans', verdana, arial, sans-serif; font-size: 12px; fill: rgb(42, 63, 95); fill-opacity: 1; white-space: pre; opacity: 1;\" transform=\"translate(475,0) rotate(45,0,477)\">Jan 16</text></g><g class=\"xtick\"><text text-anchor=\"start\" x=\"0\" y=\"483\" style=\"font-family: 'Open Sans', verdana, arial, sans-serif; font-size: 12px; fill: rgb(42, 63, 95); fill-opacity: 1; white-space: pre; opacity: 1;\" transform=\"translate(500.48,0) rotate(45,0,477)\">Jan 17</text></g><g class=\"xtick\"><text text-anchor=\"start\" x=\"0\" y=\"483\" style=\"font-family: 'Open Sans', verdana, arial, sans-serif; font-size: 12px; fill: rgb(42, 63, 95); fill-opacity: 1; white-space: pre; opacity: 1;\" transform=\"translate(525.97,0) rotate(45,0,477)\">Jan 18</text></g><g class=\"xtick\"><text text-anchor=\"start\" x=\"0\" y=\"483\" style=\"font-family: 'Open Sans', verdana, arial, sans-serif; font-size: 12px; fill: rgb(42, 63, 95); fill-opacity: 1; white-space: pre; opacity: 1;\" transform=\"translate(551.45,0) rotate(45,0,477)\">Jan 19</text></g><g class=\"xtick\"><text text-anchor=\"start\" x=\"0\" y=\"483\" style=\"font-family: 'Open Sans', verdana, arial, sans-serif; font-size: 12px; fill: rgb(42, 63, 95); fill-opacity: 1; white-space: pre; opacity: 1;\" transform=\"translate(576.94,0) rotate(45,0,477)\">Jan 20</text></g><g class=\"xtick\"><text text-anchor=\"start\" x=\"0\" y=\"483\" style=\"font-family: 'Open Sans', verdana, arial, sans-serif; font-size: 12px; fill: rgb(42, 63, 95); fill-opacity: 1; white-space: pre; opacity: 1;\" transform=\"translate(602.42,0) rotate(45,0,477)\">Jan 21</text></g><g class=\"xtick\"><text text-anchor=\"start\" x=\"0\" y=\"483\" style=\"font-family: 'Open Sans', verdana, arial, sans-serif; font-size: 12px; fill: rgb(42, 63, 95); fill-opacity: 1; white-space: pre; opacity: 1;\" transform=\"translate(627.9,0) rotate(45,0,477)\">Jan 22</text></g><g class=\"xtick\"><text text-anchor=\"start\" x=\"0\" y=\"483\" style=\"font-family: 'Open Sans', verdana, arial, sans-serif; font-size: 12px; fill: rgb(42, 63, 95); fill-opacity: 1; white-space: pre; opacity: 1;\" transform=\"translate(653.39,0) rotate(45,0,477)\">Jan 23</text></g><g class=\"xtick\"><text text-anchor=\"start\" x=\"0\" y=\"483\" style=\"font-family: 'Open Sans', verdana, arial, sans-serif; font-size: 12px; fill: rgb(42, 63, 95); fill-opacity: 1; white-space: pre; opacity: 1;\" transform=\"translate(678.87,0) rotate(45,0,477)\">Jan 24</text></g><g class=\"xtick\"><text text-anchor=\"start\" x=\"0\" y=\"483\" style=\"font-family: 'Open Sans', verdana, arial, sans-serif; font-size: 12px; fill: rgb(42, 63, 95); fill-opacity: 1; white-space: pre; opacity: 1;\" transform=\"translate(704.35,0) rotate(45,0,477)\">Jan 25</text></g><g class=\"xtick\"><text text-anchor=\"start\" x=\"0\" y=\"483\" style=\"font-family: 'Open Sans', verdana, arial, sans-serif; font-size: 12px; fill: rgb(42, 63, 95); fill-opacity: 1; white-space: pre; opacity: 1;\" transform=\"translate(729.84,0) rotate(45,0,477)\">Jan 26</text></g><g class=\"xtick\"><text text-anchor=\"start\" x=\"0\" y=\"483\" style=\"font-family: 'Open Sans', verdana, arial, sans-serif; font-size: 12px; fill: rgb(42, 63, 95); fill-opacity: 1; white-space: pre; opacity: 1;\" transform=\"translate(755.32,0) rotate(45,0,477)\">Jan 27</text></g><g class=\"xtick\"><text text-anchor=\"start\" x=\"0\" y=\"483\" style=\"font-family: 'Open Sans', verdana, arial, sans-serif; font-size: 12px; fill: rgb(42, 63, 95); fill-opacity: 1; white-space: pre; opacity: 1;\" transform=\"translate(780.81,0) rotate(45,0,477)\">Jan 28</text></g><g class=\"xtick\"><text text-anchor=\"start\" x=\"0\" y=\"483\" style=\"font-family: 'Open Sans', verdana, arial, sans-serif; font-size: 12px; fill: rgb(42, 63, 95); fill-opacity: 1; white-space: pre; opacity: 1;\" transform=\"translate(806.29,0) rotate(45,0,477)\">Jan 29</text></g><g class=\"xtick\"><text text-anchor=\"start\" x=\"0\" y=\"483\" style=\"font-family: 'Open Sans', verdana, arial, sans-serif; font-size: 12px; fill: rgb(42, 63, 95); fill-opacity: 1; white-space: pre; opacity: 1;\" transform=\"translate(831.77,0) rotate(45,0,477)\">Jan 30</text></g><g class=\"xtick\"><text text-anchor=\"start\" x=\"0\" y=\"483\" style=\"font-family: 'Open Sans', verdana, arial, sans-serif; font-size: 12px; fill: rgb(42, 63, 95); fill-opacity: 1; white-space: pre; opacity: 1;\" transform=\"translate(857.26,0) rotate(45,0,477)\">Jan 31</text></g></g><g class=\"yaxislayer-above\"><g class=\"ytick\"><text text-anchor=\"end\" x=\"79\" y=\"4.199999999999999\" transform=\"translate(0,470)\" style=\"font-family: 'Open Sans', verdana, arial, sans-serif; font-size: 12px; fill: rgb(42, 63, 95); fill-opacity: 1; white-space: pre; opacity: 1;\">0</text></g><g class=\"ytick\"><text text-anchor=\"end\" x=\"79\" y=\"4.199999999999999\" style=\"font-family: 'Open Sans', verdana, arial, sans-serif; font-size: 12px; fill: rgb(42, 63, 95); fill-opacity: 1; white-space: pre; opacity: 1;\" transform=\"translate(0,422.36)\">500</text></g><g class=\"ytick\"><text text-anchor=\"end\" x=\"79\" y=\"4.199999999999999\" style=\"font-family: 'Open Sans', verdana, arial, sans-serif; font-size: 12px; fill: rgb(42, 63, 95); fill-opacity: 1; white-space: pre; opacity: 1;\" transform=\"translate(0,374.72)\">1000</text></g><g class=\"ytick\"><text text-anchor=\"end\" x=\"79\" y=\"4.199999999999999\" style=\"font-family: 'Open Sans', verdana, arial, sans-serif; font-size: 12px; fill: rgb(42, 63, 95); fill-opacity: 1; white-space: pre; opacity: 1;\" transform=\"translate(0,327.08)\">1500</text></g><g class=\"ytick\"><text text-anchor=\"end\" x=\"79\" y=\"4.199999999999999\" style=\"font-family: 'Open Sans', verdana, arial, sans-serif; font-size: 12px; fill: rgb(42, 63, 95); fill-opacity: 1; white-space: pre; opacity: 1;\" transform=\"translate(0,279.44)\">2000</text></g><g class=\"ytick\"><text text-anchor=\"end\" x=\"79\" y=\"4.199999999999999\" style=\"font-family: 'Open Sans', verdana, arial, sans-serif; font-size: 12px; fill: rgb(42, 63, 95); fill-opacity: 1; white-space: pre; opacity: 1;\" transform=\"translate(0,231.8)\">2500</text></g><g class=\"ytick\"><text text-anchor=\"end\" x=\"79\" y=\"4.199999999999999\" style=\"font-family: 'Open Sans', verdana, arial, sans-serif; font-size: 12px; fill: rgb(42, 63, 95); fill-opacity: 1; white-space: pre; opacity: 1;\" transform=\"translate(0,184.16)\">3000</text></g><g class=\"ytick\"><text text-anchor=\"end\" x=\"79\" y=\"4.199999999999999\" style=\"font-family: 'Open Sans', verdana, arial, sans-serif; font-size: 12px; fill: rgb(42, 63, 95); fill-opacity: 1; white-space: pre; opacity: 1;\" transform=\"translate(0,136.51999999999998)\">3500</text></g><g class=\"ytick\"><text text-anchor=\"end\" x=\"79\" y=\"4.199999999999999\" style=\"font-family: 'Open Sans', verdana, arial, sans-serif; font-size: 12px; fill: rgb(42, 63, 95); fill-opacity: 1; white-space: pre; opacity: 1;\" transform=\"translate(0,88.88)\">4000</text></g></g><g class=\"overaxes-above\"/></g></g><g class=\"polarlayer\"/><g class=\"ternarylayer\"/><g class=\"geolayer\"/><g class=\"funnelarealayer\"/><g class=\"pielayer\"/><g class=\"iciclelayer\"/><g class=\"treemaplayer\"/><g class=\"sunburstlayer\"/><g class=\"glimages\"/><defs id=\"topdefs-0d71c4\"><g class=\"clips\"/></defs><g class=\"layer-above\"><g class=\"imagelayer\"/><g class=\"shapelayer\"/></g><g class=\"infolayer\"><g class=\"g-gtitle\"><text class=\"gtitle\" x=\"475\" y=\"30\" text-anchor=\"middle\" dy=\"0.7em\" style=\"font-family: 'Open Sans', verdana, arial, sans-serif; font-size: 17px; fill: rgb(42, 63, 95); opacity: 1; font-weight: normal; white-space: pre;\">Comments Created in Each Day of Jan 2019</text></g><g class=\"g-xtitle\"><text class=\"xtitle\" x=\"475\" y=\"538.9669921875\" text-anchor=\"middle\" style=\"font-family: 'Open Sans', verdana, arial, sans-serif; font-size: 14px; fill: rgb(42, 63, 95); opacity: 1; font-weight: normal; white-space: pre;\">Comments Creation Date</text></g><g class=\"g-ytitle\"><text class=\"ytitle\" transform=\"rotate(-90,26.746875000000003,265)\" x=\"26.746875000000003\" y=\"265\" text-anchor=\"middle\" style=\"font-family: 'Open Sans', verdana, arial, sans-serif; font-size: 14px; fill: rgb(42, 63, 95); opacity: 1; font-weight: normal; white-space: pre;\">n_comments</text></g></g></svg>"
      ]
     },
     "metadata": {},
     "output_type": "display_data"
    }
   ],
   "source": [
    "bar_dates(df_jan_19, \"Comments Created in Each Day of Jan 2019\", 2600)"
   ]
  },
  {
   "cell_type": "markdown",
   "id": "03f69aa2",
   "metadata": {},
   "source": [
    "<a id='2020'></a>\n",
    ">>### 2020 Peaks\n",
    "> <ul>\n",
    " <li><a href=\"#all\">All Years</a></li>\n",
    " <li><a href=\"#2018\">2018</a></li>\n",
    " <li><a href=\"#2019\">2019</a></li>\n",
    " <li><a href=\"#2020\"><b>2020</b></a></li>\n",
    " <li><a href=\"#2021\">2021</a></li>\n",
    " </ul>"
   ]
  },
  {
   "cell_type": "code",
   "execution_count": 65,
   "id": "f1b5e02d",
   "metadata": {},
   "outputs": [
    {
     "data": {
      "image/svg+xml": [
       "<svg class=\"main-svg\" xmlns=\"http://www.w3.org/2000/svg\" xmlns:xlink=\"http://www.w3.org/1999/xlink\" width=\"950\" height=\"550\" style=\"\" viewBox=\"0 0 950 550\"><rect x=\"0\" y=\"0\" width=\"950\" height=\"550\" style=\"fill: rgb(255, 255, 255); fill-opacity: 1;\"/><defs id=\"defs-0864f8\"><g class=\"clips\"><clipPath id=\"clip0864f8xyplot\" class=\"plotclip\"><rect width=\"790\" height=\"348\"/></clipPath><clipPath class=\"axesclip\" id=\"clip0864f8x\"><rect x=\"80\" y=\"0\" width=\"790\" height=\"550\"/></clipPath><clipPath class=\"axesclip\" id=\"clip0864f8y\"><rect x=\"0\" y=\"100\" width=\"950\" height=\"348\"/></clipPath><clipPath class=\"axesclip\" id=\"clip0864f8xy\"><rect x=\"80\" y=\"100\" width=\"790\" height=\"348\"/></clipPath></g><g class=\"gradients\"/><g class=\"patterns\"/></defs><g class=\"bglayer\"><rect class=\"bg\" x=\"80\" y=\"100\" width=\"790\" height=\"348\" style=\"fill: rgb(229, 236, 246); fill-opacity: 1; stroke-width: 0;\"/></g><g class=\"layer-below\"><g class=\"imagelayer\"/><g class=\"shapelayer\"/></g><g class=\"cartesianlayer\"><g class=\"subplot xy\"><g class=\"layer-subplot\"><g class=\"shapelayer\"/><g class=\"imagelayer\"/></g><g class=\"gridlayer\"><g class=\"x\"/><g class=\"y\"><path class=\"ygrid crisp\" transform=\"translate(0,384.47)\" d=\"M80,0h790\" style=\"stroke: rgb(255, 255, 255); stroke-opacity: 1; stroke-width: 1px;\"/><path class=\"ygrid crisp\" transform=\"translate(0,320.93)\" d=\"M80,0h790\" style=\"stroke: rgb(255, 255, 255); stroke-opacity: 1; stroke-width: 1px;\"/><path class=\"ygrid crisp\" transform=\"translate(0,257.4)\" d=\"M80,0h790\" style=\"stroke: rgb(255, 255, 255); stroke-opacity: 1; stroke-width: 1px;\"/><path class=\"ygrid crisp\" transform=\"translate(0,193.86)\" d=\"M80,0h790\" style=\"stroke: rgb(255, 255, 255); stroke-opacity: 1; stroke-width: 1px;\"/><path class=\"ygrid crisp\" transform=\"translate(0,130.32999999999998)\" d=\"M80,0h790\" style=\"stroke: rgb(255, 255, 255); stroke-opacity: 1; stroke-width: 1px;\"/></g></g><g class=\"zerolinelayer\"><path class=\"yzl zl crisp\" transform=\"translate(0,448)\" d=\"M80,0h790\" style=\"stroke: rgb(255, 255, 255); stroke-opacity: 1; stroke-width: 2px;\"/></g><path class=\"xlines-below\"/><path class=\"ylines-below\"/><g class=\"overlines-below\"/><g class=\"xaxislayer-below\"/><g class=\"yaxislayer-below\"/><g class=\"overaxes-below\"/><g class=\"plot\" transform=\"translate(80,100)\" clip-path=\"url(#clip0864f8xyplot)\"><g class=\"barlayer mlayer\"><g class=\"trace bars\" style=\"opacity: 1;\"><g class=\"points\"><g class=\"point\"><path d=\"M674.54,348V17.4H723.15V348Z\" style=\"vector-effect: non-scaling-stroke; opacity: 1; stroke-width: 0.5px; fill: rgb(255, 0, 0); fill-opacity: 1; stroke: rgb(229, 236, 246); stroke-opacity: 1;\"/><text class=\"bartext bartext-inside\" text-anchor=\"middle\" data-notex=\"1\" x=\"0\" y=\"0\" style=\"font-family: 'Open Sans', verdana, arial, sans-serif; font-size: 12px; fill: rgb(255, 255, 255); fill-opacity: 1; white-space: pre;\" transform=\"translate(698.845,33.4)\">10407</text></g><g class=\"point\"><path d=\"M6.08,348V72.93H54.69V348Z\" style=\"vector-effect: non-scaling-stroke; opacity: 1; stroke-width: 0.5px; fill: rgb(255, 0, 0); fill-opacity: 1; stroke: rgb(229, 236, 246); stroke-opacity: 1;\"/><text class=\"bartext bartext-inside\" text-anchor=\"middle\" data-notex=\"1\" x=\"0\" y=\"0\" style=\"font-family: 'Open Sans', verdana, arial, sans-serif; font-size: 12px; fill: rgb(255, 255, 255); fill-opacity: 1; white-space: pre;\" transform=\"translate(30.384999999999998,88.93)\">8659</text></g><g class=\"point\"><path d=\"M309.92,348V89.96H358.54V348Z\" style=\"vector-effect: non-scaling-stroke; opacity: 1; stroke-width: 0.5px; fill: rgb(255, 0, 0); fill-opacity: 1; stroke: rgb(229, 236, 246); stroke-opacity: 1;\"/><text class=\"bartext bartext-inside\" text-anchor=\"middle\" data-notex=\"1\" x=\"0\" y=\"0\" style=\"font-family: 'Open Sans', verdana, arial, sans-serif; font-size: 12px; fill: rgb(255, 255, 255); fill-opacity: 1; white-space: pre;\" transform=\"translate(334.23,105.96)\">8123</text></g><g class=\"point\"><path d=\"M735.31,348V154.67H783.92V348Z\" style=\"vector-effect: non-scaling-stroke; opacity: 1; stroke-width: 0.5px; fill: rgb(255, 0, 0); fill-opacity: 1; stroke: rgb(229, 236, 246); stroke-opacity: 1;\"/><text class=\"bartext bartext-inside\" text-anchor=\"middle\" data-notex=\"1\" x=\"0\" y=\"0\" style=\"font-family: 'Open Sans', verdana, arial, sans-serif; font-size: 12px; fill: rgb(255, 255, 255); fill-opacity: 1; white-space: pre;\" transform=\"translate(759.615,170.67)\">6086</text></g></g></g></g></g><g class=\"overplot\"/><path class=\"xlines-above crisp\" d=\"M0,0\" style=\"fill: none;\"/><path class=\"ylines-above crisp\" d=\"M0,0\" style=\"fill: none;\"/><g class=\"overlines-above\"/><g class=\"xaxislayer-above\"><g class=\"xtick\"><text text-anchor=\"start\" x=\"0\" y=\"461\" transform=\"translate(778.85,0) rotate(45,0,455)\" style=\"font-family: 'Open Sans', verdana, arial, sans-serif; font-size: 12px; fill: rgb(42, 63, 95); fill-opacity: 1; white-space: pre; opacity: 1;\">Nov 13, 2020</text></g><g class=\"xtick\"><text text-anchor=\"start\" x=\"0\" y=\"461\" style=\"font-family: 'Open Sans', verdana, arial, sans-serif; font-size: 12px; fill: rgb(42, 63, 95); fill-opacity: 1; white-space: pre; opacity: 1;\" transform=\"translate(110.38,0) rotate(45,0,455)\">Nov 2, 2020</text></g><g class=\"xtick\"><text text-anchor=\"start\" x=\"0\" y=\"461\" style=\"font-family: 'Open Sans', verdana, arial, sans-serif; font-size: 12px; fill: rgb(42, 63, 95); fill-opacity: 1; white-space: pre; opacity: 1;\" transform=\"translate(414.23,0) rotate(45,0,455)\">Nov 7, 2020</text></g><g class=\"xtick\"><text text-anchor=\"start\" x=\"0\" y=\"461\" style=\"font-family: 'Open Sans', verdana, arial, sans-serif; font-size: 12px; fill: rgb(42, 63, 95); fill-opacity: 1; white-space: pre; opacity: 1;\" transform=\"translate(839.62,0) rotate(45,0,455)\">Nov 14, 2020</text></g></g><g class=\"yaxislayer-above\"><g class=\"ytick\"><text text-anchor=\"end\" x=\"79\" y=\"4.199999999999999\" transform=\"translate(0,448)\" style=\"font-family: 'Open Sans', verdana, arial, sans-serif; font-size: 12px; fill: rgb(42, 63, 95); fill-opacity: 1; white-space: pre; opacity: 1;\">0</text></g><g class=\"ytick\"><text text-anchor=\"end\" x=\"79\" y=\"4.199999999999999\" style=\"font-family: 'Open Sans', verdana, arial, sans-serif; font-size: 12px; fill: rgb(42, 63, 95); fill-opacity: 1; white-space: pre; opacity: 1;\" transform=\"translate(0,384.47)\">2k</text></g><g class=\"ytick\"><text text-anchor=\"end\" x=\"79\" y=\"4.199999999999999\" style=\"font-family: 'Open Sans', verdana, arial, sans-serif; font-size: 12px; fill: rgb(42, 63, 95); fill-opacity: 1; white-space: pre; opacity: 1;\" transform=\"translate(0,320.93)\">4k</text></g><g class=\"ytick\"><text text-anchor=\"end\" x=\"79\" y=\"4.199999999999999\" style=\"font-family: 'Open Sans', verdana, arial, sans-serif; font-size: 12px; fill: rgb(42, 63, 95); fill-opacity: 1; white-space: pre; opacity: 1;\" transform=\"translate(0,257.4)\">6k</text></g><g class=\"ytick\"><text text-anchor=\"end\" x=\"79\" y=\"4.199999999999999\" style=\"font-family: 'Open Sans', verdana, arial, sans-serif; font-size: 12px; fill: rgb(42, 63, 95); fill-opacity: 1; white-space: pre; opacity: 1;\" transform=\"translate(0,193.86)\">8k</text></g><g class=\"ytick\"><text text-anchor=\"end\" x=\"79\" y=\"4.199999999999999\" style=\"font-family: 'Open Sans', verdana, arial, sans-serif; font-size: 12px; fill: rgb(42, 63, 95); fill-opacity: 1; white-space: pre; opacity: 1;\" transform=\"translate(0,130.32999999999998)\">10k</text></g></g><g class=\"overaxes-above\"/></g></g><g class=\"polarlayer\"/><g class=\"ternarylayer\"/><g class=\"geolayer\"/><g class=\"funnelarealayer\"/><g class=\"pielayer\"/><g class=\"iciclelayer\"/><g class=\"treemaplayer\"/><g class=\"sunburstlayer\"/><g class=\"glimages\"/><defs id=\"topdefs-0864f8\"><g class=\"clips\"/></defs><g class=\"layer-above\"><g class=\"imagelayer\"/><g class=\"shapelayer\"/></g><g class=\"infolayer\"><g class=\"g-gtitle\"><text class=\"gtitle\" x=\"47.5\" y=\"50\" text-anchor=\"start\" dy=\"0em\" style=\"font-family: 'Open Sans', verdana, arial, sans-serif; font-size: 17px; fill: rgb(42, 63, 95); opacity: 1; font-weight: normal; white-space: pre;\">Dates with the Highest Number of Comments in 2020</text></g><g class=\"g-xtitle\"><text class=\"xtitle\" x=\"475\" y=\"537.89375\" text-anchor=\"middle\" style=\"font-family: 'Open Sans', verdana, arial, sans-serif; font-size: 14px; fill: rgb(42, 63, 95); opacity: 1; font-weight: normal; white-space: pre;\">Comments Creation Date</text></g><g class=\"g-ytitle\"><text class=\"ytitle\" transform=\"rotate(-90,34.16875,274)\" x=\"34.16875\" y=\"274\" text-anchor=\"middle\" style=\"font-family: 'Open Sans', verdana, arial, sans-serif; font-size: 14px; fill: rgb(42, 63, 95); opacity: 1; font-weight: normal; white-space: pre;\">n_comments</text></g></g></svg>"
      ]
     },
     "metadata": {},
     "output_type": "display_data"
    }
   ],
   "source": [
    "bar_peaks(df_peaks_20.head(4), \"Dates with the Highest Number of Comments in 2020\")"
   ]
  },
  {
   "cell_type": "code",
   "execution_count": 66,
   "id": "8f99f100",
   "metadata": {},
   "outputs": [
    {
     "data": {
      "image/svg+xml": [
       "<svg class=\"main-svg\" xmlns=\"http://www.w3.org/2000/svg\" xmlns:xlink=\"http://www.w3.org/1999/xlink\" width=\"950\" height=\"550\" style=\"\" viewBox=\"0 0 950 550\"><rect x=\"0\" y=\"0\" width=\"950\" height=\"550\" style=\"fill: rgb(255, 255, 255); fill-opacity: 1;\"/><defs id=\"defs-d2bafa\"><g class=\"clips\"><clipPath id=\"clipd2bafaxyplot\" class=\"plotclip\"><rect width=\"790\" height=\"406\"/></clipPath><clipPath class=\"axesclip\" id=\"clipd2bafax\"><rect x=\"80\" y=\"0\" width=\"790\" height=\"550\"/></clipPath><clipPath class=\"axesclip\" id=\"clipd2bafay\"><rect x=\"0\" y=\"60\" width=\"950\" height=\"406\"/></clipPath><clipPath class=\"axesclip\" id=\"clipd2bafaxy\"><rect x=\"80\" y=\"60\" width=\"790\" height=\"406\"/></clipPath></g><g class=\"gradients\"/><g class=\"patterns\"/></defs><g class=\"bglayer\"><rect class=\"bg\" x=\"80\" y=\"60\" width=\"790\" height=\"406\" style=\"fill: rgb(229, 236, 246); fill-opacity: 1; stroke-width: 0;\"/></g><g class=\"layer-below\"><g class=\"imagelayer\"/><g class=\"shapelayer\"/></g><g class=\"cartesianlayer\"><g class=\"subplot xy\"><g class=\"layer-subplot\"><g class=\"shapelayer\"/><g class=\"imagelayer\"/></g><g class=\"gridlayer\"><g class=\"x\"/><g class=\"y\"><path class=\"ygrid crisp\" transform=\"translate(0,391.88)\" d=\"M80,0h790\" style=\"stroke: rgb(255, 255, 255); stroke-opacity: 1; stroke-width: 1px;\"/><path class=\"ygrid crisp\" transform=\"translate(0,317.75)\" d=\"M80,0h790\" style=\"stroke: rgb(255, 255, 255); stroke-opacity: 1; stroke-width: 1px;\"/><path class=\"ygrid crisp\" transform=\"translate(0,243.63)\" d=\"M80,0h790\" style=\"stroke: rgb(255, 255, 255); stroke-opacity: 1; stroke-width: 1px;\"/><path class=\"ygrid crisp\" transform=\"translate(0,169.51)\" d=\"M80,0h790\" style=\"stroke: rgb(255, 255, 255); stroke-opacity: 1; stroke-width: 1px;\"/><path class=\"ygrid crisp\" transform=\"translate(0,95.38)\" d=\"M80,0h790\" style=\"stroke: rgb(255, 255, 255); stroke-opacity: 1; stroke-width: 1px;\"/></g></g><g class=\"zerolinelayer\"><path class=\"yzl zl crisp\" transform=\"translate(0,466)\" d=\"M80,0h790\" style=\"stroke: rgb(255, 255, 255); stroke-opacity: 1; stroke-width: 2px;\"/></g><path class=\"xlines-below\"/><path class=\"ylines-below\"/><g class=\"overlines-below\"/><g class=\"xaxislayer-below\"/><g class=\"yaxislayer-below\"/><g class=\"overaxes-below\"/><g class=\"plot\" transform=\"translate(80,60)\" clip-path=\"url(#clipd2bafaxyplot)\"><g class=\"barlayer mlayer\"><g class=\"trace bars\" style=\"opacity: 1;\"><g class=\"points\"><g class=\"point\"><path d=\"M318.63,406V20.3H339.7V406Z\" style=\"vector-effect: non-scaling-stroke; opacity: 1; stroke-width: 1.5px; fill: rgb(255, 0, 0); fill-opacity: 1; stroke: rgb(229, 236, 246); stroke-opacity: 1;\"/><text class=\"bartext bartext-inside\" text-anchor=\"middle\" data-notex=\"1\" x=\"0\" y=\"0\" style=\"font-family: 'Open Sans', verdana, arial, sans-serif; font-size: 12px; fill: rgb(255, 255, 255); fill-opacity: 1; white-space: pre;\" transform=\"translate(329.16499999999996,43.30770833333332)scale(0.9133333333333328)rotate(90 0 -4.75)\">10407</text></g><g class=\"point\"><path d=\"M28.97,406V85.08H50.03V406Z\" style=\"vector-effect: non-scaling-stroke; opacity: 1; stroke-width: 1.5px; fill: rgb(255, 0, 0); fill-opacity: 1; stroke: rgb(229, 236, 246); stroke-opacity: 1;\"/><text class=\"bartext bartext-inside\" text-anchor=\"middle\" data-notex=\"1\" x=\"0\" y=\"0\" style=\"font-family: 'Open Sans', verdana, arial, sans-serif; font-size: 12px; fill: rgb(255, 255, 255); fill-opacity: 1; white-space: pre;\" transform=\"translate(39.5,104.95119318181818)scale(0.9127272727272728)rotate(90 0 -4.75)\">8659</text></g><g class=\"point\"><path d=\"M160.63,406V104.95H181.7V406Z\" style=\"vector-effect: non-scaling-stroke; opacity: 1; stroke-width: 1.5px; fill: rgb(255, 0, 0); fill-opacity: 1; stroke: rgb(229, 236, 246); stroke-opacity: 1;\"/><text class=\"bartext bartext-inside\" text-anchor=\"middle\" data-notex=\"1\" x=\"0\" y=\"0\" style=\"font-family: 'Open Sans', verdana, arial, sans-serif; font-size: 12px; fill: rgb(255, 255, 255); fill-opacity: 1; white-space: pre;\" transform=\"translate(171.165,124.83239583333332)scale(0.9133333333333329)rotate(90 0 -4.75)\">8123</text></g><g class=\"point\"><path d=\"M344.97,406V180.44H366.03V406Z\" style=\"vector-effect: non-scaling-stroke; opacity: 1; stroke-width: 1.5px; fill: rgb(255, 0, 0); fill-opacity: 1; stroke: rgb(229, 236, 246); stroke-opacity: 1;\"/><text class=\"bartext bartext-inside\" text-anchor=\"middle\" data-notex=\"1\" x=\"0\" y=\"0\" style=\"font-family: 'Open Sans', verdana, arial, sans-serif; font-size: 12px; fill: rgb(255, 255, 255); fill-opacity: 1; white-space: pre;\" transform=\"translate(355.5,200.3111931818181)scale(0.9127272727272694)rotate(90 0 -4.75)\">6086</text></g><g class=\"point\"><path d=\"M371.3,406V200.27H392.37V406Z\" style=\"vector-effect: non-scaling-stroke; opacity: 1; stroke-width: 1.5px; fill: rgb(255, 0, 0); fill-opacity: 1; stroke: rgb(229, 236, 246); stroke-opacity: 1;\"/><text class=\"bartext bartext-inside\" text-anchor=\"middle\" data-notex=\"1\" x=\"0\" y=\"0\" style=\"font-family: 'Open Sans', verdana, arial, sans-serif; font-size: 12px; fill: rgb(255, 255, 255); fill-opacity: 1; white-space: pre;\" transform=\"translate(381.83500000000004,220.15239583333334)scale(0.9133333333333329)rotate(90 0 -4.75)\">5551</text></g><g class=\"point\"><path d=\"M55.3,406V209.46H76.37V406Z\" style=\"vector-effect: non-scaling-stroke; opacity: 1; stroke-width: 1.5px; fill: rgb(255, 0, 0); fill-opacity: 1; stroke: rgb(229, 236, 246); stroke-opacity: 1;\"/><text class=\"bartext bartext-inside\" text-anchor=\"middle\" data-notex=\"1\" x=\"0\" y=\"0\" style=\"font-family: 'Open Sans', verdana, arial, sans-serif; font-size: 12px; fill: rgb(255, 255, 255); fill-opacity: 1; white-space: pre;\" transform=\"translate(65.83500000000001,229.34239583333334)scale(0.9133333333333338)rotate(90 0 -4.75)\">5303</text></g><g class=\"point\"><path d=\"M186.97,406V215.87H208.03V406Z\" style=\"vector-effect: non-scaling-stroke; opacity: 1; stroke-width: 1.5px; fill: rgb(255, 0, 0); fill-opacity: 1; stroke: rgb(229, 236, 246); stroke-opacity: 1;\"/><text class=\"bartext bartext-inside\" text-anchor=\"middle\" data-notex=\"1\" x=\"0\" y=\"0\" style=\"font-family: 'Open Sans', verdana, arial, sans-serif; font-size: 12px; fill: rgb(255, 255, 255); fill-opacity: 1; white-space: pre;\" transform=\"translate(197.5,235.74119318181818)scale(0.9127272727272728)rotate(90 0 -4.75)\">5130</text></g><g class=\"point\"><path d=\"M213.3,406V216.95H234.37V406Z\" style=\"vector-effect: non-scaling-stroke; opacity: 1; stroke-width: 1.5px; fill: rgb(255, 0, 0); fill-opacity: 1; stroke: rgb(229, 236, 246); stroke-opacity: 1;\"/><text class=\"bartext bartext-inside\" text-anchor=\"middle\" data-notex=\"1\" x=\"0\" y=\"0\" style=\"font-family: 'Open Sans', verdana, arial, sans-serif; font-size: 12px; fill: rgb(255, 255, 255); fill-opacity: 1; white-space: pre;\" transform=\"translate(223.835,236.83239583333332)scale(0.9133333333333329)rotate(90 0 -4.75)\">5101</text></g><g class=\"point\"><path d=\"M134.3,406V220.25H155.37V406Z\" style=\"vector-effect: non-scaling-stroke; opacity: 1; stroke-width: 1.5px; fill: rgb(255, 0, 0); fill-opacity: 1; stroke: rgb(229, 236, 246); stroke-opacity: 1;\"/><text class=\"bartext bartext-inside\" text-anchor=\"middle\" data-notex=\"1\" x=\"0\" y=\"0\" style=\"font-family: 'Open Sans', verdana, arial, sans-serif; font-size: 12px; fill: rgb(255, 255, 255); fill-opacity: 1; white-space: pre;\" transform=\"translate(144.835,240.13239583333333)scale(0.9133333333333329)rotate(90 0 -4.75)\">5012</text></g><g class=\"point\"><path d=\"M265.97,406V224.14H287.03V406Z\" style=\"vector-effect: non-scaling-stroke; opacity: 1; stroke-width: 1.5px; fill: rgb(255, 0, 0); fill-opacity: 1; stroke: rgb(229, 236, 246); stroke-opacity: 1;\"/><text class=\"bartext bartext-inside\" text-anchor=\"middle\" data-notex=\"1\" x=\"0\" y=\"0\" style=\"font-family: 'Open Sans', verdana, arial, sans-serif; font-size: 12px; fill: rgb(255, 255, 255); fill-opacity: 1; white-space: pre;\" transform=\"translate(276.5,244.0111931818181)scale(0.9127272727272694)rotate(90 0 -4.75)\">4907</text></g><g class=\"point\"><path d=\"M292.3,406V226.58H313.37V406Z\" style=\"vector-effect: non-scaling-stroke; opacity: 1; stroke-width: 1.5px; fill: rgb(255, 0, 0); fill-opacity: 1; stroke: rgb(229, 236, 246); stroke-opacity: 1;\"/><text class=\"bartext bartext-inside\" text-anchor=\"middle\" data-notex=\"1\" x=\"0\" y=\"0\" style=\"font-family: 'Open Sans', verdana, arial, sans-serif; font-size: 12px; fill: rgb(255, 255, 255); fill-opacity: 1; white-space: pre;\" transform=\"translate(302.83500000000004,246.46239583333335)scale(0.9133333333333329)rotate(90 0 -4.75)\">4841</text></g><g class=\"point\"><path d=\"M239.63,406V227.03H260.7V406Z\" style=\"vector-effect: non-scaling-stroke; opacity: 1; stroke-width: 1.5px; fill: rgb(255, 0, 0); fill-opacity: 1; stroke: rgb(229, 236, 246); stroke-opacity: 1;\"/><text class=\"bartext bartext-inside\" text-anchor=\"middle\" data-notex=\"1\" x=\"0\" y=\"0\" style=\"font-family: 'Open Sans', verdana, arial, sans-serif; font-size: 12px; fill: rgb(255, 255, 255); fill-opacity: 1; white-space: pre;\" transform=\"translate(250.165,246.91239583333333)scale(0.9133333333333329)rotate(90 0 -4.75)\">4829</text></g><g class=\"point\"><path d=\"M397.63,406V238.22H418.7V406Z\" style=\"vector-effect: non-scaling-stroke; opacity: 1; stroke-width: 1.5px; fill: rgb(255, 0, 0); fill-opacity: 1; stroke: rgb(229, 236, 246); stroke-opacity: 1;\"/><text class=\"bartext bartext-inside\" text-anchor=\"middle\" data-notex=\"1\" x=\"0\" y=\"0\" style=\"font-family: 'Open Sans', verdana, arial, sans-serif; font-size: 12px; fill: rgb(255, 255, 255); fill-opacity: 1; white-space: pre;\" transform=\"translate(408.16499999999996,258.10239583333333)scale(0.9133333333333329)rotate(90 0 -4.75)\">4527</text></g><g class=\"point\"><path d=\"M423.97,406V247.3H445.03V406Z\" style=\"vector-effect: non-scaling-stroke; opacity: 1; stroke-width: 1.5px; fill: rgb(255, 0, 0); fill-opacity: 1; stroke: rgb(229, 236, 246); stroke-opacity: 1;\"/><text class=\"bartext bartext-inside\" text-anchor=\"middle\" data-notex=\"1\" x=\"0\" y=\"0\" style=\"font-family: 'Open Sans', verdana, arial, sans-serif; font-size: 12px; fill: rgb(255, 255, 255); fill-opacity: 1; white-space: pre;\" transform=\"translate(434.5,267.1711931818181)scale(0.9127272727272694)rotate(90 0 -4.75)\">4282</text></g><g class=\"point\"><path d=\"M450.3,406V267.39H471.37V406Z\" style=\"vector-effect: non-scaling-stroke; opacity: 1; stroke-width: 1.5px; fill: rgb(255, 0, 0); fill-opacity: 1; stroke: rgb(229, 236, 246); stroke-opacity: 1;\"/><text class=\"bartext bartext-inside\" text-anchor=\"middle\" data-notex=\"1\" x=\"0\" y=\"0\" style=\"font-family: 'Open Sans', verdana, arial, sans-serif; font-size: 12px; fill: rgb(255, 255, 255); fill-opacity: 1; white-space: pre;\" transform=\"translate(460.83500000000004,287.2723958333333)scale(0.9133333333333329)rotate(90 0 -4.75)\">3740</text></g><g class=\"point\"><path d=\"M581.97,406V274.62H603.03V406Z\" style=\"vector-effect: non-scaling-stroke; opacity: 1; stroke-width: 1.5px; fill: rgb(255, 0, 0); fill-opacity: 1; stroke: rgb(229, 236, 246); stroke-opacity: 1;\"/><text class=\"bartext bartext-inside\" text-anchor=\"middle\" data-notex=\"1\" x=\"0\" y=\"0\" style=\"font-family: 'Open Sans', verdana, arial, sans-serif; font-size: 12px; fill: rgb(255, 255, 255); fill-opacity: 1; white-space: pre;\" transform=\"translate(592.5,294.4911931818181)scale(0.9127272727272694)rotate(90 0 -4.75)\">3545</text></g><g class=\"point\"><path d=\"M555.63,406V275.17H576.7V406Z\" style=\"vector-effect: non-scaling-stroke; opacity: 1; stroke-width: 1.5px; fill: rgb(255, 0, 0); fill-opacity: 1; stroke: rgb(229, 236, 246); stroke-opacity: 1;\"/><text class=\"bartext bartext-inside\" text-anchor=\"middle\" data-notex=\"1\" x=\"0\" y=\"0\" style=\"font-family: 'Open Sans', verdana, arial, sans-serif; font-size: 12px; fill: rgb(255, 255, 255); fill-opacity: 1; white-space: pre;\" transform=\"translate(566.165,295.0523958333334)scale(0.9133333333333363)rotate(90 0 -4.75)\">3530</text></g><g class=\"point\"><path d=\"M660.97,406V275.95H682.03V406Z\" style=\"vector-effect: non-scaling-stroke; opacity: 1; stroke-width: 1.5px; fill: rgb(255, 0, 0); fill-opacity: 1; stroke: rgb(229, 236, 246); stroke-opacity: 1;\"/><text class=\"bartext bartext-inside\" text-anchor=\"middle\" data-notex=\"1\" x=\"0\" y=\"0\" style=\"font-family: 'Open Sans', verdana, arial, sans-serif; font-size: 12px; fill: rgb(255, 255, 255); fill-opacity: 1; white-space: pre;\" transform=\"translate(671.5,295.8211931818181)scale(0.9127272727272694)rotate(90 0 -4.75)\">3509</text></g><g class=\"point\"><path d=\"M529.3,406V284.25H550.37V406Z\" style=\"vector-effect: non-scaling-stroke; opacity: 1; stroke-width: 1.5px; fill: rgb(255, 0, 0); fill-opacity: 1; stroke: rgb(229, 236, 246); stroke-opacity: 1;\"/><text class=\"bartext bartext-inside\" text-anchor=\"middle\" data-notex=\"1\" x=\"0\" y=\"0\" style=\"font-family: 'Open Sans', verdana, arial, sans-serif; font-size: 12px; fill: rgb(255, 255, 255); fill-opacity: 1; white-space: pre;\" transform=\"translate(539.835,304.13239583333336)scale(0.9133333333333363)rotate(90 0 -4.75)\">3285</text></g><g class=\"point\"><path d=\"M81.63,406V285.92H102.7V406Z\" style=\"vector-effect: non-scaling-stroke; opacity: 1; stroke-width: 1.5px; fill: rgb(255, 0, 0); fill-opacity: 1; stroke: rgb(229, 236, 246); stroke-opacity: 1;\"/><text class=\"bartext bartext-inside\" text-anchor=\"middle\" data-notex=\"1\" x=\"0\" y=\"0\" style=\"font-family: 'Open Sans', verdana, arial, sans-serif; font-size: 12px; fill: rgb(255, 255, 255); fill-opacity: 1; white-space: pre;\" transform=\"translate(92.16499999999999,305.8023958333334)scale(0.9133333333333338)rotate(90 0 -4.75)\">3240</text></g><g class=\"point\"><path d=\"M476.63,406V292.85H497.7V406Z\" style=\"vector-effect: non-scaling-stroke; opacity: 1; stroke-width: 1.5px; fill: rgb(255, 0, 0); fill-opacity: 1; stroke: rgb(229, 236, 246); stroke-opacity: 1;\"/><text class=\"bartext bartext-inside\" text-anchor=\"middle\" data-notex=\"1\" x=\"0\" y=\"0\" style=\"font-family: 'Open Sans', verdana, arial, sans-serif; font-size: 12px; fill: rgb(255, 255, 255); fill-opacity: 1; white-space: pre;\" transform=\"translate(487.16499999999996,312.7323958333333)scale(0.9133333333333329)rotate(90 0 -4.75)\">3053</text></g><g class=\"point\"><path d=\"M502.97,406V297.93H524.03V406Z\" style=\"vector-effect: non-scaling-stroke; opacity: 1; stroke-width: 1.5px; fill: rgb(255, 0, 0); fill-opacity: 1; stroke: rgb(229, 236, 246); stroke-opacity: 1;\"/><text class=\"bartext bartext-inside\" text-anchor=\"middle\" data-notex=\"1\" x=\"0\" y=\"0\" style=\"font-family: 'Open Sans', verdana, arial, sans-serif; font-size: 12px; fill: rgb(255, 255, 255); fill-opacity: 1; white-space: pre;\" transform=\"translate(513.5,317.8011931818181)scale(0.9127272727272694)rotate(90 0 -4.75)\">2916</text></g><g class=\"point\"><path d=\"M608.3,406V298.6H629.37V406Z\" style=\"vector-effect: non-scaling-stroke; opacity: 1; stroke-width: 1.5px; fill: rgb(255, 0, 0); fill-opacity: 1; stroke: rgb(229, 236, 246); stroke-opacity: 1;\"/><text class=\"bartext bartext-inside\" text-anchor=\"middle\" data-notex=\"1\" x=\"0\" y=\"0\" style=\"font-family: 'Open Sans', verdana, arial, sans-serif; font-size: 12px; fill: rgb(255, 255, 255); fill-opacity: 1; white-space: pre;\" transform=\"translate(618.835,318.4823958333334)scale(0.9133333333333363)rotate(90 0 -4.75)\">2898</text></g><g class=\"point\"><path d=\"M766.3,406V304.86H787.37V406Z\" style=\"vector-effect: non-scaling-stroke; opacity: 1; stroke-width: 1.5px; fill: rgb(255, 0, 0); fill-opacity: 1; stroke: rgb(229, 236, 246); stroke-opacity: 1;\"/><text class=\"bartext bartext-inside\" text-anchor=\"middle\" data-notex=\"1\" x=\"0\" y=\"0\" style=\"font-family: 'Open Sans', verdana, arial, sans-serif; font-size: 12px; fill: rgb(255, 255, 255); fill-opacity: 1; white-space: pre;\" transform=\"translate(776.835,324.7423958333334)scale(0.9133333333333363)rotate(90 0 -4.75)\">2729</text></g><g class=\"point\"><path d=\"M107.97,406V307.38H129.03V406Z\" style=\"vector-effect: non-scaling-stroke; opacity: 1; stroke-width: 1.5px; fill: rgb(255, 0, 0); fill-opacity: 1; stroke: rgb(229, 236, 246); stroke-opacity: 1;\"/><text class=\"bartext bartext-inside\" text-anchor=\"middle\" data-notex=\"1\" x=\"0\" y=\"0\" style=\"font-family: 'Open Sans', verdana, arial, sans-serif; font-size: 12px; fill: rgb(255, 255, 255); fill-opacity: 1; white-space: pre;\" transform=\"translate(118.5,327.25119318181817)scale(0.9127272727272728)rotate(90 0 -4.75)\">2661</text></g><g class=\"point\"><path d=\"M739.97,406V308.94H761.03V406Z\" style=\"vector-effect: non-scaling-stroke; opacity: 1; stroke-width: 1.5px; fill: rgb(255, 0, 0); fill-opacity: 1; stroke: rgb(229, 236, 246); stroke-opacity: 1;\"/><text class=\"bartext bartext-inside\" text-anchor=\"middle\" data-notex=\"1\" x=\"0\" y=\"0\" style=\"font-family: 'Open Sans', verdana, arial, sans-serif; font-size: 12px; fill: rgb(255, 255, 255); fill-opacity: 1; white-space: pre;\" transform=\"translate(750.5,328.8111931818181)scale(0.9127272727272694)rotate(90 0 -4.75)\">2619</text></g><g class=\"point\"><path d=\"M713.63,406V314.46H734.7V406Z\" style=\"vector-effect: non-scaling-stroke; opacity: 1; stroke-width: 1.5px; fill: rgb(82, 150, 221); fill-opacity: 1; stroke: rgb(229, 236, 246); stroke-opacity: 1;\"/><text class=\"bartext bartext-inside\" text-anchor=\"middle\" data-notex=\"1\" x=\"0\" y=\"0\" style=\"font-family: 'Open Sans', verdana, arial, sans-serif; font-size: 12px; fill: rgb(68, 68, 68); fill-opacity: 1; white-space: pre;\" transform=\"translate(724.165,334.34239583333334)scale(0.9133333333333363)rotate(90 0 -4.75)\">2470</text></g><g class=\"point\"><path d=\"M634.63,406V319.76H655.7V406Z\" style=\"vector-effect: non-scaling-stroke; opacity: 1; stroke-width: 1.5px; fill: rgb(82, 150, 221); fill-opacity: 1; stroke: rgb(229, 236, 246); stroke-opacity: 1;\"/><text class=\"bartext bartext-inside\" text-anchor=\"middle\" data-notex=\"1\" x=\"0\" y=\"0\" style=\"font-family: 'Open Sans', verdana, arial, sans-serif; font-size: 12px; fill: rgb(68, 68, 68); fill-opacity: 1; white-space: pre;\" transform=\"translate(645.165,339.64239583333335)scale(0.9133333333333363)rotate(90 0 -4.75)\">2327</text></g><g class=\"point\"><path d=\"M687.3,406V326.02H708.37V406Z\" style=\"vector-effect: non-scaling-stroke; opacity: 1; stroke-width: 1.5px; fill: rgb(82, 150, 221); fill-opacity: 1; stroke: rgb(229, 236, 246); stroke-opacity: 1;\"/><text class=\"bartext bartext-inside\" text-anchor=\"middle\" data-notex=\"1\" x=\"0\" y=\"0\" style=\"font-family: 'Open Sans', verdana, arial, sans-serif; font-size: 12px; fill: rgb(68, 68, 68); fill-opacity: 1; white-space: pre;\" transform=\"translate(697.835,345.90239583333334)scale(0.9133333333333363)rotate(90 0 -4.75)\">2158</text></g><g class=\"point\"><path d=\"M2.63,406V341.33H23.7V406Z\" style=\"vector-effect: non-scaling-stroke; opacity: 1; stroke-width: 1.5px; fill: rgb(82, 150, 221); fill-opacity: 1; stroke: rgb(229, 236, 246); stroke-opacity: 1;\"/><text class=\"bartext bartext-inside\" text-anchor=\"middle\" data-notex=\"1\" x=\"0\" y=\"0\" style=\"font-family: 'Open Sans', verdana, arial, sans-serif; font-size: 12px; fill: rgb(68, 68, 68); fill-opacity: 1; white-space: pre;\" transform=\"translate(13.165,361.2123958333333)scale(0.9133333333333333)rotate(90 0 -4.75)\">1745</text></g></g></g></g></g><g class=\"overplot\"/><path class=\"xlines-above crisp\" d=\"M0,0\" style=\"fill: none;\"/><path class=\"ylines-above crisp\" d=\"M0,0\" style=\"fill: none;\"/><g class=\"overlines-above\"/><g class=\"xaxislayer-above\"><g class=\"xtick\"><text text-anchor=\"start\" x=\"0\" y=\"479\" transform=\"translate(93.17,0) rotate(45,0,473)\" style=\"font-family: 'Open Sans', verdana, arial, sans-serif; font-size: 12px; fill: rgb(42, 63, 95); fill-opacity: 1; white-space: pre; opacity: 1;\"><tspan class=\"line\" dy=\"0em\" x=\"0\" y=\"479\">Nov 1</tspan><tspan class=\"line\" dy=\"1.3em\" x=\"0\" y=\"479\">2020</tspan></text></g><g class=\"xtick\"><text text-anchor=\"start\" x=\"0\" y=\"479\" style=\"font-family: 'Open Sans', verdana, arial, sans-serif; font-size: 12px; fill: rgb(42, 63, 95); fill-opacity: 1; white-space: pre; opacity: 1;\" transform=\"translate(119.5,0) rotate(45,0,473)\">Nov 2</text></g><g class=\"xtick\"><text text-anchor=\"start\" x=\"0\" y=\"479\" style=\"font-family: 'Open Sans', verdana, arial, sans-serif; font-size: 12px; fill: rgb(42, 63, 95); fill-opacity: 1; white-space: pre; opacity: 1;\" transform=\"translate(145.82999999999998,0) rotate(45,0,473)\">Nov 3</text></g><g class=\"xtick\"><text text-anchor=\"start\" x=\"0\" y=\"479\" style=\"font-family: 'Open Sans', verdana, arial, sans-serif; font-size: 12px; fill: rgb(42, 63, 95); fill-opacity: 1; white-space: pre; opacity: 1;\" transform=\"translate(172.17000000000002,0) rotate(45,0,473)\">Nov 4</text></g><g class=\"xtick\"><text text-anchor=\"start\" x=\"0\" y=\"479\" style=\"font-family: 'Open Sans', verdana, arial, sans-serif; font-size: 12px; fill: rgb(42, 63, 95); fill-opacity: 1; white-space: pre; opacity: 1;\" transform=\"translate(198.5,0) rotate(45,0,473)\">Nov 5</text></g><g class=\"xtick\"><text text-anchor=\"start\" x=\"0\" y=\"479\" style=\"font-family: 'Open Sans', verdana, arial, sans-serif; font-size: 12px; fill: rgb(42, 63, 95); fill-opacity: 1; white-space: pre; opacity: 1;\" transform=\"translate(224.83,0) rotate(45,0,473)\">Nov 6</text></g><g class=\"xtick\"><text text-anchor=\"start\" x=\"0\" y=\"479\" style=\"font-family: 'Open Sans', verdana, arial, sans-serif; font-size: 12px; fill: rgb(42, 63, 95); fill-opacity: 1; white-space: pre; opacity: 1;\" transform=\"translate(251.17,0) rotate(45,0,473)\">Nov 7</text></g><g class=\"xtick\"><text text-anchor=\"start\" x=\"0\" y=\"479\" style=\"font-family: 'Open Sans', verdana, arial, sans-serif; font-size: 12px; fill: rgb(42, 63, 95); fill-opacity: 1; white-space: pre; opacity: 1;\" transform=\"translate(277.5,0) rotate(45,0,473)\">Nov 8</text></g><g class=\"xtick\"><text text-anchor=\"start\" x=\"0\" y=\"479\" style=\"font-family: 'Open Sans', verdana, arial, sans-serif; font-size: 12px; fill: rgb(42, 63, 95); fill-opacity: 1; white-space: pre; opacity: 1;\" transform=\"translate(303.83000000000004,0) rotate(45,0,473)\">Nov 9</text></g><g class=\"xtick\"><text text-anchor=\"start\" x=\"0\" y=\"479\" style=\"font-family: 'Open Sans', verdana, arial, sans-serif; font-size: 12px; fill: rgb(42, 63, 95); fill-opacity: 1; white-space: pre; opacity: 1;\" transform=\"translate(330.16999999999996,0) rotate(45,0,473)\">Nov 10</text></g><g class=\"xtick\"><text text-anchor=\"start\" x=\"0\" y=\"479\" style=\"font-family: 'Open Sans', verdana, arial, sans-serif; font-size: 12px; fill: rgb(42, 63, 95); fill-opacity: 1; white-space: pre; opacity: 1;\" transform=\"translate(356.5,0) rotate(45,0,473)\">Nov 11</text></g><g class=\"xtick\"><text text-anchor=\"start\" x=\"0\" y=\"479\" style=\"font-family: 'Open Sans', verdana, arial, sans-serif; font-size: 12px; fill: rgb(42, 63, 95); fill-opacity: 1; white-space: pre; opacity: 1;\" transform=\"translate(382.83,0) rotate(45,0,473)\">Nov 12</text></g><g class=\"xtick\"><text text-anchor=\"start\" x=\"0\" y=\"479\" style=\"font-family: 'Open Sans', verdana, arial, sans-serif; font-size: 12px; fill: rgb(42, 63, 95); fill-opacity: 1; white-space: pre; opacity: 1;\" transform=\"translate(409.17,0) rotate(45,0,473)\">Nov 13</text></g><g class=\"xtick\"><text text-anchor=\"start\" x=\"0\" y=\"479\" style=\"font-family: 'Open Sans', verdana, arial, sans-serif; font-size: 12px; fill: rgb(42, 63, 95); fill-opacity: 1; white-space: pre; opacity: 1;\" transform=\"translate(435.5,0) rotate(45,0,473)\">Nov 14</text></g><g class=\"xtick\"><text text-anchor=\"start\" x=\"0\" y=\"479\" style=\"font-family: 'Open Sans', verdana, arial, sans-serif; font-size: 12px; fill: rgb(42, 63, 95); fill-opacity: 1; white-space: pre; opacity: 1;\" transform=\"translate(461.83,0) rotate(45,0,473)\">Nov 15</text></g><g class=\"xtick\"><text text-anchor=\"start\" x=\"0\" y=\"479\" style=\"font-family: 'Open Sans', verdana, arial, sans-serif; font-size: 12px; fill: rgb(42, 63, 95); fill-opacity: 1; white-space: pre; opacity: 1;\" transform=\"translate(488.17,0) rotate(45,0,473)\">Nov 16</text></g><g class=\"xtick\"><text text-anchor=\"start\" x=\"0\" y=\"479\" style=\"font-family: 'Open Sans', verdana, arial, sans-serif; font-size: 12px; fill: rgb(42, 63, 95); fill-opacity: 1; white-space: pre; opacity: 1;\" transform=\"translate(514.5,0) rotate(45,0,473)\">Nov 17</text></g><g class=\"xtick\"><text text-anchor=\"start\" x=\"0\" y=\"479\" style=\"font-family: 'Open Sans', verdana, arial, sans-serif; font-size: 12px; fill: rgb(42, 63, 95); fill-opacity: 1; white-space: pre; opacity: 1;\" transform=\"translate(540.8299999999999,0) rotate(45,0,473)\">Nov 18</text></g><g class=\"xtick\"><text text-anchor=\"start\" x=\"0\" y=\"479\" style=\"font-family: 'Open Sans', verdana, arial, sans-serif; font-size: 12px; fill: rgb(42, 63, 95); fill-opacity: 1; white-space: pre; opacity: 1;\" transform=\"translate(567.1700000000001,0) rotate(45,0,473)\">Nov 19</text></g><g class=\"xtick\"><text text-anchor=\"start\" x=\"0\" y=\"479\" style=\"font-family: 'Open Sans', verdana, arial, sans-serif; font-size: 12px; fill: rgb(42, 63, 95); fill-opacity: 1; white-space: pre; opacity: 1;\" transform=\"translate(593.5,0) rotate(45,0,473)\">Nov 20</text></g><g class=\"xtick\"><text text-anchor=\"start\" x=\"0\" y=\"479\" style=\"font-family: 'Open Sans', verdana, arial, sans-serif; font-size: 12px; fill: rgb(42, 63, 95); fill-opacity: 1; white-space: pre; opacity: 1;\" transform=\"translate(619.83,0) rotate(45,0,473)\">Nov 21</text></g><g class=\"xtick\"><text text-anchor=\"start\" x=\"0\" y=\"479\" style=\"font-family: 'Open Sans', verdana, arial, sans-serif; font-size: 12px; fill: rgb(42, 63, 95); fill-opacity: 1; white-space: pre; opacity: 1;\" transform=\"translate(646.17,0) rotate(45,0,473)\">Nov 22</text></g><g class=\"xtick\"><text text-anchor=\"start\" x=\"0\" y=\"479\" style=\"font-family: 'Open Sans', verdana, arial, sans-serif; font-size: 12px; fill: rgb(42, 63, 95); fill-opacity: 1; white-space: pre; opacity: 1;\" transform=\"translate(672.5,0) rotate(45,0,473)\">Nov 23</text></g><g class=\"xtick\"><text text-anchor=\"start\" x=\"0\" y=\"479\" style=\"font-family: 'Open Sans', verdana, arial, sans-serif; font-size: 12px; fill: rgb(42, 63, 95); fill-opacity: 1; white-space: pre; opacity: 1;\" transform=\"translate(698.83,0) rotate(45,0,473)\">Nov 24</text></g><g class=\"xtick\"><text text-anchor=\"start\" x=\"0\" y=\"479\" style=\"font-family: 'Open Sans', verdana, arial, sans-serif; font-size: 12px; fill: rgb(42, 63, 95); fill-opacity: 1; white-space: pre; opacity: 1;\" transform=\"translate(725.17,0) rotate(45,0,473)\">Nov 25</text></g><g class=\"xtick\"><text text-anchor=\"start\" x=\"0\" y=\"479\" style=\"font-family: 'Open Sans', verdana, arial, sans-serif; font-size: 12px; fill: rgb(42, 63, 95); fill-opacity: 1; white-space: pre; opacity: 1;\" transform=\"translate(751.5,0) rotate(45,0,473)\">Nov 26</text></g><g class=\"xtick\"><text text-anchor=\"start\" x=\"0\" y=\"479\" style=\"font-family: 'Open Sans', verdana, arial, sans-serif; font-size: 12px; fill: rgb(42, 63, 95); fill-opacity: 1; white-space: pre; opacity: 1;\" transform=\"translate(777.83,0) rotate(45,0,473)\">Nov 27</text></g><g class=\"xtick\"><text text-anchor=\"start\" x=\"0\" y=\"479\" style=\"font-family: 'Open Sans', verdana, arial, sans-serif; font-size: 12px; fill: rgb(42, 63, 95); fill-opacity: 1; white-space: pre; opacity: 1;\" transform=\"translate(804.17,0) rotate(45,0,473)\">Nov 28</text></g><g class=\"xtick\"><text text-anchor=\"start\" x=\"0\" y=\"479\" style=\"font-family: 'Open Sans', verdana, arial, sans-serif; font-size: 12px; fill: rgb(42, 63, 95); fill-opacity: 1; white-space: pre; opacity: 1;\" transform=\"translate(830.5,0) rotate(45,0,473)\">Nov 29</text></g><g class=\"xtick\"><text text-anchor=\"start\" x=\"0\" y=\"479\" style=\"font-family: 'Open Sans', verdana, arial, sans-serif; font-size: 12px; fill: rgb(42, 63, 95); fill-opacity: 1; white-space: pre; opacity: 1;\" transform=\"translate(856.83,0) rotate(45,0,473)\">Nov 30</text></g></g><g class=\"yaxislayer-above\"><g class=\"ytick\"><text text-anchor=\"end\" x=\"79\" y=\"4.199999999999999\" transform=\"translate(0,466)\" style=\"font-family: 'Open Sans', verdana, arial, sans-serif; font-size: 12px; fill: rgb(42, 63, 95); fill-opacity: 1; white-space: pre; opacity: 1;\">0</text></g><g class=\"ytick\"><text text-anchor=\"end\" x=\"79\" y=\"4.199999999999999\" style=\"font-family: 'Open Sans', verdana, arial, sans-serif; font-size: 12px; fill: rgb(42, 63, 95); fill-opacity: 1; white-space: pre; opacity: 1;\" transform=\"translate(0,391.88)\">2k</text></g><g class=\"ytick\"><text text-anchor=\"end\" x=\"79\" y=\"4.199999999999999\" style=\"font-family: 'Open Sans', verdana, arial, sans-serif; font-size: 12px; fill: rgb(42, 63, 95); fill-opacity: 1; white-space: pre; opacity: 1;\" transform=\"translate(0,317.75)\">4k</text></g><g class=\"ytick\"><text text-anchor=\"end\" x=\"79\" y=\"4.199999999999999\" style=\"font-family: 'Open Sans', verdana, arial, sans-serif; font-size: 12px; fill: rgb(42, 63, 95); fill-opacity: 1; white-space: pre; opacity: 1;\" transform=\"translate(0,243.63)\">6k</text></g><g class=\"ytick\"><text text-anchor=\"end\" x=\"79\" y=\"4.199999999999999\" style=\"font-family: 'Open Sans', verdana, arial, sans-serif; font-size: 12px; fill: rgb(42, 63, 95); fill-opacity: 1; white-space: pre; opacity: 1;\" transform=\"translate(0,169.51)\">8k</text></g><g class=\"ytick\"><text text-anchor=\"end\" x=\"79\" y=\"4.199999999999999\" style=\"font-family: 'Open Sans', verdana, arial, sans-serif; font-size: 12px; fill: rgb(42, 63, 95); fill-opacity: 1; white-space: pre; opacity: 1;\" transform=\"translate(0,95.38)\">10k</text></g></g><g class=\"overaxes-above\"/></g></g><g class=\"polarlayer\"/><g class=\"ternarylayer\"/><g class=\"geolayer\"/><g class=\"funnelarealayer\"/><g class=\"pielayer\"/><g class=\"iciclelayer\"/><g class=\"treemaplayer\"/><g class=\"sunburstlayer\"/><g class=\"glimages\"/><defs id=\"topdefs-d2bafa\"><g class=\"clips\"/></defs><g class=\"layer-above\"><g class=\"imagelayer\"/><g class=\"shapelayer\"/></g><g class=\"infolayer\"><g class=\"g-gtitle\"><text class=\"gtitle\" x=\"475\" y=\"30\" text-anchor=\"middle\" dy=\"0.7em\" style=\"font-family: 'Open Sans', verdana, arial, sans-serif; font-size: 17px; fill: rgb(42, 63, 95); opacity: 1; font-weight: normal; white-space: pre;\">Comments Created in Each Day of Nov 2020</text></g><g class=\"g-xtitle\"><text class=\"xtitle\" x=\"475\" y=\"538.3927734375\" text-anchor=\"middle\" style=\"font-family: 'Open Sans', verdana, arial, sans-serif; font-size: 14px; fill: rgb(42, 63, 95); opacity: 1; font-weight: normal; white-space: pre;\">Comments Creation Date</text></g><g class=\"g-ytitle\"><text class=\"ytitle\" transform=\"rotate(-90,34.16875,263)\" x=\"34.16875\" y=\"263\" text-anchor=\"middle\" style=\"font-family: 'Open Sans', verdana, arial, sans-serif; font-size: 14px; fill: rgb(42, 63, 95); opacity: 1; font-weight: normal; white-space: pre;\">n_comments</text></g></g></svg>"
      ]
     },
     "metadata": {},
     "output_type": "display_data"
    }
   ],
   "source": [
    "bar_dates(df_nov_20, \"Comments Created in Each Day of Nov 2020\", 2600)"
   ]
  },
  {
   "cell_type": "code",
   "execution_count": 67,
   "id": "e18437c8",
   "metadata": {},
   "outputs": [
    {
     "data": {
      "image/svg+xml": [
       "<svg class=\"main-svg\" xmlns=\"http://www.w3.org/2000/svg\" xmlns:xlink=\"http://www.w3.org/1999/xlink\" width=\"950\" height=\"550\" style=\"\" viewBox=\"0 0 950 550\"><rect x=\"0\" y=\"0\" width=\"950\" height=\"550\" style=\"fill: rgb(255, 255, 255); fill-opacity: 1;\"/><defs id=\"defs-efdc61\"><g class=\"clips\"><clipPath id=\"clipefdc61xyplot\" class=\"plotclip\"><rect width=\"790\" height=\"410\"/></clipPath><clipPath class=\"axesclip\" id=\"clipefdc61x\"><rect x=\"80\" y=\"0\" width=\"790\" height=\"550\"/></clipPath><clipPath class=\"axesclip\" id=\"clipefdc61y\"><rect x=\"0\" y=\"60\" width=\"950\" height=\"410\"/></clipPath><clipPath class=\"axesclip\" id=\"clipefdc61xy\"><rect x=\"80\" y=\"60\" width=\"790\" height=\"410\"/></clipPath></g><g class=\"gradients\"/><g class=\"patterns\"/></defs><g class=\"bglayer\"><rect class=\"bg\" x=\"80\" y=\"60\" width=\"790\" height=\"410\" style=\"fill: rgb(229, 236, 246); fill-opacity: 1; stroke-width: 0;\"/></g><g class=\"layer-below\"><g class=\"imagelayer\"/><g class=\"shapelayer\"/></g><g class=\"cartesianlayer\"><g class=\"subplot xy\"><g class=\"layer-subplot\"><g class=\"shapelayer\"/><g class=\"imagelayer\"/></g><g class=\"gridlayer\"><g class=\"x\"/><g class=\"y\"><path class=\"ygrid crisp\" transform=\"translate(0,405.81)\" d=\"M80,0h790\" style=\"stroke: rgb(255, 255, 255); stroke-opacity: 1; stroke-width: 1px;\"/><path class=\"ygrid crisp\" transform=\"translate(0,341.62)\" d=\"M80,0h790\" style=\"stroke: rgb(255, 255, 255); stroke-opacity: 1; stroke-width: 1px;\"/><path class=\"ygrid crisp\" transform=\"translate(0,277.43)\" d=\"M80,0h790\" style=\"stroke: rgb(255, 255, 255); stroke-opacity: 1; stroke-width: 1px;\"/><path class=\"ygrid crisp\" transform=\"translate(0,213.24)\" d=\"M80,0h790\" style=\"stroke: rgb(255, 255, 255); stroke-opacity: 1; stroke-width: 1px;\"/><path class=\"ygrid crisp\" transform=\"translate(0,149.05)\" d=\"M80,0h790\" style=\"stroke: rgb(255, 255, 255); stroke-opacity: 1; stroke-width: 1px;\"/><path class=\"ygrid crisp\" transform=\"translate(0,84.86)\" d=\"M80,0h790\" style=\"stroke: rgb(255, 255, 255); stroke-opacity: 1; stroke-width: 1px;\"/></g></g><g class=\"zerolinelayer\"><path class=\"yzl zl crisp\" transform=\"translate(0,470)\" d=\"M80,0h790\" style=\"stroke: rgb(255, 255, 255); stroke-opacity: 1; stroke-width: 2px;\"/></g><path class=\"xlines-below\"/><path class=\"ylines-below\"/><g class=\"overlines-below\"/><g class=\"xaxislayer-below\"/><g class=\"yaxislayer-below\"/><g class=\"overaxes-below\"/><g class=\"plot\" transform=\"translate(80,60)\" clip-path=\"url(#clipefdc61xyplot)\"><g class=\"barlayer mlayer\"><g class=\"trace bars\" style=\"opacity: 1;\"><g class=\"points\"><g class=\"point\"><path d=\"M180.94,410V20.5H201.32V410Z\" style=\"vector-effect: non-scaling-stroke; opacity: 1; stroke-width: 1.5px; fill: rgb(255, 0, 0); fill-opacity: 1; stroke: rgb(229, 236, 246); stroke-opacity: 1;\"/><text class=\"bartext bartext-inside\" text-anchor=\"middle\" data-notex=\"1\" x=\"0\" y=\"0\" style=\"font-family: 'Open Sans', verdana, arial, sans-serif; font-size: 12px; fill: rgb(255, 255, 255); fill-opacity: 1; white-space: pre;\" transform=\"translate(191.13,39.60941287878788)scale(0.8715151515151512)rotate(90 0 -4.75)\">6068</text></g><g class=\"point\"><path d=\"M231.9,410V93.03H252.29V410Z\" style=\"vector-effect: non-scaling-stroke; opacity: 1; stroke-width: 1.5px; fill: rgb(255, 0, 0); fill-opacity: 1; stroke: rgb(229, 236, 246); stroke-opacity: 1;\"/><text class=\"bartext bartext-inside\" text-anchor=\"middle\" data-notex=\"1\" x=\"0\" y=\"0\" style=\"font-family: 'Open Sans', verdana, arial, sans-serif; font-size: 12px; fill: rgb(255, 255, 255); fill-opacity: 1; white-space: pre;\" transform=\"translate(242.095,112.15061553030301)scale(0.8721212121212113)rotate(90 0 -4.75)\">4938</text></g><g class=\"point\"><path d=\"M206.42,410V148.04H226.81V410Z\" style=\"vector-effect: non-scaling-stroke; opacity: 1; stroke-width: 1.5px; fill: rgb(255, 0, 0); fill-opacity: 1; stroke: rgb(229, 236, 246); stroke-opacity: 1;\"/><text class=\"bartext bartext-inside\" text-anchor=\"middle\" data-notex=\"1\" x=\"0\" y=\"0\" style=\"font-family: 'Open Sans', verdana, arial, sans-serif; font-size: 12px; fill: rgb(255, 255, 255); fill-opacity: 1; white-space: pre;\" transform=\"translate(216.615,167.16061553030303)scale(0.872121212121213)rotate(90 0 -4.75)\">4081</text></g><g class=\"point\"><path d=\"M155.45,410V153.44H175.84V410Z\" style=\"vector-effect: non-scaling-stroke; opacity: 1; stroke-width: 1.5px; fill: rgb(255, 0, 0); fill-opacity: 1; stroke: rgb(229, 236, 246); stroke-opacity: 1;\"/><text class=\"bartext bartext-inside\" text-anchor=\"middle\" data-notex=\"1\" x=\"0\" y=\"0\" style=\"font-family: 'Open Sans', verdana, arial, sans-serif; font-size: 12px; fill: rgb(255, 255, 255); fill-opacity: 1; white-space: pre;\" transform=\"translate(165.64499999999998,172.56061553030304)scale(0.872121212121213)rotate(90 0 -4.75)\">3997</text></g><g class=\"point\"><path d=\"M716.1,410V155.04H736.48V410Z\" style=\"vector-effect: non-scaling-stroke; opacity: 1; stroke-width: 1.5px; fill: rgb(255, 0, 0); fill-opacity: 1; stroke: rgb(229, 236, 246); stroke-opacity: 1;\"/><text class=\"bartext bartext-inside\" text-anchor=\"middle\" data-notex=\"1\" x=\"0\" y=\"0\" style=\"font-family: 'Open Sans', verdana, arial, sans-serif; font-size: 12px; fill: rgb(255, 255, 255); fill-opacity: 1; white-space: pre;\" transform=\"translate(726.29,174.14941287878787)scale(0.8715151515151512)rotate(90 0 -4.75)\">3972</text></g><g class=\"point\"><path d=\"M512.23,410V171.09H532.61V410Z\" style=\"vector-effect: non-scaling-stroke; opacity: 1; stroke-width: 1.5px; fill: rgb(255, 0, 0); fill-opacity: 1; stroke: rgb(229, 236, 246); stroke-opacity: 1;\"/><text class=\"bartext bartext-inside\" text-anchor=\"middle\" data-notex=\"1\" x=\"0\" y=\"0\" style=\"font-family: 'Open Sans', verdana, arial, sans-serif; font-size: 12px; fill: rgb(255, 255, 255); fill-opacity: 1; white-space: pre;\" transform=\"translate(522.4200000000001,190.19941287878788)scale(0.8715151515151512)rotate(90 0 -4.75)\">3722</text></g><g class=\"point\"><path d=\"M690.61,410V181.87H711V410Z\" style=\"vector-effect: non-scaling-stroke; opacity: 1; stroke-width: 1.5px; fill: rgb(255, 0, 0); fill-opacity: 1; stroke: rgb(229, 236, 246); stroke-opacity: 1;\"/><text class=\"bartext bartext-inside\" text-anchor=\"middle\" data-notex=\"1\" x=\"0\" y=\"0\" style=\"font-family: 'Open Sans', verdana, arial, sans-serif; font-size: 12px; fill: rgb(255, 255, 255); fill-opacity: 1; white-space: pre;\" transform=\"translate(700.8050000000001,200.99061553030302)scale(0.8721212121212113)rotate(90 0 -4.75)\">3554</text></g><g class=\"point\"><path d=\"M563.19,410V186.69H583.58V410Z\" style=\"vector-effect: non-scaling-stroke; opacity: 1; stroke-width: 1.5px; fill: rgb(255, 0, 0); fill-opacity: 1; stroke: rgb(229, 236, 246); stroke-opacity: 1;\"/><text class=\"bartext bartext-inside\" text-anchor=\"middle\" data-notex=\"1\" x=\"0\" y=\"0\" style=\"font-family: 'Open Sans', verdana, arial, sans-serif; font-size: 12px; fill: rgb(255, 255, 255); fill-opacity: 1; white-space: pre;\" transform=\"translate(573.385,205.810615530303)scale(0.8721212121212113)rotate(90 0 -4.75)\">3479</text></g><g class=\"point\"><path d=\"M384.81,410V194H405.19V410Z\" style=\"vector-effect: non-scaling-stroke; opacity: 1; stroke-width: 1.5px; fill: rgb(255, 0, 0); fill-opacity: 1; stroke: rgb(229, 236, 246); stroke-opacity: 1;\"/><text class=\"bartext bartext-inside\" text-anchor=\"middle\" data-notex=\"1\" x=\"0\" y=\"0\" style=\"font-family: 'Open Sans', verdana, arial, sans-serif; font-size: 12px; fill: rgb(255, 255, 255); fill-opacity: 1; white-space: pre;\" transform=\"translate(395,213.10941287878788)scale(0.8715151515151512)rotate(90 0 -4.75)\">3365</text></g><g class=\"point\"><path d=\"M359.32,410V207.87H379.71V410Z\" style=\"vector-effect: non-scaling-stroke; opacity: 1; stroke-width: 1.5px; fill: rgb(255, 0, 0); fill-opacity: 1; stroke: rgb(229, 236, 246); stroke-opacity: 1;\"/><text class=\"bartext bartext-inside\" text-anchor=\"middle\" data-notex=\"1\" x=\"0\" y=\"0\" style=\"font-family: 'Open Sans', verdana, arial, sans-serif; font-size: 12px; fill: rgb(255, 255, 255); fill-opacity: 1; white-space: pre;\" transform=\"translate(369.515,226.99061553030302)scale(0.8721212121212113)rotate(90 0 -4.75)\">3149</text></g><g class=\"point\"><path d=\"M537.71,410V215.89H558.1V410Z\" style=\"vector-effect: non-scaling-stroke; opacity: 1; stroke-width: 1.5px; fill: rgb(255, 0, 0); fill-opacity: 1; stroke: rgb(229, 236, 246); stroke-opacity: 1;\"/><text class=\"bartext bartext-inside\" text-anchor=\"middle\" data-notex=\"1\" x=\"0\" y=\"0\" style=\"font-family: 'Open Sans', verdana, arial, sans-serif; font-size: 12px; fill: rgb(255, 255, 255); fill-opacity: 1; white-space: pre;\" transform=\"translate(547.905,235.010615530303)scale(0.8721212121212113)rotate(90 0 -4.75)\">3024</text></g><g class=\"point\"><path d=\"M257.39,410V215.96H277.77V410Z\" style=\"vector-effect: non-scaling-stroke; opacity: 1; stroke-width: 1.5px; fill: rgb(255, 0, 0); fill-opacity: 1; stroke: rgb(229, 236, 246); stroke-opacity: 1;\"/><text class=\"bartext bartext-inside\" text-anchor=\"middle\" data-notex=\"1\" x=\"0\" y=\"0\" style=\"font-family: 'Open Sans', verdana, arial, sans-serif; font-size: 12px; fill: rgb(255, 255, 255); fill-opacity: 1; white-space: pre;\" transform=\"translate(267.58,235.0694128787879)scale(0.8715151515151512)rotate(90 0 -4.75)\">3023</text></g><g class=\"point\"><path d=\"M282.87,410V216.85H303.26V410Z\" style=\"vector-effect: non-scaling-stroke; opacity: 1; stroke-width: 1.5px; fill: rgb(255, 0, 0); fill-opacity: 1; stroke: rgb(229, 236, 246); stroke-opacity: 1;\"/><text class=\"bartext bartext-inside\" text-anchor=\"middle\" data-notex=\"1\" x=\"0\" y=\"0\" style=\"font-family: 'Open Sans', verdana, arial, sans-serif; font-size: 12px; fill: rgb(255, 255, 255); fill-opacity: 1; white-space: pre;\" transform=\"translate(293.065,235.970615530303)scale(0.8721212121212113)rotate(90 0 -4.75)\">3009</text></g><g class=\"point\"><path d=\"M410.29,410V220.13H430.68V410Z\" style=\"vector-effect: non-scaling-stroke; opacity: 1; stroke-width: 1.5px; fill: rgb(255, 0, 0); fill-opacity: 1; stroke: rgb(229, 236, 246); stroke-opacity: 1;\"/><text class=\"bartext bartext-inside\" text-anchor=\"middle\" data-notex=\"1\" x=\"0\" y=\"0\" style=\"font-family: 'Open Sans', verdana, arial, sans-serif; font-size: 12px; fill: rgb(255, 255, 255); fill-opacity: 1; white-space: pre;\" transform=\"translate(420.485,239.250615530303)scale(0.8721212121212113)rotate(90 0 -4.75)\">2958</text></g><g class=\"point\"><path d=\"M435.77,410V236.37H456.16V410Z\" style=\"vector-effect: non-scaling-stroke; opacity: 1; stroke-width: 1.5px; fill: rgb(255, 0, 0); fill-opacity: 1; stroke: rgb(229, 236, 246); stroke-opacity: 1;\"/><text class=\"bartext bartext-inside\" text-anchor=\"middle\" data-notex=\"1\" x=\"0\" y=\"0\" style=\"font-family: 'Open Sans', verdana, arial, sans-serif; font-size: 12px; fill: rgb(255, 255, 255); fill-opacity: 1; white-space: pre;\" transform=\"translate(445.96500000000003,255.49061553030307)scale(0.8721212121212147)rotate(90 0 -4.75)\">2705</text></g><g class=\"point\"><path d=\"M486.74,410V237.91H507.13V410Z\" style=\"vector-effect: non-scaling-stroke; opacity: 1; stroke-width: 1.5px; fill: rgb(255, 0, 0); fill-opacity: 1; stroke: rgb(229, 236, 246); stroke-opacity: 1;\"/><text class=\"bartext bartext-inside\" text-anchor=\"middle\" data-notex=\"1\" x=\"0\" y=\"0\" style=\"font-family: 'Open Sans', verdana, arial, sans-serif; font-size: 12px; fill: rgb(255, 255, 255); fill-opacity: 1; white-space: pre;\" transform=\"translate(496.935,257.030615530303)scale(0.8721212121212113)rotate(90 0 -4.75)\">2681</text></g><g class=\"point\"><path d=\"M741.58,410V239H761.97V410Z\" style=\"vector-effect: non-scaling-stroke; opacity: 1; stroke-width: 1.5px; fill: rgb(255, 0, 0); fill-opacity: 1; stroke: rgb(229, 236, 246); stroke-opacity: 1;\"/><text class=\"bartext bartext-inside\" text-anchor=\"middle\" data-notex=\"1\" x=\"0\" y=\"0\" style=\"font-family: 'Open Sans', verdana, arial, sans-serif; font-size: 12px; fill: rgb(255, 255, 255); fill-opacity: 1; white-space: pre;\" transform=\"translate(751.7750000000001,258.12061553030304)scale(0.8721212121212113)rotate(90 0 -4.75)\">2664</text></g><g class=\"point\"><path d=\"M588.68,410V240.86H609.06V410Z\" style=\"vector-effect: non-scaling-stroke; opacity: 1; stroke-width: 1.5px; fill: rgb(255, 0, 0); fill-opacity: 1; stroke: rgb(229, 236, 246); stroke-opacity: 1;\"/><text class=\"bartext bartext-inside\" text-anchor=\"middle\" data-notex=\"1\" x=\"0\" y=\"0\" style=\"font-family: 'Open Sans', verdana, arial, sans-serif; font-size: 12px; fill: rgb(255, 255, 255); fill-opacity: 1; white-space: pre;\" transform=\"translate(598.8699999999999,259.96941287878786)scale(0.8715151515151512)rotate(90 0 -4.75)\">2635</text></g><g class=\"point\"><path d=\"M665.13,410V242.92H685.52V410Z\" style=\"vector-effect: non-scaling-stroke; opacity: 1; stroke-width: 1.5px; fill: rgb(255, 0, 0); fill-opacity: 1; stroke: rgb(229, 236, 246); stroke-opacity: 1;\"/><text class=\"bartext bartext-inside\" text-anchor=\"middle\" data-notex=\"1\" x=\"0\" y=\"0\" style=\"font-family: 'Open Sans', verdana, arial, sans-serif; font-size: 12px; fill: rgb(255, 255, 255); fill-opacity: 1; white-space: pre;\" transform=\"translate(675.325,262.040615530303)scale(0.8721212121212113)rotate(90 0 -4.75)\">2603</text></g><g class=\"point\"><path d=\"M614.16,410V244.71H634.55V410Z\" style=\"vector-effect: non-scaling-stroke; opacity: 1; stroke-width: 1.5px; fill: rgb(82, 150, 221); fill-opacity: 1; stroke: rgb(229, 236, 246); stroke-opacity: 1;\"/><text class=\"bartext bartext-inside\" text-anchor=\"middle\" data-notex=\"1\" x=\"0\" y=\"0\" style=\"font-family: 'Open Sans', verdana, arial, sans-serif; font-size: 12px; fill: rgb(68, 68, 68); fill-opacity: 1; white-space: pre;\" transform=\"translate(624.355,263.830615530303)scale(0.8721212121212113)rotate(90 0 -4.75)\">2575</text></g><g class=\"point\"><path d=\"M333.84,410V246.45H354.23V410Z\" style=\"vector-effect: non-scaling-stroke; opacity: 1; stroke-width: 1.5px; fill: rgb(82, 150, 221); fill-opacity: 1; stroke: rgb(229, 236, 246); stroke-opacity: 1;\"/><text class=\"bartext bartext-inside\" text-anchor=\"middle\" data-notex=\"1\" x=\"0\" y=\"0\" style=\"font-family: 'Open Sans', verdana, arial, sans-serif; font-size: 12px; fill: rgb(68, 68, 68); fill-opacity: 1; white-space: pre;\" transform=\"translate(344.03499999999997,265.5706155303031)scale(0.8721212121212147)rotate(90 0 -4.75)\">2548</text></g><g class=\"point\"><path d=\"M767.06,410V262.11H787.45V410Z\" style=\"vector-effect: non-scaling-stroke; opacity: 1; stroke-width: 1.5px; fill: rgb(82, 150, 221); fill-opacity: 1; stroke: rgb(229, 236, 246); stroke-opacity: 1;\"/><text class=\"bartext bartext-inside\" text-anchor=\"middle\" data-notex=\"1\" x=\"0\" y=\"0\" style=\"font-family: 'Open Sans', verdana, arial, sans-serif; font-size: 12px; fill: rgb(68, 68, 68); fill-opacity: 1; white-space: pre;\" transform=\"translate(777.255,281.23061553030317)scale(0.8721212121212182)rotate(90 0 -4.75)\">2304</text></g><g class=\"point\"><path d=\"M461.26,410V262.36H481.65V410Z\" style=\"vector-effect: non-scaling-stroke; opacity: 1; stroke-width: 1.5px; fill: rgb(82, 150, 221); fill-opacity: 1; stroke: rgb(229, 236, 246); stroke-opacity: 1;\"/><text class=\"bartext bartext-inside\" text-anchor=\"middle\" data-notex=\"1\" x=\"0\" y=\"0\" style=\"font-family: 'Open Sans', verdana, arial, sans-serif; font-size: 12px; fill: rgb(68, 68, 68); fill-opacity: 1; white-space: pre;\" transform=\"translate(471.455,281.48061553030306)scale(0.8721212121212113)rotate(90 0 -4.75)\">2300</text></g><g class=\"point\"><path d=\"M308.35,410V263.84H328.74V410Z\" style=\"vector-effect: non-scaling-stroke; opacity: 1; stroke-width: 1.5px; fill: rgb(82, 150, 221); fill-opacity: 1; stroke: rgb(229, 236, 246); stroke-opacity: 1;\"/><text class=\"bartext bartext-inside\" text-anchor=\"middle\" data-notex=\"1\" x=\"0\" y=\"0\" style=\"font-family: 'Open Sans', verdana, arial, sans-serif; font-size: 12px; fill: rgb(68, 68, 68); fill-opacity: 1; white-space: pre;\" transform=\"translate(318.545,282.960615530303)scale(0.8721212121212113)rotate(90 0 -4.75)\">2277</text></g><g class=\"point\"><path d=\"M639.65,410V273.66H660.03V410Z\" style=\"vector-effect: non-scaling-stroke; opacity: 1; stroke-width: 1.5px; fill: rgb(82, 150, 221); fill-opacity: 1; stroke: rgb(229, 236, 246); stroke-opacity: 1;\"/><text class=\"bartext bartext-inside\" text-anchor=\"middle\" data-notex=\"1\" x=\"0\" y=\"0\" style=\"font-family: 'Open Sans', verdana, arial, sans-serif; font-size: 12px; fill: rgb(68, 68, 68); fill-opacity: 1; white-space: pre;\" transform=\"translate(649.8399999999999,292.7694128787879)scale(0.8715151515151512)rotate(90 0 -4.75)\">2124</text></g><g class=\"point\"><path d=\"M104.48,410V293.24H124.87V410Z\" style=\"vector-effect: non-scaling-stroke; opacity: 1; stroke-width: 1.5px; fill: rgb(82, 150, 221); fill-opacity: 1; stroke: rgb(229, 236, 246); stroke-opacity: 1;\"/><text class=\"bartext bartext-inside\" text-anchor=\"middle\" data-notex=\"1\" x=\"0\" y=\"0\" style=\"font-family: 'Open Sans', verdana, arial, sans-serif; font-size: 12px; fill: rgb(68, 68, 68); fill-opacity: 1; white-space: pre;\" transform=\"translate(114.67500000000001,312.36061553030305)scale(0.8721212121212122)rotate(90 0 -4.75)\">1819</text></g><g class=\"point\"><path d=\"M28.03,410V310.64H48.42V410Z\" style=\"vector-effect: non-scaling-stroke; opacity: 1; stroke-width: 1.5px; fill: rgb(82, 150, 221); fill-opacity: 1; stroke: rgb(229, 236, 246); stroke-opacity: 1;\"/><text class=\"bartext bartext-inside\" text-anchor=\"middle\" data-notex=\"1\" x=\"0\" y=\"0\" style=\"font-family: 'Open Sans', verdana, arial, sans-serif; font-size: 12px; fill: rgb(68, 68, 68); fill-opacity: 1; white-space: pre;\" transform=\"translate(38.225,329.760615530303)scale(0.8721212121212122)rotate(90 0 -4.75)\">1548</text></g><g class=\"point\"><path d=\"M79,410V311.08H99.39V410Z\" style=\"vector-effect: non-scaling-stroke; opacity: 1; stroke-width: 1.5px; fill: rgb(82, 150, 221); fill-opacity: 1; stroke: rgb(229, 236, 246); stroke-opacity: 1;\"/><text class=\"bartext bartext-inside\" text-anchor=\"middle\" data-notex=\"1\" x=\"0\" y=\"0\" style=\"font-family: 'Open Sans', verdana, arial, sans-serif; font-size: 12px; fill: rgb(68, 68, 68); fill-opacity: 1; white-space: pre;\" transform=\"translate(89.195,330.200615530303)scale(0.8721212121212122)rotate(90 0 -4.75)\">1541</text></g><g class=\"point\"><path d=\"M53.52,410V320.97H73.9V410Z\" style=\"vector-effect: non-scaling-stroke; opacity: 1; stroke-width: 1.5px; fill: rgb(82, 150, 221); fill-opacity: 1; stroke: rgb(229, 236, 246); stroke-opacity: 1;\"/><text class=\"bartext bartext-inside\" text-anchor=\"middle\" data-notex=\"1\" x=\"0\" y=\"0\" style=\"font-family: 'Open Sans', verdana, arial, sans-serif; font-size: 12px; fill: rgb(68, 68, 68); fill-opacity: 1; white-space: pre;\" transform=\"translate(63.71000000000001,340.07941287878793)scale(0.8715151515151517)rotate(90 0 -4.75)\">1387</text></g><g class=\"point\"><path d=\"M2.55,410V326.04H22.94V410Z\" style=\"vector-effect: non-scaling-stroke; opacity: 1; stroke-width: 1.5px; fill: rgb(82, 150, 221); fill-opacity: 1; stroke: rgb(229, 236, 246); stroke-opacity: 1;\"/><text class=\"bartext bartext-inside\" text-anchor=\"middle\" data-notex=\"1\" x=\"0\" y=\"0\" style=\"font-family: 'Open Sans', verdana, arial, sans-serif; font-size: 12px; fill: rgb(68, 68, 68); fill-opacity: 1; white-space: pre;\" transform=\"translate(12.745000000000001,345.16061553030306)scale(0.8721212121212122)rotate(90 0 -4.75)\">1308</text></g><g class=\"point\"><path d=\"M129.97,410V342.73H150.35V410Z\" style=\"vector-effect: non-scaling-stroke; opacity: 1; stroke-width: 1.5px; fill: rgb(82, 150, 221); fill-opacity: 1; stroke: rgb(229, 236, 246); stroke-opacity: 1;\"/><text class=\"bartext bartext-inside\" text-anchor=\"middle\" data-notex=\"1\" x=\"0\" y=\"0\" style=\"font-family: 'Open Sans', verdana, arial, sans-serif; font-size: 12px; fill: rgb(68, 68, 68); fill-opacity: 1; white-space: pre;\" transform=\"translate(140.16,361.83941287878787)scale(0.8715151515151512)rotate(90 0 -4.75)\">1048</text></g></g></g></g></g><g class=\"overplot\"/><path class=\"xlines-above crisp\" d=\"M0,0\" style=\"fill: none;\"/><path class=\"ylines-above crisp\" d=\"M0,0\" style=\"fill: none;\"/><g class=\"overlines-above\"/><g class=\"xaxislayer-above\"><g class=\"xtick\"><text text-anchor=\"start\" x=\"0\" y=\"483\" transform=\"translate(92.74,0) rotate(45,0,477)\" style=\"font-family: 'Open Sans', verdana, arial, sans-serif; font-size: 12px; fill: rgb(42, 63, 95); fill-opacity: 1; white-space: pre; opacity: 1;\"><tspan class=\"line\" dy=\"0em\" x=\"0\" y=\"483\">Jul 1</tspan><tspan class=\"line\" dy=\"1.3em\" x=\"0\" y=\"483\">2020</tspan></text></g><g class=\"xtick\"><text text-anchor=\"start\" x=\"0\" y=\"483\" style=\"font-family: 'Open Sans', verdana, arial, sans-serif; font-size: 12px; fill: rgb(42, 63, 95); fill-opacity: 1; white-space: pre; opacity: 1;\" transform=\"translate(118.22999999999999,0) rotate(45,0,477)\">Jul 2</text></g><g class=\"xtick\"><text text-anchor=\"start\" x=\"0\" y=\"483\" style=\"font-family: 'Open Sans', verdana, arial, sans-serif; font-size: 12px; fill: rgb(42, 63, 95); fill-opacity: 1; white-space: pre; opacity: 1;\" transform=\"translate(143.71,0) rotate(45,0,477)\">Jul 3</text></g><g class=\"xtick\"><text text-anchor=\"start\" x=\"0\" y=\"483\" style=\"font-family: 'Open Sans', verdana, arial, sans-serif; font-size: 12px; fill: rgb(42, 63, 95); fill-opacity: 1; white-space: pre; opacity: 1;\" transform=\"translate(169.19,0) rotate(45,0,477)\">Jul 4</text></g><g class=\"xtick\"><text text-anchor=\"start\" x=\"0\" y=\"483\" style=\"font-family: 'Open Sans', verdana, arial, sans-serif; font-size: 12px; fill: rgb(42, 63, 95); fill-opacity: 1; white-space: pre; opacity: 1;\" transform=\"translate(194.68,0) rotate(45,0,477)\">Jul 5</text></g><g class=\"xtick\"><text text-anchor=\"start\" x=\"0\" y=\"483\" style=\"font-family: 'Open Sans', verdana, arial, sans-serif; font-size: 12px; fill: rgb(42, 63, 95); fill-opacity: 1; white-space: pre; opacity: 1;\" transform=\"translate(220.16,0) rotate(45,0,477)\">Jul 6</text></g><g class=\"xtick\"><text text-anchor=\"start\" x=\"0\" y=\"483\" style=\"font-family: 'Open Sans', verdana, arial, sans-serif; font-size: 12px; fill: rgb(42, 63, 95); fill-opacity: 1; white-space: pre; opacity: 1;\" transform=\"translate(245.65,0) rotate(45,0,477)\">Jul 7</text></g><g class=\"xtick\"><text text-anchor=\"start\" x=\"0\" y=\"483\" style=\"font-family: 'Open Sans', verdana, arial, sans-serif; font-size: 12px; fill: rgb(42, 63, 95); fill-opacity: 1; white-space: pre; opacity: 1;\" transform=\"translate(271.13,0) rotate(45,0,477)\">Jul 8</text></g><g class=\"xtick\"><text text-anchor=\"start\" x=\"0\" y=\"483\" style=\"font-family: 'Open Sans', verdana, arial, sans-serif; font-size: 12px; fill: rgb(42, 63, 95); fill-opacity: 1; white-space: pre; opacity: 1;\" transform=\"translate(296.61,0) rotate(45,0,477)\">Jul 9</text></g><g class=\"xtick\"><text text-anchor=\"start\" x=\"0\" y=\"483\" style=\"font-family: 'Open Sans', verdana, arial, sans-serif; font-size: 12px; fill: rgb(42, 63, 95); fill-opacity: 1; white-space: pre; opacity: 1;\" transform=\"translate(322.1,0) rotate(45,0,477)\">Jul 10</text></g><g class=\"xtick\"><text text-anchor=\"start\" x=\"0\" y=\"483\" style=\"font-family: 'Open Sans', verdana, arial, sans-serif; font-size: 12px; fill: rgb(42, 63, 95); fill-opacity: 1; white-space: pre; opacity: 1;\" transform=\"translate(347.58,0) rotate(45,0,477)\">Jul 11</text></g><g class=\"xtick\"><text text-anchor=\"start\" x=\"0\" y=\"483\" style=\"font-family: 'Open Sans', verdana, arial, sans-serif; font-size: 12px; fill: rgb(42, 63, 95); fill-opacity: 1; white-space: pre; opacity: 1;\" transform=\"translate(373.06,0) rotate(45,0,477)\">Jul 12</text></g><g class=\"xtick\"><text text-anchor=\"start\" x=\"0\" y=\"483\" style=\"font-family: 'Open Sans', verdana, arial, sans-serif; font-size: 12px; fill: rgb(42, 63, 95); fill-opacity: 1; white-space: pre; opacity: 1;\" transform=\"translate(398.55,0) rotate(45,0,477)\">Jul 13</text></g><g class=\"xtick\"><text text-anchor=\"start\" x=\"0\" y=\"483\" style=\"font-family: 'Open Sans', verdana, arial, sans-serif; font-size: 12px; fill: rgb(42, 63, 95); fill-opacity: 1; white-space: pre; opacity: 1;\" transform=\"translate(424.03,0) rotate(45,0,477)\">Jul 14</text></g><g class=\"xtick\"><text text-anchor=\"start\" x=\"0\" y=\"483\" style=\"font-family: 'Open Sans', verdana, arial, sans-serif; font-size: 12px; fill: rgb(42, 63, 95); fill-opacity: 1; white-space: pre; opacity: 1;\" transform=\"translate(449.52,0) rotate(45,0,477)\">Jul 15</text></g><g class=\"xtick\"><text text-anchor=\"start\" x=\"0\" y=\"483\" style=\"font-family: 'Open Sans', verdana, arial, sans-serif; font-size: 12px; fill: rgb(42, 63, 95); fill-opacity: 1; white-space: pre; opacity: 1;\" transform=\"translate(475,0) rotate(45,0,477)\">Jul 16</text></g><g class=\"xtick\"><text text-anchor=\"start\" x=\"0\" y=\"483\" style=\"font-family: 'Open Sans', verdana, arial, sans-serif; font-size: 12px; fill: rgb(42, 63, 95); fill-opacity: 1; white-space: pre; opacity: 1;\" transform=\"translate(500.48,0) rotate(45,0,477)\">Jul 17</text></g><g class=\"xtick\"><text text-anchor=\"start\" x=\"0\" y=\"483\" style=\"font-family: 'Open Sans', verdana, arial, sans-serif; font-size: 12px; fill: rgb(42, 63, 95); fill-opacity: 1; white-space: pre; opacity: 1;\" transform=\"translate(525.97,0) rotate(45,0,477)\">Jul 18</text></g><g class=\"xtick\"><text text-anchor=\"start\" x=\"0\" y=\"483\" style=\"font-family: 'Open Sans', verdana, arial, sans-serif; font-size: 12px; fill: rgb(42, 63, 95); fill-opacity: 1; white-space: pre; opacity: 1;\" transform=\"translate(551.45,0) rotate(45,0,477)\">Jul 19</text></g><g class=\"xtick\"><text text-anchor=\"start\" x=\"0\" y=\"483\" style=\"font-family: 'Open Sans', verdana, arial, sans-serif; font-size: 12px; fill: rgb(42, 63, 95); fill-opacity: 1; white-space: pre; opacity: 1;\" transform=\"translate(576.94,0) rotate(45,0,477)\">Jul 20</text></g><g class=\"xtick\"><text text-anchor=\"start\" x=\"0\" y=\"483\" style=\"font-family: 'Open Sans', verdana, arial, sans-serif; font-size: 12px; fill: rgb(42, 63, 95); fill-opacity: 1; white-space: pre; opacity: 1;\" transform=\"translate(602.42,0) rotate(45,0,477)\">Jul 21</text></g><g class=\"xtick\"><text text-anchor=\"start\" x=\"0\" y=\"483\" style=\"font-family: 'Open Sans', verdana, arial, sans-serif; font-size: 12px; fill: rgb(42, 63, 95); fill-opacity: 1; white-space: pre; opacity: 1;\" transform=\"translate(627.9,0) rotate(45,0,477)\">Jul 22</text></g><g class=\"xtick\"><text text-anchor=\"start\" x=\"0\" y=\"483\" style=\"font-family: 'Open Sans', verdana, arial, sans-serif; font-size: 12px; fill: rgb(42, 63, 95); fill-opacity: 1; white-space: pre; opacity: 1;\" transform=\"translate(653.39,0) rotate(45,0,477)\">Jul 23</text></g><g class=\"xtick\"><text text-anchor=\"start\" x=\"0\" y=\"483\" style=\"font-family: 'Open Sans', verdana, arial, sans-serif; font-size: 12px; fill: rgb(42, 63, 95); fill-opacity: 1; white-space: pre; opacity: 1;\" transform=\"translate(678.87,0) rotate(45,0,477)\">Jul 24</text></g><g class=\"xtick\"><text text-anchor=\"start\" x=\"0\" y=\"483\" style=\"font-family: 'Open Sans', verdana, arial, sans-serif; font-size: 12px; fill: rgb(42, 63, 95); fill-opacity: 1; white-space: pre; opacity: 1;\" transform=\"translate(704.35,0) rotate(45,0,477)\">Jul 25</text></g><g class=\"xtick\"><text text-anchor=\"start\" x=\"0\" y=\"483\" style=\"font-family: 'Open Sans', verdana, arial, sans-serif; font-size: 12px; fill: rgb(42, 63, 95); fill-opacity: 1; white-space: pre; opacity: 1;\" transform=\"translate(729.84,0) rotate(45,0,477)\">Jul 26</text></g><g class=\"xtick\"><text text-anchor=\"start\" x=\"0\" y=\"483\" style=\"font-family: 'Open Sans', verdana, arial, sans-serif; font-size: 12px; fill: rgb(42, 63, 95); fill-opacity: 1; white-space: pre; opacity: 1;\" transform=\"translate(755.32,0) rotate(45,0,477)\">Jul 27</text></g><g class=\"xtick\"><text text-anchor=\"start\" x=\"0\" y=\"483\" style=\"font-family: 'Open Sans', verdana, arial, sans-serif; font-size: 12px; fill: rgb(42, 63, 95); fill-opacity: 1; white-space: pre; opacity: 1;\" transform=\"translate(780.81,0) rotate(45,0,477)\">Jul 28</text></g><g class=\"xtick\"><text text-anchor=\"start\" x=\"0\" y=\"483\" style=\"font-family: 'Open Sans', verdana, arial, sans-serif; font-size: 12px; fill: rgb(42, 63, 95); fill-opacity: 1; white-space: pre; opacity: 1;\" transform=\"translate(806.29,0) rotate(45,0,477)\">Jul 29</text></g><g class=\"xtick\"><text text-anchor=\"start\" x=\"0\" y=\"483\" style=\"font-family: 'Open Sans', verdana, arial, sans-serif; font-size: 12px; fill: rgb(42, 63, 95); fill-opacity: 1; white-space: pre; opacity: 1;\" transform=\"translate(831.77,0) rotate(45,0,477)\">Jul 30</text></g><g class=\"xtick\"><text text-anchor=\"start\" x=\"0\" y=\"483\" style=\"font-family: 'Open Sans', verdana, arial, sans-serif; font-size: 12px; fill: rgb(42, 63, 95); fill-opacity: 1; white-space: pre; opacity: 1;\" transform=\"translate(857.26,0) rotate(45,0,477)\">Jul 31</text></g></g><g class=\"yaxislayer-above\"><g class=\"ytick\"><text text-anchor=\"end\" x=\"79\" y=\"4.199999999999999\" transform=\"translate(0,470)\" style=\"font-family: 'Open Sans', verdana, arial, sans-serif; font-size: 12px; fill: rgb(42, 63, 95); fill-opacity: 1; white-space: pre; opacity: 1;\">0</text></g><g class=\"ytick\"><text text-anchor=\"end\" x=\"79\" y=\"4.199999999999999\" style=\"font-family: 'Open Sans', verdana, arial, sans-serif; font-size: 12px; fill: rgb(42, 63, 95); fill-opacity: 1; white-space: pre; opacity: 1;\" transform=\"translate(0,405.81)\">1000</text></g><g class=\"ytick\"><text text-anchor=\"end\" x=\"79\" y=\"4.199999999999999\" style=\"font-family: 'Open Sans', verdana, arial, sans-serif; font-size: 12px; fill: rgb(42, 63, 95); fill-opacity: 1; white-space: pre; opacity: 1;\" transform=\"translate(0,341.62)\">2000</text></g><g class=\"ytick\"><text text-anchor=\"end\" x=\"79\" y=\"4.199999999999999\" style=\"font-family: 'Open Sans', verdana, arial, sans-serif; font-size: 12px; fill: rgb(42, 63, 95); fill-opacity: 1; white-space: pre; opacity: 1;\" transform=\"translate(0,277.43)\">3000</text></g><g class=\"ytick\"><text text-anchor=\"end\" x=\"79\" y=\"4.199999999999999\" style=\"font-family: 'Open Sans', verdana, arial, sans-serif; font-size: 12px; fill: rgb(42, 63, 95); fill-opacity: 1; white-space: pre; opacity: 1;\" transform=\"translate(0,213.24)\">4000</text></g><g class=\"ytick\"><text text-anchor=\"end\" x=\"79\" y=\"4.199999999999999\" style=\"font-family: 'Open Sans', verdana, arial, sans-serif; font-size: 12px; fill: rgb(42, 63, 95); fill-opacity: 1; white-space: pre; opacity: 1;\" transform=\"translate(0,149.05)\">5000</text></g><g class=\"ytick\"><text text-anchor=\"end\" x=\"79\" y=\"4.199999999999999\" style=\"font-family: 'Open Sans', verdana, arial, sans-serif; font-size: 12px; fill: rgb(42, 63, 95); fill-opacity: 1; white-space: pre; opacity: 1;\" transform=\"translate(0,84.86)\">6000</text></g></g><g class=\"overaxes-above\"/></g></g><g class=\"polarlayer\"/><g class=\"ternarylayer\"/><g class=\"geolayer\"/><g class=\"funnelarealayer\"/><g class=\"pielayer\"/><g class=\"iciclelayer\"/><g class=\"treemaplayer\"/><g class=\"sunburstlayer\"/><g class=\"glimages\"/><defs id=\"topdefs-efdc61\"><g class=\"clips\"/></defs><g class=\"layer-above\"><g class=\"imagelayer\"/><g class=\"shapelayer\"/></g><g class=\"infolayer\"><g class=\"g-gtitle\"><text class=\"gtitle\" x=\"475\" y=\"30\" text-anchor=\"middle\" dy=\"0.7em\" style=\"font-family: 'Open Sans', verdana, arial, sans-serif; font-size: 17px; fill: rgb(42, 63, 95); opacity: 1; font-weight: normal; white-space: pre;\">Comments Created in Each Day of Jul 2020</text></g><g class=\"g-xtitle\"><text class=\"xtitle\" x=\"475\" y=\"538.9669921875\" text-anchor=\"middle\" style=\"font-family: 'Open Sans', verdana, arial, sans-serif; font-size: 14px; fill: rgb(42, 63, 95); opacity: 1; font-weight: normal; white-space: pre;\">Comments Creation Date</text></g><g class=\"g-ytitle\"><text class=\"ytitle\" transform=\"rotate(-90,26.746875000000003,265)\" x=\"26.746875000000003\" y=\"265\" text-anchor=\"middle\" style=\"font-family: 'Open Sans', verdana, arial, sans-serif; font-size: 14px; fill: rgb(42, 63, 95); opacity: 1; font-weight: normal; white-space: pre;\">n_comments</text></g></g></svg>"
      ]
     },
     "metadata": {},
     "output_type": "display_data"
    }
   ],
   "source": [
    "bar_dates(df_jul_20, \"Comments Created in Each Day of Jul 2020\", 2600)"
   ]
  },
  {
   "cell_type": "markdown",
   "id": "835d8beb",
   "metadata": {},
   "source": [
    "<a id='2021'></a>\n",
    ">>### 2021 Peaks\n",
    "> <ul>\n",
    " <li><a href=\"#all\">All Years</a></li>\n",
    " <li><a href=\"#2018\">2018</a></li>\n",
    " <li><a href=\"#2019\">2019</a></li>\n",
    " <li><a href=\"#2020\">2020</a></li>\n",
    " <li><a href=\"#2021\"><b>2021</b></a></li>\n",
    " </ul>"
   ]
  },
  {
   "cell_type": "code",
   "execution_count": 68,
   "id": "4389beee",
   "metadata": {},
   "outputs": [
    {
     "data": {
      "image/svg+xml": [
       "<svg class=\"main-svg\" xmlns=\"http://www.w3.org/2000/svg\" xmlns:xlink=\"http://www.w3.org/1999/xlink\" width=\"950\" height=\"550\" style=\"\" viewBox=\"0 0 950 550\"><rect x=\"0\" y=\"0\" width=\"950\" height=\"550\" style=\"fill: rgb(255, 255, 255); fill-opacity: 1;\"/><defs id=\"defs-b81db3\"><g class=\"clips\"><clipPath id=\"clipb81db3xyplot\" class=\"plotclip\"><rect width=\"790\" height=\"350\"/></clipPath><clipPath class=\"axesclip\" id=\"clipb81db3x\"><rect x=\"80\" y=\"0\" width=\"790\" height=\"550\"/></clipPath><clipPath class=\"axesclip\" id=\"clipb81db3y\"><rect x=\"0\" y=\"100\" width=\"950\" height=\"350\"/></clipPath><clipPath class=\"axesclip\" id=\"clipb81db3xy\"><rect x=\"80\" y=\"100\" width=\"790\" height=\"350\"/></clipPath></g><g class=\"gradients\"/><g class=\"patterns\"/></defs><g class=\"bglayer\"><rect class=\"bg\" x=\"80\" y=\"100\" width=\"790\" height=\"350\" style=\"fill: rgb(229, 236, 246); fill-opacity: 1; stroke-width: 0;\"/></g><g class=\"layer-below\"><g class=\"imagelayer\"/><g class=\"shapelayer\"/></g><g class=\"cartesianlayer\"><g class=\"subplot xy\"><g class=\"layer-subplot\"><g class=\"shapelayer\"/><g class=\"imagelayer\"/></g><g class=\"gridlayer\"><g class=\"x\"/><g class=\"y\"><path class=\"ygrid crisp\" transform=\"translate(0,392.34)\" d=\"M80,0h790\" style=\"stroke: rgb(255, 255, 255); stroke-opacity: 1; stroke-width: 1px;\"/><path class=\"ygrid crisp\" transform=\"translate(0,334.69)\" d=\"M80,0h790\" style=\"stroke: rgb(255, 255, 255); stroke-opacity: 1; stroke-width: 1px;\"/><path class=\"ygrid crisp\" transform=\"translate(0,277.03)\" d=\"M80,0h790\" style=\"stroke: rgb(255, 255, 255); stroke-opacity: 1; stroke-width: 1px;\"/><path class=\"ygrid crisp\" transform=\"translate(0,219.38)\" d=\"M80,0h790\" style=\"stroke: rgb(255, 255, 255); stroke-opacity: 1; stroke-width: 1px;\"/><path class=\"ygrid crisp\" transform=\"translate(0,161.72)\" d=\"M80,0h790\" style=\"stroke: rgb(255, 255, 255); stroke-opacity: 1; stroke-width: 1px;\"/><path class=\"ygrid crisp\" transform=\"translate(0,104.07)\" d=\"M80,0h790\" style=\"stroke: rgb(255, 255, 255); stroke-opacity: 1; stroke-width: 1px;\"/></g></g><g class=\"zerolinelayer\"><path class=\"yzl zl crisp\" transform=\"translate(0,450)\" d=\"M80,0h790\" style=\"stroke: rgb(255, 255, 255); stroke-opacity: 1; stroke-width: 2px;\"/></g><path class=\"xlines-below\"/><path class=\"ylines-below\"/><g class=\"overlines-below\"/><g class=\"xaxislayer-below\"/><g class=\"yaxislayer-below\"/><g class=\"overaxes-below\"/><g class=\"plot\" transform=\"translate(80,100)\" clip-path=\"url(#clipb81db3xyplot)\"><g class=\"barlayer mlayer\"><g class=\"trace bars\" style=\"opacity: 1;\"><g class=\"points\"><g class=\"point\"><path d=\"M631.29,350V17.5H772.37V350Z\" style=\"vector-effect: non-scaling-stroke; opacity: 1; stroke-width: 0.5px; fill: rgb(255, 0, 0); fill-opacity: 1; stroke: rgb(229, 236, 246); stroke-opacity: 1;\"/><text class=\"bartext bartext-inside\" text-anchor=\"middle\" data-notex=\"1\" x=\"0\" y=\"0\" style=\"font-family: 'Open Sans', verdana, arial, sans-serif; font-size: 12px; fill: rgb(255, 255, 255); fill-opacity: 1; white-space: pre;\" transform=\"translate(701.8299999999999,33.5)\">5767</text></g><g class=\"point\"><path d=\"M17.63,350V83.23H158.71V350Z\" style=\"vector-effect: non-scaling-stroke; opacity: 1; stroke-width: 0.5px; fill: rgb(255, 0, 0); fill-opacity: 1; stroke: rgb(229, 236, 246); stroke-opacity: 1;\"/><text class=\"bartext bartext-inside\" text-anchor=\"middle\" data-notex=\"1\" x=\"0\" y=\"0\" style=\"font-family: 'Open Sans', verdana, arial, sans-serif; font-size: 12px; fill: rgb(255, 255, 255); fill-opacity: 1; white-space: pre;\" transform=\"translate(88.17,99.23)\">4627</text></g><g class=\"point\"><path d=\"M193.97,350V87.49H335.04V350Z\" style=\"vector-effect: non-scaling-stroke; opacity: 1; stroke-width: 0.5px; fill: rgb(255, 0, 0); fill-opacity: 1; stroke: rgb(229, 236, 246); stroke-opacity: 1;\"/><text class=\"bartext bartext-inside\" text-anchor=\"middle\" data-notex=\"1\" x=\"0\" y=\"0\" style=\"font-family: 'Open Sans', verdana, arial, sans-serif; font-size: 12px; fill: rgb(255, 255, 255); fill-opacity: 1; white-space: pre;\" transform=\"translate(264.505,103.49)\">4553</text></g></g></g></g></g><g class=\"overplot\"/><path class=\"xlines-above crisp\" d=\"M0,0\" style=\"fill: none;\"/><path class=\"ylines-above crisp\" d=\"M0,0\" style=\"fill: none;\"/><g class=\"overlines-above\"/><g class=\"xaxislayer-above\"><g class=\"xtick\"><text text-anchor=\"start\" x=\"0\" y=\"463\" transform=\"translate(781.83,0) rotate(45,0,457)\" style=\"font-family: 'Open Sans', verdana, arial, sans-serif; font-size: 12px; fill: rgb(42, 63, 95); fill-opacity: 1; white-space: pre; opacity: 1;\">Jul 2, 2021</text></g><g class=\"xtick\"><text text-anchor=\"start\" x=\"0\" y=\"463\" style=\"font-family: 'Open Sans', verdana, arial, sans-serif; font-size: 12px; fill: rgb(42, 63, 95); fill-opacity: 1; white-space: pre; opacity: 1;\" transform=\"translate(168.17000000000002,0) rotate(45,0,457)\">Jan 9, 2021</text></g><g class=\"xtick\"><text text-anchor=\"start\" x=\"0\" y=\"463\" style=\"font-family: 'Open Sans', verdana, arial, sans-serif; font-size: 12px; fill: rgb(42, 63, 95); fill-opacity: 1; white-space: pre; opacity: 1;\" transform=\"translate(344.51,0) rotate(45,0,457)\">Feb 28, 2021</text></g></g><g class=\"yaxislayer-above\"><g class=\"ytick\"><text text-anchor=\"end\" x=\"79\" y=\"4.199999999999999\" transform=\"translate(0,450)\" style=\"font-family: 'Open Sans', verdana, arial, sans-serif; font-size: 12px; fill: rgb(42, 63, 95); fill-opacity: 1; white-space: pre; opacity: 1;\">0</text></g><g class=\"ytick\"><text text-anchor=\"end\" x=\"79\" y=\"4.199999999999999\" style=\"font-family: 'Open Sans', verdana, arial, sans-serif; font-size: 12px; fill: rgb(42, 63, 95); fill-opacity: 1; white-space: pre; opacity: 1;\" transform=\"translate(0,392.34)\">1000</text></g><g class=\"ytick\"><text text-anchor=\"end\" x=\"79\" y=\"4.199999999999999\" style=\"font-family: 'Open Sans', verdana, arial, sans-serif; font-size: 12px; fill: rgb(42, 63, 95); fill-opacity: 1; white-space: pre; opacity: 1;\" transform=\"translate(0,334.69)\">2000</text></g><g class=\"ytick\"><text text-anchor=\"end\" x=\"79\" y=\"4.199999999999999\" style=\"font-family: 'Open Sans', verdana, arial, sans-serif; font-size: 12px; fill: rgb(42, 63, 95); fill-opacity: 1; white-space: pre; opacity: 1;\" transform=\"translate(0,277.03)\">3000</text></g><g class=\"ytick\"><text text-anchor=\"end\" x=\"79\" y=\"4.199999999999999\" style=\"font-family: 'Open Sans', verdana, arial, sans-serif; font-size: 12px; fill: rgb(42, 63, 95); fill-opacity: 1; white-space: pre; opacity: 1;\" transform=\"translate(0,219.38)\">4000</text></g><g class=\"ytick\"><text text-anchor=\"end\" x=\"79\" y=\"4.199999999999999\" style=\"font-family: 'Open Sans', verdana, arial, sans-serif; font-size: 12px; fill: rgb(42, 63, 95); fill-opacity: 1; white-space: pre; opacity: 1;\" transform=\"translate(0,161.72)\">5000</text></g><g class=\"ytick\"><text text-anchor=\"end\" x=\"79\" y=\"4.199999999999999\" style=\"font-family: 'Open Sans', verdana, arial, sans-serif; font-size: 12px; fill: rgb(42, 63, 95); fill-opacity: 1; white-space: pre; opacity: 1;\" transform=\"translate(0,104.07)\">6000</text></g></g><g class=\"overaxes-above\"/></g></g><g class=\"polarlayer\"/><g class=\"ternarylayer\"/><g class=\"geolayer\"/><g class=\"funnelarealayer\"/><g class=\"pielayer\"/><g class=\"iciclelayer\"/><g class=\"treemaplayer\"/><g class=\"sunburstlayer\"/><g class=\"glimages\"/><defs id=\"topdefs-b81db3\"><g class=\"clips\"/></defs><g class=\"layer-above\"><g class=\"imagelayer\"/><g class=\"shapelayer\"/></g><g class=\"infolayer\"><g class=\"g-gtitle\"><text class=\"gtitle\" x=\"47.5\" y=\"50\" text-anchor=\"start\" dy=\"0em\" style=\"font-family: 'Open Sans', verdana, arial, sans-serif; font-size: 17px; fill: rgb(42, 63, 95); opacity: 1; font-weight: normal; white-space: pre;\">Dates with the Highest Number of Comments in 2021</text></g><g class=\"g-xtitle\"><text class=\"xtitle\" x=\"475\" y=\"538.4572265625\" text-anchor=\"middle\" style=\"font-family: 'Open Sans', verdana, arial, sans-serif; font-size: 14px; fill: rgb(42, 63, 95); opacity: 1; font-weight: normal; white-space: pre;\">Comments Creation Date</text></g><g class=\"g-ytitle\"><text class=\"ytitle\" transform=\"rotate(-90,26.746875000000003,275)\" x=\"26.746875000000003\" y=\"275\" text-anchor=\"middle\" style=\"font-family: 'Open Sans', verdana, arial, sans-serif; font-size: 14px; fill: rgb(42, 63, 95); opacity: 1; font-weight: normal; white-space: pre;\">n_comments</text></g></g></svg>"
      ]
     },
     "metadata": {},
     "output_type": "display_data"
    }
   ],
   "source": [
    "bar_peaks(df_peaks_21.head(3), \"Dates with the Highest Number of Comments in 2021\")"
   ]
  },
  {
   "cell_type": "markdown",
   "id": "983fdc56",
   "metadata": {},
   "source": [
    "   "
   ]
  },
  {
   "cell_type": "markdown",
   "id": "adf27611",
   "metadata": {},
   "source": [
    "<a id='top_peaks'></a>\n",
    ">## Comments on Peak Days\n",
    "> <ul>\n",
    " <li><a href=\"#over_time\">Comments Created OVER TIME</a></li>\n",
    " <li><a href=\"#peaks\">Investigate Peaks</a></li>\n",
    " <li><a href=\"#top_peaks\"><b>Comments on Peak Days</b></a></li> \n",
    " <li><a href=\"#top_hours\">Comments on Peak Hours</a></li>\n",
    " <li><a href=\"#top_times\">Comments on Peak Times</a></li> \n",
    " </ul>"
   ]
  },
  {
   "cell_type": "code",
   "execution_count": 69,
   "id": "62af13ea",
   "metadata": {},
   "outputs": [],
   "source": [
    "# Create an empty set of negatively commenting users\n",
    "neg_users = set()"
   ]
  },
  {
   "cell_type": "code",
   "execution_count": 70,
   "id": "7100aee1",
   "metadata": {},
   "outputs": [],
   "source": [
    "# Create an empty set of negative text\n",
    "neg_text = set()"
   ]
  },
  {
   "cell_type": "code",
   "execution_count": 71,
   "id": "47462abd",
   "metadata": {},
   "outputs": [
    {
     "data": {
      "text/html": [
       "<div>\n",
       "<style scoped>\n",
       "    .dataframe tbody tr th:only-of-type {\n",
       "        vertical-align: middle;\n",
       "    }\n",
       "\n",
       "    .dataframe tbody tr th {\n",
       "        vertical-align: top;\n",
       "    }\n",
       "\n",
       "    .dataframe thead th {\n",
       "        text-align: right;\n",
       "    }\n",
       "</style>\n",
       "<table border=\"1\" class=\"dataframe\">\n",
       "  <thead>\n",
       "    <tr style=\"text-align: right;\">\n",
       "      <th></th>\n",
       "      <th>message</th>\n",
       "      <th>datetime</th>\n",
       "      <th>id</th>\n",
       "      <th>n_replies</th>\n",
       "      <th>n_likes</th>\n",
       "      <th>media_id</th>\n",
       "      <th>parent_id</th>\n",
       "      <th>user_id</th>\n",
       "      <th>username</th>\n",
       "      <th>is_verified</th>\n",
       "      <th>account_url</th>\n",
       "      <th>year</th>\n",
       "      <th>month</th>\n",
       "      <th>dayofmonth</th>\n",
       "      <th>date</th>\n",
       "      <th>hour</th>\n",
       "    </tr>\n",
       "  </thead>\n",
       "  <tbody>\n",
       "    <tr>\n",
       "      <th>0</th>\n",
       "      <td>#scarlettjohansson #alexandradaddario #emiliac...</td>\n",
       "      <td>2020-06-23 06:50:19</td>\n",
       "      <td>17915232430430980</td>\n",
       "      <td>0.0</td>\n",
       "      <td>0.0</td>\n",
       "      <td>2337634847974873088</td>\n",
       "      <td>n</td>\n",
       "      <td>3988263563</td>\n",
       "      <td>scarlettjohansonoffcial</td>\n",
       "      <td>False</td>\n",
       "      <td>https://www.instagram.com/scarlettjohansonoffcial</td>\n",
       "      <td>2020</td>\n",
       "      <td>Jun</td>\n",
       "      <td>23</td>\n",
       "      <td>2020-06-23</td>\n",
       "      <td>6</td>\n",
       "    </tr>\n",
       "  </tbody>\n",
       "</table>\n",
       "</div>"
      ],
      "text/plain": [
       "                                             message            datetime  \\\n",
       "0  #scarlettjohansson #alexandradaddario #emiliac... 2020-06-23 06:50:19   \n",
       "\n",
       "                  id  n_replies  n_likes             media_id parent_id  \\\n",
       "0  17915232430430980        0.0      0.0  2337634847974873088         n   \n",
       "\n",
       "      user_id                 username  is_verified  \\\n",
       "0  3988263563  scarlettjohansonoffcial        False   \n",
       "\n",
       "                                         account_url  year month  dayofmonth  \\\n",
       "0  https://www.instagram.com/scarlettjohansonoffcial  2020   Jun          23   \n",
       "\n",
       "         date  hour  \n",
       "0  2020-06-23     6  "
      ]
     },
     "execution_count": 71,
     "metadata": {},
     "output_type": "execute_result"
    }
   ],
   "source": [
    "df_comments.head(1)"
   ]
  },
  {
   "cell_type": "markdown",
   "id": "65a7ac60",
   "metadata": {},
   "source": [
    "### Users with The Most Contributions on Each Date"
   ]
  },
  {
   "cell_type": "code",
   "execution_count": 72,
   "id": "4ed8272b",
   "metadata": {},
   "outputs": [
    {
     "name": "stdout",
     "output_type": "stream",
     "text": [
      "\n",
      "Investigated --> These Users are Posting Normal Comments\n",
      "\n"
     ]
    },
    {
     "data": {
      "text/html": [
       "<div>\n",
       "<style scoped>\n",
       "    .dataframe tbody tr th:only-of-type {\n",
       "        vertical-align: middle;\n",
       "    }\n",
       "\n",
       "    .dataframe tbody tr th {\n",
       "        vertical-align: top;\n",
       "    }\n",
       "\n",
       "    .dataframe thead th {\n",
       "        text-align: right;\n",
       "    }\n",
       "</style>\n",
       "<table border=\"1\" class=\"dataframe\">\n",
       "  <thead>\n",
       "    <tr style=\"text-align: right;\">\n",
       "      <th></th>\n",
       "      <th>date</th>\n",
       "      <th>username</th>\n",
       "      <th>n_comments</th>\n",
       "      <th>n_likes</th>\n",
       "      <th>n_replies</th>\n",
       "    </tr>\n",
       "  </thead>\n",
       "  <tbody>\n",
       "    <tr>\n",
       "      <th>709442</th>\n",
       "      <td>2020-08-24</td>\n",
       "      <td>sinasbutterfly</td>\n",
       "      <td>836</td>\n",
       "      <td>17.0</td>\n",
       "      <td>2.0</td>\n",
       "    </tr>\n",
       "    <tr>\n",
       "      <th>1168335</th>\n",
       "      <td>2021-06-05</td>\n",
       "      <td>anaww._.opi</td>\n",
       "      <td>359</td>\n",
       "      <td>20.0</td>\n",
       "      <td>0.0</td>\n",
       "    </tr>\n",
       "    <tr>\n",
       "      <th>1170715</th>\n",
       "      <td>2021-06-06</td>\n",
       "      <td>hasti._mm90</td>\n",
       "      <td>302</td>\n",
       "      <td>14.0</td>\n",
       "      <td>4.0</td>\n",
       "    </tr>\n",
       "    <tr>\n",
       "      <th>1169236</th>\n",
       "      <td>2021-06-05</td>\n",
       "      <td>maral_kp99</td>\n",
       "      <td>292</td>\n",
       "      <td>15.0</td>\n",
       "      <td>2.0</td>\n",
       "    </tr>\n",
       "    <tr>\n",
       "      <th>1171113</th>\n",
       "      <td>2021-06-06</td>\n",
       "      <td>maral_kp99</td>\n",
       "      <td>250</td>\n",
       "      <td>11.0</td>\n",
       "      <td>6.0</td>\n",
       "    </tr>\n",
       "    <tr>\n",
       "      <th>1168863</th>\n",
       "      <td>2021-06-05</td>\n",
       "      <td>hasti._mm90</td>\n",
       "      <td>215</td>\n",
       "      <td>9.0</td>\n",
       "      <td>1.0</td>\n",
       "    </tr>\n",
       "    <tr>\n",
       "      <th>1170141</th>\n",
       "      <td>2021-06-06</td>\n",
       "      <td>anaww._.opi</td>\n",
       "      <td>189</td>\n",
       "      <td>14.0</td>\n",
       "      <td>3.0</td>\n",
       "    </tr>\n",
       "    <tr>\n",
       "      <th>999503</th>\n",
       "      <td>2021-02-11</td>\n",
       "      <td>angel_amber__heard</td>\n",
       "      <td>183</td>\n",
       "      <td>200.0</td>\n",
       "      <td>0.0</td>\n",
       "    </tr>\n",
       "    <tr>\n",
       "      <th>162874</th>\n",
       "      <td>2018-12-24</td>\n",
       "      <td>missdanicosplay</td>\n",
       "      <td>175</td>\n",
       "      <td>166.0</td>\n",
       "      <td>3.0</td>\n",
       "    </tr>\n",
       "    <tr>\n",
       "      <th>1168735</th>\n",
       "      <td>2021-06-05</td>\n",
       "      <td>fateme.hoseinzadeh66</td>\n",
       "      <td>156</td>\n",
       "      <td>7.0</td>\n",
       "      <td>0.0</td>\n",
       "    </tr>\n",
       "    <tr>\n",
       "      <th>1031975</th>\n",
       "      <td>2021-03-03</td>\n",
       "      <td>jenniferlowrence.ex_</td>\n",
       "      <td>152</td>\n",
       "      <td>167.0</td>\n",
       "      <td>0.0</td>\n",
       "    </tr>\n",
       "    <tr>\n",
       "      <th>1139657</th>\n",
       "      <td>2021-05-16</td>\n",
       "      <td>bhuvanhrithish</td>\n",
       "      <td>135</td>\n",
       "      <td>0.0</td>\n",
       "      <td>0.0</td>\n",
       "    </tr>\n",
       "    <tr>\n",
       "      <th>974175</th>\n",
       "      <td>2021-01-20</td>\n",
       "      <td>thecombatclinic_</td>\n",
       "      <td>134</td>\n",
       "      <td>139.0</td>\n",
       "      <td>0.0</td>\n",
       "    </tr>\n",
       "    <tr>\n",
       "      <th>937384</th>\n",
       "      <td>2020-12-28</td>\n",
       "      <td>angel_amber__heard</td>\n",
       "      <td>129</td>\n",
       "      <td>131.0</td>\n",
       "      <td>0.0</td>\n",
       "    </tr>\n",
       "    <tr>\n",
       "      <th>637093</th>\n",
       "      <td>2020-07-12</td>\n",
       "      <td>thatsfabofficial</td>\n",
       "      <td>127</td>\n",
       "      <td>602.0</td>\n",
       "      <td>0.0</td>\n",
       "    </tr>\n",
       "  </tbody>\n",
       "</table>\n",
       "</div>"
      ],
      "text/plain": [
       "               date              username  n_comments  n_likes  n_replies\n",
       "709442   2020-08-24        sinasbutterfly         836     17.0        2.0\n",
       "1168335  2021-06-05           anaww._.opi         359     20.0        0.0\n",
       "1170715  2021-06-06           hasti._mm90         302     14.0        4.0\n",
       "1169236  2021-06-05            maral_kp99         292     15.0        2.0\n",
       "1171113  2021-06-06            maral_kp99         250     11.0        6.0\n",
       "1168863  2021-06-05           hasti._mm90         215      9.0        1.0\n",
       "1170141  2021-06-06           anaww._.opi         189     14.0        3.0\n",
       "999503   2021-02-11    angel_amber__heard         183    200.0        0.0\n",
       "162874   2018-12-24       missdanicosplay         175    166.0        3.0\n",
       "1168735  2021-06-05  fateme.hoseinzadeh66         156      7.0        0.0\n",
       "1031975  2021-03-03  jenniferlowrence.ex_         152    167.0        0.0\n",
       "1139657  2021-05-16        bhuvanhrithish         135      0.0        0.0\n",
       "974175   2021-01-20      thecombatclinic_         134    139.0        0.0\n",
       "937384   2020-12-28    angel_amber__heard         129    131.0        0.0\n",
       "637093   2020-07-12      thatsfabofficial         127    602.0        0.0"
      ]
     },
     "execution_count": 72,
     "metadata": {},
     "output_type": "execute_result"
    }
   ],
   "source": [
    "df = df_comments.groupby(['date', 'username']).agg({'message':'count', 'n_likes': 'sum', 'n_replies': 'sum'}).reset_index(\n",
    ").rename(columns={'message':'n_comments'}).sort_values('n_comments', ascending=False)\n",
    "\n",
    "print(\"\\nInvestigated --> These Users are Posting Normal Comments\\n\")\n",
    "df.head(15)"
   ]
  },
  {
   "cell_type": "markdown",
   "id": "63215c43",
   "metadata": {},
   "source": [
    "    "
   ]
  },
  {
   "cell_type": "markdown",
   "id": "227f5d2f",
   "metadata": {},
   "source": [
    "### Peak Dates"
   ]
  },
  {
   "cell_type": "code",
   "execution_count": 73,
   "id": "a7a6492e",
   "metadata": {},
   "outputs": [
    {
     "data": {
      "text/html": [
       "<div>\n",
       "<style scoped>\n",
       "    .dataframe tbody tr th:only-of-type {\n",
       "        vertical-align: middle;\n",
       "    }\n",
       "\n",
       "    .dataframe tbody tr th {\n",
       "        vertical-align: top;\n",
       "    }\n",
       "\n",
       "    .dataframe thead th {\n",
       "        text-align: right;\n",
       "    }\n",
       "</style>\n",
       "<table border=\"1\" class=\"dataframe\">\n",
       "  <thead>\n",
       "    <tr style=\"text-align: right;\">\n",
       "      <th></th>\n",
       "      <th>date</th>\n",
       "      <th>n_comments</th>\n",
       "      <th>n_replies</th>\n",
       "      <th>n_likes</th>\n",
       "    </tr>\n",
       "  </thead>\n",
       "  <tbody>\n",
       "    <tr>\n",
       "      <th>1047</th>\n",
       "      <td>2020-11-13</td>\n",
       "      <td>10407</td>\n",
       "      <td>5020.0</td>\n",
       "      <td>155110.0</td>\n",
       "    </tr>\n",
       "    <tr>\n",
       "      <th>1036</th>\n",
       "      <td>2020-11-02</td>\n",
       "      <td>8659</td>\n",
       "      <td>4083.0</td>\n",
       "      <td>83069.0</td>\n",
       "    </tr>\n",
       "    <tr>\n",
       "      <th>1041</th>\n",
       "      <td>2020-11-07</td>\n",
       "      <td>8123</td>\n",
       "      <td>2890.0</td>\n",
       "      <td>82691.0</td>\n",
       "    </tr>\n",
       "    <tr>\n",
       "      <th>1048</th>\n",
       "      <td>2020-11-14</td>\n",
       "      <td>6086</td>\n",
       "      <td>1138.0</td>\n",
       "      <td>51965.0</td>\n",
       "    </tr>\n",
       "    <tr>\n",
       "      <th>919</th>\n",
       "      <td>2020-07-08</td>\n",
       "      <td>6068</td>\n",
       "      <td>2263.0</td>\n",
       "      <td>74994.0</td>\n",
       "    </tr>\n",
       "  </tbody>\n",
       "</table>\n",
       "</div>"
      ],
      "text/plain": [
       "           date  n_comments  n_replies   n_likes\n",
       "1047 2020-11-13       10407     5020.0  155110.0\n",
       "1036 2020-11-02        8659     4083.0   83069.0\n",
       "1041 2020-11-07        8123     2890.0   82691.0\n",
       "1048 2020-11-14        6086     1138.0   51965.0\n",
       "919  2020-07-08        6068     2263.0   74994.0"
      ]
     },
     "execution_count": 73,
     "metadata": {},
     "output_type": "execute_result"
    }
   ],
   "source": [
    "df_ncomments.head()"
   ]
  },
  {
   "cell_type": "markdown",
   "id": "dbabfd46",
   "metadata": {},
   "source": [
    "### 2020-11-13"
   ]
  },
  {
   "cell_type": "code",
   "execution_count": 74,
   "id": "6d26b3a4",
   "metadata": {},
   "outputs": [
    {
     "data": {
      "text/plain": [
       "visannelutu             48\n",
       "universe_.marvel        44\n",
       "lks_ctm                 41\n",
       "netos.k                 36\n",
       "v4l3nt1nlol             30\n",
       "becauseitsjohnnydepp    28\n",
       "di22mendez              25\n",
       "notdiko                 23\n",
       "sonneterio              21\n",
       "cris.chichenol          19\n",
       "Name: username, dtype: int64"
      ]
     },
     "execution_count": 74,
     "metadata": {},
     "output_type": "execute_result"
    }
   ],
   "source": [
    "df_comments[df_comments.datetime.dt.date.astype(str) == \"2020-11-13\"][\n",
    "    \"username\"\n",
    "].value_counts().head(10)"
   ]
  },
  {
   "cell_type": "markdown",
   "id": "db4849a1",
   "metadata": {},
   "source": [
    "#### di22mendez   \n",
    "<font color='red'>negative comments</font> | <font color='red'>newly created</font>\n",
    "- Account created on FEBRUARY 6, 2021\n",
    "- 12 posts\n",
    "- 235 followers\n",
    "- 5,163 following"
   ]
  },
  {
   "cell_type": "code",
   "execution_count": 75,
   "id": "9dd9b5c7",
   "metadata": {},
   "outputs": [],
   "source": [
    "neg_users = neg_users|{'di22mendez'}\n",
    "neg_text = neg_text|{'remove amber', 'remove-amber', 'removed'}"
   ]
  },
  {
   "cell_type": "code",
   "execution_count": 76,
   "id": "eedf5597",
   "metadata": {},
   "outputs": [
    {
     "data": {
      "text/plain": [
       "@avilaricardoj https://www.change.org/p/dc-entertainment-remove-amber-heard-from-aquaman-2                       1\n",
       "@soyjosebruges https://www.change.org/p/dc-entertainment-remove-amber-heard-from-aquaman-2                       1\n",
       "@_black_.myrram._ oks                                                                                            1\n",
       "@lautaro.g.barrios https://www.change.org/p/dc-entertainment-remove-amber-heard-from-aquaman-2                   1\n",
       "@gftg5062442 te lo paso jsjsjs 😂🕊                                                                                1\n",
       "@galarz.ivan https://www.change.org/p/dc-entertainment-remove-amber-heard-from-aquaman-2                         1\n",
       "@josh_emef aah, crei que decias que ya había ganado :)                                                           1\n",
       "@josh_emef no ganó el juicio aún. johnny perdió contra un portal de noticias, no contra amber.                   1\n",
       "@_mmaaxxii._ oks                                                                                                 1\n",
       "@mcqueen_2905 https://www.change.org/p/dc-entertainment-remove-amber-heard-from-aquaman-2                        1\n",
       "@triocomix claro 🕊                                                                                               1\n",
       "@loreli_nevare https://www.change.org/p/dc-entertainment-remove-amber-heard-from-aquaman-2                       1\n",
       "@jonymirart https://www.change.org/p/dc-entertainment-remove-amber-heard-from-aquaman-2                          1\n",
       "@alcachofasjuanito433 de hecho amber ya consiguió un papel en una película, y en una serie de stephen king :(    1\n",
       "@fatima23serrano https://www.change.org/p/dc-entertainment-remove-amber-heard-from-aquaman-2                     1\n",
       "Name: message, dtype: int64"
      ]
     },
     "execution_count": 76,
     "metadata": {},
     "output_type": "execute_result"
    }
   ],
   "source": [
    "df_comments.query(\"username == 'di22mendez'\")['message'].value_counts().head(15)"
   ]
  },
  {
   "cell_type": "code",
   "execution_count": 77,
   "id": "bba6aa48",
   "metadata": {},
   "outputs": [
    {
     "data": {
      "image/svg+xml": [
       "<svg class=\"main-svg\" xmlns=\"http://www.w3.org/2000/svg\" xmlns:xlink=\"http://www.w3.org/1999/xlink\" width=\"950\" height=\"550\" style=\"\" viewBox=\"0 0 950 550\"><rect x=\"0\" y=\"0\" width=\"950\" height=\"550\" style=\"fill: rgb(255, 255, 255); fill-opacity: 1;\"/><defs id=\"defs-54593f\"><g class=\"clips\"><clipPath id=\"clip54593fxyplot\" class=\"plotclip\"><rect width=\"790\" height=\"348\"/></clipPath><clipPath class=\"axesclip\" id=\"clip54593fx\"><rect x=\"80\" y=\"0\" width=\"790\" height=\"550\"/></clipPath><clipPath class=\"axesclip\" id=\"clip54593fy\"><rect x=\"0\" y=\"100\" width=\"950\" height=\"348\"/></clipPath><clipPath class=\"axesclip\" id=\"clip54593fxy\"><rect x=\"80\" y=\"100\" width=\"790\" height=\"348\"/></clipPath></g><g class=\"gradients\"/><g class=\"patterns\"/></defs><g class=\"bglayer\"><rect class=\"bg\" x=\"80\" y=\"100\" width=\"790\" height=\"348\" style=\"fill: rgb(229, 236, 246); fill-opacity: 1; stroke-width: 0;\"/></g><g class=\"layer-below\"><g class=\"imagelayer\"/><g class=\"shapelayer\"/></g><g class=\"cartesianlayer\"><g class=\"subplot xy\"><g class=\"layer-subplot\"><g class=\"shapelayer\"/><g class=\"imagelayer\"/></g><g class=\"gridlayer\"><g class=\"x\"/><g class=\"y\"><path class=\"ygrid crisp\" transform=\"translate(0,381.88)\" d=\"M80,0h790\" style=\"stroke: rgb(255, 255, 255); stroke-opacity: 1; stroke-width: 1px;\"/><path class=\"ygrid crisp\" transform=\"translate(0,315.76)\" d=\"M80,0h790\" style=\"stroke: rgb(255, 255, 255); stroke-opacity: 1; stroke-width: 1px;\"/><path class=\"ygrid crisp\" transform=\"translate(0,249.64)\" d=\"M80,0h790\" style=\"stroke: rgb(255, 255, 255); stroke-opacity: 1; stroke-width: 1px;\"/><path class=\"ygrid crisp\" transform=\"translate(0,183.51999999999998)\" d=\"M80,0h790\" style=\"stroke: rgb(255, 255, 255); stroke-opacity: 1; stroke-width: 1px;\"/><path class=\"ygrid crisp\" transform=\"translate(0,117.4)\" d=\"M80,0h790\" style=\"stroke: rgb(255, 255, 255); stroke-opacity: 1; stroke-width: 1px;\"/></g></g><g class=\"zerolinelayer\"><path class=\"yzl zl crisp\" transform=\"translate(0,448)\" d=\"M80,0h790\" style=\"stroke: rgb(255, 255, 255); stroke-opacity: 1; stroke-width: 2px;\"/></g><path class=\"xlines-below\"/><path class=\"ylines-below\"/><g class=\"overlines-below\"/><g class=\"xaxislayer-below\"/><g class=\"yaxislayer-below\"/><g class=\"overaxes-below\"/><g class=\"plot\" transform=\"translate(80,100)\" clip-path=\"url(#clip54593fxyplot)\"><g class=\"barlayer mlayer\"><g class=\"trace bars\" style=\"opacity: 1;\"><g class=\"points\"><g class=\"point\"><path d=\"M79,348V17.4H711V348Z\" style=\"vector-effect: non-scaling-stroke; opacity: 1; stroke-width: 0.5px; fill: rgb(255, 0, 0); fill-opacity: 1; stroke: rgb(229, 236, 246); stroke-opacity: 1;\"/><text class=\"bartext bartext-inside\" text-anchor=\"middle\" data-notex=\"1\" x=\"0\" y=\"0\" style=\"font-family: 'Open Sans', verdana, arial, sans-serif; font-size: 12px; fill: rgb(255, 255, 255); fill-opacity: 1; white-space: pre;\" transform=\"translate(395,33.4)\">25</text></g></g></g></g></g><g class=\"overplot\"/><path class=\"xlines-above crisp\" d=\"M0,0\" style=\"fill: none;\"/><path class=\"ylines-above crisp\" d=\"M0,0\" style=\"fill: none;\"/><g class=\"overlines-above\"/><g class=\"xaxislayer-above\"><g class=\"xtick\"><text text-anchor=\"start\" x=\"0\" y=\"461\" transform=\"translate(475,0) rotate(45,0,455)\" style=\"font-family: 'Open Sans', verdana, arial, sans-serif; font-size: 12px; fill: rgb(42, 63, 95); fill-opacity: 1; white-space: pre; opacity: 1;\">Nov 13, 2020</text></g></g><g class=\"yaxislayer-above\"><g class=\"ytick\"><text text-anchor=\"end\" x=\"79\" y=\"4.199999999999999\" transform=\"translate(0,448)\" style=\"font-family: 'Open Sans', verdana, arial, sans-serif; font-size: 12px; fill: rgb(42, 63, 95); fill-opacity: 1; white-space: pre; opacity: 1;\">0</text></g><g class=\"ytick\"><text text-anchor=\"end\" x=\"79\" y=\"4.199999999999999\" style=\"font-family: 'Open Sans', verdana, arial, sans-serif; font-size: 12px; fill: rgb(42, 63, 95); fill-opacity: 1; white-space: pre; opacity: 1;\" transform=\"translate(0,381.88)\">5</text></g><g class=\"ytick\"><text text-anchor=\"end\" x=\"79\" y=\"4.199999999999999\" style=\"font-family: 'Open Sans', verdana, arial, sans-serif; font-size: 12px; fill: rgb(42, 63, 95); fill-opacity: 1; white-space: pre; opacity: 1;\" transform=\"translate(0,315.76)\">10</text></g><g class=\"ytick\"><text text-anchor=\"end\" x=\"79\" y=\"4.199999999999999\" style=\"font-family: 'Open Sans', verdana, arial, sans-serif; font-size: 12px; fill: rgb(42, 63, 95); fill-opacity: 1; white-space: pre; opacity: 1;\" transform=\"translate(0,249.64)\">15</text></g><g class=\"ytick\"><text text-anchor=\"end\" x=\"79\" y=\"4.199999999999999\" style=\"font-family: 'Open Sans', verdana, arial, sans-serif; font-size: 12px; fill: rgb(42, 63, 95); fill-opacity: 1; white-space: pre; opacity: 1;\" transform=\"translate(0,183.51999999999998)\">20</text></g><g class=\"ytick\"><text text-anchor=\"end\" x=\"79\" y=\"4.199999999999999\" style=\"font-family: 'Open Sans', verdana, arial, sans-serif; font-size: 12px; fill: rgb(42, 63, 95); fill-opacity: 1; white-space: pre; opacity: 1;\" transform=\"translate(0,117.4)\">25</text></g></g><g class=\"overaxes-above\"/></g></g><g class=\"polarlayer\"/><g class=\"ternarylayer\"/><g class=\"geolayer\"/><g class=\"funnelarealayer\"/><g class=\"pielayer\"/><g class=\"iciclelayer\"/><g class=\"treemaplayer\"/><g class=\"sunburstlayer\"/><g class=\"glimages\"/><defs id=\"topdefs-54593f\"><g class=\"clips\"/></defs><g class=\"layer-above\"><g class=\"imagelayer\"/><g class=\"shapelayer\"/></g><g class=\"infolayer\"><g class=\"g-gtitle\"><text class=\"gtitle\" x=\"47.5\" y=\"50\" text-anchor=\"start\" dy=\"0em\" style=\"font-family: 'Open Sans', verdana, arial, sans-serif; font-size: 17px; fill: rgb(42, 63, 95); opacity: 1; font-weight: normal; white-space: pre;\">Commenting dates for \"di22mendez\"</text></g><g class=\"g-xtitle\"><text class=\"xtitle\" x=\"475\" y=\"537.89375\" text-anchor=\"middle\" style=\"font-family: 'Open Sans', verdana, arial, sans-serif; font-size: 14px; fill: rgb(42, 63, 95); opacity: 1; font-weight: normal; white-space: pre;\">Comments Creation Date</text></g><g class=\"g-ytitle\"><text class=\"ytitle\" transform=\"rotate(-90,40.465625,274)\" x=\"40.465625\" y=\"274\" text-anchor=\"middle\" style=\"font-family: 'Open Sans', verdana, arial, sans-serif; font-size: 14px; fill: rgb(42, 63, 95); opacity: 1; font-weight: normal; white-space: pre;\">n_comments</text></g></g></svg>"
      ]
     },
     "metadata": {},
     "output_type": "display_data"
    }
   ],
   "source": [
    "bar_peaks(get_top(df_comments[df_comments.username == \"di22mendez\"], 'date', 8, 'date', 'n_comments'),\n",
    "         'Commenting dates for \"di22mendez\"')"
   ]
  },
  {
   "cell_type": "markdown",
   "id": "cd57e709",
   "metadata": {},
   "source": [
    "#### becauseitsjohnnydepp  \n",
    "<font color='red'>negative comments</font>\n",
    "\n",
    "- first posted on Aug 23, 2016  \n",
    "- has a total of 10,810 posts \n",
    "- 35.7k followers\n",
    "- 1,968 following\n",
    "- becauseitsjohnnydepp ^ created around September 2016"
   ]
  },
  {
   "cell_type": "code",
   "execution_count": 78,
   "id": "1462cd05",
   "metadata": {},
   "outputs": [],
   "source": [
    "neg_users = neg_users|{'becauseitsjohnnydepp'}\n",
    "neg_text = neg_text|{'justiceforjohnnydepp', 'amber lunge', 'assaulted johnny', 'amberheardisanabuser',\n",
    "                     'clawing', 'tugging', 'aggressively pull', 'amber-heard-abus', 'amber heard abus', \n",
    "                     'amber-abus', 'amber abus'}"
   ]
  },
  {
   "cell_type": "code",
   "execution_count": 79,
   "id": "d048af5f",
   "metadata": {},
   "outputs": [
    {
     "data": {
      "text/plain": [
       "#justiceforjohnnydepp                                                                                                                                                                                                                                                     55\n",
       "#justiceforjohnnydepp https://www.change.org/p/the-people-warner-bros-bring-johnny-depp-back-as-gellert-grindelwald                                                                                                                                                       29\n",
       "https://www.change.org/p/the-people-warner-bros-bring-johnny-depp-back-as-gellert-grindelwald #justiceforjohnnydepp                                                                                                                                                       28\n",
       "#justiceforjohnnydepp https://meaww.com/johnny-depp-children-amber-heard-abusing-bahamas-actor-estate-manager                                                                                                                                                             15\n",
       "https://www.change.org/p/dc-entertainment-remove-amber-heard-from-aquaman-2 #amberheardisanabuser                                                                                                                                                                          8\n",
       "https://meaww.com/johnny-depp-children-amber-heard-abusing-bahamas-actor-estate-manager #justiceforjohnnydepp                                                                                                                                                              8\n",
       "https://www.change.org/p/dc-entertainment-remove-amber-heard-from-aquaman-2                                                                                                                                                                                                7\n",
       "#justiceforjohnnydepp https://www.change.org/p/walt-disney-we-want-johnny-depp-back-as-captain-jack-sparrow                                                                                                                                                                6\n",
       "#justiceforjohnnydepp https://www.change.org/p/dc-entertainment-remove-amber-heard-from-aquaman-2                                                                                                                                                                          6\n",
       "https://www.change.org/p/the-people-warner-bros-bring-johnny-depp-back-as-gellert-grindelwald #boycottwarnerbros #justiceforjohnnydepp                                                                                                                                     5\n",
       "#boycottwarnerbros #justiceforjohnnydepp https://www.change.org/p/the-people-warner-bros-bring-johnny-depp-back-as-gellert-grindelwald                                                                                                                                     5\n",
       "#amberheardisanabuser                                                                                                                                                                                                                                                      4\n",
       "https://www.change.org/p/the-people-warner-bros-bring-johnny-depp-back-as-gellert-grindelwald                                                                                                                                                                              3\n",
       "#justiceforjohnnydepp \\namber heard assaulted johnny depp when his children were in the house:\\n'i saw amber lunge at johnny, clawing, tugging and aggressively pulling him.'\\nhttps://meaww.com/johnny-depp-children-amber-heard-abusing-bahamas-actor-estate-manager     3\n",
       "https://www.change.org/p/the-people-warner-bros-bring-johnny-depp-back-as-gellert-grindelwald#justiceforjohnnydepp                                                                                                                                                         2\n",
       "Name: message, dtype: int64"
      ]
     },
     "execution_count": 79,
     "metadata": {},
     "output_type": "execute_result"
    }
   ],
   "source": [
    "df_comments.query(\"username == 'becauseitsjohnnydepp'\")['message'].value_counts().head(15)"
   ]
  },
  {
   "cell_type": "code",
   "execution_count": 80,
   "id": "01a48453",
   "metadata": {},
   "outputs": [
    {
     "data": {
      "image/svg+xml": [
       "<svg class=\"main-svg\" xmlns=\"http://www.w3.org/2000/svg\" xmlns:xlink=\"http://www.w3.org/1999/xlink\" width=\"950\" height=\"550\" style=\"\" viewBox=\"0 0 950 550\"><rect x=\"0\" y=\"0\" width=\"950\" height=\"550\" style=\"fill: rgb(255, 255, 255); fill-opacity: 1;\"/><defs id=\"defs-6f634b\"><g class=\"clips\"><clipPath id=\"clip6f634bxyplot\" class=\"plotclip\"><rect width=\"790\" height=\"348\"/></clipPath><clipPath class=\"axesclip\" id=\"clip6f634bx\"><rect x=\"80\" y=\"0\" width=\"790\" height=\"550\"/></clipPath><clipPath class=\"axesclip\" id=\"clip6f634by\"><rect x=\"0\" y=\"100\" width=\"950\" height=\"348\"/></clipPath><clipPath class=\"axesclip\" id=\"clip6f634bxy\"><rect x=\"80\" y=\"100\" width=\"790\" height=\"348\"/></clipPath></g><g class=\"gradients\"/><g class=\"patterns\"/></defs><g class=\"bglayer\"><rect class=\"bg\" x=\"80\" y=\"100\" width=\"790\" height=\"348\" style=\"fill: rgb(229, 236, 246); fill-opacity: 1; stroke-width: 0;\"/></g><g class=\"layer-below\"><g class=\"imagelayer\"/><g class=\"shapelayer\"/></g><g class=\"cartesianlayer\"><g class=\"subplot xy\"><g class=\"layer-subplot\"><g class=\"shapelayer\"/><g class=\"imagelayer\"/></g><g class=\"gridlayer\"><g class=\"x\"/><g class=\"y\"><path class=\"ygrid crisp\" transform=\"translate(0,388.96)\" d=\"M80,0h790\" style=\"stroke: rgb(255, 255, 255); stroke-opacity: 1; stroke-width: 1px;\"/><path class=\"ygrid crisp\" transform=\"translate(0,329.93)\" d=\"M80,0h790\" style=\"stroke: rgb(255, 255, 255); stroke-opacity: 1; stroke-width: 1px;\"/><path class=\"ygrid crisp\" transform=\"translate(0,270.89)\" d=\"M80,0h790\" style=\"stroke: rgb(255, 255, 255); stroke-opacity: 1; stroke-width: 1px;\"/><path class=\"ygrid crisp\" transform=\"translate(0,211.86)\" d=\"M80,0h790\" style=\"stroke: rgb(255, 255, 255); stroke-opacity: 1; stroke-width: 1px;\"/><path class=\"ygrid crisp\" transform=\"translate(0,152.82)\" d=\"M80,0h790\" style=\"stroke: rgb(255, 255, 255); stroke-opacity: 1; stroke-width: 1px;\"/></g></g><g class=\"zerolinelayer\"><path class=\"yzl zl crisp\" transform=\"translate(0,448)\" d=\"M80,0h790\" style=\"stroke: rgb(255, 255, 255); stroke-opacity: 1; stroke-width: 2px;\"/></g><path class=\"xlines-below\"/><path class=\"ylines-below\"/><g class=\"overlines-below\"/><g class=\"xaxislayer-below\"/><g class=\"yaxislayer-below\"/><g class=\"overaxes-below\"/><g class=\"plot\" transform=\"translate(80,100)\" clip-path=\"url(#clip6f634bxyplot)\"><g class=\"barlayer mlayer\"><g class=\"trace bars\" style=\"opacity: 1;\"><g class=\"points\"><g class=\"point\"><path d=\"M531.93,348V17.4H574.07V348Z\" style=\"vector-effect: non-scaling-stroke; opacity: 1; stroke-width: 0.5px; fill: rgb(255, 0, 0); fill-opacity: 1; stroke: rgb(229, 236, 246); stroke-opacity: 1;\"/><text class=\"bartext bartext-inside\" text-anchor=\"middle\" data-notex=\"1\" x=\"0\" y=\"0\" style=\"font-family: 'Open Sans', verdana, arial, sans-serif; font-size: 12px; fill: rgb(255, 255, 255); fill-opacity: 1; white-space: pre;\" transform=\"translate(553,33.4)\">28</text></g><g class=\"point\"><path d=\"M5.27,348V41.01H47.4V348Z\" style=\"vector-effect: non-scaling-stroke; opacity: 1; stroke-width: 0.5px; fill: rgb(255, 0, 0); fill-opacity: 1; stroke: rgb(229, 236, 246); stroke-opacity: 1;\"/><text class=\"bartext bartext-inside\" text-anchor=\"middle\" data-notex=\"1\" x=\"0\" y=\"0\" style=\"font-family: 'Open Sans', verdana, arial, sans-serif; font-size: 12px; fill: rgb(255, 255, 255); fill-opacity: 1; white-space: pre;\" transform=\"translate(26.335,57.01)\">26</text></g><g class=\"point\"><path d=\"M268.6,348V206.31H310.73V348Z\" style=\"vector-effect: non-scaling-stroke; opacity: 1; stroke-width: 0.5px; fill: rgb(255, 0, 0); fill-opacity: 1; stroke: rgb(229, 236, 246); stroke-opacity: 1;\"/><text class=\"bartext bartext-inside\" text-anchor=\"middle\" data-notex=\"1\" x=\"0\" y=\"0\" style=\"font-family: 'Open Sans', verdana, arial, sans-serif; font-size: 12px; fill: rgb(255, 255, 255); fill-opacity: 1; white-space: pre;\" transform=\"translate(289.665,222.31)\">12</text></g><g class=\"point\"><path d=\"M215.93,348V206.31H258.07V348Z\" style=\"vector-effect: non-scaling-stroke; opacity: 1; stroke-width: 0.5px; fill: rgb(255, 0, 0); fill-opacity: 1; stroke: rgb(229, 236, 246); stroke-opacity: 1;\"/><text class=\"bartext bartext-inside\" text-anchor=\"middle\" data-notex=\"1\" x=\"0\" y=\"0\" style=\"font-family: 'Open Sans', verdana, arial, sans-serif; font-size: 12px; fill: rgb(255, 255, 255); fill-opacity: 1; white-space: pre;\" transform=\"translate(237,222.31)\">12</text></g><g class=\"point\"><path d=\"M637.27,348V229.93H679.4V348Z\" style=\"vector-effect: non-scaling-stroke; opacity: 1; stroke-width: 0.5px; fill: rgb(255, 0, 0); fill-opacity: 1; stroke: rgb(229, 236, 246); stroke-opacity: 1;\"/><text class=\"bartext bartext-inside\" text-anchor=\"middle\" data-notex=\"1\" x=\"0\" y=\"0\" style=\"font-family: 'Open Sans', verdana, arial, sans-serif; font-size: 12px; fill: rgb(255, 255, 255); fill-opacity: 1; white-space: pre;\" transform=\"translate(658.335,245.93)\">10</text></g><g class=\"point\"><path d=\"M426.6,348V241.74H468.73V348Z\" style=\"vector-effect: non-scaling-stroke; opacity: 1; stroke-width: 0.5px; fill: rgb(255, 0, 0); fill-opacity: 1; stroke: rgb(229, 236, 246); stroke-opacity: 1;\"/><text class=\"bartext bartext-inside\" text-anchor=\"middle\" data-notex=\"1\" x=\"0\" y=\"0\" style=\"font-family: 'Open Sans', verdana, arial, sans-serif; font-size: 12px; fill: rgb(255, 255, 255); fill-opacity: 1; white-space: pre;\" transform=\"translate(447.665,257.74)\">9</text></g><g class=\"point\"><path d=\"M742.6,348V241.74H784.73V348Z\" style=\"vector-effect: non-scaling-stroke; opacity: 1; stroke-width: 0.5px; fill: rgb(255, 0, 0); fill-opacity: 1; stroke: rgb(229, 236, 246); stroke-opacity: 1;\"/><text class=\"bartext bartext-inside\" text-anchor=\"middle\" data-notex=\"1\" x=\"0\" y=\"0\" style=\"font-family: 'Open Sans', verdana, arial, sans-serif; font-size: 12px; fill: rgb(255, 255, 255); fill-opacity: 1; white-space: pre;\" transform=\"translate(763.665,257.74)\">9</text></g><g class=\"point\"><path d=\"M479.27,348V253.54H521.4V348Z\" style=\"vector-effect: non-scaling-stroke; opacity: 1; stroke-width: 0.5px; fill: rgb(255, 0, 0); fill-opacity: 1; stroke: rgb(229, 236, 246); stroke-opacity: 1;\"/><text class=\"bartext bartext-inside\" text-anchor=\"middle\" data-notex=\"1\" x=\"0\" y=\"0\" style=\"font-family: 'Open Sans', verdana, arial, sans-serif; font-size: 12px; fill: rgb(255, 255, 255); fill-opacity: 1; white-space: pre;\" transform=\"translate(500.335,269.53999999999996)\">8</text></g></g></g></g></g><g class=\"overplot\"/><path class=\"xlines-above crisp\" d=\"M0,0\" style=\"fill: none;\"/><path class=\"ylines-above crisp\" d=\"M0,0\" style=\"fill: none;\"/><g class=\"overlines-above\"/><g class=\"xaxislayer-above\"><g class=\"xtick\"><text text-anchor=\"start\" x=\"0\" y=\"461\" transform=\"translate(633,0) rotate(45,0,455)\" style=\"font-family: 'Open Sans', verdana, arial, sans-serif; font-size: 12px; fill: rgb(42, 63, 95); fill-opacity: 1; white-space: pre; opacity: 1;\">Nov 13, 2020</text></g><g class=\"xtick\"><text text-anchor=\"start\" x=\"0\" y=\"461\" style=\"font-family: 'Open Sans', verdana, arial, sans-serif; font-size: 12px; fill: rgb(42, 63, 95); fill-opacity: 1; white-space: pre; opacity: 1;\" transform=\"translate(106.33,0) rotate(45,0,455)\">Nov 3, 2020</text></g><g class=\"xtick\"><text text-anchor=\"start\" x=\"0\" y=\"461\" style=\"font-family: 'Open Sans', verdana, arial, sans-serif; font-size: 12px; fill: rgb(42, 63, 95); fill-opacity: 1; white-space: pre; opacity: 1;\" transform=\"translate(369.67,0) rotate(45,0,455)\">Nov 8, 2020</text></g><g class=\"xtick\"><text text-anchor=\"start\" x=\"0\" y=\"461\" style=\"font-family: 'Open Sans', verdana, arial, sans-serif; font-size: 12px; fill: rgb(42, 63, 95); fill-opacity: 1; white-space: pre; opacity: 1;\" transform=\"translate(317,0) rotate(45,0,455)\">Nov 7, 2020</text></g><g class=\"xtick\"><text text-anchor=\"start\" x=\"0\" y=\"461\" style=\"font-family: 'Open Sans', verdana, arial, sans-serif; font-size: 12px; fill: rgb(42, 63, 95); fill-opacity: 1; white-space: pre; opacity: 1;\" transform=\"translate(738.33,0) rotate(45,0,455)\">Nov 15, 2020</text></g><g class=\"xtick\"><text text-anchor=\"start\" x=\"0\" y=\"461\" style=\"font-family: 'Open Sans', verdana, arial, sans-serif; font-size: 12px; fill: rgb(42, 63, 95); fill-opacity: 1; white-space: pre; opacity: 1;\" transform=\"translate(527.6700000000001,0) rotate(45,0,455)\">Nov 11, 2020</text></g><g class=\"xtick\"><text text-anchor=\"start\" x=\"0\" y=\"461\" style=\"font-family: 'Open Sans', verdana, arial, sans-serif; font-size: 12px; fill: rgb(42, 63, 95); fill-opacity: 1; white-space: pre; opacity: 1;\" transform=\"translate(843.67,0) rotate(45,0,455)\">Nov 17, 2020</text></g><g class=\"xtick\"><text text-anchor=\"start\" x=\"0\" y=\"461\" style=\"font-family: 'Open Sans', verdana, arial, sans-serif; font-size: 12px; fill: rgb(42, 63, 95); fill-opacity: 1; white-space: pre; opacity: 1;\" transform=\"translate(580.3299999999999,0) rotate(45,0,455)\">Nov 12, 2020</text></g></g><g class=\"yaxislayer-above\"><g class=\"ytick\"><text text-anchor=\"end\" x=\"79\" y=\"4.199999999999999\" transform=\"translate(0,448)\" style=\"font-family: 'Open Sans', verdana, arial, sans-serif; font-size: 12px; fill: rgb(42, 63, 95); fill-opacity: 1; white-space: pre; opacity: 1;\">0</text></g><g class=\"ytick\"><text text-anchor=\"end\" x=\"79\" y=\"4.199999999999999\" style=\"font-family: 'Open Sans', verdana, arial, sans-serif; font-size: 12px; fill: rgb(42, 63, 95); fill-opacity: 1; white-space: pre; opacity: 1;\" transform=\"translate(0,388.96)\">5</text></g><g class=\"ytick\"><text text-anchor=\"end\" x=\"79\" y=\"4.199999999999999\" style=\"font-family: 'Open Sans', verdana, arial, sans-serif; font-size: 12px; fill: rgb(42, 63, 95); fill-opacity: 1; white-space: pre; opacity: 1;\" transform=\"translate(0,329.93)\">10</text></g><g class=\"ytick\"><text text-anchor=\"end\" x=\"79\" y=\"4.199999999999999\" style=\"font-family: 'Open Sans', verdana, arial, sans-serif; font-size: 12px; fill: rgb(42, 63, 95); fill-opacity: 1; white-space: pre; opacity: 1;\" transform=\"translate(0,270.89)\">15</text></g><g class=\"ytick\"><text text-anchor=\"end\" x=\"79\" y=\"4.199999999999999\" style=\"font-family: 'Open Sans', verdana, arial, sans-serif; font-size: 12px; fill: rgb(42, 63, 95); fill-opacity: 1; white-space: pre; opacity: 1;\" transform=\"translate(0,211.86)\">20</text></g><g class=\"ytick\"><text text-anchor=\"end\" x=\"79\" y=\"4.199999999999999\" style=\"font-family: 'Open Sans', verdana, arial, sans-serif; font-size: 12px; fill: rgb(42, 63, 95); fill-opacity: 1; white-space: pre; opacity: 1;\" transform=\"translate(0,152.82)\">25</text></g></g><g class=\"overaxes-above\"/></g></g><g class=\"polarlayer\"/><g class=\"ternarylayer\"/><g class=\"geolayer\"/><g class=\"funnelarealayer\"/><g class=\"pielayer\"/><g class=\"iciclelayer\"/><g class=\"treemaplayer\"/><g class=\"sunburstlayer\"/><g class=\"glimages\"/><defs id=\"topdefs-6f634b\"><g class=\"clips\"/></defs><g class=\"layer-above\"><g class=\"imagelayer\"/><g class=\"shapelayer\"/></g><g class=\"infolayer\"><g class=\"g-gtitle\"><text class=\"gtitle\" x=\"47.5\" y=\"50\" text-anchor=\"start\" dy=\"0em\" style=\"font-family: 'Open Sans', verdana, arial, sans-serif; font-size: 17px; fill: rgb(42, 63, 95); opacity: 1; font-weight: normal; white-space: pre;\">Commenting dates for \"becauseitsjohnnydepp\"</text></g><g class=\"g-xtitle\"><text class=\"xtitle\" x=\"475\" y=\"537.89375\" text-anchor=\"middle\" style=\"font-family: 'Open Sans', verdana, arial, sans-serif; font-size: 14px; fill: rgb(42, 63, 95); opacity: 1; font-weight: normal; white-space: pre;\">Comments Creation Date</text></g><g class=\"g-ytitle\"><text class=\"ytitle\" transform=\"rotate(-90,40.465625,274)\" x=\"40.465625\" y=\"274\" text-anchor=\"middle\" style=\"font-family: 'Open Sans', verdana, arial, sans-serif; font-size: 14px; fill: rgb(42, 63, 95); opacity: 1; font-weight: normal; white-space: pre;\">n_comments</text></g></g></svg>"
      ]
     },
     "metadata": {},
     "output_type": "display_data"
    }
   ],
   "source": [
    "bar_peaks(get_top(df_comments[df_comments.username == \"becauseitsjohnnydepp\"], 'date', 8, 'date', 'n_comments'),\n",
    "         'Commenting dates for \"becauseitsjohnnydepp\"')"
   ]
  },
  {
   "cell_type": "code",
   "execution_count": 81,
   "id": "a43d31bf",
   "metadata": {},
   "outputs": [
    {
     "data": {
      "text/plain": [
       "#justiceforjohnnydepp                                                                                                  221\n",
       "❤️                                                                                                                      40\n",
       "no                                                                                                                      37\n",
       "😍                                                                                                                       23\n",
       "#justiceforjohnnydepp https://www.change.org/p/the-people-warner-bros-bring-johnny-depp-back-as-gellert-grindelwald     22\n",
       "love you                                                                                                                19\n",
       "❤️❤️❤️                                                                                                                  18\n",
       "😍😍😍                                                                                                                     17\n",
       "#boycottaquaman2                                                                                                        17\n",
       "fuck her                                                                                                                15\n",
       "😍😍😍😍😍                                                                                                                   15\n",
       "fuck amber heard                                                                                                        14\n",
       "🤮                                                                                                                       13\n",
       "bitch                                                                                                                   12\n",
       "🔥🔥🔥                                                                                                                     12\n",
       "https://www.change.org/p/dc-entertainment-remove-amber-heard-from-aquaman-2                                             11\n",
       "❤️❤️❤️❤️                                                                                                                11\n",
       "❤️❤️                                                                                                                    11\n",
       "🔥                                                                                                                       10\n",
       "yes                                                                                                                      9\n",
       "Name: message, dtype: int64"
      ]
     },
     "execution_count": 81,
     "metadata": {},
     "output_type": "execute_result"
    }
   ],
   "source": [
    "df_comments[df_comments.datetime.dt.date.astype(str) == \"2020-11-13\"][\n",
    "    \"message\"\n",
    "].value_counts().head(20)"
   ]
  },
  {
   "cell_type": "markdown",
   "id": "0f45be9e",
   "metadata": {},
   "source": [
    "### 2020-11-02\n",
    "<font color='red'>Lots of negative comments can be seen on that date.</font>"
   ]
  },
  {
   "cell_type": "code",
   "execution_count": 82,
   "id": "7166d4b8",
   "metadata": {},
   "outputs": [
    {
     "data": {
      "text/plain": [
       "queenmusicvidoe      71\n",
       "queenmusicvideo      60\n",
       "_jas_min_pr._        37\n",
       "babikate6            35\n",
       "untilthenia          33\n",
       "amirali.fitness2     33\n",
       "saghar.ttmfar        32\n",
       "academic_force       30\n",
       "tom_hiddleston_ir    30\n",
       "maryam_khaledi_77    30\n",
       "Name: username, dtype: int64"
      ]
     },
     "execution_count": 82,
     "metadata": {},
     "output_type": "execute_result"
    }
   ],
   "source": [
    "df_comments[df_comments.datetime.dt.date.astype(str) == \"2020-11-02\"][\n",
    "    \"username\"\n",
    "].value_counts().head(10)"
   ]
  },
  {
   "cell_type": "markdown",
   "id": "9b13a451",
   "metadata": {},
   "source": [
    "#### tom_hiddleston_ir  \n",
    "<font color='red'>negative comments</font> | <font color='red'>newly created</font>\n",
    "\n",
    "- first posted on OCTOBER 26, 2020\n",
    "- 148 posts\n",
    "- 1,702 followers\n",
    "- 664 following"
   ]
  },
  {
   "cell_type": "code",
   "execution_count": 83,
   "id": "c7f37217",
   "metadata": {},
   "outputs": [],
   "source": [
    "neg_users = neg_users|{'tom_hiddleston_ir'}\n",
    "neg_text = neg_text|{'amberheardisaliar', 'nojohnnynopotc', 'wearewhityoujohnnydepp'}"
   ]
  },
  {
   "cell_type": "code",
   "execution_count": 84,
   "id": "efd9713e",
   "metadata": {},
   "outputs": [
    {
     "name": "stdout",
     "output_type": "stream",
     "text": [
      "\n",
      "Only Posting one Hashtag at a time!!\n",
      "\n"
     ]
    },
    {
     "data": {
      "text/plain": [
       "#nojohnnynopotc            8\n",
       "#justiceforjohnnydepp      6\n",
       "#amberheardisaliar         6\n",
       "#fuckthesun                5\n",
       "#wearewhityoujohnnydepp    5\n",
       "Name: message, dtype: int64"
      ]
     },
     "execution_count": 84,
     "metadata": {},
     "output_type": "execute_result"
    }
   ],
   "source": [
    "print('\\nOnly Posting one Hashtag at a time!!\\n')\n",
    "df_comments.query(\"username == 'tom_hiddleston_ir'\")['message'].value_counts().head(15)"
   ]
  },
  {
   "cell_type": "code",
   "execution_count": 85,
   "id": "856d8e1e",
   "metadata": {},
   "outputs": [
    {
     "data": {
      "image/svg+xml": [
       "<svg class=\"main-svg\" xmlns=\"http://www.w3.org/2000/svg\" xmlns:xlink=\"http://www.w3.org/1999/xlink\" width=\"950\" height=\"550\" style=\"\" viewBox=\"0 0 950 550\"><rect x=\"0\" y=\"0\" width=\"950\" height=\"550\" style=\"fill: rgb(255, 255, 255); fill-opacity: 1;\"/><defs id=\"defs-2f1310\"><g class=\"clips\"><clipPath id=\"clip2f1310xyplot\" class=\"plotclip\"><rect width=\"790\" height=\"353\"/></clipPath><clipPath class=\"axesclip\" id=\"clip2f1310x\"><rect x=\"80\" y=\"0\" width=\"790\" height=\"550\"/></clipPath><clipPath class=\"axesclip\" id=\"clip2f1310y\"><rect x=\"0\" y=\"100\" width=\"950\" height=\"353\"/></clipPath><clipPath class=\"axesclip\" id=\"clip2f1310xy\"><rect x=\"80\" y=\"100\" width=\"790\" height=\"353\"/></clipPath></g><g class=\"gradients\"/><g class=\"patterns\"/></defs><g class=\"bglayer\"><rect class=\"bg\" x=\"80\" y=\"100\" width=\"790\" height=\"353\" style=\"fill: rgb(229, 236, 246); fill-opacity: 1; stroke-width: 0;\"/></g><g class=\"layer-below\"><g class=\"imagelayer\"/><g class=\"shapelayer\"/></g><g class=\"cartesianlayer\"><g class=\"subplot xy\"><g class=\"layer-subplot\"><g class=\"shapelayer\"/><g class=\"imagelayer\"/></g><g class=\"gridlayer\"><g class=\"x\"/><g class=\"y\"><path class=\"ygrid crisp\" transform=\"translate(0,397.11)\" d=\"M80,0h790\" style=\"stroke: rgb(255, 255, 255); stroke-opacity: 1; stroke-width: 1px;\"/><path class=\"ygrid crisp\" transform=\"translate(0,341.22)\" d=\"M80,0h790\" style=\"stroke: rgb(255, 255, 255); stroke-opacity: 1; stroke-width: 1px;\"/><path class=\"ygrid crisp\" transform=\"translate(0,285.33000000000004)\" d=\"M80,0h790\" style=\"stroke: rgb(255, 255, 255); stroke-opacity: 1; stroke-width: 1px;\"/><path class=\"ygrid crisp\" transform=\"translate(0,229.43)\" d=\"M80,0h790\" style=\"stroke: rgb(255, 255, 255); stroke-opacity: 1; stroke-width: 1px;\"/><path class=\"ygrid crisp\" transform=\"translate(0,173.54000000000002)\" d=\"M80,0h790\" style=\"stroke: rgb(255, 255, 255); stroke-opacity: 1; stroke-width: 1px;\"/><path class=\"ygrid crisp\" transform=\"translate(0,117.65)\" d=\"M80,0h790\" style=\"stroke: rgb(255, 255, 255); stroke-opacity: 1; stroke-width: 1px;\"/></g></g><g class=\"zerolinelayer\"><path class=\"yzl zl crisp\" transform=\"translate(0,453)\" d=\"M80,0h790\" style=\"stroke: rgb(255, 255, 255); stroke-opacity: 1; stroke-width: 2px;\"/></g><path class=\"xlines-below\"/><path class=\"ylines-below\"/><g class=\"overlines-below\"/><g class=\"xaxislayer-below\"/><g class=\"yaxislayer-below\"/><g class=\"overaxes-below\"/><g class=\"plot\" transform=\"translate(80,100)\" clip-path=\"url(#clip2f1310xyplot)\"><g class=\"barlayer mlayer\"><g class=\"trace bars\" style=\"opacity: 1;\"><g class=\"points\"><g class=\"point\"><path d=\"M79,353V17.65H711V353Z\" style=\"vector-effect: non-scaling-stroke; opacity: 1; stroke-width: 0.5px; fill: rgb(255, 0, 0); fill-opacity: 1; stroke: rgb(229, 236, 246); stroke-opacity: 1;\"/><text class=\"bartext bartext-inside\" text-anchor=\"middle\" data-notex=\"1\" x=\"0\" y=\"0\" style=\"font-family: 'Open Sans', verdana, arial, sans-serif; font-size: 12px; fill: rgb(255, 255, 255); fill-opacity: 1; white-space: pre;\" transform=\"translate(395,33.65)\">30</text></g></g></g></g></g><g class=\"overplot\"/><path class=\"xlines-above crisp\" d=\"M0,0\" style=\"fill: none;\"/><path class=\"ylines-above crisp\" d=\"M0,0\" style=\"fill: none;\"/><g class=\"overlines-above\"/><g class=\"xaxislayer-above\"><g class=\"xtick\"><text text-anchor=\"start\" x=\"0\" y=\"466\" transform=\"translate(475,0) rotate(45,0,460)\" style=\"font-family: 'Open Sans', verdana, arial, sans-serif; font-size: 12px; fill: rgb(42, 63, 95); fill-opacity: 1; white-space: pre; opacity: 1;\">Nov 2, 2020</text></g></g><g class=\"yaxislayer-above\"><g class=\"ytick\"><text text-anchor=\"end\" x=\"79\" y=\"4.199999999999999\" transform=\"translate(0,453)\" style=\"font-family: 'Open Sans', verdana, arial, sans-serif; font-size: 12px; fill: rgb(42, 63, 95); fill-opacity: 1; white-space: pre; opacity: 1;\">0</text></g><g class=\"ytick\"><text text-anchor=\"end\" x=\"79\" y=\"4.199999999999999\" style=\"font-family: 'Open Sans', verdana, arial, sans-serif; font-size: 12px; fill: rgb(42, 63, 95); fill-opacity: 1; white-space: pre; opacity: 1;\" transform=\"translate(0,397.11)\">5</text></g><g class=\"ytick\"><text text-anchor=\"end\" x=\"79\" y=\"4.199999999999999\" style=\"font-family: 'Open Sans', verdana, arial, sans-serif; font-size: 12px; fill: rgb(42, 63, 95); fill-opacity: 1; white-space: pre; opacity: 1;\" transform=\"translate(0,341.22)\">10</text></g><g class=\"ytick\"><text text-anchor=\"end\" x=\"79\" y=\"4.199999999999999\" style=\"font-family: 'Open Sans', verdana, arial, sans-serif; font-size: 12px; fill: rgb(42, 63, 95); fill-opacity: 1; white-space: pre; opacity: 1;\" transform=\"translate(0,285.33000000000004)\">15</text></g><g class=\"ytick\"><text text-anchor=\"end\" x=\"79\" y=\"4.199999999999999\" style=\"font-family: 'Open Sans', verdana, arial, sans-serif; font-size: 12px; fill: rgb(42, 63, 95); fill-opacity: 1; white-space: pre; opacity: 1;\" transform=\"translate(0,229.43)\">20</text></g><g class=\"ytick\"><text text-anchor=\"end\" x=\"79\" y=\"4.199999999999999\" style=\"font-family: 'Open Sans', verdana, arial, sans-serif; font-size: 12px; fill: rgb(42, 63, 95); fill-opacity: 1; white-space: pre; opacity: 1;\" transform=\"translate(0,173.54000000000002)\">25</text></g><g class=\"ytick\"><text text-anchor=\"end\" x=\"79\" y=\"4.199999999999999\" style=\"font-family: 'Open Sans', verdana, arial, sans-serif; font-size: 12px; fill: rgb(42, 63, 95); fill-opacity: 1; white-space: pre; opacity: 1;\" transform=\"translate(0,117.65)\">30</text></g></g><g class=\"overaxes-above\"/></g></g><g class=\"polarlayer\"/><g class=\"ternarylayer\"/><g class=\"geolayer\"/><g class=\"funnelarealayer\"/><g class=\"pielayer\"/><g class=\"iciclelayer\"/><g class=\"treemaplayer\"/><g class=\"sunburstlayer\"/><g class=\"glimages\"/><defs id=\"topdefs-2f1310\"><g class=\"clips\"/></defs><g class=\"layer-above\"><g class=\"imagelayer\"/><g class=\"shapelayer\"/></g><g class=\"infolayer\"><g class=\"g-gtitle\"><text class=\"gtitle\" x=\"47.5\" y=\"50\" text-anchor=\"start\" dy=\"0em\" style=\"font-family: 'Open Sans', verdana, arial, sans-serif; font-size: 17px; fill: rgb(42, 63, 95); opacity: 1; font-weight: normal; white-space: pre;\">Commenting dates for \"tom_hiddleston_ir\"</text></g><g class=\"g-xtitle\"><text class=\"xtitle\" x=\"475\" y=\"538.0431640625\" text-anchor=\"middle\" style=\"font-family: 'Open Sans', verdana, arial, sans-serif; font-size: 14px; fill: rgb(42, 63, 95); opacity: 1; font-weight: normal; white-space: pre;\">Comments Creation Date</text></g><g class=\"g-ytitle\"><text class=\"ytitle\" transform=\"rotate(-90,40.465625,276.5)\" x=\"40.465625\" y=\"276.5\" text-anchor=\"middle\" style=\"font-family: 'Open Sans', verdana, arial, sans-serif; font-size: 14px; fill: rgb(42, 63, 95); opacity: 1; font-weight: normal; white-space: pre;\">n_comments</text></g></g></svg>"
      ]
     },
     "metadata": {},
     "output_type": "display_data"
    }
   ],
   "source": [
    "bar_peaks(get_top(df_comments[df_comments.username == \"tom_hiddleston_ir\"], 'date', 8, 'date', 'n_comments'),\n",
    "         'Commenting dates for \"tom_hiddleston_ir\"')"
   ]
  },
  {
   "cell_type": "markdown",
   "id": "2647757a",
   "metadata": {},
   "source": [
    "#### queenmusicvidoe  \n",
    "<font color='red'>negative comments</font>\n",
    "\n",
    "- private account\n",
    "- 0 posts\n",
    "- 4 followers\n",
    "- 403 following"
   ]
  },
  {
   "cell_type": "code",
   "execution_count": 86,
   "id": "96f63331",
   "metadata": {},
   "outputs": [],
   "source": [
    "neg_users = neg_users|{'queenmusicvidoe'}"
   ]
  },
  {
   "cell_type": "code",
   "execution_count": 87,
   "id": "5846fcb8",
   "metadata": {},
   "outputs": [
    {
     "name": "stdout",
     "output_type": "stream",
     "text": [
      "\n",
      "Amplifying lots of Hashtags!!\n",
      "\n"
     ]
    },
    {
     "data": {
      "text/plain": [
       "@johnnydepp #wearewithyoujohnnydepp #amberheardisaliar #justiceforjohnnydepp #wearewithyoujohnnydepp #johnnydepp #amberheard #fuckthesun                  24\n",
       "@johnnydepp #wearewithyoujohnnydepp #amberheardisaliar #justiceforjohnnydepp #wearewithyoujohnnydepp #johnnydepp #amberheard #fuckthesun 💫                 3\n",
       "@johnnydepp #wearewithyoujohnnydepp #amberheardisaliar #justiceforjohnnydepp #wearewithyoujohnnydepp #johnnydepp #amberheard #fuckthesun 💙                 3\n",
       "@johnnydepp #wearewithyoujohnnydepp #amberheardisaliar #justiceforjohnnydepp #wearewithyoujohnnydepp #johnnydepp #amberheard #fuckthesun 💙💙💙💙              2\n",
       "@johnnydepp #wearewithyoujohnnydepp #amberheardisaliar #justiceforjohnnydepp #wearewithyoujohnnydepp #johnnydepp #amberheard #fuckthesun ❤️❤️❤️❤️❤️        2\n",
       "@johnnydepp #wearewithyoujohnnydepp #amberheardisaliar #justiceforjohnnydepp #wearewithyoujohnnydepp #johnnydepp #amberheard #fuckthesun 🧡🧡🧡🧡🧡             2\n",
       "@johnnydepp #wearewithyoujohnnydepp #amberheardisaliar #justiceforjohnnydepp #wearewithyoujohnnydepp #johnnydepp #hp #amberheard #fuckthesun               1\n",
       "@johnnydepp #wearewithyoujohnnydepp #amberheardisaliar #justiceforjohnnydepp #wearewithyoujohnnydepp #johnnydepp #amberheard #fuckthesun 💛💛💛💛💛💛💛           1\n",
       "@johnnydepp #wearewithyoujohnnydepp #amberheardisaliar #justiceforjohnnydepp #wearewithyoujohnnydepp #johnnydepp #amberheard #fuckthesun 🧡🧡🧡🧡🧡🧡            1\n",
       "@johnnydepp #wearewithyoujohnnydepp #amberheardisaliar #justiceforjohnnydepp #wearewithyoujohnnydepp #johnnydepp #amberheard #fuckthesun 💫👏💙💛🧡❤️           1\n",
       "@johnnydepp #wearewithyoujohnnydepp #amberheardisaliar #justiceforjohnnydepp #wearewithyoujohnnydepp #johnnydepp #amberheard #fuckthesun 💫👏💙               1\n",
       "@johnnydepp #wearewithyoujohnnydepp #amberheardisaliar #justiceforjohnnydepp #wearewithyoujohnnydepp #johnnydepp #emmawatson #amberheard #fuckthesun 💙     1\n",
       "لطفا به بک آپ ریکوئست بدین که اگر برای پیج اصلی اتفاقی افتاد هم دیگه رو گم نکنیم 🥺🥀 @queenmusicvidoe                                                       1\n",
       "@johnnydepp #wearewithyoujohnnydepp #amberheardisaliar #justiceforjohnnydepp #jd #wearewithyoujohnnydepp #johnnydepp #amberheard #fuckthesun               1\n",
       "@johnnydepp #wearewithyoujohnnydepp #amberheardisaliar #justiceforjohnnydepp #wearewithyoujohnnydepp #johnnydepp #amberheard #fuckthesun 💙💙💙💙💙💙💙           1\n",
       "Name: message, dtype: int64"
      ]
     },
     "execution_count": 87,
     "metadata": {},
     "output_type": "execute_result"
    }
   ],
   "source": [
    "print('\\nAmplifying lots of Hashtags!!\\n')\n",
    "df_comments.query(\"username == 'queenmusicvidoe'\")['message'].value_counts().head(15)"
   ]
  },
  {
   "cell_type": "code",
   "execution_count": 88,
   "id": "9da056c5",
   "metadata": {},
   "outputs": [
    {
     "data": {
      "image/svg+xml": [
       "<svg class=\"main-svg\" xmlns=\"http://www.w3.org/2000/svg\" xmlns:xlink=\"http://www.w3.org/1999/xlink\" width=\"950\" height=\"550\" style=\"\" viewBox=\"0 0 950 550\"><rect x=\"0\" y=\"0\" width=\"950\" height=\"550\" style=\"fill: rgb(255, 255, 255); fill-opacity: 1;\"/><defs id=\"defs-fe390a\"><g class=\"clips\"><clipPath id=\"clipfe390axyplot\" class=\"plotclip\"><rect width=\"790\" height=\"352\"/></clipPath><clipPath class=\"axesclip\" id=\"clipfe390ax\"><rect x=\"80\" y=\"0\" width=\"790\" height=\"550\"/></clipPath><clipPath class=\"axesclip\" id=\"clipfe390ay\"><rect x=\"0\" y=\"100\" width=\"950\" height=\"352\"/></clipPath><clipPath class=\"axesclip\" id=\"clipfe390axy\"><rect x=\"80\" y=\"100\" width=\"790\" height=\"352\"/></clipPath></g><g class=\"gradients\"/><g class=\"patterns\"/></defs><g class=\"bglayer\"><rect class=\"bg\" x=\"80\" y=\"100\" width=\"790\" height=\"352\" style=\"fill: rgb(229, 236, 246); fill-opacity: 1; stroke-width: 0;\"/></g><g class=\"layer-below\"><g class=\"imagelayer\"/><g class=\"shapelayer\"/></g><g class=\"cartesianlayer\"><g class=\"subplot xy\"><g class=\"layer-subplot\"><g class=\"shapelayer\"/><g class=\"imagelayer\"/></g><g class=\"gridlayer\"><g class=\"x\"/><g class=\"y\"><path class=\"ygrid crisp\" transform=\"translate(0,404.9)\" d=\"M80,0h790\" style=\"stroke: rgb(255, 255, 255); stroke-opacity: 1; stroke-width: 1px;\"/><path class=\"ygrid crisp\" transform=\"translate(0,357.8)\" d=\"M80,0h790\" style=\"stroke: rgb(255, 255, 255); stroke-opacity: 1; stroke-width: 1px;\"/><path class=\"ygrid crisp\" transform=\"translate(0,310.7)\" d=\"M80,0h790\" style=\"stroke: rgb(255, 255, 255); stroke-opacity: 1; stroke-width: 1px;\"/><path class=\"ygrid crisp\" transform=\"translate(0,263.61)\" d=\"M80,0h790\" style=\"stroke: rgb(255, 255, 255); stroke-opacity: 1; stroke-width: 1px;\"/><path class=\"ygrid crisp\" transform=\"translate(0,216.51)\" d=\"M80,0h790\" style=\"stroke: rgb(255, 255, 255); stroke-opacity: 1; stroke-width: 1px;\"/><path class=\"ygrid crisp\" transform=\"translate(0,169.41)\" d=\"M80,0h790\" style=\"stroke: rgb(255, 255, 255); stroke-opacity: 1; stroke-width: 1px;\"/><path class=\"ygrid crisp\" transform=\"translate(0,122.31)\" d=\"M80,0h790\" style=\"stroke: rgb(255, 255, 255); stroke-opacity: 1; stroke-width: 1px;\"/></g></g><g class=\"zerolinelayer\"><path class=\"yzl zl crisp\" transform=\"translate(0,452)\" d=\"M80,0h790\" style=\"stroke: rgb(255, 255, 255); stroke-opacity: 1; stroke-width: 2px;\"/></g><path class=\"xlines-below\"/><path class=\"ylines-below\"/><g class=\"overlines-below\"/><g class=\"xaxislayer-below\"/><g class=\"yaxislayer-below\"/><g class=\"overaxes-below\"/><g class=\"plot\" transform=\"translate(80,100)\" clip-path=\"url(#clipfe390axyplot)\"><g class=\"barlayer mlayer\"><g class=\"trace bars\" style=\"opacity: 1;\"><g class=\"points\"><g class=\"point\"><path d=\"M39.5,352V17.6H355.5V352Z\" style=\"vector-effect: non-scaling-stroke; opacity: 1; stroke-width: 0.5px; fill: rgb(255, 0, 0); fill-opacity: 1; stroke: rgb(229, 236, 246); stroke-opacity: 1;\"/><text class=\"bartext bartext-inside\" text-anchor=\"middle\" data-notex=\"1\" x=\"0\" y=\"0\" style=\"font-family: 'Open Sans', verdana, arial, sans-serif; font-size: 12px; fill: rgb(255, 255, 255); fill-opacity: 1; white-space: pre;\" transform=\"translate(197.5,33.6)\">71</text></g><g class=\"point\"><path d=\"M434.5,352V347.29H750.5V352Z\" style=\"vector-effect: non-scaling-stroke; opacity: 1; stroke-width: 0.5px; fill: rgb(255, 0, 0); fill-opacity: 1; stroke: rgb(229, 236, 246); stroke-opacity: 1;\"/><text class=\"bartext bartext-outside\" text-anchor=\"middle\" data-notex=\"1\" x=\"0\" y=\"0\" style=\"font-family: 'Open Sans', verdana, arial, sans-serif; font-size: 12px; fill: rgb(42, 63, 95); fill-opacity: 1; white-space: pre;\" transform=\"translate(592.5,340.79)\">1</text></g></g></g></g></g><g class=\"overplot\"/><path class=\"xlines-above crisp\" d=\"M0,0\" style=\"fill: none;\"/><path class=\"ylines-above crisp\" d=\"M0,0\" style=\"fill: none;\"/><g class=\"overlines-above\"/><g class=\"xaxislayer-above\"><g class=\"xtick\"><text text-anchor=\"start\" x=\"0\" y=\"465\" transform=\"translate(277.5,0) rotate(45,0,459)\" style=\"font-family: 'Open Sans', verdana, arial, sans-serif; font-size: 12px; fill: rgb(42, 63, 95); fill-opacity: 1; white-space: pre; opacity: 1;\">Nov 2, 2020</text></g><g class=\"xtick\"><text text-anchor=\"start\" x=\"0\" y=\"465\" style=\"font-family: 'Open Sans', verdana, arial, sans-serif; font-size: 12px; fill: rgb(42, 63, 95); fill-opacity: 1; white-space: pre; opacity: 1;\" transform=\"translate(672.5,0) rotate(45,0,459)\">Jan 14, 2021</text></g></g><g class=\"yaxislayer-above\"><g class=\"ytick\"><text text-anchor=\"end\" x=\"79\" y=\"4.199999999999999\" transform=\"translate(0,452)\" style=\"font-family: 'Open Sans', verdana, arial, sans-serif; font-size: 12px; fill: rgb(42, 63, 95); fill-opacity: 1; white-space: pre; opacity: 1;\">0</text></g><g class=\"ytick\"><text text-anchor=\"end\" x=\"79\" y=\"4.199999999999999\" style=\"font-family: 'Open Sans', verdana, arial, sans-serif; font-size: 12px; fill: rgb(42, 63, 95); fill-opacity: 1; white-space: pre; opacity: 1;\" transform=\"translate(0,404.9)\">10</text></g><g class=\"ytick\"><text text-anchor=\"end\" x=\"79\" y=\"4.199999999999999\" style=\"font-family: 'Open Sans', verdana, arial, sans-serif; font-size: 12px; fill: rgb(42, 63, 95); fill-opacity: 1; white-space: pre; opacity: 1;\" transform=\"translate(0,357.8)\">20</text></g><g class=\"ytick\"><text text-anchor=\"end\" x=\"79\" y=\"4.199999999999999\" style=\"font-family: 'Open Sans', verdana, arial, sans-serif; font-size: 12px; fill: rgb(42, 63, 95); fill-opacity: 1; white-space: pre; opacity: 1;\" transform=\"translate(0,310.7)\">30</text></g><g class=\"ytick\"><text text-anchor=\"end\" x=\"79\" y=\"4.199999999999999\" style=\"font-family: 'Open Sans', verdana, arial, sans-serif; font-size: 12px; fill: rgb(42, 63, 95); fill-opacity: 1; white-space: pre; opacity: 1;\" transform=\"translate(0,263.61)\">40</text></g><g class=\"ytick\"><text text-anchor=\"end\" x=\"79\" y=\"4.199999999999999\" style=\"font-family: 'Open Sans', verdana, arial, sans-serif; font-size: 12px; fill: rgb(42, 63, 95); fill-opacity: 1; white-space: pre; opacity: 1;\" transform=\"translate(0,216.51)\">50</text></g><g class=\"ytick\"><text text-anchor=\"end\" x=\"79\" y=\"4.199999999999999\" style=\"font-family: 'Open Sans', verdana, arial, sans-serif; font-size: 12px; fill: rgb(42, 63, 95); fill-opacity: 1; white-space: pre; opacity: 1;\" transform=\"translate(0,169.41)\">60</text></g><g class=\"ytick\"><text text-anchor=\"end\" x=\"79\" y=\"4.199999999999999\" style=\"font-family: 'Open Sans', verdana, arial, sans-serif; font-size: 12px; fill: rgb(42, 63, 95); fill-opacity: 1; white-space: pre; opacity: 1;\" transform=\"translate(0,122.31)\">70</text></g></g><g class=\"overaxes-above\"/></g></g><g class=\"polarlayer\"/><g class=\"ternarylayer\"/><g class=\"geolayer\"/><g class=\"funnelarealayer\"/><g class=\"pielayer\"/><g class=\"iciclelayer\"/><g class=\"treemaplayer\"/><g class=\"sunburstlayer\"/><g class=\"glimages\"/><defs id=\"topdefs-fe390a\"><g class=\"clips\"/></defs><g class=\"layer-above\"><g class=\"imagelayer\"/><g class=\"shapelayer\"/></g><g class=\"infolayer\"><g class=\"g-gtitle\"><text class=\"gtitle\" x=\"47.5\" y=\"50\" text-anchor=\"start\" dy=\"0em\" style=\"font-family: 'Open Sans', verdana, arial, sans-serif; font-size: 17px; fill: rgb(42, 63, 95); opacity: 1; font-weight: normal; white-space: pre;\">Commenting dates for \"queenmusicvidoe\"</text></g><g class=\"g-xtitle\"><text class=\"xtitle\" x=\"475\" y=\"538.313671875\" text-anchor=\"middle\" style=\"font-family: 'Open Sans', verdana, arial, sans-serif; font-size: 14px; fill: rgb(42, 63, 95); opacity: 1; font-weight: normal; white-space: pre;\">Comments Creation Date</text></g><g class=\"g-ytitle\"><text class=\"ytitle\" transform=\"rotate(-90,40.465625,276)\" x=\"40.465625\" y=\"276\" text-anchor=\"middle\" style=\"font-family: 'Open Sans', verdana, arial, sans-serif; font-size: 14px; fill: rgb(42, 63, 95); opacity: 1; font-weight: normal; white-space: pre;\">n_comments</text></g></g></svg>"
      ]
     },
     "metadata": {},
     "output_type": "display_data"
    }
   ],
   "source": [
    "bar_peaks(get_top(df_comments[df_comments.username == \"queenmusicvidoe\"], 'date', 8, 'date', 'n_comments'),\n",
    "         'Commenting dates for \"queenmusicvidoe\"')"
   ]
  },
  {
   "cell_type": "markdown",
   "id": "5b57d8bc",
   "metadata": {},
   "source": [
    "#### maryam_khaledi_77  \n",
    "<font color='red'>negative comments</font>\n",
    "\n",
    "- private account\n",
    "- 0 posts\n",
    "- 282 followers\n",
    "- 297 following"
   ]
  },
  {
   "cell_type": "code",
   "execution_count": 89,
   "id": "4340b299",
   "metadata": {},
   "outputs": [],
   "source": [
    "neg_users = neg_users|{'maryam_khaledi_77'}\n",
    "neg_text = neg_text|{'amberturd', 'amberisanabuser', 'johnnydeppforever'}"
   ]
  },
  {
   "cell_type": "code",
   "execution_count": 90,
   "id": "fb829442",
   "metadata": {},
   "outputs": [
    {
     "data": {
      "text/plain": [
       "#justiceforjohnnydepp                                                                                                                                                                                           7\n",
       "#amberturd                                                                                                                                                                                                      4\n",
       "@amberheard 💩💩💩💩💩💩                                                                                                                                                                                              3\n",
       "#wearewithyoujohnnydepp 💜                                                                                                                                                                                       2\n",
       "#amberisanabuser                                                                                                                                                                                                2\n",
       "💩💩💩💩💩💩💩💩💩                                                                                                                                                                                                       2\n",
       "#johnnydeppforever                                                                                                                                                                                              2\n",
       "@sard954 ب خاطر مصرف زیاد شراب ب تازگی واقعا چاق تر شده ولی این بهونس چون مردم ازش متنفرن و فیلم فروش نمیره برا همین بیرونش کردن                                                                                1\n",
       "@parastooramezani4 شایعه چیه حرفای مستقیم امبر هست شایعه کدومه اینا مدارک دادگاست نگا کن شما در حد چنتا پست تو پیجای فارسی هالیوود گذرا دیدی و هیچی نمیدونی وگرنه از مردم انگلستان و امریکا با خبر تر نیستی!    1\n",
       "@ghazaleh__sa خواهش ❤️                                                                                                                                                                                          1\n",
       "@amirooe 😂😂😂😂                                                                                                                                                                                                   1\n",
       "@celeberity.vid 😂😂😂😂😂😂😂                                                                                                                                                                                         1\n",
       "داره میگه کلارک باشخصیت تر از عنبره دعوا نکن😐😐😐                                                                                                                                                                 1\n",
       "@elahe.sedaghatian_rad امبر بچه نداره                                                                                                                                                                           1\n",
       "@wolfinli برین دهن مادرت                                                                                                                                                                                        1\n",
       "Name: message, dtype: int64"
      ]
     },
     "execution_count": 90,
     "metadata": {},
     "output_type": "execute_result"
    }
   ],
   "source": [
    "df_comments.query(\"username == 'maryam_khaledi_77'\")['message'].value_counts().head(15)"
   ]
  },
  {
   "cell_type": "code",
   "execution_count": 91,
   "id": "f2cad788",
   "metadata": {},
   "outputs": [
    {
     "data": {
      "image/svg+xml": [
       "<svg class=\"main-svg\" xmlns=\"http://www.w3.org/2000/svg\" xmlns:xlink=\"http://www.w3.org/1999/xlink\" width=\"950\" height=\"550\" style=\"\" viewBox=\"0 0 950 550\"><rect x=\"0\" y=\"0\" width=\"950\" height=\"550\" style=\"fill: rgb(255, 255, 255); fill-opacity: 1;\"/><defs id=\"defs-613745\"><g class=\"clips\"><clipPath id=\"clip613745xyplot\" class=\"plotclip\"><rect width=\"790\" height=\"348\"/></clipPath><clipPath class=\"axesclip\" id=\"clip613745x\"><rect x=\"80\" y=\"0\" width=\"790\" height=\"550\"/></clipPath><clipPath class=\"axesclip\" id=\"clip613745y\"><rect x=\"0\" y=\"100\" width=\"950\" height=\"348\"/></clipPath><clipPath class=\"axesclip\" id=\"clip613745xy\"><rect x=\"80\" y=\"100\" width=\"790\" height=\"348\"/></clipPath></g><g class=\"gradients\"/><g class=\"patterns\"/></defs><g class=\"bglayer\"><rect class=\"bg\" x=\"80\" y=\"100\" width=\"790\" height=\"348\" style=\"fill: rgb(229, 236, 246); fill-opacity: 1; stroke-width: 0;\"/></g><g class=\"layer-below\"><g class=\"imagelayer\"/><g class=\"shapelayer\"/></g><g class=\"cartesianlayer\"><g class=\"subplot xy\"><g class=\"layer-subplot\"><g class=\"shapelayer\"/><g class=\"imagelayer\"/></g><g class=\"gridlayer\"><g class=\"x\"/><g class=\"y\"><path class=\"ygrid crisp\" transform=\"translate(0,392.9)\" d=\"M80,0h790\" style=\"stroke: rgb(255, 255, 255); stroke-opacity: 1; stroke-width: 1px;\"/><path class=\"ygrid crisp\" transform=\"translate(0,337.8)\" d=\"M80,0h790\" style=\"stroke: rgb(255, 255, 255); stroke-opacity: 1; stroke-width: 1px;\"/><path class=\"ygrid crisp\" transform=\"translate(0,282.7)\" d=\"M80,0h790\" style=\"stroke: rgb(255, 255, 255); stroke-opacity: 1; stroke-width: 1px;\"/><path class=\"ygrid crisp\" transform=\"translate(0,227.6)\" d=\"M80,0h790\" style=\"stroke: rgb(255, 255, 255); stroke-opacity: 1; stroke-width: 1px;\"/><path class=\"ygrid crisp\" transform=\"translate(0,172.5)\" d=\"M80,0h790\" style=\"stroke: rgb(255, 255, 255); stroke-opacity: 1; stroke-width: 1px;\"/><path class=\"ygrid crisp\" transform=\"translate(0,117.4)\" d=\"M80,0h790\" style=\"stroke: rgb(255, 255, 255); stroke-opacity: 1; stroke-width: 1px;\"/></g></g><g class=\"zerolinelayer\"><path class=\"yzl zl crisp\" transform=\"translate(0,448)\" d=\"M80,0h790\" style=\"stroke: rgb(255, 255, 255); stroke-opacity: 1; stroke-width: 2px;\"/></g><path class=\"xlines-below\"/><path class=\"ylines-below\"/><g class=\"overlines-below\"/><g class=\"xaxislayer-below\"/><g class=\"yaxislayer-below\"/><g class=\"overaxes-below\"/><g class=\"plot\" transform=\"translate(80,100)\" clip-path=\"url(#clip613745xyplot)\"><g class=\"barlayer mlayer\"><g class=\"trace bars\" style=\"opacity: 1;\"><g class=\"points\"><g class=\"point\"><path d=\"M374.46,348V17.4H412.38V348Z\" style=\"vector-effect: non-scaling-stroke; opacity: 1; stroke-width: 0.5px; fill: rgb(255, 0, 0); fill-opacity: 1; stroke: rgb(229, 236, 246); stroke-opacity: 1;\"/><text class=\"bartext bartext-inside\" text-anchor=\"middle\" data-notex=\"1\" x=\"0\" y=\"0\" style=\"font-family: 'Open Sans', verdana, arial, sans-serif; font-size: 12px; fill: rgb(255, 255, 255); fill-opacity: 1; white-space: pre;\" transform=\"translate(393.41999999999996,33.4)\">30</text></g><g class=\"point\"><path d=\"M747.34,348V116.58H785.26V348Z\" style=\"vector-effect: non-scaling-stroke; opacity: 1; stroke-width: 0.5px; fill: rgb(255, 0, 0); fill-opacity: 1; stroke: rgb(229, 236, 246); stroke-opacity: 1;\"/><text class=\"bartext bartext-inside\" text-anchor=\"middle\" data-notex=\"1\" x=\"0\" y=\"0\" style=\"font-family: 'Open Sans', verdana, arial, sans-serif; font-size: 12px; fill: rgb(255, 255, 255); fill-opacity: 1; white-space: pre;\" transform=\"translate(766.3,132.57999999999998)\">21</text></g><g class=\"point\"><path d=\"M519.82,348V204.74H557.74V348Z\" style=\"vector-effect: non-scaling-stroke; opacity: 1; stroke-width: 0.5px; fill: rgb(255, 0, 0); fill-opacity: 1; stroke: rgb(229, 236, 246); stroke-opacity: 1;\"/><text class=\"bartext bartext-inside\" text-anchor=\"middle\" data-notex=\"1\" x=\"0\" y=\"0\" style=\"font-family: 'Open Sans', verdana, arial, sans-serif; font-size: 12px; fill: rgb(255, 255, 255); fill-opacity: 1; white-space: pre;\" transform=\"translate(538.78,220.74)\">13</text></g><g class=\"point\"><path d=\"M52.14,348V237.8H90.06V348Z\" style=\"vector-effect: non-scaling-stroke; opacity: 1; stroke-width: 0.5px; fill: rgb(255, 0, 0); fill-opacity: 1; stroke: rgb(229, 236, 246); stroke-opacity: 1;\"/><text class=\"bartext bartext-inside\" text-anchor=\"middle\" data-notex=\"1\" x=\"0\" y=\"0\" style=\"font-family: 'Open Sans', verdana, arial, sans-serif; font-size: 12px; fill: rgb(255, 255, 255); fill-opacity: 1; white-space: pre;\" transform=\"translate(71.1,253.8)\">10</text></g><g class=\"point\"><path d=\"M586.18,348V259.84H624.1V348Z\" style=\"vector-effect: non-scaling-stroke; opacity: 1; stroke-width: 0.5px; fill: rgb(255, 0, 0); fill-opacity: 1; stroke: rgb(229, 236, 246); stroke-opacity: 1;\"/><text class=\"bartext bartext-inside\" text-anchor=\"middle\" data-notex=\"1\" x=\"0\" y=\"0\" style=\"font-family: 'Open Sans', verdana, arial, sans-serif; font-size: 12px; fill: rgb(255, 255, 255); fill-opacity: 1; white-space: pre;\" transform=\"translate(605.14,275.84)\">8</text></g><g class=\"point\"><path d=\"M459.78,348V259.84H497.7V348Z\" style=\"vector-effect: non-scaling-stroke; opacity: 1; stroke-width: 0.5px; fill: rgb(255, 0, 0); fill-opacity: 1; stroke: rgb(229, 236, 246); stroke-opacity: 1;\"/><text class=\"bartext bartext-inside\" text-anchor=\"middle\" data-notex=\"1\" x=\"0\" y=\"0\" style=\"font-family: 'Open Sans', verdana, arial, sans-serif; font-size: 12px; fill: rgb(255, 255, 255); fill-opacity: 1; white-space: pre;\" transform=\"translate(478.74,275.84)\">8</text></g><g class=\"point\"><path d=\"M4.74,348V270.86H42.66V348Z\" style=\"vector-effect: non-scaling-stroke; opacity: 1; stroke-width: 0.5px; fill: rgb(255, 0, 0); fill-opacity: 1; stroke: rgb(229, 236, 246); stroke-opacity: 1;\"/><text class=\"bartext bartext-inside\" text-anchor=\"middle\" data-notex=\"1\" x=\"0\" y=\"0\" style=\"font-family: 'Open Sans', verdana, arial, sans-serif; font-size: 12px; fill: rgb(255, 255, 255); fill-opacity: 1; white-space: pre;\" transform=\"translate(23.7,286.86)\">7</text></g><g class=\"point\"><path d=\"M680.98,348V281.88H718.9V348Z\" style=\"vector-effect: non-scaling-stroke; opacity: 1; stroke-width: 0.5px; fill: rgb(255, 0, 0); fill-opacity: 1; stroke: rgb(229, 236, 246); stroke-opacity: 1;\"/><text class=\"bartext bartext-inside\" text-anchor=\"middle\" data-notex=\"1\" x=\"0\" y=\"0\" style=\"font-family: 'Open Sans', verdana, arial, sans-serif; font-size: 12px; fill: rgb(255, 255, 255); fill-opacity: 1; white-space: pre;\" transform=\"translate(699.94,297.88)\">6</text></g></g></g></g></g><g class=\"overplot\"/><path class=\"xlines-above crisp\" d=\"M0,0\" style=\"fill: none;\"/><path class=\"ylines-above crisp\" d=\"M0,0\" style=\"fill: none;\"/><g class=\"overlines-above\"/><g class=\"xaxislayer-above\"><g class=\"xtick\"><text text-anchor=\"start\" x=\"0\" y=\"461\" transform=\"translate(473.42,0) rotate(45,0,455)\" style=\"font-family: 'Open Sans', verdana, arial, sans-serif; font-size: 12px; fill: rgb(42, 63, 95); fill-opacity: 1; white-space: pre; opacity: 1;\">Nov 2, 2020</text></g><g class=\"xtick\"><text text-anchor=\"start\" x=\"0\" y=\"461\" style=\"font-family: 'Open Sans', verdana, arial, sans-serif; font-size: 12px; fill: rgb(42, 63, 95); fill-opacity: 1; white-space: pre; opacity: 1;\" transform=\"translate(846.3,0) rotate(45,0,455)\">Feb 28, 2021</text></g><g class=\"xtick\"><text text-anchor=\"start\" x=\"0\" y=\"461\" style=\"font-family: 'Open Sans', verdana, arial, sans-serif; font-size: 12px; fill: rgb(42, 63, 95); fill-opacity: 1; white-space: pre; opacity: 1;\" transform=\"translate(618.78,0) rotate(45,0,455)\">Dec 18, 2020</text></g><g class=\"xtick\"><text text-anchor=\"start\" x=\"0\" y=\"461\" style=\"font-family: 'Open Sans', verdana, arial, sans-serif; font-size: 12px; fill: rgb(42, 63, 95); fill-opacity: 1; white-space: pre; opacity: 1;\" transform=\"translate(151.1,0) rotate(45,0,455)\">Jul 23, 2020</text></g><g class=\"xtick\"><text text-anchor=\"start\" x=\"0\" y=\"461\" style=\"font-family: 'Open Sans', verdana, arial, sans-serif; font-size: 12px; fill: rgb(42, 63, 95); fill-opacity: 1; white-space: pre; opacity: 1;\" transform=\"translate(685.14,0) rotate(45,0,455)\">Jan 8, 2021</text></g><g class=\"xtick\"><text text-anchor=\"start\" x=\"0\" y=\"461\" style=\"font-family: 'Open Sans', verdana, arial, sans-serif; font-size: 12px; fill: rgb(42, 63, 95); fill-opacity: 1; white-space: pre; opacity: 1;\" transform=\"translate(558.74,0) rotate(45,0,455)\">Nov 29, 2020</text></g><g class=\"xtick\"><text text-anchor=\"start\" x=\"0\" y=\"461\" style=\"font-family: 'Open Sans', verdana, arial, sans-serif; font-size: 12px; fill: rgb(42, 63, 95); fill-opacity: 1; white-space: pre; opacity: 1;\" transform=\"translate(103.7,0) rotate(45,0,455)\">Jul 8, 2020</text></g><g class=\"xtick\"><text text-anchor=\"start\" x=\"0\" y=\"461\" style=\"font-family: 'Open Sans', verdana, arial, sans-serif; font-size: 12px; fill: rgb(42, 63, 95); fill-opacity: 1; white-space: pre; opacity: 1;\" transform=\"translate(779.94,0) rotate(45,0,455)\">Feb 7, 2021</text></g></g><g class=\"yaxislayer-above\"><g class=\"ytick\"><text text-anchor=\"end\" x=\"79\" y=\"4.199999999999999\" transform=\"translate(0,448)\" style=\"font-family: 'Open Sans', verdana, arial, sans-serif; font-size: 12px; fill: rgb(42, 63, 95); fill-opacity: 1; white-space: pre; opacity: 1;\">0</text></g><g class=\"ytick\"><text text-anchor=\"end\" x=\"79\" y=\"4.199999999999999\" style=\"font-family: 'Open Sans', verdana, arial, sans-serif; font-size: 12px; fill: rgb(42, 63, 95); fill-opacity: 1; white-space: pre; opacity: 1;\" transform=\"translate(0,392.9)\">5</text></g><g class=\"ytick\"><text text-anchor=\"end\" x=\"79\" y=\"4.199999999999999\" style=\"font-family: 'Open Sans', verdana, arial, sans-serif; font-size: 12px; fill: rgb(42, 63, 95); fill-opacity: 1; white-space: pre; opacity: 1;\" transform=\"translate(0,337.8)\">10</text></g><g class=\"ytick\"><text text-anchor=\"end\" x=\"79\" y=\"4.199999999999999\" style=\"font-family: 'Open Sans', verdana, arial, sans-serif; font-size: 12px; fill: rgb(42, 63, 95); fill-opacity: 1; white-space: pre; opacity: 1;\" transform=\"translate(0,282.7)\">15</text></g><g class=\"ytick\"><text text-anchor=\"end\" x=\"79\" y=\"4.199999999999999\" style=\"font-family: 'Open Sans', verdana, arial, sans-serif; font-size: 12px; fill: rgb(42, 63, 95); fill-opacity: 1; white-space: pre; opacity: 1;\" transform=\"translate(0,227.6)\">20</text></g><g class=\"ytick\"><text text-anchor=\"end\" x=\"79\" y=\"4.199999999999999\" style=\"font-family: 'Open Sans', verdana, arial, sans-serif; font-size: 12px; fill: rgb(42, 63, 95); fill-opacity: 1; white-space: pre; opacity: 1;\" transform=\"translate(0,172.5)\">25</text></g><g class=\"ytick\"><text text-anchor=\"end\" x=\"79\" y=\"4.199999999999999\" style=\"font-family: 'Open Sans', verdana, arial, sans-serif; font-size: 12px; fill: rgb(42, 63, 95); fill-opacity: 1; white-space: pre; opacity: 1;\" transform=\"translate(0,117.4)\">30</text></g></g><g class=\"overaxes-above\"/></g></g><g class=\"polarlayer\"/><g class=\"ternarylayer\"/><g class=\"geolayer\"/><g class=\"funnelarealayer\"/><g class=\"pielayer\"/><g class=\"iciclelayer\"/><g class=\"treemaplayer\"/><g class=\"sunburstlayer\"/><g class=\"glimages\"/><defs id=\"topdefs-613745\"><g class=\"clips\"/></defs><g class=\"layer-above\"><g class=\"imagelayer\"/><g class=\"shapelayer\"/></g><g class=\"infolayer\"><g class=\"g-gtitle\"><text class=\"gtitle\" x=\"47.5\" y=\"50\" text-anchor=\"start\" dy=\"0em\" style=\"font-family: 'Open Sans', verdana, arial, sans-serif; font-size: 17px; fill: rgb(42, 63, 95); opacity: 1; font-weight: normal; white-space: pre;\">Commenting dates for \"maryam_khaledi_77\"</text></g><g class=\"g-xtitle\"><text class=\"xtitle\" x=\"475\" y=\"537.89375\" text-anchor=\"middle\" style=\"font-family: 'Open Sans', verdana, arial, sans-serif; font-size: 14px; fill: rgb(42, 63, 95); opacity: 1; font-weight: normal; white-space: pre;\">Comments Creation Date</text></g><g class=\"g-ytitle\"><text class=\"ytitle\" transform=\"rotate(-90,40.465625,274)\" x=\"40.465625\" y=\"274\" text-anchor=\"middle\" style=\"font-family: 'Open Sans', verdana, arial, sans-serif; font-size: 14px; fill: rgb(42, 63, 95); opacity: 1; font-weight: normal; white-space: pre;\">n_comments</text></g></g></svg>"
      ]
     },
     "metadata": {},
     "output_type": "display_data"
    }
   ],
   "source": [
    "bar_peaks(get_top(df_comments[df_comments.username == \"maryam_khaledi_77\"], 'date', 8, 'date', 'n_comments'),\n",
    "         'Commenting dates for \"maryam_khaledi_77\"')"
   ]
  },
  {
   "cell_type": "markdown",
   "id": "0835520e",
   "metadata": {},
   "source": [
    "#### _jas_min_pr._\n",
    "<font color='red'>negative comments</font>\n",
    "\n",
    "- private account\n",
    "- 0 posts\n",
    "- 143 followers\n",
    "- 266 following"
   ]
  },
  {
   "cell_type": "code",
   "execution_count": 92,
   "id": "c2259fa0",
   "metadata": {},
   "outputs": [],
   "source": [
    "neg_users = neg_users|{'_jas_min_pr._'}"
   ]
  },
  {
   "cell_type": "code",
   "execution_count": 93,
   "id": "2c950b64",
   "metadata": {},
   "outputs": [
    {
     "data": {
      "text/plain": [
       "@johnnydepp                                                                                                                                 18\n",
       "@johnnydepp #wearewithyoujohnnydepp #amberheardisaliar #justiceforjohnnydepp #wearewithyoujohnnydepp #johnnydepp #amberheard #fuckthesun     9\n",
       "#wearewithyoujohnnydepp                                                                                                                      4\n",
       "😍😍                                                                                                                                           1\n",
       "❤️🔥                                                                                                                                          1\n",
       "💜💜                                                                                                                                           1\n",
       "💛💜                                                                                                                                           1\n",
       "@johnnydepp ❤️                                                                                                                               1\n",
       "@johnnydepp 💚                                                                                                                                1\n",
       "Name: message, dtype: int64"
      ]
     },
     "execution_count": 93,
     "metadata": {},
     "output_type": "execute_result"
    }
   ],
   "source": [
    "df_comments.query(\"username == '_jas_min_pr._'\")['message'].value_counts().head(15)"
   ]
  },
  {
   "cell_type": "code",
   "execution_count": 94,
   "id": "e1dfb0b2",
   "metadata": {},
   "outputs": [
    {
     "data": {
      "image/svg+xml": [
       "<svg class=\"main-svg\" xmlns=\"http://www.w3.org/2000/svg\" xmlns:xlink=\"http://www.w3.org/1999/xlink\" width=\"950\" height=\"550\" style=\"\" viewBox=\"0 0 950 550\"><rect x=\"0\" y=\"0\" width=\"950\" height=\"550\" style=\"fill: rgb(255, 255, 255); fill-opacity: 1;\"/><defs id=\"defs-1f9d6a\"><g class=\"clips\"><clipPath id=\"clip1f9d6axyplot\" class=\"plotclip\"><rect width=\"790\" height=\"353\"/></clipPath><clipPath class=\"axesclip\" id=\"clip1f9d6ax\"><rect x=\"80\" y=\"0\" width=\"790\" height=\"550\"/></clipPath><clipPath class=\"axesclip\" id=\"clip1f9d6ay\"><rect x=\"0\" y=\"100\" width=\"950\" height=\"353\"/></clipPath><clipPath class=\"axesclip\" id=\"clip1f9d6axy\"><rect x=\"80\" y=\"100\" width=\"790\" height=\"353\"/></clipPath></g><g class=\"gradients\"/><g class=\"patterns\"/></defs><g class=\"bglayer\"><rect class=\"bg\" x=\"80\" y=\"100\" width=\"790\" height=\"353\" style=\"fill: rgb(229, 236, 246); fill-opacity: 1; stroke-width: 0;\"/></g><g class=\"layer-below\"><g class=\"imagelayer\"/><g class=\"shapelayer\"/></g><g class=\"cartesianlayer\"><g class=\"subplot xy\"><g class=\"layer-subplot\"><g class=\"shapelayer\"/><g class=\"imagelayer\"/></g><g class=\"gridlayer\"><g class=\"x\"/><g class=\"y\"><path class=\"ygrid crisp\" transform=\"translate(0,407.68)\" d=\"M80,0h790\" style=\"stroke: rgb(255, 255, 255); stroke-opacity: 1; stroke-width: 1px;\"/><path class=\"ygrid crisp\" transform=\"translate(0,362.36)\" d=\"M80,0h790\" style=\"stroke: rgb(255, 255, 255); stroke-opacity: 1; stroke-width: 1px;\"/><path class=\"ygrid crisp\" transform=\"translate(0,317.05)\" d=\"M80,0h790\" style=\"stroke: rgb(255, 255, 255); stroke-opacity: 1; stroke-width: 1px;\"/><path class=\"ygrid crisp\" transform=\"translate(0,271.73)\" d=\"M80,0h790\" style=\"stroke: rgb(255, 255, 255); stroke-opacity: 1; stroke-width: 1px;\"/><path class=\"ygrid crisp\" transform=\"translate(0,226.41)\" d=\"M80,0h790\" style=\"stroke: rgb(255, 255, 255); stroke-opacity: 1; stroke-width: 1px;\"/><path class=\"ygrid crisp\" transform=\"translate(0,181.09)\" d=\"M80,0h790\" style=\"stroke: rgb(255, 255, 255); stroke-opacity: 1; stroke-width: 1px;\"/><path class=\"ygrid crisp\" transform=\"translate(0,135.78)\" d=\"M80,0h790\" style=\"stroke: rgb(255, 255, 255); stroke-opacity: 1; stroke-width: 1px;\"/></g></g><g class=\"zerolinelayer\"><path class=\"yzl zl crisp\" transform=\"translate(0,453)\" d=\"M80,0h790\" style=\"stroke: rgb(255, 255, 255); stroke-opacity: 1; stroke-width: 2px;\"/></g><path class=\"xlines-below\"/><path class=\"ylines-below\"/><g class=\"overlines-below\"/><g class=\"xaxislayer-below\"/><g class=\"yaxislayer-below\"/><g class=\"overaxes-below\"/><g class=\"plot\" transform=\"translate(80,100)\" clip-path=\"url(#clip1f9d6axyplot)\"><g class=\"barlayer mlayer\"><g class=\"trace bars\" style=\"opacity: 1;\"><g class=\"points\"><g class=\"point\"><path d=\"M79,353V17.65H711V353Z\" style=\"vector-effect: non-scaling-stroke; opacity: 1; stroke-width: 0.5px; fill: rgb(255, 0, 0); fill-opacity: 1; stroke: rgb(229, 236, 246); stroke-opacity: 1;\"/><text class=\"bartext bartext-inside\" text-anchor=\"middle\" data-notex=\"1\" x=\"0\" y=\"0\" style=\"font-family: 'Open Sans', verdana, arial, sans-serif; font-size: 12px; fill: rgb(255, 255, 255); fill-opacity: 1; white-space: pre;\" transform=\"translate(395,33.65)\">37</text></g></g></g></g></g><g class=\"overplot\"/><path class=\"xlines-above crisp\" d=\"M0,0\" style=\"fill: none;\"/><path class=\"ylines-above crisp\" d=\"M0,0\" style=\"fill: none;\"/><g class=\"overlines-above\"/><g class=\"xaxislayer-above\"><g class=\"xtick\"><text text-anchor=\"start\" x=\"0\" y=\"466\" transform=\"translate(475,0) rotate(45,0,460)\" style=\"font-family: 'Open Sans', verdana, arial, sans-serif; font-size: 12px; fill: rgb(42, 63, 95); fill-opacity: 1; white-space: pre; opacity: 1;\">Nov 2, 2020</text></g></g><g class=\"yaxislayer-above\"><g class=\"ytick\"><text text-anchor=\"end\" x=\"79\" y=\"4.199999999999999\" transform=\"translate(0,453)\" style=\"font-family: 'Open Sans', verdana, arial, sans-serif; font-size: 12px; fill: rgb(42, 63, 95); fill-opacity: 1; white-space: pre; opacity: 1;\">0</text></g><g class=\"ytick\"><text text-anchor=\"end\" x=\"79\" y=\"4.199999999999999\" style=\"font-family: 'Open Sans', verdana, arial, sans-serif; font-size: 12px; fill: rgb(42, 63, 95); fill-opacity: 1; white-space: pre; opacity: 1;\" transform=\"translate(0,407.68)\">5</text></g><g class=\"ytick\"><text text-anchor=\"end\" x=\"79\" y=\"4.199999999999999\" style=\"font-family: 'Open Sans', verdana, arial, sans-serif; font-size: 12px; fill: rgb(42, 63, 95); fill-opacity: 1; white-space: pre; opacity: 1;\" transform=\"translate(0,362.36)\">10</text></g><g class=\"ytick\"><text text-anchor=\"end\" x=\"79\" y=\"4.199999999999999\" style=\"font-family: 'Open Sans', verdana, arial, sans-serif; font-size: 12px; fill: rgb(42, 63, 95); fill-opacity: 1; white-space: pre; opacity: 1;\" transform=\"translate(0,317.05)\">15</text></g><g class=\"ytick\"><text text-anchor=\"end\" x=\"79\" y=\"4.199999999999999\" style=\"font-family: 'Open Sans', verdana, arial, sans-serif; font-size: 12px; fill: rgb(42, 63, 95); fill-opacity: 1; white-space: pre; opacity: 1;\" transform=\"translate(0,271.73)\">20</text></g><g class=\"ytick\"><text text-anchor=\"end\" x=\"79\" y=\"4.199999999999999\" style=\"font-family: 'Open Sans', verdana, arial, sans-serif; font-size: 12px; fill: rgb(42, 63, 95); fill-opacity: 1; white-space: pre; opacity: 1;\" transform=\"translate(0,226.41)\">25</text></g><g class=\"ytick\"><text text-anchor=\"end\" x=\"79\" y=\"4.199999999999999\" style=\"font-family: 'Open Sans', verdana, arial, sans-serif; font-size: 12px; fill: rgb(42, 63, 95); fill-opacity: 1; white-space: pre; opacity: 1;\" transform=\"translate(0,181.09)\">30</text></g><g class=\"ytick\"><text text-anchor=\"end\" x=\"79\" y=\"4.199999999999999\" style=\"font-family: 'Open Sans', verdana, arial, sans-serif; font-size: 12px; fill: rgb(42, 63, 95); fill-opacity: 1; white-space: pre; opacity: 1;\" transform=\"translate(0,135.78)\">35</text></g></g><g class=\"overaxes-above\"/></g></g><g class=\"polarlayer\"/><g class=\"ternarylayer\"/><g class=\"geolayer\"/><g class=\"funnelarealayer\"/><g class=\"pielayer\"/><g class=\"iciclelayer\"/><g class=\"treemaplayer\"/><g class=\"sunburstlayer\"/><g class=\"glimages\"/><defs id=\"topdefs-1f9d6a\"><g class=\"clips\"/></defs><g class=\"layer-above\"><g class=\"imagelayer\"/><g class=\"shapelayer\"/></g><g class=\"infolayer\"><g class=\"g-gtitle\"><text class=\"gtitle\" x=\"47.5\" y=\"50\" text-anchor=\"start\" dy=\"0em\" style=\"font-family: 'Open Sans', verdana, arial, sans-serif; font-size: 17px; fill: rgb(42, 63, 95); opacity: 1; font-weight: normal; white-space: pre;\">Commenting dates for \"_jas_min_pr._\"</text></g><g class=\"g-xtitle\"><text class=\"xtitle\" x=\"475\" y=\"538.0431640625\" text-anchor=\"middle\" style=\"font-family: 'Open Sans', verdana, arial, sans-serif; font-size: 14px; fill: rgb(42, 63, 95); opacity: 1; font-weight: normal; white-space: pre;\">Comments Creation Date</text></g><g class=\"g-ytitle\"><text class=\"ytitle\" transform=\"rotate(-90,40.465625,276.5)\" x=\"40.465625\" y=\"276.5\" text-anchor=\"middle\" style=\"font-family: 'Open Sans', verdana, arial, sans-serif; font-size: 14px; fill: rgb(42, 63, 95); opacity: 1; font-weight: normal; white-space: pre;\">n_comments</text></g></g></svg>"
      ]
     },
     "metadata": {},
     "output_type": "display_data"
    }
   ],
   "source": [
    "bar_peaks(get_top(df_comments[df_comments.username == \"_jas_min_pr._\"], 'date', 8, 'date', 'n_comments'),\n",
    "         'Commenting dates for \"_jas_min_pr._\"')"
   ]
  },
  {
   "cell_type": "markdown",
   "id": "c6658357",
   "metadata": {},
   "source": [
    "#### babikate6\n",
    "<font color='red'>negative comments</font>\n",
    "\n",
    "- private account\n",
    "- 0 posts\n",
    "- 5 followers\n",
    "- 21 following"
   ]
  },
  {
   "cell_type": "code",
   "execution_count": 95,
   "id": "35f9044b",
   "metadata": {},
   "outputs": [],
   "source": [
    "neg_users = neg_users|{'babikate6'}"
   ]
  },
  {
   "cell_type": "code",
   "execution_count": 96,
   "id": "03520a99",
   "metadata": {},
   "outputs": [
    {
     "data": {
      "text/plain": [
       "@johnnydepp #wearewithyoujohnnydepp #amberheardisaliar #justiceforjohnnydepp #wearewithyoujohnnydepp #johnnydepp #amberheard                                                                                                                                                         9\n",
       "@johnnydepp #wearewithyoujohnnydepp #amberheardisaliar #justiceforjohnnydepp #wearewithyoujohnnydepp #johnnydepp #amberheard #fuckthesun                                                                                                                                             5\n",
       "@johnnydepp #wearewithyoujohnnydepp #amberheardisaliar #justiceforjohnnydepp #wearewithyoujohnnydepp #johnnydepp #amberheard #fuckthesun ♥️                                                                                                                                          5\n",
       "@johnnydepp #wearewithyoujohnnydepp #amberheardisaliar #justiceforjohnnydepp #wearewithyoujohnnydepp #johnnydepp #amberheard #fuckthesun 🗡️                                                                                                                                          4\n",
       "@johnnydepp #wearewithyoujohnnydepp #amberheardisaliar #justiceforjohnnydepp #wearewithyoujohnnydepp #johnnydepp #amberheard #fuckthesun 💎                                                                                                                                           1\n",
       "@johnnydepp #wearewithyoujohnnydepp #amberheardisaliar #justiceforjohnnydepp #wearewithyoujohnnydepp #johnnydepp #amberheard #fuckthesun 💎💎💎                                                                                                                                         1\n",
       "@johnnydepp #wearewithyoujohnnydepp #amberheardisaliar #justiceforjohnnydepp #wearewithyoujohnnydepp #johnnydepp #amberheard #fuckthesun 💪💪💪                                                                                                                                         1\n",
       "@johnnydepp #wearewithyoujohnnydepp #amberheardisaliar #justiceforjohnnydepp #wearewithyoujohnnydepp #johnnydepp #amberheard #fuckthesun 🤍🤍🤍                                                                                                                                         1\n",
       "@johnnydepp #wearewithyoujohnnydepp #amberheardisaliar #justiceforjohnnydepp #wearewithyoujohnnydepp #johnnydepp #amberheard #fuckthesun 😈                                                                                                                                           1\n",
       "@johnnydepp #wearewithyoujohnnydepp #amberheardisaliar #justiceforjohnnydepp #wearewithyoujohnnydepp #johnnydepp #amberheard #fuckthesun 🔴                                                                                                                                           1\n",
       "@johnnydepp #wearewithyoujohnnydepp #amberheardisaliar #justiceforjohnnydepp #wearewithyoujohnnydepp #johnnydepp #amberheard #fuckthesun 🎶                                                                                                                                           1\n",
       "@johnnydepp #wearewithyoujohnnydepp #amberheardisaliar #justiceforjohnnydepp #wearewithyoujohnnydepp #johnnydepp #amberheard #fuckthesun 💎💎💎💎💎                                                                                                                                       1\n",
       "@johnnydepp #wearewithyoujohnnydepp #amberheardisaliar #justiceforjohnnydepp #wearewithyoujohnnydepp #johnnydepp #amberheard #fuckthesun 🗡️🗡️🗡️🗡️🗡️                                                                                                                                  1\n",
       "@johnnydepp #wearewithyoujohnnydepp #amberheardisaliar #justiceforjohnnydepp #wearewithyoujohnnydepp #johnnydepp #amberheard #fuckthesun @johnnydepp #wearewithyoujohnnydepp #amberheardisaliar #justiceforjohnnydepp #wearewithyoujohnnydepp #johnnydepp #amberheard #fuckthesun    1\n",
       "#wearewithyoujohnnydepp                                                                                                                                                                                                                                                              1\n",
       "Name: message, dtype: int64"
      ]
     },
     "execution_count": 96,
     "metadata": {},
     "output_type": "execute_result"
    }
   ],
   "source": [
    "df_comments.query(\"username == 'babikate6'\")['message'].value_counts().head(15)"
   ]
  },
  {
   "cell_type": "code",
   "execution_count": 97,
   "id": "6f56bed9",
   "metadata": {},
   "outputs": [
    {
     "data": {
      "image/svg+xml": [
       "<svg class=\"main-svg\" xmlns=\"http://www.w3.org/2000/svg\" xmlns:xlink=\"http://www.w3.org/1999/xlink\" width=\"950\" height=\"550\" style=\"\" viewBox=\"0 0 950 550\"><rect x=\"0\" y=\"0\" width=\"950\" height=\"550\" style=\"fill: rgb(255, 255, 255); fill-opacity: 1;\"/><defs id=\"defs-e3e9b9\"><g class=\"clips\"><clipPath id=\"clipe3e9b9xyplot\" class=\"plotclip\"><rect width=\"790\" height=\"353\"/></clipPath><clipPath class=\"axesclip\" id=\"clipe3e9b9x\"><rect x=\"80\" y=\"0\" width=\"790\" height=\"550\"/></clipPath><clipPath class=\"axesclip\" id=\"clipe3e9b9y\"><rect x=\"0\" y=\"100\" width=\"950\" height=\"353\"/></clipPath><clipPath class=\"axesclip\" id=\"clipe3e9b9xy\"><rect x=\"80\" y=\"100\" width=\"790\" height=\"353\"/></clipPath></g><g class=\"gradients\"/><g class=\"patterns\"/></defs><g class=\"bglayer\"><rect class=\"bg\" x=\"80\" y=\"100\" width=\"790\" height=\"353\" style=\"fill: rgb(229, 236, 246); fill-opacity: 1; stroke-width: 0;\"/></g><g class=\"layer-below\"><g class=\"imagelayer\"/><g class=\"shapelayer\"/></g><g class=\"cartesianlayer\"><g class=\"subplot xy\"><g class=\"layer-subplot\"><g class=\"shapelayer\"/><g class=\"imagelayer\"/></g><g class=\"gridlayer\"><g class=\"x\"/><g class=\"y\"><path class=\"ygrid crisp\" transform=\"translate(0,405.09)\" d=\"M80,0h790\" style=\"stroke: rgb(255, 255, 255); stroke-opacity: 1; stroke-width: 1px;\"/><path class=\"ygrid crisp\" transform=\"translate(0,357.19)\" d=\"M80,0h790\" style=\"stroke: rgb(255, 255, 255); stroke-opacity: 1; stroke-width: 1px;\"/><path class=\"ygrid crisp\" transform=\"translate(0,309.28)\" d=\"M80,0h790\" style=\"stroke: rgb(255, 255, 255); stroke-opacity: 1; stroke-width: 1px;\"/><path class=\"ygrid crisp\" transform=\"translate(0,261.37)\" d=\"M80,0h790\" style=\"stroke: rgb(255, 255, 255); stroke-opacity: 1; stroke-width: 1px;\"/><path class=\"ygrid crisp\" transform=\"translate(0,213.45999999999998)\" d=\"M80,0h790\" style=\"stroke: rgb(255, 255, 255); stroke-opacity: 1; stroke-width: 1px;\"/><path class=\"ygrid crisp\" transform=\"translate(0,165.56)\" d=\"M80,0h790\" style=\"stroke: rgb(255, 255, 255); stroke-opacity: 1; stroke-width: 1px;\"/><path class=\"ygrid crisp\" transform=\"translate(0,117.65)\" d=\"M80,0h790\" style=\"stroke: rgb(255, 255, 255); stroke-opacity: 1; stroke-width: 1px;\"/></g></g><g class=\"zerolinelayer\"><path class=\"yzl zl crisp\" transform=\"translate(0,453)\" d=\"M80,0h790\" style=\"stroke: rgb(255, 255, 255); stroke-opacity: 1; stroke-width: 2px;\"/></g><path class=\"xlines-below\"/><path class=\"ylines-below\"/><g class=\"overlines-below\"/><g class=\"xaxislayer-below\"/><g class=\"yaxislayer-below\"/><g class=\"overaxes-below\"/><g class=\"plot\" transform=\"translate(80,100)\" clip-path=\"url(#clipe3e9b9xyplot)\"><g class=\"barlayer mlayer\"><g class=\"trace bars\" style=\"opacity: 1;\"><g class=\"points\"><g class=\"point\"><path d=\"M79,353V17.65H711V353Z\" style=\"vector-effect: non-scaling-stroke; opacity: 1; stroke-width: 0.5px; fill: rgb(255, 0, 0); fill-opacity: 1; stroke: rgb(229, 236, 246); stroke-opacity: 1;\"/><text class=\"bartext bartext-inside\" text-anchor=\"middle\" data-notex=\"1\" x=\"0\" y=\"0\" style=\"font-family: 'Open Sans', verdana, arial, sans-serif; font-size: 12px; fill: rgb(255, 255, 255); fill-opacity: 1; white-space: pre;\" transform=\"translate(395,33.65)\">35</text></g></g></g></g></g><g class=\"overplot\"/><path class=\"xlines-above crisp\" d=\"M0,0\" style=\"fill: none;\"/><path class=\"ylines-above crisp\" d=\"M0,0\" style=\"fill: none;\"/><g class=\"overlines-above\"/><g class=\"xaxislayer-above\"><g class=\"xtick\"><text text-anchor=\"start\" x=\"0\" y=\"466\" transform=\"translate(475,0) rotate(45,0,460)\" style=\"font-family: 'Open Sans', verdana, arial, sans-serif; font-size: 12px; fill: rgb(42, 63, 95); fill-opacity: 1; white-space: pre; opacity: 1;\">Nov 2, 2020</text></g></g><g class=\"yaxislayer-above\"><g class=\"ytick\"><text text-anchor=\"end\" x=\"79\" y=\"4.199999999999999\" transform=\"translate(0,453)\" style=\"font-family: 'Open Sans', verdana, arial, sans-serif; font-size: 12px; fill: rgb(42, 63, 95); fill-opacity: 1; white-space: pre; opacity: 1;\">0</text></g><g class=\"ytick\"><text text-anchor=\"end\" x=\"79\" y=\"4.199999999999999\" style=\"font-family: 'Open Sans', verdana, arial, sans-serif; font-size: 12px; fill: rgb(42, 63, 95); fill-opacity: 1; white-space: pre; opacity: 1;\" transform=\"translate(0,405.09)\">5</text></g><g class=\"ytick\"><text text-anchor=\"end\" x=\"79\" y=\"4.199999999999999\" style=\"font-family: 'Open Sans', verdana, arial, sans-serif; font-size: 12px; fill: rgb(42, 63, 95); fill-opacity: 1; white-space: pre; opacity: 1;\" transform=\"translate(0,357.19)\">10</text></g><g class=\"ytick\"><text text-anchor=\"end\" x=\"79\" y=\"4.199999999999999\" style=\"font-family: 'Open Sans', verdana, arial, sans-serif; font-size: 12px; fill: rgb(42, 63, 95); fill-opacity: 1; white-space: pre; opacity: 1;\" transform=\"translate(0,309.28)\">15</text></g><g class=\"ytick\"><text text-anchor=\"end\" x=\"79\" y=\"4.199999999999999\" style=\"font-family: 'Open Sans', verdana, arial, sans-serif; font-size: 12px; fill: rgb(42, 63, 95); fill-opacity: 1; white-space: pre; opacity: 1;\" transform=\"translate(0,261.37)\">20</text></g><g class=\"ytick\"><text text-anchor=\"end\" x=\"79\" y=\"4.199999999999999\" style=\"font-family: 'Open Sans', verdana, arial, sans-serif; font-size: 12px; fill: rgb(42, 63, 95); fill-opacity: 1; white-space: pre; opacity: 1;\" transform=\"translate(0,213.45999999999998)\">25</text></g><g class=\"ytick\"><text text-anchor=\"end\" x=\"79\" y=\"4.199999999999999\" style=\"font-family: 'Open Sans', verdana, arial, sans-serif; font-size: 12px; fill: rgb(42, 63, 95); fill-opacity: 1; white-space: pre; opacity: 1;\" transform=\"translate(0,165.56)\">30</text></g><g class=\"ytick\"><text text-anchor=\"end\" x=\"79\" y=\"4.199999999999999\" style=\"font-family: 'Open Sans', verdana, arial, sans-serif; font-size: 12px; fill: rgb(42, 63, 95); fill-opacity: 1; white-space: pre; opacity: 1;\" transform=\"translate(0,117.65)\">35</text></g></g><g class=\"overaxes-above\"/></g></g><g class=\"polarlayer\"/><g class=\"ternarylayer\"/><g class=\"geolayer\"/><g class=\"funnelarealayer\"/><g class=\"pielayer\"/><g class=\"iciclelayer\"/><g class=\"treemaplayer\"/><g class=\"sunburstlayer\"/><g class=\"glimages\"/><defs id=\"topdefs-e3e9b9\"><g class=\"clips\"/></defs><g class=\"layer-above\"><g class=\"imagelayer\"/><g class=\"shapelayer\"/></g><g class=\"infolayer\"><g class=\"g-gtitle\"><text class=\"gtitle\" x=\"47.5\" y=\"50\" text-anchor=\"start\" dy=\"0em\" style=\"font-family: 'Open Sans', verdana, arial, sans-serif; font-size: 17px; fill: rgb(42, 63, 95); opacity: 1; font-weight: normal; white-space: pre;\">Commenting dates for \"babikate6\"</text></g><g class=\"g-xtitle\"><text class=\"xtitle\" x=\"475\" y=\"538.0431640625\" text-anchor=\"middle\" style=\"font-family: 'Open Sans', verdana, arial, sans-serif; font-size: 14px; fill: rgb(42, 63, 95); opacity: 1; font-weight: normal; white-space: pre;\">Comments Creation Date</text></g><g class=\"g-ytitle\"><text class=\"ytitle\" transform=\"rotate(-90,40.465625,276.5)\" x=\"40.465625\" y=\"276.5\" text-anchor=\"middle\" style=\"font-family: 'Open Sans', verdana, arial, sans-serif; font-size: 14px; fill: rgb(42, 63, 95); opacity: 1; font-weight: normal; white-space: pre;\">n_comments</text></g></g></svg>"
      ]
     },
     "metadata": {},
     "output_type": "display_data"
    }
   ],
   "source": [
    "bar_peaks(get_top(df_comments[df_comments.username == \"babikate6\"], 'date', 8, 'date', 'n_comments'),\n",
    "         'Commenting dates for \"babikate6\"')"
   ]
  },
  {
   "cell_type": "code",
   "execution_count": 98,
   "id": "bc56668e",
   "metadata": {},
   "outputs": [
    {
     "data": {
      "text/plain": [
       "@johnnydepp #wearewithyoujohnnydepp #amberheardisaliar #justiceforjohnnydepp #wearewithyoujohnnydepp #johnnydepp #amberheard #fuckthesun    119\n",
       "#justiceforjohnnydepp                                                                                                                        82\n",
       "@johnnydepp                                                                                                                                  80\n",
       "#wearewithyoujohnnydepp                                                                                                                      35\n",
       "😍                                                                                                                                            21\n",
       "❤️❤️❤️                                                                                                                                       20\n",
       "🔥                                                                                                                                            19\n",
       "😐😐😐                                                                                                                                          17\n",
       "😐                                                                                                                                            14\n",
       "😍😍😍                                                                                                                                          13\n",
       "#justicforjohnnydepp                                                                                                                         13\n",
       "❤️❤️❤️❤️                                                                                                                                     11\n",
       "😐😐😐😐😐                                                                                                                                        11\n",
       "#fuckthesun                                                                                                                                  11\n",
       "🔥🔥🔥                                                                                                                                          11\n",
       "❤️                                                                                                                                           10\n",
       "#amberheardisaliar                                                                                                                            9\n",
       "@johnnydepp #wearewithyoujohnnydepp #amberheardisaliar #justiceforjohnnydepp #wearewithyoujohnnydepp #johnnydepp #amberheard                  9\n",
       "😐😐😐😐                                                                                                                                          9\n",
       "😢                                                                                                                                             9\n",
       "Name: message, dtype: int64"
      ]
     },
     "execution_count": 98,
     "metadata": {},
     "output_type": "execute_result"
    }
   ],
   "source": [
    "df_comments[df_comments.datetime.dt.date.astype(str) == \"2020-11-02\"][\n",
    "    \"message\"\n",
    "].value_counts().head(20)"
   ]
  },
  {
   "cell_type": "markdown",
   "id": "7312a479",
   "metadata": {},
   "source": [
    "    "
   ]
  },
  {
   "cell_type": "markdown",
   "id": "549f6762",
   "metadata": {},
   "source": [
    "### 2020-11-07\n",
    "<font color='red'>Lots of negative comments can be seen on that date.</font>"
   ]
  },
  {
   "cell_type": "code",
   "execution_count": 99,
   "id": "318f3da5",
   "metadata": {},
   "outputs": [
    {
     "data": {
      "text/plain": [
       "azulj.nolasco               51\n",
       "cinemaporteghal             43\n",
       "glory_cinema                41\n",
       "sassything90                23\n",
       "11_ornella_06               20\n",
       "olvorka                     18\n",
       "vengadorunavezvengador      18\n",
       "theworldofgeeks99up         18\n",
       "slut_for_big_juicy_tacos    17\n",
       "samanthastar53              16\n",
       "Name: username, dtype: int64"
      ]
     },
     "execution_count": 99,
     "metadata": {},
     "output_type": "execute_result"
    }
   ],
   "source": [
    "df_comments[df_comments.datetime.dt.date.astype(str) == \"2020-11-07\"][\n",
    "    \"username\"\n",
    "].value_counts().head(10)"
   ]
  },
  {
   "cell_type": "markdown",
   "id": "92e03e02",
   "metadata": {},
   "source": [
    "#### samanthastar53\n",
    "<font color='red'>negative comments</font> | <font color='red'>newly created</font>\n",
    "\n",
    "- Account created on NOVEMBER 5, 2020\n",
    "- 5 posts\n",
    "- 34 followers\n",
    "- 102 following\n",
    "\n",
    "https://www.instagram.com/p/CKXKaGEMOK8/?utm_source=ig_web_copy_link"
   ]
  },
  {
   "cell_type": "code",
   "execution_count": 100,
   "id": "dfbc85f7",
   "metadata": {},
   "outputs": [],
   "source": [
    "neg_users = neg_users|{'samanthastar53'}\n",
    "neg_text = neg_text|{'amberheardisanabuserandliar', 'boycottamberheard', \n",
    "                     'removeamberheardsfromaquaman2', 'jailforamberheard'}"
   ]
  },
  {
   "cell_type": "code",
   "execution_count": 101,
   "id": "a93760e9",
   "metadata": {},
   "outputs": [
    {
     "data": {
      "text/plain": [
       "#removeamberheardsfromaquaman2      42\n",
       "#boycottamberheard                  27\n",
       "#amberheardisanabuserandliar        23\n",
       "#jailforamberheard                  11\n",
       "#justiseforjohnnydepp                9\n",
       "@amberheard 🤮🤮🤮🤮🤮🤮                   9\n",
       "#amberturd 💩                         8\n",
       "🤮🤮🤮🤮🤮🤮🤮                              7\n",
       "#boycottamberheard 🤢                 7\n",
       "@amberheard 🤮🤮🤮🤮🤮🤮🤮                  7\n",
       "@amberheard 💩💩💩💩💩💩                   6\n",
       "#removeamberheardsfromaquaman2 🤢     6\n",
       "#amberheardisanabuserandliar 🤢       5\n",
       "#jailforamberheard 🤢                 4\n",
       "@amberheard 🤮🤮🤮🤮🤮                    4\n",
       "Name: message, dtype: int64"
      ]
     },
     "execution_count": 101,
     "metadata": {},
     "output_type": "execute_result"
    }
   ],
   "source": [
    "df_comments.query(\"username == 'samanthastar53'\")['message'].value_counts().head(15)"
   ]
  },
  {
   "cell_type": "code",
   "execution_count": 102,
   "id": "07980fbd",
   "metadata": {},
   "outputs": [
    {
     "data": {
      "image/svg+xml": [
       "<svg class=\"main-svg\" xmlns=\"http://www.w3.org/2000/svg\" xmlns:xlink=\"http://www.w3.org/1999/xlink\" width=\"950\" height=\"550\" style=\"\" viewBox=\"0 0 950 550\"><rect x=\"0\" y=\"0\" width=\"950\" height=\"550\" style=\"fill: rgb(255, 255, 255); fill-opacity: 1;\"/><defs id=\"defs-347940\"><g class=\"clips\"><clipPath id=\"clip347940xyplot\" class=\"plotclip\"><rect width=\"790\" height=\"348\"/></clipPath><clipPath class=\"axesclip\" id=\"clip347940x\"><rect x=\"80\" y=\"0\" width=\"790\" height=\"550\"/></clipPath><clipPath class=\"axesclip\" id=\"clip347940y\"><rect x=\"0\" y=\"100\" width=\"950\" height=\"348\"/></clipPath><clipPath class=\"axesclip\" id=\"clip347940xy\"><rect x=\"80\" y=\"100\" width=\"790\" height=\"348\"/></clipPath></g><g class=\"gradients\"/><g class=\"patterns\"/></defs><g class=\"bglayer\"><rect class=\"bg\" x=\"80\" y=\"100\" width=\"790\" height=\"348\" style=\"fill: rgb(229, 236, 246); fill-opacity: 1; stroke-width: 0;\"/></g><g class=\"layer-below\"><g class=\"imagelayer\"/><g class=\"shapelayer\"/></g><g class=\"cartesianlayer\"><g class=\"subplot xy\"><g class=\"layer-subplot\"><g class=\"shapelayer\"/><g class=\"imagelayer\"/></g><g class=\"gridlayer\"><g class=\"x\"/><g class=\"y\"><path class=\"ygrid crisp\" transform=\"translate(0,369.29)\" d=\"M80,0h790\" style=\"stroke: rgb(255, 255, 255); stroke-opacity: 1; stroke-width: 1px;\"/><path class=\"ygrid crisp\" transform=\"translate(0,290.57)\" d=\"M80,0h790\" style=\"stroke: rgb(255, 255, 255); stroke-opacity: 1; stroke-width: 1px;\"/><path class=\"ygrid crisp\" transform=\"translate(0,211.86)\" d=\"M80,0h790\" style=\"stroke: rgb(255, 255, 255); stroke-opacity: 1; stroke-width: 1px;\"/><path class=\"ygrid crisp\" transform=\"translate(0,133.14)\" d=\"M80,0h790\" style=\"stroke: rgb(255, 255, 255); stroke-opacity: 1; stroke-width: 1px;\"/></g></g><g class=\"zerolinelayer\"><path class=\"yzl zl crisp\" transform=\"translate(0,448)\" d=\"M80,0h790\" style=\"stroke: rgb(255, 255, 255); stroke-opacity: 1; stroke-width: 2px;\"/></g><path class=\"xlines-below\"/><path class=\"ylines-below\"/><g class=\"overlines-below\"/><g class=\"xaxislayer-below\"/><g class=\"yaxislayer-below\"/><g class=\"overaxes-below\"/><g class=\"plot\" transform=\"translate(80,100)\" clip-path=\"url(#clip347940xyplot)\"><g class=\"barlayer mlayer\"><g class=\"trace bars\" style=\"opacity: 1;\"><g class=\"points\"><g class=\"point\"><path d=\"M21.27,348V17.4H29.37V348Z\" style=\"vector-effect: non-scaling-stroke; opacity: 1; stroke-width: 0.5px; fill: rgb(255, 0, 0); fill-opacity: 1; stroke: rgb(229, 236, 246); stroke-opacity: 1;\"/><text class=\"bartext bartext-inside\" text-anchor=\"middle\" data-notex=\"1\" x=\"0\" y=\"0\" style=\"font-family: 'Open Sans', verdana, arial, sans-serif; font-size: 12px; fill: rgb(255, 255, 255); fill-opacity: 1; white-space: pre;\" transform=\"translate(25.32,22.385454545454547)scale(0.15272727272727282)\">21</text></g><g class=\"point\"><path d=\"M31.4,348V96.11H39.5V348Z\" style=\"vector-effect: non-scaling-stroke; opacity: 1; stroke-width: 0.5px; fill: rgb(255, 0, 0); fill-opacity: 1; stroke: rgb(229, 236, 246); stroke-opacity: 1;\"/><text class=\"bartext bartext-inside\" text-anchor=\"middle\" data-notex=\"1\" x=\"0\" y=\"0\" style=\"font-family: 'Open Sans', verdana, arial, sans-serif; font-size: 12px; fill: rgb(255, 255, 255); fill-opacity: 1; white-space: pre;\" transform=\"translate(35.45,101.09545454545454)scale(0.15272727272727282)\">16</text></g><g class=\"point\"><path d=\"M51.65,348V96.11H59.76V348Z\" style=\"vector-effect: non-scaling-stroke; opacity: 1; stroke-width: 0.5px; fill: rgb(255, 0, 0); fill-opacity: 1; stroke: rgb(229, 236, 246); stroke-opacity: 1;\"/><text class=\"bartext bartext-inside\" text-anchor=\"middle\" data-notex=\"1\" x=\"0\" y=\"0\" style=\"font-family: 'Open Sans', verdana, arial, sans-serif; font-size: 12px; fill: rgb(255, 255, 255); fill-opacity: 1; white-space: pre;\" transform=\"translate(55.705,101.10490909090909)scale(0.15345454545454543)\">16</text></g><g class=\"point\"><path d=\"M669.47,348V111.86H677.58V348Z\" style=\"vector-effect: non-scaling-stroke; opacity: 1; stroke-width: 0.5px; fill: rgb(255, 0, 0); fill-opacity: 1; stroke: rgb(229, 236, 246); stroke-opacity: 1;\"/><text class=\"bartext bartext-inside\" text-anchor=\"middle\" data-notex=\"1\" x=\"0\" y=\"0\" style=\"font-family: 'Open Sans', verdana, arial, sans-serif; font-size: 12px; fill: rgb(255, 255, 255); fill-opacity: 1; white-space: pre;\" transform=\"translate(673.5250000000001,116.8549090909091)scale(0.15345454545454645)\">15</text></g><g class=\"point\"><path d=\"M355.5,348V127.6H363.6V348Z\" style=\"vector-effect: non-scaling-stroke; opacity: 1; stroke-width: 0.5px; fill: rgb(255, 0, 0); fill-opacity: 1; stroke: rgb(229, 236, 246); stroke-opacity: 1;\"/><text class=\"bartext bartext-inside\" text-anchor=\"middle\" data-notex=\"1\" x=\"0\" y=\"0\" style=\"font-family: 'Open Sans', verdana, arial, sans-serif; font-size: 12px; fill: rgb(255, 255, 255); fill-opacity: 1; white-space: pre;\" transform=\"translate(359.55,132.58545454545455)scale(0.15272727272727438)\">14</text></g><g class=\"point\"><path d=\"M92.17,348V127.6H100.27V348Z\" style=\"vector-effect: non-scaling-stroke; opacity: 1; stroke-width: 0.5px; fill: rgb(255, 0, 0); fill-opacity: 1; stroke: rgb(229, 236, 246); stroke-opacity: 1;\"/><text class=\"bartext bartext-inside\" text-anchor=\"middle\" data-notex=\"1\" x=\"0\" y=\"0\" style=\"font-family: 'Open Sans', verdana, arial, sans-serif; font-size: 12px; fill: rgb(255, 255, 255); fill-opacity: 1; white-space: pre;\" transform=\"translate(96.22,132.58545454545452)scale(0.15272727272727232)\">14</text></g><g class=\"point\"><path d=\"M780.88,348V143.34H788.99V348Z\" style=\"vector-effect: non-scaling-stroke; opacity: 1; stroke-width: 0.5px; fill: rgb(255, 0, 0); fill-opacity: 1; stroke: rgb(229, 236, 246); stroke-opacity: 1;\"/><text class=\"bartext bartext-inside\" text-anchor=\"middle\" data-notex=\"1\" x=\"0\" y=\"0\" style=\"font-family: 'Open Sans', verdana, arial, sans-serif; font-size: 12px; fill: rgb(255, 255, 255); fill-opacity: 1; white-space: pre;\" transform=\"translate(784.935,148.3349090909091)scale(0.15345454545454645)\">13</text></g><g class=\"point\"><path d=\"M1.01,348V159.09H9.12V348Z\" style=\"vector-effect: non-scaling-stroke; opacity: 1; stroke-width: 0.5px; fill: rgb(255, 0, 0); fill-opacity: 1; stroke: rgb(229, 236, 246); stroke-opacity: 1;\"/><text class=\"bartext bartext-inside\" text-anchor=\"middle\" data-notex=\"1\" x=\"0\" y=\"0\" style=\"font-family: 'Open Sans', verdana, arial, sans-serif; font-size: 12px; fill: rgb(255, 255, 255); fill-opacity: 1; white-space: pre;\" transform=\"translate(5.0649999999999995,164.0849090909091)scale(0.15345454545454543)\">12</text></g></g></g></g></g><g class=\"overplot\"/><path class=\"xlines-above crisp\" d=\"M0,0\" style=\"fill: none;\"/><path class=\"ylines-above crisp\" d=\"M0,0\" style=\"fill: none;\"/><g class=\"overlines-above\"/><g class=\"xaxislayer-above\"><g class=\"xtick\"><text text-anchor=\"start\" x=\"0\" y=\"461\" transform=\"translate(105.32,0) rotate(45,0,455)\" style=\"font-family: 'Open Sans', verdana, arial, sans-serif; font-size: 12px; fill: rgb(42, 63, 95); fill-opacity: 1; white-space: pre; opacity: 1;\">Nov 6, 2020</text></g><g class=\"xtick\"><text text-anchor=\"start\" x=\"0\" y=\"461\" style=\"font-family: 'Open Sans', verdana, arial, sans-serif; font-size: 12px; fill: rgb(42, 63, 95); fill-opacity: 1; white-space: pre; opacity: 1;\" transform=\"translate(115.45,0) rotate(45,0,455)\">Nov 7, 2020</text></g><g class=\"xtick\"><text text-anchor=\"start\" x=\"0\" y=\"461\" style=\"font-family: 'Open Sans', verdana, arial, sans-serif; font-size: 12px; fill: rgb(42, 63, 95); fill-opacity: 1; white-space: pre; opacity: 1;\" transform=\"translate(135.71,0) rotate(45,0,455)\">Nov 9, 2020</text></g><g class=\"xtick\"><text text-anchor=\"start\" x=\"0\" y=\"461\" style=\"font-family: 'Open Sans', verdana, arial, sans-serif; font-size: 12px; fill: rgb(42, 63, 95); fill-opacity: 1; white-space: pre; opacity: 1;\" transform=\"translate(753.53,0) rotate(45,0,455)\">Jan 9, 2021</text></g><g class=\"xtick\"><text text-anchor=\"start\" x=\"0\" y=\"461\" style=\"font-family: 'Open Sans', verdana, arial, sans-serif; font-size: 12px; fill: rgb(42, 63, 95); fill-opacity: 1; white-space: pre; opacity: 1;\" transform=\"translate(439.55,0) rotate(45,0,455)\">Dec 9, 2020</text></g><g class=\"xtick\"><text text-anchor=\"start\" x=\"0\" y=\"461\" style=\"font-family: 'Open Sans', verdana, arial, sans-serif; font-size: 12px; fill: rgb(42, 63, 95); fill-opacity: 1; white-space: pre; opacity: 1;\" transform=\"translate(176.22,0) rotate(45,0,455)\">Nov 13, 2020</text></g><g class=\"xtick\"><text text-anchor=\"start\" x=\"0\" y=\"461\" style=\"font-family: 'Open Sans', verdana, arial, sans-serif; font-size: 12px; fill: rgb(42, 63, 95); fill-opacity: 1; white-space: pre; opacity: 1;\" transform=\"translate(864.94,0) rotate(45,0,455)\">Jan 20, 2021</text></g><g class=\"xtick\"><text text-anchor=\"start\" x=\"0\" y=\"461\" style=\"font-family: 'Open Sans', verdana, arial, sans-serif; font-size: 12px; fill: rgb(42, 63, 95); fill-opacity: 1; white-space: pre; opacity: 1;\" transform=\"translate(85.06,0) rotate(45,0,455)\">Nov 4, 2020</text></g></g><g class=\"yaxislayer-above\"><g class=\"ytick\"><text text-anchor=\"end\" x=\"79\" y=\"4.199999999999999\" transform=\"translate(0,448)\" style=\"font-family: 'Open Sans', verdana, arial, sans-serif; font-size: 12px; fill: rgb(42, 63, 95); fill-opacity: 1; white-space: pre; opacity: 1;\">0</text></g><g class=\"ytick\"><text text-anchor=\"end\" x=\"79\" y=\"4.199999999999999\" style=\"font-family: 'Open Sans', verdana, arial, sans-serif; font-size: 12px; fill: rgb(42, 63, 95); fill-opacity: 1; white-space: pre; opacity: 1;\" transform=\"translate(0,369.29)\">5</text></g><g class=\"ytick\"><text text-anchor=\"end\" x=\"79\" y=\"4.199999999999999\" style=\"font-family: 'Open Sans', verdana, arial, sans-serif; font-size: 12px; fill: rgb(42, 63, 95); fill-opacity: 1; white-space: pre; opacity: 1;\" transform=\"translate(0,290.57)\">10</text></g><g class=\"ytick\"><text text-anchor=\"end\" x=\"79\" y=\"4.199999999999999\" style=\"font-family: 'Open Sans', verdana, arial, sans-serif; font-size: 12px; fill: rgb(42, 63, 95); fill-opacity: 1; white-space: pre; opacity: 1;\" transform=\"translate(0,211.86)\">15</text></g><g class=\"ytick\"><text text-anchor=\"end\" x=\"79\" y=\"4.199999999999999\" style=\"font-family: 'Open Sans', verdana, arial, sans-serif; font-size: 12px; fill: rgb(42, 63, 95); fill-opacity: 1; white-space: pre; opacity: 1;\" transform=\"translate(0,133.14)\">20</text></g></g><g class=\"overaxes-above\"/></g></g><g class=\"polarlayer\"/><g class=\"ternarylayer\"/><g class=\"geolayer\"/><g class=\"funnelarealayer\"/><g class=\"pielayer\"/><g class=\"iciclelayer\"/><g class=\"treemaplayer\"/><g class=\"sunburstlayer\"/><g class=\"glimages\"/><defs id=\"topdefs-347940\"><g class=\"clips\"/></defs><g class=\"layer-above\"><g class=\"imagelayer\"/><g class=\"shapelayer\"/></g><g class=\"infolayer\"><g class=\"g-gtitle\"><text class=\"gtitle\" x=\"47.5\" y=\"50\" text-anchor=\"start\" dy=\"0em\" style=\"font-family: 'Open Sans', verdana, arial, sans-serif; font-size: 17px; fill: rgb(42, 63, 95); opacity: 1; font-weight: normal; white-space: pre;\">Commenting dates for \"samanthastar53\"</text></g><g class=\"g-xtitle\"><text class=\"xtitle\" x=\"475\" y=\"537.89375\" text-anchor=\"middle\" style=\"font-family: 'Open Sans', verdana, arial, sans-serif; font-size: 14px; fill: rgb(42, 63, 95); opacity: 1; font-weight: normal; white-space: pre;\">Comments Creation Date</text></g><g class=\"g-ytitle\"><text class=\"ytitle\" transform=\"rotate(-90,40.465625,274)\" x=\"40.465625\" y=\"274\" text-anchor=\"middle\" style=\"font-family: 'Open Sans', verdana, arial, sans-serif; font-size: 14px; fill: rgb(42, 63, 95); opacity: 1; font-weight: normal; white-space: pre;\">n_comments</text></g></g></svg>"
      ]
     },
     "metadata": {},
     "output_type": "display_data"
    }
   ],
   "source": [
    "bar_peaks(get_top(df_comments[df_comments.username == \"samanthastar53\"], 'date', 8, 'date', 'n_comments'),\n",
    "         'Commenting dates for \"samanthastar53\"')"
   ]
  },
  {
   "cell_type": "markdown",
   "id": "58bccf36",
   "metadata": {},
   "source": [
    "#### slut_for_big_juicy_tacos\n",
    "<font color='red'>negative comments</font>\n",
    "\n",
    "- private account\n",
    "- 4,643 posts\n",
    "- 38 followers\n",
    "- 2,277 following\n",
    "\n",
    "Bio:  \n",
    "Daddy Dylan\n",
    "Not scared of any Bitch. This is my iconic spam. Wish I can be a duck shark or flying squirrel because why the hell not http://chng.it/ttWqDX5yVF\n"
   ]
  },
  {
   "cell_type": "code",
   "execution_count": 103,
   "id": "4473a72b",
   "metadata": {},
   "outputs": [],
   "source": [
    "neg_users = neg_users|{'samanthastar53'}\n",
    "neg_text = neg_text|{'die', 'burn in hell', 'piece of shit', 'jailforamberheard', 'she should kys',\n",
    "                     'jail', 'diecunt', 'cunt', 'death'}"
   ]
  },
  {
   "cell_type": "code",
   "execution_count": 104,
   "id": "e00690e6",
   "metadata": {},
   "outputs": [
    {
     "data": {
      "text/plain": [
       "die                                                   4\n",
       "burn in hell                                          2\n",
       "piece of shit                                         2\n",
       "she should kys                                        2\n",
       "cunt                                                  2\n",
       "fuck this cunt                                        1\n",
       "i feel like she will abuse the kid                    1\n",
       "#justiceforjohnnydepp                                 1\n",
       "fuck her she needs to go to jail                      1\n",
       "worthless piece of shit                               1\n",
       "get raped                                             1\n",
       "#diecunt                                              1\n",
       "i hope you get beaten to death                        1\n",
       "go die                                                1\n",
       "u kys too for supporting her knowing what she does    1\n",
       "Name: message, dtype: int64"
      ]
     },
     "execution_count": 104,
     "metadata": {},
     "output_type": "execute_result"
    }
   ],
   "source": [
    "df_comments.query(\"username == 'slut_for_big_juicy_tacos'\")['message'].value_counts().head(15)"
   ]
  },
  {
   "cell_type": "code",
   "execution_count": 105,
   "id": "52b89d21",
   "metadata": {},
   "outputs": [
    {
     "data": {
      "image/svg+xml": [
       "<svg class=\"main-svg\" xmlns=\"http://www.w3.org/2000/svg\" xmlns:xlink=\"http://www.w3.org/1999/xlink\" width=\"950\" height=\"550\" style=\"\" viewBox=\"0 0 950 550\"><rect x=\"0\" y=\"0\" width=\"950\" height=\"550\" style=\"fill: rgb(255, 255, 255); fill-opacity: 1;\"/><defs id=\"defs-ddb658\"><g class=\"clips\"><clipPath id=\"clipddb658xyplot\" class=\"plotclip\"><rect width=\"790\" height=\"348\"/></clipPath><clipPath class=\"axesclip\" id=\"clipddb658x\"><rect x=\"80\" y=\"0\" width=\"790\" height=\"550\"/></clipPath><clipPath class=\"axesclip\" id=\"clipddb658y\"><rect x=\"0\" y=\"100\" width=\"950\" height=\"348\"/></clipPath><clipPath class=\"axesclip\" id=\"clipddb658xy\"><rect x=\"80\" y=\"100\" width=\"790\" height=\"348\"/></clipPath></g><g class=\"gradients\"/><g class=\"patterns\"/></defs><g class=\"bglayer\"><rect class=\"bg\" x=\"80\" y=\"100\" width=\"790\" height=\"348\" style=\"fill: rgb(229, 236, 246); fill-opacity: 1; stroke-width: 0;\"/></g><g class=\"layer-below\"><g class=\"imagelayer\"/><g class=\"shapelayer\"/></g><g class=\"cartesianlayer\"><g class=\"subplot xy\"><g class=\"layer-subplot\"><g class=\"shapelayer\"/><g class=\"imagelayer\"/></g><g class=\"gridlayer\"><g class=\"x\"/><g class=\"y\"><path class=\"ygrid crisp\" transform=\"translate(0,409.11)\" d=\"M80,0h790\" style=\"stroke: rgb(255, 255, 255); stroke-opacity: 1; stroke-width: 1px;\"/><path class=\"ygrid crisp\" transform=\"translate(0,370.21)\" d=\"M80,0h790\" style=\"stroke: rgb(255, 255, 255); stroke-opacity: 1; stroke-width: 1px;\"/><path class=\"ygrid crisp\" transform=\"translate(0,331.32)\" d=\"M80,0h790\" style=\"stroke: rgb(255, 255, 255); stroke-opacity: 1; stroke-width: 1px;\"/><path class=\"ygrid crisp\" transform=\"translate(0,292.41999999999996)\" d=\"M80,0h790\" style=\"stroke: rgb(255, 255, 255); stroke-opacity: 1; stroke-width: 1px;\"/><path class=\"ygrid crisp\" transform=\"translate(0,253.53)\" d=\"M80,0h790\" style=\"stroke: rgb(255, 255, 255); stroke-opacity: 1; stroke-width: 1px;\"/><path class=\"ygrid crisp\" transform=\"translate(0,214.64)\" d=\"M80,0h790\" style=\"stroke: rgb(255, 255, 255); stroke-opacity: 1; stroke-width: 1px;\"/><path class=\"ygrid crisp\" transform=\"translate(0,175.74)\" d=\"M80,0h790\" style=\"stroke: rgb(255, 255, 255); stroke-opacity: 1; stroke-width: 1px;\"/><path class=\"ygrid crisp\" transform=\"translate(0,136.85)\" d=\"M80,0h790\" style=\"stroke: rgb(255, 255, 255); stroke-opacity: 1; stroke-width: 1px;\"/></g></g><g class=\"zerolinelayer\"><path class=\"yzl zl crisp\" transform=\"translate(0,448)\" d=\"M80,0h790\" style=\"stroke: rgb(255, 255, 255); stroke-opacity: 1; stroke-width: 2px;\"/></g><path class=\"xlines-below\"/><path class=\"ylines-below\"/><g class=\"overlines-below\"/><g class=\"xaxislayer-below\"/><g class=\"yaxislayer-below\"/><g class=\"overaxes-below\"/><g class=\"plot\" transform=\"translate(80,100)\" clip-path=\"url(#clipddb658xyplot)\"><g class=\"barlayer mlayer\"><g class=\"trace bars\" style=\"opacity: 1;\"><g class=\"points\"><g class=\"point\"><path d=\"M7.45,348V17.4H67.08V348Z\" style=\"vector-effect: non-scaling-stroke; opacity: 1; stroke-width: 0.5px; fill: rgb(255, 0, 0); fill-opacity: 1; stroke: rgb(229, 236, 246); stroke-opacity: 1;\"/><text class=\"bartext bartext-inside\" text-anchor=\"middle\" data-notex=\"1\" x=\"0\" y=\"0\" style=\"font-family: 'Open Sans', verdana, arial, sans-serif; font-size: 12px; fill: rgb(255, 255, 255); fill-opacity: 1; white-space: pre;\" transform=\"translate(37.265,33.4)\">17</text></g><g class=\"point\"><path d=\"M81.98,348V270.21H141.6V348Z\" style=\"vector-effect: non-scaling-stroke; opacity: 1; stroke-width: 0.5px; fill: rgb(255, 0, 0); fill-opacity: 1; stroke: rgb(229, 236, 246); stroke-opacity: 1;\"/><text class=\"bartext bartext-inside\" text-anchor=\"middle\" data-notex=\"1\" x=\"0\" y=\"0\" style=\"font-family: 'Open Sans', verdana, arial, sans-serif; font-size: 12px; fill: rgb(255, 255, 255); fill-opacity: 1; white-space: pre;\" transform=\"translate(111.78999999999999,286.21)\">4</text></g><g class=\"point\"><path d=\"M722.92,348V328.55H782.55V348Z\" style=\"vector-effect: non-scaling-stroke; opacity: 1; stroke-width: 0.5px; fill: rgb(255, 0, 0); fill-opacity: 1; stroke: rgb(229, 236, 246); stroke-opacity: 1;\"/><text class=\"bartext bartext-inside\" text-anchor=\"middle\" data-notex=\"1\" x=\"0\" y=\"0\" style=\"font-family: 'Open Sans', verdana, arial, sans-serif; font-size: 12px; fill: rgb(255, 255, 255); fill-opacity: 1; white-space: pre;\" transform=\"translate(752.7349999999999,339.7375)rotate(90 0 -4.75)\">1</text></g></g></g></g></g><g class=\"overplot\"/><path class=\"xlines-above crisp\" d=\"M0,0\" style=\"fill: none;\"/><path class=\"ylines-above crisp\" d=\"M0,0\" style=\"fill: none;\"/><g class=\"overlines-above\"/><g class=\"xaxislayer-above\"><g class=\"xtick\"><text text-anchor=\"start\" x=\"0\" y=\"461\" transform=\"translate(117.25999999999999,0) rotate(45,0,455)\" style=\"font-family: 'Open Sans', verdana, arial, sans-serif; font-size: 12px; fill: rgb(42, 63, 95); fill-opacity: 1; white-space: pre; opacity: 1;\">Nov 7, 2020</text></g><g class=\"xtick\"><text text-anchor=\"start\" x=\"0\" y=\"461\" style=\"font-family: 'Open Sans', verdana, arial, sans-serif; font-size: 12px; fill: rgb(42, 63, 95); fill-opacity: 1; white-space: pre; opacity: 1;\" transform=\"translate(191.79000000000002,0) rotate(45,0,455)\">Nov 12, 2020</text></g><g class=\"xtick\"><text text-anchor=\"start\" x=\"0\" y=\"461\" style=\"font-family: 'Open Sans', verdana, arial, sans-serif; font-size: 12px; fill: rgb(42, 63, 95); fill-opacity: 1; white-space: pre; opacity: 1;\" transform=\"translate(832.74,0) rotate(45,0,455)\">Dec 25, 2020</text></g></g><g class=\"yaxislayer-above\"><g class=\"ytick\"><text text-anchor=\"end\" x=\"79\" y=\"4.199999999999999\" transform=\"translate(0,448)\" style=\"font-family: 'Open Sans', verdana, arial, sans-serif; font-size: 12px; fill: rgb(42, 63, 95); fill-opacity: 1; white-space: pre; opacity: 1;\">0</text></g><g class=\"ytick\"><text text-anchor=\"end\" x=\"79\" y=\"4.199999999999999\" style=\"font-family: 'Open Sans', verdana, arial, sans-serif; font-size: 12px; fill: rgb(42, 63, 95); fill-opacity: 1; white-space: pre; opacity: 1;\" transform=\"translate(0,409.11)\">2</text></g><g class=\"ytick\"><text text-anchor=\"end\" x=\"79\" y=\"4.199999999999999\" style=\"font-family: 'Open Sans', verdana, arial, sans-serif; font-size: 12px; fill: rgb(42, 63, 95); fill-opacity: 1; white-space: pre; opacity: 1;\" transform=\"translate(0,370.21)\">4</text></g><g class=\"ytick\"><text text-anchor=\"end\" x=\"79\" y=\"4.199999999999999\" style=\"font-family: 'Open Sans', verdana, arial, sans-serif; font-size: 12px; fill: rgb(42, 63, 95); fill-opacity: 1; white-space: pre; opacity: 1;\" transform=\"translate(0,331.32)\">6</text></g><g class=\"ytick\"><text text-anchor=\"end\" x=\"79\" y=\"4.199999999999999\" style=\"font-family: 'Open Sans', verdana, arial, sans-serif; font-size: 12px; fill: rgb(42, 63, 95); fill-opacity: 1; white-space: pre; opacity: 1;\" transform=\"translate(0,292.41999999999996)\">8</text></g><g class=\"ytick\"><text text-anchor=\"end\" x=\"79\" y=\"4.199999999999999\" style=\"font-family: 'Open Sans', verdana, arial, sans-serif; font-size: 12px; fill: rgb(42, 63, 95); fill-opacity: 1; white-space: pre; opacity: 1;\" transform=\"translate(0,253.53)\">10</text></g><g class=\"ytick\"><text text-anchor=\"end\" x=\"79\" y=\"4.199999999999999\" style=\"font-family: 'Open Sans', verdana, arial, sans-serif; font-size: 12px; fill: rgb(42, 63, 95); fill-opacity: 1; white-space: pre; opacity: 1;\" transform=\"translate(0,214.64)\">12</text></g><g class=\"ytick\"><text text-anchor=\"end\" x=\"79\" y=\"4.199999999999999\" style=\"font-family: 'Open Sans', verdana, arial, sans-serif; font-size: 12px; fill: rgb(42, 63, 95); fill-opacity: 1; white-space: pre; opacity: 1;\" transform=\"translate(0,175.74)\">14</text></g><g class=\"ytick\"><text text-anchor=\"end\" x=\"79\" y=\"4.199999999999999\" style=\"font-family: 'Open Sans', verdana, arial, sans-serif; font-size: 12px; fill: rgb(42, 63, 95); fill-opacity: 1; white-space: pre; opacity: 1;\" transform=\"translate(0,136.85)\">16</text></g></g><g class=\"overaxes-above\"/></g></g><g class=\"polarlayer\"/><g class=\"ternarylayer\"/><g class=\"geolayer\"/><g class=\"funnelarealayer\"/><g class=\"pielayer\"/><g class=\"iciclelayer\"/><g class=\"treemaplayer\"/><g class=\"sunburstlayer\"/><g class=\"glimages\"/><defs id=\"topdefs-ddb658\"><g class=\"clips\"/></defs><g class=\"layer-above\"><g class=\"imagelayer\"/><g class=\"shapelayer\"/></g><g class=\"infolayer\"><g class=\"g-gtitle\"><text class=\"gtitle\" x=\"47.5\" y=\"50\" text-anchor=\"start\" dy=\"0em\" style=\"font-family: 'Open Sans', verdana, arial, sans-serif; font-size: 17px; fill: rgb(42, 63, 95); opacity: 1; font-weight: normal; white-space: pre;\">Commenting dates for \"slut_for_big_juicy_tacos\"</text></g><g class=\"g-xtitle\"><text class=\"xtitle\" x=\"475\" y=\"537.89375\" text-anchor=\"middle\" style=\"font-family: 'Open Sans', verdana, arial, sans-serif; font-size: 14px; fill: rgb(42, 63, 95); opacity: 1; font-weight: normal; white-space: pre;\">Comments Creation Date</text></g><g class=\"g-ytitle\"><text class=\"ytitle\" transform=\"rotate(-90,40.465625,274)\" x=\"40.465625\" y=\"274\" text-anchor=\"middle\" style=\"font-family: 'Open Sans', verdana, arial, sans-serif; font-size: 14px; fill: rgb(42, 63, 95); opacity: 1; font-weight: normal; white-space: pre;\">n_comments</text></g></g></svg>"
      ]
     },
     "metadata": {},
     "output_type": "display_data"
    }
   ],
   "source": [
    "bar_peaks(get_top(df_comments[df_comments.username == \"slut_for_big_juicy_tacos\"], 'date', 8, 'date', 'n_comments'),\n",
    "         'Commenting dates for \"slut_for_big_juicy_tacos\"')\n"
   ]
  },
  {
   "cell_type": "markdown",
   "id": "2e053f2f",
   "metadata": {},
   "source": [
    "#### theworldofgeeks99up\n",
    "<font color='red'>negative comments</font> \n",
    "\n",
    "- 8,311 posts\n",
    "- 45.3k followers\n",
    "- 682 following\n",
    "\n",
    "\"@jasonjamie1998 which i don't want amber to be in aquaman 2 that would be cool i'd still go see it but her stupid ass is in it then i cannot at all pay to go watch it and since movie theaters are still not open i doubt i'm gonna pay to watch a movie in theaters again. \""
   ]
  },
  {
   "cell_type": "code",
   "execution_count": 106,
   "id": "63c2758e",
   "metadata": {},
   "outputs": [],
   "source": [
    "neg_users = neg_users|{'theworldofgeeks99up'}\n",
    "neg_text = neg_text|{'stupid ass', 'stupid'}"
   ]
  },
  {
   "cell_type": "code",
   "execution_count": 107,
   "id": "4e4ccd90",
   "metadata": {},
   "outputs": [
    {
     "data": {
      "text/plain": [
       "wakanda                                                                                                                                                                                                                                                                         1\n",
       "@bruh__mode yee.                                                                                                                                                                                                                                                                1\n",
       "@d_man25 imagine superman still being single. 😅                                                                                                                                                                                                                                 1\n",
       "@jasonjamie1998 aquaman 2 is gonna be in production soon.                                                                                                                                                                                                                       1\n",
       "@jasonjamie1998 which i don't want amber to be in aquaman 2 that would be cool i'd still go see it but her stupid ass is in it then i cannot at all pay to go watch it and since movie theaters are still not open i doubt i'm gonna pay to watch a movie in theaters again.    1\n",
       "@hazem_essam1998 forreals.                                                                                                                                                                                                                                                      1\n",
       "@highabovelife it's gonna get crazier we got only a month and a half left.                                                                                                                                                                                                      1\n",
       "@vjquick05 yeah.                                                                                                                                                                                                                                                                1\n",
       "@theindigomom it's your choice if you want to watch it.                                                                                                                                                                                                                         1\n",
       "@damian99ct i'd say not have her at all.                                                                                                                                                                                                                                        1\n",
       "@igorkrassi nice speech.                                                                                                                                                                                                                                                        1\n",
       "@gabers_029 i'd take constantine 2 any day!                                                                                                                                                                                                                                     1\n",
       "i know this is terrible.                                                                                                                                                                                                                                                        1\n",
       "@sergio_haidau yup.                                                                                                                                                                                                                                                             1\n",
       "@theworksofcinema i saw on bounding into comics.                                                                                                                                                                                                                                1\n",
       "Name: message, dtype: int64"
      ]
     },
     "execution_count": 107,
     "metadata": {},
     "output_type": "execute_result"
    }
   ],
   "source": [
    "df_comments.query(\"username == 'theworldofgeeks99up'\")['message'].value_counts().head(15)"
   ]
  },
  {
   "cell_type": "code",
   "execution_count": 108,
   "id": "f34d654c",
   "metadata": {},
   "outputs": [
    {
     "data": {
      "image/svg+xml": [
       "<svg class=\"main-svg\" xmlns=\"http://www.w3.org/2000/svg\" xmlns:xlink=\"http://www.w3.org/1999/xlink\" width=\"950\" height=\"550\" style=\"\" viewBox=\"0 0 950 550\"><rect x=\"0\" y=\"0\" width=\"950\" height=\"550\" style=\"fill: rgb(255, 255, 255); fill-opacity: 1;\"/><defs id=\"defs-791309\"><g class=\"clips\"><clipPath id=\"clip791309xyplot\" class=\"plotclip\"><rect width=\"790\" height=\"348\"/></clipPath><clipPath class=\"axesclip\" id=\"clip791309x\"><rect x=\"80\" y=\"0\" width=\"790\" height=\"550\"/></clipPath><clipPath class=\"axesclip\" id=\"clip791309y\"><rect x=\"0\" y=\"100\" width=\"950\" height=\"348\"/></clipPath><clipPath class=\"axesclip\" id=\"clip791309xy\"><rect x=\"80\" y=\"100\" width=\"790\" height=\"348\"/></clipPath></g><g class=\"gradients\"/><g class=\"patterns\"/></defs><g class=\"bglayer\"><rect class=\"bg\" x=\"80\" y=\"100\" width=\"790\" height=\"348\" style=\"fill: rgb(229, 236, 246); fill-opacity: 1; stroke-width: 0;\"/></g><g class=\"layer-below\"><g class=\"imagelayer\"/><g class=\"shapelayer\"/></g><g class=\"cartesianlayer\"><g class=\"subplot xy\"><g class=\"layer-subplot\"><g class=\"shapelayer\"/><g class=\"imagelayer\"/></g><g class=\"gridlayer\"><g class=\"x\"/><g class=\"y\"><path class=\"ygrid crisp\" transform=\"translate(0,394.68)\" d=\"M80,0h790\" style=\"stroke: rgb(255, 255, 255); stroke-opacity: 1; stroke-width: 1px;\"/><path class=\"ygrid crisp\" transform=\"translate(0,341.35)\" d=\"M80,0h790\" style=\"stroke: rgb(255, 255, 255); stroke-opacity: 1; stroke-width: 1px;\"/><path class=\"ygrid crisp\" transform=\"translate(0,288.03)\" d=\"M80,0h790\" style=\"stroke: rgb(255, 255, 255); stroke-opacity: 1; stroke-width: 1px;\"/><path class=\"ygrid crisp\" transform=\"translate(0,234.71)\" d=\"M80,0h790\" style=\"stroke: rgb(255, 255, 255); stroke-opacity: 1; stroke-width: 1px;\"/><path class=\"ygrid crisp\" transform=\"translate(0,181.39)\" d=\"M80,0h790\" style=\"stroke: rgb(255, 255, 255); stroke-opacity: 1; stroke-width: 1px;\"/><path class=\"ygrid crisp\" transform=\"translate(0,128.06)\" d=\"M80,0h790\" style=\"stroke: rgb(255, 255, 255); stroke-opacity: 1; stroke-width: 1px;\"/></g></g><g class=\"zerolinelayer\"><path class=\"yzl zl crisp\" transform=\"translate(0,448)\" d=\"M80,0h790\" style=\"stroke: rgb(255, 255, 255); stroke-opacity: 1; stroke-width: 2px;\"/></g><path class=\"xlines-below\"/><path class=\"ylines-below\"/><g class=\"overlines-below\"/><g class=\"xaxislayer-below\"/><g class=\"yaxislayer-below\"/><g class=\"overaxes-below\"/><g class=\"plot\" transform=\"translate(80,100)\" clip-path=\"url(#clip791309xyplot)\"><g class=\"barlayer mlayer\"><g class=\"trace bars\" style=\"opacity: 1;\"><g class=\"points\"><g class=\"point\"><path d=\"M784.49,348V17.4H785.39V348Z\" style=\"vector-effect: non-scaling-stroke; opacity: 1; stroke-width: 0.5px; fill: rgb(255, 0, 0); fill-opacity: 1; stroke: rgb(229, 236, 246); stroke-opacity: 1;\"/><text class=\"bartext bartext-inside\" text-anchor=\"middle\" data-notex=\"1\" x=\"0\" y=\"0\" style=\"font-family: 'Open Sans', verdana, arial, sans-serif; font-size: 12px; fill: rgb(255, 255, 255); fill-opacity: 1; white-space: pre;\" transform=\"translate(784.94,18.25090909090907)scale(0.0654545454545438)\">62</text></g><g class=\"point\"><path d=\"M786.74,348V102.72H787.64V348Z\" style=\"vector-effect: non-scaling-stroke; opacity: 1; stroke-width: 0.5px; fill: rgb(255, 0, 0); fill-opacity: 1; stroke: rgb(229, 236, 246); stroke-opacity: 1;\"/><text class=\"bartext bartext-inside\" text-anchor=\"middle\" data-notex=\"1\" x=\"0\" y=\"0\" style=\"font-family: 'Open Sans', verdana, arial, sans-serif; font-size: 12px; fill: rgb(255, 255, 255); fill-opacity: 1; white-space: pre;\" transform=\"translate(787.19,103.57090909090907)scale(0.0654545454545438)\">46</text></g><g class=\"point\"><path d=\"M785.61,348V220.03H786.51V348Z\" style=\"vector-effect: non-scaling-stroke; opacity: 1; stroke-width: 0.5px; fill: rgb(255, 0, 0); fill-opacity: 1; stroke: rgb(229, 236, 246); stroke-opacity: 1;\"/><text class=\"bartext bartext-inside\" text-anchor=\"middle\" data-notex=\"1\" x=\"0\" y=\"0\" style=\"font-family: 'Open Sans', verdana, arial, sans-serif; font-size: 12px; fill: rgb(255, 255, 255); fill-opacity: 1; white-space: pre;\" transform=\"translate(786.06,220.88090909090906)scale(0.0654545454545438)\">24</text></g><g class=\"point\"><path d=\"M769.86,348V252.02H770.76V348Z\" style=\"vector-effect: non-scaling-stroke; opacity: 1; stroke-width: 0.5px; fill: rgb(255, 0, 0); fill-opacity: 1; stroke: rgb(229, 236, 246); stroke-opacity: 1;\"/><text class=\"bartext bartext-inside\" text-anchor=\"middle\" data-notex=\"1\" x=\"0\" y=\"0\" style=\"font-family: 'Open Sans', verdana, arial, sans-serif; font-size: 12px; fill: rgb(255, 255, 255); fill-opacity: 1; white-space: pre;\" transform=\"translate(770.31,252.87090909090907)scale(0.0654545454545438)\">18</text></g><g class=\"point\"><path d=\"M788.99,348V305.34H789.89V348Z\" style=\"vector-effect: non-scaling-stroke; opacity: 1; stroke-width: 0.5px; fill: rgb(255, 0, 0); fill-opacity: 1; stroke: rgb(229, 236, 246); stroke-opacity: 1;\"/><text class=\"bartext bartext-inside\" text-anchor=\"middle\" data-notex=\"1\" x=\"0\" y=\"0\" style=\"font-family: 'Open Sans', verdana, arial, sans-serif; font-size: 12px; fill: rgb(255, 255, 255); fill-opacity: 1; white-space: pre;\" transform=\"translate(789.44,307.0418181818181)scale(0.1309090909090876)\">8</text></g><g class=\"point\"><path d=\"M787.86,348V310.67H788.76V348Z\" style=\"vector-effect: non-scaling-stroke; opacity: 1; stroke-width: 0.5px; fill: rgb(255, 0, 0); fill-opacity: 1; stroke: rgb(229, 236, 246); stroke-opacity: 1;\"/><text class=\"bartext bartext-inside\" text-anchor=\"middle\" data-notex=\"1\" x=\"0\" y=\"0\" style=\"font-family: 'Open Sans', verdana, arial, sans-serif; font-size: 12px; fill: rgb(255, 255, 255); fill-opacity: 1; white-space: pre;\" transform=\"translate(788.31,312.3718181818181)scale(0.1309090909090876)\">7</text></g><g class=\"point\"><path d=\"M0.11,348V310.67H1.01V348Z\" style=\"vector-effect: non-scaling-stroke; opacity: 1; stroke-width: 0.5px; fill: rgb(255, 0, 0); fill-opacity: 1; stroke: rgb(229, 236, 246); stroke-opacity: 1;\"/><text class=\"bartext bartext-inside\" text-anchor=\"middle\" data-notex=\"1\" x=\"0\" y=\"0\" style=\"font-family: 'Open Sans', verdana, arial, sans-serif; font-size: 12px; fill: rgb(255, 255, 255); fill-opacity: 1; white-space: pre;\" transform=\"translate(0.5599999999999999,312.3718181818182)scale(0.13090909090909092)\">7</text></g><g class=\"point\"><path d=\"M770.98,348V316.01H771.88V348Z\" style=\"vector-effect: non-scaling-stroke; opacity: 1; stroke-width: 0.5px; fill: rgb(255, 0, 0); fill-opacity: 1; stroke: rgb(229, 236, 246); stroke-opacity: 1;\"/><text class=\"bartext bartext-inside\" text-anchor=\"middle\" data-notex=\"1\" x=\"0\" y=\"0\" style=\"font-family: 'Open Sans', verdana, arial, sans-serif; font-size: 12px; fill: rgb(255, 255, 255); fill-opacity: 1; white-space: pre;\" transform=\"translate(771.4300000000001,317.7118181818181)scale(0.1309090909090876)\">6</text></g></g></g></g></g><g class=\"overplot\"/><path class=\"xlines-above crisp\" d=\"M0,0\" style=\"fill: none;\"/><path class=\"ylines-above crisp\" d=\"M0,0\" style=\"fill: none;\"/><g class=\"overlines-above\"/><g class=\"xaxislayer-above\"><g class=\"xtick\"><text text-anchor=\"start\" x=\"0\" y=\"461\" transform=\"translate(864.94,0) rotate(45,0,455)\" style=\"font-family: 'Open Sans', verdana, arial, sans-serif; font-size: 12px; fill: rgb(42, 63, 95); fill-opacity: 1; white-space: pre; opacity: 1;\">Nov 20, 2020</text></g><g class=\"xtick\"><text text-anchor=\"start\" x=\"0\" y=\"461\" style=\"font-family: 'Open Sans', verdana, arial, sans-serif; font-size: 12px; fill: rgb(42, 63, 95); fill-opacity: 1; white-space: pre; opacity: 1;\" transform=\"translate(867.19,0) rotate(45,0,455)\">Nov 22, 2020</text></g><g class=\"xtick\"><text text-anchor=\"start\" x=\"0\" y=\"461\" style=\"font-family: 'Open Sans', verdana, arial, sans-serif; font-size: 12px; fill: rgb(42, 63, 95); fill-opacity: 1; white-space: pre; opacity: 1;\" transform=\"translate(866.06,0) rotate(45,0,455)\">Nov 21, 2020</text></g><g class=\"xtick\"><text text-anchor=\"start\" x=\"0\" y=\"461\" style=\"font-family: 'Open Sans', verdana, arial, sans-serif; font-size: 12px; fill: rgb(42, 63, 95); fill-opacity: 1; white-space: pre; opacity: 1;\" transform=\"translate(850.31,0) rotate(45,0,455)\">Nov 7, 2020</text></g><g class=\"xtick\"><text text-anchor=\"start\" x=\"0\" y=\"461\" style=\"font-family: 'Open Sans', verdana, arial, sans-serif; font-size: 12px; fill: rgb(42, 63, 95); fill-opacity: 1; white-space: pre; opacity: 1;\" transform=\"translate(869.44,0) rotate(45,0,455)\">Nov 24, 2020</text></g><g class=\"xtick\"><text text-anchor=\"start\" x=\"0\" y=\"461\" style=\"font-family: 'Open Sans', verdana, arial, sans-serif; font-size: 12px; fill: rgb(42, 63, 95); fill-opacity: 1; white-space: pre; opacity: 1;\" transform=\"translate(868.31,0) rotate(45,0,455)\">Nov 23, 2020</text></g><g class=\"xtick\"><text text-anchor=\"start\" x=\"0\" y=\"461\" style=\"font-family: 'Open Sans', verdana, arial, sans-serif; font-size: 12px; fill: rgb(42, 63, 95); fill-opacity: 1; white-space: pre; opacity: 1;\" transform=\"translate(80.56,0) rotate(45,0,455)\">Dec 24, 2018</text></g><g class=\"xtick\"><text text-anchor=\"start\" x=\"0\" y=\"461\" style=\"font-family: 'Open Sans', verdana, arial, sans-serif; font-size: 12px; fill: rgb(42, 63, 95); fill-opacity: 1; white-space: pre; opacity: 1;\" transform=\"translate(851.43,0) rotate(45,0,455)\">Nov 8, 2020</text></g></g><g class=\"yaxislayer-above\"><g class=\"ytick\"><text text-anchor=\"end\" x=\"79\" y=\"4.199999999999999\" transform=\"translate(0,448)\" style=\"font-family: 'Open Sans', verdana, arial, sans-serif; font-size: 12px; fill: rgb(42, 63, 95); fill-opacity: 1; white-space: pre; opacity: 1;\">0</text></g><g class=\"ytick\"><text text-anchor=\"end\" x=\"79\" y=\"4.199999999999999\" style=\"font-family: 'Open Sans', verdana, arial, sans-serif; font-size: 12px; fill: rgb(42, 63, 95); fill-opacity: 1; white-space: pre; opacity: 1;\" transform=\"translate(0,394.68)\">10</text></g><g class=\"ytick\"><text text-anchor=\"end\" x=\"79\" y=\"4.199999999999999\" style=\"font-family: 'Open Sans', verdana, arial, sans-serif; font-size: 12px; fill: rgb(42, 63, 95); fill-opacity: 1; white-space: pre; opacity: 1;\" transform=\"translate(0,341.35)\">20</text></g><g class=\"ytick\"><text text-anchor=\"end\" x=\"79\" y=\"4.199999999999999\" style=\"font-family: 'Open Sans', verdana, arial, sans-serif; font-size: 12px; fill: rgb(42, 63, 95); fill-opacity: 1; white-space: pre; opacity: 1;\" transform=\"translate(0,288.03)\">30</text></g><g class=\"ytick\"><text text-anchor=\"end\" x=\"79\" y=\"4.199999999999999\" style=\"font-family: 'Open Sans', verdana, arial, sans-serif; font-size: 12px; fill: rgb(42, 63, 95); fill-opacity: 1; white-space: pre; opacity: 1;\" transform=\"translate(0,234.71)\">40</text></g><g class=\"ytick\"><text text-anchor=\"end\" x=\"79\" y=\"4.199999999999999\" style=\"font-family: 'Open Sans', verdana, arial, sans-serif; font-size: 12px; fill: rgb(42, 63, 95); fill-opacity: 1; white-space: pre; opacity: 1;\" transform=\"translate(0,181.39)\">50</text></g><g class=\"ytick\"><text text-anchor=\"end\" x=\"79\" y=\"4.199999999999999\" style=\"font-family: 'Open Sans', verdana, arial, sans-serif; font-size: 12px; fill: rgb(42, 63, 95); fill-opacity: 1; white-space: pre; opacity: 1;\" transform=\"translate(0,128.06)\">60</text></g></g><g class=\"overaxes-above\"/></g></g><g class=\"polarlayer\"/><g class=\"ternarylayer\"/><g class=\"geolayer\"/><g class=\"funnelarealayer\"/><g class=\"pielayer\"/><g class=\"iciclelayer\"/><g class=\"treemaplayer\"/><g class=\"sunburstlayer\"/><g class=\"glimages\"/><defs id=\"topdefs-791309\"><g class=\"clips\"/></defs><g class=\"layer-above\"><g class=\"imagelayer\"/><g class=\"shapelayer\"/></g><g class=\"infolayer\"><g class=\"g-gtitle\"><text class=\"gtitle\" x=\"47.5\" y=\"50\" text-anchor=\"start\" dy=\"0em\" style=\"font-family: 'Open Sans', verdana, arial, sans-serif; font-size: 17px; fill: rgb(42, 63, 95); opacity: 1; font-weight: normal; white-space: pre;\">Commenting dates for \"theworldofgeeks99up\"</text></g><g class=\"g-xtitle\"><text class=\"xtitle\" x=\"475\" y=\"537.89375\" text-anchor=\"middle\" style=\"font-family: 'Open Sans', verdana, arial, sans-serif; font-size: 14px; fill: rgb(42, 63, 95); opacity: 1; font-weight: normal; white-space: pre;\">Comments Creation Date</text></g><g class=\"g-ytitle\"><text class=\"ytitle\" transform=\"rotate(-90,40.465625,274)\" x=\"40.465625\" y=\"274\" text-anchor=\"middle\" style=\"font-family: 'Open Sans', verdana, arial, sans-serif; font-size: 14px; fill: rgb(42, 63, 95); opacity: 1; font-weight: normal; white-space: pre;\">n_comments</text></g></g></svg>"
      ]
     },
     "metadata": {},
     "output_type": "display_data"
    }
   ],
   "source": [
    "bar_peaks(get_top(df_comments[df_comments.username == \"theworldofgeeks99up\"], 'date', 8, 'date', 'n_comments'),\n",
    "         'Commenting dates for \"theworldofgeeks99up\"')"
   ]
  },
  {
   "cell_type": "markdown",
   "id": "118feb16",
   "metadata": {},
   "source": [
    "#### olvorka\n",
    "<font color='red'>negative comments</font> | <font color='red'>newly created</font>\n",
    "\n",
    "- Account created on JUNE 4, 2021\n",
    "- 3 posts\n",
    "- 197 followers\n",
    "- 83 following"
   ]
  },
  {
   "cell_type": "code",
   "execution_count": 109,
   "id": "fccb1606",
   "metadata": {},
   "outputs": [],
   "source": [
    "neg_users = neg_users|{'olvorka'}"
   ]
  },
  {
   "cell_type": "code",
   "execution_count": 110,
   "id": "d01a6837",
   "metadata": {},
   "outputs": [
    {
     "data": {
      "text/plain": [
       "#justiceforjohnnydepp    16\n",
       "amber stupid abuser       1\n",
       "🐁🐁🐁🐁🐁🐁🐁🐁🐁🐁🐁🐁🐁🐁            1\n",
       "Name: message, dtype: int64"
      ]
     },
     "execution_count": 110,
     "metadata": {},
     "output_type": "execute_result"
    }
   ],
   "source": [
    "df_comments.query(\"username == 'olvorka'\")['message'].value_counts().head(15)"
   ]
  },
  {
   "cell_type": "code",
   "execution_count": 111,
   "id": "db2245e6",
   "metadata": {},
   "outputs": [
    {
     "data": {
      "image/svg+xml": [
       "<svg class=\"main-svg\" xmlns=\"http://www.w3.org/2000/svg\" xmlns:xlink=\"http://www.w3.org/1999/xlink\" width=\"950\" height=\"550\" style=\"\" viewBox=\"0 0 950 550\"><rect x=\"0\" y=\"0\" width=\"950\" height=\"550\" style=\"fill: rgb(255, 255, 255); fill-opacity: 1;\"/><defs id=\"defs-faf9dd\"><g class=\"clips\"><clipPath id=\"clipfaf9ddxyplot\" class=\"plotclip\"><rect width=\"790\" height=\"353\"/></clipPath><clipPath class=\"axesclip\" id=\"clipfaf9ddx\"><rect x=\"80\" y=\"0\" width=\"790\" height=\"550\"/></clipPath><clipPath class=\"axesclip\" id=\"clipfaf9ddy\"><rect x=\"0\" y=\"100\" width=\"950\" height=\"353\"/></clipPath><clipPath class=\"axesclip\" id=\"clipfaf9ddxy\"><rect x=\"80\" y=\"100\" width=\"790\" height=\"353\"/></clipPath></g><g class=\"gradients\"/><g class=\"patterns\"/></defs><g class=\"bglayer\"><rect class=\"bg\" x=\"80\" y=\"100\" width=\"790\" height=\"353\" style=\"fill: rgb(229, 236, 246); fill-opacity: 1; stroke-width: 0;\"/></g><g class=\"layer-below\"><g class=\"imagelayer\"/><g class=\"shapelayer\"/></g><g class=\"cartesianlayer\"><g class=\"subplot xy\"><g class=\"layer-subplot\"><g class=\"shapelayer\"/><g class=\"imagelayer\"/></g><g class=\"gridlayer\"><g class=\"x\"/><g class=\"y\"><path class=\"ygrid crisp\" transform=\"translate(0,415.74)\" d=\"M80,0h790\" style=\"stroke: rgb(255, 255, 255); stroke-opacity: 1; stroke-width: 1px;\"/><path class=\"ygrid crisp\" transform=\"translate(0,378.48)\" d=\"M80,0h790\" style=\"stroke: rgb(255, 255, 255); stroke-opacity: 1; stroke-width: 1px;\"/><path class=\"ygrid crisp\" transform=\"translate(0,341.22)\" d=\"M80,0h790\" style=\"stroke: rgb(255, 255, 255); stroke-opacity: 1; stroke-width: 1px;\"/><path class=\"ygrid crisp\" transform=\"translate(0,303.96000000000004)\" d=\"M80,0h790\" style=\"stroke: rgb(255, 255, 255); stroke-opacity: 1; stroke-width: 1px;\"/><path class=\"ygrid crisp\" transform=\"translate(0,266.69)\" d=\"M80,0h790\" style=\"stroke: rgb(255, 255, 255); stroke-opacity: 1; stroke-width: 1px;\"/><path class=\"ygrid crisp\" transform=\"translate(0,229.43)\" d=\"M80,0h790\" style=\"stroke: rgb(255, 255, 255); stroke-opacity: 1; stroke-width: 1px;\"/><path class=\"ygrid crisp\" transform=\"translate(0,192.17000000000002)\" d=\"M80,0h790\" style=\"stroke: rgb(255, 255, 255); stroke-opacity: 1; stroke-width: 1px;\"/><path class=\"ygrid crisp\" transform=\"translate(0,154.91)\" d=\"M80,0h790\" style=\"stroke: rgb(255, 255, 255); stroke-opacity: 1; stroke-width: 1px;\"/><path class=\"ygrid crisp\" transform=\"translate(0,117.65)\" d=\"M80,0h790\" style=\"stroke: rgb(255, 255, 255); stroke-opacity: 1; stroke-width: 1px;\"/></g></g><g class=\"zerolinelayer\"><path class=\"yzl zl crisp\" transform=\"translate(0,453)\" d=\"M80,0h790\" style=\"stroke: rgb(255, 255, 255); stroke-opacity: 1; stroke-width: 2px;\"/></g><path class=\"xlines-below\"/><path class=\"ylines-below\"/><g class=\"overlines-below\"/><g class=\"xaxislayer-below\"/><g class=\"yaxislayer-below\"/><g class=\"overaxes-below\"/><g class=\"plot\" transform=\"translate(80,100)\" clip-path=\"url(#clipfaf9ddxyplot)\"><g class=\"barlayer mlayer\"><g class=\"trace bars\" style=\"opacity: 1;\"><g class=\"points\"><g class=\"point\"><path d=\"M79,353V17.65H711V353Z\" style=\"vector-effect: non-scaling-stroke; opacity: 1; stroke-width: 0.5px; fill: rgb(255, 0, 0); fill-opacity: 1; stroke: rgb(229, 236, 246); stroke-opacity: 1;\"/><text class=\"bartext bartext-inside\" text-anchor=\"middle\" data-notex=\"1\" x=\"0\" y=\"0\" style=\"font-family: 'Open Sans', verdana, arial, sans-serif; font-size: 12px; fill: rgb(255, 255, 255); fill-opacity: 1; white-space: pre;\" transform=\"translate(395,33.65)\">18</text></g></g></g></g></g><g class=\"overplot\"/><path class=\"xlines-above crisp\" d=\"M0,0\" style=\"fill: none;\"/><path class=\"ylines-above crisp\" d=\"M0,0\" style=\"fill: none;\"/><g class=\"overlines-above\"/><g class=\"xaxislayer-above\"><g class=\"xtick\"><text text-anchor=\"start\" x=\"0\" y=\"466\" transform=\"translate(475,0) rotate(45,0,460)\" style=\"font-family: 'Open Sans', verdana, arial, sans-serif; font-size: 12px; fill: rgb(42, 63, 95); fill-opacity: 1; white-space: pre; opacity: 1;\">Nov 7, 2020</text></g></g><g class=\"yaxislayer-above\"><g class=\"ytick\"><text text-anchor=\"end\" x=\"79\" y=\"4.199999999999999\" transform=\"translate(0,453)\" style=\"font-family: 'Open Sans', verdana, arial, sans-serif; font-size: 12px; fill: rgb(42, 63, 95); fill-opacity: 1; white-space: pre; opacity: 1;\">0</text></g><g class=\"ytick\"><text text-anchor=\"end\" x=\"79\" y=\"4.199999999999999\" style=\"font-family: 'Open Sans', verdana, arial, sans-serif; font-size: 12px; fill: rgb(42, 63, 95); fill-opacity: 1; white-space: pre; opacity: 1;\" transform=\"translate(0,415.74)\">2</text></g><g class=\"ytick\"><text text-anchor=\"end\" x=\"79\" y=\"4.199999999999999\" style=\"font-family: 'Open Sans', verdana, arial, sans-serif; font-size: 12px; fill: rgb(42, 63, 95); fill-opacity: 1; white-space: pre; opacity: 1;\" transform=\"translate(0,378.48)\">4</text></g><g class=\"ytick\"><text text-anchor=\"end\" x=\"79\" y=\"4.199999999999999\" style=\"font-family: 'Open Sans', verdana, arial, sans-serif; font-size: 12px; fill: rgb(42, 63, 95); fill-opacity: 1; white-space: pre; opacity: 1;\" transform=\"translate(0,341.22)\">6</text></g><g class=\"ytick\"><text text-anchor=\"end\" x=\"79\" y=\"4.199999999999999\" style=\"font-family: 'Open Sans', verdana, arial, sans-serif; font-size: 12px; fill: rgb(42, 63, 95); fill-opacity: 1; white-space: pre; opacity: 1;\" transform=\"translate(0,303.96000000000004)\">8</text></g><g class=\"ytick\"><text text-anchor=\"end\" x=\"79\" y=\"4.199999999999999\" style=\"font-family: 'Open Sans', verdana, arial, sans-serif; font-size: 12px; fill: rgb(42, 63, 95); fill-opacity: 1; white-space: pre; opacity: 1;\" transform=\"translate(0,266.69)\">10</text></g><g class=\"ytick\"><text text-anchor=\"end\" x=\"79\" y=\"4.199999999999999\" style=\"font-family: 'Open Sans', verdana, arial, sans-serif; font-size: 12px; fill: rgb(42, 63, 95); fill-opacity: 1; white-space: pre; opacity: 1;\" transform=\"translate(0,229.43)\">12</text></g><g class=\"ytick\"><text text-anchor=\"end\" x=\"79\" y=\"4.199999999999999\" style=\"font-family: 'Open Sans', verdana, arial, sans-serif; font-size: 12px; fill: rgb(42, 63, 95); fill-opacity: 1; white-space: pre; opacity: 1;\" transform=\"translate(0,192.17000000000002)\">14</text></g><g class=\"ytick\"><text text-anchor=\"end\" x=\"79\" y=\"4.199999999999999\" style=\"font-family: 'Open Sans', verdana, arial, sans-serif; font-size: 12px; fill: rgb(42, 63, 95); fill-opacity: 1; white-space: pre; opacity: 1;\" transform=\"translate(0,154.91)\">16</text></g><g class=\"ytick\"><text text-anchor=\"end\" x=\"79\" y=\"4.199999999999999\" style=\"font-family: 'Open Sans', verdana, arial, sans-serif; font-size: 12px; fill: rgb(42, 63, 95); fill-opacity: 1; white-space: pre; opacity: 1;\" transform=\"translate(0,117.65)\">18</text></g></g><g class=\"overaxes-above\"/></g></g><g class=\"polarlayer\"/><g class=\"ternarylayer\"/><g class=\"geolayer\"/><g class=\"funnelarealayer\"/><g class=\"pielayer\"/><g class=\"iciclelayer\"/><g class=\"treemaplayer\"/><g class=\"sunburstlayer\"/><g class=\"glimages\"/><defs id=\"topdefs-faf9dd\"><g class=\"clips\"/></defs><g class=\"layer-above\"><g class=\"imagelayer\"/><g class=\"shapelayer\"/></g><g class=\"infolayer\"><g class=\"g-gtitle\"><text class=\"gtitle\" x=\"47.5\" y=\"50\" text-anchor=\"start\" dy=\"0em\" style=\"font-family: 'Open Sans', verdana, arial, sans-serif; font-size: 17px; fill: rgb(42, 63, 95); opacity: 1; font-weight: normal; white-space: pre;\">Commenting dates for \"olvorka\"</text></g><g class=\"g-xtitle\"><text class=\"xtitle\" x=\"475\" y=\"538.0431640625\" text-anchor=\"middle\" style=\"font-family: 'Open Sans', verdana, arial, sans-serif; font-size: 14px; fill: rgb(42, 63, 95); opacity: 1; font-weight: normal; white-space: pre;\">Comments Creation Date</text></g><g class=\"g-ytitle\"><text class=\"ytitle\" transform=\"rotate(-90,40.465625,276.5)\" x=\"40.465625\" y=\"276.5\" text-anchor=\"middle\" style=\"font-family: 'Open Sans', verdana, arial, sans-serif; font-size: 14px; fill: rgb(42, 63, 95); opacity: 1; font-weight: normal; white-space: pre;\">n_comments</text></g></g></svg>"
      ]
     },
     "metadata": {},
     "output_type": "display_data"
    }
   ],
   "source": [
    "bar_peaks(get_top(df_comments[df_comments.username == \"olvorka\"], 'date', 8, 'date', 'n_comments'),\n",
    "         'Commenting dates for \"olvorka\"')"
   ]
  },
  {
   "cell_type": "markdown",
   "id": "f3769af3",
   "metadata": {},
   "source": [
    "#### sassything90\n",
    "<font color='red'>negative comments</font>  \n",
    "\n",
    "- Private Account\n",
    "- 632 posts\n",
    "- 357 followers\n",
    "- 924 following"
   ]
  },
  {
   "cell_type": "code",
   "execution_count": 112,
   "id": "d8a015ca",
   "metadata": {},
   "outputs": [],
   "source": [
    "neg_users = neg_users|{'sassything90'}\n",
    "neg_text = neg_text|{'gold digger', 'abusing', 'abuser', 'abuse', 'clown', \n",
    "                     'justice for johnny', 'how can you still have fans'}"
   ]
  },
  {
   "cell_type": "code",
   "execution_count": 113,
   "id": "7711c000",
   "metadata": {},
   "outputs": [
    {
     "data": {
      "text/plain": [
       "🤢🤮                                                                                                                                                            3\n",
       "#justiceforjohnnydepp                                                                                                                                         1\n",
       "you look like you were up all night abusing, johnny depp!                                                                                                     1\n",
       "🤢🤮🤢🤮                                                                                                                                                          1\n",
       "i hope you lose your career                                                                                                                                   1\n",
       "gold digger!                                                                                                                                                  1\n",
       "no titts! 🤢🤮🤡                                                                                                                                                 1\n",
       "skin and bones                                                                                                                                                1\n",
       "you are not sexy! you are a clown and an abuser 🤮🤢🤡                                                                                                           1\n",
       "it's too bad her heart is not as pretty as her face. hey amber, an ugly heart destroys your pretty face. i hope your career goes up in smoke, you monster!    1\n",
       "ugggggly heart                                                                                                                                                1\n",
       "how can you still have fans?? justice for johnny!                                                                                                             1\n",
       "🤢🤮🤢🤮🤢🤮🤡🤡                                                                                                                                                      1\n",
       "ewwwwwww                                                                                                                                                      1\n",
       "🤢🤮🤡                                                                                                                                                           1\n",
       "Name: message, dtype: int64"
      ]
     },
     "execution_count": 113,
     "metadata": {},
     "output_type": "execute_result"
    }
   ],
   "source": [
    "df_comments.query(\"username == 'sassything90'\")['message'].value_counts().head(15)"
   ]
  },
  {
   "cell_type": "code",
   "execution_count": 114,
   "id": "1cf3078e",
   "metadata": {},
   "outputs": [
    {
     "data": {
      "image/svg+xml": [
       "<svg class=\"main-svg\" xmlns=\"http://www.w3.org/2000/svg\" xmlns:xlink=\"http://www.w3.org/1999/xlink\" width=\"950\" height=\"550\" style=\"\" viewBox=\"0 0 950 550\"><rect x=\"0\" y=\"0\" width=\"950\" height=\"550\" style=\"fill: rgb(255, 255, 255); fill-opacity: 1;\"/><defs id=\"defs-dd8359\"><g class=\"clips\"><clipPath id=\"clipdd8359xyplot\" class=\"plotclip\"><rect width=\"790\" height=\"353\"/></clipPath><clipPath class=\"axesclip\" id=\"clipdd8359x\"><rect x=\"80\" y=\"0\" width=\"790\" height=\"550\"/></clipPath><clipPath class=\"axesclip\" id=\"clipdd8359y\"><rect x=\"0\" y=\"100\" width=\"950\" height=\"353\"/></clipPath><clipPath class=\"axesclip\" id=\"clipdd8359xy\"><rect x=\"80\" y=\"100\" width=\"790\" height=\"353\"/></clipPath></g><g class=\"gradients\"/><g class=\"patterns\"/></defs><g class=\"bglayer\"><rect class=\"bg\" x=\"80\" y=\"100\" width=\"790\" height=\"353\" style=\"fill: rgb(229, 236, 246); fill-opacity: 1; stroke-width: 0;\"/></g><g class=\"layer-below\"><g class=\"imagelayer\"/><g class=\"shapelayer\"/></g><g class=\"cartesianlayer\"><g class=\"subplot xy\"><g class=\"layer-subplot\"><g class=\"shapelayer\"/><g class=\"imagelayer\"/></g><g class=\"gridlayer\"><g class=\"x\"/><g class=\"y\"><path class=\"ygrid crisp\" transform=\"translate(0,380.1)\" d=\"M80,0h790\" style=\"stroke: rgb(255, 255, 255); stroke-opacity: 1; stroke-width: 1px;\"/><path class=\"ygrid crisp\" transform=\"translate(0,307.2)\" d=\"M80,0h790\" style=\"stroke: rgb(255, 255, 255); stroke-opacity: 1; stroke-width: 1px;\"/><path class=\"ygrid crisp\" transform=\"translate(0,234.29)\" d=\"M80,0h790\" style=\"stroke: rgb(255, 255, 255); stroke-opacity: 1; stroke-width: 1px;\"/><path class=\"ygrid crisp\" transform=\"translate(0,161.39)\" d=\"M80,0h790\" style=\"stroke: rgb(255, 255, 255); stroke-opacity: 1; stroke-width: 1px;\"/></g></g><g class=\"zerolinelayer\"><path class=\"yzl zl crisp\" transform=\"translate(0,453)\" d=\"M80,0h790\" style=\"stroke: rgb(255, 255, 255); stroke-opacity: 1; stroke-width: 2px;\"/></g><path class=\"xlines-below\"/><path class=\"ylines-below\"/><g class=\"overlines-below\"/><g class=\"xaxislayer-below\"/><g class=\"yaxislayer-below\"/><g class=\"overaxes-below\"/><g class=\"plot\" transform=\"translate(80,100)\" clip-path=\"url(#clipdd8359xyplot)\"><g class=\"barlayer mlayer\"><g class=\"trace bars\" style=\"opacity: 1;\"><g class=\"points\"><g class=\"point\"><path d=\"M79,353V17.65H711V353Z\" style=\"vector-effect: non-scaling-stroke; opacity: 1; stroke-width: 0.5px; fill: rgb(255, 0, 0); fill-opacity: 1; stroke: rgb(229, 236, 246); stroke-opacity: 1;\"/><text class=\"bartext bartext-inside\" text-anchor=\"middle\" data-notex=\"1\" x=\"0\" y=\"0\" style=\"font-family: 'Open Sans', verdana, arial, sans-serif; font-size: 12px; fill: rgb(255, 255, 255); fill-opacity: 1; white-space: pre;\" transform=\"translate(395,33.65)\">23</text></g></g></g></g></g><g class=\"overplot\"/><path class=\"xlines-above crisp\" d=\"M0,0\" style=\"fill: none;\"/><path class=\"ylines-above crisp\" d=\"M0,0\" style=\"fill: none;\"/><g class=\"overlines-above\"/><g class=\"xaxislayer-above\"><g class=\"xtick\"><text text-anchor=\"start\" x=\"0\" y=\"466\" transform=\"translate(475,0) rotate(45,0,460)\" style=\"font-family: 'Open Sans', verdana, arial, sans-serif; font-size: 12px; fill: rgb(42, 63, 95); fill-opacity: 1; white-space: pre; opacity: 1;\">Nov 7, 2020</text></g></g><g class=\"yaxislayer-above\"><g class=\"ytick\"><text text-anchor=\"end\" x=\"79\" y=\"4.199999999999999\" transform=\"translate(0,453)\" style=\"font-family: 'Open Sans', verdana, arial, sans-serif; font-size: 12px; fill: rgb(42, 63, 95); fill-opacity: 1; white-space: pre; opacity: 1;\">0</text></g><g class=\"ytick\"><text text-anchor=\"end\" x=\"79\" y=\"4.199999999999999\" style=\"font-family: 'Open Sans', verdana, arial, sans-serif; font-size: 12px; fill: rgb(42, 63, 95); fill-opacity: 1; white-space: pre; opacity: 1;\" transform=\"translate(0,380.1)\">5</text></g><g class=\"ytick\"><text text-anchor=\"end\" x=\"79\" y=\"4.199999999999999\" style=\"font-family: 'Open Sans', verdana, arial, sans-serif; font-size: 12px; fill: rgb(42, 63, 95); fill-opacity: 1; white-space: pre; opacity: 1;\" transform=\"translate(0,307.2)\">10</text></g><g class=\"ytick\"><text text-anchor=\"end\" x=\"79\" y=\"4.199999999999999\" style=\"font-family: 'Open Sans', verdana, arial, sans-serif; font-size: 12px; fill: rgb(42, 63, 95); fill-opacity: 1; white-space: pre; opacity: 1;\" transform=\"translate(0,234.29)\">15</text></g><g class=\"ytick\"><text text-anchor=\"end\" x=\"79\" y=\"4.199999999999999\" style=\"font-family: 'Open Sans', verdana, arial, sans-serif; font-size: 12px; fill: rgb(42, 63, 95); fill-opacity: 1; white-space: pre; opacity: 1;\" transform=\"translate(0,161.39)\">20</text></g></g><g class=\"overaxes-above\"/></g></g><g class=\"polarlayer\"/><g class=\"ternarylayer\"/><g class=\"geolayer\"/><g class=\"funnelarealayer\"/><g class=\"pielayer\"/><g class=\"iciclelayer\"/><g class=\"treemaplayer\"/><g class=\"sunburstlayer\"/><g class=\"glimages\"/><defs id=\"topdefs-dd8359\"><g class=\"clips\"/></defs><g class=\"layer-above\"><g class=\"imagelayer\"/><g class=\"shapelayer\"/></g><g class=\"infolayer\"><g class=\"g-gtitle\"><text class=\"gtitle\" x=\"47.5\" y=\"50\" text-anchor=\"start\" dy=\"0em\" style=\"font-family: 'Open Sans', verdana, arial, sans-serif; font-size: 17px; fill: rgb(42, 63, 95); opacity: 1; font-weight: normal; white-space: pre;\">Commenting dates for \"sassything90\"</text></g><g class=\"g-xtitle\"><text class=\"xtitle\" x=\"475\" y=\"538.0431640625\" text-anchor=\"middle\" style=\"font-family: 'Open Sans', verdana, arial, sans-serif; font-size: 14px; fill: rgb(42, 63, 95); opacity: 1; font-weight: normal; white-space: pre;\">Comments Creation Date</text></g><g class=\"g-ytitle\"><text class=\"ytitle\" transform=\"rotate(-90,40.465625,276.5)\" x=\"40.465625\" y=\"276.5\" text-anchor=\"middle\" style=\"font-family: 'Open Sans', verdana, arial, sans-serif; font-size: 14px; fill: rgb(42, 63, 95); opacity: 1; font-weight: normal; white-space: pre;\">n_comments</text></g></g></svg>"
      ]
     },
     "metadata": {},
     "output_type": "display_data"
    }
   ],
   "source": [
    "bar_peaks(get_top(df_comments[df_comments.username == \"sassything90\"], 'date', 8, 'date', 'n_comments'),\n",
    "         'Commenting dates for \"sassything90\"')"
   ]
  },
  {
   "cell_type": "markdown",
   "id": "e202d55f",
   "metadata": {},
   "source": [
    "#### azulj.nolasco\n",
    "<font color='red'>negative comments</font>  \n",
    "\n",
    "- azuljulieta.nolasco\n",
    "- 0 posts\n",
    "- 2 followers\n",
    "- 1 following"
   ]
  },
  {
   "cell_type": "code",
   "execution_count": 115,
   "id": "fd1032d9",
   "metadata": {},
   "outputs": [],
   "source": [
    "neg_users = neg_users|{'azulj.nolasco'}"
   ]
  },
  {
   "cell_type": "code",
   "execution_count": 116,
   "id": "d967cd5a",
   "metadata": {},
   "outputs": [
    {
     "data": {
      "text/plain": [
       "#justiceforjohnnydepp              21\n",
       "🖕                                   5\n",
       "🤡🤮💩                                 3\n",
       "🤮🤮🤮🤮                                2\n",
       "💩                                   2\n",
       "🤡🤡🤡                                 2\n",
       "💩💩💩                                 1\n",
       "🤡🤡                                  1\n",
       "🤮🤮🤮                                 1\n",
       "🤮🤮                                  1\n",
       "🤡🤡🤡🤡🤮🤮🤮🤮🤮🤮🤡🤡🤡🤮🤮🤮🤮🤮🤮🤡🤡🤡🤮🤮🤮🤡🤡🤡🤮🤮🤮     1\n",
       "🤡💩🤮                                 1\n",
       "🤡                                   1\n",
       "🖕🖕🖕🖕🖕💩💩💩🤮                           1\n",
       "🤮                                   1\n",
       "Name: message, dtype: int64"
      ]
     },
     "execution_count": 116,
     "metadata": {},
     "output_type": "execute_result"
    }
   ],
   "source": [
    "df_comments.query(\"username == 'azulj.nolasco'\")['message'].value_counts().head(15)"
   ]
  },
  {
   "cell_type": "code",
   "execution_count": 117,
   "id": "08b8697c",
   "metadata": {},
   "outputs": [
    {
     "data": {
      "image/svg+xml": [
       "<svg class=\"main-svg\" xmlns=\"http://www.w3.org/2000/svg\" xmlns:xlink=\"http://www.w3.org/1999/xlink\" width=\"950\" height=\"550\" style=\"\" viewBox=\"0 0 950 550\"><rect x=\"0\" y=\"0\" width=\"950\" height=\"550\" style=\"fill: rgb(255, 255, 255); fill-opacity: 1;\"/><defs id=\"defs-e12891\"><g class=\"clips\"><clipPath id=\"clipe12891xyplot\" class=\"plotclip\"><rect width=\"790\" height=\"353\"/></clipPath><clipPath class=\"axesclip\" id=\"clipe12891x\"><rect x=\"80\" y=\"0\" width=\"790\" height=\"550\"/></clipPath><clipPath class=\"axesclip\" id=\"clipe12891y\"><rect x=\"0\" y=\"100\" width=\"950\" height=\"353\"/></clipPath><clipPath class=\"axesclip\" id=\"clipe12891xy\"><rect x=\"80\" y=\"100\" width=\"790\" height=\"353\"/></clipPath></g><g class=\"gradients\"/><g class=\"patterns\"/></defs><g class=\"bglayer\"><rect class=\"bg\" x=\"80\" y=\"100\" width=\"790\" height=\"353\" style=\"fill: rgb(229, 236, 246); fill-opacity: 1; stroke-width: 0;\"/></g><g class=\"layer-below\"><g class=\"imagelayer\"/><g class=\"shapelayer\"/></g><g class=\"cartesianlayer\"><g class=\"subplot xy\"><g class=\"layer-subplot\"><g class=\"shapelayer\"/><g class=\"imagelayer\"/></g><g class=\"gridlayer\"><g class=\"x\"/><g class=\"y\"><path class=\"ygrid crisp\" transform=\"translate(0,387.25)\" d=\"M80,0h790\" style=\"stroke: rgb(255, 255, 255); stroke-opacity: 1; stroke-width: 1px;\"/><path class=\"ygrid crisp\" transform=\"translate(0,321.49)\" d=\"M80,0h790\" style=\"stroke: rgb(255, 255, 255); stroke-opacity: 1; stroke-width: 1px;\"/><path class=\"ygrid crisp\" transform=\"translate(0,255.74)\" d=\"M80,0h790\" style=\"stroke: rgb(255, 255, 255); stroke-opacity: 1; stroke-width: 1px;\"/><path class=\"ygrid crisp\" transform=\"translate(0,189.98000000000002)\" d=\"M80,0h790\" style=\"stroke: rgb(255, 255, 255); stroke-opacity: 1; stroke-width: 1px;\"/><path class=\"ygrid crisp\" transform=\"translate(0,124.23)\" d=\"M80,0h790\" style=\"stroke: rgb(255, 255, 255); stroke-opacity: 1; stroke-width: 1px;\"/></g></g><g class=\"zerolinelayer\"><path class=\"yzl zl crisp\" transform=\"translate(0,453)\" d=\"M80,0h790\" style=\"stroke: rgb(255, 255, 255); stroke-opacity: 1; stroke-width: 2px;\"/></g><path class=\"xlines-below\"/><path class=\"ylines-below\"/><g class=\"overlines-below\"/><g class=\"xaxislayer-below\"/><g class=\"yaxislayer-below\"/><g class=\"overaxes-below\"/><g class=\"plot\" transform=\"translate(80,100)\" clip-path=\"url(#clipe12891xyplot)\"><g class=\"barlayer mlayer\"><g class=\"trace bars\" style=\"opacity: 1;\"><g class=\"points\"><g class=\"point\"><path d=\"M79,353V17.65H711V353Z\" style=\"vector-effect: non-scaling-stroke; opacity: 1; stroke-width: 0.5px; fill: rgb(255, 0, 0); fill-opacity: 1; stroke: rgb(229, 236, 246); stroke-opacity: 1;\"/><text class=\"bartext bartext-inside\" text-anchor=\"middle\" data-notex=\"1\" x=\"0\" y=\"0\" style=\"font-family: 'Open Sans', verdana, arial, sans-serif; font-size: 12px; fill: rgb(255, 255, 255); fill-opacity: 1; white-space: pre;\" transform=\"translate(395,33.65)\">51</text></g></g></g></g></g><g class=\"overplot\"/><path class=\"xlines-above crisp\" d=\"M0,0\" style=\"fill: none;\"/><path class=\"ylines-above crisp\" d=\"M0,0\" style=\"fill: none;\"/><g class=\"overlines-above\"/><g class=\"xaxislayer-above\"><g class=\"xtick\"><text text-anchor=\"start\" x=\"0\" y=\"466\" transform=\"translate(475,0) rotate(45,0,460)\" style=\"font-family: 'Open Sans', verdana, arial, sans-serif; font-size: 12px; fill: rgb(42, 63, 95); fill-opacity: 1; white-space: pre; opacity: 1;\">Nov 7, 2020</text></g></g><g class=\"yaxislayer-above\"><g class=\"ytick\"><text text-anchor=\"end\" x=\"79\" y=\"4.199999999999999\" transform=\"translate(0,453)\" style=\"font-family: 'Open Sans', verdana, arial, sans-serif; font-size: 12px; fill: rgb(42, 63, 95); fill-opacity: 1; white-space: pre; opacity: 1;\">0</text></g><g class=\"ytick\"><text text-anchor=\"end\" x=\"79\" y=\"4.199999999999999\" style=\"font-family: 'Open Sans', verdana, arial, sans-serif; font-size: 12px; fill: rgb(42, 63, 95); fill-opacity: 1; white-space: pre; opacity: 1;\" transform=\"translate(0,387.25)\">10</text></g><g class=\"ytick\"><text text-anchor=\"end\" x=\"79\" y=\"4.199999999999999\" style=\"font-family: 'Open Sans', verdana, arial, sans-serif; font-size: 12px; fill: rgb(42, 63, 95); fill-opacity: 1; white-space: pre; opacity: 1;\" transform=\"translate(0,321.49)\">20</text></g><g class=\"ytick\"><text text-anchor=\"end\" x=\"79\" y=\"4.199999999999999\" style=\"font-family: 'Open Sans', verdana, arial, sans-serif; font-size: 12px; fill: rgb(42, 63, 95); fill-opacity: 1; white-space: pre; opacity: 1;\" transform=\"translate(0,255.74)\">30</text></g><g class=\"ytick\"><text text-anchor=\"end\" x=\"79\" y=\"4.199999999999999\" style=\"font-family: 'Open Sans', verdana, arial, sans-serif; font-size: 12px; fill: rgb(42, 63, 95); fill-opacity: 1; white-space: pre; opacity: 1;\" transform=\"translate(0,189.98000000000002)\">40</text></g><g class=\"ytick\"><text text-anchor=\"end\" x=\"79\" y=\"4.199999999999999\" style=\"font-family: 'Open Sans', verdana, arial, sans-serif; font-size: 12px; fill: rgb(42, 63, 95); fill-opacity: 1; white-space: pre; opacity: 1;\" transform=\"translate(0,124.23)\">50</text></g></g><g class=\"overaxes-above\"/></g></g><g class=\"polarlayer\"/><g class=\"ternarylayer\"/><g class=\"geolayer\"/><g class=\"funnelarealayer\"/><g class=\"pielayer\"/><g class=\"iciclelayer\"/><g class=\"treemaplayer\"/><g class=\"sunburstlayer\"/><g class=\"glimages\"/><defs id=\"topdefs-e12891\"><g class=\"clips\"/></defs><g class=\"layer-above\"><g class=\"imagelayer\"/><g class=\"shapelayer\"/></g><g class=\"infolayer\"><g class=\"g-gtitle\"><text class=\"gtitle\" x=\"47.5\" y=\"50\" text-anchor=\"start\" dy=\"0em\" style=\"font-family: 'Open Sans', verdana, arial, sans-serif; font-size: 17px; fill: rgb(42, 63, 95); opacity: 1; font-weight: normal; white-space: pre;\">Commenting dates for \"azulj.nolasco\"</text></g><g class=\"g-xtitle\"><text class=\"xtitle\" x=\"475\" y=\"538.0431640625\" text-anchor=\"middle\" style=\"font-family: 'Open Sans', verdana, arial, sans-serif; font-size: 14px; fill: rgb(42, 63, 95); opacity: 1; font-weight: normal; white-space: pre;\">Comments Creation Date</text></g><g class=\"g-ytitle\"><text class=\"ytitle\" transform=\"rotate(-90,40.465625,276.5)\" x=\"40.465625\" y=\"276.5\" text-anchor=\"middle\" style=\"font-family: 'Open Sans', verdana, arial, sans-serif; font-size: 14px; fill: rgb(42, 63, 95); opacity: 1; font-weight: normal; white-space: pre;\">n_comments</text></g></g></svg>"
      ]
     },
     "metadata": {},
     "output_type": "display_data"
    }
   ],
   "source": [
    "bar_peaks(get_top(df_comments[df_comments.username == \"azulj.nolasco\"], 'date', 8, 'date', 'n_comments'),\n",
    "         'Commenting dates for \"azulj.nolasco\"')"
   ]
  },
  {
   "cell_type": "code",
   "execution_count": 118,
   "id": "fb2864eb",
   "metadata": {},
   "outputs": [
    {
     "data": {
      "text/plain": [
       "#justiceforjohnnydepp                                                                                                                                                     307\n",
       "ضد                                                                                                                                                                         89\n",
       "❤️                                                                                                                                                                         26\n",
       "😍                                                                                                                                                                          23\n",
       "😢                                                                                                                                                                          21\n",
       ":(                                                                                                                                                                         20\n",
       "💔                                                                                                                                                                          18\n",
       "😭                                                                                                                                                                          17\n",
       "❤️❤️❤️                                                                                                                                                                     17\n",
       "@el.pi0litas si                                                                                                                                                            14\n",
       "#justiceforjohnnydeep                                                                                                                                                      12\n",
       "❤️❤️                                                                                                                                                                       11\n",
       "😍😍😍                                                                                                                                                                        10\n",
       "❤️❤️❤️❤️❤️                                                                                                                                                                 10\n",
       "🔥                                                                                                                                                                           9\n",
       "#wearewithyoujohnnydepp\\n#weareproudofyoujohnnydepp  #justiceforjohnnydepp\\n#justiceforjohnnydepp\\n#justiceforjohnnydepp\\n#johnnydeppisinnocent\\n#amberheardisanabuser      9\n",
       "beautiful                                                                                                                                                                   8\n",
       "😢😢😢                                                                                                                                                                         8\n",
       "جافری                                                                                                                                                                       8\n",
       "😂                                                                                                                                                                           7\n",
       "Name: message, dtype: int64"
      ]
     },
     "execution_count": 118,
     "metadata": {},
     "output_type": "execute_result"
    }
   ],
   "source": [
    "df_comments[df_comments.datetime.dt.date.astype(str) == \"2020-11-07\"][\n",
    "    \"message\"\n",
    "].value_counts().head(20)"
   ]
  },
  {
   "cell_type": "markdown",
   "id": "7b13a8f0",
   "metadata": {},
   "source": [
    "   "
   ]
  },
  {
   "cell_type": "markdown",
   "id": "15f77c3e",
   "metadata": {},
   "source": [
    "### 2020-11-14"
   ]
  },
  {
   "cell_type": "code",
   "execution_count": 119,
   "id": "d586f0c5",
   "metadata": {},
   "outputs": [
    {
     "data": {
      "text/plain": [
       "hero_doe              27\n",
       "maikstrange           19\n",
       "engenhariadocinema    18\n",
       "mouhoubiabdelghani    15\n",
       "nathanjackson389      15\n",
       "theweeknd_avakin      14\n",
       "dushyant_386          13\n",
       "dc_geeks              13\n",
       "kinoholiczka          12\n",
       "marcelitovalle        12\n",
       "Name: username, dtype: int64"
      ]
     },
     "execution_count": 119,
     "metadata": {},
     "output_type": "execute_result"
    }
   ],
   "source": [
    "df_comments[df_comments.datetime.dt.date.astype(str) == \"2020-11-14\"][\n",
    "    \"username\"\n",
    "].value_counts().head(10)"
   ]
  },
  {
   "cell_type": "markdown",
   "id": "f6e4fcf4",
   "metadata": {},
   "source": [
    "#### theweeknd_avakin\n",
    "<font color='red'>negative comments</font> | <font color='red'>newly created</font>\n",
    "- Account created on DECEMBER 4, 2020\n",
    "- 97 posts\n",
    "- 3,166 followers\n",
    "- 7,105 following\n",
    "\n",
    "\"she's not a good actress either lmao 😂 she's never been nominated for shit\""
   ]
  },
  {
   "cell_type": "code",
   "execution_count": 120,
   "id": "605a6f53",
   "metadata": {},
   "outputs": [],
   "source": [
    "neg_users = neg_users|{'theweeknd_avakin'}\n",
    "neg_text = neg_text|{'boycott', 'nominated for shit', 'shit', 'whorish', 'scammer', 'fake victim'}"
   ]
  },
  {
   "cell_type": "code",
   "execution_count": 121,
   "id": "ac9e1121",
   "metadata": {},
   "outputs": [
    {
     "data": {
      "text/plain": [
       "@naveen_3275_ so you saying that  johnny depp getting fired from pirates of the caribbean 6 and fantastic beasts and where to find them 2 are alright but this isn't                                                                                                                                                                                                                                                                           1\n",
       "@naveen_3275_ if you don't care about amber heard then stop her from being casted for the movie cuz what she deserves is being thrown in jail for playing the victim card and damaging johnny depp's career....and emelia is perfect for the role cuz she and jason was in game of thrones together as khal drogo and khaleesi denarys...and they're chemistry is more perfect than anything the abuser amber turd can put onto the screen.    1\n",
       "@bridge5306 strong woman......😂 more like a whorish scammer who played the fake victim and tried to destroy the one and only mf johnny depp who deserves justice for what amber turd did.                                                                                                                                                                                                                                                      1\n",
       "@theregularalan boycott aquaman                                                                                                                                                                                                                                                                                                                                                                                                                1\n",
       "@kinggatsby we all do believe johnny.... he's the man the myth the legendary captain jack sparrow                                                                                                                                                                                                                                                                                                                                              1\n",
       "yessssss the best couple ever khal drogo and khalisi will now rule the real sea instead of the green sea 💪.                                                                                                                                                                                                                                                                                                                                    1\n",
       "@hidenseekchampion no see you never 😂                                                                                                                                                                                                                                                                                                                                                                                                          1\n",
       "@trainlike_bruce_wayne39 johnny is our childhood and needs to be protected                                                                                                                                                                                                                                                                                                                                                                     1\n",
       "@nigel_laulau she's not a good actress either lmao 😂 she's never been nominated for shit                                                                                                                                                                                                                                                                                                                                                       1\n",
       "@zeeerahhnaeim khal drogo and the khalesse will reunite in aquaman 2... best crossover ever 😂                                                                                                                                                                                                                                                                                                                                                  1\n",
       "@anuj_patnaik death to all the simp's                                                                                                                                                                                                                                                                                                                                                                                                          1\n",
       "@mr.martyrdom you want an abusive actress to star in a movie while the victim johny depp gets abandoned by the magical beasts and where to find them franchise.... wow talk about simping for whores                                                                                                                                                                                                                                           1\n",
       "@_.fulgencio._ yess the queen needs the support she deserves                                                                                                                                                                                                                                                                                                                                                                                   1\n",
       "@thaihuynh50 lmao remember that emelia and jason momoa where together in game of thrones... they deserve some more screen time together in justice league....khal drogo and khalisi together again                                                                                                                                                                                                                                             1\n",
       "Name: message, dtype: int64"
      ]
     },
     "execution_count": 121,
     "metadata": {},
     "output_type": "execute_result"
    }
   ],
   "source": [
    "df_comments.query(\"username == 'theweeknd_avakin'\")['message'].value_counts().head(15)"
   ]
  },
  {
   "cell_type": "code",
   "execution_count": 122,
   "id": "4173db4c",
   "metadata": {},
   "outputs": [
    {
     "data": {
      "text/plain": [
       "#justiceforjohnnydepp                                                                                                                                                                                                                                                            67\n",
       "❤️                                                                                                                                                                                                                                                                               22\n",
       "❤️❤️❤️                                                                                                                                                                                                                                                                           21\n",
       "😍                                                                                                                                                                                                                                                                                19\n",
       "😍😍😍😍😍                                                                                                                                                                                                                                                                            14\n",
       "😍😍😍                                                                                                                                                                                                                                                                              13\n",
       "against                                                                                                                                                                                                                                                                          12\n",
       "❤️❤️                                                                                                                                                                                                                                                                             12\n",
       "🔥🔥🔥                                                                                                                                                                                                                                                                              11\n",
       "no                                                                                                                                                                                                                                                                               11\n",
       "❤️❤️❤️❤️                                                                                                                                                                                                                                                                         11\n",
       "beautiful                                                                                                                                                                                                                                                                        10\n",
       "🔥                                                                                                                                                                                                                                                                                10\n",
       "https://www.thetimes.co.uk/edition/news/amber-heard-accuses-johnny-depp-of-online-smear-campaign-to-get-her-fired-from-aquaman-sequel-bv55d9phj?utm_medium=social&utm_source=facebook&fbclid=iwar0vvcwcetpvf43stvrfzhkyoiegdv9lifczv6qgfhybtiqy57p8pq7pmq4#echobox=1605269482    10\n",
       "😍😍😍😍                                                                                                                                                                                                                                                                              9\n",
       "fuck amber heard                                                                                                                                                                                                                                                                  9\n",
       "👏👏👏                                                                                                                                                                                                                                                                               8\n",
       "❤️❤️❤️❤️❤️                                                                                                                                                                                                                                                                        7\n",
       "boycott                                                                                                                                                                                                                                                                           7\n",
       "@hero_doe simp                                                                                                                                                                                                                                                                    7\n",
       "Name: message, dtype: int64"
      ]
     },
     "execution_count": 122,
     "metadata": {},
     "output_type": "execute_result"
    }
   ],
   "source": [
    "df_comments[df_comments.datetime.dt.date.astype(str) == \"2020-11-14\"][\n",
    "    \"message\"\n",
    "].value_counts().head(20)"
   ]
  },
  {
   "cell_type": "markdown",
   "id": "bc6e45ae",
   "metadata": {},
   "source": [
    "<a id='top_hours'></a>\n",
    ">## Comments on Peak Hours\n",
    "> <ul>\n",
    " <li><a href=\"#over_time\">Comments Created OVER TIME</a></li>\n",
    " <li><a href=\"#peaks\">Investigate Peaks</a></li>\n",
    " <li><a href=\"#top_peaks\">Comments on Peak Days</a></li> \n",
    " <li><a href=\"#top_hours\"><b>Comments on Peak Hours</b></a></li> \n",
    " <li><a href=\"#top_times\">Comments on Peak Times</a></li> \n",
    " </ul>"
   ]
  },
  {
   "cell_type": "markdown",
   "id": "a733eb43",
   "metadata": {},
   "source": [
    "### Users with The Most Contributions on Each Date in The Same Hour"
   ]
  },
  {
   "cell_type": "code",
   "execution_count": 123,
   "id": "895bfbf5",
   "metadata": {},
   "outputs": [
    {
     "data": {
      "text/html": [
       "<div>\n",
       "<style scoped>\n",
       "    .dataframe tbody tr th:only-of-type {\n",
       "        vertical-align: middle;\n",
       "    }\n",
       "\n",
       "    .dataframe tbody tr th {\n",
       "        vertical-align: top;\n",
       "    }\n",
       "\n",
       "    .dataframe thead th {\n",
       "        text-align: right;\n",
       "    }\n",
       "</style>\n",
       "<table border=\"1\" class=\"dataframe\">\n",
       "  <thead>\n",
       "    <tr style=\"text-align: right;\">\n",
       "      <th></th>\n",
       "      <th>date</th>\n",
       "      <th>hour</th>\n",
       "      <th>username</th>\n",
       "      <th>n_comments</th>\n",
       "      <th>n_likes</th>\n",
       "      <th>n_replies</th>\n",
       "    </tr>\n",
       "  </thead>\n",
       "  <tbody>\n",
       "    <tr>\n",
       "      <th>778019</th>\n",
       "      <td>2020-08-24</td>\n",
       "      <td>7</td>\n",
       "      <td>sinasbutterfly</td>\n",
       "      <td>217</td>\n",
       "      <td>0.0</td>\n",
       "      <td>0.0</td>\n",
       "    </tr>\n",
       "    <tr>\n",
       "      <th>777975</th>\n",
       "      <td>2020-08-24</td>\n",
       "      <td>6</td>\n",
       "      <td>sinasbutterfly</td>\n",
       "      <td>192</td>\n",
       "      <td>0.0</td>\n",
       "      <td>0.0</td>\n",
       "    </tr>\n",
       "    <tr>\n",
       "      <th>777925</th>\n",
       "      <td>2020-08-24</td>\n",
       "      <td>5</td>\n",
       "      <td>sinasbutterfly</td>\n",
       "      <td>191</td>\n",
       "      <td>16.0</td>\n",
       "      <td>2.0</td>\n",
       "    </tr>\n",
       "    <tr>\n",
       "      <th>1108581</th>\n",
       "      <td>2021-02-11</td>\n",
       "      <td>8</td>\n",
       "      <td>angel_amber__heard</td>\n",
       "      <td>183</td>\n",
       "      <td>200.0</td>\n",
       "      <td>0.0</td>\n",
       "    </tr>\n",
       "    <tr>\n",
       "      <th>778775</th>\n",
       "      <td>2020-08-24</td>\n",
       "      <td>18</td>\n",
       "      <td>sinasbutterfly</td>\n",
       "      <td>144</td>\n",
       "      <td>0.0</td>\n",
       "      <td>0.0</td>\n",
       "    </tr>\n",
       "    <tr>\n",
       "      <th>217823</th>\n",
       "      <td>2019-01-10</td>\n",
       "      <td>2</td>\n",
       "      <td>imcoreyrae</td>\n",
       "      <td>114</td>\n",
       "      <td>139.0</td>\n",
       "      <td>0.0</td>\n",
       "    </tr>\n",
       "    <tr>\n",
       "      <th>1305000</th>\n",
       "      <td>2021-06-05</td>\n",
       "      <td>11</td>\n",
       "      <td>anaww._.opi</td>\n",
       "      <td>113</td>\n",
       "      <td>9.0</td>\n",
       "      <td>0.0</td>\n",
       "    </tr>\n",
       "    <tr>\n",
       "      <th>1036632</th>\n",
       "      <td>2020-12-28</td>\n",
       "      <td>6</td>\n",
       "      <td>angel_amber__heard</td>\n",
       "      <td>112</td>\n",
       "      <td>111.0</td>\n",
       "      <td>0.0</td>\n",
       "    </tr>\n",
       "    <tr>\n",
       "      <th>697588</th>\n",
       "      <td>2020-07-12</td>\n",
       "      <td>19</td>\n",
       "      <td>thatsfabofficial</td>\n",
       "      <td>110</td>\n",
       "      <td>566.0</td>\n",
       "      <td>0.0</td>\n",
       "    </tr>\n",
       "    <tr>\n",
       "      <th>1306918</th>\n",
       "      <td>2021-06-06</td>\n",
       "      <td>9</td>\n",
       "      <td>maral_kp99</td>\n",
       "      <td>108</td>\n",
       "      <td>4.0</td>\n",
       "      <td>3.0</td>\n",
       "    </tr>\n",
       "    <tr>\n",
       "      <th>268970</th>\n",
       "      <td>2019-02-18</td>\n",
       "      <td>13</td>\n",
       "      <td>kallisi__vamp</td>\n",
       "      <td>108</td>\n",
       "      <td>114.0</td>\n",
       "      <td>0.0</td>\n",
       "    </tr>\n",
       "    <tr>\n",
       "      <th>593786</th>\n",
       "      <td>2020-04-25</td>\n",
       "      <td>17</td>\n",
       "      <td>_.shmiwx</td>\n",
       "      <td>102</td>\n",
       "      <td>25.0</td>\n",
       "      <td>5.0</td>\n",
       "    </tr>\n",
       "    <tr>\n",
       "      <th>1018369</th>\n",
       "      <td>2020-12-19</td>\n",
       "      <td>19</td>\n",
       "      <td>angel_amber__heard</td>\n",
       "      <td>100</td>\n",
       "      <td>107.0</td>\n",
       "      <td>0.0</td>\n",
       "    </tr>\n",
       "    <tr>\n",
       "      <th>810828</th>\n",
       "      <td>2020-09-13</td>\n",
       "      <td>8</td>\n",
       "      <td>yaman_haluk</td>\n",
       "      <td>97</td>\n",
       "      <td>48.0</td>\n",
       "      <td>0.0</td>\n",
       "    </tr>\n",
       "    <tr>\n",
       "      <th>1078510</th>\n",
       "      <td>2021-01-20</td>\n",
       "      <td>20</td>\n",
       "      <td>thecombatclinic_</td>\n",
       "      <td>96</td>\n",
       "      <td>101.0</td>\n",
       "      <td>0.0</td>\n",
       "    </tr>\n",
       "  </tbody>\n",
       "</table>\n",
       "</div>"
      ],
      "text/plain": [
       "               date  hour            username  n_comments  n_likes  n_replies\n",
       "778019   2020-08-24     7      sinasbutterfly         217      0.0        0.0\n",
       "777975   2020-08-24     6      sinasbutterfly         192      0.0        0.0\n",
       "777925   2020-08-24     5      sinasbutterfly         191     16.0        2.0\n",
       "1108581  2021-02-11     8  angel_amber__heard         183    200.0        0.0\n",
       "778775   2020-08-24    18      sinasbutterfly         144      0.0        0.0\n",
       "217823   2019-01-10     2          imcoreyrae         114    139.0        0.0\n",
       "1305000  2021-06-05    11         anaww._.opi         113      9.0        0.0\n",
       "1036632  2020-12-28     6  angel_amber__heard         112    111.0        0.0\n",
       "697588   2020-07-12    19    thatsfabofficial         110    566.0        0.0\n",
       "1306918  2021-06-06     9          maral_kp99         108      4.0        3.0\n",
       "268970   2019-02-18    13       kallisi__vamp         108    114.0        0.0\n",
       "593786   2020-04-25    17            _.shmiwx         102     25.0        5.0\n",
       "1018369  2020-12-19    19  angel_amber__heard         100    107.0        0.0\n",
       "810828   2020-09-13     8         yaman_haluk          97     48.0        0.0\n",
       "1078510  2021-01-20    20    thecombatclinic_          96    101.0        0.0"
      ]
     },
     "execution_count": 123,
     "metadata": {},
     "output_type": "execute_result"
    }
   ],
   "source": [
    "df = df_comments.groupby(['date', 'hour', 'username']).agg({'message':'count', 'n_likes': 'sum', 'n_replies': 'sum'}).reset_index(\n",
    ").rename(columns={'message':'n_comments'}).sort_values('n_comments', ascending=False)\n",
    "\n",
    "df.head(15)"
   ]
  },
  {
   "cell_type": "markdown",
   "id": "d94051e9",
   "metadata": {},
   "source": [
    "   "
   ]
  },
  {
   "cell_type": "markdown",
   "id": "0813af3e",
   "metadata": {},
   "source": [
    "### Peak Hours"
   ]
  },
  {
   "cell_type": "code",
   "execution_count": 124,
   "id": "69285879",
   "metadata": {},
   "outputs": [
    {
     "data": {
      "text/html": [
       "<div>\n",
       "<style scoped>\n",
       "    .dataframe tbody tr th:only-of-type {\n",
       "        vertical-align: middle;\n",
       "    }\n",
       "\n",
       "    .dataframe tbody tr th {\n",
       "        vertical-align: top;\n",
       "    }\n",
       "\n",
       "    .dataframe thead th {\n",
       "        text-align: right;\n",
       "    }\n",
       "</style>\n",
       "<table border=\"1\" class=\"dataframe\">\n",
       "  <thead>\n",
       "    <tr style=\"text-align: right;\">\n",
       "      <th></th>\n",
       "      <th>date</th>\n",
       "      <th>hour</th>\n",
       "      <th>n_comments</th>\n",
       "      <th>n_replies</th>\n",
       "      <th>n_likes</th>\n",
       "    </tr>\n",
       "  </thead>\n",
       "  <tbody>\n",
       "    <tr>\n",
       "      <th>23289</th>\n",
       "      <td>2020-11-02</td>\n",
       "      <td>13</td>\n",
       "      <td>993</td>\n",
       "      <td>281.0</td>\n",
       "      <td>4877.0</td>\n",
       "    </tr>\n",
       "    <tr>\n",
       "      <th>23391</th>\n",
       "      <td>2020-11-06</td>\n",
       "      <td>19</td>\n",
       "      <td>816</td>\n",
       "      <td>367.0</td>\n",
       "      <td>6553.0</td>\n",
       "    </tr>\n",
       "    <tr>\n",
       "      <th>17420</th>\n",
       "      <td>2020-03-02</td>\n",
       "      <td>23</td>\n",
       "      <td>797</td>\n",
       "      <td>375.0</td>\n",
       "      <td>13888.0</td>\n",
       "    </tr>\n",
       "    <tr>\n",
       "      <th>23294</th>\n",
       "      <td>2020-11-02</td>\n",
       "      <td>18</td>\n",
       "      <td>795</td>\n",
       "      <td>125.0</td>\n",
       "      <td>2394.0</td>\n",
       "    </tr>\n",
       "    <tr>\n",
       "      <th>23292</th>\n",
       "      <td>2020-11-02</td>\n",
       "      <td>16</td>\n",
       "      <td>780</td>\n",
       "      <td>285.0</td>\n",
       "      <td>4171.0</td>\n",
       "    </tr>\n",
       "    <tr>\n",
       "      <th>23297</th>\n",
       "      <td>2020-11-02</td>\n",
       "      <td>21</td>\n",
       "      <td>773</td>\n",
       "      <td>190.0</td>\n",
       "      <td>4303.0</td>\n",
       "    </tr>\n",
       "    <tr>\n",
       "      <th>23296</th>\n",
       "      <td>2020-11-02</td>\n",
       "      <td>20</td>\n",
       "      <td>746</td>\n",
       "      <td>735.0</td>\n",
       "      <td>13807.0</td>\n",
       "    </tr>\n",
       "    <tr>\n",
       "      <th>24575</th>\n",
       "      <td>2020-12-26</td>\n",
       "      <td>3</td>\n",
       "      <td>702</td>\n",
       "      <td>111.0</td>\n",
       "      <td>1209.0</td>\n",
       "    </tr>\n",
       "    <tr>\n",
       "      <th>24924</th>\n",
       "      <td>2021-01-09</td>\n",
       "      <td>16</td>\n",
       "      <td>700</td>\n",
       "      <td>116.0</td>\n",
       "      <td>1095.0</td>\n",
       "    </tr>\n",
       "    <tr>\n",
       "      <th>23291</th>\n",
       "      <td>2020-11-02</td>\n",
       "      <td>15</td>\n",
       "      <td>651</td>\n",
       "      <td>592.0</td>\n",
       "      <td>12186.0</td>\n",
       "    </tr>\n",
       "    <tr>\n",
       "      <th>23394</th>\n",
       "      <td>2020-11-06</td>\n",
       "      <td>22</td>\n",
       "      <td>638</td>\n",
       "      <td>171.0</td>\n",
       "      <td>3890.0</td>\n",
       "    </tr>\n",
       "    <tr>\n",
       "      <th>23392</th>\n",
       "      <td>2020-11-06</td>\n",
       "      <td>20</td>\n",
       "      <td>638</td>\n",
       "      <td>264.0</td>\n",
       "      <td>9906.0</td>\n",
       "    </tr>\n",
       "    <tr>\n",
       "      <th>23540</th>\n",
       "      <td>2020-11-13</td>\n",
       "      <td>0</td>\n",
       "      <td>626</td>\n",
       "      <td>540.0</td>\n",
       "      <td>34221.0</td>\n",
       "    </tr>\n",
       "    <tr>\n",
       "      <th>23541</th>\n",
       "      <td>2020-11-13</td>\n",
       "      <td>1</td>\n",
       "      <td>611</td>\n",
       "      <td>469.0</td>\n",
       "      <td>15619.0</td>\n",
       "    </tr>\n",
       "    <tr>\n",
       "      <th>23393</th>\n",
       "      <td>2020-11-06</td>\n",
       "      <td>21</td>\n",
       "      <td>611</td>\n",
       "      <td>194.0</td>\n",
       "      <td>3688.0</td>\n",
       "    </tr>\n",
       "  </tbody>\n",
       "</table>\n",
       "</div>"
      ],
      "text/plain": [
       "             date  hour  n_comments  n_replies  n_likes\n",
       "23289  2020-11-02    13         993      281.0   4877.0\n",
       "23391  2020-11-06    19         816      367.0   6553.0\n",
       "17420  2020-03-02    23         797      375.0  13888.0\n",
       "23294  2020-11-02    18         795      125.0   2394.0\n",
       "23292  2020-11-02    16         780      285.0   4171.0\n",
       "23297  2020-11-02    21         773      190.0   4303.0\n",
       "23296  2020-11-02    20         746      735.0  13807.0\n",
       "24575  2020-12-26     3         702      111.0   1209.0\n",
       "24924  2021-01-09    16         700      116.0   1095.0\n",
       "23291  2020-11-02    15         651      592.0  12186.0\n",
       "23394  2020-11-06    22         638      171.0   3890.0\n",
       "23392  2020-11-06    20         638      264.0   9906.0\n",
       "23540  2020-11-13     0         626      540.0  34221.0\n",
       "23541  2020-11-13     1         611      469.0  15619.0\n",
       "23393  2020-11-06    21         611      194.0   3688.0"
      ]
     },
     "execution_count": 124,
     "metadata": {},
     "output_type": "execute_result"
    }
   ],
   "source": [
    "df = df_comments.groupby(['date', 'hour']).agg({'message':'count', 'n_replies': 'sum', 'n_likes': 'sum'}).reset_index(\n",
    ").rename(columns={'message':'n_comments'}).sort_values('n_comments', ascending=False)\n",
    "\n",
    "df.head(15)\n"
   ]
  },
  {
   "cell_type": "markdown",
   "id": "ea2cad04",
   "metadata": {},
   "source": [
    "   "
   ]
  },
  {
   "cell_type": "markdown",
   "id": "4266748e",
   "metadata": {},
   "source": [
    "   "
   ]
  },
  {
   "cell_type": "markdown",
   "id": "97ff0191",
   "metadata": {},
   "source": [
    "<a id='top_times'></a>\n",
    ">## Comments on Peak Times\n",
    "> <ul>\n",
    " <li><a href=\"#over_time\">Comments Created OVER TIME</a></li>\n",
    " <li><a href=\"#peaks\">Investigate Peaks</a></li>\n",
    " <li><a href=\"#top_peaks\">Comments on Peak Days</a></li> \n",
    " <li><a href=\"#top_hours\">Comments on Peak Hours</a></li>\n",
    " <li><a href=\"#top_times\"><b>Comments on Peak Times</b></a></li> \n",
    " </ul>"
   ]
  },
  {
   "cell_type": "code",
   "execution_count": 125,
   "id": "03794918",
   "metadata": {},
   "outputs": [
    {
     "data": {
      "text/plain": [
       "2018-10-25 20:52:06    16\n",
       "2021-07-10 19:03:46    16\n",
       "2021-08-15 06:13:29    11\n",
       "2021-08-15 07:20:19    10\n",
       "2018-10-25 20:52:07    10\n",
       "2018-10-25 20:52:04     9\n",
       "2018-10-25 20:52:01     9\n",
       "2021-07-11 17:24:29     8\n",
       "2020-07-31 03:23:07     8\n",
       "2018-10-25 20:52:08     8\n",
       "2021-07-20 13:44:22     8\n",
       "2018-12-04 00:06:17     8\n",
       "2021-07-16 15:51:42     8\n",
       "2018-10-25 20:52:02     8\n",
       "2018-10-25 20:52:05     8\n",
       "2019-03-11 15:03:51     7\n",
       "2018-12-04 00:06:13     7\n",
       "2018-12-21 19:17:05     7\n",
       "2018-10-25 20:52:03     7\n",
       "2020-11-11 15:57:20     7\n",
       "Name: datetime, dtype: int64"
      ]
     },
     "execution_count": 125,
     "metadata": {},
     "output_type": "execute_result"
    }
   ],
   "source": [
    "df_comments.datetime.value_counts().head(20)"
   ]
  },
  {
   "cell_type": "markdown",
   "id": "4e40d521",
   "metadata": {},
   "source": [
    "#### 2018-10-25 20:52:06 "
   ]
  },
  {
   "cell_type": "code",
   "execution_count": 126,
   "id": "5bd6f4d4",
   "metadata": {},
   "outputs": [
    {
     "data": {
      "text/plain": [
       "bring it on                        3\n",
       "gotta check it out                 3\n",
       "billy bob                          2\n",
       "great movie                        1\n",
       "oh yeah baby                       1\n",
       "omg i can't wait to see it         1\n",
       "when does this hit all theaters    1\n",
       "this looks amazing                 1\n",
       "kickass movie                      1\n",
       "going to see this                  1\n",
       "holy shit this looks good          1\n",
       "Name: message, dtype: int64"
      ]
     },
     "execution_count": 126,
     "metadata": {},
     "output_type": "execute_result"
    }
   ],
   "source": [
    "df_comments[df_comments.datetime.astype(str) == \"2018-10-25 20:52:06\"][\n",
    "    \"message\"\n",
    "].value_counts()"
   ]
  },
  {
   "cell_type": "code",
   "execution_count": 127,
   "id": "92ce6d7f",
   "metadata": {},
   "outputs": [
    {
     "data": {
      "text/plain": [
       "poppysmooches      1\n",
       "sosunovv_          1\n",
       "el.oze             1\n",
       "madscrew_band      1\n",
       "rowdy.ma           1\n",
       "hams_53            1\n",
       "fantasista.kr      1\n",
       "doctor.ca          1\n",
       "saharazeritv       1\n",
       "kum_gibi__hayat    1\n",
       "zachariaspneus     1\n",
       "foxlife84          1\n",
       "miguelaclopes      1\n",
       "dougcourtright     1\n",
       "onurzlr            1\n",
       "angelamart__       1\n",
       "Name: username, dtype: int64"
      ]
     },
     "execution_count": 127,
     "metadata": {},
     "output_type": "execute_result"
    }
   ],
   "source": [
    "df_comments[df_comments.datetime.astype(str) == \"2018-10-25 20:52:06\"][\n",
    "    \"username\"\n",
    "].value_counts()"
   ]
  },
  {
   "cell_type": "markdown",
   "id": "46fdeee4",
   "metadata": {},
   "source": [
    "<br>"
   ]
  },
  {
   "cell_type": "markdown",
   "id": "c33a08d1",
   "metadata": {},
   "source": [
    "#### 2021-07-10 19:03:46"
   ]
  },
  {
   "cell_type": "code",
   "execution_count": 128,
   "id": "648f62d0",
   "metadata": {},
   "outputs": [
    {
     "data": {
      "text/html": [
       "<div>\n",
       "<style scoped>\n",
       "    .dataframe tbody tr th:only-of-type {\n",
       "        vertical-align: middle;\n",
       "    }\n",
       "\n",
       "    .dataframe tbody tr th {\n",
       "        vertical-align: top;\n",
       "    }\n",
       "\n",
       "    .dataframe thead th {\n",
       "        text-align: right;\n",
       "    }\n",
       "</style>\n",
       "<table border=\"1\" class=\"dataframe\">\n",
       "  <thead>\n",
       "    <tr style=\"text-align: right;\">\n",
       "      <th></th>\n",
       "      <th>message</th>\n",
       "      <th>datetime</th>\n",
       "      <th>id</th>\n",
       "      <th>n_replies</th>\n",
       "      <th>n_likes</th>\n",
       "      <th>media_id</th>\n",
       "      <th>parent_id</th>\n",
       "      <th>user_id</th>\n",
       "      <th>username</th>\n",
       "      <th>is_verified</th>\n",
       "      <th>account_url</th>\n",
       "      <th>year</th>\n",
       "      <th>month</th>\n",
       "      <th>dayofmonth</th>\n",
       "      <th>date</th>\n",
       "      <th>hour</th>\n",
       "    </tr>\n",
       "  </thead>\n",
       "  <tbody>\n",
       "    <tr>\n",
       "      <th>431967</th>\n",
       "      <td>não é sei</td>\n",
       "      <td>2021-07-10 19:03:46</td>\n",
       "      <td>17918836441761036</td>\n",
       "      <td>3.0</td>\n",
       "      <td>1.0</td>\n",
       "      <td>2614864539877656576</td>\n",
       "      <td>n</td>\n",
       "      <td>7093571712</td>\n",
       "      <td>divaneisancaosilva</td>\n",
       "      <td>False</td>\n",
       "      <td>https://www.instagram.com/divaneisancaosilva</td>\n",
       "      <td>2021</td>\n",
       "      <td>Jul</td>\n",
       "      <td>10</td>\n",
       "      <td>2021-07-10</td>\n",
       "      <td>19</td>\n",
       "    </tr>\n",
       "    <tr>\n",
       "      <th>548465</th>\n",
       "      <td>😋😋😉😉</td>\n",
       "      <td>2021-07-10 19:03:46</td>\n",
       "      <td>18182264398140180</td>\n",
       "      <td>0.0</td>\n",
       "      <td>0.0</td>\n",
       "      <td>2614866084007869440</td>\n",
       "      <td>n</td>\n",
       "      <td>48337075999</td>\n",
       "      <td>fhbgkkoo</td>\n",
       "      <td>False</td>\n",
       "      <td>https://www.instagram.com/fhbgkkoo</td>\n",
       "      <td>2021</td>\n",
       "      <td>Jul</td>\n",
       "      <td>10</td>\n",
       "      <td>2021-07-10</td>\n",
       "      <td>19</td>\n",
       "    </tr>\n",
       "    <tr>\n",
       "      <th>548467</th>\n",
       "      <td>🙆🙆🙆🙆</td>\n",
       "      <td>2021-07-10 19:03:46</td>\n",
       "      <td>17931181747608260</td>\n",
       "      <td>0.0</td>\n",
       "      <td>0.0</td>\n",
       "      <td>2614866084007869440</td>\n",
       "      <td>n</td>\n",
       "      <td>48491295509</td>\n",
       "      <td>khanjk842</td>\n",
       "      <td>False</td>\n",
       "      <td>https://www.instagram.com/khanjk842</td>\n",
       "      <td>2021</td>\n",
       "      <td>Jul</td>\n",
       "      <td>10</td>\n",
       "      <td>2021-07-10</td>\n",
       "      <td>19</td>\n",
       "    </tr>\n",
       "    <tr>\n",
       "      <th>548468</th>\n",
       "      <td>🌍</td>\n",
       "      <td>2021-07-10 19:03:46</td>\n",
       "      <td>17909531332936026</td>\n",
       "      <td>0.0</td>\n",
       "      <td>0.0</td>\n",
       "      <td>2614866084007869440</td>\n",
       "      <td>n</td>\n",
       "      <td>48385055969</td>\n",
       "      <td>nfkd.ksjs</td>\n",
       "      <td>False</td>\n",
       "      <td>https://www.instagram.com/nfkd.ksjs</td>\n",
       "      <td>2021</td>\n",
       "      <td>Jul</td>\n",
       "      <td>10</td>\n",
       "      <td>2021-07-10</td>\n",
       "      <td>19</td>\n",
       "    </tr>\n",
       "    <tr>\n",
       "      <th>548469</th>\n",
       "      <td>😑</td>\n",
       "      <td>2021-07-10 19:03:46</td>\n",
       "      <td>17868186359497584</td>\n",
       "      <td>0.0</td>\n",
       "      <td>0.0</td>\n",
       "      <td>2614866084007869440</td>\n",
       "      <td>n</td>\n",
       "      <td>48408997689</td>\n",
       "      <td>whadiz_promoter</td>\n",
       "      <td>False</td>\n",
       "      <td>https://www.instagram.com/whadiz_promoter</td>\n",
       "      <td>2021</td>\n",
       "      <td>Jul</td>\n",
       "      <td>10</td>\n",
       "      <td>2021-07-10</td>\n",
       "      <td>19</td>\n",
       "    </tr>\n",
       "    <tr>\n",
       "      <th>548470</th>\n",
       "      <td>💋</td>\n",
       "      <td>2021-07-10 19:03:46</td>\n",
       "      <td>17888277836332616</td>\n",
       "      <td>0.0</td>\n",
       "      <td>0.0</td>\n",
       "      <td>2614866084007869440</td>\n",
       "      <td>n</td>\n",
       "      <td>48620048799</td>\n",
       "      <td>onjvjvjv</td>\n",
       "      <td>False</td>\n",
       "      <td>https://www.instagram.com/onjvjvjv</td>\n",
       "      <td>2021</td>\n",
       "      <td>Jul</td>\n",
       "      <td>10</td>\n",
       "      <td>2021-07-10</td>\n",
       "      <td>19</td>\n",
       "    </tr>\n",
       "    <tr>\n",
       "      <th>548471</th>\n",
       "      <td>😔😔😔</td>\n",
       "      <td>2021-07-10 19:03:46</td>\n",
       "      <td>17907146515955280</td>\n",
       "      <td>0.0</td>\n",
       "      <td>0.0</td>\n",
       "      <td>2614866084007869440</td>\n",
       "      <td>n</td>\n",
       "      <td>48793920449</td>\n",
       "      <td>und_rcut</td>\n",
       "      <td>False</td>\n",
       "      <td>https://www.instagram.com/und_rcut</td>\n",
       "      <td>2021</td>\n",
       "      <td>Jul</td>\n",
       "      <td>10</td>\n",
       "      <td>2021-07-10</td>\n",
       "      <td>19</td>\n",
       "    </tr>\n",
       "    <tr>\n",
       "      <th>548472</th>\n",
       "      <td>🙈😍</td>\n",
       "      <td>2021-07-10 19:03:46</td>\n",
       "      <td>17904789304915906</td>\n",
       "      <td>0.0</td>\n",
       "      <td>0.0</td>\n",
       "      <td>2614866084007869440</td>\n",
       "      <td>n</td>\n",
       "      <td>44099636139</td>\n",
       "      <td>vishwakarm.karan</td>\n",
       "      <td>False</td>\n",
       "      <td>https://www.instagram.com/vishwakarm.karan</td>\n",
       "      <td>2021</td>\n",
       "      <td>Jul</td>\n",
       "      <td>10</td>\n",
       "      <td>2021-07-10</td>\n",
       "      <td>19</td>\n",
       "    </tr>\n",
       "    <tr>\n",
       "      <th>548473</th>\n",
       "      <td>🙈💘💑❤</td>\n",
       "      <td>2021-07-10 19:03:46</td>\n",
       "      <td>17919029926758528</td>\n",
       "      <td>0.0</td>\n",
       "      <td>0.0</td>\n",
       "      <td>2614866084007869440</td>\n",
       "      <td>n</td>\n",
       "      <td>48732887189</td>\n",
       "      <td>shahidkotwal786</td>\n",
       "      <td>False</td>\n",
       "      <td>https://www.instagram.com/shahidkotwal786</td>\n",
       "      <td>2021</td>\n",
       "      <td>Jul</td>\n",
       "      <td>10</td>\n",
       "      <td>2021-07-10</td>\n",
       "      <td>19</td>\n",
       "    </tr>\n",
       "    <tr>\n",
       "      <th>548474</th>\n",
       "      <td>🙆🙆🙆🙆</td>\n",
       "      <td>2021-07-10 19:03:46</td>\n",
       "      <td>17887052906240680</td>\n",
       "      <td>0.0</td>\n",
       "      <td>0.0</td>\n",
       "      <td>2614866084007869440</td>\n",
       "      <td>n</td>\n",
       "      <td>48742525469</td>\n",
       "      <td>roushanj9788</td>\n",
       "      <td>False</td>\n",
       "      <td>https://www.instagram.com/roushanj9788</td>\n",
       "      <td>2021</td>\n",
       "      <td>Jul</td>\n",
       "      <td>10</td>\n",
       "      <td>2021-07-10</td>\n",
       "      <td>19</td>\n",
       "    </tr>\n",
       "    <tr>\n",
       "      <th>548475</th>\n",
       "      <td>😂😝😝</td>\n",
       "      <td>2021-07-10 19:03:46</td>\n",
       "      <td>17956707532438548</td>\n",
       "      <td>0.0</td>\n",
       "      <td>0.0</td>\n",
       "      <td>2614866084007869440</td>\n",
       "      <td>n</td>\n",
       "      <td>48528997009</td>\n",
       "      <td>shabna_143</td>\n",
       "      <td>False</td>\n",
       "      <td>https://www.instagram.com/shabna_143</td>\n",
       "      <td>2021</td>\n",
       "      <td>Jul</td>\n",
       "      <td>10</td>\n",
       "      <td>2021-07-10</td>\n",
       "      <td>19</td>\n",
       "    </tr>\n",
       "    <tr>\n",
       "      <th>548477</th>\n",
       "      <td>😍😊😘🙈🙈</td>\n",
       "      <td>2021-07-10 19:03:46</td>\n",
       "      <td>17997381019356078</td>\n",
       "      <td>0.0</td>\n",
       "      <td>0.0</td>\n",
       "      <td>2614866084007869440</td>\n",
       "      <td>n</td>\n",
       "      <td>44133142349</td>\n",
       "      <td>paras__khanna_</td>\n",
       "      <td>False</td>\n",
       "      <td>https://www.instagram.com/paras__khanna_</td>\n",
       "      <td>2021</td>\n",
       "      <td>Jul</td>\n",
       "      <td>10</td>\n",
       "      <td>2021-07-10</td>\n",
       "      <td>19</td>\n",
       "    </tr>\n",
       "    <tr>\n",
       "      <th>548478</th>\n",
       "      <td>😂❤</td>\n",
       "      <td>2021-07-10 19:03:46</td>\n",
       "      <td>17905071338000690</td>\n",
       "      <td>0.0</td>\n",
       "      <td>0.0</td>\n",
       "      <td>2614866084007869440</td>\n",
       "      <td>n</td>\n",
       "      <td>48416661209</td>\n",
       "      <td>sabat8645</td>\n",
       "      <td>False</td>\n",
       "      <td>https://www.instagram.com/sabat8645</td>\n",
       "      <td>2021</td>\n",
       "      <td>Jul</td>\n",
       "      <td>10</td>\n",
       "      <td>2021-07-10</td>\n",
       "      <td>19</td>\n",
       "    </tr>\n",
       "    <tr>\n",
       "      <th>548479</th>\n",
       "      <td>😑</td>\n",
       "      <td>2021-07-10 19:03:46</td>\n",
       "      <td>17849982848598512</td>\n",
       "      <td>0.0</td>\n",
       "      <td>0.0</td>\n",
       "      <td>2614866084007869440</td>\n",
       "      <td>n</td>\n",
       "      <td>48549696119</td>\n",
       "      <td>h67218223</td>\n",
       "      <td>False</td>\n",
       "      <td>https://www.instagram.com/h67218223</td>\n",
       "      <td>2021</td>\n",
       "      <td>Jul</td>\n",
       "      <td>10</td>\n",
       "      <td>2021-07-10</td>\n",
       "      <td>19</td>\n",
       "    </tr>\n",
       "    <tr>\n",
       "      <th>548480</th>\n",
       "      <td>😊</td>\n",
       "      <td>2021-07-10 19:03:46</td>\n",
       "      <td>17979938050379296</td>\n",
       "      <td>0.0</td>\n",
       "      <td>0.0</td>\n",
       "      <td>2614866084007869440</td>\n",
       "      <td>n</td>\n",
       "      <td>18524857149</td>\n",
       "      <td>uday.thakur648</td>\n",
       "      <td>False</td>\n",
       "      <td>https://www.instagram.com/uday.thakur648</td>\n",
       "      <td>2021</td>\n",
       "      <td>Jul</td>\n",
       "      <td>10</td>\n",
       "      <td>2021-07-10</td>\n",
       "      <td>19</td>\n",
       "    </tr>\n",
       "    <tr>\n",
       "      <th>548481</th>\n",
       "      <td>😇</td>\n",
       "      <td>2021-07-10 19:03:46</td>\n",
       "      <td>17930018221614936</td>\n",
       "      <td>0.0</td>\n",
       "      <td>0.0</td>\n",
       "      <td>2614866084007869440</td>\n",
       "      <td>n</td>\n",
       "      <td>38338269939</td>\n",
       "      <td>saini__sahab__</td>\n",
       "      <td>False</td>\n",
       "      <td>https://www.instagram.com/saini__sahab__</td>\n",
       "      <td>2021</td>\n",
       "      <td>Jul</td>\n",
       "      <td>10</td>\n",
       "      <td>2021-07-10</td>\n",
       "      <td>19</td>\n",
       "    </tr>\n",
       "  </tbody>\n",
       "</table>\n",
       "</div>"
      ],
      "text/plain": [
       "          message            datetime                 id  n_replies  n_likes  \\\n",
       "431967  não é sei 2021-07-10 19:03:46  17918836441761036        3.0      1.0   \n",
       "548465       😋😋😉😉 2021-07-10 19:03:46  18182264398140180        0.0      0.0   \n",
       "548467       🙆🙆🙆🙆 2021-07-10 19:03:46  17931181747608260        0.0      0.0   \n",
       "548468          🌍 2021-07-10 19:03:46  17909531332936026        0.0      0.0   \n",
       "548469          😑 2021-07-10 19:03:46  17868186359497584        0.0      0.0   \n",
       "548470          💋 2021-07-10 19:03:46  17888277836332616        0.0      0.0   \n",
       "548471        😔😔😔 2021-07-10 19:03:46  17907146515955280        0.0      0.0   \n",
       "548472         🙈😍 2021-07-10 19:03:46  17904789304915906        0.0      0.0   \n",
       "548473       🙈💘💑❤ 2021-07-10 19:03:46  17919029926758528        0.0      0.0   \n",
       "548474       🙆🙆🙆🙆 2021-07-10 19:03:46  17887052906240680        0.0      0.0   \n",
       "548475        😂😝😝 2021-07-10 19:03:46  17956707532438548        0.0      0.0   \n",
       "548477      😍😊😘🙈🙈 2021-07-10 19:03:46  17997381019356078        0.0      0.0   \n",
       "548478         😂❤ 2021-07-10 19:03:46  17905071338000690        0.0      0.0   \n",
       "548479          😑 2021-07-10 19:03:46  17849982848598512        0.0      0.0   \n",
       "548480          😊 2021-07-10 19:03:46  17979938050379296        0.0      0.0   \n",
       "548481          😇 2021-07-10 19:03:46  17930018221614936        0.0      0.0   \n",
       "\n",
       "                   media_id parent_id      user_id            username  \\\n",
       "431967  2614864539877656576         n   7093571712  divaneisancaosilva   \n",
       "548465  2614866084007869440         n  48337075999            fhbgkkoo   \n",
       "548467  2614866084007869440         n  48491295509           khanjk842   \n",
       "548468  2614866084007869440         n  48385055969           nfkd.ksjs   \n",
       "548469  2614866084007869440         n  48408997689     whadiz_promoter   \n",
       "548470  2614866084007869440         n  48620048799            onjvjvjv   \n",
       "548471  2614866084007869440         n  48793920449            und_rcut   \n",
       "548472  2614866084007869440         n  44099636139    vishwakarm.karan   \n",
       "548473  2614866084007869440         n  48732887189     shahidkotwal786   \n",
       "548474  2614866084007869440         n  48742525469        roushanj9788   \n",
       "548475  2614866084007869440         n  48528997009          shabna_143   \n",
       "548477  2614866084007869440         n  44133142349      paras__khanna_   \n",
       "548478  2614866084007869440         n  48416661209           sabat8645   \n",
       "548479  2614866084007869440         n  48549696119           h67218223   \n",
       "548480  2614866084007869440         n  18524857149      uday.thakur648   \n",
       "548481  2614866084007869440         n  38338269939      saini__sahab__   \n",
       "\n",
       "        is_verified                                   account_url  year month  \\\n",
       "431967        False  https://www.instagram.com/divaneisancaosilva  2021   Jul   \n",
       "548465        False            https://www.instagram.com/fhbgkkoo  2021   Jul   \n",
       "548467        False           https://www.instagram.com/khanjk842  2021   Jul   \n",
       "548468        False           https://www.instagram.com/nfkd.ksjs  2021   Jul   \n",
       "548469        False     https://www.instagram.com/whadiz_promoter  2021   Jul   \n",
       "548470        False            https://www.instagram.com/onjvjvjv  2021   Jul   \n",
       "548471        False            https://www.instagram.com/und_rcut  2021   Jul   \n",
       "548472        False    https://www.instagram.com/vishwakarm.karan  2021   Jul   \n",
       "548473        False     https://www.instagram.com/shahidkotwal786  2021   Jul   \n",
       "548474        False        https://www.instagram.com/roushanj9788  2021   Jul   \n",
       "548475        False          https://www.instagram.com/shabna_143  2021   Jul   \n",
       "548477        False      https://www.instagram.com/paras__khanna_  2021   Jul   \n",
       "548478        False           https://www.instagram.com/sabat8645  2021   Jul   \n",
       "548479        False           https://www.instagram.com/h67218223  2021   Jul   \n",
       "548480        False      https://www.instagram.com/uday.thakur648  2021   Jul   \n",
       "548481        False      https://www.instagram.com/saini__sahab__  2021   Jul   \n",
       "\n",
       "        dayofmonth        date  hour  \n",
       "431967          10  2021-07-10    19  \n",
       "548465          10  2021-07-10    19  \n",
       "548467          10  2021-07-10    19  \n",
       "548468          10  2021-07-10    19  \n",
       "548469          10  2021-07-10    19  \n",
       "548470          10  2021-07-10    19  \n",
       "548471          10  2021-07-10    19  \n",
       "548472          10  2021-07-10    19  \n",
       "548473          10  2021-07-10    19  \n",
       "548474          10  2021-07-10    19  \n",
       "548475          10  2021-07-10    19  \n",
       "548477          10  2021-07-10    19  \n",
       "548478          10  2021-07-10    19  \n",
       "548479          10  2021-07-10    19  \n",
       "548480          10  2021-07-10    19  \n",
       "548481          10  2021-07-10    19  "
      ]
     },
     "execution_count": 128,
     "metadata": {},
     "output_type": "execute_result"
    }
   ],
   "source": [
    "df_comments[df_comments.datetime.astype(str) == \"2021-07-10 19:03:46\"]"
   ]
  },
  {
   "cell_type": "code",
   "execution_count": 129,
   "id": "87742f30",
   "metadata": {},
   "outputs": [
    {
     "data": {
      "text/plain": [
       "🙆🙆🙆🙆         2\n",
       "😑            2\n",
       "não é sei    1\n",
       "😋😋😉😉         1\n",
       "🌍            1\n",
       "💋            1\n",
       "😔😔😔          1\n",
       "🙈😍           1\n",
       "🙈💘💑❤         1\n",
       "😂😝😝          1\n",
       "😍😊😘🙈🙈        1\n",
       "😂❤           1\n",
       "😊            1\n",
       "😇            1\n",
       "Name: message, dtype: int64"
      ]
     },
     "execution_count": 129,
     "metadata": {},
     "output_type": "execute_result"
    }
   ],
   "source": [
    "df_comments[df_comments.datetime.astype(str) == \"2021-07-10 19:03:46\"][\n",
    "    \"message\"\n",
    "].value_counts()"
   ]
  },
  {
   "cell_type": "code",
   "execution_count": 130,
   "id": "9087f71f",
   "metadata": {},
   "outputs": [
    {
     "data": {
      "text/plain": [
       "divaneisancaosilva    1\n",
       "fhbgkkoo              1\n",
       "khanjk842             1\n",
       "nfkd.ksjs             1\n",
       "whadiz_promoter       1\n",
       "onjvjvjv              1\n",
       "und_rcut              1\n",
       "vishwakarm.karan      1\n",
       "shahidkotwal786       1\n",
       "roushanj9788          1\n",
       "shabna_143            1\n",
       "paras__khanna_        1\n",
       "sabat8645             1\n",
       "h67218223             1\n",
       "uday.thakur648        1\n",
       "saini__sahab__        1\n",
       "Name: username, dtype: int64"
      ]
     },
     "execution_count": 130,
     "metadata": {},
     "output_type": "execute_result"
    }
   ],
   "source": [
    "df_comments[df_comments.datetime.astype(str) == \"2021-07-10 19:03:46\"][\n",
    "    \"username\"\n",
    "].value_counts()"
   ]
  },
  {
   "cell_type": "markdown",
   "id": "aa4ae91f",
   "metadata": {},
   "source": [
    "<br>"
   ]
  },
  {
   "cell_type": "markdown",
   "id": "5e11c05f",
   "metadata": {},
   "source": [
    "#### 2021-08-15 06:13:29"
   ]
  },
  {
   "cell_type": "code",
   "execution_count": 131,
   "id": "fbae0e53",
   "metadata": {},
   "outputs": [
    {
     "data": {
      "text/plain": [
       "😑        2\n",
       "😍😊😘🙈🙈    2\n",
       "😊        1\n",
       "😢        1\n",
       "👍👍👍      1\n",
       "💘💑❤      1\n",
       "👼        1\n",
       "😇        1\n",
       "🙈💘💑❤     1\n",
       "Name: message, dtype: int64"
      ]
     },
     "execution_count": 131,
     "metadata": {},
     "output_type": "execute_result"
    }
   ],
   "source": [
    "df_comments[df_comments.datetime.astype(str) == \"2021-08-15 06:13:29\"][\n",
    "    \"message\"\n",
    "].value_counts()"
   ]
  },
  {
   "cell_type": "code",
   "execution_count": 132,
   "id": "fec77155",
   "metadata": {},
   "outputs": [
    {
     "data": {
      "text/plain": [
       "official_love_thakur_    1\n",
       "gour.avsingh7676         1\n",
       "theleo.messi202          1\n",
       "mv7346714                1\n",
       "fun_with_tmkoc_1560      1\n",
       "sidhanathmane2746        1\n",
       "halka6016                1\n",
       "devil_boy_king_khan      1\n",
       "agsoah89                 1\n",
       "sam4444176               1\n",
       "_your_bruh_              1\n",
       "Name: username, dtype: int64"
      ]
     },
     "execution_count": 132,
     "metadata": {},
     "output_type": "execute_result"
    }
   ],
   "source": [
    "df_comments[df_comments.datetime.astype(str) == \"2021-08-15 06:13:29\"][\n",
    "    \"username\"\n",
    "].value_counts()"
   ]
  },
  {
   "cell_type": "markdown",
   "id": "c6500786",
   "metadata": {},
   "source": [
    "<br>"
   ]
  },
  {
   "cell_type": "markdown",
   "id": "96535b4d",
   "metadata": {},
   "source": [
    "#### 2021-08-15 07:20:19"
   ]
  },
  {
   "cell_type": "code",
   "execution_count": 133,
   "id": "c7411cd4",
   "metadata": {},
   "outputs": [
    {
     "data": {
      "text/plain": [
       "😍       1\n",
       "😍😍😍     1\n",
       "🌍       1\n",
       "😊       1\n",
       "❤❤      1\n",
       "😘😢😢😢    1\n",
       "🙌🙌🙌     1\n",
       "😂😂😂😂    1\n",
       "😘😘😘😘    1\n",
       "💋💋      1\n",
       "Name: message, dtype: int64"
      ]
     },
     "execution_count": 133,
     "metadata": {},
     "output_type": "execute_result"
    }
   ],
   "source": [
    "df_comments[df_comments.datetime.astype(str) == \"2021-08-15 07:20:19\"][\n",
    "    \"message\"\n",
    "].value_counts()"
   ]
  },
  {
   "cell_type": "code",
   "execution_count": 134,
   "id": "fc70d7a2",
   "metadata": {},
   "outputs": [
    {
     "data": {
      "text/plain": [
       "srarmy129             1\n",
       "kadi_r2259            1\n",
       "sarikh_raja           1\n",
       "mang12739             1\n",
       "___rohittt___09999    1\n",
       "divy.ansh4403         1\n",
       "qhgf_y                1\n",
       "smalyly3084           1\n",
       "vabby455              1\n",
       "ig___201              1\n",
       "Name: username, dtype: int64"
      ]
     },
     "execution_count": 134,
     "metadata": {},
     "output_type": "execute_result"
    }
   ],
   "source": [
    "df_comments[df_comments.datetime.astype(str) == \"2021-08-15 07:20:19\"][\n",
    "    \"username\"\n",
    "].value_counts()"
   ]
  },
  {
   "cell_type": "markdown",
   "id": "0e36eb72",
   "metadata": {},
   "source": [
    "<br>"
   ]
  },
  {
   "cell_type": "markdown",
   "id": "574d2e60",
   "metadata": {},
   "source": [
    "#### 2018-10-25 20:52:07"
   ]
  },
  {
   "cell_type": "code",
   "execution_count": 135,
   "id": "e51f1779",
   "metadata": {},
   "outputs": [
    {
     "data": {
      "text/html": [
       "<div>\n",
       "<style scoped>\n",
       "    .dataframe tbody tr th:only-of-type {\n",
       "        vertical-align: middle;\n",
       "    }\n",
       "\n",
       "    .dataframe tbody tr th {\n",
       "        vertical-align: top;\n",
       "    }\n",
       "\n",
       "    .dataframe thead th {\n",
       "        text-align: right;\n",
       "    }\n",
       "</style>\n",
       "<table border=\"1\" class=\"dataframe\">\n",
       "  <thead>\n",
       "    <tr style=\"text-align: right;\">\n",
       "      <th></th>\n",
       "      <th>message</th>\n",
       "      <th>datetime</th>\n",
       "      <th>id</th>\n",
       "      <th>n_replies</th>\n",
       "      <th>n_likes</th>\n",
       "      <th>media_id</th>\n",
       "      <th>parent_id</th>\n",
       "      <th>user_id</th>\n",
       "      <th>username</th>\n",
       "      <th>is_verified</th>\n",
       "      <th>account_url</th>\n",
       "      <th>year</th>\n",
       "      <th>month</th>\n",
       "      <th>dayofmonth</th>\n",
       "      <th>date</th>\n",
       "      <th>hour</th>\n",
       "    </tr>\n",
       "  </thead>\n",
       "  <tbody>\n",
       "    <tr>\n",
       "      <th>538285</th>\n",
       "      <td>great movie</td>\n",
       "      <td>2018-10-25 20:52:07</td>\n",
       "      <td>17993045164038428</td>\n",
       "      <td>0.0</td>\n",
       "      <td>1.0</td>\n",
       "      <td>1898119171314928896</td>\n",
       "      <td>n</td>\n",
       "      <td>3088156712</td>\n",
       "      <td>coolerbaneiran</td>\n",
       "      <td>False</td>\n",
       "      <td>https://www.instagram.com/coolerbaneiran</td>\n",
       "      <td>2018</td>\n",
       "      <td>Oct</td>\n",
       "      <td>25</td>\n",
       "      <td>2018-10-25</td>\n",
       "      <td>20</td>\n",
       "    </tr>\n",
       "    <tr>\n",
       "      <th>538286</th>\n",
       "      <td>oh yeah baby</td>\n",
       "      <td>2018-10-25 20:52:07</td>\n",
       "      <td>17996222773021752</td>\n",
       "      <td>0.0</td>\n",
       "      <td>1.0</td>\n",
       "      <td>1898119171314928896</td>\n",
       "      <td>n</td>\n",
       "      <td>5670174335</td>\n",
       "      <td>spa_les_bains_douches</td>\n",
       "      <td>False</td>\n",
       "      <td>https://www.instagram.com/spa_les_bains_douches</td>\n",
       "      <td>2018</td>\n",
       "      <td>Oct</td>\n",
       "      <td>25</td>\n",
       "      <td>2018-10-25</td>\n",
       "      <td>20</td>\n",
       "    </tr>\n",
       "    <tr>\n",
       "      <th>538377</th>\n",
       "      <td>damn she's smoking hot</td>\n",
       "      <td>2018-10-25 20:52:07</td>\n",
       "      <td>17885828899278722</td>\n",
       "      <td>0.0</td>\n",
       "      <td>1.0</td>\n",
       "      <td>1898119171314928896</td>\n",
       "      <td>n</td>\n",
       "      <td>3067805787</td>\n",
       "      <td>hafyfon</td>\n",
       "      <td>False</td>\n",
       "      <td>https://www.instagram.com/hafyfon</td>\n",
       "      <td>2018</td>\n",
       "      <td>Oct</td>\n",
       "      <td>25</td>\n",
       "      <td>2018-10-25</td>\n",
       "      <td>20</td>\n",
       "    </tr>\n",
       "    <tr>\n",
       "      <th>538378</th>\n",
       "      <td>kickass movie</td>\n",
       "      <td>2018-10-25 20:52:07</td>\n",
       "      <td>17929660612210100</td>\n",
       "      <td>0.0</td>\n",
       "      <td>1.0</td>\n",
       "      <td>1898119171314928896</td>\n",
       "      <td>n</td>\n",
       "      <td>6670998243</td>\n",
       "      <td>managerfixedgames</td>\n",
       "      <td>False</td>\n",
       "      <td>https://www.instagram.com/managerfixedgames</td>\n",
       "      <td>2018</td>\n",
       "      <td>Oct</td>\n",
       "      <td>25</td>\n",
       "      <td>2018-10-25</td>\n",
       "      <td>20</td>\n",
       "    </tr>\n",
       "    <tr>\n",
       "      <th>538379</th>\n",
       "      <td>great movie</td>\n",
       "      <td>2018-10-25 20:52:07</td>\n",
       "      <td>17956702552173344</td>\n",
       "      <td>0.0</td>\n",
       "      <td>1.0</td>\n",
       "      <td>1898119171314928896</td>\n",
       "      <td>n</td>\n",
       "      <td>6671543291</td>\n",
       "      <td>dnieper_inst</td>\n",
       "      <td>False</td>\n",
       "      <td>https://www.instagram.com/dnieper_inst</td>\n",
       "      <td>2018</td>\n",
       "      <td>Oct</td>\n",
       "      <td>25</td>\n",
       "      <td>2018-10-25</td>\n",
       "      <td>20</td>\n",
       "    </tr>\n",
       "    <tr>\n",
       "      <th>538380</th>\n",
       "      <td>this looks awesome</td>\n",
       "      <td>2018-10-25 20:52:07</td>\n",
       "      <td>17956911073174644</td>\n",
       "      <td>0.0</td>\n",
       "      <td>1.0</td>\n",
       "      <td>1898119171314928896</td>\n",
       "      <td>n</td>\n",
       "      <td>3586948371</td>\n",
       "      <td>rasched.timunga</td>\n",
       "      <td>False</td>\n",
       "      <td>https://www.instagram.com/rasched.timunga</td>\n",
       "      <td>2018</td>\n",
       "      <td>Oct</td>\n",
       "      <td>25</td>\n",
       "      <td>2018-10-25</td>\n",
       "      <td>20</td>\n",
       "    </tr>\n",
       "    <tr>\n",
       "      <th>538381</th>\n",
       "      <td>great movie</td>\n",
       "      <td>2018-10-25 20:52:07</td>\n",
       "      <td>17968728649190868</td>\n",
       "      <td>0.0</td>\n",
       "      <td>1.0</td>\n",
       "      <td>1898119171314928896</td>\n",
       "      <td>n</td>\n",
       "      <td>6113732853</td>\n",
       "      <td>lgs_revisao</td>\n",
       "      <td>False</td>\n",
       "      <td>https://www.instagram.com/lgs_revisao</td>\n",
       "      <td>2018</td>\n",
       "      <td>Oct</td>\n",
       "      <td>25</td>\n",
       "      <td>2018-10-25</td>\n",
       "      <td>20</td>\n",
       "    </tr>\n",
       "    <tr>\n",
       "      <th>538382</th>\n",
       "      <td>going to see this</td>\n",
       "      <td>2018-10-25 20:52:07</td>\n",
       "      <td>17977956193129384</td>\n",
       "      <td>0.0</td>\n",
       "      <td>1.0</td>\n",
       "      <td>1898119171314928896</td>\n",
       "      <td>n</td>\n",
       "      <td>2276846911</td>\n",
       "      <td>_lasanha__</td>\n",
       "      <td>False</td>\n",
       "      <td>https://www.instagram.com/_lasanha__</td>\n",
       "      <td>2018</td>\n",
       "      <td>Oct</td>\n",
       "      <td>25</td>\n",
       "      <td>2018-10-25</td>\n",
       "      <td>20</td>\n",
       "    </tr>\n",
       "    <tr>\n",
       "      <th>538383</th>\n",
       "      <td>this looks amazing</td>\n",
       "      <td>2018-10-25 20:52:07</td>\n",
       "      <td>17984109925072804</td>\n",
       "      <td>0.0</td>\n",
       "      <td>1.0</td>\n",
       "      <td>1898119171314928896</td>\n",
       "      <td>n</td>\n",
       "      <td>3649970085</td>\n",
       "      <td>zhonggenliangxing4019</td>\n",
       "      <td>False</td>\n",
       "      <td>https://www.instagram.com/zhonggenliangxing4019</td>\n",
       "      <td>2018</td>\n",
       "      <td>Oct</td>\n",
       "      <td>25</td>\n",
       "      <td>2018-10-25</td>\n",
       "      <td>20</td>\n",
       "    </tr>\n",
       "    <tr>\n",
       "      <th>538384</th>\n",
       "      <td>oh yeah baby</td>\n",
       "      <td>2018-10-25 20:52:07</td>\n",
       "      <td>17992208497050608</td>\n",
       "      <td>0.0</td>\n",
       "      <td>1.0</td>\n",
       "      <td>1898119171314928896</td>\n",
       "      <td>n</td>\n",
       "      <td>4376244940</td>\n",
       "      <td>slicklubeco</td>\n",
       "      <td>False</td>\n",
       "      <td>https://www.instagram.com/slicklubeco</td>\n",
       "      <td>2018</td>\n",
       "      <td>Oct</td>\n",
       "      <td>25</td>\n",
       "      <td>2018-10-25</td>\n",
       "      <td>20</td>\n",
       "    </tr>\n",
       "  </tbody>\n",
       "</table>\n",
       "</div>"
      ],
      "text/plain": [
       "                       message            datetime                 id  \\\n",
       "538285             great movie 2018-10-25 20:52:07  17993045164038428   \n",
       "538286            oh yeah baby 2018-10-25 20:52:07  17996222773021752   \n",
       "538377  damn she's smoking hot 2018-10-25 20:52:07  17885828899278722   \n",
       "538378           kickass movie 2018-10-25 20:52:07  17929660612210100   \n",
       "538379             great movie 2018-10-25 20:52:07  17956702552173344   \n",
       "538380      this looks awesome 2018-10-25 20:52:07  17956911073174644   \n",
       "538381             great movie 2018-10-25 20:52:07  17968728649190868   \n",
       "538382       going to see this 2018-10-25 20:52:07  17977956193129384   \n",
       "538383      this looks amazing 2018-10-25 20:52:07  17984109925072804   \n",
       "538384            oh yeah baby 2018-10-25 20:52:07  17992208497050608   \n",
       "\n",
       "        n_replies  n_likes             media_id parent_id     user_id  \\\n",
       "538285        0.0      1.0  1898119171314928896         n  3088156712   \n",
       "538286        0.0      1.0  1898119171314928896         n  5670174335   \n",
       "538377        0.0      1.0  1898119171314928896         n  3067805787   \n",
       "538378        0.0      1.0  1898119171314928896         n  6670998243   \n",
       "538379        0.0      1.0  1898119171314928896         n  6671543291   \n",
       "538380        0.0      1.0  1898119171314928896         n  3586948371   \n",
       "538381        0.0      1.0  1898119171314928896         n  6113732853   \n",
       "538382        0.0      1.0  1898119171314928896         n  2276846911   \n",
       "538383        0.0      1.0  1898119171314928896         n  3649970085   \n",
       "538384        0.0      1.0  1898119171314928896         n  4376244940   \n",
       "\n",
       "                     username  is_verified  \\\n",
       "538285         coolerbaneiran        False   \n",
       "538286  spa_les_bains_douches        False   \n",
       "538377                hafyfon        False   \n",
       "538378      managerfixedgames        False   \n",
       "538379           dnieper_inst        False   \n",
       "538380        rasched.timunga        False   \n",
       "538381            lgs_revisao        False   \n",
       "538382             _lasanha__        False   \n",
       "538383  zhonggenliangxing4019        False   \n",
       "538384            slicklubeco        False   \n",
       "\n",
       "                                            account_url  year month  \\\n",
       "538285         https://www.instagram.com/coolerbaneiran  2018   Oct   \n",
       "538286  https://www.instagram.com/spa_les_bains_douches  2018   Oct   \n",
       "538377                https://www.instagram.com/hafyfon  2018   Oct   \n",
       "538378      https://www.instagram.com/managerfixedgames  2018   Oct   \n",
       "538379           https://www.instagram.com/dnieper_inst  2018   Oct   \n",
       "538380        https://www.instagram.com/rasched.timunga  2018   Oct   \n",
       "538381            https://www.instagram.com/lgs_revisao  2018   Oct   \n",
       "538382             https://www.instagram.com/_lasanha__  2018   Oct   \n",
       "538383  https://www.instagram.com/zhonggenliangxing4019  2018   Oct   \n",
       "538384            https://www.instagram.com/slicklubeco  2018   Oct   \n",
       "\n",
       "        dayofmonth        date  hour  \n",
       "538285          25  2018-10-25    20  \n",
       "538286          25  2018-10-25    20  \n",
       "538377          25  2018-10-25    20  \n",
       "538378          25  2018-10-25    20  \n",
       "538379          25  2018-10-25    20  \n",
       "538380          25  2018-10-25    20  \n",
       "538381          25  2018-10-25    20  \n",
       "538382          25  2018-10-25    20  \n",
       "538383          25  2018-10-25    20  \n",
       "538384          25  2018-10-25    20  "
      ]
     },
     "execution_count": 135,
     "metadata": {},
     "output_type": "execute_result"
    }
   ],
   "source": [
    "df_comments[df_comments.datetime.astype(str) == \"2018-10-25 20:52:07\"]"
   ]
  },
  {
   "cell_type": "code",
   "execution_count": 136,
   "id": "27ce4c57",
   "metadata": {},
   "outputs": [
    {
     "data": {
      "text/plain": [
       "great movie               3\n",
       "oh yeah baby              2\n",
       "damn she's smoking hot    1\n",
       "kickass movie             1\n",
       "this looks awesome        1\n",
       "going to see this         1\n",
       "this looks amazing        1\n",
       "Name: message, dtype: int64"
      ]
     },
     "execution_count": 136,
     "metadata": {},
     "output_type": "execute_result"
    }
   ],
   "source": [
    "df_comments[df_comments.datetime.astype(str) == \"2018-10-25 20:52:07\"][\n",
    "    \"message\"\n",
    "].value_counts()"
   ]
  },
  {
   "cell_type": "code",
   "execution_count": 137,
   "id": "ae61f6af",
   "metadata": {},
   "outputs": [
    {
     "data": {
      "text/plain": [
       "coolerbaneiran           1\n",
       "spa_les_bains_douches    1\n",
       "hafyfon                  1\n",
       "managerfixedgames        1\n",
       "dnieper_inst             1\n",
       "rasched.timunga          1\n",
       "lgs_revisao              1\n",
       "_lasanha__               1\n",
       "zhonggenliangxing4019    1\n",
       "slicklubeco              1\n",
       "Name: username, dtype: int64"
      ]
     },
     "execution_count": 137,
     "metadata": {},
     "output_type": "execute_result"
    }
   ],
   "source": [
    "df_comments[df_comments.datetime.astype(str) == \"2018-10-25 20:52:07\"][\n",
    "    \"username\"\n",
    "].value_counts()"
   ]
  },
  {
   "cell_type": "markdown",
   "id": "61524649",
   "metadata": {},
   "source": [
    "   "
   ]
  },
  {
   "cell_type": "markdown",
   "id": "b4e74c67",
   "metadata": {},
   "source": [
    "   "
   ]
  },
  {
   "cell_type": "markdown",
   "id": "b6e404a7",
   "metadata": {},
   "source": [
    "## Negative Text"
   ]
  },
  {
   "cell_type": "code",
   "execution_count": 3,
   "id": "53125dd9",
   "metadata": {},
   "outputs": [],
   "source": [
    "neg_text = {'#fuckamberheard',\n",
    " '50 million',\n",
    " '7 million',\n",
    " '@amberheard fuck you',\n",
    " 'abuse',\n",
    " 'abuser',\n",
    " 'abusing',\n",
    " 'aggressively pull',\n",
    " 'amber abus',\n",
    " 'amber heard abus',\n",
    " 'amber lunge',\n",
    " 'amber-abus',\n",
    " 'amber-heard-abus',\n",
    " 'amberheardisaliar',\n",
    " 'amberheardisanabuser',\n",
    " 'amberheardisanabuserandliar',\n",
    " 'amberisanabuser',\n",
    " 'ambertheabuser',\n",
    " 'amberturd',\n",
    " 'assaulted johnny',\n",
    " 'because she is a woman',\n",
    " 'because she’s a woman',\n",
    " 'bitch',\n",
    " 'boycott',\n",
    " 'boycottamberheard',\n",
    " 'burn in hell',\n",
    " 'change.org',\n",
    " 'claim',\n",
    " 'clawing',\n",
    " 'clown',\n",
    " \"couldn't keep her mouth shut\",\n",
    " 'cunt',\n",
    " 'death',\n",
    " 'die',\n",
    " 'diecunt',\n",
    " 'disgusting',\n",
    " 'domestic violence',\n",
    " 'exposing her ass',\n",
    " 'fake victim',\n",
    " 'felony',\n",
    " 'fire amber',\n",
    " 'fire her',\n",
    " 'fireamberheard',\n",
    " 'fireamberheardfromaquaman',\n",
    " 'fired',\n",
    " 'fuck  amber',\n",
    " 'fuck @amberheard',\n",
    " 'fuck amber',\n",
    " 'fuck amber heard',\n",
    " 'fuck her',\n",
    " 'fuck herself',\n",
    " 'fuck off',\n",
    " 'fuck that bitch',\n",
    " 'fuck this bitch',\n",
    " 'fuck u @amberheard',\n",
    " 'fuck you @amberheard',\n",
    " 'fuck you amber',\n",
    " 'fuckamber',\n",
    " 'fuckamberheard',\n",
    " 'fucked off',\n",
    " 'fucked the right off',\n",
    " 'fucking abuser',\n",
    " 'fucking bitch',\n",
    " 'fucking bullshit',\n",
    " 'fuckthesun',\n",
    " 'gold digger',\n",
    " 'how can you still have fans',\n",
    " 'jail',\n",
    " 'jailforamberheard',\n",
    " 'johnnydeppforever',\n",
    " 'justice for johnny',\n",
    " 'justiceforjohnnydepp',\n",
    " 'lawsuit',\n",
    " 'lies',\n",
    " \"no one will believe you're a victim because you're a man\",\n",
    " 'nojohnnynopotc',\n",
    " 'nominated for shit',\n",
    " 'petition',\n",
    " 'piece of shit',\n",
    " 'prison',\n",
    " 'punched',\n",
    " 'remove amber',\n",
    " 'remove-amber',\n",
    " 'removeamberheardsfromaquaman2',\n",
    " 'removed',\n",
    " 'scammer',\n",
    " 'she should kys',\n",
    " 'shit',\n",
    " 'stupid',\n",
    " 'stupid ass',\n",
    " 'threw a vodka bottle',\n",
    " 'tugging',\n",
    " 'violen',\n",
    " 'wearewhityoujohnnydepp',\n",
    " 'wearewithyoujohnnydepp',\n",
    " 'whorish'}"
   ]
  },
  {
   "cell_type": "markdown",
   "id": "4ac52a00",
   "metadata": {},
   "source": [
    "## Negative Users"
   ]
  },
  {
   "cell_type": "code",
   "execution_count": 2,
   "id": "a91b1097",
   "metadata": {},
   "outputs": [],
   "source": [
    "neg_users = {'_.yarleth_albornoz._',\n",
    " '_dope_black_unicorn_',\n",
    " '_jas_min_pr._',\n",
    " 'alexandr_while',\n",
    " 'alicewalker_17',\n",
    " 'ambe.rheardisanabuser',\n",
    " 'amberheardabottleofwineopen',\n",
    " 'andmen.1998',\n",
    " 'annalena_1963',\n",
    " 'azulj.nolasco',\n",
    " 'babikate6',\n",
    " 'ballikaya_defne_7',\n",
    " 'becauseitsjohnnydepp',\n",
    " 'blancx_agender',\n",
    " 'bonecrackii',\n",
    " 'bun.aer',\n",
    " 'c_shortt',\n",
    " 'cconnny',\n",
    " 'charliothy',\n",
    " 'chris_darden1999',\n",
    " 'colepoff',\n",
    " 'crxrv',\n",
    " 'dana__milash',\n",
    " 'di22mendez',\n",
    " 'diann__lee',\n",
    " 'divulgaaa.bahia',\n",
    " 'dylanfrost1995',\n",
    " 'engajamento800',\n",
    " 'eyluuulyildirim',\n",
    " 'feelselle',\n",
    " 'fernandesjpablo',\n",
    " 'gandomataee',\n",
    " 'hani._cockatiel',\n",
    " 'hosein.sarsam',\n",
    " 'iamatefehr',\n",
    " 'its_offical_sophie1',\n",
    " 'jdbestmoments',\n",
    " 'jitshff8647jyff',\n",
    " 'johnny.depp.is.innocent',\n",
    " 'johnnydepp_gothic',\n",
    " 'johnnyforever_2005',\n",
    " 'justiceforheard',\n",
    " 'kai_t_2005',\n",
    " 'karolsevillaofcfanclub',\n",
    " 'kingskippy1987',\n",
    " 'kurtc0bainsslut',\n",
    " 'lexfx11',\n",
    " 'littleflowerofmercy',\n",
    " 'lrichardson71',\n",
    " 'machelyyyyy',\n",
    " 'mackenziewilson27',\n",
    " 'mackenzilaplante',\n",
    " 'maryam_khaledi_77',\n",
    " 'mathxy._01',\n",
    " 'mje681',\n",
    " 'monsoonglasgow',\n",
    " 'moonbeam429',\n",
    " 'muhammadsafi__',\n",
    " 'natchayaleejin',\n",
    " 'naye6504',\n",
    " 'netos.k',\n",
    " 'ngnrzi',\n",
    " 'olvorka',\n",
    " 'ownage130',\n",
    " 'pabloziegl',\n",
    " 'pauu.eg',\n",
    " 'queenmusicvideo',\n",
    " 'queenmusicvidoe',\n",
    " 'ranchkh24',\n",
    " 'razaopetraglia',\n",
    " 'rinisthere_',\n",
    " 'roksana_jafari',\n",
    " 'romaravera',\n",
    " 'sahartaleb___',\n",
    " 'sakazuki92',\n",
    " 'samanthastar53',\n",
    " 'santino_zampella',\n",
    " 'sassything90',\n",
    " 'sh_qqp99',\n",
    " 'shellpoll26',\n",
    " 'staffordcarlis1',\n",
    " 'thejacobostrowski',\n",
    " 'theweeknd_avakin',\n",
    " 'theworldofgeeks99up',\n",
    " 'timv777',\n",
    " 'tom_hiddleston_ir',\n",
    " 'unveilyourfaves',\n",
    " 'wewantjusticeforjohnnydepp',\n",
    " 'yourfavemuzzie',\n",
    " 'zhra.006'}"
   ]
  },
  {
   "cell_type": "markdown",
   "id": "6fa3d281",
   "metadata": {},
   "source": [
    "    "
   ]
  },
  {
   "cell_type": "markdown",
   "id": "f5b8919c",
   "metadata": {},
   "source": [
    "<a id = 'conclusions'></a>\n",
    "## Conclusions\n",
    "<ul>\n",
    "<li><a href=\"#intro\">Introduction</a></li>\n",
    "<li><a href=\"#eda\">Exploratory Data Analysis</a></li>\n",
    "<li><a href=\"#conclusions\"><b>Conclusions</b></a></li>\n",
    "</ul>"
   ]
  },
  {
   "cell_type": "markdown",
   "id": "be73ca19",
   "metadata": {},
   "source": [
    "   "
   ]
  },
  {
   "cell_type": "markdown",
   "id": "261e74ae",
   "metadata": {},
   "source": [
    "<a id = 'end'><a/>\n",
    "# END OF NOTEBOOK"
   ]
  },
  {
   "cell_type": "markdown",
   "id": "cb59516f",
   "metadata": {},
   "source": [
    "   "
   ]
  }
 ],
 "metadata": {
  "kernelspec": {
   "display_name": "Python 3 (ipykernel)",
   "language": "python",
   "name": "python3"
  },
  "language_info": {
   "codemirror_mode": {
    "name": "ipython",
    "version": 3
   },
   "file_extension": ".py",
   "mimetype": "text/x-python",
   "name": "python",
   "nbconvert_exporter": "python",
   "pygments_lexer": "ipython3",
   "version": "3.8.12"
  }
 },
 "nbformat": 4,
 "nbformat_minor": 5
}
