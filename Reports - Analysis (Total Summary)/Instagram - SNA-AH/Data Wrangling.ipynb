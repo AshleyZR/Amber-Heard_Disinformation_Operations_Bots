{
 "cells": [
  {
   "cell_type": "markdown",
   "id": "89432a10",
   "metadata": {},
   "source": [
    "# Social Network Analysis - Amber Heard Case - Instagram\n",
    "Adel Abu Hashim & Mahmoud Nagy - November 2021"
   ]
  },
  {
   "cell_type": "markdown",
   "id": "ef088fe6",
   "metadata": {},
   "source": [
    "## Table of Contents\n",
    "<ul>\n",
    "<li><a href=\"#intro\"><b>Introduction</b></a></li>\n",
    "<li><a href=\"#wrangling\">Data Wrangling</a></li>\n",
    "<li><a href=\"#end\">End of Notebook</a></li>  \n",
    "</ul>"
   ]
  },
  {
   "cell_type": "markdown",
   "id": "9a3183a0",
   "metadata": {},
   "source": [
    "<a id='intro'></a>\n",
    "## Introduction\n",
    "\n",
    ">This case study aims to help **Amber Heard** <br>\n",
    "> \n",
    "> By analyzing new accounts posting/ commenting against a victim of a Social Bot Disinformation/Influence Operation. \n",
    "> \n",
    "> **We have two main datasets**: <br>\n",
    ">(The datasets are screaped from **Instagram**).\n",
    "> - 1- A dataset with posts data.\n",
    "> - 2- A dataset with comments data."
   ]
  },
  {
   "cell_type": "code",
   "execution_count": 1,
   "id": "5dafd797",
   "metadata": {},
   "outputs": [
    {
     "name": "stderr",
     "output_type": "stream",
     "text": [
      "[nltk_data] Downloading package stopwords to\n",
      "[nltk_data]     /Users/mahmoudnagy/nltk_data...\n",
      "[nltk_data]   Package stopwords is already up-to-date!\n"
     ]
    }
   ],
   "source": [
    "import pandas as pd\n",
    "import os \n",
    "from datetime import datetime\n",
    "import numpy as np\n",
    "import matplotlib.pyplot as plt\n",
    "import plotly.express as px\n",
    "import plotly.graph_objects as go\n",
    "import warnings\n",
    "import re\n",
    "warnings.filterwarnings('ignore')\n",
    "%matplotlib inline\n",
    "import plotly.io as pio\n",
    "import nltk\n",
    "from nltk.corpus import stopwords\n",
    "nltk.download('stopwords')\n",
    "from nltk.tokenize import word_tokenize\n",
    "import ast"
   ]
  },
  {
   "cell_type": "code",
   "execution_count": 2,
   "id": "de8479a6",
   "metadata": {},
   "outputs": [],
   "source": [
    "# .. is the container directory. So ../.. means \"up\" twice.\n",
    "os.chdir(\"../Data\")"
   ]
  },
  {
   "cell_type": "markdown",
   "id": "9f95b06d",
   "metadata": {},
   "source": [
    "https://www.geeksforgeeks.org/args-kwargs-python/"
   ]
  },
  {
   "cell_type": "markdown",
   "id": "64af9c05",
   "metadata": {},
   "source": [
    "Note: “We use the “wildcard” or “*” notation like this – *args OR **kwargs – as our function’s argument when we have doubts about the number of  arguments we should pass in a function.” "
   ]
  },
  {
   "cell_type": "markdown",
   "id": "4e7d2155",
   "metadata": {},
   "source": [
    "Using the *, the variable that we associate with the * becomes an iterable meaning you can do things like iterate over it, run some higher-order functions such as map and filter, etc."
   ]
  },
  {
   "cell_type": "markdown",
   "id": "caed0127",
   "metadata": {},
   "source": [
    "<a id='wrangling'></a>\n",
    "# Data Wrangling\n",
    "\n",
    "<ul>\n",
    "<li><a href=\"#intro\">Introduction</a></li>\n",
    "<li><a href=\"#wrangling\"><b>Data Wrangling</b></a></li>\n",
    "<li><a href=\"#end\">End of Notebook</a></li>  \n",
    "</ul>\n",
    "\n",
    "<ul>\n",
    "<li><a href=\"#posts\"><b>Posts</b></a></li>  \n",
    "<li><a href=\"#comments\">Comments</a></li>  \n",
    "</ul>"
   ]
  },
  {
   "cell_type": "markdown",
   "id": "26744d27",
   "metadata": {},
   "source": [
    "<a id='posts'></a>\n",
    "## Posts"
   ]
  },
  {
   "cell_type": "code",
   "execution_count": 3,
   "id": "8a03fe2b",
   "metadata": {
    "scrolled": true
   },
   "outputs": [
    {
     "name": "stdout",
     "output_type": "stream",
     "text": [
      "(193967, 16)\n"
     ]
    },
    {
     "data": {
      "text/html": [
       "<div>\n",
       "<style scoped>\n",
       "    .dataframe tbody tr th:only-of-type {\n",
       "        vertical-align: middle;\n",
       "    }\n",
       "\n",
       "    .dataframe tbody tr th {\n",
       "        vertical-align: top;\n",
       "    }\n",
       "\n",
       "    .dataframe thead th {\n",
       "        text-align: right;\n",
       "    }\n",
       "</style>\n",
       "<table border=\"1\" class=\"dataframe\">\n",
       "  <thead>\n",
       "    <tr style=\"text-align: right;\">\n",
       "      <th></th>\n",
       "      <th>id</th>\n",
       "      <th>shortcode</th>\n",
       "      <th>display_url</th>\n",
       "      <th>display_resources</th>\n",
       "      <th>is_video</th>\n",
       "      <th>edge_media_to_caption.edges</th>\n",
       "      <th>location.id</th>\n",
       "      <th>location.has_public_page</th>\n",
       "      <th>location.name</th>\n",
       "      <th>location.slug</th>\n",
       "      <th>location.address_json</th>\n",
       "      <th>from.id</th>\n",
       "      <th>from.username</th>\n",
       "      <th>from.url</th>\n",
       "      <th>location</th>\n",
       "      <th>taken_at_timestamp</th>\n",
       "    </tr>\n",
       "  </thead>\n",
       "  <tbody>\n",
       "    <tr>\n",
       "      <th>0</th>\n",
       "      <td>2312672024680952662</td>\n",
       "      <td>2312672024680952662</td>\n",
       "      <td>https://instagram.fmci2-1.fna.fbcdn.net/v/t51....</td>\n",
       "      <td>[{'src': 'https://instagram.fmci2-1.fna.fbcdn....</td>\n",
       "      <td>False</td>\n",
       "      <td>[{'node': {'text': 'According to the Digital t...</td>\n",
       "      <td>255561330.0</td>\n",
       "      <td>True</td>\n",
       "      <td>Hollywood</td>\n",
       "      <td>hollywood</td>\n",
       "      <td>{\"street_address\": \"\", \"zip_code\": \"90028\", \"c...</td>\n",
       "      <td>32529918546</td>\n",
       "      <td>cinescenes_</td>\n",
       "      <td>https://www.instagram.com/cinescenes_</td>\n",
       "      <td>NaN</td>\n",
       "      <td>NaN</td>\n",
       "    </tr>\n",
       "    <tr>\n",
       "      <th>1</th>\n",
       "      <td>2337634847974873162</td>\n",
       "      <td>2337634847974873162</td>\n",
       "      <td>https://scontent-lax3-1.cdninstagram.com/v/t51...</td>\n",
       "      <td>[{'src': 'https://scontent-lax3-1.cdninstagram...</td>\n",
       "      <td>False</td>\n",
       "      <td>[{'node': {'text': 'My girl❤️'}}]</td>\n",
       "      <td>NaN</td>\n",
       "      <td>NaN</td>\n",
       "      <td>NaN</td>\n",
       "      <td>NaN</td>\n",
       "      <td>NaN</td>\n",
       "      <td>3988263563</td>\n",
       "      <td>scarlettjohansonoffcial</td>\n",
       "      <td>https://www.instagram.com/scarlettjohansonoffcial</td>\n",
       "      <td>NaN</td>\n",
       "      <td>NaN</td>\n",
       "    </tr>\n",
       "    <tr>\n",
       "      <th>2</th>\n",
       "      <td>2383123126627446477</td>\n",
       "      <td>2383123126627446477</td>\n",
       "      <td>https://scontent-lga3-1.cdninstagram.com/v/t51...</td>\n",
       "      <td>[{'src': 'https://scontent-lga3-1.cdninstagram...</td>\n",
       "      <td>False</td>\n",
       "      <td>[{'node': {'text': '❤❤❤\\n#eizagonzalez #alexan...</td>\n",
       "      <td>212999109.0</td>\n",
       "      <td>True</td>\n",
       "      <td>Los Angeles, California</td>\n",
       "      <td>los-angeles-california</td>\n",
       "      <td>{\"street_address\": \"\", \"zip_code\": \"\", \"city_n...</td>\n",
       "      <td>38331031416</td>\n",
       "      <td>divine.hollywood.women</td>\n",
       "      <td>https://www.instagram.com/divine.hollywood.women</td>\n",
       "      <td>NaN</td>\n",
       "      <td>NaN</td>\n",
       "    </tr>\n",
       "    <tr>\n",
       "      <th>3</th>\n",
       "      <td>2389292367830952143</td>\n",
       "      <td>2389292367830952143</td>\n",
       "      <td>https://scontent-lga3-1.cdninstagram.com/v/t51...</td>\n",
       "      <td>[{'src': 'https://scontent-lga3-1.cdninstagram...</td>\n",
       "      <td>False</td>\n",
       "      <td>[{'node': {'text': 'Use #KarenGillanslover \\nT...</td>\n",
       "      <td>NaN</td>\n",
       "      <td>NaN</td>\n",
       "      <td>NaN</td>\n",
       "      <td>NaN</td>\n",
       "      <td>NaN</td>\n",
       "      <td>18754453450</td>\n",
       "      <td>karen_gillans_lover</td>\n",
       "      <td>https://www.instagram.com/karen_gillans_lover</td>\n",
       "      <td>NaN</td>\n",
       "      <td>NaN</td>\n",
       "    </tr>\n",
       "    <tr>\n",
       "      <th>4</th>\n",
       "      <td>2484525220804152653</td>\n",
       "      <td>2484525220804152653</td>\n",
       "      <td>https://scontent-lga3-1.cdninstagram.com/v/t51...</td>\n",
       "      <td>[{'src': 'https://scontent-lga3-1.cdninstagram...</td>\n",
       "      <td>False</td>\n",
       "      <td>[{'node': {'text': '.\\nجانی دپ به دنبال پروژه\\...</td>\n",
       "      <td>NaN</td>\n",
       "      <td>NaN</td>\n",
       "      <td>NaN</td>\n",
       "      <td>NaN</td>\n",
       "      <td>NaN</td>\n",
       "      <td>7105766142</td>\n",
       "      <td>cinemafars.official</td>\n",
       "      <td>https://www.instagram.com/cinemafars.official</td>\n",
       "      <td>NaN</td>\n",
       "      <td>NaN</td>\n",
       "    </tr>\n",
       "  </tbody>\n",
       "</table>\n",
       "</div>"
      ],
      "text/plain": [
       "                    id            shortcode  \\\n",
       "0  2312672024680952662  2312672024680952662   \n",
       "1  2337634847974873162  2337634847974873162   \n",
       "2  2383123126627446477  2383123126627446477   \n",
       "3  2389292367830952143  2389292367830952143   \n",
       "4  2484525220804152653  2484525220804152653   \n",
       "\n",
       "                                         display_url  \\\n",
       "0  https://instagram.fmci2-1.fna.fbcdn.net/v/t51....   \n",
       "1  https://scontent-lax3-1.cdninstagram.com/v/t51...   \n",
       "2  https://scontent-lga3-1.cdninstagram.com/v/t51...   \n",
       "3  https://scontent-lga3-1.cdninstagram.com/v/t51...   \n",
       "4  https://scontent-lga3-1.cdninstagram.com/v/t51...   \n",
       "\n",
       "                                   display_resources  is_video  \\\n",
       "0  [{'src': 'https://instagram.fmci2-1.fna.fbcdn....     False   \n",
       "1  [{'src': 'https://scontent-lax3-1.cdninstagram...     False   \n",
       "2  [{'src': 'https://scontent-lga3-1.cdninstagram...     False   \n",
       "3  [{'src': 'https://scontent-lga3-1.cdninstagram...     False   \n",
       "4  [{'src': 'https://scontent-lga3-1.cdninstagram...     False   \n",
       "\n",
       "                         edge_media_to_caption.edges  location.id  \\\n",
       "0  [{'node': {'text': 'According to the Digital t...  255561330.0   \n",
       "1                  [{'node': {'text': 'My girl❤️'}}]          NaN   \n",
       "2  [{'node': {'text': '❤❤❤\\n#eizagonzalez #alexan...  212999109.0   \n",
       "3  [{'node': {'text': 'Use #KarenGillanslover \\nT...          NaN   \n",
       "4  [{'node': {'text': '.\\nجانی دپ به دنبال پروژه\\...          NaN   \n",
       "\n",
       "  location.has_public_page            location.name           location.slug  \\\n",
       "0                     True                Hollywood               hollywood   \n",
       "1                      NaN                      NaN                     NaN   \n",
       "2                     True  Los Angeles, California  los-angeles-california   \n",
       "3                      NaN                      NaN                     NaN   \n",
       "4                      NaN                      NaN                     NaN   \n",
       "\n",
       "                               location.address_json      from.id  \\\n",
       "0  {\"street_address\": \"\", \"zip_code\": \"90028\", \"c...  32529918546   \n",
       "1                                                NaN   3988263563   \n",
       "2  {\"street_address\": \"\", \"zip_code\": \"\", \"city_n...  38331031416   \n",
       "3                                                NaN  18754453450   \n",
       "4                                                NaN   7105766142   \n",
       "\n",
       "             from.username                                           from.url  \\\n",
       "0              cinescenes_              https://www.instagram.com/cinescenes_   \n",
       "1  scarlettjohansonoffcial  https://www.instagram.com/scarlettjohansonoffcial   \n",
       "2   divine.hollywood.women   https://www.instagram.com/divine.hollywood.women   \n",
       "3      karen_gillans_lover      https://www.instagram.com/karen_gillans_lover   \n",
       "4      cinemafars.official      https://www.instagram.com/cinemafars.official   \n",
       "\n",
       "   location  taken_at_timestamp  \n",
       "0       NaN                 NaN  \n",
       "1       NaN                 NaN  \n",
       "2       NaN                 NaN  \n",
       "3       NaN                 NaN  \n",
       "4       NaN                 NaN  "
      ]
     },
     "execution_count": 3,
     "metadata": {},
     "output_type": "execute_result"
    }
   ],
   "source": [
    "df_posts = pd.read_csv('posts.csv')\n",
    "print(df_posts.shape)\n",
    "df_posts.head()"
   ]
  },
  {
   "cell_type": "code",
   "execution_count": 4,
   "id": "d1a372e9",
   "metadata": {},
   "outputs": [
    {
     "name": "stdout",
     "output_type": "stream",
     "text": [
      "<class 'pandas.core.frame.DataFrame'>\n",
      "RangeIndex: 193967 entries, 0 to 193966\n",
      "Data columns (total 16 columns):\n",
      " #   Column                       Non-Null Count   Dtype  \n",
      "---  ------                       --------------   -----  \n",
      " 0   id                           193967 non-null  int64  \n",
      " 1   shortcode                    193967 non-null  int64  \n",
      " 2   display_url                  193967 non-null  object \n",
      " 3   display_resources            193967 non-null  object \n",
      " 4   is_video                     193967 non-null  bool   \n",
      " 5   edge_media_to_caption.edges  193967 non-null  object \n",
      " 6   location.id                  22682 non-null   float64\n",
      " 7   location.has_public_page     22682 non-null   object \n",
      " 8   location.name                22682 non-null   object \n",
      " 9   location.slug                21939 non-null   object \n",
      " 10  location.address_json        21848 non-null   object \n",
      " 11  from.id                      193967 non-null  int64  \n",
      " 12  from.username                193967 non-null  object \n",
      " 13  from.url                     193967 non-null  object \n",
      " 14  location                     0 non-null       float64\n",
      " 15  taken_at_timestamp           33 non-null      float64\n",
      "dtypes: bool(1), float64(3), int64(3), object(9)\n",
      "memory usage: 22.4+ MB\n"
     ]
    }
   ],
   "source": [
    "df_posts.info()"
   ]
  },
  {
   "cell_type": "code",
   "execution_count": 5,
   "id": "aaf89992",
   "metadata": {},
   "outputs": [
    {
     "name": "stdout",
     "output_type": "stream",
     "text": [
      "The number of NaNs in id: 0\n",
      "The number of NaNs in shortcode: 0\n",
      "The number of NaNs in display_url: 0\n",
      "The number of NaNs in display_resources: 0\n",
      "The number of NaNs in is_video: 0\n",
      "The number of NaNs in edge_media_to_caption.edges: 0\n",
      "The number of NaNs in location.id: 171285\n",
      "The number of NaNs in location.has_public_page: 171285\n",
      "The number of NaNs in location.name: 171285\n",
      "The number of NaNs in location.slug: 172028\n",
      "The number of NaNs in location.address_json: 172119\n",
      "The number of NaNs in from.id: 0\n",
      "The number of NaNs in from.username: 0\n",
      "The number of NaNs in from.url: 0\n",
      "The number of NaNs in location: 193967\n",
      "The number of NaNs in taken_at_timestamp: 193934\n"
     ]
    }
   ],
   "source": [
    "def isnull(df):\n",
    "    for col in df.columns:\n",
    "        print(f'The number of NaNs in {col}:', df[col].isnull().sum())\n",
    "\n",
    "isnull(df_posts)"
   ]
  },
  {
   "cell_type": "code",
   "execution_count": 6,
   "id": "e8831b7f",
   "metadata": {},
   "outputs": [],
   "source": [
    "def valuecounts(df):\n",
    "    for col in df.columns:\n",
    "        print('Value Counts of: ' + col )\n",
    "        print(df[col].value_counts())\n",
    "        print('\\n')\n",
    "# valuecounts(df_posts)"
   ]
  },
  {
   "cell_type": "code",
   "execution_count": 7,
   "id": "89139fb7",
   "metadata": {},
   "outputs": [
    {
     "data": {
      "text/plain": [
       "array([0])"
      ]
     },
     "execution_count": 7,
     "metadata": {},
     "output_type": "execute_result"
    }
   ],
   "source": [
    "# compare id and shortcode\n",
    "(df_posts.id - df_posts.shortcode).unique()"
   ]
  },
  {
   "cell_type": "markdown",
   "id": "b477f140",
   "metadata": {},
   "source": [
    "## Posting Time"
   ]
  },
  {
   "cell_type": "code",
   "execution_count": 8,
   "id": "761799b7",
   "metadata": {},
   "outputs": [],
   "source": [
    "# df_posts['taken_at_timestamp'].unique()"
   ]
  },
  {
   "cell_type": "code",
   "execution_count": 9,
   "id": "d6688b25",
   "metadata": {},
   "outputs": [],
   "source": [
    "# df_posts.taken_at_timestamp.apply(lambda x: handler(x, np.nan, float))\\\n",
    "# [~np.isnat(df_posts.taken_at_timestamp.apply(lambda x: handler(x, np.nan, float)))].sort_values()"
   ]
  },
  {
   "cell_type": "code",
   "execution_count": 10,
   "id": "ca6e2e17",
   "metadata": {},
   "outputs": [],
   "source": [
    "# df_posts.taken_at_timestamp.apply(lambda x: handler(x, np.nan, float))\\\n",
    "# [~np.isnat(df_posts.taken_at_timestamp.apply(lambda x: handler(x, np.nan, float)))].sort_values().dt.date.value_counts()"
   ]
  },
  {
   "cell_type": "markdown",
   "id": "054f0aeb",
   "metadata": {},
   "source": [
    "##### only 33 posts have posting time"
   ]
  },
  {
   "cell_type": "markdown",
   "id": "ae8ce761",
   "metadata": {},
   "source": [
    "### Drop Columns"
   ]
  },
  {
   "cell_type": "code",
   "execution_count": 11,
   "id": "117cd2ca",
   "metadata": {},
   "outputs": [],
   "source": [
    "drop_list = ['shortcode', 'display_url', 'display_resources', 'location.id', 'location.has_public_page',\n",
    "             'location.slug', 'location.address_json', 'location']\n",
    "df_posts.drop(columns=drop_list, inplace=True)"
   ]
  },
  {
   "cell_type": "code",
   "execution_count": 12,
   "id": "19928a1c",
   "metadata": {},
   "outputs": [],
   "source": [
    "# Also drop the 'taken_at_timestamp' columns --> since most of the data is missing\n",
    "df_posts.drop(columns='taken_at_timestamp', inplace=True)"
   ]
  },
  {
   "cell_type": "markdown",
   "id": "ca351f90",
   "metadata": {},
   "source": [
    "### Renaming Columns"
   ]
  },
  {
   "cell_type": "code",
   "execution_count": 13,
   "id": "0f6ee90e",
   "metadata": {},
   "outputs": [
    {
     "data": {
      "text/html": [
       "<div>\n",
       "<style scoped>\n",
       "    .dataframe tbody tr th:only-of-type {\n",
       "        vertical-align: middle;\n",
       "    }\n",
       "\n",
       "    .dataframe tbody tr th {\n",
       "        vertical-align: top;\n",
       "    }\n",
       "\n",
       "    .dataframe thead th {\n",
       "        text-align: right;\n",
       "    }\n",
       "</style>\n",
       "<table border=\"1\" class=\"dataframe\">\n",
       "  <thead>\n",
       "    <tr style=\"text-align: right;\">\n",
       "      <th></th>\n",
       "      <th>id</th>\n",
       "      <th>is_video</th>\n",
       "      <th>caption</th>\n",
       "      <th>location</th>\n",
       "      <th>user_id</th>\n",
       "      <th>username</th>\n",
       "      <th>account_url</th>\n",
       "    </tr>\n",
       "  </thead>\n",
       "  <tbody>\n",
       "    <tr>\n",
       "      <th>0</th>\n",
       "      <td>2312672024680952662</td>\n",
       "      <td>False</td>\n",
       "      <td>[{'node': {'text': 'According to the Digital t...</td>\n",
       "      <td>Hollywood</td>\n",
       "      <td>32529918546</td>\n",
       "      <td>cinescenes_</td>\n",
       "      <td>https://www.instagram.com/cinescenes_</td>\n",
       "    </tr>\n",
       "  </tbody>\n",
       "</table>\n",
       "</div>"
      ],
      "text/plain": [
       "                    id  is_video  \\\n",
       "0  2312672024680952662     False   \n",
       "\n",
       "                                             caption   location      user_id  \\\n",
       "0  [{'node': {'text': 'According to the Digital t...  Hollywood  32529918546   \n",
       "\n",
       "      username                            account_url  \n",
       "0  cinescenes_  https://www.instagram.com/cinescenes_  "
      ]
     },
     "execution_count": 13,
     "metadata": {},
     "output_type": "execute_result"
    }
   ],
   "source": [
    "df_posts.rename(columns={'edge_media_to_caption.edges': 'caption',\n",
    "                         'location.name': 'location',\n",
    "                         'from.id': 'user_id',\n",
    "                         'from.username': 'username',\n",
    "                         'from.url':'account_url'}, inplace=True)\n",
    "df_posts.head(1)"
   ]
  },
  {
   "cell_type": "markdown",
   "id": "08788b1a",
   "metadata": {},
   "source": [
    "### Changing Data Types"
   ]
  },
  {
   "cell_type": "code",
   "execution_count": 14,
   "id": "f5f8cad4",
   "metadata": {},
   "outputs": [],
   "source": [
    "df_posts['id'] = df_posts['id'].astype('str')\n",
    "df_posts['user_id'] = df_posts['user_id'].astype('str')"
   ]
  },
  {
   "cell_type": "markdown",
   "id": "fee62737",
   "metadata": {},
   "source": [
    "### Cleaning up the caption column"
   ]
  },
  {
   "cell_type": "code",
   "execution_count": 15,
   "id": "117341ab",
   "metadata": {},
   "outputs": [],
   "source": [
    "# df_posts['caption'][0][20:-4]"
   ]
  },
  {
   "cell_type": "code",
   "execution_count": 16,
   "id": "d883e6e5",
   "metadata": {},
   "outputs": [],
   "source": [
    "df_posts['caption'] = df_posts['caption'].apply(lambda x: x[20:-4])"
   ]
  },
  {
   "cell_type": "code",
   "execution_count": 17,
   "id": "614b5262",
   "metadata": {},
   "outputs": [
    {
     "data": {
      "text/plain": [
       "'According to the Digital trends: Visual effect artists often say that two elements most difficult to create digitally are Fire and Water.\\\\nThen how would it be difficult to make Aquaman that has hundreds of specific scenes.\\\\n\\\\nIs there any Visual Artist that reading this Post share your opinion.\\\\n\\\\nDirected by James Wan\\\\nCinematography: Don Burgess\\\\n.\\\\n.\\\\n© Warner bros. Pictures/ DC\\\\n.\\\\n#aquaman #warnerbrosstudios #jameswan #donburgess #jasonmamoa #amberheard #patrickwilson #williamdefoe #dolphlundgren #yahyaabdulmateenii #ludilin #temueramorrison #nicolekidman #rupertgregsonwilliams #dcentertainment #kirkmorri #ilm #methodstudios #digitaldomain #lumapictures #mpc #rodeofx #scanlinevfx #visualartists #emanuellubezki #cinematography #photography'"
      ]
     },
     "execution_count": 17,
     "metadata": {},
     "output_type": "execute_result"
    }
   ],
   "source": [
    "df_posts['caption'][0]"
   ]
  },
  {
   "cell_type": "code",
   "execution_count": 18,
   "id": "2bb414e8",
   "metadata": {},
   "outputs": [],
   "source": [
    "# re.findall(\"\"\"'text': '(.*)'}\"\"\",df_posts['edge_media_to_caption.edges'][0])[0]"
   ]
  },
  {
   "cell_type": "code",
   "execution_count": 19,
   "id": "ea95d6f3",
   "metadata": {},
   "outputs": [],
   "source": [
    "# def get_caption_text(text):\n",
    "#     try:\n",
    "#         return re.findall(\"\"\"'text': '(.*)'}\"\"\",text)[0]\n",
    "#     except:\n",
    "#         return np.nan"
   ]
  },
  {
   "cell_type": "code",
   "execution_count": null,
   "id": "c15e3a80",
   "metadata": {},
   "outputs": [],
   "source": []
  },
  {
   "cell_type": "markdown",
   "id": "79957a1b",
   "metadata": {},
   "source": [
    ">>### Posts\n",
    "| Column | Description |\n",
    "| :--|:--|\n",
    "|id| the id of the post|\n",
    "|is_video| whether the post contain image or video |\n",
    "|caption| the post caption |\n",
    "|location| the location where the post was made |\n",
    "|user_id| the id of the user |\n",
    "|username| the user name |\n",
    "|account_url| the url of the user account |"
   ]
  },
  {
   "cell_type": "code",
   "execution_count": 20,
   "id": "efbabf4e",
   "metadata": {},
   "outputs": [],
   "source": [
    "total_posts = df_posts.shape[0]\n",
    "total_posted_users = df_posts['username'].nunique()"
   ]
  },
  {
   "cell_type": "code",
   "execution_count": 21,
   "id": "3c2e9392",
   "metadata": {},
   "outputs": [
    {
     "name": "stdout",
     "output_type": "stream",
     "text": [
      "total number of posts 193967 by 36137 users\n"
     ]
    }
   ],
   "source": [
    "print(f'total number of posts {total_posts} by {total_posted_users} users')"
   ]
  },
  {
   "cell_type": "markdown",
   "id": "2160983c",
   "metadata": {},
   "source": [
    "<a id='comments'></a>\n",
    "## Comments\n",
    "<ul>\n",
    "<li><a href=\"#posts\">Posts</a></li>  \n",
    "<li><a href=\"#comments\"><b>Comments</b></a></li>  \n",
    "</ul>"
   ]
  },
  {
   "cell_type": "code",
   "execution_count": 22,
   "id": "340d9a05",
   "metadata": {},
   "outputs": [
    {
     "name": "stdout",
     "output_type": "stream",
     "text": [
      "(1973569, 12)\n"
     ]
    },
    {
     "data": {
      "text/html": [
       "<div>\n",
       "<style scoped>\n",
       "    .dataframe tbody tr th:only-of-type {\n",
       "        vertical-align: middle;\n",
       "    }\n",
       "\n",
       "    .dataframe tbody tr th {\n",
       "        vertical-align: top;\n",
       "    }\n",
       "\n",
       "    .dataframe thead th {\n",
       "        text-align: right;\n",
       "    }\n",
       "</style>\n",
       "<table border=\"1\" class=\"dataframe\">\n",
       "  <thead>\n",
       "    <tr style=\"text-align: right;\">\n",
       "      <th></th>\n",
       "      <th>message</th>\n",
       "      <th>timestamp</th>\n",
       "      <th>id</th>\n",
       "      <th>n_replies</th>\n",
       "      <th>n_likes</th>\n",
       "      <th>media_id</th>\n",
       "      <th>in_reply_to</th>\n",
       "      <th>from.id</th>\n",
       "      <th>from.username</th>\n",
       "      <th>from.is_verified</th>\n",
       "      <th>from.url</th>\n",
       "      <th>from.profile_pic</th>\n",
       "    </tr>\n",
       "  </thead>\n",
       "  <tbody>\n",
       "    <tr>\n",
       "      <th>0</th>\n",
       "      <td>#scarlettjohansson #alexandradaddario #emiliac...</td>\n",
       "      <td>1.592888e+09</td>\n",
       "      <td>1.791523e+16</td>\n",
       "      <td>0.0</td>\n",
       "      <td>0.0</td>\n",
       "      <td>2.337635e+18</td>\n",
       "      <td>NaN</td>\n",
       "      <td>3.988264e+09</td>\n",
       "      <td>scarlettjohansonoffcial</td>\n",
       "      <td>False</td>\n",
       "      <td>https://www.instagram.com/scarlettjohansonoffcial</td>\n",
       "      <td>NaN</td>\n",
       "    </tr>\n",
       "    <tr>\n",
       "      <th>1</th>\n",
       "      <td>🔥🔥❤️</td>\n",
       "      <td>1.592888e+09</td>\n",
       "      <td>1.784587e+16</td>\n",
       "      <td>0.0</td>\n",
       "      <td>0.0</td>\n",
       "      <td>2.337635e+18</td>\n",
       "      <td>NaN</td>\n",
       "      <td>3.988264e+09</td>\n",
       "      <td>scarlettjohansonoffcial</td>\n",
       "      <td>False</td>\n",
       "      <td>https://www.instagram.com/scarlettjohansonoffcial</td>\n",
       "      <td>NaN</td>\n",
       "    </tr>\n",
       "    <tr>\n",
       "      <th>2</th>\n",
       "      <td>Very beautiful 😘❤️❤️❤️i love you very much 😍💘💘...</td>\n",
       "      <td>1.592888e+09</td>\n",
       "      <td>1.788947e+16</td>\n",
       "      <td>0.0</td>\n",
       "      <td>0.0</td>\n",
       "      <td>2.337635e+18</td>\n",
       "      <td>NaN</td>\n",
       "      <td>1.230201e+10</td>\n",
       "      <td>fr.ederic2368</td>\n",
       "      <td>False</td>\n",
       "      <td>https://www.instagram.com/fr.ederic2368</td>\n",
       "      <td>NaN</td>\n",
       "    </tr>\n",
       "    <tr>\n",
       "      <th>3</th>\n",
       "      <td>❤️❤️❤️❤️❤️❤️</td>\n",
       "      <td>1.592889e+09</td>\n",
       "      <td>1.786950e+16</td>\n",
       "      <td>0.0</td>\n",
       "      <td>0.0</td>\n",
       "      <td>2.337635e+18</td>\n",
       "      <td>NaN</td>\n",
       "      <td>2.490417e+09</td>\n",
       "      <td>muataz_87</td>\n",
       "      <td>False</td>\n",
       "      <td>https://www.instagram.com/muataz_87</td>\n",
       "      <td>NaN</td>\n",
       "    </tr>\n",
       "    <tr>\n",
       "      <th>4</th>\n",
       "      <td>Bombón bello 💖💖💖💖💖</td>\n",
       "      <td>1.592889e+09</td>\n",
       "      <td>1.806608e+16</td>\n",
       "      <td>0.0</td>\n",
       "      <td>0.0</td>\n",
       "      <td>2.337635e+18</td>\n",
       "      <td>NaN</td>\n",
       "      <td>1.521544e+09</td>\n",
       "      <td>jorgero122129</td>\n",
       "      <td>False</td>\n",
       "      <td>https://www.instagram.com/jorgero122129</td>\n",
       "      <td>NaN</td>\n",
       "    </tr>\n",
       "  </tbody>\n",
       "</table>\n",
       "</div>"
      ],
      "text/plain": [
       "                                             message     timestamp  \\\n",
       "0  #scarlettjohansson #alexandradaddario #emiliac...  1.592888e+09   \n",
       "1                                               🔥🔥❤️  1.592888e+09   \n",
       "2  Very beautiful 😘❤️❤️❤️i love you very much 😍💘💘...  1.592888e+09   \n",
       "3                                       ❤️❤️❤️❤️❤️❤️  1.592889e+09   \n",
       "4                                 Bombón bello 💖💖💖💖💖  1.592889e+09   \n",
       "\n",
       "             id  n_replies  n_likes      media_id  in_reply_to       from.id  \\\n",
       "0  1.791523e+16        0.0      0.0  2.337635e+18          NaN  3.988264e+09   \n",
       "1  1.784587e+16        0.0      0.0  2.337635e+18          NaN  3.988264e+09   \n",
       "2  1.788947e+16        0.0      0.0  2.337635e+18          NaN  1.230201e+10   \n",
       "3  1.786950e+16        0.0      0.0  2.337635e+18          NaN  2.490417e+09   \n",
       "4  1.806608e+16        0.0      0.0  2.337635e+18          NaN  1.521544e+09   \n",
       "\n",
       "             from.username from.is_verified  \\\n",
       "0  scarlettjohansonoffcial            False   \n",
       "1  scarlettjohansonoffcial            False   \n",
       "2            fr.ederic2368            False   \n",
       "3                muataz_87            False   \n",
       "4            jorgero122129            False   \n",
       "\n",
       "                                            from.url from.profile_pic  \n",
       "0  https://www.instagram.com/scarlettjohansonoffcial              NaN  \n",
       "1  https://www.instagram.com/scarlettjohansonoffcial              NaN  \n",
       "2            https://www.instagram.com/fr.ederic2368              NaN  \n",
       "3                https://www.instagram.com/muataz_87              NaN  \n",
       "4            https://www.instagram.com/jorgero122129              NaN  "
      ]
     },
     "execution_count": 22,
     "metadata": {},
     "output_type": "execute_result"
    }
   ],
   "source": [
    "df_comments = pd.read_csv('comments.csv')\n",
    "print(df_comments.shape)\n",
    "df_comments.head()"
   ]
  },
  {
   "cell_type": "code",
   "execution_count": 23,
   "id": "97dbaa93",
   "metadata": {},
   "outputs": [
    {
     "name": "stdout",
     "output_type": "stream",
     "text": [
      "<class 'pandas.core.frame.DataFrame'>\n",
      "RangeIndex: 1973569 entries, 0 to 1973568\n",
      "Data columns (total 12 columns):\n",
      " #   Column            Dtype  \n",
      "---  ------            -----  \n",
      " 0   message           object \n",
      " 1   timestamp         float64\n",
      " 2   id                float64\n",
      " 3   n_replies         float64\n",
      " 4   n_likes           float64\n",
      " 5   media_id          float64\n",
      " 6   in_reply_to       float64\n",
      " 7   from.id           float64\n",
      " 8   from.username     object \n",
      " 9   from.is_verified  object \n",
      " 10  from.url          object \n",
      " 11  from.profile_pic  object \n",
      "dtypes: float64(7), object(5)\n",
      "memory usage: 180.7+ MB\n"
     ]
    }
   ],
   "source": [
    "df_comments.info()"
   ]
  },
  {
   "cell_type": "code",
   "execution_count": 24,
   "id": "21af4fcb",
   "metadata": {},
   "outputs": [
    {
     "name": "stdout",
     "output_type": "stream",
     "text": [
      "The number of NaNs in message: 0\n",
      "The number of NaNs in timestamp: 47\n",
      "The number of NaNs in id: 47\n",
      "The number of NaNs in n_replies: 521470\n",
      "The number of NaNs in n_likes: 47\n",
      "The number of NaNs in media_id: 47\n",
      "The number of NaNs in in_reply_to: 1452146\n",
      "The number of NaNs in from.id: 47\n",
      "The number of NaNs in from.username: 47\n",
      "The number of NaNs in from.is_verified: 521470\n",
      "The number of NaNs in from.url: 47\n",
      "The number of NaNs in from.profile_pic: 1690465\n"
     ]
    }
   ],
   "source": [
    "isnull(df_comments)"
   ]
  },
  {
   "cell_type": "markdown",
   "id": "26122f90",
   "metadata": {},
   "source": [
    "### Drop Rows with Duplicated IDs"
   ]
  },
  {
   "cell_type": "code",
   "execution_count": 25,
   "id": "438ff54a",
   "metadata": {},
   "outputs": [],
   "source": [
    "# value_counts(df_comments)"
   ]
  },
  {
   "cell_type": "code",
   "execution_count": 26,
   "id": "a0e724c8",
   "metadata": {},
   "outputs": [
    {
     "data": {
      "text/plain": [
       "222455"
      ]
     },
     "execution_count": 26,
     "metadata": {},
     "output_type": "execute_result"
    }
   ],
   "source": [
    "df_comments['id'].duplicated().sum()"
   ]
  },
  {
   "cell_type": "code",
   "execution_count": 27,
   "id": "ed37705c",
   "metadata": {},
   "outputs": [
    {
     "data": {
      "text/plain": [
       "222455"
      ]
     },
     "execution_count": 27,
     "metadata": {},
     "output_type": "execute_result"
    }
   ],
   "source": [
    "df_comments.duplicated(subset=['id', 'timestamp', 'from.id', 'from.username', 'from.url']).sum()"
   ]
  },
  {
   "cell_type": "code",
   "execution_count": 28,
   "id": "f6991dcd",
   "metadata": {},
   "outputs": [
    {
     "data": {
      "text/plain": [
       "222382"
      ]
     },
     "execution_count": 28,
     "metadata": {},
     "output_type": "execute_result"
    }
   ],
   "source": [
    "df_comments.duplicated(subset=['id', 'timestamp', 'from.id', 'from.username', 'from.url', 'in_reply_to', 'media_id']).sum()\n"
   ]
  },
  {
   "cell_type": "code",
   "execution_count": 29,
   "id": "d29fa104",
   "metadata": {},
   "outputs": [
    {
     "data": {
      "text/plain": [
       "213343"
      ]
     },
     "execution_count": 29,
     "metadata": {},
     "output_type": "execute_result"
    }
   ],
   "source": [
    "df_comments.duplicated().sum()"
   ]
  },
  {
   "cell_type": "code",
   "execution_count": 30,
   "id": "8edb89c5",
   "metadata": {},
   "outputs": [],
   "source": [
    "df_comments = df_comments.drop_duplicates(subset='id')"
   ]
  },
  {
   "cell_type": "markdown",
   "id": "8798673d",
   "metadata": {},
   "source": [
    "### Drop NaNs in datetime"
   ]
  },
  {
   "cell_type": "code",
   "execution_count": 31,
   "id": "968e45d6",
   "metadata": {},
   "outputs": [
    {
     "name": "stdout",
     "output_type": "stream",
     "text": [
      "The number of NaNs in message: 0\n",
      "The number of NaNs in timestamp: 1\n",
      "The number of NaNs in id: 1\n",
      "The number of NaNs in n_replies: 335515\n",
      "The number of NaNs in n_likes: 1\n",
      "The number of NaNs in media_id: 1\n",
      "The number of NaNs in in_reply_to: 1415600\n",
      "The number of NaNs in from.id: 1\n",
      "The number of NaNs in from.username: 1\n",
      "The number of NaNs in from.is_verified: 335515\n",
      "The number of NaNs in from.url: 1\n",
      "The number of NaNs in from.profile_pic: 1652918\n"
     ]
    }
   ],
   "source": [
    "isnull(df_comments)"
   ]
  },
  {
   "cell_type": "code",
   "execution_count": 32,
   "id": "7ec75b46",
   "metadata": {},
   "outputs": [],
   "source": [
    "# df_comments = df_comments[df_comments['timestamp'].notna()]\n",
    "df_comments.dropna(subset=['timestamp'], inplace=True)"
   ]
  },
  {
   "cell_type": "code",
   "execution_count": 33,
   "id": "766597c8",
   "metadata": {},
   "outputs": [],
   "source": [
    "# isnull(df_comments)"
   ]
  },
  {
   "cell_type": "markdown",
   "id": "83aa2bdf",
   "metadata": {},
   "source": [
    "### Drop Columns"
   ]
  },
  {
   "cell_type": "code",
   "execution_count": 34,
   "id": "0db994c3",
   "metadata": {},
   "outputs": [],
   "source": [
    "df_comments.drop(columns='from.profile_pic', inplace=True)"
   ]
  },
  {
   "cell_type": "markdown",
   "id": "06c4193c",
   "metadata": {},
   "source": [
    "### Renaming Columns"
   ]
  },
  {
   "cell_type": "code",
   "execution_count": 35,
   "id": "6677e142",
   "metadata": {},
   "outputs": [
    {
     "data": {
      "text/html": [
       "<div>\n",
       "<style scoped>\n",
       "    .dataframe tbody tr th:only-of-type {\n",
       "        vertical-align: middle;\n",
       "    }\n",
       "\n",
       "    .dataframe tbody tr th {\n",
       "        vertical-align: top;\n",
       "    }\n",
       "\n",
       "    .dataframe thead th {\n",
       "        text-align: right;\n",
       "    }\n",
       "</style>\n",
       "<table border=\"1\" class=\"dataframe\">\n",
       "  <thead>\n",
       "    <tr style=\"text-align: right;\">\n",
       "      <th></th>\n",
       "      <th>message</th>\n",
       "      <th>datetime</th>\n",
       "      <th>id</th>\n",
       "      <th>n_replies</th>\n",
       "      <th>n_likes</th>\n",
       "      <th>media_id</th>\n",
       "      <th>parent_id</th>\n",
       "      <th>user_id</th>\n",
       "      <th>username</th>\n",
       "      <th>is_verified</th>\n",
       "      <th>account_url</th>\n",
       "    </tr>\n",
       "  </thead>\n",
       "  <tbody>\n",
       "    <tr>\n",
       "      <th>0</th>\n",
       "      <td>#scarlettjohansson #alexandradaddario #emiliac...</td>\n",
       "      <td>1.592888e+09</td>\n",
       "      <td>1.791523e+16</td>\n",
       "      <td>0.0</td>\n",
       "      <td>0.0</td>\n",
       "      <td>2.337635e+18</td>\n",
       "      <td>NaN</td>\n",
       "      <td>3.988264e+09</td>\n",
       "      <td>scarlettjohansonoffcial</td>\n",
       "      <td>False</td>\n",
       "      <td>https://www.instagram.com/scarlettjohansonoffcial</td>\n",
       "    </tr>\n",
       "  </tbody>\n",
       "</table>\n",
       "</div>"
      ],
      "text/plain": [
       "                                             message      datetime  \\\n",
       "0  #scarlettjohansson #alexandradaddario #emiliac...  1.592888e+09   \n",
       "\n",
       "             id  n_replies  n_likes      media_id  parent_id       user_id  \\\n",
       "0  1.791523e+16        0.0      0.0  2.337635e+18        NaN  3.988264e+09   \n",
       "\n",
       "                  username is_verified  \\\n",
       "0  scarlettjohansonoffcial       False   \n",
       "\n",
       "                                         account_url  \n",
       "0  https://www.instagram.com/scarlettjohansonoffcial  "
      ]
     },
     "execution_count": 35,
     "metadata": {},
     "output_type": "execute_result"
    }
   ],
   "source": [
    "df_comments.rename(columns={'timestamp': 'datetime',\n",
    "                         'in_reply_to': 'parent_id',\n",
    "                         'from.id': 'user_id',\n",
    "                         'from.username': 'username',\n",
    "                         'from.is_verified':'is_verified',\n",
    "                         'from.url': 'account_url'}, inplace=True)\n",
    "df_comments.head(1)"
   ]
  },
  {
   "cell_type": "markdown",
   "id": "65724222",
   "metadata": {},
   "source": [
    "### Changing Data Types"
   ]
  },
  {
   "cell_type": "code",
   "execution_count": 36,
   "id": "eaa8936d",
   "metadata": {},
   "outputs": [
    {
     "name": "stdout",
     "output_type": "stream",
     "text": [
      "<class 'pandas.core.frame.DataFrame'>\n",
      "Int64Index: 1751113 entries, 0 to 1973568\n",
      "Data columns (total 11 columns):\n",
      " #   Column       Dtype  \n",
      "---  ------       -----  \n",
      " 0   message      object \n",
      " 1   datetime     float64\n",
      " 2   id           float64\n",
      " 3   n_replies    float64\n",
      " 4   n_likes      float64\n",
      " 5   media_id     float64\n",
      " 6   parent_id    float64\n",
      " 7   user_id      float64\n",
      " 8   username     object \n",
      " 9   is_verified  object \n",
      " 10  account_url  object \n",
      "dtypes: float64(7), object(4)\n",
      "memory usage: 160.3+ MB\n"
     ]
    }
   ],
   "source": [
    "df_comments.info()"
   ]
  },
  {
   "cell_type": "code",
   "execution_count": 37,
   "id": "6e187fc9",
   "metadata": {},
   "outputs": [
    {
     "data": {
      "text/html": [
       "<div>\n",
       "<style scoped>\n",
       "    .dataframe tbody tr th:only-of-type {\n",
       "        vertical-align: middle;\n",
       "    }\n",
       "\n",
       "    .dataframe tbody tr th {\n",
       "        vertical-align: top;\n",
       "    }\n",
       "\n",
       "    .dataframe thead th {\n",
       "        text-align: right;\n",
       "    }\n",
       "</style>\n",
       "<table border=\"1\" class=\"dataframe\">\n",
       "  <thead>\n",
       "    <tr style=\"text-align: right;\">\n",
       "      <th></th>\n",
       "      <th>message</th>\n",
       "      <th>datetime</th>\n",
       "      <th>id</th>\n",
       "      <th>n_replies</th>\n",
       "      <th>n_likes</th>\n",
       "      <th>media_id</th>\n",
       "      <th>parent_id</th>\n",
       "      <th>user_id</th>\n",
       "      <th>username</th>\n",
       "      <th>is_verified</th>\n",
       "      <th>account_url</th>\n",
       "    </tr>\n",
       "  </thead>\n",
       "  <tbody>\n",
       "    <tr>\n",
       "      <th>0</th>\n",
       "      <td>#scarlettjohansson #alexandradaddario #emiliac...</td>\n",
       "      <td>2020-06-23 06:50:19</td>\n",
       "      <td>1.791523e+16</td>\n",
       "      <td>0.0</td>\n",
       "      <td>0.0</td>\n",
       "      <td>2.337635e+18</td>\n",
       "      <td>NaN</td>\n",
       "      <td>3.988264e+09</td>\n",
       "      <td>scarlettjohansonoffcial</td>\n",
       "      <td>False</td>\n",
       "      <td>https://www.instagram.com/scarlettjohansonoffcial</td>\n",
       "    </tr>\n",
       "  </tbody>\n",
       "</table>\n",
       "</div>"
      ],
      "text/plain": [
       "                                             message            datetime  \\\n",
       "0  #scarlettjohansson #alexandradaddario #emiliac... 2020-06-23 06:50:19   \n",
       "\n",
       "             id  n_replies  n_likes      media_id  parent_id       user_id  \\\n",
       "0  1.791523e+16        0.0      0.0  2.337635e+18        NaN  3.988264e+09   \n",
       "\n",
       "                  username is_verified  \\\n",
       "0  scarlettjohansonoffcial       False   \n",
       "\n",
       "                                         account_url  \n",
       "0  https://www.instagram.com/scarlettjohansonoffcial  "
      ]
     },
     "execution_count": 37,
     "metadata": {},
     "output_type": "execute_result"
    }
   ],
   "source": [
    "# convert time stamp into datetime\n",
    "\n",
    "# instead of using the handler function\n",
    "# df_comments.datetime = df_comments.datetime.apply(lambda x: handler(x, np.nan, float))\n",
    "df_comments.datetime = df_comments.datetime.apply(lambda x: x if np.isnan(x) else datetime.fromtimestamp(x))\n",
    "df_comments.head(1)"
   ]
  },
  {
   "cell_type": "code",
   "execution_count": 38,
   "id": "1f322c10",
   "metadata": {},
   "outputs": [],
   "source": [
    "# expand the numbers from 1.791523243043098e+16 to 17915232430430980.0 then convert it to a string\n",
    "df_comments['id'] = df_comments['id'].apply(lambda x: x if np.isnan(x) else format(x, '.1f'))\n",
    "df_comments['id'] = df_comments['id'].astype('str').apply(lambda x: x[:-2])"
   ]
  },
  {
   "cell_type": "code",
   "execution_count": 39,
   "id": "d1685fc7",
   "metadata": {},
   "outputs": [],
   "source": [
    "df_comments['user_id'] = df_comments['user_id'].apply(lambda x: x if np.isnan(x) else format(x, '.1f'))\n",
    "df_comments['user_id'] = df_comments['user_id'].astype('str').apply(lambda x: x[:-2])\n",
    "\n",
    "df_comments['media_id'] = df_comments['media_id'].apply(lambda x: x if np.isnan(x) else format(x, '.1f'))\n",
    "df_comments['media_id'] = df_comments['media_id'].astype('str').apply(lambda x: x[:-2])\n",
    "\n",
    "df_comments['parent_id'] = df_comments['parent_id'].apply(lambda x: x if np.isnan(x) else format(x, '.1f'))\n",
    "df_comments['parent_id'] = df_comments['parent_id'].astype('str').apply(lambda x: x[:-2])"
   ]
  },
  {
   "cell_type": "code",
   "execution_count": 40,
   "id": "07edf59e",
   "metadata": {},
   "outputs": [],
   "source": [
    "df_comments['is_verified'] = df_comments['is_verified'].astype('bool')"
   ]
  },
  {
   "cell_type": "code",
   "execution_count": 41,
   "id": "13f54808",
   "metadata": {},
   "outputs": [
    {
     "name": "stdout",
     "output_type": "stream",
     "text": [
      "<class 'pandas.core.frame.DataFrame'>\n",
      "Int64Index: 1751113 entries, 0 to 1973568\n",
      "Data columns (total 11 columns):\n",
      " #   Column       Dtype         \n",
      "---  ------       -----         \n",
      " 0   message      object        \n",
      " 1   datetime     datetime64[ns]\n",
      " 2   id           object        \n",
      " 3   n_replies    float64       \n",
      " 4   n_likes      float64       \n",
      " 5   media_id     object        \n",
      " 6   parent_id    object        \n",
      " 7   user_id      object        \n",
      " 8   username     object        \n",
      " 9   is_verified  bool          \n",
      " 10  account_url  object        \n",
      "dtypes: bool(1), datetime64[ns](1), float64(2), object(7)\n",
      "memory usage: 148.6+ MB\n"
     ]
    }
   ],
   "source": [
    "df_comments.info()"
   ]
  },
  {
   "cell_type": "markdown",
   "id": "ffb8e823",
   "metadata": {},
   "source": [
    "### Create year, month, dayofmonth, date and hour columns"
   ]
  },
  {
   "cell_type": "code",
   "execution_count": 42,
   "id": "64341e15",
   "metadata": {},
   "outputs": [],
   "source": [
    "df_comments['year'] = df_comments['datetime'].dt.year\n",
    "df_comments['month'] = df_comments['datetime'].dt.strftime('%b')\n",
    "df_comments['dayofmonth'] = df_comments['datetime'].dt.day\n",
    "df_comments['date'] = df_comments['datetime'].dt.date\n",
    "df_comments['hour'] = df_comments['datetime'].dt.hour"
   ]
  },
  {
   "cell_type": "markdown",
   "id": "d1c06302",
   "metadata": {},
   "source": [
    "### Convert month into an ordered categorical type"
   ]
  },
  {
   "cell_type": "code",
   "execution_count": 43,
   "id": "ee7b4a60",
   "metadata": {},
   "outputs": [],
   "source": [
    "months = ['Jan', 'Feb', 'Mar', 'Apr', 'May', 'Jun', 'Jul', 'Aug', 'Sep', 'Oct', 'Nov', 'Dec']\n",
    "mord = pd.api.types.CategoricalDtype(ordered=True, categories=months)  # mord --> months ordered\n",
    "df_comments['month'] = df_comments['month'].astype(mord)"
   ]
  },
  {
   "cell_type": "code",
   "execution_count": 44,
   "id": "c5fd899a",
   "metadata": {},
   "outputs": [
    {
     "name": "stdout",
     "output_type": "stream",
     "text": [
      "<class 'pandas.core.frame.DataFrame'>\n",
      "Int64Index: 1751113 entries, 0 to 1973568\n",
      "Data columns (total 16 columns):\n",
      " #   Column       Dtype         \n",
      "---  ------       -----         \n",
      " 0   message      object        \n",
      " 1   datetime     datetime64[ns]\n",
      " 2   id           object        \n",
      " 3   n_replies    float64       \n",
      " 4   n_likes      float64       \n",
      " 5   media_id     object        \n",
      " 6   parent_id    object        \n",
      " 7   user_id      object        \n",
      " 8   username     object        \n",
      " 9   is_verified  bool          \n",
      " 10  account_url  object        \n",
      " 11  year         int64         \n",
      " 12  month        category      \n",
      " 13  dayofmonth   int64         \n",
      " 14  date         object        \n",
      " 15  hour         int64         \n",
      "dtypes: bool(1), category(1), datetime64[ns](1), float64(2), int64(3), object(8)\n",
      "memory usage: 203.7+ MB\n"
     ]
    }
   ],
   "source": [
    "df_comments.info()"
   ]
  },
  {
   "cell_type": "code",
   "execution_count": 45,
   "id": "178505de",
   "metadata": {},
   "outputs": [
    {
     "name": "stdout",
     "output_type": "stream",
     "text": [
      "(1751113, 16)\n"
     ]
    },
    {
     "data": {
      "text/html": [
       "<div>\n",
       "<style scoped>\n",
       "    .dataframe tbody tr th:only-of-type {\n",
       "        vertical-align: middle;\n",
       "    }\n",
       "\n",
       "    .dataframe tbody tr th {\n",
       "        vertical-align: top;\n",
       "    }\n",
       "\n",
       "    .dataframe thead th {\n",
       "        text-align: right;\n",
       "    }\n",
       "</style>\n",
       "<table border=\"1\" class=\"dataframe\">\n",
       "  <thead>\n",
       "    <tr style=\"text-align: right;\">\n",
       "      <th></th>\n",
       "      <th>message</th>\n",
       "      <th>datetime</th>\n",
       "      <th>id</th>\n",
       "      <th>n_replies</th>\n",
       "      <th>n_likes</th>\n",
       "      <th>media_id</th>\n",
       "      <th>parent_id</th>\n",
       "      <th>user_id</th>\n",
       "      <th>username</th>\n",
       "      <th>is_verified</th>\n",
       "      <th>account_url</th>\n",
       "      <th>year</th>\n",
       "      <th>month</th>\n",
       "      <th>dayofmonth</th>\n",
       "      <th>date</th>\n",
       "      <th>hour</th>\n",
       "    </tr>\n",
       "  </thead>\n",
       "  <tbody>\n",
       "    <tr>\n",
       "      <th>0</th>\n",
       "      <td>#scarlettjohansson #alexandradaddario #emiliac...</td>\n",
       "      <td>2020-06-23 06:50:19</td>\n",
       "      <td>17915232430430980</td>\n",
       "      <td>0.0</td>\n",
       "      <td>0.0</td>\n",
       "      <td>2337634847974873088</td>\n",
       "      <td>n</td>\n",
       "      <td>3988263563</td>\n",
       "      <td>scarlettjohansonoffcial</td>\n",
       "      <td>False</td>\n",
       "      <td>https://www.instagram.com/scarlettjohansonoffcial</td>\n",
       "      <td>2020</td>\n",
       "      <td>Jun</td>\n",
       "      <td>23</td>\n",
       "      <td>2020-06-23</td>\n",
       "      <td>6</td>\n",
       "    </tr>\n",
       "    <tr>\n",
       "      <th>1</th>\n",
       "      <td>🔥🔥❤️</td>\n",
       "      <td>2020-06-23 06:50:20</td>\n",
       "      <td>17845867817208020</td>\n",
       "      <td>0.0</td>\n",
       "      <td>0.0</td>\n",
       "      <td>2337634847974873088</td>\n",
       "      <td>n</td>\n",
       "      <td>3988263563</td>\n",
       "      <td>scarlettjohansonoffcial</td>\n",
       "      <td>False</td>\n",
       "      <td>https://www.instagram.com/scarlettjohansonoffcial</td>\n",
       "      <td>2020</td>\n",
       "      <td>Jun</td>\n",
       "      <td>23</td>\n",
       "      <td>2020-06-23</td>\n",
       "      <td>6</td>\n",
       "    </tr>\n",
       "    <tr>\n",
       "      <th>2</th>\n",
       "      <td>Very beautiful 😘❤️❤️❤️i love you very much 😍💘💘...</td>\n",
       "      <td>2020-06-23 06:54:04</td>\n",
       "      <td>17889474637566402</td>\n",
       "      <td>0.0</td>\n",
       "      <td>0.0</td>\n",
       "      <td>2337634847974873088</td>\n",
       "      <td>n</td>\n",
       "      <td>12302008022</td>\n",
       "      <td>fr.ederic2368</td>\n",
       "      <td>False</td>\n",
       "      <td>https://www.instagram.com/fr.ederic2368</td>\n",
       "      <td>2020</td>\n",
       "      <td>Jun</td>\n",
       "      <td>23</td>\n",
       "      <td>2020-06-23</td>\n",
       "      <td>6</td>\n",
       "    </tr>\n",
       "    <tr>\n",
       "      <th>3</th>\n",
       "      <td>❤️❤️❤️❤️❤️❤️</td>\n",
       "      <td>2020-06-23 07:12:28</td>\n",
       "      <td>17869498675832482</td>\n",
       "      <td>0.0</td>\n",
       "      <td>0.0</td>\n",
       "      <td>2337634847974873088</td>\n",
       "      <td>n</td>\n",
       "      <td>2490417195</td>\n",
       "      <td>muataz_87</td>\n",
       "      <td>False</td>\n",
       "      <td>https://www.instagram.com/muataz_87</td>\n",
       "      <td>2020</td>\n",
       "      <td>Jun</td>\n",
       "      <td>23</td>\n",
       "      <td>2020-06-23</td>\n",
       "      <td>7</td>\n",
       "    </tr>\n",
       "    <tr>\n",
       "      <th>4</th>\n",
       "      <td>Bombón bello 💖💖💖💖💖</td>\n",
       "      <td>2020-06-23 07:14:40</td>\n",
       "      <td>18066076495222844</td>\n",
       "      <td>0.0</td>\n",
       "      <td>0.0</td>\n",
       "      <td>2337634847974873088</td>\n",
       "      <td>n</td>\n",
       "      <td>1521544054</td>\n",
       "      <td>jorgero122129</td>\n",
       "      <td>False</td>\n",
       "      <td>https://www.instagram.com/jorgero122129</td>\n",
       "      <td>2020</td>\n",
       "      <td>Jun</td>\n",
       "      <td>23</td>\n",
       "      <td>2020-06-23</td>\n",
       "      <td>7</td>\n",
       "    </tr>\n",
       "  </tbody>\n",
       "</table>\n",
       "</div>"
      ],
      "text/plain": [
       "                                             message            datetime  \\\n",
       "0  #scarlettjohansson #alexandradaddario #emiliac... 2020-06-23 06:50:19   \n",
       "1                                               🔥🔥❤️ 2020-06-23 06:50:20   \n",
       "2  Very beautiful 😘❤️❤️❤️i love you very much 😍💘💘... 2020-06-23 06:54:04   \n",
       "3                                       ❤️❤️❤️❤️❤️❤️ 2020-06-23 07:12:28   \n",
       "4                                 Bombón bello 💖💖💖💖💖 2020-06-23 07:14:40   \n",
       "\n",
       "                  id  n_replies  n_likes             media_id parent_id  \\\n",
       "0  17915232430430980        0.0      0.0  2337634847974873088         n   \n",
       "1  17845867817208020        0.0      0.0  2337634847974873088         n   \n",
       "2  17889474637566402        0.0      0.0  2337634847974873088         n   \n",
       "3  17869498675832482        0.0      0.0  2337634847974873088         n   \n",
       "4  18066076495222844        0.0      0.0  2337634847974873088         n   \n",
       "\n",
       "       user_id                 username  is_verified  \\\n",
       "0   3988263563  scarlettjohansonoffcial        False   \n",
       "1   3988263563  scarlettjohansonoffcial        False   \n",
       "2  12302008022            fr.ederic2368        False   \n",
       "3   2490417195                muataz_87        False   \n",
       "4   1521544054            jorgero122129        False   \n",
       "\n",
       "                                         account_url  year month  dayofmonth  \\\n",
       "0  https://www.instagram.com/scarlettjohansonoffcial  2020   Jun          23   \n",
       "1  https://www.instagram.com/scarlettjohansonoffcial  2020   Jun          23   \n",
       "2            https://www.instagram.com/fr.ederic2368  2020   Jun          23   \n",
       "3                https://www.instagram.com/muataz_87  2020   Jun          23   \n",
       "4            https://www.instagram.com/jorgero122129  2020   Jun          23   \n",
       "\n",
       "         date  hour  \n",
       "0  2020-06-23     6  \n",
       "1  2020-06-23     6  \n",
       "2  2020-06-23     6  \n",
       "3  2020-06-23     7  \n",
       "4  2020-06-23     7  "
      ]
     },
     "execution_count": 45,
     "metadata": {},
     "output_type": "execute_result"
    }
   ],
   "source": [
    "print(df_comments.shape)\n",
    "df_comments.head()"
   ]
  },
  {
   "cell_type": "markdown",
   "id": "ec86a389",
   "metadata": {},
   "source": [
    "### Change all text to a lowercase for consistent investigations"
   ]
  },
  {
   "cell_type": "code",
   "execution_count": 46,
   "id": "6787e0bb",
   "metadata": {},
   "outputs": [],
   "source": [
    "# df_comments[\"message\"] = df_comments[\"message\"].apply(str.lower)\n",
    "df_comments[\"message\"] = df_comments[\"message\"].str.lower()"
   ]
  },
  {
   "cell_type": "markdown",
   "id": "0c50a31b",
   "metadata": {},
   "source": [
    ">>### Comments\n",
    "| Column | Description |\n",
    "| :--|:--|\n",
    "|message| the comment message|\n",
    "|datetime| the time of the comment |\n",
    "|id| the id of the comment |\n",
    "|n_replies| the number of replies on the comment |\n",
    "|n_likes| the number of likes on the comment |\n",
    "|media_id| the id of the posted photo/video |\n",
    "|parent_id| the id of the parent comment/post |\n",
    "|user_id| the id of the user |\n",
    "|username| the user name |\n",
    "|is_verified| whether the account is verified or not |\n",
    "|account_url| the url of the user account |"
   ]
  },
  {
   "cell_type": "markdown",
   "id": "397e0b99",
   "metadata": {},
   "source": [
    "### Save the Cleaned DataFrames"
   ]
  },
  {
   "cell_type": "code",
   "execution_count": 47,
   "id": "2384d29d",
   "metadata": {},
   "outputs": [],
   "source": [
    "# Save clean DataFrame to csv file\n",
    "df_comments.to_csv('comments_cleaned.csv', encoding = 'utf-8', index=False)\n",
    "df_posts.to_csv('posts_cleaned.csv', encoding = 'utf-8', index=False)"
   ]
  },
  {
   "cell_type": "markdown",
   "id": "ce16f492",
   "metadata": {},
   "source": [
    "# Same Text"
   ]
  },
  {
   "cell_type": "code",
   "execution_count": 48,
   "id": "e3cc74b3",
   "metadata": {},
   "outputs": [],
   "source": [
    "df_comments = pd.read_csv('comments_cleaned.csv')"
   ]
  },
  {
   "cell_type": "markdown",
   "id": "f9e59e01",
   "metadata": {},
   "source": [
    "## Normalization\n",
    "1. Remove Emojis.\n",
    "2. Convert all text to lower case.\n",
    "\n",
    "## Tokenization\n",
    "1. text into a list of unique words.\n",
    "2. remove stop words."
   ]
  },
  {
   "cell_type": "code",
   "execution_count": 49,
   "id": "8190b062",
   "metadata": {},
   "outputs": [],
   "source": [
    "def remove_emojis(text):\n",
    "    emoji_pattern = re.compile(\"[\"\n",
    "                               \"❤️\"\n",
    "                               \"🥰\"\n",
    "            u\"\\U0001F600-\\U0001F64F\" \n",
    "            u\"\\U0001F300-\\U0001F5FF\"  \n",
    "            u\"\\U0001F680-\\U0001F6FF\"  \n",
    "            u\"\\U0001F1E0-\\U0001F1FF\"  \n",
    "                               \"]+\", flags=re.UNICODE)\n",
    "    return emoji_pattern.sub(r'', text)"
   ]
  },
  {
   "cell_type": "code",
   "execution_count": 50,
   "id": "71a94b8e",
   "metadata": {},
   "outputs": [],
   "source": [
    "# normaliztion\n",
    "df_comments['clean_text'] = df_comments.message.apply(lambda x: remove_emojis(x).lower())"
   ]
  },
  {
   "cell_type": "code",
   "execution_count": 51,
   "id": "cf34ee4d",
   "metadata": {},
   "outputs": [],
   "source": [
    "all_stop_words = []\n",
    "for lang in stopwords.fileids():\n",
    "    all_stop_words.append(stopwords.words(lang))\n",
    "all_stop_words = [item for sublist in all_stop_words for item in sublist]"
   ]
  },
  {
   "cell_type": "code",
   "execution_count": 52,
   "id": "9d093c0d",
   "metadata": {},
   "outputs": [],
   "source": [
    "def tokenize(text):\n",
    "    return [i for i in [i for i in word_tokenize(text) if i not in all_stop_words] if i.isalnum()]    "
   ]
  },
  {
   "cell_type": "code",
   "execution_count": 53,
   "id": "cac0b77f",
   "metadata": {},
   "outputs": [],
   "source": [
    "df_comments_clean = df_comments.copy()"
   ]
  },
  {
   "cell_type": "code",
   "execution_count": 54,
   "id": "61193c48",
   "metadata": {},
   "outputs": [],
   "source": [
    "df_comments_clean.clean_text = np.where(df_comments_clean.clean_text == '', np.nan, df_comments_clean.clean_text)"
   ]
  },
  {
   "cell_type": "code",
   "execution_count": 55,
   "id": "04268e87",
   "metadata": {},
   "outputs": [],
   "source": [
    "df_comments_clean.dropna(subset=['clean_text'], inplace=True)"
   ]
  },
  {
   "cell_type": "code",
   "execution_count": 56,
   "id": "d61bd57d",
   "metadata": {},
   "outputs": [],
   "source": [
    "# punkt is a nltk library tool for tokenizing text documents. When we use an old or a degraded version of nltk module we generally need to download the remaining data .\n",
    "# You can do\n",
    "# nltk.download('punkt')\n",
    "# nltk.download('stopwords')\n",
    "# nltk.download('corpus')"
   ]
  },
  {
   "cell_type": "code",
   "execution_count": 57,
   "id": "0248bdb7",
   "metadata": {},
   "outputs": [],
   "source": [
    "# nltk.download()"
   ]
  },
  {
   "cell_type": "code",
   "execution_count": 58,
   "id": "539f2e4d",
   "metadata": {},
   "outputs": [],
   "source": [
    "# nltk.download('punkt')"
   ]
  },
  {
   "cell_type": "code",
   "execution_count": 59,
   "id": "30da0510",
   "metadata": {},
   "outputs": [],
   "source": [
    "df_comments_clean['tokens'] = df_comments_clean.clean_text.apply(lambda x: tokenize(x))"
   ]
  },
  {
   "cell_type": "code",
   "execution_count": 60,
   "id": "c673260d",
   "metadata": {},
   "outputs": [],
   "source": [
    "df_comments_clean['tokens'] = df_comments_clean.tokens.apply(lambda x: set(x))"
   ]
  },
  {
   "cell_type": "code",
   "execution_count": 61,
   "id": "2127559b",
   "metadata": {},
   "outputs": [],
   "source": [
    "df_comments_clean.to_csv('comments_text.csv', encoding = 'utf-8', index=False)"
   ]
  },
  {
   "cell_type": "markdown",
   "id": "4a908fce",
   "metadata": {},
   "source": [
    "<ul>\n",
    "<li><a href=\"#intro\">Introduction</a></li>\n",
    "<li><a href=\"#wrangling\">Data Wrangling</a></li>\n",
    "<li><a href=\"#end\"><b>End of Notebook</b></a></li>  \n",
    "</ul>\n",
    "\n",
    "<a id = 'end'><a/>\n",
    "# END OF NOTEBOOK"
   ]
  }
 ],
 "metadata": {
  "kernelspec": {
   "display_name": "Python 3 (ipykernel)",
   "language": "python",
   "name": "python3"
  },
  "language_info": {
   "codemirror_mode": {
    "name": "ipython",
    "version": 3
   },
   "file_extension": ".py",
   "mimetype": "text/x-python",
   "name": "python",
   "nbconvert_exporter": "python",
   "pygments_lexer": "ipython3",
   "version": "3.8.12"
  }
 },
 "nbformat": 4,
 "nbformat_minor": 5
}
