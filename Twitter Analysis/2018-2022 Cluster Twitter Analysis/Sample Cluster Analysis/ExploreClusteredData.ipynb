{
 "cells": [
  {
   "cell_type": "markdown",
   "id": "7dbc34d4",
   "metadata": {},
   "source": [
    "<br>"
   ]
  },
  {
   "cell_type": "markdown",
   "id": "d8363ea7",
   "metadata": {},
   "source": [
    "**what was done was mainly html files, groups of accounts, and viz wordcloud image files**"
   ]
  },
  {
   "cell_type": "markdown",
   "id": "1aa2fe90",
   "metadata": {},
   "source": [
    "# Analysis of Twitter data around Aquaman petition mentions \n",
    "MAHMOUD NAGY - Jun 2022"
   ]
  },
  {
   "cell_type": "markdown",
   "id": "15acf84a",
   "metadata": {},
   "source": [
    "---"
   ]
  },
  {
   "cell_type": "code",
   "execution_count": 31,
   "id": "9bb728ed",
   "metadata": {},
   "outputs": [],
   "source": [
    "import numpy as np\n",
    "import pandas as pd\n",
    "import json \n",
    "import os\n",
    "import matplotlib.pyplot as plt\n",
    "import seaborn as sb\n",
    "from time import time\n",
    "\n",
    "%config InlineBackend.figure_format = 'retina'"
   ]
  },
  {
   "cell_type": "code",
   "execution_count": 2,
   "id": "7a1eab8d",
   "metadata": {},
   "outputs": [],
   "source": [
    "months = [(1, 'jan'), (2, 'feb'), (3, 'mar'), (4, 'apr'), (5, 'may'), (6, 'jun'), \n",
    "          (7, 'jul'), (8, 'aug'), (9, 'sep'), (10, 'oct'), (11, 'nov'), (12, 'dec')]\n",
    "years = ['2018', '2019', '2020', '2021', '2022']"
   ]
  },
  {
   "cell_type": "markdown",
   "id": "71fad1ba",
   "metadata": {},
   "source": [
    "## Total Number of CSV (USERS) and JSON (TWEETS) Files \n",
    "(Clusters)"
   ]
  },
  {
   "cell_type": "markdown",
   "id": "389aad81",
   "metadata": {},
   "source": [
    "### CSV (USERS)"
   ]
  },
  {
   "cell_type": "code",
   "execution_count": 26,
   "id": "daccc422",
   "metadata": {},
   "outputs": [
    {
     "name": "stdout",
     "output_type": "stream",
     "text": [
      "0.0002525170644124349\n"
     ]
    },
    {
     "data": {
      "text/plain": [
       "3747"
      ]
     },
     "execution_count": 26,
     "metadata": {},
     "output_type": "execute_result"
    }
   ],
   "source": [
    "t0 = time()\n",
    "\n",
    "i = 0 \n",
    "for year in years:\n",
    "    for month in months:\n",
    "        path = 'Clustering Results/' + year + ' Clustering Twitter Result/data/' + month[1]\n",
    "        try:\n",
    "            for file in os.listdir(path):\n",
    "                if file.endswith('.csv'):\n",
    "                    i+=1\n",
    "        except: \n",
    "            break\n",
    "                \n",
    "                \n",
    "print((time()-t0)/60)\n",
    "i"
   ]
  },
  {
   "cell_type": "markdown",
   "id": "a0e04826",
   "metadata": {},
   "source": [
    "### JSON (TWEETS)"
   ]
  },
  {
   "cell_type": "code",
   "execution_count": 29,
   "id": "97065ec4",
   "metadata": {},
   "outputs": [
    {
     "name": "stdout",
     "output_type": "stream",
     "text": [
      "0.0014954845110575357\n"
     ]
    },
    {
     "data": {
      "text/plain": [
       "3693"
      ]
     },
     "execution_count": 29,
     "metadata": {},
     "output_type": "execute_result"
    }
   ],
   "source": [
    "t0 = time()\n",
    "\n",
    "i = 0 \n",
    "for year in years:\n",
    "    for month in months:\n",
    "        path = 'Clustering Results/' + year + ' Clustering Twitter Result/data/' + month[1]\n",
    "        try:\n",
    "            for file in os.listdir(path):\n",
    "                if file.endswith('.json'):\n",
    "                    i+=1\n",
    "        except: \n",
    "            break\n",
    "                \n",
    "                \n",
    "print((time()-t0)/60)\n",
    "i"
   ]
  },
  {
   "cell_type": "markdown",
   "id": "8a85ad1f",
   "metadata": {},
   "source": [
    "<br>"
   ]
  },
  {
   "cell_type": "markdown",
   "id": "fb63c56b",
   "metadata": {},
   "source": [
    "## Total Number of JSON (TWEETS) Files Containing \"Aquaman Petition Links\""
   ]
  },
  {
   "cell_type": "markdown",
   "id": "ef7cbe69",
   "metadata": {},
   "source": [
    "### Create a DataFrame with Clusters info (containing aquaman petition links)"
   ]
  },
  {
   "cell_type": "code",
   "execution_count": 20,
   "id": "db1d421b",
   "metadata": {},
   "outputs": [
    {
     "name": "stdout",
     "output_type": "stream",
     "text": [
      "1.079143182436625\n"
     ]
    },
    {
     "data": {
      "text/plain": [
       "1462"
      ]
     },
     "execution_count": 20,
     "metadata": {},
     "output_type": "execute_result"
    }
   ],
   "source": [
    "t0 = time()\n",
    "i = 0 \n",
    "y, m, c, n = [], [], [], []\n",
    "for year in years:\n",
    "    for month in months:\n",
    "        path = 'Clustering Results/' + year + ' Clustering Twitter Result/data/' + month[1]\n",
    "        try: \n",
    "            for file in os.listdir(path):\n",
    "                if file.endswith('.json'):\n",
    "                    with open( os.path.join(path, file) ) as f:\n",
    "                        tweets = pd.DataFrame(json.load(f))\n",
    "                        aquaman = tweets[tweets.full_text.str.lower().str.contains('aquaman|petition')]\n",
    "                        aquaman_petition = aquaman[aquaman.full_text.str.lower().str.contains('http')]\n",
    "                        if len(aquaman_petition) > 0:\n",
    "                            y.append(year)\n",
    "                            m.append(month[1])\n",
    "                            c.append(file[:-5])\n",
    "                            n.append(len(aquaman_petition))\n",
    "                            i+=1\n",
    "        except: \n",
    "            break \n",
    "print((time()-t0)/60)\n",
    "i"
   ]
  },
  {
   "cell_type": "code",
   "execution_count": 27,
   "id": "ed1d88a5",
   "metadata": {},
   "outputs": [
    {
     "name": "stdout",
     "output_type": "stream",
     "text": [
      "(1462, 4)\n"
     ]
    },
    {
     "data": {
      "text/html": [
       "<div>\n",
       "<style scoped>\n",
       "    .dataframe tbody tr th:only-of-type {\n",
       "        vertical-align: middle;\n",
       "    }\n",
       "\n",
       "    .dataframe tbody tr th {\n",
       "        vertical-align: top;\n",
       "    }\n",
       "\n",
       "    .dataframe thead th {\n",
       "        text-align: right;\n",
       "    }\n",
       "</style>\n",
       "<table border=\"1\" class=\"dataframe\">\n",
       "  <thead>\n",
       "    <tr style=\"text-align: right;\">\n",
       "      <th></th>\n",
       "      <th>year</th>\n",
       "      <th>month</th>\n",
       "      <th>cluster</th>\n",
       "      <th>n_links</th>\n",
       "    </tr>\n",
       "  </thead>\n",
       "  <tbody>\n",
       "    <tr>\n",
       "      <th>0</th>\n",
       "      <td>2018</td>\n",
       "      <td>jan</td>\n",
       "      <td>tweets5</td>\n",
       "      <td>10</td>\n",
       "    </tr>\n",
       "    <tr>\n",
       "      <th>1</th>\n",
       "      <td>2018</td>\n",
       "      <td>jan</td>\n",
       "      <td>tweets6</td>\n",
       "      <td>1</td>\n",
       "    </tr>\n",
       "  </tbody>\n",
       "</table>\n",
       "</div>"
      ],
      "text/plain": [
       "   year month  cluster  n_links\n",
       "0  2018   jan  tweets5       10\n",
       "1  2018   jan  tweets6        1"
      ]
     },
     "execution_count": 27,
     "metadata": {},
     "output_type": "execute_result"
    }
   ],
   "source": [
    "aquaman_clusters = pd.DataFrame(dic)\n",
    "print(aquaman_clusters.shape)\n",
    "aquaman_clusters.head(2)"
   ]
  },
  {
   "cell_type": "code",
   "execution_count": 29,
   "id": "698272b3",
   "metadata": {},
   "outputs": [
    {
     "name": "stdout",
     "output_type": "stream",
     "text": [
      "\n",
      "Total number of aquaman petition links in the clusters: 38337\n"
     ]
    },
    {
     "data": {
      "text/html": [
       "<div>\n",
       "<style scoped>\n",
       "    .dataframe tbody tr th:only-of-type {\n",
       "        vertical-align: middle;\n",
       "    }\n",
       "\n",
       "    .dataframe tbody tr th {\n",
       "        vertical-align: top;\n",
       "    }\n",
       "\n",
       "    .dataframe thead th {\n",
       "        text-align: right;\n",
       "    }\n",
       "</style>\n",
       "<table border=\"1\" class=\"dataframe\">\n",
       "  <thead>\n",
       "    <tr style=\"text-align: right;\">\n",
       "      <th></th>\n",
       "      <th>year</th>\n",
       "      <th>month</th>\n",
       "      <th>cluster</th>\n",
       "      <th>n_links</th>\n",
       "    </tr>\n",
       "  </thead>\n",
       "  <tbody>\n",
       "    <tr>\n",
       "      <th>942</th>\n",
       "      <td>2020</td>\n",
       "      <td>nov</td>\n",
       "      <td>tweets1</td>\n",
       "      <td>1278</td>\n",
       "    </tr>\n",
       "    <tr>\n",
       "      <th>741</th>\n",
       "      <td>2020</td>\n",
       "      <td>nov</td>\n",
       "      <td>tweets4</td>\n",
       "      <td>827</td>\n",
       "    </tr>\n",
       "    <tr>\n",
       "      <th>1444</th>\n",
       "      <td>2022</td>\n",
       "      <td>apr</td>\n",
       "      <td>tweets1</td>\n",
       "      <td>784</td>\n",
       "    </tr>\n",
       "    <tr>\n",
       "      <th>763</th>\n",
       "      <td>2020</td>\n",
       "      <td>nov</td>\n",
       "      <td>tweets8</td>\n",
       "      <td>565</td>\n",
       "    </tr>\n",
       "    <tr>\n",
       "      <th>1010</th>\n",
       "      <td>2020</td>\n",
       "      <td>dec</td>\n",
       "      <td>tweets0</td>\n",
       "      <td>515</td>\n",
       "    </tr>\n",
       "    <tr>\n",
       "      <th>461</th>\n",
       "      <td>2020</td>\n",
       "      <td>feb</td>\n",
       "      <td>tweets0</td>\n",
       "      <td>507</td>\n",
       "    </tr>\n",
       "    <tr>\n",
       "      <th>419</th>\n",
       "      <td>2020</td>\n",
       "      <td>feb</td>\n",
       "      <td>tweets6</td>\n",
       "      <td>459</td>\n",
       "    </tr>\n",
       "    <tr>\n",
       "      <th>1026</th>\n",
       "      <td>2021</td>\n",
       "      <td>jan</td>\n",
       "      <td>tweets4</td>\n",
       "      <td>322</td>\n",
       "    </tr>\n",
       "    <tr>\n",
       "      <th>1176</th>\n",
       "      <td>2021</td>\n",
       "      <td>jun</td>\n",
       "      <td>tweets0</td>\n",
       "      <td>316</td>\n",
       "    </tr>\n",
       "    <tr>\n",
       "      <th>928</th>\n",
       "      <td>2020</td>\n",
       "      <td>nov</td>\n",
       "      <td>tweets34</td>\n",
       "      <td>316</td>\n",
       "    </tr>\n",
       "    <tr>\n",
       "      <th>991</th>\n",
       "      <td>2020</td>\n",
       "      <td>dec</td>\n",
       "      <td>tweets9</td>\n",
       "      <td>303</td>\n",
       "    </tr>\n",
       "    <tr>\n",
       "      <th>1196</th>\n",
       "      <td>2021</td>\n",
       "      <td>jul</td>\n",
       "      <td>tweets0</td>\n",
       "      <td>293</td>\n",
       "    </tr>\n",
       "    <tr>\n",
       "      <th>213</th>\n",
       "      <td>2019</td>\n",
       "      <td>mar</td>\n",
       "      <td>tweets0</td>\n",
       "      <td>268</td>\n",
       "    </tr>\n",
       "    <tr>\n",
       "      <th>681</th>\n",
       "      <td>2020</td>\n",
       "      <td>nov</td>\n",
       "      <td>tweets16</td>\n",
       "      <td>258</td>\n",
       "    </tr>\n",
       "    <tr>\n",
       "      <th>1096</th>\n",
       "      <td>2021</td>\n",
       "      <td>mar</td>\n",
       "      <td>tweets3</td>\n",
       "      <td>255</td>\n",
       "    </tr>\n",
       "    <tr>\n",
       "      <th>981</th>\n",
       "      <td>2020</td>\n",
       "      <td>dec</td>\n",
       "      <td>tweets3</td>\n",
       "      <td>252</td>\n",
       "    </tr>\n",
       "    <tr>\n",
       "      <th>467</th>\n",
       "      <td>2020</td>\n",
       "      <td>feb</td>\n",
       "      <td>tweets1</td>\n",
       "      <td>245</td>\n",
       "    </tr>\n",
       "    <tr>\n",
       "      <th>144</th>\n",
       "      <td>2018</td>\n",
       "      <td>dec</td>\n",
       "      <td>tweets1</td>\n",
       "      <td>239</td>\n",
       "    </tr>\n",
       "    <tr>\n",
       "      <th>1013</th>\n",
       "      <td>2020</td>\n",
       "      <td>dec</td>\n",
       "      <td>tweets1</td>\n",
       "      <td>239</td>\n",
       "    </tr>\n",
       "    <tr>\n",
       "      <th>603</th>\n",
       "      <td>2020</td>\n",
       "      <td>jul</td>\n",
       "      <td>tweets0</td>\n",
       "      <td>234</td>\n",
       "    </tr>\n",
       "  </tbody>\n",
       "</table>\n",
       "</div>"
      ],
      "text/plain": [
       "      year month   cluster  n_links\n",
       "942   2020   nov   tweets1     1278\n",
       "741   2020   nov   tweets4      827\n",
       "1444  2022   apr   tweets1      784\n",
       "763   2020   nov   tweets8      565\n",
       "1010  2020   dec   tweets0      515\n",
       "461   2020   feb   tweets0      507\n",
       "419   2020   feb   tweets6      459\n",
       "1026  2021   jan   tweets4      322\n",
       "1176  2021   jun   tweets0      316\n",
       "928   2020   nov  tweets34      316\n",
       "991   2020   dec   tweets9      303\n",
       "1196  2021   jul   tweets0      293\n",
       "213   2019   mar   tweets0      268\n",
       "681   2020   nov  tweets16      258\n",
       "1096  2021   mar   tweets3      255\n",
       "981   2020   dec   tweets3      252\n",
       "467   2020   feb   tweets1      245\n",
       "144   2018   dec   tweets1      239\n",
       "1013  2020   dec   tweets1      239\n",
       "603   2020   jul   tweets0      234"
      ]
     },
     "execution_count": 29,
     "metadata": {},
     "output_type": "execute_result"
    }
   ],
   "source": [
    "print(f\"\\nTotal number of aquaman petition links in the clusters: {aquaman_clusters.n_links.sum()}\")\n",
    "aquaman_clusters.sort_values('n_links', ascending=False).head(20)"
   ]
  },
  {
   "cell_type": "markdown",
   "id": "41f3459a",
   "metadata": {},
   "source": [
    "<br>"
   ]
  },
  {
   "cell_type": "markdown",
   "id": "2e246a0c",
   "metadata": {},
   "source": [
    "### The  Count of Clusters Containing \"Aquaman Petition Links\" in each year"
   ]
  },
  {
   "cell_type": "code",
   "execution_count": 7,
   "id": "900a66b3",
   "metadata": {},
   "outputs": [
    {
     "data": {
      "text/html": [
       "<div>\n",
       "<style scoped>\n",
       "    .dataframe tbody tr th:only-of-type {\n",
       "        vertical-align: middle;\n",
       "    }\n",
       "\n",
       "    .dataframe tbody tr th {\n",
       "        vertical-align: top;\n",
       "    }\n",
       "\n",
       "    .dataframe thead th {\n",
       "        text-align: right;\n",
       "    }\n",
       "</style>\n",
       "<table border=\"1\" class=\"dataframe\">\n",
       "  <thead>\n",
       "    <tr style=\"text-align: right;\">\n",
       "      <th></th>\n",
       "      <th>year</th>\n",
       "      <th>n_clusters</th>\n",
       "      <th>n_links</th>\n",
       "    </tr>\n",
       "  </thead>\n",
       "  <tbody>\n",
       "    <tr>\n",
       "      <th>0</th>\n",
       "      <td>2018</td>\n",
       "      <td>150</td>\n",
       "      <td>2444</td>\n",
       "    </tr>\n",
       "    <tr>\n",
       "      <th>1</th>\n",
       "      <td>2019</td>\n",
       "      <td>195</td>\n",
       "      <td>2952</td>\n",
       "    </tr>\n",
       "    <tr>\n",
       "      <th>2</th>\n",
       "      <td>2020</td>\n",
       "      <td>674</td>\n",
       "      <td>21221</td>\n",
       "    </tr>\n",
       "    <tr>\n",
       "      <th>3</th>\n",
       "      <td>2021</td>\n",
       "      <td>274</td>\n",
       "      <td>7923</td>\n",
       "    </tr>\n",
       "    <tr>\n",
       "      <th>4</th>\n",
       "      <td>2022</td>\n",
       "      <td>169</td>\n",
       "      <td>3797</td>\n",
       "    </tr>\n",
       "  </tbody>\n",
       "</table>\n",
       "</div>"
      ],
      "text/plain": [
       "   year  n_clusters  n_links\n",
       "0  2018         150     2444\n",
       "1  2019         195     2952\n",
       "2  2020         674    21221\n",
       "3  2021         274     7923\n",
       "4  2022         169     3797"
      ]
     },
     "execution_count": 7,
     "metadata": {},
     "output_type": "execute_result"
    }
   ],
   "source": [
    "aquaman_clusters.groupby('year').agg({'cluster': 'count', 'n_links':'sum'}).reset_index()\\\n",
    ".rename(columns={'cluster': 'n_clusters'})"
   ]
  },
  {
   "cell_type": "markdown",
   "id": "2c528a98",
   "metadata": {},
   "source": [
    "### The  Count of Clusters Containing \"Aquaman Petition Links\" in each month"
   ]
  },
  {
   "cell_type": "code",
   "execution_count": 16,
   "id": "fba0dc83",
   "metadata": {},
   "outputs": [],
   "source": [
    "months = ['jan', 'feb', 'mar', 'apr', 'may', 'jun', 'jul', 'aug', 'sep', 'oct', 'nov', 'dec']\n",
    "years = ['2018', '2019', '2020', '2021', '2022']"
   ]
  },
  {
   "cell_type": "code",
   "execution_count": 30,
   "id": "7a9a9750",
   "metadata": {},
   "outputs": [
    {
     "data": {
      "text/html": [
       "<div>\n",
       "<style scoped>\n",
       "    .dataframe tbody tr th:only-of-type {\n",
       "        vertical-align: middle;\n",
       "    }\n",
       "\n",
       "    .dataframe tbody tr th {\n",
       "        vertical-align: top;\n",
       "    }\n",
       "\n",
       "    .dataframe thead th {\n",
       "        text-align: right;\n",
       "    }\n",
       "</style>\n",
       "<table border=\"1\" class=\"dataframe\">\n",
       "  <thead>\n",
       "    <tr style=\"text-align: right;\">\n",
       "      <th></th>\n",
       "      <th>year</th>\n",
       "      <th>month</th>\n",
       "      <th>n_clusters</th>\n",
       "      <th>n_links</th>\n",
       "    </tr>\n",
       "  </thead>\n",
       "  <tbody>\n",
       "    <tr>\n",
       "      <th>4</th>\n",
       "      <td>2018</td>\n",
       "      <td>jan</td>\n",
       "      <td>5</td>\n",
       "      <td>14</td>\n",
       "    </tr>\n",
       "    <tr>\n",
       "      <th>3</th>\n",
       "      <td>2018</td>\n",
       "      <td>feb</td>\n",
       "      <td>8</td>\n",
       "      <td>33</td>\n",
       "    </tr>\n",
       "    <tr>\n",
       "      <th>7</th>\n",
       "      <td>2018</td>\n",
       "      <td>mar</td>\n",
       "      <td>3</td>\n",
       "      <td>10</td>\n",
       "    </tr>\n",
       "    <tr>\n",
       "      <th>0</th>\n",
       "      <td>2018</td>\n",
       "      <td>apr</td>\n",
       "      <td>8</td>\n",
       "      <td>63</td>\n",
       "    </tr>\n",
       "    <tr>\n",
       "      <th>8</th>\n",
       "      <td>2018</td>\n",
       "      <td>may</td>\n",
       "      <td>7</td>\n",
       "      <td>18</td>\n",
       "    </tr>\n",
       "    <tr>\n",
       "      <th>6</th>\n",
       "      <td>2018</td>\n",
       "      <td>jun</td>\n",
       "      <td>12</td>\n",
       "      <td>206</td>\n",
       "    </tr>\n",
       "    <tr>\n",
       "      <th>5</th>\n",
       "      <td>2018</td>\n",
       "      <td>jul</td>\n",
       "      <td>9</td>\n",
       "      <td>89</td>\n",
       "    </tr>\n",
       "    <tr>\n",
       "      <th>1</th>\n",
       "      <td>2018</td>\n",
       "      <td>aug</td>\n",
       "      <td>13</td>\n",
       "      <td>152</td>\n",
       "    </tr>\n",
       "    <tr>\n",
       "      <th>11</th>\n",
       "      <td>2018</td>\n",
       "      <td>sep</td>\n",
       "      <td>7</td>\n",
       "      <td>43</td>\n",
       "    </tr>\n",
       "    <tr>\n",
       "      <th>10</th>\n",
       "      <td>2018</td>\n",
       "      <td>oct</td>\n",
       "      <td>19</td>\n",
       "      <td>278</td>\n",
       "    </tr>\n",
       "    <tr>\n",
       "      <th>9</th>\n",
       "      <td>2018</td>\n",
       "      <td>nov</td>\n",
       "      <td>22</td>\n",
       "      <td>590</td>\n",
       "    </tr>\n",
       "    <tr>\n",
       "      <th>2</th>\n",
       "      <td>2018</td>\n",
       "      <td>dec</td>\n",
       "      <td>37</td>\n",
       "      <td>948</td>\n",
       "    </tr>\n",
       "    <tr>\n",
       "      <th>16</th>\n",
       "      <td>2019</td>\n",
       "      <td>jan</td>\n",
       "      <td>28</td>\n",
       "      <td>327</td>\n",
       "    </tr>\n",
       "    <tr>\n",
       "      <th>15</th>\n",
       "      <td>2019</td>\n",
       "      <td>feb</td>\n",
       "      <td>8</td>\n",
       "      <td>105</td>\n",
       "    </tr>\n",
       "    <tr>\n",
       "      <th>19</th>\n",
       "      <td>2019</td>\n",
       "      <td>mar</td>\n",
       "      <td>35</td>\n",
       "      <td>607</td>\n",
       "    </tr>\n",
       "    <tr>\n",
       "      <th>12</th>\n",
       "      <td>2019</td>\n",
       "      <td>apr</td>\n",
       "      <td>19</td>\n",
       "      <td>446</td>\n",
       "    </tr>\n",
       "    <tr>\n",
       "      <th>20</th>\n",
       "      <td>2019</td>\n",
       "      <td>may</td>\n",
       "      <td>17</td>\n",
       "      <td>212</td>\n",
       "    </tr>\n",
       "    <tr>\n",
       "      <th>18</th>\n",
       "      <td>2019</td>\n",
       "      <td>jun</td>\n",
       "      <td>9</td>\n",
       "      <td>143</td>\n",
       "    </tr>\n",
       "    <tr>\n",
       "      <th>17</th>\n",
       "      <td>2019</td>\n",
       "      <td>jul</td>\n",
       "      <td>13</td>\n",
       "      <td>124</td>\n",
       "    </tr>\n",
       "    <tr>\n",
       "      <th>13</th>\n",
       "      <td>2019</td>\n",
       "      <td>aug</td>\n",
       "      <td>11</td>\n",
       "      <td>81</td>\n",
       "    </tr>\n",
       "    <tr>\n",
       "      <th>23</th>\n",
       "      <td>2019</td>\n",
       "      <td>sep</td>\n",
       "      <td>10</td>\n",
       "      <td>139</td>\n",
       "    </tr>\n",
       "    <tr>\n",
       "      <th>22</th>\n",
       "      <td>2019</td>\n",
       "      <td>oct</td>\n",
       "      <td>13</td>\n",
       "      <td>121</td>\n",
       "    </tr>\n",
       "    <tr>\n",
       "      <th>21</th>\n",
       "      <td>2019</td>\n",
       "      <td>nov</td>\n",
       "      <td>22</td>\n",
       "      <td>503</td>\n",
       "    </tr>\n",
       "    <tr>\n",
       "      <th>14</th>\n",
       "      <td>2019</td>\n",
       "      <td>dec</td>\n",
       "      <td>10</td>\n",
       "      <td>144</td>\n",
       "    </tr>\n",
       "    <tr>\n",
       "      <th>28</th>\n",
       "      <td>2020</td>\n",
       "      <td>jan</td>\n",
       "      <td>12</td>\n",
       "      <td>108</td>\n",
       "    </tr>\n",
       "    <tr>\n",
       "      <th>27</th>\n",
       "      <td>2020</td>\n",
       "      <td>feb</td>\n",
       "      <td>125</td>\n",
       "      <td>4701</td>\n",
       "    </tr>\n",
       "    <tr>\n",
       "      <th>31</th>\n",
       "      <td>2020</td>\n",
       "      <td>mar</td>\n",
       "      <td>20</td>\n",
       "      <td>698</td>\n",
       "    </tr>\n",
       "    <tr>\n",
       "      <th>24</th>\n",
       "      <td>2020</td>\n",
       "      <td>apr</td>\n",
       "      <td>29</td>\n",
       "      <td>942</td>\n",
       "    </tr>\n",
       "    <tr>\n",
       "      <th>32</th>\n",
       "      <td>2020</td>\n",
       "      <td>may</td>\n",
       "      <td>25</td>\n",
       "      <td>607</td>\n",
       "    </tr>\n",
       "    <tr>\n",
       "      <th>30</th>\n",
       "      <td>2020</td>\n",
       "      <td>jun</td>\n",
       "      <td>23</td>\n",
       "      <td>391</td>\n",
       "    </tr>\n",
       "    <tr>\n",
       "      <th>29</th>\n",
       "      <td>2020</td>\n",
       "      <td>jul</td>\n",
       "      <td>30</td>\n",
       "      <td>686</td>\n",
       "    </tr>\n",
       "    <tr>\n",
       "      <th>25</th>\n",
       "      <td>2020</td>\n",
       "      <td>aug</td>\n",
       "      <td>26</td>\n",
       "      <td>664</td>\n",
       "    </tr>\n",
       "    <tr>\n",
       "      <th>35</th>\n",
       "      <td>2020</td>\n",
       "      <td>sep</td>\n",
       "      <td>18</td>\n",
       "      <td>484</td>\n",
       "    </tr>\n",
       "    <tr>\n",
       "      <th>34</th>\n",
       "      <td>2020</td>\n",
       "      <td>oct</td>\n",
       "      <td>23</td>\n",
       "      <td>545</td>\n",
       "    </tr>\n",
       "    <tr>\n",
       "      <th>33</th>\n",
       "      <td>2020</td>\n",
       "      <td>nov</td>\n",
       "      <td>299</td>\n",
       "      <td>9287</td>\n",
       "    </tr>\n",
       "    <tr>\n",
       "      <th>26</th>\n",
       "      <td>2020</td>\n",
       "      <td>dec</td>\n",
       "      <td>44</td>\n",
       "      <td>2108</td>\n",
       "    </tr>\n",
       "    <tr>\n",
       "      <th>40</th>\n",
       "      <td>2021</td>\n",
       "      <td>jan</td>\n",
       "      <td>25</td>\n",
       "      <td>953</td>\n",
       "    </tr>\n",
       "    <tr>\n",
       "      <th>39</th>\n",
       "      <td>2021</td>\n",
       "      <td>feb</td>\n",
       "      <td>49</td>\n",
       "      <td>1234</td>\n",
       "    </tr>\n",
       "    <tr>\n",
       "      <th>43</th>\n",
       "      <td>2021</td>\n",
       "      <td>mar</td>\n",
       "      <td>31</td>\n",
       "      <td>873</td>\n",
       "    </tr>\n",
       "    <tr>\n",
       "      <th>36</th>\n",
       "      <td>2021</td>\n",
       "      <td>apr</td>\n",
       "      <td>17</td>\n",
       "      <td>656</td>\n",
       "    </tr>\n",
       "    <tr>\n",
       "      <th>44</th>\n",
       "      <td>2021</td>\n",
       "      <td>may</td>\n",
       "      <td>17</td>\n",
       "      <td>461</td>\n",
       "    </tr>\n",
       "    <tr>\n",
       "      <th>42</th>\n",
       "      <td>2021</td>\n",
       "      <td>jun</td>\n",
       "      <td>23</td>\n",
       "      <td>1022</td>\n",
       "    </tr>\n",
       "    <tr>\n",
       "      <th>41</th>\n",
       "      <td>2021</td>\n",
       "      <td>jul</td>\n",
       "      <td>19</td>\n",
       "      <td>832</td>\n",
       "    </tr>\n",
       "    <tr>\n",
       "      <th>37</th>\n",
       "      <td>2021</td>\n",
       "      <td>aug</td>\n",
       "      <td>19</td>\n",
       "      <td>636</td>\n",
       "    </tr>\n",
       "    <tr>\n",
       "      <th>47</th>\n",
       "      <td>2021</td>\n",
       "      <td>sep</td>\n",
       "      <td>23</td>\n",
       "      <td>396</td>\n",
       "    </tr>\n",
       "    <tr>\n",
       "      <th>46</th>\n",
       "      <td>2021</td>\n",
       "      <td>oct</td>\n",
       "      <td>23</td>\n",
       "      <td>442</td>\n",
       "    </tr>\n",
       "    <tr>\n",
       "      <th>45</th>\n",
       "      <td>2021</td>\n",
       "      <td>nov</td>\n",
       "      <td>13</td>\n",
       "      <td>192</td>\n",
       "    </tr>\n",
       "    <tr>\n",
       "      <th>38</th>\n",
       "      <td>2021</td>\n",
       "      <td>dec</td>\n",
       "      <td>15</td>\n",
       "      <td>226</td>\n",
       "    </tr>\n",
       "    <tr>\n",
       "      <th>50</th>\n",
       "      <td>2022</td>\n",
       "      <td>jan</td>\n",
       "      <td>18</td>\n",
       "      <td>289</td>\n",
       "    </tr>\n",
       "    <tr>\n",
       "      <th>49</th>\n",
       "      <td>2022</td>\n",
       "      <td>feb</td>\n",
       "      <td>17</td>\n",
       "      <td>368</td>\n",
       "    </tr>\n",
       "    <tr>\n",
       "      <th>51</th>\n",
       "      <td>2022</td>\n",
       "      <td>mar</td>\n",
       "      <td>17</td>\n",
       "      <td>468</td>\n",
       "    </tr>\n",
       "    <tr>\n",
       "      <th>48</th>\n",
       "      <td>2022</td>\n",
       "      <td>apr</td>\n",
       "      <td>117</td>\n",
       "      <td>2672</td>\n",
       "    </tr>\n",
       "  </tbody>\n",
       "</table>\n",
       "</div>"
      ],
      "text/plain": [
       "    year month  n_clusters  n_links\n",
       "4   2018   jan           5       14\n",
       "3   2018   feb           8       33\n",
       "7   2018   mar           3       10\n",
       "0   2018   apr           8       63\n",
       "8   2018   may           7       18\n",
       "6   2018   jun          12      206\n",
       "5   2018   jul           9       89\n",
       "1   2018   aug          13      152\n",
       "11  2018   sep           7       43\n",
       "10  2018   oct          19      278\n",
       "9   2018   nov          22      590\n",
       "2   2018   dec          37      948\n",
       "16  2019   jan          28      327\n",
       "15  2019   feb           8      105\n",
       "19  2019   mar          35      607\n",
       "12  2019   apr          19      446\n",
       "20  2019   may          17      212\n",
       "18  2019   jun           9      143\n",
       "17  2019   jul          13      124\n",
       "13  2019   aug          11       81\n",
       "23  2019   sep          10      139\n",
       "22  2019   oct          13      121\n",
       "21  2019   nov          22      503\n",
       "14  2019   dec          10      144\n",
       "28  2020   jan          12      108\n",
       "27  2020   feb         125     4701\n",
       "31  2020   mar          20      698\n",
       "24  2020   apr          29      942\n",
       "32  2020   may          25      607\n",
       "30  2020   jun          23      391\n",
       "29  2020   jul          30      686\n",
       "25  2020   aug          26      664\n",
       "35  2020   sep          18      484\n",
       "34  2020   oct          23      545\n",
       "33  2020   nov         299     9287\n",
       "26  2020   dec          44     2108\n",
       "40  2021   jan          25      953\n",
       "39  2021   feb          49     1234\n",
       "43  2021   mar          31      873\n",
       "36  2021   apr          17      656\n",
       "44  2021   may          17      461\n",
       "42  2021   jun          23     1022\n",
       "41  2021   jul          19      832\n",
       "37  2021   aug          19      636\n",
       "47  2021   sep          23      396\n",
       "46  2021   oct          23      442\n",
       "45  2021   nov          13      192\n",
       "38  2021   dec          15      226\n",
       "50  2022   jan          18      289\n",
       "49  2022   feb          17      368\n",
       "51  2022   mar          17      468\n",
       "48  2022   apr         117     2672"
      ]
     },
     "execution_count": 30,
     "metadata": {},
     "output_type": "execute_result"
    }
   ],
   "source": [
    "df = aquaman_clusters.groupby(['year', 'month']).agg({'cluster': 'count', 'n_links':'sum'}).reset_index()\\\n",
    ".rename(columns={'cluster': 'n_clusters'})\n",
    "\n",
    "df['month'] = pd.Categorical(df['month'], months)\n",
    "# df['year'] = pd.Categorical(df['year'].astype(str), years)\n",
    "\n",
    "\n",
    "df.sort_values([\"year\", \"month\"], inplace=True)\n",
    "df"
   ]
  },
  {
   "cell_type": "code",
   "execution_count": 47,
   "id": "d59699ed",
   "metadata": {},
   "outputs": [],
   "source": [
    "# import helpers\n",
    "# helpers.bar_peaks(df[['month', 'n_links']], 'title', threshold=0, xlabel='tweets Creation Date')"
   ]
  },
  {
   "cell_type": "code",
   "execution_count": 61,
   "id": "1b7bc853",
   "metadata": {},
   "outputs": [
    {
     "data": {
      "image/png": "[encoded data removed]",
      "text/plain": [
       "<Figure size 864x576 with 5 Axes>"
      ]
     },
     "metadata": {
      "image/png": {
       "height": 633,
       "width": 855
      },
      "needs_background": "light"
     },
     "output_type": "display_data"
    }
   ],
   "source": [
    "title = 'The Count of Clusters Containing \"Aquaman Petition Links\" in each month'\n",
    "\n",
    "g = sb.FacetGrid(data=df, col='year', col_wrap=3, height=4) # , col_order=months_ordered if facet_on=='month' else None\n",
    "g.map(sb.barplot, 'month', 'n_links', palette=[\"#5296dd\"]); # ,order=days_ordered if facet_on=='month' else months_ordered\n",
    "g.set_xticklabels(rotation=90);\n",
    "g.set_titles(\"{col_name}\", size=16, y=-0.26); #\n",
    "#     g.set_yticklabels(size = 4)\n",
    "#     g.set_xticklabels(size = 10)\n",
    "\n",
    "plt.suptitle(title, y=1.06, fontsize=18)\n",
    "g.fig.subplots_adjust(wspace=0.1, hspace=0.5)\n",
    "g.set_xlabels(\"\")\n",
    "for axis in g.axes.flat:\n",
    "    axis.tick_params(labelbottom=True)"
   ]
  },
  {
   "cell_type": "code",
   "execution_count": 52,
   "id": "a9ac7761",
   "metadata": {},
   "outputs": [],
   "source": [
    "# for y in years:\n",
    "#     tmp = df[df.year.astype('str') == y]\n",
    "#     helpers.bar_peaks(tmp[['month', 'n_links']], 'title', threshold=0, xlabel='month')"
   ]
  },
  {
   "cell_type": "markdown",
   "id": "8d756b5a",
   "metadata": {},
   "source": [
    "<br>"
   ]
  },
  {
   "cell_type": "markdown",
   "id": "04433749",
   "metadata": {},
   "source": [
    "### Save the Aquaman Clusters info DataFrame"
   ]
  },
  {
   "cell_type": "code",
   "execution_count": 32,
   "id": "47c7c722",
   "metadata": {},
   "outputs": [],
   "source": [
    "aquaman_clusters.to_csv('aquaman_clusters_info.csv', encoding='utf-8', index=False)"
   ]
  },
  {
   "cell_type": "code",
   "execution_count": 33,
   "id": "c46a0ceb",
   "metadata": {},
   "outputs": [
    {
     "name": "stdout",
     "output_type": "stream",
     "text": [
      "(1462, 4)\n"
     ]
    },
    {
     "data": {
      "text/html": [
       "<div>\n",
       "<style scoped>\n",
       "    .dataframe tbody tr th:only-of-type {\n",
       "        vertical-align: middle;\n",
       "    }\n",
       "\n",
       "    .dataframe tbody tr th {\n",
       "        vertical-align: top;\n",
       "    }\n",
       "\n",
       "    .dataframe thead th {\n",
       "        text-align: right;\n",
       "    }\n",
       "</style>\n",
       "<table border=\"1\" class=\"dataframe\">\n",
       "  <thead>\n",
       "    <tr style=\"text-align: right;\">\n",
       "      <th></th>\n",
       "      <th>year</th>\n",
       "      <th>month</th>\n",
       "      <th>cluster</th>\n",
       "      <th>n_links</th>\n",
       "    </tr>\n",
       "  </thead>\n",
       "  <tbody>\n",
       "    <tr>\n",
       "      <th>0</th>\n",
       "      <td>2018</td>\n",
       "      <td>jan</td>\n",
       "      <td>tweets5</td>\n",
       "      <td>10</td>\n",
       "    </tr>\n",
       "    <tr>\n",
       "      <th>1</th>\n",
       "      <td>2018</td>\n",
       "      <td>jan</td>\n",
       "      <td>tweets6</td>\n",
       "      <td>1</td>\n",
       "    </tr>\n",
       "  </tbody>\n",
       "</table>\n",
       "</div>"
      ],
      "text/plain": [
       "   year month  cluster  n_links\n",
       "0  2018   jan  tweets5       10\n",
       "1  2018   jan  tweets6        1"
      ]
     },
     "execution_count": 33,
     "metadata": {},
     "output_type": "execute_result"
    }
   ],
   "source": [
    "# Load DATA\n",
    "df = pd.read_csv('aquaman_clusters_info.csv')\n",
    "print(df.shape)\n",
    "df.head(2)"
   ]
  },
  {
   "cell_type": "markdown",
   "id": "d5f60dcc",
   "metadata": {},
   "source": [
    "## Total Number of Clusters Containing Aquaman Petition Links > 10\n",
    "(> 10 tweets with links within the same cluster)"
   ]
  },
  {
   "cell_type": "code",
   "execution_count": 30,
   "id": "6824feb2",
   "metadata": {},
   "outputs": [
    {
     "data": {
      "text/plain": [
       "608"
      ]
     },
     "execution_count": 30,
     "metadata": {},
     "output_type": "execute_result"
    }
   ],
   "source": [
    "(aquaman_clusters.n_links>10).sum()"
   ]
  },
  {
   "cell_type": "markdown",
   "id": "1a59beb1",
   "metadata": {},
   "source": [
    "---"
   ]
  },
  {
   "cell_type": "markdown",
   "id": "aedc35e8",
   "metadata": {},
   "source": [
    "# SampleCluster "
   ]
  },
  {
   "cell_type": "code",
   "execution_count": 31,
   "id": "f3077497",
   "metadata": {},
   "outputs": [],
   "source": [
    "# def get_sample():\n",
    "#     for year in years:\n",
    "#         for month in months:\n",
    "#             path = 'Clustering Results/' + year + ' Clustering Twitter Result/data/' + month[1]\n",
    "#             try:        \n",
    "#                 for file in os.listdir(path):\n",
    "#                     if file.endswith('.json'):\n",
    "#                         with open( os.path.join(path, file) ) as f:\n",
    "#                             tweets = pd.DataFrame(json.load(f))\n",
    "#                             aquaman = tweets[tweets.full_text.str.lower().str.contains('aquaman|petition')]\n",
    "#                             aquaman_petition = aquaman[aquaman.full_text.str.lower().str.contains('http')]\n",
    "#                             if len(aquaman_petition) > 1000:\n",
    "#                                 print(f'Year: {year}, Month: {month}, File: {file}')\n",
    "#                                 return 0\n",
    "                            \n",
    "#             except: \n",
    "#                 break  \n",
    "#     return 0"
   ]
  },
  {
   "cell_type": "code",
   "execution_count": 20,
   "id": "de6507cb",
   "metadata": {},
   "outputs": [
    {
     "name": "stdout",
     "output_type": "stream",
     "text": [
      "Year: 2020, Month: (11, 'nov'), File: tweets1.json\n",
      "0.4597428957621256\n"
     ]
    }
   ],
   "source": [
    "# t0 = time()\n",
    "# get_sample()\n",
    "# print((time()-t0)/60)"
   ]
  },
  {
   "cell_type": "markdown",
   "id": "64e0fbdc",
   "metadata": {},
   "source": [
    "<br>"
   ]
  },
  {
   "cell_type": "markdown",
   "id": "961e3c5f",
   "metadata": {},
   "source": [
    "<br>"
   ]
  }
 ],
 "metadata": {
  "kernelspec": {
   "display_name": "Python 3 (ipykernel)",
   "language": "python",
   "name": "python3"
  },
  "language_info": {
   "codemirror_mode": {
    "name": "ipython",
    "version": 3
   },
   "file_extension": ".py",
   "mimetype": "text/x-python",
   "name": "python",
   "nbconvert_exporter": "python",
   "pygments_lexer": "ipython3",
   "version": "3.8.12"
  }
 },
 "nbformat": 4,
 "nbformat_minor": 5
}
