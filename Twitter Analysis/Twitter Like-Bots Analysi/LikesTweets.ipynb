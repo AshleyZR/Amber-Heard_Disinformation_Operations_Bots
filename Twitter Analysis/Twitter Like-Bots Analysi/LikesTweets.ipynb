{
 "cells": [
  {
   "cell_type": "code",
   "execution_count": 122,
   "metadata": {
    "id": "IgrDGbisGzu1"
   },
   "outputs": [],
   "source": [
    "import pandas as pd\n",
    "import os \n",
    "import glob\n",
    "import numpy as np\n",
    "import seaborn as sns\n",
    "import matplotlib.pyplot as plt "
   ]
  },
  {
   "cell_type": "code",
   "execution_count": 107,
   "metadata": {},
   "outputs": [
    {
     "name": "stdout",
     "output_type": "stream",
     "text": [
      "Requirement already satisfied: plotly in c:\\users\\user pc\\anaconda3\\lib\\site-packages (5.6.0)\n",
      "Requirement already satisfied: tenacity>=6.2.0 in c:\\users\\user pc\\anaconda3\\lib\\site-packages (from plotly) (8.0.1)\n",
      "Requirement already satisfied: six in c:\\users\\user pc\\anaconda3\\lib\\site-packages (from plotly) (1.15.0)\n"
     ]
    }
   ],
   "source": [
    "!pip install plotly"
   ]
  },
  {
   "cell_type": "code",
   "execution_count": 108,
   "metadata": {
    "id": "fwSk5GsOIVFK"
   },
   "outputs": [],
   "source": [
    "import pandas as pd\n",
    "import plotly.graph_objects as go"
   ]
  },
  {
   "cell_type": "markdown",
   "metadata": {
    "id": "N-sNQ2joHLPK"
   },
   "source": [
    "## Fetch Data"
   ]
  },
  {
   "cell_type": "code",
   "execution_count": 109,
   "metadata": {
    "id": "ftjSRu0a66cS"
   },
   "outputs": [],
   "source": [
    "txtfiles = []\n",
    "for file in glob.glob(\"D:/crawler/crawler/Tweets/final/*\"):\n",
    "    txtfiles.append(file)\n",
    "arr = next(os.walk('D:/crawler/crawler/Tweets/final/'))[2]"
   ]
  },
  {
   "cell_type": "code",
   "execution_count": 6,
   "metadata": {
    "colab": {
     "base_uri": "https://localhost:8080/"
    },
    "id": "WCRKxt_kOiIR",
    "outputId": "3cf0494d-23e6-4383-89e5-c33da8006be1"
   },
   "outputs": [
    {
     "data": {
      "text/plain": [
       "9776"
      ]
     },
     "execution_count": 6,
     "metadata": {},
     "output_type": "execute_result"
    }
   ],
   "source": [
    "len(arr)"
   ]
  },
  {
   "cell_type": "code",
   "execution_count": 110,
   "metadata": {
    "id": "l6QWsupWGdE5"
   },
   "outputs": [],
   "source": [
    "df = pd.DataFrame(columns=['tweetid'])\n",
    "for filename in glob.glob(\"D:/crawler/crawler/Tweets/final/*\"):\n",
    "  csv = pd.read_csv(filename) \n",
    "  csv['tweetid'] = filename.split('/')[4]\n",
    "  df = df.append(csv)"
   ]
  },
  {
   "cell_type": "code",
   "execution_count": 145,
   "metadata": {
    "id": "InQZiQgKJC5e"
   },
   "outputs": [],
   "source": [
    "df.columns = ['id_str', 'likeduser']"
   ]
  },
  {
   "cell_type": "code",
   "execution_count": 151,
   "metadata": {},
   "outputs": [
    {
     "name": "stderr",
     "output_type": "stream",
     "text": [
      "<ipython-input-151-bc2d98a3034f>:1: FutureWarning:\n",
      "\n",
      "The default value of regex will change from True to False in a future version. In addition, single character regular expressions will*not* be treated as literal strings when regex=True.\n",
      "\n"
     ]
    }
   ],
   "source": [
    "df['id_str'] = df['id_str'].str.replace(\"\\\\\",'')"
   ]
  },
  {
   "cell_type": "code",
   "execution_count": 153,
   "metadata": {},
   "outputs": [],
   "source": [
    "df['id_str'] = df['id_str'].str.replace(\"final\",'')"
   ]
  },
  {
   "cell_type": "code",
   "execution_count": 154,
   "metadata": {
    "colab": {
     "base_uri": "https://localhost:8080/",
     "height": 206
    },
    "id": "680sE9MWHFo5",
    "outputId": "cfe16985-94d6-408b-cb5a-d1415e192861"
   },
   "outputs": [
    {
     "name": "stdout",
     "output_type": "stream",
     "text": [
      "<class 'pandas.core.frame.DataFrame'>\n",
      "Int64Index: 196295 entries, 0 to 0\n",
      "Data columns (total 2 columns):\n",
      " #   Column     Non-Null Count   Dtype \n",
      "---  ------     --------------   ----- \n",
      " 0   id_str     196295 non-null  object\n",
      " 1   likeduser  196295 non-null  object\n",
      "dtypes: object(2)\n",
      "memory usage: 4.5+ MB\n"
     ]
    }
   ],
   "source": [
    "df.info()"
   ]
  },
  {
   "cell_type": "code",
   "execution_count": 155,
   "metadata": {},
   "outputs": [
    {
     "data": {
      "text/html": [
       "<div>\n",
       "<style scoped>\n",
       "    .dataframe tbody tr th:only-of-type {\n",
       "        vertical-align: middle;\n",
       "    }\n",
       "\n",
       "    .dataframe tbody tr th {\n",
       "        vertical-align: top;\n",
       "    }\n",
       "\n",
       "    .dataframe thead th {\n",
       "        text-align: right;\n",
       "    }\n",
       "</style>\n",
       "<table border=\"1\" class=\"dataframe\">\n",
       "  <thead>\n",
       "    <tr style=\"text-align: right;\">\n",
       "      <th></th>\n",
       "      <th>id_str</th>\n",
       "      <th>likeduser</th>\n",
       "    </tr>\n",
       "  </thead>\n",
       "  <tbody>\n",
       "    <tr>\n",
       "      <th>0</th>\n",
       "      <td>1344795503251357700</td>\n",
       "      <td>@d_royalti</td>\n",
       "    </tr>\n",
       "    <tr>\n",
       "      <th>1</th>\n",
       "      <td>1344795503251357700</td>\n",
       "      <td>@dahliaratchett</td>\n",
       "    </tr>\n",
       "    <tr>\n",
       "      <th>2</th>\n",
       "      <td>1344795503251357700</td>\n",
       "      <td>@1coolwhipp</td>\n",
       "    </tr>\n",
       "    <tr>\n",
       "      <th>3</th>\n",
       "      <td>1344795503251357700</td>\n",
       "      <td>@catheri40650110</td>\n",
       "    </tr>\n",
       "    <tr>\n",
       "      <th>4</th>\n",
       "      <td>1344795503251357700</td>\n",
       "      <td>@nefelibatasays</td>\n",
       "    </tr>\n",
       "    <tr>\n",
       "      <th>...</th>\n",
       "      <td>...</td>\n",
       "      <td>...</td>\n",
       "    </tr>\n",
       "    <tr>\n",
       "      <th>2</th>\n",
       "      <td>1386351738127585288</td>\n",
       "      <td>@heipsansaa</td>\n",
       "    </tr>\n",
       "    <tr>\n",
       "      <th>0</th>\n",
       "      <td>1386368132470788102</td>\n",
       "      <td>@Barbara72346664</td>\n",
       "    </tr>\n",
       "    <tr>\n",
       "      <th>1</th>\n",
       "      <td>1386368132470788102</td>\n",
       "      <td>@greybalance1</td>\n",
       "    </tr>\n",
       "    <tr>\n",
       "      <th>2</th>\n",
       "      <td>1386368132470788102</td>\n",
       "      <td>@Ral314</td>\n",
       "    </tr>\n",
       "    <tr>\n",
       "      <th>0</th>\n",
       "      <td>1386368242965438464</td>\n",
       "      <td>@yanikblack</td>\n",
       "    </tr>\n",
       "  </tbody>\n",
       "</table>\n",
       "<p>196295 rows × 2 columns</p>\n",
       "</div>"
      ],
      "text/plain": [
       "                 id_str         likeduser\n",
       "0   1344795503251357700        @d_royalti\n",
       "1   1344795503251357700   @dahliaratchett\n",
       "2   1344795503251357700       @1coolwhipp\n",
       "3   1344795503251357700  @catheri40650110\n",
       "4   1344795503251357700   @nefelibatasays\n",
       "..                  ...               ...\n",
       "2   1386351738127585288       @heipsansaa\n",
       "0   1386368132470788102  @Barbara72346664\n",
       "1   1386368132470788102     @greybalance1\n",
       "2   1386368132470788102           @Ral314\n",
       "0   1386368242965438464       @yanikblack\n",
       "\n",
       "[196295 rows x 2 columns]"
      ]
     },
     "execution_count": 155,
     "metadata": {},
     "output_type": "execute_result"
    }
   ],
   "source": [
    "df"
   ]
  },
  {
   "cell_type": "code",
   "execution_count": null,
   "metadata": {},
   "outputs": [],
   "source": [
    "df[\"id_str\"] = pd.to_numeric(df[\"id_str\"])"
   ]
  },
  {
   "cell_type": "code",
   "execution_count": 161,
   "metadata": {
    "id": "vKaA5p3WL0JV"
   },
   "outputs": [],
   "source": [
    "test = df['likeduser'].value_counts()"
   ]
  },
  {
   "cell_type": "code",
   "execution_count": 116,
   "metadata": {},
   "outputs": [],
   "source": [
    "## Top 50 Users"
   ]
  },
  {
   "cell_type": "code",
   "execution_count": 137,
   "metadata": {
    "id": "G94xD0AFNJQr"
   },
   "outputs": [],
   "source": [
    "df_value_counts = test.reset_index()\n",
    "df_value_counts.columns = ['unique_values', 'counts']"
   ]
  },
  {
   "cell_type": "code",
   "execution_count": 138,
   "metadata": {},
   "outputs": [
    {
     "data": {
      "text/html": [
       "<div>\n",
       "<style scoped>\n",
       "    .dataframe tbody tr th:only-of-type {\n",
       "        vertical-align: middle;\n",
       "    }\n",
       "\n",
       "    .dataframe tbody tr th {\n",
       "        vertical-align: top;\n",
       "    }\n",
       "\n",
       "    .dataframe thead th {\n",
       "        text-align: right;\n",
       "    }\n",
       "</style>\n",
       "<table border=\"1\" class=\"dataframe\">\n",
       "  <thead>\n",
       "    <tr style=\"text-align: right;\">\n",
       "      <th></th>\n",
       "      <th>unique_values</th>\n",
       "      <th>counts</th>\n",
       "    </tr>\n",
       "  </thead>\n",
       "  <tbody>\n",
       "    <tr>\n",
       "      <th>0</th>\n",
       "      <td>@Melinda15199317</td>\n",
       "      <td>939</td>\n",
       "    </tr>\n",
       "    <tr>\n",
       "      <th>1</th>\n",
       "      <td>@dahliaratchett</td>\n",
       "      <td>860</td>\n",
       "    </tr>\n",
       "    <tr>\n",
       "      <th>2</th>\n",
       "      <td>@Aishacat5</td>\n",
       "      <td>849</td>\n",
       "    </tr>\n",
       "    <tr>\n",
       "      <th>3</th>\n",
       "      <td>@bluecro90230758</td>\n",
       "      <td>760</td>\n",
       "    </tr>\n",
       "    <tr>\n",
       "      <th>4</th>\n",
       "      <td>@la77465262</td>\n",
       "      <td>718</td>\n",
       "    </tr>\n",
       "    <tr>\n",
       "      <th>...</th>\n",
       "      <td>...</td>\n",
       "      <td>...</td>\n",
       "    </tr>\n",
       "    <tr>\n",
       "      <th>56629</th>\n",
       "      <td>@oscara1515</td>\n",
       "      <td>1</td>\n",
       "    </tr>\n",
       "    <tr>\n",
       "      <th>56630</th>\n",
       "      <td>@IEatTabloids</td>\n",
       "      <td>1</td>\n",
       "    </tr>\n",
       "    <tr>\n",
       "      <th>56631</th>\n",
       "      <td>@PsychedaliaM</td>\n",
       "      <td>1</td>\n",
       "    </tr>\n",
       "    <tr>\n",
       "      <th>56632</th>\n",
       "      <td>@mary_fagan</td>\n",
       "      <td>1</td>\n",
       "    </tr>\n",
       "    <tr>\n",
       "      <th>56633</th>\n",
       "      <td>@james_nettum</td>\n",
       "      <td>1</td>\n",
       "    </tr>\n",
       "  </tbody>\n",
       "</table>\n",
       "<p>56634 rows × 2 columns</p>\n",
       "</div>"
      ],
      "text/plain": [
       "          unique_values  counts\n",
       "0      @Melinda15199317     939\n",
       "1       @dahliaratchett     860\n",
       "2            @Aishacat5     849\n",
       "3      @bluecro90230758     760\n",
       "4           @la77465262     718\n",
       "...                 ...     ...\n",
       "56629       @oscara1515       1\n",
       "56630     @IEatTabloids       1\n",
       "56631     @PsychedaliaM       1\n",
       "56632       @mary_fagan       1\n",
       "56633     @james_nettum       1\n",
       "\n",
       "[56634 rows x 2 columns]"
      ]
     },
     "execution_count": 138,
     "metadata": {},
     "output_type": "execute_result"
    }
   ],
   "source": [
    "df_value_counts"
   ]
  },
  {
   "cell_type": "code",
   "execution_count": 135,
   "metadata": {},
   "outputs": [
    {
     "data": {
      "image/png": "[encoded data removed]",
      "text/plain": [
       "<Figure size 1080x432 with 1 Axes>"
      ]
     },
     "metadata": {},
     "output_type": "display_data"
    }
   ],
   "source": [
    "sns.set_style(\"whitegrid\")\n",
    "bar,ax = plt.subplots(figsize=(15,6))\n",
    "ax = sns.barplot(x=df_value_counts['unique_values'][0:10], y=df_value_counts['counts'][0:10], data=df_value_counts, ci=None, palette=\"muted\",orient='v', )\n",
    "ax.set_title(\"Bar chart approximation of Top 10 User with most Likes\", fontsize=15)\n",
    "ax.set_xlabel (\"User\")\n",
    "ax.set_ylabel (\"Tweet Like Count\")\n",
    "for rect in ax.patches:\n",
    "    ax.text (rect.get_x()  + rect.get_width() /5,rect.get_height(),\"%.1f\"% rect.get_height(), weight='bold' )\n",
    "bar.savefig(\"Tweet10.png\");"
   ]
  },
  {
   "cell_type": "code",
   "execution_count": 136,
   "metadata": {},
   "outputs": [
    {
     "data": {
      "image/png": "[encoded data removed]",
      "text/plain": [
       "<Figure size 1080x432 with 1 Axes>"
      ]
     },
     "metadata": {},
     "output_type": "display_data"
    }
   ],
   "source": [
    "sns.set_style(\"whitegrid\")\n",
    "bar,ax = plt.subplots(figsize=(15,6))\n",
    "ax = sns.barplot(x=df_value_counts['unique_values'][10:20], y=df_value_counts['counts'][10:20], data=df_value_counts, ci=None, palette=\"muted\",orient='v', )\n",
    "ax.set_title(\"Bar chart approximation of Next Top 10 User with most Likes\", fontsize=15)\n",
    "ax.set_xlabel (\"User\")\n",
    "ax.set_ylabel (\"Tweet Like Count\")\n",
    "for rect in ax.patches:\n",
    "    ax.text (rect.get_x()  + rect.get_width() /5,rect.get_height(),\"%.1f\"% rect.get_height(), weight='bold' )\n",
    "bar.savefig(\"Tweet20.png\");"
   ]
  },
  {
   "cell_type": "markdown",
   "metadata": {
    "id": "oWIj5njdH1Oy"
   },
   "source": [
    "## Load Tweets Data Full"
   ]
  },
  {
   "cell_type": "code",
   "execution_count": null,
   "metadata": {},
   "outputs": [],
   "source": [
    "df1 = pd.read_csv('C:/Users/USER PC/Downloads/twitter/_Twitter - Data/tweets_2021.csv',low_memory=False) "
   ]
  },
  {
   "cell_type": "code",
   "execution_count": 156,
   "metadata": {},
   "outputs": [
    {
     "name": "stdout",
     "output_type": "stream",
     "text": [
      "<class 'pandas.core.frame.DataFrame'>\n",
      "RangeIndex: 228687 entries, 0 to 228686\n",
      "Data columns (total 39 columns):\n",
      " #   Column                                   Non-Null Count   Dtype  \n",
      "---  ------                                   --------------   -----  \n",
      " 0   id_str                                   228687 non-null  object \n",
      " 1   created_at                               228687 non-null  object \n",
      " 2   full_text                                228687 non-null  object \n",
      " 3   lang                                     228686 non-null  object \n",
      " 4   in_reply_to_status_id_str                75799 non-null   object \n",
      " 5   in_reply_to_user_id                      78962 non-null   object \n",
      " 6   entities.hashtags                        228687 non-null  object \n",
      " 7   entities.media                           45451 non-null   object \n",
      " 8   entities.symbols                         228687 non-null  object \n",
      " 9   entities.urls                            228687 non-null  object \n",
      " 10  entities.user_mentions                   228686 non-null  object \n",
      " 11  source                                   228687 non-null  object \n",
      " 12  quoted_status.id_str                     65088 non-null   float64\n",
      " 13  quoted_status.created_at                 65088 non-null   object \n",
      " 14  quoted_status.full_text                  65088 non-null   object \n",
      " 15  quoted_status.lang                       65088 non-null   object \n",
      " 16  quoted_status.in_reply_to_status_id_str  9295 non-null    float64\n",
      " 17  quoted_status.in_reply_to_user_id        9641 non-null    float64\n",
      " 18  quoted_status.entities.hashtags          65088 non-null   object \n",
      " 19  quoted_status.entities.media             34715 non-null   object \n",
      " 20  quoted_status.entities.symbols           65088 non-null   object \n",
      " 21  quoted_status.entities.urls              65088 non-null   object \n",
      " 22  quoted_status.entities.user_mentions     65088 non-null   object \n",
      " 23  quoted_status.user.id_str                65088 non-null   float64\n",
      " 24  quoted_status.source                     65088 non-null   object \n",
      " 25  user.id_str                              228686 non-null  float64\n",
      " 26  user.created_at                          228686 non-null  object \n",
      " 27  user.description                         200495 non-null  object \n",
      " 28  user.followers_count                     228685 non-null  float64\n",
      " 29  user.friends_count                       228685 non-null  float64\n",
      " 30  user.lang                                0 non-null       float64\n",
      " 31  user.location                            143157 non-null  object \n",
      " 32  user.name                                228673 non-null  object \n",
      " 33  user.screen_name                         228685 non-null  object \n",
      " 34  user.profile_banner_url                  197975 non-null  object \n",
      " 35  user.profile_image_url                   228677 non-null  object \n",
      " 36  user.statuses_count                      228685 non-null  float64\n",
      " 37  user.url                                 49394 non-null   object \n",
      " 38  user.verified                            228685 non-null  object \n",
      "dtypes: float64(9), object(30)\n",
      "memory usage: 68.0+ MB\n"
     ]
    }
   ],
   "source": [
    "df1.info()"
   ]
  },
  {
   "cell_type": "code",
   "execution_count": 157,
   "metadata": {
    "id": "IdhbEkjCOijj"
   },
   "outputs": [],
   "source": [
    "df3 = pd.merge(df, df1, on='id_str')"
   ]
  },
  {
   "cell_type": "code",
   "execution_count": 162,
   "metadata": {},
   "outputs": [],
   "source": [
    "df3.to_csv('all_tweets.csv')"
   ]
  },
  {
   "cell_type": "code",
   "execution_count": 163,
   "metadata": {},
   "outputs": [],
   "source": [
    "def splitcsv(filename):\n",
    "    count = 0\n",
    "    for i,chunk in enumerate(pd.read_csv(filename, chunksize=50000)):\n",
    "        count = count + 1\n",
    "        chunk.to_csv('all_tweets_twitter_chunk{}.csv'.format(i), index=False)\n",
    "        print(count)"
   ]
  },
  {
   "cell_type": "code",
   "execution_count": 165,
   "metadata": {},
   "outputs": [],
   "source": [
    "load = 'all_tweets.csv'"
   ]
  },
  {
   "cell_type": "code",
   "execution_count": 166,
   "metadata": {},
   "outputs": [
    {
     "name": "stdout",
     "output_type": "stream",
     "text": [
      "1\n"
     ]
    },
    {
     "name": "stderr",
     "output_type": "stream",
     "text": [
      "C:\\Users\\USER PC\\anaconda3\\lib\\site-packages\\IPython\\core\\interactiveshell.py:3357: DtypeWarning:\n",
      "\n",
      "Columns (15,16,17,20,21,22,23,24,26,39) have mixed types.Specify dtype option on import or set low_memory=False.\n",
      "\n"
     ]
    },
    {
     "name": "stdout",
     "output_type": "stream",
     "text": [
      "2\n",
      "3\n",
      "4\n"
     ]
    }
   ],
   "source": [
    "splitcsv(load)"
   ]
  }
 ],
 "metadata": {
  "colab": {
   "name": "LikesTweets.ipynb",
   "provenance": []
  },
  "kernelspec": {
   "display_name": "Python 3",
   "language": "python",
   "name": "python3"
  },
  "language_info": {
   "codemirror_mode": {
    "name": "ipython",
    "version": 3
   },
   "file_extension": ".py",
   "mimetype": "text/x-python",
   "name": "python",
   "nbconvert_exporter": "python",
   "pygments_lexer": "ipython3",
   "version": "3.8.8"
  }
 },
 "nbformat": 4,
 "nbformat_minor": 1
}
